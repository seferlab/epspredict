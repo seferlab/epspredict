{
 "cells": [
  {
   "cell_type": "code",
   "execution_count": 1,
   "metadata": {
    "collapsed": true,
    "ExecuteTime": {
     "end_time": "2024-07-09T08:40:09.312950Z",
     "start_time": "2024-07-09T08:40:08.841228Z"
    }
   },
   "outputs": [],
   "source": [
    "import pandas as pd\n",
    "import backtrader as bt\n",
    "import datetime\n",
    "import yfinance as yf\n",
    "import backtrader.analyzers as btanalyzers\n",
    "import matplotlib.pyplot as plt\n"
   ]
  },
  {
   "cell_type": "code",
   "execution_count": 2,
   "outputs": [
    {
     "data": {
      "text/plain": "           PENDS OFTIC     EPS\n0     2011-06-30  AAPL  0.2782\n1     2011-09-30  AAPL  0.2518\n2     2011-12-31  AAPL  0.4954\n3     2012-03-31  AAPL  0.4393\n4     2012-06-30  AAPL  0.3329\n...          ...   ...     ...\n9655  2018-12-31  ZION  1.0800\n9656  2019-03-31  ZION  1.0400\n9657  2019-06-30  ZION  0.9900\n9658  2019-09-30  ZION  1.1700\n9659  2019-12-31  ZION  0.9700\n\n[9660 rows x 3 columns]",
      "text/html": "<div>\n<style scoped>\n    .dataframe tbody tr th:only-of-type {\n        vertical-align: middle;\n    }\n\n    .dataframe tbody tr th {\n        vertical-align: top;\n    }\n\n    .dataframe thead th {\n        text-align: right;\n    }\n</style>\n<table border=\"1\" class=\"dataframe\">\n  <thead>\n    <tr style=\"text-align: right;\">\n      <th></th>\n      <th>PENDS</th>\n      <th>OFTIC</th>\n      <th>EPS</th>\n    </tr>\n  </thead>\n  <tbody>\n    <tr>\n      <th>0</th>\n      <td>2011-06-30</td>\n      <td>AAPL</td>\n      <td>0.2782</td>\n    </tr>\n    <tr>\n      <th>1</th>\n      <td>2011-09-30</td>\n      <td>AAPL</td>\n      <td>0.2518</td>\n    </tr>\n    <tr>\n      <th>2</th>\n      <td>2011-12-31</td>\n      <td>AAPL</td>\n      <td>0.4954</td>\n    </tr>\n    <tr>\n      <th>3</th>\n      <td>2012-03-31</td>\n      <td>AAPL</td>\n      <td>0.4393</td>\n    </tr>\n    <tr>\n      <th>4</th>\n      <td>2012-06-30</td>\n      <td>AAPL</td>\n      <td>0.3329</td>\n    </tr>\n    <tr>\n      <th>...</th>\n      <td>...</td>\n      <td>...</td>\n      <td>...</td>\n    </tr>\n    <tr>\n      <th>9655</th>\n      <td>2018-12-31</td>\n      <td>ZION</td>\n      <td>1.0800</td>\n    </tr>\n    <tr>\n      <th>9656</th>\n      <td>2019-03-31</td>\n      <td>ZION</td>\n      <td>1.0400</td>\n    </tr>\n    <tr>\n      <th>9657</th>\n      <td>2019-06-30</td>\n      <td>ZION</td>\n      <td>0.9900</td>\n    </tr>\n    <tr>\n      <th>9658</th>\n      <td>2019-09-30</td>\n      <td>ZION</td>\n      <td>1.1700</td>\n    </tr>\n    <tr>\n      <th>9659</th>\n      <td>2019-12-31</td>\n      <td>ZION</td>\n      <td>0.9700</td>\n    </tr>\n  </tbody>\n</table>\n<p>9660 rows × 3 columns</p>\n</div>"
     },
     "execution_count": 2,
     "metadata": {},
     "output_type": "execute_result"
    }
   ],
   "source": [
    "data = pd.read_csv(\"predicted_vs_actual_eps.csv\")\n",
    "data\n",
    "eps_data = pd.read_csv(\"eps_values.csv\")\n",
    "eps_data"
   ],
   "metadata": {
    "collapsed": false,
    "ExecuteTime": {
     "end_time": "2024-07-09T08:40:09.583380Z",
     "start_time": "2024-07-09T08:40:09.425746Z"
    }
   }
  },
  {
   "cell_type": "code",
   "execution_count": 3,
   "outputs": [
    {
     "data": {
      "text/plain": "           PENDS OFTIC     EPS\n0     2011-06-30  AAPL  0.2782\n1     2011-09-30  AAPL  0.2518\n2     2011-12-31  AAPL  0.4954\n3     2012-03-31  AAPL  0.4393\n4     2012-06-30  AAPL  0.3329\n...          ...   ...     ...\n9655  2018-12-31  ZION  1.0800\n9656  2019-03-31  ZION  1.0400\n9657  2019-06-30  ZION  0.9900\n9658  2019-09-30  ZION  1.1700\n9659  2019-12-31  ZION  0.9700\n\n[9660 rows x 3 columns]",
      "text/html": "<div>\n<style scoped>\n    .dataframe tbody tr th:only-of-type {\n        vertical-align: middle;\n    }\n\n    .dataframe tbody tr th {\n        vertical-align: top;\n    }\n\n    .dataframe thead th {\n        text-align: right;\n    }\n</style>\n<table border=\"1\" class=\"dataframe\">\n  <thead>\n    <tr style=\"text-align: right;\">\n      <th></th>\n      <th>PENDS</th>\n      <th>OFTIC</th>\n      <th>EPS</th>\n    </tr>\n  </thead>\n  <tbody>\n    <tr>\n      <th>0</th>\n      <td>2011-06-30</td>\n      <td>AAPL</td>\n      <td>0.2782</td>\n    </tr>\n    <tr>\n      <th>1</th>\n      <td>2011-09-30</td>\n      <td>AAPL</td>\n      <td>0.2518</td>\n    </tr>\n    <tr>\n      <th>2</th>\n      <td>2011-12-31</td>\n      <td>AAPL</td>\n      <td>0.4954</td>\n    </tr>\n    <tr>\n      <th>3</th>\n      <td>2012-03-31</td>\n      <td>AAPL</td>\n      <td>0.4393</td>\n    </tr>\n    <tr>\n      <th>4</th>\n      <td>2012-06-30</td>\n      <td>AAPL</td>\n      <td>0.3329</td>\n    </tr>\n    <tr>\n      <th>...</th>\n      <td>...</td>\n      <td>...</td>\n      <td>...</td>\n    </tr>\n    <tr>\n      <th>9655</th>\n      <td>2018-12-31</td>\n      <td>ZION</td>\n      <td>1.0800</td>\n    </tr>\n    <tr>\n      <th>9656</th>\n      <td>2019-03-31</td>\n      <td>ZION</td>\n      <td>1.0400</td>\n    </tr>\n    <tr>\n      <th>9657</th>\n      <td>2019-06-30</td>\n      <td>ZION</td>\n      <td>0.9900</td>\n    </tr>\n    <tr>\n      <th>9658</th>\n      <td>2019-09-30</td>\n      <td>ZION</td>\n      <td>1.1700</td>\n    </tr>\n    <tr>\n      <th>9659</th>\n      <td>2019-12-31</td>\n      <td>ZION</td>\n      <td>0.9700</td>\n    </tr>\n  </tbody>\n</table>\n<p>9660 rows × 3 columns</p>\n</div>"
     },
     "execution_count": 3,
     "metadata": {},
     "output_type": "execute_result"
    }
   ],
   "source": [
    "eps_data"
   ],
   "metadata": {
    "collapsed": false,
    "ExecuteTime": {
     "end_time": "2024-07-09T08:40:10.300935Z",
     "start_time": "2024-07-09T08:40:10.263709Z"
    }
   }
  },
  {
   "cell_type": "code",
   "execution_count": 4,
   "outputs": [],
   "source": [
    "data['Tarih'] = pd.to_datetime(data['Tarih'])\n",
    "eps_data['PENDS'] = pd.to_datetime(eps_data['PENDS'])\n",
    "\n",
    "# Difference sütununu oluşturma\n",
    "def calculate_percentage_difference(row):\n",
    "    matching_eps = eps_data.loc[(eps_data['PENDS'] == row['Tarih'] - pd.DateOffset(years=1)) & (eps_data['OFTIC'] == row['OFTIC']), 'EPS']\n",
    "    if not matching_eps.empty:\n",
    "        diff = row['Predicted EPS'] - matching_eps.values[0]\n",
    "        return diff / matching_eps.values[0]\n",
    "    return None\n",
    "\n",
    "data['Difference'] = data.apply(calculate_percentage_difference, axis=1)"
   ],
   "metadata": {
    "collapsed": false,
    "ExecuteTime": {
     "end_time": "2024-07-09T08:40:13.504037Z",
     "start_time": "2024-07-09T08:40:10.980060Z"
    }
   }
  },
  {
   "cell_type": "code",
   "execution_count": 5,
   "outputs": [
    {
     "data": {
      "text/plain": "          Tarih OFTIC  Predicted EPS  Actual EPS  Difference\n0    2018-06-30  AAPL       0.641207      0.5850    0.535825\n1    2018-09-30  AAPL       0.628007      0.7275    0.213540\n2    2018-12-31  AAPL       0.985615      1.0450    0.013486\n3    2019-03-31  AAPL       0.839935      0.6150    0.230675\n4    2019-06-30  AAPL       0.706372      0.5450    0.207474\n...         ...   ...            ...         ...         ...\n1927 2018-12-31  ZION       1.042711      1.0800    0.303389\n1928 2019-03-31  ZION       1.143554      1.0400    0.049132\n1929 2019-06-30  ZION       1.105849      0.9900    0.242527\n1930 2019-09-30  ZION       1.078871      1.1700    0.037375\n1931 2019-12-31  ZION       1.185223      0.9700    0.097429\n\n[1932 rows x 5 columns]",
      "text/html": "<div>\n<style scoped>\n    .dataframe tbody tr th:only-of-type {\n        vertical-align: middle;\n    }\n\n    .dataframe tbody tr th {\n        vertical-align: top;\n    }\n\n    .dataframe thead th {\n        text-align: right;\n    }\n</style>\n<table border=\"1\" class=\"dataframe\">\n  <thead>\n    <tr style=\"text-align: right;\">\n      <th></th>\n      <th>Tarih</th>\n      <th>OFTIC</th>\n      <th>Predicted EPS</th>\n      <th>Actual EPS</th>\n      <th>Difference</th>\n    </tr>\n  </thead>\n  <tbody>\n    <tr>\n      <th>0</th>\n      <td>2018-06-30</td>\n      <td>AAPL</td>\n      <td>0.641207</td>\n      <td>0.5850</td>\n      <td>0.535825</td>\n    </tr>\n    <tr>\n      <th>1</th>\n      <td>2018-09-30</td>\n      <td>AAPL</td>\n      <td>0.628007</td>\n      <td>0.7275</td>\n      <td>0.213540</td>\n    </tr>\n    <tr>\n      <th>2</th>\n      <td>2018-12-31</td>\n      <td>AAPL</td>\n      <td>0.985615</td>\n      <td>1.0450</td>\n      <td>0.013486</td>\n    </tr>\n    <tr>\n      <th>3</th>\n      <td>2019-03-31</td>\n      <td>AAPL</td>\n      <td>0.839935</td>\n      <td>0.6150</td>\n      <td>0.230675</td>\n    </tr>\n    <tr>\n      <th>4</th>\n      <td>2019-06-30</td>\n      <td>AAPL</td>\n      <td>0.706372</td>\n      <td>0.5450</td>\n      <td>0.207474</td>\n    </tr>\n    <tr>\n      <th>...</th>\n      <td>...</td>\n      <td>...</td>\n      <td>...</td>\n      <td>...</td>\n      <td>...</td>\n    </tr>\n    <tr>\n      <th>1927</th>\n      <td>2018-12-31</td>\n      <td>ZION</td>\n      <td>1.042711</td>\n      <td>1.0800</td>\n      <td>0.303389</td>\n    </tr>\n    <tr>\n      <th>1928</th>\n      <td>2019-03-31</td>\n      <td>ZION</td>\n      <td>1.143554</td>\n      <td>1.0400</td>\n      <td>0.049132</td>\n    </tr>\n    <tr>\n      <th>1929</th>\n      <td>2019-06-30</td>\n      <td>ZION</td>\n      <td>1.105849</td>\n      <td>0.9900</td>\n      <td>0.242527</td>\n    </tr>\n    <tr>\n      <th>1930</th>\n      <td>2019-09-30</td>\n      <td>ZION</td>\n      <td>1.078871</td>\n      <td>1.1700</td>\n      <td>0.037375</td>\n    </tr>\n    <tr>\n      <th>1931</th>\n      <td>2019-12-31</td>\n      <td>ZION</td>\n      <td>1.185223</td>\n      <td>0.9700</td>\n      <td>0.097429</td>\n    </tr>\n  </tbody>\n</table>\n<p>1932 rows × 5 columns</p>\n</div>"
     },
     "execution_count": 5,
     "metadata": {},
     "output_type": "execute_result"
    }
   ],
   "source": [
    "data"
   ],
   "metadata": {
    "collapsed": false,
    "ExecuteTime": {
     "end_time": "2024-07-09T08:40:15.063348Z",
     "start_time": "2024-07-09T08:40:14.990324Z"
    }
   }
  },
  {
   "cell_type": "code",
   "execution_count": 6,
   "outputs": [],
   "source": [
    "# Predicted EPS değerlerinin bir dönem sonrasını hesaplamak\n",
    "#data['Predicted EPS Next'] = data.groupby('OFTIC')['Predicted EPS'].shift(-1)\n",
    "\n",
    "# Yeni sütunu oluşturmak: Actual EPS değerinden bir sonraki dönemin Predicted EPS değerini çıkar\n",
    "#data['Difference'] = data.apply(lambda row: 0 if row['Actual EPS'] == 0 else (row['Predicted EPS Next'] - row['Actual EPS']) / row['Actual EPS'], axis=1)\n",
    "# İlk satırların eksik olmasını önlemek için satırları filtrele\n",
    "#data = data.dropna(subset=['Difference'])"
   ],
   "metadata": {
    "collapsed": false,
    "ExecuteTime": {
     "end_time": "2024-07-09T08:40:15.503361Z",
     "start_time": "2024-07-09T08:40:15.490312Z"
    }
   }
  },
  {
   "cell_type": "code",
   "execution_count": 7,
   "outputs": [
    {
     "name": "stdout",
     "output_type": "stream",
     "text": [
      "Tarih: 2018-06-30 00:00:00\n",
      "       Tarih OFTIC  Predicted EPS  Actual EPS  Difference\n",
      "0 2018-06-30   APA       0.981861       0.500   -5.675529\n",
      "1 2018-06-30  INCY       0.114735       0.260   -2.912249\n",
      "2 2018-06-30   HES      -0.074305      -0.230   -0.947301\n",
      "3 2018-06-30  DXCM      -0.010895      -0.025   -0.727624\n",
      "4 2018-06-30  PODD      -0.047398      -0.030   -0.635403\n",
      "Tarih: 2018-09-30 00:00:00\n",
      "       Tarih OFTIC  Predicted EPS  Actual EPS  Difference\n",
      "5 2018-09-30  TRGP       0.197994     -0.2400   -2.237460\n",
      "6 2018-09-30    CF       0.372873      0.1300   -1.956083\n",
      "7 2018-09-30   MOH       1.023137      2.5500   -1.631566\n",
      "8 2018-09-30  DXCM       0.004630      0.0425   -1.463009\n",
      "9 2018-09-30   HES       0.151683      0.3800   -1.130761\n",
      "Tarih: 2018-12-31 00:00:00\n",
      "        Tarih OFTIC  Predicted EPS  Actual EPS  Difference\n",
      "10 2018-12-31    CF       0.543209        0.21  -28.160455\n",
      "11 2018-12-31  FSLR       1.130895        0.49   -5.523580\n",
      "12 2018-12-31  TRGP       0.256658        0.32   -4.208226\n",
      "13 2018-12-31   HES       0.385675       -0.31   -1.381856\n",
      "14 2018-12-31   MOH       0.366777        3.07   -1.107245\n",
      "Tarih: 2019-03-31 00:00:00\n",
      "        Tarih OFTIC  Predicted EPS  Actual EPS  Difference\n",
      "15 2019-03-31  INCY       0.288528      0.6200  -29.852767\n",
      "16 2019-03-31    BG       1.158462      0.3600  -20.307698\n",
      "17 2019-03-31  TRGP       0.449128     -0.2998  -15.970944\n",
      "18 2019-03-31  EXPE       1.252926     -0.2700   -3.723753\n",
      "19 2019-03-31   HES       0.722023      0.0900   -3.674158\n",
      "Tarih: 2019-06-30 00:00:00\n",
      "        Tarih OFTIC  Predicted EPS  Actual EPS  Difference\n",
      "20 2019-06-30  TRGP       0.448745       -0.18  -23.437245\n",
      "21 2019-06-30   HES       0.745522       -0.09   -4.241400\n",
      "22 2019-06-30  FSLR       1.020697       -0.18   -3.218906\n",
      "23 2019-06-30  DXCM       0.036359        0.02   -2.454364\n",
      "24 2019-06-30  SBAC       0.503572        0.28   -2.007145\n",
      "Tarih: 2019-09-30 00:00:00\n",
      "        Tarih OFTIC  Predicted EPS  Actual EPS  Difference\n",
      "25 2019-09-30  TRGP       0.210168      -0.620   -1.875702\n",
      "26 2019-09-30  TSLA       0.073484       0.124   -0.619842\n",
      "27 2019-09-30   NUE       1.479385       0.900   -0.365071\n",
      "28 2019-09-30    BG       1.668236       1.410   -0.338002\n",
      "29 2019-09-30  STLD       1.144821       0.690   -0.322591\n",
      "Tarih: 2019-12-31 00:00:00\n",
      "        Tarih OFTIC  Predicted EPS  Actual EPS  Difference\n",
      "30 2019-12-31   NRG       2.356377        0.43  -14.090984\n",
      "31 2019-12-31   ARE       1.086197        1.74   -4.620656\n",
      "32 2019-12-31   HES       0.692553       -0.60   -3.234043\n",
      "33 2019-12-31  PODD       0.079698        0.08   -0.501885\n",
      "34 2019-12-31   NUE       1.256718        0.52   -0.392890\n",
      "Tarih: 2018-06-30 00:00:00\n",
      "       Tarih OFTIC  Predicted EPS  Actual EPS  Difference\n",
      "0 2018-06-30  CHTR       8.933562        1.15   16.179927\n",
      "1 2018-06-30   UDR       0.405265        0.07   12.508838\n",
      "2 2018-06-30   MOH       0.921507        3.08   10.518837\n",
      "3 2018-06-30   EOG       0.804683        1.37    9.058539\n",
      "4 2018-06-30   OXY       1.026388        1.22    5.842587\n",
      "Tarih: 2018-09-30 00:00:00\n",
      "       Tarih OFTIC  Predicted EPS  Actual EPS  Difference\n",
      "5 2018-09-30  CHTR       7.477645        1.36   38.356026\n",
      "6 2018-09-30   APA       1.058709        0.63   25.467725\n",
      "7 2018-09-30   EQR       3.305173        0.60    7.932901\n",
      "8 2018-09-30   UDR       0.435675        0.07    6.261253\n",
      "9 2018-09-30   OXY       1.092756        1.77    5.070868\n",
      "Tarih: 2018-12-31 00:00:00\n",
      "        Tarih OFTIC  Predicted EPS  Actual EPS  Difference\n",
      "10 2018-12-31   EQR       4.271126        0.31   11.562135\n",
      "11 2018-12-31  SBAC       0.518068        0.50    7.634466\n",
      "12 2018-12-31  CHTR       9.481464        1.29    7.317074\n",
      "13 2018-12-31   NRG       1.972421       -0.18    6.889682\n",
      "14 2018-12-31  POOL       1.390552        0.41    3.213794\n",
      "Tarih: 2019-03-31 00:00:00\n",
      "        Tarih OFTIC  Predicted EPS  Actual EPS  Difference\n",
      "15 2019-03-31  CHTR       9.764544        1.11   12.949349\n",
      "16 2019-03-31   MLM       1.396476        0.47    7.727978\n",
      "17 2019-03-31   EQR       4.795559        0.28    7.413261\n",
      "18 2019-03-31   APA       1.382518        0.10    3.320368\n",
      "19 2019-03-31   MOS       0.831192        0.25    3.155961\n",
      "Tarih: 2019-06-30 00:00:00\n",
      "        Tarih OFTIC  Predicted EPS  Actual EPS  Difference\n",
      "20 2019-06-30   EQR       4.933460        0.83   14.914387\n",
      "21 2019-06-30   NRG       2.198691        0.70   10.572056\n",
      "22 2019-06-30  CHTR      11.108660        1.39    8.659704\n",
      "23 2019-06-30    BG       0.862531        0.61    7.625314\n",
      "24 2019-06-30   UDR       0.583835        0.12    7.340497\n",
      "Tarih: 2019-09-30 00:00:00\n",
      "        Tarih OFTIC  Predicted EPS  Actual EPS  Difference\n",
      "25 2019-09-30  NVDA       0.536591    0.405041   20.463660\n",
      "26 2019-09-30   EQR       5.076401    0.710000    7.460668\n",
      "27 2019-09-30   UDR       0.583998    0.090000    7.342827\n",
      "28 2019-09-30  CHTR      10.272719    1.740000    6.553470\n",
      "29 2019-09-30    CF       0.779047    0.370000    4.992668\n",
      "Tarih: 2019-12-31 00:00:00\n",
      "        Tarih OFTIC  Predicted EPS  Actual EPS  Difference\n",
      "30 2019-12-31  NVDA       0.716511    0.065543   27.660433\n",
      "31 2019-12-31    BX       1.159197    0.720000   22.183948\n",
      "32 2019-12-31   EQR       6.622829    0.770000   20.363966\n",
      "33 2019-12-31    BG       1.348949    1.270000   15.861860\n",
      "34 2019-12-31  CHTR      11.629797    3.280000    8.015347\n"
     ]
    },
    {
     "name": "stderr",
     "output_type": "stream",
     "text": [
      "/var/folders/8y/1xpfmccx4pdc37lkv_91bn840000gn/T/ipykernel_99109/1750795588.py:1: DeprecationWarning: DataFrameGroupBy.apply operated on the grouping columns. This behavior is deprecated, and in a future version of pandas the grouping columns will be excluded from the operation. Either pass `include_groups=False` to exclude the groupings or explicitly select the grouping columns after groupby to silence this warning.\n",
      "  lowest_5_companies = data.groupby('Tarih').apply(lambda x: x.nsmallest(5, 'Difference')).reset_index(drop=True)\n",
      "/var/folders/8y/1xpfmccx4pdc37lkv_91bn840000gn/T/ipykernel_99109/1750795588.py:2: DeprecationWarning: DataFrameGroupBy.apply operated on the grouping columns. This behavior is deprecated, and in a future version of pandas the grouping columns will be excluded from the operation. Either pass `include_groups=False` to exclude the groupings or explicitly select the grouping columns after groupby to silence this warning.\n",
      "  highest_5_companies = data.groupby('Tarih').apply(lambda x: x.nlargest(5, 'Difference')).reset_index(drop=True)\n"
     ]
    }
   ],
   "source": [
    "lowest_5_companies = data.groupby('Tarih').apply(lambda x: x.nsmallest(5, 'Difference')).reset_index(drop=True)\n",
    "highest_5_companies = data.groupby('Tarih').apply(lambda x: x.nlargest(5, 'Difference')).reset_index(drop=True)\n",
    "\n",
    "data['Decile'] = 2  # Varsayılan değer olarak 2\n",
    "for date in data['Tarih'].unique():\n",
    "    lowest_companies = lowest_5_companies[lowest_5_companies['Tarih'] == date]\n",
    "    highest_companies = highest_5_companies[highest_5_companies['Tarih'] == date]\n",
    "\n",
    "    data.loc[(data['Tarih'] == date) & (data['OFTIC'].isin(lowest_companies['OFTIC'])), 'Decile'] = 2\n",
    "    data.loc[(data['Tarih'] == date) & (data['OFTIC'].isin(highest_companies['OFTIC'])), 'Decile'] = 5\n",
    "\n",
    "# Her dönem için en düşük 5 şirketi görmek\n",
    "for date in lowest_5_companies['Tarih'].unique():\n",
    "    companies_in_decile = lowest_5_companies[lowest_5_companies['Tarih'] == date]\n",
    "    print(f\"Tarih: {date}\")\n",
    "    print(companies_in_decile)\n",
    "\n",
    "# Her dönem için en yüksek 5 şirketi görmek\n",
    "for date in highest_5_companies['Tarih'].unique():\n",
    "    companies_in_decile = highest_5_companies[highest_5_companies['Tarih'] == date]\n",
    "    print(f\"Tarih: {date}\")\n",
    "    print(companies_in_decile)"
   ],
   "metadata": {
    "collapsed": false,
    "ExecuteTime": {
     "end_time": "2024-07-09T08:40:16.294750Z",
     "start_time": "2024-07-09T08:40:16.253663Z"
    }
   }
  },
  {
   "cell_type": "code",
   "execution_count": 8,
   "outputs": [
    {
     "data": {
      "text/plain": "        Tarih OFTIC  Predicted EPS  Actual EPS  Difference\n25 2019-09-30  NVDA       0.536591    0.405041   20.463660\n30 2019-12-31  NVDA       0.716511    0.065543   27.660433",
      "text/html": "<div>\n<style scoped>\n    .dataframe tbody tr th:only-of-type {\n        vertical-align: middle;\n    }\n\n    .dataframe tbody tr th {\n        vertical-align: top;\n    }\n\n    .dataframe thead th {\n        text-align: right;\n    }\n</style>\n<table border=\"1\" class=\"dataframe\">\n  <thead>\n    <tr style=\"text-align: right;\">\n      <th></th>\n      <th>Tarih</th>\n      <th>OFTIC</th>\n      <th>Predicted EPS</th>\n      <th>Actual EPS</th>\n      <th>Difference</th>\n    </tr>\n  </thead>\n  <tbody>\n    <tr>\n      <th>25</th>\n      <td>2019-09-30</td>\n      <td>NVDA</td>\n      <td>0.536591</td>\n      <td>0.405041</td>\n      <td>20.463660</td>\n    </tr>\n    <tr>\n      <th>30</th>\n      <td>2019-12-31</td>\n      <td>NVDA</td>\n      <td>0.716511</td>\n      <td>0.065543</td>\n      <td>27.660433</td>\n    </tr>\n  </tbody>\n</table>\n</div>"
     },
     "execution_count": 8,
     "metadata": {},
     "output_type": "execute_result"
    }
   ],
   "source": [
    "highest_5_companies[highest_5_companies['OFTIC']=='NVDA']"
   ],
   "metadata": {
    "collapsed": false,
    "ExecuteTime": {
     "end_time": "2024-07-09T08:40:18.655082Z",
     "start_time": "2024-07-09T08:40:18.470819Z"
    }
   }
  },
  {
   "cell_type": "code",
   "execution_count": 9,
   "outputs": [
    {
     "name": "stdout",
     "output_type": "stream",
     "text": [
      "['CHTR' 'UDR' 'MOH' 'EOG' 'OXY' 'APA' 'EQR' 'SBAC' 'NRG' 'POOL' 'MLM'\n",
      " 'MOS' 'BG' 'NVDA' 'CF' 'BX']\n"
     ]
    }
   ],
   "source": [
    "print(highest_5_companies['OFTIC'].unique())"
   ],
   "metadata": {
    "collapsed": false,
    "ExecuteTime": {
     "end_time": "2024-07-09T08:40:19.681773Z",
     "start_time": "2024-07-09T08:40:19.654201Z"
    }
   }
  },
  {
   "cell_type": "code",
   "execution_count": 10,
   "outputs": [],
   "source": [
    "#data['Decile'] = data.groupby('Tarih')['Difference'].transform(\n",
    "  #  lambda x: pd.qcut(x, q=5, labels=False, duplicates='drop') + 1)\n",
    "\n",
    "# Her dönem için 1. ve 5. decile'daki şirketleri belirlemek\n",
    "#decile_1_companies = data[data['Decile'].isin([1])]\n",
    "#decile_5_companies = data[data['Decile'].isin([5])]\n",
    "\n",
    "\n",
    "\n",
    "# Her dönem için 1. ve 5. decile'daki şirketleri görmek\n",
    "#for date in decile_1_companies['Tarih'].unique():\n",
    " #   companies_in_decile = decile_1_companies[decile_1_companies['Tarih'] == date]\n",
    "  #  print(f\"Tarih: {date}\")\n",
    "   # print(companies_in_decile)"
   ],
   "metadata": {
    "collapsed": false,
    "ExecuteTime": {
     "end_time": "2024-07-09T08:40:20.380980Z",
     "start_time": "2024-07-09T08:40:20.371320Z"
    }
   }
  },
  {
   "cell_type": "code",
   "execution_count": 11,
   "outputs": [
    {
     "data": {
      "text/plain": "       Tarih OFTIC  Predicted EPS  Actual EPS  Difference  Decile\n0 2018-06-30  AAPL       0.641207      0.5850    0.535825       2\n1 2018-09-30  AAPL       0.628007      0.7275    0.213540       2\n2 2018-12-31  AAPL       0.985615      1.0450    0.013486       2\n3 2019-03-31  AAPL       0.839935      0.6150    0.230675       2\n4 2019-06-30  AAPL       0.706372      0.5450    0.207474       2\n5 2019-09-30  AAPL       0.695098      0.7575   -0.044539       2\n6 2019-12-31  AAPL       1.022004      1.2475   -0.022006       2",
      "text/html": "<div>\n<style scoped>\n    .dataframe tbody tr th:only-of-type {\n        vertical-align: middle;\n    }\n\n    .dataframe tbody tr th {\n        vertical-align: top;\n    }\n\n    .dataframe thead th {\n        text-align: right;\n    }\n</style>\n<table border=\"1\" class=\"dataframe\">\n  <thead>\n    <tr style=\"text-align: right;\">\n      <th></th>\n      <th>Tarih</th>\n      <th>OFTIC</th>\n      <th>Predicted EPS</th>\n      <th>Actual EPS</th>\n      <th>Difference</th>\n      <th>Decile</th>\n    </tr>\n  </thead>\n  <tbody>\n    <tr>\n      <th>0</th>\n      <td>2018-06-30</td>\n      <td>AAPL</td>\n      <td>0.641207</td>\n      <td>0.5850</td>\n      <td>0.535825</td>\n      <td>2</td>\n    </tr>\n    <tr>\n      <th>1</th>\n      <td>2018-09-30</td>\n      <td>AAPL</td>\n      <td>0.628007</td>\n      <td>0.7275</td>\n      <td>0.213540</td>\n      <td>2</td>\n    </tr>\n    <tr>\n      <th>2</th>\n      <td>2018-12-31</td>\n      <td>AAPL</td>\n      <td>0.985615</td>\n      <td>1.0450</td>\n      <td>0.013486</td>\n      <td>2</td>\n    </tr>\n    <tr>\n      <th>3</th>\n      <td>2019-03-31</td>\n      <td>AAPL</td>\n      <td>0.839935</td>\n      <td>0.6150</td>\n      <td>0.230675</td>\n      <td>2</td>\n    </tr>\n    <tr>\n      <th>4</th>\n      <td>2019-06-30</td>\n      <td>AAPL</td>\n      <td>0.706372</td>\n      <td>0.5450</td>\n      <td>0.207474</td>\n      <td>2</td>\n    </tr>\n    <tr>\n      <th>5</th>\n      <td>2019-09-30</td>\n      <td>AAPL</td>\n      <td>0.695098</td>\n      <td>0.7575</td>\n      <td>-0.044539</td>\n      <td>2</td>\n    </tr>\n    <tr>\n      <th>6</th>\n      <td>2019-12-31</td>\n      <td>AAPL</td>\n      <td>1.022004</td>\n      <td>1.2475</td>\n      <td>-0.022006</td>\n      <td>2</td>\n    </tr>\n  </tbody>\n</table>\n</div>"
     },
     "execution_count": 11,
     "metadata": {},
     "output_type": "execute_result"
    }
   ],
   "source": [
    "data[data['OFTIC']=='AAPL']"
   ],
   "metadata": {
    "collapsed": false,
    "ExecuteTime": {
     "end_time": "2024-07-09T08:40:21.223915Z",
     "start_time": "2024-07-09T08:40:21.202052Z"
    }
   }
  },
  {
   "cell_type": "code",
   "execution_count": 12,
   "outputs": [
    {
     "name": "stderr",
     "output_type": "stream",
     "text": [
      "[*********************100%%**********************]  1 of 1 completed\n",
      "[*********************100%%**********************]  1 of 1 completed\n",
      "[*********************100%%**********************]  1 of 1 completed\n",
      "[*********************100%%**********************]  1 of 1 completed\n",
      "[*********************100%%**********************]  1 of 1 completed\n",
      "[*********************100%%**********************]  1 of 1 completed\n",
      "[*********************100%%**********************]  1 of 1 completed\n",
      "[*********************100%%**********************]  1 of 1 completed\n",
      "[*********************100%%**********************]  1 of 1 completed\n",
      "[*********************100%%**********************]  1 of 1 completed\n",
      "[*********************100%%**********************]  1 of 1 completed\n",
      "[*********************100%%**********************]  1 of 1 completed\n",
      "[*********************100%%**********************]  1 of 1 completed\n",
      "[*********************100%%**********************]  1 of 1 completed\n",
      "[*********************100%%**********************]  1 of 1 completed\n",
      "[*********************100%%**********************]  1 of 1 completed\n",
      "[*********************100%%**********************]  1 of 1 completed\n",
      "[*********************100%%**********************]  1 of 1 completed\n",
      "[*********************100%%**********************]  1 of 1 completed\n",
      "[*********************100%%**********************]  1 of 1 completed\n",
      "[*********************100%%**********************]  1 of 1 completed\n",
      "[*********************100%%**********************]  1 of 1 completed\n",
      "[*********************100%%**********************]  1 of 1 completed\n",
      "[*********************100%%**********************]  1 of 1 completed\n",
      "[*********************100%%**********************]  1 of 1 completed\n",
      "[*********************100%%**********************]  1 of 1 completed\n",
      "[*********************100%%**********************]  1 of 1 completed\n",
      "[*********************100%%**********************]  1 of 1 completed\n",
      "[*********************100%%**********************]  1 of 1 completed\n",
      "[*********************100%%**********************]  1 of 1 completed\n",
      "[*********************100%%**********************]  1 of 1 completed\n",
      "[*********************100%%**********************]  1 of 1 completed\n",
      "[*********************100%%**********************]  1 of 1 completed\n",
      "[*********************100%%**********************]  1 of 1 completed\n",
      "[*********************100%%**********************]  1 of 1 completed\n",
      "[*********************100%%**********************]  1 of 1 completed\n",
      "[*********************100%%**********************]  1 of 1 completed\n",
      "[*********************100%%**********************]  1 of 1 completed\n",
      "[*********************100%%**********************]  1 of 1 completed\n",
      "[*********************100%%**********************]  1 of 1 completed\n",
      "[*********************100%%**********************]  1 of 1 completed\n",
      "[*********************100%%**********************]  1 of 1 completed\n",
      "[*********************100%%**********************]  1 of 1 completed\n",
      "[*********************100%%**********************]  1 of 1 completed\n",
      "[*********************100%%**********************]  1 of 1 completed\n",
      "[*********************100%%**********************]  1 of 1 completed\n",
      "[*********************100%%**********************]  1 of 1 completed\n",
      "[*********************100%%**********************]  1 of 1 completed\n",
      "[*********************100%%**********************]  1 of 1 completed\n",
      "[*********************100%%**********************]  1 of 1 completed\n",
      "[*********************100%%**********************]  1 of 1 completed\n",
      "[*********************100%%**********************]  1 of 1 completed\n",
      "[*********************100%%**********************]  1 of 1 completed\n",
      "[*********************100%%**********************]  1 of 1 completed\n",
      "[*********************100%%**********************]  1 of 1 completed\n",
      "[*********************100%%**********************]  1 of 1 completed\n",
      "[*********************100%%**********************]  1 of 1 completed\n",
      "[*********************100%%**********************]  1 of 1 completed\n",
      "[*********************100%%**********************]  1 of 1 completed\n",
      "[*********************100%%**********************]  1 of 1 completed\n",
      "[*********************100%%**********************]  1 of 1 completed\n",
      "[*********************100%%**********************]  1 of 1 completed\n",
      "[*********************100%%**********************]  1 of 1 completed\n",
      "[*********************100%%**********************]  1 of 1 completed\n",
      "[*********************100%%**********************]  1 of 1 completed\n",
      "[*********************100%%**********************]  1 of 1 completed\n",
      "[*********************100%%**********************]  1 of 1 completed\n",
      "[*********************100%%**********************]  1 of 1 completed\n",
      "[*********************100%%**********************]  1 of 1 completed\n",
      "[*********************100%%**********************]  1 of 1 completed\n",
      "[*********************100%%**********************]  1 of 1 completed\n",
      "[*********************100%%**********************]  1 of 1 completed\n",
      "[*********************100%%**********************]  1 of 1 completed\n",
      "[*********************100%%**********************]  1 of 1 completed\n",
      "[*********************100%%**********************]  1 of 1 completed\n",
      "[*********************100%%**********************]  1 of 1 completed\n",
      "[*********************100%%**********************]  1 of 1 completed\n",
      "[*********************100%%**********************]  1 of 1 completed\n",
      "[*********************100%%**********************]  1 of 1 completed\n",
      "[*********************100%%**********************]  1 of 1 completed\n",
      "[*********************100%%**********************]  1 of 1 completed\n",
      "[*********************100%%**********************]  1 of 1 completed\n",
      "[*********************100%%**********************]  1 of 1 completed\n",
      "[*********************100%%**********************]  1 of 1 completed\n",
      "[*********************100%%**********************]  1 of 1 completed\n",
      "[*********************100%%**********************]  1 of 1 completed\n",
      "[*********************100%%**********************]  1 of 1 completed\n",
      "[*********************100%%**********************]  1 of 1 completed\n",
      "[*********************100%%**********************]  1 of 1 completed\n",
      "[*********************100%%**********************]  1 of 1 completed\n",
      "[*********************100%%**********************]  1 of 1 completed\n",
      "[*********************100%%**********************]  1 of 1 completed\n",
      "[*********************100%%**********************]  1 of 1 completed\n",
      "[*********************100%%**********************]  1 of 1 completed\n",
      "[*********************100%%**********************]  1 of 1 completed\n",
      "[*********************100%%**********************]  1 of 1 completed\n",
      "[*********************100%%**********************]  1 of 1 completed\n",
      "[*********************100%%**********************]  1 of 1 completed\n",
      "[*********************100%%**********************]  1 of 1 completed\n",
      "[*********************100%%**********************]  1 of 1 completed\n",
      "[*********************100%%**********************]  1 of 1 completed\n",
      "[*********************100%%**********************]  1 of 1 completed\n",
      "[*********************100%%**********************]  1 of 1 completed\n",
      "[*********************100%%**********************]  1 of 1 completed\n",
      "[*********************100%%**********************]  1 of 1 completed\n",
      "[*********************100%%**********************]  1 of 1 completed\n",
      "[*********************100%%**********************]  1 of 1 completed\n",
      "[*********************100%%**********************]  1 of 1 completed\n",
      "[*********************100%%**********************]  1 of 1 completed\n",
      "[*********************100%%**********************]  1 of 1 completed\n",
      "[*********************100%%**********************]  1 of 1 completed\n",
      "[*********************100%%**********************]  1 of 1 completed\n",
      "[*********************100%%**********************]  1 of 1 completed\n",
      "[*********************100%%**********************]  1 of 1 completed\n",
      "[*********************100%%**********************]  1 of 1 completed\n",
      "[*********************100%%**********************]  1 of 1 completed\n",
      "[*********************100%%**********************]  1 of 1 completed\n",
      "[*********************100%%**********************]  1 of 1 completed\n",
      "[*********************100%%**********************]  1 of 1 completed\n",
      "[*********************100%%**********************]  1 of 1 completed\n",
      "[*********************100%%**********************]  1 of 1 completed\n",
      "[*********************100%%**********************]  1 of 1 completed\n",
      "[*********************100%%**********************]  1 of 1 completed\n",
      "[*********************100%%**********************]  1 of 1 completed\n",
      "[*********************100%%**********************]  1 of 1 completed\n",
      "[*********************100%%**********************]  1 of 1 completed\n",
      "[*********************100%%**********************]  1 of 1 completed\n",
      "[*********************100%%**********************]  1 of 1 completed\n",
      "[*********************100%%**********************]  1 of 1 completed\n",
      "[*********************100%%**********************]  1 of 1 completed\n",
      "[*********************100%%**********************]  1 of 1 completed\n",
      "[*********************100%%**********************]  1 of 1 completed\n",
      "[*********************100%%**********************]  1 of 1 completed\n",
      "[*********************100%%**********************]  1 of 1 completed\n",
      "[*********************100%%**********************]  1 of 1 completed\n",
      "[*********************100%%**********************]  1 of 1 completed\n",
      "[*********************100%%**********************]  1 of 1 completed\n",
      "[*********************100%%**********************]  1 of 1 completed\n",
      "[*********************100%%**********************]  1 of 1 completed\n",
      "[*********************100%%**********************]  1 of 1 completed\n",
      "[*********************100%%**********************]  1 of 1 completed\n",
      "[*********************100%%**********************]  1 of 1 completed\n",
      "[*********************100%%**********************]  1 of 1 completed\n",
      "[*********************100%%**********************]  1 of 1 completed\n",
      "[*********************100%%**********************]  1 of 1 completed\n",
      "[*********************100%%**********************]  1 of 1 completed\n",
      "[*********************100%%**********************]  1 of 1 completed\n",
      "[*********************100%%**********************]  1 of 1 completed\n",
      "[*********************100%%**********************]  1 of 1 completed\n",
      "[*********************100%%**********************]  1 of 1 completed\n",
      "[*********************100%%**********************]  1 of 1 completed\n",
      "[*********************100%%**********************]  1 of 1 completed\n",
      "[*********************100%%**********************]  1 of 1 completed\n",
      "[*********************100%%**********************]  1 of 1 completed\n",
      "[*********************100%%**********************]  1 of 1 completed\n",
      "[*********************100%%**********************]  1 of 1 completed\n",
      "[*********************100%%**********************]  1 of 1 completed\n",
      "[*********************100%%**********************]  1 of 1 completed\n",
      "[*********************100%%**********************]  1 of 1 completed\n",
      "[*********************100%%**********************]  1 of 1 completed\n",
      "[*********************100%%**********************]  1 of 1 completed\n",
      "[*********************100%%**********************]  1 of 1 completed\n",
      "[*********************100%%**********************]  1 of 1 completed\n",
      "[*********************100%%**********************]  1 of 1 completed\n",
      "[*********************100%%**********************]  1 of 1 completed\n",
      "[*********************100%%**********************]  1 of 1 completed\n",
      "[*********************100%%**********************]  1 of 1 completed\n",
      "[*********************100%%**********************]  1 of 1 completed\n",
      "[*********************100%%**********************]  1 of 1 completed\n",
      "[*********************100%%**********************]  1 of 1 completed\n",
      "[*********************100%%**********************]  1 of 1 completed\n",
      "[*********************100%%**********************]  1 of 1 completed\n",
      "[*********************100%%**********************]  1 of 1 completed\n",
      "[*********************100%%**********************]  1 of 1 completed\n",
      "[*********************100%%**********************]  1 of 1 completed\n",
      "[*********************100%%**********************]  1 of 1 completed\n",
      "[*********************100%%**********************]  1 of 1 completed\n",
      "[*********************100%%**********************]  1 of 1 completed\n",
      "[*********************100%%**********************]  1 of 1 completed\n",
      "[*********************100%%**********************]  1 of 1 completed\n",
      "[*********************100%%**********************]  1 of 1 completed\n",
      "[*********************100%%**********************]  1 of 1 completed\n",
      "[*********************100%%**********************]  1 of 1 completed\n",
      "[*********************100%%**********************]  1 of 1 completed\n",
      "[*********************100%%**********************]  1 of 1 completed\n",
      "[*********************100%%**********************]  1 of 1 completed\n",
      "[*********************100%%**********************]  1 of 1 completed\n",
      "[*********************100%%**********************]  1 of 1 completed\n",
      "[*********************100%%**********************]  1 of 1 completed\n",
      "[*********************100%%**********************]  1 of 1 completed\n",
      "[*********************100%%**********************]  1 of 1 completed\n",
      "[*********************100%%**********************]  1 of 1 completed\n",
      "[*********************100%%**********************]  1 of 1 completed\n",
      "[*********************100%%**********************]  1 of 1 completed\n",
      "[*********************100%%**********************]  1 of 1 completed\n",
      "[*********************100%%**********************]  1 of 1 completed\n",
      "[*********************100%%**********************]  1 of 1 completed\n",
      "[*********************100%%**********************]  1 of 1 completed\n",
      "[*********************100%%**********************]  1 of 1 completed\n",
      "[*********************100%%**********************]  1 of 1 completed\n",
      "[*********************100%%**********************]  1 of 1 completed\n",
      "[*********************100%%**********************]  1 of 1 completed\n",
      "[*********************100%%**********************]  1 of 1 completed\n",
      "[*********************100%%**********************]  1 of 1 completed\n",
      "[*********************100%%**********************]  1 of 1 completed\n",
      "[*********************100%%**********************]  1 of 1 completed\n",
      "[*********************100%%**********************]  1 of 1 completed\n",
      "[*********************100%%**********************]  1 of 1 completed\n",
      "\n",
      "1 Failed download:\n",
      "['PXD']: Exception('%ticker%: No data found, symbol may be delisted')\n",
      "[*********************100%%**********************]  1 of 1 completed\n",
      "[*********************100%%**********************]  1 of 1 completed\n",
      "[*********************100%%**********************]  1 of 1 completed\n",
      "[*********************100%%**********************]  1 of 1 completed\n",
      "[*********************100%%**********************]  1 of 1 completed\n",
      "[*********************100%%**********************]  1 of 1 completed\n",
      "[*********************100%%**********************]  1 of 1 completed\n",
      "[*********************100%%**********************]  1 of 1 completed\n",
      "[*********************100%%**********************]  1 of 1 completed\n",
      "[*********************100%%**********************]  1 of 1 completed\n",
      "[*********************100%%**********************]  1 of 1 completed\n",
      "[*********************100%%**********************]  1 of 1 completed\n",
      "[*********************100%%**********************]  1 of 1 completed\n",
      "[*********************100%%**********************]  1 of 1 completed\n",
      "[*********************100%%**********************]  1 of 1 completed\n",
      "[*********************100%%**********************]  1 of 1 completed\n",
      "[*********************100%%**********************]  1 of 1 completed\n",
      "[*********************100%%**********************]  1 of 1 completed\n",
      "[*********************100%%**********************]  1 of 1 completed\n",
      "[*********************100%%**********************]  1 of 1 completed\n",
      "[*********************100%%**********************]  1 of 1 completed\n",
      "[*********************100%%**********************]  1 of 1 completed\n",
      "[*********************100%%**********************]  1 of 1 completed\n",
      "[*********************100%%**********************]  1 of 1 completed\n",
      "[*********************100%%**********************]  1 of 1 completed\n",
      "[*********************100%%**********************]  1 of 1 completed\n",
      "[*********************100%%**********************]  1 of 1 completed\n",
      "[*********************100%%**********************]  1 of 1 completed\n",
      "[*********************100%%**********************]  1 of 1 completed\n",
      "[*********************100%%**********************]  1 of 1 completed\n",
      "[*********************100%%**********************]  1 of 1 completed\n",
      "[*********************100%%**********************]  1 of 1 completed\n",
      "[*********************100%%**********************]  1 of 1 completed\n",
      "[*********************100%%**********************]  1 of 1 completed\n",
      "[*********************100%%**********************]  1 of 1 completed\n",
      "[*********************100%%**********************]  1 of 1 completed\n",
      "[*********************100%%**********************]  1 of 1 completed\n",
      "[*********************100%%**********************]  1 of 1 completed\n",
      "[*********************100%%**********************]  1 of 1 completed\n",
      "[*********************100%%**********************]  1 of 1 completed\n",
      "[*********************100%%**********************]  1 of 1 completed\n",
      "[*********************100%%**********************]  1 of 1 completed\n",
      "[*********************100%%**********************]  1 of 1 completed\n",
      "[*********************100%%**********************]  1 of 1 completed\n",
      "[*********************100%%**********************]  1 of 1 completed\n",
      "[*********************100%%**********************]  1 of 1 completed\n",
      "[*********************100%%**********************]  1 of 1 completed\n",
      "[*********************100%%**********************]  1 of 1 completed\n",
      "[*********************100%%**********************]  1 of 1 completed\n",
      "\n",
      "1 Failed download:\n",
      "['VLO']: ReadTimeout(ReadTimeoutError(\"HTTPSConnectionPool(host='query2.finance.yahoo.com', port=443): Read timed out. (read timeout=10)\"))\n",
      "[*********************100%%**********************]  1 of 1 completed\n",
      "[*********************100%%**********************]  1 of 1 completed\n",
      "[*********************100%%**********************]  1 of 1 completed\n",
      "[*********************100%%**********************]  1 of 1 completed\n",
      "[*********************100%%**********************]  1 of 1 completed\n",
      "[*********************100%%**********************]  1 of 1 completed\n",
      "[*********************100%%**********************]  1 of 1 completed\n",
      "[*********************100%%**********************]  1 of 1 completed\n",
      "[*********************100%%**********************]  1 of 1 completed\n",
      "[*********************100%%**********************]  1 of 1 completed\n",
      "[*********************100%%**********************]  1 of 1 completed\n",
      "[*********************100%%**********************]  1 of 1 completed\n",
      "[*********************100%%**********************]  1 of 1 completed\n",
      "[*********************100%%**********************]  1 of 1 completed\n",
      "[*********************100%%**********************]  1 of 1 completed\n",
      "[*********************100%%**********************]  1 of 1 completed\n",
      "[*********************100%%**********************]  1 of 1 completed\n",
      "[*********************100%%**********************]  1 of 1 completed\n",
      "[*********************100%%**********************]  1 of 1 completed\n"
     ]
    }
   ],
   "source": [
    "# Tarih aralığını belirle\n",
    "start_date = '2018-06-25'\n",
    "end_date = '2019-12-31'\n",
    "\n",
    "# Benzersiz şirketleri al\n",
    "tickers = data['OFTIC'].unique()\n",
    "\n",
    "# Hisse fiyatlarını yfinance'dan çekmek\n",
    "price_data = {}\n",
    "for ticker in tickers:\n",
    "    ticker_data = yf.download(ticker, start=start_date, end=end_date)\n",
    "    price_data[ticker] = ticker_data['Adj Close']\n",
    "\n",
    "# Hisse fiyatlarını bir DataFrame'de birleştir\n",
    "price_df = pd.DataFrame(price_data)\n",
    "price_df.index.name = 'Date'"
   ],
   "metadata": {
    "collapsed": false,
    "ExecuteTime": {
     "end_time": "2024-07-09T08:41:16.806687Z",
     "start_time": "2024-07-09T08:40:22.140082Z"
    }
   }
  },
  {
   "cell_type": "code",
   "execution_count": 145,
   "outputs": [
    {
     "name": "stdout",
     "output_type": "stream",
     "text": [
      "Hisse fiyatları başarıyla çekildi ve kaydedildi: historical_prices.csv\n"
     ]
    }
   ],
   "source": [
    "price_df.to_csv('historical_prices.csv')\n",
    "print(\"Hisse fiyatları başarıyla çekildi ve kaydedildi: historical_prices.csv\")"
   ],
   "metadata": {
    "collapsed": false,
    "ExecuteTime": {
     "end_time": "2024-07-07T13:30:11.728329Z",
     "start_time": "2024-07-07T13:30:11.636681Z"
    }
   }
  },
  {
   "cell_type": "code",
   "execution_count": 13,
   "outputs": [
    {
     "data": {
      "text/plain": "                          AAPL        AFL        ALB         AMT       AMZN  \\\nDate                                                                          \n2018-06-25 00:00:00  43.293915  38.137524  85.365768  123.137283  83.157501   \n2018-06-26 00:00:00  43.831028  38.068317  85.885605  124.020874  84.554497   \n2018-06-27 00:00:00  43.766857  37.557854  86.711800  124.176804  83.025497   \n2018-06-28 00:00:00  44.085312  37.384811  86.925308  124.965073  85.072502   \n2018-06-29 00:00:00  43.992630  37.220425  87.565834  124.887093  84.989998   \n...                        ...        ...        ...         ...        ...   \n2019-12-23 00:00:00  68.988754  46.940777  69.110275  201.421982  89.650002   \n2019-12-24 00:00:00  69.054344  47.137333  69.005318  201.519653  89.460503   \n2019-12-26 00:00:00  70.424377  47.012249  69.167534  203.124130  93.438499   \n2019-12-27 00:00:00  70.397675  47.012249  68.709534  204.202759  93.489998   \n2019-12-30 00:00:00  70.815483  47.119465  68.633202  203.997742  92.344498   \n\n                           ANSS         AON        AOS        APA         APD  \\\nDate                                                                            \n2018-06-25 00:00:00  177.149994  130.424683  52.914898  38.016220  134.167282   \n2018-06-26 00:00:00  177.270004  130.472076  53.444046  38.923897  134.253418   \n2018-06-27 00:00:00  171.690002  127.857880  53.166016  40.439610  133.650467   \n2018-06-28 00:00:00  172.929993  128.985016  52.502338  40.483673  134.399841   \n2018-06-29 00:00:00  174.179993  129.922684  53.049438  41.197464  135.093826   \n...                         ...         ...        ...        ...         ...   \n2019-12-23 00:00:00  255.729996  200.338501  43.423706  24.532406  210.193405   \n2019-12-24 00:00:00  256.489990  200.242065  43.755325  24.199511  210.112961   \n2019-12-26 00:00:00  258.329987  200.483109  43.976410  24.291983  211.033676   \n2019-12-27 00:00:00  258.679993  200.058914  44.040886  24.153276  210.506241   \n2019-12-30 00:00:00  256.799988  200.184219  43.819801  23.579958  210.363220   \n\n                     ...        WFC          WM        WMB        WRB  \\\nDate                 ...                                                \n2018-06-25 00:00:00  ...  45.323166   73.591599  18.755613  28.847532   \n2018-06-26 00:00:00  ...  44.878002   73.492500  18.936825  28.624365   \n2018-06-27 00:00:00  ...  44.752007   72.060310  18.860157  28.134960   \n2018-06-28 00:00:00  ...  45.045990   72.753891  18.936825  28.236753   \n2018-06-29 00:00:00  ...  46.566277   73.267311  18.895010  28.350292   \n...                  ...        ...         ...        ...        ...   \n2019-12-23 00:00:00  ...  47.739006  104.656715  18.172300  41.877129   \n2019-12-24 00:00:00  ...  47.747887  104.369362  18.096392  41.889381   \n2019-12-26 00:00:00  ...  48.040649  104.906982  18.073616  41.919991   \n2019-12-27 00:00:00  ...  47.836601  105.565086  17.906622  41.981209   \n2019-12-30 00:00:00  ...  47.552708  105.453827  17.610582  42.017944   \n\n                            WY        WYNN        XEL        XOM        ZBRA  \\\nDate                                                                           \n2018-06-25 00:00:00  27.566660  155.938934  37.785572  59.460709  142.210007   \n2018-06-26 00:00:00  28.182541  156.556946  37.936211  60.131836  143.220001   \n2018-06-27 00:00:00  27.777155  153.476364  38.237484  60.929699  141.759995   \n2018-06-28 00:00:00  28.151356  153.569977  38.212383  61.123596  143.309998   \n2018-06-29 00:00:00  28.424229  156.688034  38.229130  61.690315  143.250000   \n...                        ...         ...        ...        ...         ...   \n2019-12-23 00:00:00  25.325306  137.299271  54.672661  56.053410  256.730011   \n2019-12-24 00:00:00  25.081633  136.525803  54.886589  55.838089  254.330002   \n2019-12-26 00:00:00  25.199268  137.994446  54.825459  55.925816  254.419998   \n2019-12-27 00:00:00  25.190861  136.888046  55.113598  55.734417  256.000000   \n2019-12-30 00:00:00  25.148853  136.467041  55.262035  55.407471  254.110001   \n\n                          ZION  \nDate                            \n2018-06-25 00:00:00  44.850246  \n2018-06-26 00:00:00  44.357655  \n2018-06-27 00:00:00  43.553089  \n2018-06-28 00:00:00  43.651611  \n2018-06-29 00:00:00  43.257538  \n...                        ...  \n2019-12-23 00:00:00  43.835121  \n2019-12-24 00:00:00  43.997349  \n2019-12-26 00:00:00  44.108345  \n2019-12-27 00:00:00  43.971737  \n2019-12-30 00:00:00  44.202263  \n\n[382 rows x 276 columns]",
      "text/html": "<div>\n<style scoped>\n    .dataframe tbody tr th:only-of-type {\n        vertical-align: middle;\n    }\n\n    .dataframe tbody tr th {\n        vertical-align: top;\n    }\n\n    .dataframe thead th {\n        text-align: right;\n    }\n</style>\n<table border=\"1\" class=\"dataframe\">\n  <thead>\n    <tr style=\"text-align: right;\">\n      <th></th>\n      <th>AAPL</th>\n      <th>AFL</th>\n      <th>ALB</th>\n      <th>AMT</th>\n      <th>AMZN</th>\n      <th>ANSS</th>\n      <th>AON</th>\n      <th>AOS</th>\n      <th>APA</th>\n      <th>APD</th>\n      <th>...</th>\n      <th>WFC</th>\n      <th>WM</th>\n      <th>WMB</th>\n      <th>WRB</th>\n      <th>WY</th>\n      <th>WYNN</th>\n      <th>XEL</th>\n      <th>XOM</th>\n      <th>ZBRA</th>\n      <th>ZION</th>\n    </tr>\n    <tr>\n      <th>Date</th>\n      <th></th>\n      <th></th>\n      <th></th>\n      <th></th>\n      <th></th>\n      <th></th>\n      <th></th>\n      <th></th>\n      <th></th>\n      <th></th>\n      <th></th>\n      <th></th>\n      <th></th>\n      <th></th>\n      <th></th>\n      <th></th>\n      <th></th>\n      <th></th>\n      <th></th>\n      <th></th>\n      <th></th>\n    </tr>\n  </thead>\n  <tbody>\n    <tr>\n      <th>2018-06-25 00:00:00</th>\n      <td>43.293915</td>\n      <td>38.137524</td>\n      <td>85.365768</td>\n      <td>123.137283</td>\n      <td>83.157501</td>\n      <td>177.149994</td>\n      <td>130.424683</td>\n      <td>52.914898</td>\n      <td>38.016220</td>\n      <td>134.167282</td>\n      <td>...</td>\n      <td>45.323166</td>\n      <td>73.591599</td>\n      <td>18.755613</td>\n      <td>28.847532</td>\n      <td>27.566660</td>\n      <td>155.938934</td>\n      <td>37.785572</td>\n      <td>59.460709</td>\n      <td>142.210007</td>\n      <td>44.850246</td>\n    </tr>\n    <tr>\n      <th>2018-06-26 00:00:00</th>\n      <td>43.831028</td>\n      <td>38.068317</td>\n      <td>85.885605</td>\n      <td>124.020874</td>\n      <td>84.554497</td>\n      <td>177.270004</td>\n      <td>130.472076</td>\n      <td>53.444046</td>\n      <td>38.923897</td>\n      <td>134.253418</td>\n      <td>...</td>\n      <td>44.878002</td>\n      <td>73.492500</td>\n      <td>18.936825</td>\n      <td>28.624365</td>\n      <td>28.182541</td>\n      <td>156.556946</td>\n      <td>37.936211</td>\n      <td>60.131836</td>\n      <td>143.220001</td>\n      <td>44.357655</td>\n    </tr>\n    <tr>\n      <th>2018-06-27 00:00:00</th>\n      <td>43.766857</td>\n      <td>37.557854</td>\n      <td>86.711800</td>\n      <td>124.176804</td>\n      <td>83.025497</td>\n      <td>171.690002</td>\n      <td>127.857880</td>\n      <td>53.166016</td>\n      <td>40.439610</td>\n      <td>133.650467</td>\n      <td>...</td>\n      <td>44.752007</td>\n      <td>72.060310</td>\n      <td>18.860157</td>\n      <td>28.134960</td>\n      <td>27.777155</td>\n      <td>153.476364</td>\n      <td>38.237484</td>\n      <td>60.929699</td>\n      <td>141.759995</td>\n      <td>43.553089</td>\n    </tr>\n    <tr>\n      <th>2018-06-28 00:00:00</th>\n      <td>44.085312</td>\n      <td>37.384811</td>\n      <td>86.925308</td>\n      <td>124.965073</td>\n      <td>85.072502</td>\n      <td>172.929993</td>\n      <td>128.985016</td>\n      <td>52.502338</td>\n      <td>40.483673</td>\n      <td>134.399841</td>\n      <td>...</td>\n      <td>45.045990</td>\n      <td>72.753891</td>\n      <td>18.936825</td>\n      <td>28.236753</td>\n      <td>28.151356</td>\n      <td>153.569977</td>\n      <td>38.212383</td>\n      <td>61.123596</td>\n      <td>143.309998</td>\n      <td>43.651611</td>\n    </tr>\n    <tr>\n      <th>2018-06-29 00:00:00</th>\n      <td>43.992630</td>\n      <td>37.220425</td>\n      <td>87.565834</td>\n      <td>124.887093</td>\n      <td>84.989998</td>\n      <td>174.179993</td>\n      <td>129.922684</td>\n      <td>53.049438</td>\n      <td>41.197464</td>\n      <td>135.093826</td>\n      <td>...</td>\n      <td>46.566277</td>\n      <td>73.267311</td>\n      <td>18.895010</td>\n      <td>28.350292</td>\n      <td>28.424229</td>\n      <td>156.688034</td>\n      <td>38.229130</td>\n      <td>61.690315</td>\n      <td>143.250000</td>\n      <td>43.257538</td>\n    </tr>\n    <tr>\n      <th>...</th>\n      <td>...</td>\n      <td>...</td>\n      <td>...</td>\n      <td>...</td>\n      <td>...</td>\n      <td>...</td>\n      <td>...</td>\n      <td>...</td>\n      <td>...</td>\n      <td>...</td>\n      <td>...</td>\n      <td>...</td>\n      <td>...</td>\n      <td>...</td>\n      <td>...</td>\n      <td>...</td>\n      <td>...</td>\n      <td>...</td>\n      <td>...</td>\n      <td>...</td>\n      <td>...</td>\n    </tr>\n    <tr>\n      <th>2019-12-23 00:00:00</th>\n      <td>68.988754</td>\n      <td>46.940777</td>\n      <td>69.110275</td>\n      <td>201.421982</td>\n      <td>89.650002</td>\n      <td>255.729996</td>\n      <td>200.338501</td>\n      <td>43.423706</td>\n      <td>24.532406</td>\n      <td>210.193405</td>\n      <td>...</td>\n      <td>47.739006</td>\n      <td>104.656715</td>\n      <td>18.172300</td>\n      <td>41.877129</td>\n      <td>25.325306</td>\n      <td>137.299271</td>\n      <td>54.672661</td>\n      <td>56.053410</td>\n      <td>256.730011</td>\n      <td>43.835121</td>\n    </tr>\n    <tr>\n      <th>2019-12-24 00:00:00</th>\n      <td>69.054344</td>\n      <td>47.137333</td>\n      <td>69.005318</td>\n      <td>201.519653</td>\n      <td>89.460503</td>\n      <td>256.489990</td>\n      <td>200.242065</td>\n      <td>43.755325</td>\n      <td>24.199511</td>\n      <td>210.112961</td>\n      <td>...</td>\n      <td>47.747887</td>\n      <td>104.369362</td>\n      <td>18.096392</td>\n      <td>41.889381</td>\n      <td>25.081633</td>\n      <td>136.525803</td>\n      <td>54.886589</td>\n      <td>55.838089</td>\n      <td>254.330002</td>\n      <td>43.997349</td>\n    </tr>\n    <tr>\n      <th>2019-12-26 00:00:00</th>\n      <td>70.424377</td>\n      <td>47.012249</td>\n      <td>69.167534</td>\n      <td>203.124130</td>\n      <td>93.438499</td>\n      <td>258.329987</td>\n      <td>200.483109</td>\n      <td>43.976410</td>\n      <td>24.291983</td>\n      <td>211.033676</td>\n      <td>...</td>\n      <td>48.040649</td>\n      <td>104.906982</td>\n      <td>18.073616</td>\n      <td>41.919991</td>\n      <td>25.199268</td>\n      <td>137.994446</td>\n      <td>54.825459</td>\n      <td>55.925816</td>\n      <td>254.419998</td>\n      <td>44.108345</td>\n    </tr>\n    <tr>\n      <th>2019-12-27 00:00:00</th>\n      <td>70.397675</td>\n      <td>47.012249</td>\n      <td>68.709534</td>\n      <td>204.202759</td>\n      <td>93.489998</td>\n      <td>258.679993</td>\n      <td>200.058914</td>\n      <td>44.040886</td>\n      <td>24.153276</td>\n      <td>210.506241</td>\n      <td>...</td>\n      <td>47.836601</td>\n      <td>105.565086</td>\n      <td>17.906622</td>\n      <td>41.981209</td>\n      <td>25.190861</td>\n      <td>136.888046</td>\n      <td>55.113598</td>\n      <td>55.734417</td>\n      <td>256.000000</td>\n      <td>43.971737</td>\n    </tr>\n    <tr>\n      <th>2019-12-30 00:00:00</th>\n      <td>70.815483</td>\n      <td>47.119465</td>\n      <td>68.633202</td>\n      <td>203.997742</td>\n      <td>92.344498</td>\n      <td>256.799988</td>\n      <td>200.184219</td>\n      <td>43.819801</td>\n      <td>23.579958</td>\n      <td>210.363220</td>\n      <td>...</td>\n      <td>47.552708</td>\n      <td>105.453827</td>\n      <td>17.610582</td>\n      <td>42.017944</td>\n      <td>25.148853</td>\n      <td>136.467041</td>\n      <td>55.262035</td>\n      <td>55.407471</td>\n      <td>254.110001</td>\n      <td>44.202263</td>\n    </tr>\n  </tbody>\n</table>\n<p>382 rows × 276 columns</p>\n</div>"
     },
     "execution_count": 13,
     "metadata": {},
     "output_type": "execute_result"
    }
   ],
   "source": [
    "# Hisse fiyatlarını bir DataFrame'de birleştir\n",
    "price_df = pd.DataFrame(price_data)\n",
    "price_df.index.name = 'Date'\n",
    "\n",
    "# Çekilen veriyi göstermek\n",
    "price_df"
   ],
   "metadata": {
    "collapsed": false,
    "ExecuteTime": {
     "end_time": "2024-07-09T08:41:26.122740Z",
     "start_time": "2024-07-09T08:41:26.087347Z"
    }
   }
  },
  {
   "cell_type": "code",
   "execution_count": 14,
   "outputs": [
    {
     "data": {
      "text/plain": "          Tarih OFTIC  Predicted EPS  Actual EPS  Difference  Decile\n0    2018-06-30  AAPL       0.641207      0.5850    0.535825       2\n1    2018-09-30  AAPL       0.628007      0.7275    0.213540       2\n2    2018-12-31  AAPL       0.985615      1.0450    0.013486       2\n3    2019-03-31  AAPL       0.839935      0.6150    0.230675       2\n4    2019-06-30  AAPL       0.706372      0.5450    0.207474       2\n...         ...   ...            ...         ...         ...     ...\n1927 2018-12-31  ZION       1.042711      1.0800    0.303389       2\n1928 2019-03-31  ZION       1.143554      1.0400    0.049132       2\n1929 2019-06-30  ZION       1.105849      0.9900    0.242527       2\n1930 2019-09-30  ZION       1.078871      1.1700    0.037375       2\n1931 2019-12-31  ZION       1.185223      0.9700    0.097429       2\n\n[1932 rows x 6 columns]",
      "text/html": "<div>\n<style scoped>\n    .dataframe tbody tr th:only-of-type {\n        vertical-align: middle;\n    }\n\n    .dataframe tbody tr th {\n        vertical-align: top;\n    }\n\n    .dataframe thead th {\n        text-align: right;\n    }\n</style>\n<table border=\"1\" class=\"dataframe\">\n  <thead>\n    <tr style=\"text-align: right;\">\n      <th></th>\n      <th>Tarih</th>\n      <th>OFTIC</th>\n      <th>Predicted EPS</th>\n      <th>Actual EPS</th>\n      <th>Difference</th>\n      <th>Decile</th>\n    </tr>\n  </thead>\n  <tbody>\n    <tr>\n      <th>0</th>\n      <td>2018-06-30</td>\n      <td>AAPL</td>\n      <td>0.641207</td>\n      <td>0.5850</td>\n      <td>0.535825</td>\n      <td>2</td>\n    </tr>\n    <tr>\n      <th>1</th>\n      <td>2018-09-30</td>\n      <td>AAPL</td>\n      <td>0.628007</td>\n      <td>0.7275</td>\n      <td>0.213540</td>\n      <td>2</td>\n    </tr>\n    <tr>\n      <th>2</th>\n      <td>2018-12-31</td>\n      <td>AAPL</td>\n      <td>0.985615</td>\n      <td>1.0450</td>\n      <td>0.013486</td>\n      <td>2</td>\n    </tr>\n    <tr>\n      <th>3</th>\n      <td>2019-03-31</td>\n      <td>AAPL</td>\n      <td>0.839935</td>\n      <td>0.6150</td>\n      <td>0.230675</td>\n      <td>2</td>\n    </tr>\n    <tr>\n      <th>4</th>\n      <td>2019-06-30</td>\n      <td>AAPL</td>\n      <td>0.706372</td>\n      <td>0.5450</td>\n      <td>0.207474</td>\n      <td>2</td>\n    </tr>\n    <tr>\n      <th>...</th>\n      <td>...</td>\n      <td>...</td>\n      <td>...</td>\n      <td>...</td>\n      <td>...</td>\n      <td>...</td>\n    </tr>\n    <tr>\n      <th>1927</th>\n      <td>2018-12-31</td>\n      <td>ZION</td>\n      <td>1.042711</td>\n      <td>1.0800</td>\n      <td>0.303389</td>\n      <td>2</td>\n    </tr>\n    <tr>\n      <th>1928</th>\n      <td>2019-03-31</td>\n      <td>ZION</td>\n      <td>1.143554</td>\n      <td>1.0400</td>\n      <td>0.049132</td>\n      <td>2</td>\n    </tr>\n    <tr>\n      <th>1929</th>\n      <td>2019-06-30</td>\n      <td>ZION</td>\n      <td>1.105849</td>\n      <td>0.9900</td>\n      <td>0.242527</td>\n      <td>2</td>\n    </tr>\n    <tr>\n      <th>1930</th>\n      <td>2019-09-30</td>\n      <td>ZION</td>\n      <td>1.078871</td>\n      <td>1.1700</td>\n      <td>0.037375</td>\n      <td>2</td>\n    </tr>\n    <tr>\n      <th>1931</th>\n      <td>2019-12-31</td>\n      <td>ZION</td>\n      <td>1.185223</td>\n      <td>0.9700</td>\n      <td>0.097429</td>\n      <td>2</td>\n    </tr>\n  </tbody>\n</table>\n<p>1932 rows × 6 columns</p>\n</div>"
     },
     "execution_count": 14,
     "metadata": {},
     "output_type": "execute_result"
    }
   ],
   "source": [
    "#data_temp = data.copy()\n",
    "#data_temp\n",
    "#data['Tarih'] = pd.to_datetime(data['Tarih'])\n",
    "\n",
    "#start_date = pd.to_datetime('2018-12-30')\n",
    "\n",
    "# Tarihleri filtreleme\n",
    "#data = data[data['Tarih'] > start_date]\n",
    "data"
   ],
   "metadata": {
    "collapsed": false,
    "ExecuteTime": {
     "end_time": "2024-07-09T08:41:26.648875Z",
     "start_time": "2024-07-09T08:41:26.594610Z"
    }
   }
  },
  {
   "cell_type": "code",
   "execution_count": 15,
   "outputs": [
    {
     "data": {
      "text/plain": "          Tarih OFTIC  Predicted EPS  Actual EPS  Difference  Decile\n0    2018-06-30  AAPL       0.641207      0.5850    0.535825       2\n1    2018-09-30  AAPL       0.628007      0.7275    0.213540       2\n2    2018-12-31  AAPL       0.985615      1.0450    0.013486       2\n3    2019-03-31  AAPL       0.839935      0.6150    0.230675       2\n4    2019-06-30  AAPL       0.706372      0.5450    0.207474       2\n...         ...   ...            ...         ...         ...     ...\n1927 2018-12-31  ZION       1.042711      1.0800    0.303389       2\n1928 2019-03-31  ZION       1.143554      1.0400    0.049132       2\n1929 2019-06-30  ZION       1.105849      0.9900    0.242527       2\n1930 2019-09-30  ZION       1.078871      1.1700    0.037375       2\n1931 2019-12-31  ZION       1.185223      0.9700    0.097429       2\n\n[1932 rows x 6 columns]",
      "text/html": "<div>\n<style scoped>\n    .dataframe tbody tr th:only-of-type {\n        vertical-align: middle;\n    }\n\n    .dataframe tbody tr th {\n        vertical-align: top;\n    }\n\n    .dataframe thead th {\n        text-align: right;\n    }\n</style>\n<table border=\"1\" class=\"dataframe\">\n  <thead>\n    <tr style=\"text-align: right;\">\n      <th></th>\n      <th>Tarih</th>\n      <th>OFTIC</th>\n      <th>Predicted EPS</th>\n      <th>Actual EPS</th>\n      <th>Difference</th>\n      <th>Decile</th>\n    </tr>\n  </thead>\n  <tbody>\n    <tr>\n      <th>0</th>\n      <td>2018-06-30</td>\n      <td>AAPL</td>\n      <td>0.641207</td>\n      <td>0.5850</td>\n      <td>0.535825</td>\n      <td>2</td>\n    </tr>\n    <tr>\n      <th>1</th>\n      <td>2018-09-30</td>\n      <td>AAPL</td>\n      <td>0.628007</td>\n      <td>0.7275</td>\n      <td>0.213540</td>\n      <td>2</td>\n    </tr>\n    <tr>\n      <th>2</th>\n      <td>2018-12-31</td>\n      <td>AAPL</td>\n      <td>0.985615</td>\n      <td>1.0450</td>\n      <td>0.013486</td>\n      <td>2</td>\n    </tr>\n    <tr>\n      <th>3</th>\n      <td>2019-03-31</td>\n      <td>AAPL</td>\n      <td>0.839935</td>\n      <td>0.6150</td>\n      <td>0.230675</td>\n      <td>2</td>\n    </tr>\n    <tr>\n      <th>4</th>\n      <td>2019-06-30</td>\n      <td>AAPL</td>\n      <td>0.706372</td>\n      <td>0.5450</td>\n      <td>0.207474</td>\n      <td>2</td>\n    </tr>\n    <tr>\n      <th>...</th>\n      <td>...</td>\n      <td>...</td>\n      <td>...</td>\n      <td>...</td>\n      <td>...</td>\n      <td>...</td>\n    </tr>\n    <tr>\n      <th>1927</th>\n      <td>2018-12-31</td>\n      <td>ZION</td>\n      <td>1.042711</td>\n      <td>1.0800</td>\n      <td>0.303389</td>\n      <td>2</td>\n    </tr>\n    <tr>\n      <th>1928</th>\n      <td>2019-03-31</td>\n      <td>ZION</td>\n      <td>1.143554</td>\n      <td>1.0400</td>\n      <td>0.049132</td>\n      <td>2</td>\n    </tr>\n    <tr>\n      <th>1929</th>\n      <td>2019-06-30</td>\n      <td>ZION</td>\n      <td>1.105849</td>\n      <td>0.9900</td>\n      <td>0.242527</td>\n      <td>2</td>\n    </tr>\n    <tr>\n      <th>1930</th>\n      <td>2019-09-30</td>\n      <td>ZION</td>\n      <td>1.078871</td>\n      <td>1.1700</td>\n      <td>0.037375</td>\n      <td>2</td>\n    </tr>\n    <tr>\n      <th>1931</th>\n      <td>2019-12-31</td>\n      <td>ZION</td>\n      <td>1.185223</td>\n      <td>0.9700</td>\n      <td>0.097429</td>\n      <td>2</td>\n    </tr>\n  </tbody>\n</table>\n<p>1932 rows × 6 columns</p>\n</div>"
     },
     "execution_count": 15,
     "metadata": {},
     "output_type": "execute_result"
    }
   ],
   "source": [
    "data"
   ],
   "metadata": {
    "collapsed": false,
    "ExecuteTime": {
     "end_time": "2024-07-09T08:41:30.217948Z",
     "start_time": "2024-07-09T08:41:29.929126Z"
    }
   }
  },
  {
   "cell_type": "code",
   "execution_count": 28,
   "outputs": [],
   "source": [
    "data = data[data['OFTIC'] != 'PXD']\n"
   ],
   "metadata": {
    "collapsed": false,
    "ExecuteTime": {
     "end_time": "2024-07-09T09:01:14.065441Z",
     "start_time": "2024-07-09T09:01:13.798713Z"
    }
   }
  },
  {
   "cell_type": "code",
   "execution_count": 32,
   "outputs": [
    {
     "name": "stderr",
     "output_type": "stream",
     "text": [
      "/var/folders/8y/1xpfmccx4pdc37lkv_91bn840000gn/T/ipykernel_99109/4268643722.py:1: SettingWithCopyWarning: \n",
      "A value is trying to be set on a copy of a slice from a DataFrame.\n",
      "Try using .loc[row_indexer,col_indexer] = value instead\n",
      "\n",
      "See the caveats in the documentation: https://pandas.pydata.org/pandas-docs/stable/user_guide/indexing.html#returning-a-view-versus-a-copy\n",
      "  data['Tarih'] = pd.to_datetime(data['Tarih'])\n",
      "[*********************100%%**********************]  1 of 1 completed\n",
      "[*********************100%%**********************]  1 of 1 completed\n",
      "[*********************100%%**********************]  1 of 1 completed\n",
      "[*********************100%%**********************]  1 of 1 completed\n",
      "[*********************100%%**********************]  1 of 1 completed\n",
      "[*********************100%%**********************]  1 of 1 completed\n",
      "[*********************100%%**********************]  1 of 1 completed\n",
      "[*********************100%%**********************]  1 of 1 completed\n",
      "[*********************100%%**********************]  1 of 1 completed\n",
      "[*********************100%%**********************]  1 of 1 completed\n",
      "[*********************100%%**********************]  1 of 1 completed\n",
      "[*********************100%%**********************]  1 of 1 completed\n",
      "[*********************100%%**********************]  1 of 1 completed\n",
      "[*********************100%%**********************]  1 of 1 completed\n",
      "[*********************100%%**********************]  1 of 1 completed\n",
      "[*********************100%%**********************]  1 of 1 completed\n",
      "[*********************100%%**********************]  1 of 1 completed\n",
      "[*********************100%%**********************]  1 of 1 completed\n",
      "[*********************100%%**********************]  1 of 1 completed\n",
      "[*********************100%%**********************]  1 of 1 completed\n",
      "[*********************100%%**********************]  1 of 1 completed\n",
      "[*********************100%%**********************]  1 of 1 completed\n",
      "[*********************100%%**********************]  1 of 1 completed\n",
      "[*********************100%%**********************]  1 of 1 completed\n",
      "[*********************100%%**********************]  1 of 1 completed\n",
      "[*********************100%%**********************]  1 of 1 completed\n",
      "[*********************100%%**********************]  1 of 1 completed\n",
      "[*********************100%%**********************]  1 of 1 completed\n",
      "[*********************100%%**********************]  1 of 1 completed\n",
      "[*********************100%%**********************]  1 of 1 completed\n",
      "[*********************100%%**********************]  1 of 1 completed\n",
      "[*********************100%%**********************]  1 of 1 completed\n",
      "[*********************100%%**********************]  1 of 1 completed\n",
      "[*********************100%%**********************]  1 of 1 completed\n",
      "[*********************100%%**********************]  1 of 1 completed\n",
      "[*********************100%%**********************]  1 of 1 completed\n",
      "[*********************100%%**********************]  1 of 1 completed\n",
      "[*********************100%%**********************]  1 of 1 completed\n",
      "[*********************100%%**********************]  1 of 1 completed\n",
      "[*********************100%%**********************]  1 of 1 completed\n",
      "[*********************100%%**********************]  1 of 1 completed\n",
      "[*********************100%%**********************]  1 of 1 completed\n",
      "[*********************100%%**********************]  1 of 1 completed\n",
      "[*********************100%%**********************]  1 of 1 completed\n",
      "[*********************100%%**********************]  1 of 1 completed\n",
      "[*********************100%%**********************]  1 of 1 completed\n",
      "[*********************100%%**********************]  1 of 1 completed\n",
      "[*********************100%%**********************]  1 of 1 completed\n",
      "[*********************100%%**********************]  1 of 1 completed\n",
      "[*********************100%%**********************]  1 of 1 completed\n",
      "[*********************100%%**********************]  1 of 1 completed\n",
      "[*********************100%%**********************]  1 of 1 completed\n",
      "[*********************100%%**********************]  1 of 1 completed\n",
      "[*********************100%%**********************]  1 of 1 completed\n",
      "[*********************100%%**********************]  1 of 1 completed\n",
      "[*********************100%%**********************]  1 of 1 completed\n",
      "[*********************100%%**********************]  1 of 1 completed\n",
      "[*********************100%%**********************]  1 of 1 completed\n",
      "[*********************100%%**********************]  1 of 1 completed\n",
      "[*********************100%%**********************]  1 of 1 completed\n",
      "[*********************100%%**********************]  1 of 1 completed\n",
      "[*********************100%%**********************]  1 of 1 completed\n",
      "[*********************100%%**********************]  1 of 1 completed\n",
      "[*********************100%%**********************]  1 of 1 completed\n",
      "[*********************100%%**********************]  1 of 1 completed\n",
      "[*********************100%%**********************]  1 of 1 completed\n",
      "[*********************100%%**********************]  1 of 1 completed\n",
      "[*********************100%%**********************]  1 of 1 completed\n",
      "[*********************100%%**********************]  1 of 1 completed\n",
      "[*********************100%%**********************]  1 of 1 completed\n",
      "[*********************100%%**********************]  1 of 1 completed\n",
      "[*********************100%%**********************]  1 of 1 completed\n",
      "[*********************100%%**********************]  1 of 1 completed\n",
      "[*********************100%%**********************]  1 of 1 completed\n",
      "[*********************100%%**********************]  1 of 1 completed\n",
      "[*********************100%%**********************]  1 of 1 completed\n",
      "[*********************100%%**********************]  1 of 1 completed\n",
      "[*********************100%%**********************]  1 of 1 completed\n",
      "[*********************100%%**********************]  1 of 1 completed\n",
      "[*********************100%%**********************]  1 of 1 completed\n",
      "[*********************100%%**********************]  1 of 1 completed\n",
      "[*********************100%%**********************]  1 of 1 completed\n",
      "[*********************100%%**********************]  1 of 1 completed\n",
      "[*********************100%%**********************]  1 of 1 completed\n",
      "[*********************100%%**********************]  1 of 1 completed\n",
      "[*********************100%%**********************]  1 of 1 completed\n",
      "[*********************100%%**********************]  1 of 1 completed\n",
      "[*********************100%%**********************]  1 of 1 completed\n",
      "[*********************100%%**********************]  1 of 1 completed\n",
      "[*********************100%%**********************]  1 of 1 completed\n",
      "[*********************100%%**********************]  1 of 1 completed\n",
      "[*********************100%%**********************]  1 of 1 completed\n",
      "[*********************100%%**********************]  1 of 1 completed\n",
      "[*********************100%%**********************]  1 of 1 completed\n",
      "[*********************100%%**********************]  1 of 1 completed\n",
      "[*********************100%%**********************]  1 of 1 completed\n",
      "[*********************100%%**********************]  1 of 1 completed\n",
      "[*********************100%%**********************]  1 of 1 completed\n",
      "[*********************100%%**********************]  1 of 1 completed\n",
      "[*********************100%%**********************]  1 of 1 completed\n",
      "[*********************100%%**********************]  1 of 1 completed\n",
      "[*********************100%%**********************]  1 of 1 completed\n",
      "[*********************100%%**********************]  1 of 1 completed\n",
      "[*********************100%%**********************]  1 of 1 completed\n",
      "[*********************100%%**********************]  1 of 1 completed\n",
      "[*********************100%%**********************]  1 of 1 completed\n",
      "[*********************100%%**********************]  1 of 1 completed\n",
      "[*********************100%%**********************]  1 of 1 completed\n",
      "[*********************100%%**********************]  1 of 1 completed\n",
      "[*********************100%%**********************]  1 of 1 completed\n",
      "[*********************100%%**********************]  1 of 1 completed\n",
      "[*********************100%%**********************]  1 of 1 completed\n",
      "[*********************100%%**********************]  1 of 1 completed\n",
      "[*********************100%%**********************]  1 of 1 completed\n",
      "[*********************100%%**********************]  1 of 1 completed\n",
      "[*********************100%%**********************]  1 of 1 completed\n",
      "[*********************100%%**********************]  1 of 1 completed\n",
      "[*********************100%%**********************]  1 of 1 completed\n",
      "[*********************100%%**********************]  1 of 1 completed\n",
      "[*********************100%%**********************]  1 of 1 completed\n",
      "[*********************100%%**********************]  1 of 1 completed\n",
      "[*********************100%%**********************]  1 of 1 completed\n",
      "[*********************100%%**********************]  1 of 1 completed\n",
      "[*********************100%%**********************]  1 of 1 completed\n",
      "[*********************100%%**********************]  1 of 1 completed\n",
      "[*********************100%%**********************]  1 of 1 completed\n",
      "[*********************100%%**********************]  1 of 1 completed\n",
      "[*********************100%%**********************]  1 of 1 completed\n",
      "[*********************100%%**********************]  1 of 1 completed\n",
      "[*********************100%%**********************]  1 of 1 completed\n",
      "[*********************100%%**********************]  1 of 1 completed\n",
      "[*********************100%%**********************]  1 of 1 completed\n",
      "[*********************100%%**********************]  1 of 1 completed\n",
      "[*********************100%%**********************]  1 of 1 completed\n",
      "[*********************100%%**********************]  1 of 1 completed\n",
      "[*********************100%%**********************]  1 of 1 completed\n",
      "[*********************100%%**********************]  1 of 1 completed\n",
      "[*********************100%%**********************]  1 of 1 completed\n",
      "[*********************100%%**********************]  1 of 1 completed\n",
      "[*********************100%%**********************]  1 of 1 completed\n",
      "[*********************100%%**********************]  1 of 1 completed\n",
      "[*********************100%%**********************]  1 of 1 completed\n",
      "[*********************100%%**********************]  1 of 1 completed\n",
      "[*********************100%%**********************]  1 of 1 completed\n",
      "[*********************100%%**********************]  1 of 1 completed\n",
      "[*********************100%%**********************]  1 of 1 completed\n",
      "[*********************100%%**********************]  1 of 1 completed\n",
      "[*********************100%%**********************]  1 of 1 completed\n",
      "[*********************100%%**********************]  1 of 1 completed\n",
      "[*********************100%%**********************]  1 of 1 completed\n",
      "[*********************100%%**********************]  1 of 1 completed\n",
      "[*********************100%%**********************]  1 of 1 completed\n",
      "[*********************100%%**********************]  1 of 1 completed\n",
      "[*********************100%%**********************]  1 of 1 completed\n",
      "[*********************100%%**********************]  1 of 1 completed\n",
      "[*********************100%%**********************]  1 of 1 completed\n",
      "[*********************100%%**********************]  1 of 1 completed\n",
      "[*********************100%%**********************]  1 of 1 completed\n",
      "[*********************100%%**********************]  1 of 1 completed\n",
      "[*********************100%%**********************]  1 of 1 completed\n",
      "[*********************100%%**********************]  1 of 1 completed\n",
      "[*********************100%%**********************]  1 of 1 completed\n",
      "[*********************100%%**********************]  1 of 1 completed\n",
      "[*********************100%%**********************]  1 of 1 completed\n",
      "[*********************100%%**********************]  1 of 1 completed\n",
      "[*********************100%%**********************]  1 of 1 completed\n",
      "[*********************100%%**********************]  1 of 1 completed\n",
      "[*********************100%%**********************]  1 of 1 completed\n",
      "[*********************100%%**********************]  1 of 1 completed\n",
      "[*********************100%%**********************]  1 of 1 completed\n",
      "[*********************100%%**********************]  1 of 1 completed\n",
      "[*********************100%%**********************]  1 of 1 completed\n",
      "[*********************100%%**********************]  1 of 1 completed\n",
      "[*********************100%%**********************]  1 of 1 completed\n",
      "[*********************100%%**********************]  1 of 1 completed\n",
      "[*********************100%%**********************]  1 of 1 completed\n",
      "[*********************100%%**********************]  1 of 1 completed\n",
      "[*********************100%%**********************]  1 of 1 completed\n",
      "[*********************100%%**********************]  1 of 1 completed\n",
      "[*********************100%%**********************]  1 of 1 completed\n",
      "[*********************100%%**********************]  1 of 1 completed\n",
      "[*********************100%%**********************]  1 of 1 completed\n",
      "[*********************100%%**********************]  1 of 1 completed\n",
      "[*********************100%%**********************]  1 of 1 completed\n",
      "[*********************100%%**********************]  1 of 1 completed\n",
      "[*********************100%%**********************]  1 of 1 completed\n",
      "[*********************100%%**********************]  1 of 1 completed\n",
      "[*********************100%%**********************]  1 of 1 completed\n",
      "[*********************100%%**********************]  1 of 1 completed\n",
      "[*********************100%%**********************]  1 of 1 completed\n",
      "[*********************100%%**********************]  1 of 1 completed\n",
      "[*********************100%%**********************]  1 of 1 completed\n",
      "[*********************100%%**********************]  1 of 1 completed\n",
      "[*********************100%%**********************]  1 of 1 completed\n",
      "[*********************100%%**********************]  1 of 1 completed\n",
      "[*********************100%%**********************]  1 of 1 completed\n",
      "[*********************100%%**********************]  1 of 1 completed\n",
      "[*********************100%%**********************]  1 of 1 completed\n",
      "[*********************100%%**********************]  1 of 1 completed\n",
      "[*********************100%%**********************]  1 of 1 completed\n",
      "[*********************100%%**********************]  1 of 1 completed\n",
      "[*********************100%%**********************]  1 of 1 completed\n",
      "[*********************100%%**********************]  1 of 1 completed\n",
      "[*********************100%%**********************]  1 of 1 completed\n",
      "[*********************100%%**********************]  1 of 1 completed\n",
      "[*********************100%%**********************]  1 of 1 completed\n",
      "[*********************100%%**********************]  1 of 1 completed\n",
      "[*********************100%%**********************]  1 of 1 completed\n",
      "[*********************100%%**********************]  1 of 1 completed\n",
      "[*********************100%%**********************]  1 of 1 completed\n",
      "[*********************100%%**********************]  1 of 1 completed\n",
      "[*********************100%%**********************]  1 of 1 completed\n",
      "[*********************100%%**********************]  1 of 1 completed\n",
      "[*********************100%%**********************]  1 of 1 completed\n",
      "[*********************100%%**********************]  1 of 1 completed\n",
      "[*********************100%%**********************]  1 of 1 completed\n",
      "[*********************100%%**********************]  1 of 1 completed\n",
      "[*********************100%%**********************]  1 of 1 completed\n",
      "[*********************100%%**********************]  1 of 1 completed\n",
      "[*********************100%%**********************]  1 of 1 completed\n",
      "[*********************100%%**********************]  1 of 1 completed\n",
      "[*********************100%%**********************]  1 of 1 completed\n",
      "[*********************100%%**********************]  1 of 1 completed\n",
      "[*********************100%%**********************]  1 of 1 completed\n",
      "[*********************100%%**********************]  1 of 1 completed\n",
      "[*********************100%%**********************]  1 of 1 completed\n",
      "[*********************100%%**********************]  1 of 1 completed\n",
      "[*********************100%%**********************]  1 of 1 completed\n",
      "[*********************100%%**********************]  1 of 1 completed\n",
      "[*********************100%%**********************]  1 of 1 completed\n",
      "[*********************100%%**********************]  1 of 1 completed\n",
      "[*********************100%%**********************]  1 of 1 completed\n",
      "[*********************100%%**********************]  1 of 1 completed\n",
      "[*********************100%%**********************]  1 of 1 completed\n",
      "[*********************100%%**********************]  1 of 1 completed\n",
      "[*********************100%%**********************]  1 of 1 completed\n",
      "[*********************100%%**********************]  1 of 1 completed\n",
      "[*********************100%%**********************]  1 of 1 completed\n",
      "[*********************100%%**********************]  1 of 1 completed\n",
      "[*********************100%%**********************]  1 of 1 completed\n",
      "[*********************100%%**********************]  1 of 1 completed\n",
      "[*********************100%%**********************]  1 of 1 completed\n",
      "[*********************100%%**********************]  1 of 1 completed\n",
      "[*********************100%%**********************]  1 of 1 completed\n",
      "[*********************100%%**********************]  1 of 1 completed\n",
      "[*********************100%%**********************]  1 of 1 completed\n",
      "[*********************100%%**********************]  1 of 1 completed\n",
      "[*********************100%%**********************]  1 of 1 completed\n",
      "[*********************100%%**********************]  1 of 1 completed\n",
      "[*********************100%%**********************]  1 of 1 completed\n",
      "[*********************100%%**********************]  1 of 1 completed\n",
      "[*********************100%%**********************]  1 of 1 completed\n",
      "[*********************100%%**********************]  1 of 1 completed\n",
      "[*********************100%%**********************]  1 of 1 completed\n",
      "[*********************100%%**********************]  1 of 1 completed\n",
      "[*********************100%%**********************]  1 of 1 completed\n",
      "[*********************100%%**********************]  1 of 1 completed\n",
      "[*********************100%%**********************]  1 of 1 completed\n",
      "[*********************100%%**********************]  1 of 1 completed\n",
      "[*********************100%%**********************]  1 of 1 completed\n",
      "[*********************100%%**********************]  1 of 1 completed\n",
      "[*********************100%%**********************]  1 of 1 completed\n",
      "[*********************100%%**********************]  1 of 1 completed\n",
      "[*********************100%%**********************]  1 of 1 completed\n",
      "[*********************100%%**********************]  1 of 1 completed\n",
      "[*********************100%%**********************]  1 of 1 completed\n",
      "[*********************100%%**********************]  1 of 1 completed\n",
      "[*********************100%%**********************]  1 of 1 completed\n",
      "[*********************100%%**********************]  1 of 1 completed\n",
      "[*********************100%%**********************]  1 of 1 completed\n",
      "[*********************100%%**********************]  1 of 1 completed\n",
      "[*********************100%%**********************]  1 of 1 completed\n",
      "[*********************100%%**********************]  1 of 1 completed\n",
      "[*********************100%%**********************]  1 of 1 completed\n",
      "[*********************100%%**********************]  1 of 1 completed\n"
     ]
    },
    {
     "name": "stdout",
     "output_type": "stream",
     "text": [
      "Starting Portfolio Value: 100000.00\n",
      "num_position=  0\n",
      "num_position=  0\n",
      "num_position=  0\n",
      "num_position=  0\n",
      "num_position=  0\n",
      "cpb=  20000.0\n",
      "num_position=  5\n",
      "CHTR\n",
      "EOG\n",
      "MOH\n",
      "OXY\n",
      "UDR\n",
      "num_position=  0\n",
      "num_position=  0\n",
      "num_position=  0\n",
      "num_position=  0\n",
      "num_position=  0\n",
      "num_position=  0\n",
      "num_position=  0\n",
      "num_position=  0\n",
      "num_position=  0\n",
      "num_position=  0\n",
      "num_position=  0\n",
      "num_position=  0\n",
      "num_position=  0\n",
      "num_position=  0\n",
      "num_position=  0\n",
      "num_position=  0\n",
      "num_position=  0\n",
      "num_position=  0\n",
      "num_position=  0\n",
      "num_position=  0\n",
      "num_position=  0\n",
      "num_position=  0\n",
      "num_position=  0\n",
      "num_position=  0\n",
      "num_position=  0\n",
      "num_position=  0\n",
      "num_position=  0\n",
      "num_position=  0\n",
      "num_position=  0\n",
      "num_position=  0\n",
      "num_position=  0\n",
      "num_position=  0\n",
      "num_position=  0\n",
      "num_position=  0\n",
      "num_position=  0\n",
      "num_position=  0\n",
      "num_position=  0\n",
      "num_position=  0\n",
      "num_position=  0\n",
      "num_position=  0\n",
      "num_position=  0\n",
      "num_position=  0\n",
      "num_position=  0\n",
      "num_position=  0\n",
      "num_position=  0\n",
      "num_position=  0\n",
      "num_position=  0\n",
      "num_position=  0\n",
      "num_position=  0\n",
      "num_position=  0\n",
      "num_position=  0\n",
      "num_position=  0\n",
      "num_position=  0\n",
      "num_position=  0\n",
      "num_position=  0\n",
      "num_position=  0\n",
      "num_position=  0\n",
      "num_position=  0\n",
      "num_position=  0\n",
      "num_position=  0\n",
      "num_position=  0\n",
      "num_position=  0\n",
      "cpb=  9565.606854224758\n",
      "num_position=  2\n",
      "APA\n",
      "EQR\n",
      "num_position=  0\n",
      "num_position=  0\n",
      "num_position=  0\n",
      "num_position=  0\n",
      "num_position=  0\n",
      "num_position=  0\n",
      "num_position=  0\n",
      "num_position=  0\n",
      "num_position=  0\n",
      "num_position=  0\n",
      "num_position=  0\n",
      "num_position=  0\n",
      "num_position=  0\n",
      "num_position=  0\n",
      "num_position=  0\n",
      "num_position=  0\n",
      "num_position=  0\n",
      "num_position=  0\n",
      "num_position=  0\n",
      "num_position=  0\n",
      "num_position=  0\n",
      "num_position=  0\n",
      "num_position=  0\n",
      "num_position=  0\n",
      "num_position=  0\n",
      "num_position=  0\n",
      "num_position=  0\n",
      "num_position=  0\n",
      "num_position=  0\n",
      "num_position=  0\n",
      "num_position=  0\n",
      "num_position=  0\n",
      "num_position=  0\n",
      "num_position=  0\n",
      "num_position=  0\n",
      "num_position=  0\n",
      "num_position=  0\n",
      "num_position=  0\n",
      "num_position=  0\n",
      "num_position=  0\n",
      "num_position=  0\n",
      "num_position=  0\n",
      "num_position=  0\n",
      "num_position=  0\n",
      "num_position=  0\n",
      "num_position=  0\n",
      "num_position=  0\n",
      "num_position=  0\n",
      "num_position=  0\n",
      "num_position=  0\n",
      "num_position=  0\n",
      "num_position=  0\n",
      "num_position=  0\n",
      "num_position=  0\n",
      "num_position=  0\n",
      "num_position=  0\n",
      "num_position=  0\n",
      "num_position=  0\n",
      "num_position=  0\n",
      "num_position=  0\n",
      "num_position=  0\n",
      "cpb=  16963.144061932482\n",
      "num_position=  3\n",
      "NRG\n",
      "POOL\n",
      "SBAC\n",
      "num_position=  0\n",
      "num_position=  0\n",
      "num_position=  0\n",
      "num_position=  0\n",
      "num_position=  0\n",
      "num_position=  0\n",
      "num_position=  0\n",
      "num_position=  0\n",
      "num_position=  0\n",
      "num_position=  0\n",
      "num_position=  0\n",
      "num_position=  0\n",
      "num_position=  0\n",
      "num_position=  0\n",
      "num_position=  0\n",
      "num_position=  0\n",
      "num_position=  0\n",
      "num_position=  0\n",
      "num_position=  0\n",
      "num_position=  0\n",
      "num_position=  0\n",
      "num_position=  0\n",
      "num_position=  0\n",
      "num_position=  0\n",
      "num_position=  0\n",
      "num_position=  0\n",
      "num_position=  0\n",
      "num_position=  0\n",
      "num_position=  0\n",
      "num_position=  0\n",
      "num_position=  0\n",
      "num_position=  0\n",
      "num_position=  0\n",
      "num_position=  0\n",
      "num_position=  0\n",
      "num_position=  0\n",
      "num_position=  0\n",
      "num_position=  0\n",
      "num_position=  0\n",
      "num_position=  0\n",
      "num_position=  0\n",
      "num_position=  0\n",
      "num_position=  0\n",
      "num_position=  0\n",
      "num_position=  0\n",
      "num_position=  0\n",
      "num_position=  0\n",
      "num_position=  0\n",
      "num_position=  0\n",
      "num_position=  0\n",
      "num_position=  0\n",
      "num_position=  0\n",
      "num_position=  0\n",
      "num_position=  0\n",
      "num_position=  0\n",
      "num_position=  0\n",
      "num_position=  0\n",
      "num_position=  0\n",
      "num_position=  0\n",
      "num_position=  0\n",
      "num_position=  0\n",
      "cpb=  7274.147564874625\n",
      "num_position=  3\n",
      "APA\n",
      "MLM\n",
      "MOS\n",
      "num_position=  0\n",
      "num_position=  0\n",
      "num_position=  0\n",
      "num_position=  0\n",
      "num_position=  0\n",
      "num_position=  0\n",
      "num_position=  0\n",
      "num_position=  0\n",
      "num_position=  0\n",
      "num_position=  0\n",
      "num_position=  0\n",
      "num_position=  0\n",
      "num_position=  0\n",
      "num_position=  0\n",
      "num_position=  0\n",
      "num_position=  0\n",
      "num_position=  0\n",
      "num_position=  0\n",
      "num_position=  0\n",
      "num_position=  0\n",
      "num_position=  0\n",
      "num_position=  0\n",
      "num_position=  0\n",
      "num_position=  0\n",
      "num_position=  0\n",
      "num_position=  0\n",
      "num_position=  0\n",
      "num_position=  0\n",
      "num_position=  0\n",
      "num_position=  0\n",
      "num_position=  0\n",
      "num_position=  0\n",
      "num_position=  0\n",
      "num_position=  0\n",
      "num_position=  0\n",
      "num_position=  0\n",
      "num_position=  0\n",
      "num_position=  0\n",
      "num_position=  0\n",
      "num_position=  0\n",
      "num_position=  0\n",
      "num_position=  0\n",
      "num_position=  0\n",
      "num_position=  0\n",
      "num_position=  0\n",
      "num_position=  0\n",
      "num_position=  0\n",
      "num_position=  0\n",
      "num_position=  0\n",
      "num_position=  0\n",
      "num_position=  0\n",
      "num_position=  0\n",
      "num_position=  0\n",
      "num_position=  0\n",
      "num_position=  0\n",
      "num_position=  0\n",
      "num_position=  0\n",
      "num_position=  0\n",
      "num_position=  0\n",
      "num_position=  0\n",
      "num_position=  0\n",
      "num_position=  0\n",
      "cpb=  19482.96336447263\n",
      "num_position=  3\n",
      "BG\n",
      "NRG\n",
      "UDR\n",
      "num_position=  0\n",
      "num_position=  0\n",
      "num_position=  0\n",
      "num_position=  0\n",
      "num_position=  0\n",
      "num_position=  0\n",
      "num_position=  0\n",
      "num_position=  0\n",
      "num_position=  0\n",
      "num_position=  0\n",
      "num_position=  0\n",
      "num_position=  0\n",
      "num_position=  0\n",
      "num_position=  0\n",
      "num_position=  0\n",
      "num_position=  0\n",
      "num_position=  0\n",
      "num_position=  0\n",
      "num_position=  0\n",
      "num_position=  0\n",
      "num_position=  0\n",
      "num_position=  0\n",
      "num_position=  0\n",
      "num_position=  0\n",
      "num_position=  0\n",
      "num_position=  0\n",
      "num_position=  0\n",
      "num_position=  0\n",
      "num_position=  0\n",
      "num_position=  0\n",
      "num_position=  0\n",
      "num_position=  0\n",
      "num_position=  0\n",
      "num_position=  0\n",
      "num_position=  0\n",
      "num_position=  0\n",
      "num_position=  0\n",
      "num_position=  0\n",
      "num_position=  0\n",
      "num_position=  0\n",
      "num_position=  0\n",
      "num_position=  0\n",
      "num_position=  0\n",
      "num_position=  0\n",
      "num_position=  0\n",
      "num_position=  0\n",
      "num_position=  0\n",
      "num_position=  0\n",
      "num_position=  0\n",
      "num_position=  0\n",
      "num_position=  0\n",
      "num_position=  0\n",
      "num_position=  0\n",
      "num_position=  0\n",
      "num_position=  0\n",
      "num_position=  0\n",
      "num_position=  0\n",
      "num_position=  0\n",
      "num_position=  0\n",
      "num_position=  0\n",
      "num_position=  0\n",
      "num_position=  0\n",
      "cpb=  10062.626099276677\n",
      "num_position=  2\n",
      "CF\n",
      "NVDA\n",
      "num_position=  0\n",
      "num_position=  0\n",
      "num_position=  0\n",
      "num_position=  0\n",
      "num_position=  0\n",
      "num_position=  0\n",
      "num_position=  0\n",
      "num_position=  0\n",
      "num_position=  0\n",
      "num_position=  0\n",
      "num_position=  0\n",
      "num_position=  0\n",
      "num_position=  0\n",
      "num_position=  0\n",
      "num_position=  0\n",
      "num_position=  0\n",
      "num_position=  0\n",
      "num_position=  0\n",
      "num_position=  0\n",
      "num_position=  0\n",
      "num_position=  0\n",
      "num_position=  0\n",
      "num_position=  0\n",
      "num_position=  0\n",
      "num_position=  0\n",
      "num_position=  0\n",
      "num_position=  0\n",
      "num_position=  0\n",
      "num_position=  0\n",
      "num_position=  0\n",
      "num_position=  0\n",
      "num_position=  0\n",
      "num_position=  0\n",
      "num_position=  0\n",
      "num_position=  0\n",
      "num_position=  0\n",
      "num_position=  0\n",
      "num_position=  0\n",
      "num_position=  0\n",
      "num_position=  0\n",
      "num_position=  0\n",
      "num_position=  0\n",
      "num_position=  0\n",
      "num_position=  0\n",
      "num_position=  0\n",
      "num_position=  0\n",
      "num_position=  0\n",
      "num_position=  0\n",
      "num_position=  0\n",
      "num_position=  0\n",
      "num_position=  0\n",
      "num_position=  0\n",
      "num_position=  0\n",
      "num_position=  0\n",
      "num_position=  0\n",
      "num_position=  0\n",
      "num_position=  0\n",
      "num_position=  0\n",
      "num_position=  0\n",
      "num_position=  0\n",
      "num_position=  0\n",
      "num_position=  0\n",
      "num_position=  0\n",
      "Final Portfolio Value: 129666.40\n",
      "(datetime.date(2018, 10, 1), 'BUY', 178.51868396408582, 53.58322525024414)\n"
     ]
    },
    {
     "data": {
      "text/plain": "<Figure size 1200x600 with 1 Axes>",
      "image/png": "[encoded data removed]"
     },
     "metadata": {},
     "output_type": "display_data"
    }
   ],
   "source": [
    "data['Tarih'] = pd.to_datetime(data['Tarih'])\n",
    "\n",
    "# Tatil günlerini belirle\n",
    "holidays = [\n",
    "    '2018-12-25',  # Christmas\n",
    "    '2019-01-01',  # New Year\n",
    "    '2019-07-04',  # Independence Day\n",
    "    '2019-04-19',  # Good Friday\n",
    "    '2019-05-27',  # Memorial Day\n",
    "    '2019-09-02',  # Labor Day\n",
    "    '2019-11-28',  # Thanksgiving Day\n",
    "]\n",
    "\n",
    "# Belirli tarihler\n",
    "specific_dates = [\n",
    "    '2018-06-30 00:00:00',\n",
    "    '2018-09-30 00:00:00',\n",
    "    '2018-12-31 00:00:00',\n",
    "    '2019-03-31 00:00:00',\n",
    "    '2019-06-30 00:00:00',\n",
    "    '2019-09-30 00:00:00',\n",
    "    '2019-12-31 00:00:00'\n",
    "]\n",
    "\n",
    "# Tatil günlerini datetime formatına çevir\n",
    "holidays = pd.to_datetime(holidays)\n",
    "\n",
    "# İlk uygun işlem gününü bulma fonksiyonu\n",
    "def find_next_trading_day(date):\n",
    "    while date in holidays or date.weekday() >= 5:  # 5 ve 6, cumartesi ve pazar günlerini temsil eder\n",
    "        date += datetime.timedelta(days=1)\n",
    "    return date\n",
    "\n",
    "# DataFrame'deki tarihleri güncelle\n",
    "for original_date in specific_dates:\n",
    "    original_date = pd.to_datetime(original_date)\n",
    "    if original_date in data['Tarih'].values:\n",
    "        next_trading_day = find_next_trading_day(original_date)\n",
    "        data.loc[data['Tarih'] == original_date, 'Tarih'] = next_trading_day\n",
    "\n",
    "# Backtrader için stratejiyi tanımla\n",
    "class CustomStrategy(bt.Strategy):\n",
    "    def __init__(self):\n",
    "        self.open_orders = {}\n",
    "        self.portfolio_value = []\n",
    "        self.aapl_trades = []\n",
    "\n",
    "    def next(self):\n",
    "        #print(\"Next function is called\")\n",
    "\n",
    "        current_date = self.datas[0].datetime.date(0)\n",
    "        current_date = find_next_trading_day(current_date)\n",
    "\n",
    "        if current_date not in [d[0] for d in self.portfolio_value]:\n",
    "            self.portfolio_value.append((current_date, self.broker.getvalue()))\n",
    "\n",
    "        # Mevcut tarihteki işlemleri belirle\n",
    "        today_data = data[data['Tarih'] == pd.Timestamp(current_date)]\n",
    "        # Portföyü eşit şekilde dağıtmak için her pozisyon için kullanılacak miktarı belirle\n",
    "        current_positions = [pos for pos in self.open_orders if self.open_orders[pos] == 'long']\n",
    "        num_positions = len(today_data[today_data['Decile'] == 5])\n",
    "        for pos in current_positions:\n",
    "            if pos in today_data[today_data['Decile'] == 5]['OFTIC'].values:\n",
    "                num_positions -= 1\n",
    "\n",
    "        if num_positions > 0:\n",
    "            cash_per_position = self.broker.getcash() / num_positions\n",
    "            print(\"cpb= \", cash_per_position)\n",
    "        print(\"num_position= \", num_positions)\n",
    "\n",
    "        for _, row in today_data.iterrows():\n",
    "            ticker = row['OFTIC']\n",
    "            decile = row['Decile']\n",
    "            d = self.getdatabyname(ticker)\n",
    "\n",
    "            # Pozisyon aç\n",
    "            if ticker in self.open_orders:\n",
    "                if decile == 1 and self.open_orders[ticker] == 'long':\n",
    "                    self.close(data=d)\n",
    "                    self.sell(data=d, size=self.getposition(d).size)\n",
    "                    self.open_orders[ticker] = 'short'\n",
    "                    if ticker == 'EQR':\n",
    "                        self.aapl_trades.append((current_date, 'CLOSE & SELL', self.getposition(d).size, d.close[0]))\n",
    "                elif decile == 5 and self.open_orders[ticker] == 'short':\n",
    "                    self.close(data=d)\n",
    "                    self.buy(data=d, size=self.getposition(d).size)\n",
    "                    self.open_orders[ticker] = 'long'\n",
    "                    if ticker == 'EQR':\n",
    "                        self.aapl_trades.append((current_date, 'CLOSE & BUY', self.getposition(d).size, d.close[0]))\n",
    "                elif decile in [2, 3, 4]:\n",
    "                    self.close(data=d)\n",
    "                    del self.open_orders[ticker]\n",
    "                    if ticker == 'EQR':\n",
    "                        self.aapl_trades.append((current_date, 'CLOSE', self.getposition(d).size, d.close[0]))\n",
    "            else:\n",
    "                # Yeni pozisyon aç\n",
    "                if decile == 1:\n",
    "                    size = cash_per_position / d.close[0]\n",
    "                    self.sell(data=d, size=size)\n",
    "                    self.open_orders[ticker] = 'short'\n",
    "                    if ticker == 'EQR':\n",
    "                        self.aapl_trades.append((current_date, 'SELL', size, d.close[0]))\n",
    "                elif decile == 5:\n",
    "                    print(ticker)\n",
    "                    size = cash_per_position / d.close[0]\n",
    "                    self.buy(data=d, size=size)\n",
    "                    self.open_orders[ticker] = 'long'\n",
    "                    if ticker == 'EQR':\n",
    "                        self.aapl_trades.append((current_date, 'BUY', size, d.close[0]))\n",
    "\n",
    "# Backtrader için veriyi hazırlamak\n",
    "class PandasData(bt.feeds.PandasData):\n",
    "    lines = ('decile',)\n",
    "    params = (('decile', -1),)\n",
    "\n",
    "# Veriyi Backtrader'a uygun hale getir ve ekle\n",
    "start_date = '2018-06-25'\n",
    "end_date = '2019-12-31'\n",
    "\n",
    "cerebro = bt.Cerebro()\n",
    "cerebro.addstrategy(CustomStrategy)\n",
    "\n",
    "# Veriyi Backtrader'a uygun hale getir ve ekle\n",
    "tickers = data['OFTIC'].unique()\n",
    "price_data = {}\n",
    "for ticker in tickers:\n",
    "    ticker_data = yf.download(ticker, start=start_date, end=end_date)\n",
    "    price_data[ticker] = ticker_data['Adj Close']\n",
    "\n",
    "    # Sadece 'Adj Close' sütununu kullanarak yeniden adlandır\n",
    "    ticker_data = ticker_data[['Adj Close']].rename(columns={'Adj Close': 'close'})\n",
    "    ticker_data['open'] = ticker_data['close']\n",
    "    ticker_data['high'] = ticker_data['close']\n",
    "    ticker_data['low'] = ticker_data['close']\n",
    "    ticker_data['volume'] = 0\n",
    "    ticker_data['openinterest'] = 0\n",
    "\n",
    "    ticker_decile = data[data['OFTIC'] == ticker][['Tarih', 'Decile']].set_index('Tarih')\n",
    "    ticker_data = ticker_data.join(ticker_decile)\n",
    "    ticker_data.index.name = 'datetime'\n",
    "\n",
    "    feed = PandasData(dataname=ticker_data)\n",
    "    cerebro.adddata(feed, name=ticker)\n",
    "\n",
    "# Başlangıç bakiyesini ayarla\n",
    "cerebro.broker.set_cash(100000.0)\n",
    "\n",
    "# Komisyonu ayarla\n",
    "cerebro.broker.setcommission(commission=0.000)\n",
    "\n",
    "# Başlangıç koşullarını yazdır\n",
    "print('Starting Portfolio Value: %.2f' % cerebro.broker.getvalue())\n",
    "\n",
    "# Backtest'i çalıştır\n",
    "results = cerebro.run()\n",
    "\n",
    "# Sonuçları yazdır\n",
    "print('Final Portfolio Value: %.2f' % cerebro.broker.getvalue())\n",
    "\n",
    "# EQR için yapılan işlemleri yazdır\n",
    "strategy = results[0]\n",
    "for trade in strategy.aapl_trades:\n",
    "    print(trade)\n",
    "\n",
    "# Portföy değerini çizgi grafik olarak göster\n",
    "portfolio_values = strategy.portfolio_value\n",
    "dates, values = zip(*portfolio_values)\n",
    "\n",
    "plt.figure(figsize=(12, 6))\n",
    "plt.plot(dates, values)\n",
    "plt.title('Portfolio Value Over Time')\n",
    "plt.xlabel('Date')\n",
    "plt.ylabel('Portfolio Value')\n",
    "plt.grid(True)\n",
    "plt.show()\n"
   ],
   "metadata": {
    "collapsed": false,
    "ExecuteTime": {
     "end_time": "2024-07-09T09:07:45.921115Z",
     "start_time": "2024-07-09T09:06:47.458984Z"
    }
   }
  },
  {
   "cell_type": "code",
   "execution_count": 30,
   "outputs": [
    {
     "data": {
      "text/plain": "<DatetimeArray>\n['2018-07-02 00:00:00', '2018-10-01 00:00:00', '2018-12-31 00:00:00',\n '2019-04-01 00:00:00', '2019-07-01 00:00:00', '2019-09-30 00:00:00',\n '2019-12-31 00:00:00']\nLength: 7, dtype: datetime64[ns]"
     },
     "execution_count": 30,
     "metadata": {},
     "output_type": "execute_result"
    }
   ],
   "source": [
    "data['Tarih'].unique()\n"
   ],
   "metadata": {
    "collapsed": false,
    "ExecuteTime": {
     "end_time": "2024-07-09T09:03:30.079780Z",
     "start_time": "2024-07-09T09:03:29.954756Z"
    }
   }
  },
  {
   "cell_type": "code",
   "execution_count": 34,
   "outputs": [
    {
     "name": "stdout",
     "output_type": "stream",
     "text": [
      "390\n"
     ]
    }
   ],
   "source": [
    "import pandas as pd\n",
    "import numpy as np\n",
    "\n",
    "# Başlangıç ve bitiş tarihleri\n",
    "start_date = '2018-06-25'\n",
    "end_date = '2019-12-31'\n",
    "\n",
    "# Tatil günlerini belirle\n",
    "holidays = [\n",
    "    '2018-12-25',  # Christmas\n",
    "    '2019-01-01',  # New Year\n",
    "    '2019-07-04',  # Independence Day\n",
    "    '2019-04-19',  # Good Friday\n",
    "    '2019-05-27',  # Memorial Day\n",
    "    '2019-09-02',  # Labor Day\n",
    "    '2019-11-28',  # Thanksgiving Day\n",
    "]\n",
    "holidays = pd.to_datetime(holidays)\n",
    "\n",
    "# Tüm günleri al\n",
    "all_days = pd.date_range(start=start_date, end=end_date, freq='B')\n",
    "\n",
    "# Tatil günlerini çıkar\n",
    "trading_days = all_days[~all_days.isin(holidays)]\n",
    "\n",
    "# İşlem günlerinin sayısını yazdır\n",
    "print(len(trading_days))\n"
   ],
   "metadata": {
    "collapsed": false,
    "ExecuteTime": {
     "end_time": "2024-07-11T10:26:44.694980Z",
     "start_time": "2024-07-11T10:26:44.584306Z"
    }
   }
  },
  {
   "cell_type": "code",
   "execution_count": 44,
   "outputs": [],
   "source": [],
   "metadata": {
    "collapsed": false,
    "ExecuteTime": {
     "end_time": "2024-07-11T10:36:18.928513Z",
     "start_time": "2024-07-11T10:36:18.799034Z"
    }
   }
  },
  {
   "cell_type": "code",
   "execution_count": 44,
   "outputs": [
    {
     "data": {
      "text/plain": "0.1053173418117605"
     },
     "execution_count": 44,
     "metadata": {},
     "output_type": "execute_result"
    }
   ],
   "source": [
    "portfolio_std_dev = np.std(portfolio_returns)\n",
    "\n",
    "annualized_std_dev = portfolio_std_dev * np.sqrt(252)\n",
    "annualized_std_dev"
   ],
   "metadata": {
    "collapsed": false,
    "ExecuteTime": {
     "end_time": "2024-07-11T10:36:00.860943Z",
     "start_time": "2024-07-11T10:36:00.717722Z"
    }
   }
  },
  {
   "cell_type": "code",
   "execution_count": 98,
   "outputs": [
    {
     "name": "stderr",
     "output_type": "stream",
     "text": [
      "[*********************100%%**********************]  1 of 1 completed\n"
     ]
    }
   ],
   "source": [
    "sp500 = yf.download('^GSPC', start='2018-12-31', end='2019-09-30')\n",
    "sp500['Return'] = sp500['Adj Close'].pct_change().dropna()"
   ],
   "metadata": {
    "collapsed": false,
    "ExecuteTime": {
     "end_time": "2024-07-05T11:18:59.342182Z",
     "start_time": "2024-07-05T11:18:59.203592Z"
    }
   }
  },
  {
   "cell_type": "code",
   "execution_count": 35,
   "outputs": [
    {
     "name": "stderr",
     "output_type": "stream",
     "text": [
      "[*********************100%%**********************]  1 of 1 completed"
     ]
    },
    {
     "name": "stdout",
     "output_type": "stream",
     "text": [
      "Alpha: 0.00041889654797201676\n",
      "Beta: 0.5035771696175575\n"
     ]
    },
    {
     "name": "stderr",
     "output_type": "stream",
     "text": [
      "\n",
      "/var/folders/8y/1xpfmccx4pdc37lkv_91bn840000gn/T/ipykernel_99109/185227017.py:35: FutureWarning: Series.__getitem__ treating keys as positions is deprecated. In a future version, integer keys will always be treated as labels (consistent with DataFrame behavior). To access a value by position, use `ser.iloc[pos]`\n",
      "  alpha = model.params[0]\n",
      "/var/folders/8y/1xpfmccx4pdc37lkv_91bn840000gn/T/ipykernel_99109/185227017.py:36: FutureWarning: Series.__getitem__ treating keys as positions is deprecated. In a future version, integer keys will always be treated as labels (consistent with DataFrame behavior). To access a value by position, use `ser.iloc[pos]`\n",
      "  beta = model.params[1]\n"
     ]
    }
   ],
   "source": [
    "import pandas as pd\n",
    "import yfinance as yf\n",
    "import numpy as np\n",
    "import statsmodels.api as sm\n",
    "\n",
    "# Tarih aralığı\n",
    "start_date = '2018-06-25'\n",
    "end_date = '2019-12-31'\n",
    "\n",
    "# S&P 500 endeks verilerini al\n",
    "sp500 = yf.download('^GSPC', start=start_date, end=end_date)['Adj Close']\n",
    "\n",
    "# Risksiz faiz oranı (günlük %2 yıllık oran)\n",
    "risk_free_rate = 0.02 / 252\n",
    "\n",
    "# Portföy değeri verisi (Örneğin, daha önce hesapladığımız)\n",
    "portfolio_values = strategy.portfolio_value\n",
    "dates, values = zip(*portfolio_values)\n",
    "portfolio_df = pd.DataFrame({'Date': dates, 'Portfolio Value': values}).set_index('Date')\n",
    "\n",
    "# Getirileri hesapla\n",
    "portfolio_returns = portfolio_df['Portfolio Value'].pct_change().dropna()\n",
    "sp500_returns = sp500.pct_change().dropna()\n",
    "\n",
    "# Risksiz getiriyi hesapla\n",
    "risk_free_returns = np.full(len(portfolio_returns), risk_free_rate)\n",
    "\n",
    "# Aşırı getirileri hesapla\n",
    "excess_portfolio_returns = portfolio_returns - risk_free_returns\n",
    "excess_sp500_returns = sp500_returns - risk_free_returns\n",
    "\n",
    "# Regresyon modeli kur\n",
    "X = sm.add_constant(excess_sp500_returns)\n",
    "model = sm.OLS(excess_portfolio_returns, X).fit()\n",
    "alpha = model.params[0]\n",
    "beta = model.params[1]\n",
    "\n",
    "# Sonuçları yazdır\n",
    "print(f'Alpha: {alpha}')\n",
    "print(f'Beta: {beta}')\n"
   ],
   "metadata": {
    "collapsed": false,
    "ExecuteTime": {
     "end_time": "2024-07-11T10:28:52.786936Z",
     "start_time": "2024-07-11T10:28:51.047230Z"
    }
   }
  },
  {
   "cell_type": "code",
   "execution_count": 45,
   "outputs": [
    {
     "name": "stdout",
     "output_type": "stream",
     "text": [
      "0.2682583446352106\n",
      "0.1859652992321399\n"
     ]
    }
   ],
   "source": [
    "print(portfolio_returns.sum())\n",
    "\n",
    "print(sp500_returns.sum())"
   ],
   "metadata": {
    "collapsed": false,
    "ExecuteTime": {
     "end_time": "2024-07-11T21:14:57.326357Z",
     "start_time": "2024-07-11T21:14:57.206161Z"
    }
   }
  },
  {
   "cell_type": "code",
   "execution_count": 112,
   "outputs": [
    {
     "name": "stderr",
     "output_type": "stream",
     "text": [
      "/var/folders/8y/1xpfmccx4pdc37lkv_91bn840000gn/T/ipykernel_82275/2354017360.py:2: FutureWarning: The behavior of 'isin' with dtype=datetime64[ns] and castable values (e.g. strings) is deprecated. In a future version, these will not be considered matching by isin. Explicitly cast to the appropriate dtype before calling isin instead.\n",
      "  sp500_returns = sp500.loc[sp500.index.isin(dates), 'Return']\n"
     ]
    },
    {
     "data": {
      "text/plain": "Date\n2018-12-31         NaN\n2019-01-02    0.001268\n2019-01-03   -0.024757\n2019-01-04    0.034336\n2019-01-07    0.007010\n                ...   \n2019-09-23   -0.000097\n2019-09-24   -0.008416\n2019-09-25    0.006159\n2019-09-26   -0.002429\n2019-09-27   -0.005316\nName: Return, Length: 188, dtype: float64"
     },
     "execution_count": 112,
     "metadata": {},
     "output_type": "execute_result"
    }
   ],
   "source": [
    "sp500\n",
    "sp500_returns = sp500.loc[sp500.index.isin(dates), 'Return']\n",
    "sp500_returns"
   ],
   "metadata": {
    "collapsed": false,
    "ExecuteTime": {
     "end_time": "2024-07-05T11:22:19.649753Z",
     "start_time": "2024-07-05T11:22:19.547705Z"
    }
   }
  },
  {
   "cell_type": "code",
   "execution_count": 116,
   "outputs": [
    {
     "data": {
      "text/plain": "0.006052984683539323"
     },
     "execution_count": 116,
     "metadata": {},
     "output_type": "execute_result"
    }
   ],
   "source": [
    "# Portföy günlük değerlerini DataFrame olarak oluşturma\n",
    "portfolio_df = pd.DataFrame(data={'Date': dates, 'Portfolio Value': values})\n",
    "portfolio_df.set_index('Date', inplace=True)\n",
    "portfolio_df['Daily Return'] = portfolio_df['Portfolio Value'].pct_change().dropna()\n",
    "\n",
    "# Portföyün günlük getirilerinin standart sapmasını hesaplama\n",
    "portfolio_std_dev = portfolio_returns.std()\n",
    "portfolio_std_dev"
   ],
   "metadata": {
    "collapsed": false,
    "ExecuteTime": {
     "end_time": "2024-07-07T13:25:11.688810Z",
     "start_time": "2024-07-07T13:25:11.501351Z"
    }
   }
  },
  {
   "cell_type": "code",
   "execution_count": 111,
   "outputs": [
    {
     "name": "stdout",
     "output_type": "stream",
     "text": [
      "Annualized Sharpe Ratio: nan\n"
     ]
    },
    {
     "name": "stderr",
     "output_type": "stream",
     "text": [
      "/var/folders/8y/1xpfmccx4pdc37lkv_91bn840000gn/T/ipykernel_82275/172482197.py:7: FutureWarning: The behavior of 'isin' with dtype=datetime64[ns] and castable values (e.g. strings) is deprecated. In a future version, these will not be considered matching by isin. Explicitly cast to the appropriate dtype before calling isin instead.\n",
      "  sp500_returns = sp500.loc[sp500.index.isin(dates), 'Return']\n"
     ]
    }
   ],
   "source": [],
   "metadata": {
    "collapsed": false,
    "ExecuteTime": {
     "end_time": "2024-07-05T11:22:17.391339Z",
     "start_time": "2024-07-05T11:22:17.296264Z"
    }
   }
  },
  {
   "cell_type": "code",
   "execution_count": 32,
   "outputs": [
    {
     "data": {
      "text/plain": "          Tarih OFTIC  Predicted EPS  Actual EPS  Predicted EPS Next  \\\n149  2018-12-31    BG       1.522506       0.080            1.158462   \n205  2018-12-31    BX       1.145028       0.050            1.071429   \n569  2018-12-31   EQR       4.271126       0.310            4.795559   \n646  2018-12-31   FCX       1.061235       0.110            1.036737   \n1269 2018-12-31  NVDA       0.871978       0.025            0.663809   \n\n      Difference  Decile  \n149    13.480773       5  \n205    20.428575       5  \n569    14.469544       5  \n646     8.424886       5  \n1269   25.552364       5  ",
      "text/html": "<div>\n<style scoped>\n    .dataframe tbody tr th:only-of-type {\n        vertical-align: middle;\n    }\n\n    .dataframe tbody tr th {\n        vertical-align: top;\n    }\n\n    .dataframe thead th {\n        text-align: right;\n    }\n</style>\n<table border=\"1\" class=\"dataframe\">\n  <thead>\n    <tr style=\"text-align: right;\">\n      <th></th>\n      <th>Tarih</th>\n      <th>OFTIC</th>\n      <th>Predicted EPS</th>\n      <th>Actual EPS</th>\n      <th>Predicted EPS Next</th>\n      <th>Difference</th>\n      <th>Decile</th>\n    </tr>\n  </thead>\n  <tbody>\n    <tr>\n      <th>149</th>\n      <td>2018-12-31</td>\n      <td>BG</td>\n      <td>1.522506</td>\n      <td>0.080</td>\n      <td>1.158462</td>\n      <td>13.480773</td>\n      <td>5</td>\n    </tr>\n    <tr>\n      <th>205</th>\n      <td>2018-12-31</td>\n      <td>BX</td>\n      <td>1.145028</td>\n      <td>0.050</td>\n      <td>1.071429</td>\n      <td>20.428575</td>\n      <td>5</td>\n    </tr>\n    <tr>\n      <th>569</th>\n      <td>2018-12-31</td>\n      <td>EQR</td>\n      <td>4.271126</td>\n      <td>0.310</td>\n      <td>4.795559</td>\n      <td>14.469544</td>\n      <td>5</td>\n    </tr>\n    <tr>\n      <th>646</th>\n      <td>2018-12-31</td>\n      <td>FCX</td>\n      <td>1.061235</td>\n      <td>0.110</td>\n      <td>1.036737</td>\n      <td>8.424886</td>\n      <td>5</td>\n    </tr>\n    <tr>\n      <th>1269</th>\n      <td>2018-12-31</td>\n      <td>NVDA</td>\n      <td>0.871978</td>\n      <td>0.025</td>\n      <td>0.663809</td>\n      <td>25.552364</td>\n      <td>5</td>\n    </tr>\n  </tbody>\n</table>\n</div>"
     },
     "execution_count": 32,
     "metadata": {},
     "output_type": "execute_result"
    }
   ],
   "source": [
    "decile_5 = data[data['Decile']==5]\n",
    "decile_5[decile_5['Tarih']== '2018-12-31']"
   ],
   "metadata": {
    "collapsed": false,
    "ExecuteTime": {
     "end_time": "2024-07-03T12:19:20.518014Z",
     "start_time": "2024-07-03T12:19:20.463746Z"
    }
   }
  },
  {
   "cell_type": "code",
   "execution_count": 22,
   "outputs": [
    {
     "ename": "NameError",
     "evalue": "name 'decile_5' is not defined",
     "output_type": "error",
     "traceback": [
      "\u001B[0;31m---------------------------------------------------------------------------\u001B[0m",
      "\u001B[0;31mNameError\u001B[0m                                 Traceback (most recent call last)",
      "\u001B[0;32m/var/folders/8y/1xpfmccx4pdc37lkv_91bn840000gn/T/ipykernel_82275/2819130637.py\u001B[0m in \u001B[0;36m<module>\u001B[0;34m\u001B[0m\n\u001B[0;32m----> 1\u001B[0;31m \u001B[0mdecile_5\u001B[0m\u001B[0;34m[\u001B[0m\u001B[0mdecile_5\u001B[0m\u001B[0;34m[\u001B[0m\u001B[0;34m'Tarih'\u001B[0m\u001B[0;34m]\u001B[0m\u001B[0;34m==\u001B[0m \u001B[0;34m'2018-10-01'\u001B[0m\u001B[0;34m]\u001B[0m\u001B[0;34m\u001B[0m\u001B[0;34m\u001B[0m\u001B[0m\n\u001B[0m\u001B[1;32m      2\u001B[0m \u001B[0;34m\u001B[0m\u001B[0m\n",
      "\u001B[0;31mNameError\u001B[0m: name 'decile_5' is not defined"
     ]
    }
   ],
   "source": [
    "decile_5[decile_5['Tarih']== '2018-10-01']\n"
   ],
   "metadata": {
    "collapsed": false,
    "ExecuteTime": {
     "end_time": "2024-07-04T14:27:01.969094Z",
     "start_time": "2024-07-04T14:27:01.504959Z"
    }
   }
  },
  {
   "cell_type": "code",
   "execution_count": 32,
   "outputs": [
    {
     "data": {
      "text/plain": "         Tarih OFTIC  Predicted EPS  Actual EPS  Predicted EPS Next  \\\n567 2018-07-02   EQR       3.532840        0.31            3.305173   \n568 2018-10-01   EQR       3.305173        0.60            4.271126   \n569 2018-12-31   EQR       4.271126        0.31            4.795559   \n570 2019-04-01   EQR       4.795559        0.28            4.933460   \n571 2019-07-01   EQR       4.933460        0.83            5.076401   \n572 2019-09-30   EQR       5.076401        0.71            6.622829   \n\n     Difference  Decile  \n567    9.661849       5  \n568    6.118543       5  \n569   14.469544       5  \n570   16.619498       5  \n571    5.116145       2  \n572    8.327928       5  ",
      "text/html": "<div>\n<style scoped>\n    .dataframe tbody tr th:only-of-type {\n        vertical-align: middle;\n    }\n\n    .dataframe tbody tr th {\n        vertical-align: top;\n    }\n\n    .dataframe thead th {\n        text-align: right;\n    }\n</style>\n<table border=\"1\" class=\"dataframe\">\n  <thead>\n    <tr style=\"text-align: right;\">\n      <th></th>\n      <th>Tarih</th>\n      <th>OFTIC</th>\n      <th>Predicted EPS</th>\n      <th>Actual EPS</th>\n      <th>Predicted EPS Next</th>\n      <th>Difference</th>\n      <th>Decile</th>\n    </tr>\n  </thead>\n  <tbody>\n    <tr>\n      <th>567</th>\n      <td>2018-07-02</td>\n      <td>EQR</td>\n      <td>3.532840</td>\n      <td>0.31</td>\n      <td>3.305173</td>\n      <td>9.661849</td>\n      <td>5</td>\n    </tr>\n    <tr>\n      <th>568</th>\n      <td>2018-10-01</td>\n      <td>EQR</td>\n      <td>3.305173</td>\n      <td>0.60</td>\n      <td>4.271126</td>\n      <td>6.118543</td>\n      <td>5</td>\n    </tr>\n    <tr>\n      <th>569</th>\n      <td>2018-12-31</td>\n      <td>EQR</td>\n      <td>4.271126</td>\n      <td>0.31</td>\n      <td>4.795559</td>\n      <td>14.469544</td>\n      <td>5</td>\n    </tr>\n    <tr>\n      <th>570</th>\n      <td>2019-04-01</td>\n      <td>EQR</td>\n      <td>4.795559</td>\n      <td>0.28</td>\n      <td>4.933460</td>\n      <td>16.619498</td>\n      <td>5</td>\n    </tr>\n    <tr>\n      <th>571</th>\n      <td>2019-07-01</td>\n      <td>EQR</td>\n      <td>4.933460</td>\n      <td>0.83</td>\n      <td>5.076401</td>\n      <td>5.116145</td>\n      <td>2</td>\n    </tr>\n    <tr>\n      <th>572</th>\n      <td>2019-09-30</td>\n      <td>EQR</td>\n      <td>5.076401</td>\n      <td>0.71</td>\n      <td>6.622829</td>\n      <td>8.327928</td>\n      <td>5</td>\n    </tr>\n  </tbody>\n</table>\n</div>"
     },
     "execution_count": 32,
     "metadata": {},
     "output_type": "execute_result"
    }
   ],
   "source": [
    "data[data['OFTIC']=='EQR']"
   ],
   "metadata": {
    "collapsed": false,
    "ExecuteTime": {
     "end_time": "2024-07-03T08:38:41.441418Z",
     "start_time": "2024-07-03T08:38:41.420422Z"
    }
   }
  },
  {
   "cell_type": "code",
   "execution_count": 12,
   "outputs": [
    {
     "data": {
      "text/plain": "        Tarih OFTIC  Predicted EPS  Actual EPS  Predicted EPS Next  Difference\n0  2018-06-30  AAPL       0.641207      0.5850            0.628007    0.073517\n1  2018-09-30  AAPL       0.628007      0.7275            0.985615    0.354798\n2  2018-12-31  AAPL       0.985615      1.0450            0.839935   -0.196234\n3  2019-03-31  AAPL       0.839935      0.6150            0.706372    0.148573\n4  2019-06-30  AAPL       0.706372      0.5450            0.695098    0.275408\n5  2019-09-30  AAPL       0.695098      0.7575            1.022004    0.349180",
      "text/html": "<div>\n<style scoped>\n    .dataframe tbody tr th:only-of-type {\n        vertical-align: middle;\n    }\n\n    .dataframe tbody tr th {\n        vertical-align: top;\n    }\n\n    .dataframe thead th {\n        text-align: right;\n    }\n</style>\n<table border=\"1\" class=\"dataframe\">\n  <thead>\n    <tr style=\"text-align: right;\">\n      <th></th>\n      <th>Tarih</th>\n      <th>OFTIC</th>\n      <th>Predicted EPS</th>\n      <th>Actual EPS</th>\n      <th>Predicted EPS Next</th>\n      <th>Difference</th>\n    </tr>\n  </thead>\n  <tbody>\n    <tr>\n      <th>0</th>\n      <td>2018-06-30</td>\n      <td>AAPL</td>\n      <td>0.641207</td>\n      <td>0.5850</td>\n      <td>0.628007</td>\n      <td>0.073517</td>\n    </tr>\n    <tr>\n      <th>1</th>\n      <td>2018-09-30</td>\n      <td>AAPL</td>\n      <td>0.628007</td>\n      <td>0.7275</td>\n      <td>0.985615</td>\n      <td>0.354798</td>\n    </tr>\n    <tr>\n      <th>2</th>\n      <td>2018-12-31</td>\n      <td>AAPL</td>\n      <td>0.985615</td>\n      <td>1.0450</td>\n      <td>0.839935</td>\n      <td>-0.196234</td>\n    </tr>\n    <tr>\n      <th>3</th>\n      <td>2019-03-31</td>\n      <td>AAPL</td>\n      <td>0.839935</td>\n      <td>0.6150</td>\n      <td>0.706372</td>\n      <td>0.148573</td>\n    </tr>\n    <tr>\n      <th>4</th>\n      <td>2019-06-30</td>\n      <td>AAPL</td>\n      <td>0.706372</td>\n      <td>0.5450</td>\n      <td>0.695098</td>\n      <td>0.275408</td>\n    </tr>\n    <tr>\n      <th>5</th>\n      <td>2019-09-30</td>\n      <td>AAPL</td>\n      <td>0.695098</td>\n      <td>0.7575</td>\n      <td>1.022004</td>\n      <td>0.349180</td>\n    </tr>\n  </tbody>\n</table>\n</div>"
     },
     "execution_count": 12,
     "metadata": {},
     "output_type": "execute_result"
    }
   ],
   "source": [
    "data[data['OFTIC']=='AAPL']"
   ],
   "metadata": {
    "collapsed": false,
    "ExecuteTime": {
     "end_time": "2024-07-03T07:38:06.500617Z",
     "start_time": "2024-07-03T07:38:06.351875Z"
    }
   }
  },
  {
   "cell_type": "code",
   "execution_count": 93,
   "outputs": [
    {
     "data": {
      "text/plain": "OrderedDict([(datetime.datetime(2018, 7, 3, 0, 0),\n              [[-41.75297904982605,\n                89.69161987304688,\n                2,\n                'ALB',\n                3744.8923255042882],\n               [-42.28300341164403,\n                84.697998046875,\n                4,\n                'AMZN',\n                3581.285740375435],\n               [92.02139706978828,\n                40.34267807006836,\n                8,\n                'APA',\n                -3712.3895975444],\n               [34.4366298614886,\n                106.02525329589844,\n                11,\n                'ARE',\n                -3651.1524037214285],\n               [25.857988015046665,\n                140.43081665039062,\n                12,\n                'AVB',\n                -3631.2583738890166],\n               [-39.95846046831877,\n                90.36725616455078,\n                14,\n                'AVY',\n                3610.936433081638],\n               [46.690600700610645,\n                78.1124267578125,\n                15,\n                'AWK',\n                -3647.116127504718],\n               [-16.8770703962075,\n                216.10093688964844,\n                19,\n                'BDX',\n                3647.150724572991],\n               [62.712888155156264,\n                56.66590881347656,\n                21,\n                'BG',\n                -3553.682801629839],\n               [-80.00122482343961,\n                45.66664505004883,\n                25,\n                'BMY',\n                3653.387537581172],\n               [-34.66899410221141,\n                104.77852630615234,\n                26,\n                'BR',\n                3632.5661105463982],\n               [89.39001822056808,\n                40.820987701416016,\n                30,\n                'CAH',\n                -3648.988834411163],\n               [-37.10696313816613,\n                97.29993438720703,\n                35,\n                'CE',\n                3610.505078652074],\n               [-97.0507240712459,\n                38.072715759277344,\n                36,\n                'CF',\n                3694.9846317966008],\n               [-49.14223317772486,\n                73.18611907958984,\n                38,\n                'CHRW',\n                3596.5293291819426],\n               [12.327543672050247,\n                299.510009765625,\n                39,\n                'CHTR',\n                -3692.2227256019382],\n               [-52.366333750512496,\n                68.18653106689453,\n                41,\n                'CMA',\n                3570.678643138688],\n               [90.31386984410639,\n                40.21836853027344,\n                45,\n                'CMS',\n                -3632.2765007854196],\n               [158.05521622899462,\n                22.956823348999023,\n                47,\n                'CNP',\n                -3628.445678356873],\n               [-43.09856785305655,\n                83.31449127197266,\n                48,\n                'COF',\n                3590.7352552280013],\n               [109.12782741082414,\n                33.81112289428711,\n                51,\n                'CPB',\n                -3689.7343837739286],\n               [48.117982402953686,\n                75.42239379882812,\n                53,\n                'CPT',\n                -3629.173417600655],\n               [-182.74603235166373,\n                19.699859619140625,\n                55,\n                'CSX',\n                3600.0711832827064],\n               [-27.958325467494635,\n                128.7478485107422,\n                61,\n                'DE',\n                3599.5742519030246],\n               [-58.62696448917724,\n                61.270870208740234,\n                62,\n                'DFS',\n                3592.1251319488015],\n               [-94.29553006741737,\n                38.47052764892578,\n                65,\n                'DHI',\n                3627.5987966286925],\n               [40.10744594807465,\n                90.7890396118164,\n                67,\n                'DLR',\n                -3641.316498908535],\n               [43.11779672058944,\n                83.55000305175781,\n                68,\n                'DLTR',\n                -3602.4920475903205],\n               [49.65698002920012,\n                73.26432800292969,\n                71,\n                'DTE',\n                -3638.0852724942465],\n               [-147.20928463621627,\n                24.530000686645508,\n                72,\n                'DXCM',\n                3611.043853206979],\n               [57.63712443207873,\n                62.95835876464844,\n                75,\n                'ED',\n                -3628.7387581574962],\n               [72.51526993538695,\n                50.37922668457031,\n                77,\n                'EIX',\n                -3653.263222167666],\n               [-37.56685565840033,\n                96.47004699707031,\n                79,\n                'EOG',\n                3624.0763308980363],\n               [9.442199342170317,\n                381.95758056640625,\n                80,\n                'EQIX',\n                -3606.5196159610873],\n               [70.22938055244141,\n                51.69643783569336,\n                81,\n                'EQR',\n                -3630.60880596854],\n               [18.572990461011177,\n                195.07835388183594,\n                82,\n                'ESS',\n                -3623.1884057971015],\n               [56.05835170763511,\n                64.5927505493164,\n                84,\n                'ETR',\n                -3620.9631280571202],\n               [145.3660009572139,\n                24.87230682373047,\n                86,\n                'EXC',\n                -3615.5877775465215],\n               [30.354051835638774,\n                120.78524017333984,\n                88,\n                'EXPE',\n                -3666.3214412016364],\n               [45.389657465664484,\n                80.17131805419922,\n                89,\n                'EXR',\n                -3638.9486650509452],\n               [435.5986749235334,\n                8.235291481018066,\n                90,\n                'F',\n                -3587.2820567405324],\n               [227.27249594782896,\n                15.858434677124023,\n                92,\n                'FCX',\n                -3604.1860308955797],\n               [127.7282842694937,\n                28.530839920043945,\n                93,\n                'FE',\n                -3644.195231754792],\n               [-53.53237548805327,\n                68.58214569091797,\n                95,\n                'FMC',\n                3671.3651749025953],\n               [36.87859022594303,\n                98.451171875,\n                96,\n                'FRT',\n                -3630.740424842012],\n               [-68.29761466360125,\n                52.36000061035156,\n                97,\n                'FSLR',\n                3576.0631454717172],\n               [-283.3715262359336,\n                12.718000411987305,\n                98,\n                'FTNT',\n                3603.9191874140747],\n               [64.64508267417169,\n                56.086700439453125,\n                100,\n                'GILD',\n                -3625.729386829949],\n               [-37.09673103488382,\n                98.31231689453125,\n                109,\n                'HCA',\n                3647.06557725269],\n               [-61.22409773461609,\n                60.154937744140625,\n                111,\n                'HES',\n                3682.931787667012],\n               [-81.39905166552543,\n                44.71954345703125,\n                112,\n                'HIG',\n                3640.1284283175964],\n               [36.07944542818225,\n                100.21429443359375,\n                118,\n                'IBM',\n                -3615.6761671406334],\n               [-16.37377271233106,\n                218.82000732421875,\n                120,\n                'IDXX',\n                3582.909064837376],\n               [-52.80076159684463,\n                68.27999877929688,\n                123,\n                'INCY',\n                3605.2359373784966],\n               [-27.174592035092907,\n                134.8800048828125,\n                126,\n                'IT',\n                3665.3091063817687],\n               [-31.215057595844137,\n                115.70197296142578,\n                129,\n                'JBHT',\n                3611.6437499437066],\n               [-241.83438264966057,\n                14.83884048461914,\n                132,\n                'KEY',\n                3588.54182783466],\n               [299.2375928531446,\n                12.288680076599121,\n                134,\n                'KMI',\n                -3677.2350454639172],\n               [49.13464213127232,\n                74.19999694824219,\n                135,\n                'KMX',\n                -3645.7902961933783],\n               [-46.38565385946986,\n                78.70144653320312,\n                140,\n                'LLY',\n                3650.6180571287346],\n               [102.2428257782826,\n                35.6694221496582,\n                142,\n                'LNT',\n                -3646.942514459518],\n               [42.62907864309296,\n                85.16358947753906,\n                143,\n                'LOW',\n                -3630.4453533660967],\n               [-22.925113997137256,\n                152.74745178222656,\n                144,\n                'LRCX',\n                3501.75274487977],\n               [56.88238889090834,\n                63.41015625,\n                145,\n                'LVS',\n                -3606.921167445762],\n               [44.44962516979993,\n                81.52863311767578,\n                148,\n                'MAA',\n                -3623.9171826868255],\n               [-106.87312906182427,\n                33.819942474365234,\n                150,\n                'MAS',\n                3614.443076926308],\n               [-36.70538384562744,\n                99.48999786376953,\n                161,\n                'MOH',\n                3651.8185603903144],\n               [141.2449013006639,\n                25.494901657104492,\n                162,\n                'MOS',\n                -3601.024868227857],\n               [-38.60408618668077,\n                92.95413208007812,\n                164,\n                'MSFT',\n                3588.4093262274437],\n               [117.47202612459127,\n                30.916921615600586,\n                172,\n                'NEM',\n                -3631.8734237197723],\n               [-9.099373329757652,\n                390.5199890136719,\n                173,\n                'NFLX',\n                3553.487172768257],\n               [167.24036816751334,\n                21.836103439331055,\n                174,\n                'NI',\n                -3651.87797853763],\n               [49.29659499777004,\n                71.55593872070312,\n                175,\n                'NKE',\n                -3527.4641307997535],\n               [137.71081980006866,\n                25.97879981994629,\n                177,\n                'NRG',\n                -3577.5618206266795],\n               [-65.74328390638367,\n                54.08522033691406,\n                180,\n                'NUE',\n                3555.739995749057],\n               [603.9757575608445,\n                5.865170001983643,\n                181,\n                'NVDA',\n                -3542.4204951712104],\n               [257.2504537578914,\n                14.205138206481934,\n                183,\n                'NWSA',\n                -3654.278249311037],\n               [-76.26048385724708,\n                46.975425720214844,\n                186,\n                'ODFL',\n                3582.3686948237532],\n               [-78.72548712263064,\n                46.276710510253906,\n                187,\n                'OKE',\n                3643.1565773527],\n               [-113.62400632665319,\n                31.41598129272461,\n                191,\n                'PCAR',\n                3569.6096571625594],\n               [-70.78887815602499,\n                50.831748962402344,\n                195,\n                'PGR',\n                3598.3224837571493],\n               [-134.79035005000023,\n                26.86155128479004,\n                196,\n                'PHM',\n                3620.6779005628828],\n               [-39.03585265565749,\n                93.18864440917969,\n                197,\n                'PKG',\n                3637.6981923371986],\n               [65.6282724979646,\n                55.66123962402344,\n                198,\n                'PLD',\n                -3652.951001619915],\n               [-42.13009774182676,\n                86.30999755859375,\n                201,\n                'PODD',\n                3636.2486332403837],\n               [-25.155630117596584,\n                141.98043823242188,\n                202,\n                'POOL',\n                3571.6073881090733],\n               [36.51384171955867,\n                98.7314682006836,\n                208,\n                'RCL',\n                -3605.0652026194007],\n               [-24.200558715333074,\n                149.20614624023438,\n                214,\n                'ROK',\n                3610.872102775365],\n               [-23.128004213441287,\n                154.78416442871094,\n                218,\n                'SBAC',\n                3579.8488070812155],\n               [65.93984289699617,\n                55.47773361206055,\n                223,\n                'SLB',\n                -3658.1930386606764],\n               [99.43260028341993,\n                36.51633071899414,\n                225,\n                'SO',\n                -3630.913716198913],\n               [-89.55942169304743,\n                39.63187026977539,\n                228,\n                'STLD',\n                3549.4073819749633],\n               [-62.062929012565554,\n                58.87749481201172,\n                233,\n                'SYY',\n                3654.10978095558],\n               [-62.08825314835244,\n                58.41586685180664,\n                234,\n                'TAP',\n                3626.9391289754208],\n               [-100.57529726871003,\n                35.83504867553711,\n                235,\n                'TECH',\n                3604.1206731808384],\n               [55.45270231156827,\n                66.07997131347656,\n                239,\n                'TGT',\n                -3664.3129780031863],\n               [-82.95805150605618,\n                43.7853889465332,\n                240,\n                'TJX',\n                3632.3505514392045],\n               [-95.12219367883907,\n                38.3975830078125,\n                242,\n                'TRGP',\n                3652.4623276684406],\n               [-111.48272017837235,\n                32.40999984741211,\n                243,\n                'TRMB',\n                3613.154943970135],\n               [-52.34546200435758,\n                69.57325744628906,\n                246,\n                'TSCO',\n                3641.844304174112],\n               [-162.1984292335939,\n                20.724000930786133,\n                247,\n                'TSLA',\n                3361.400398409049],\n               [120.22015385382213,\n                30.22698211669922,\n                250,\n                'UDR',\n                -3633.89244060631],\n               [-33.56808806109295,\n                108.343994140625,\n                251,\n                'UHS',\n                3636.900736203039],\n               [57.64180813820551,\n                63.0581169128418,\n                255,\n                'VFC',\n                -3634.783876646559],\n               [82.33484059510772,\n                44.8953971862793,\n                260,\n                'VTR',\n                -3696.455370786354],\n               [67.0729449419886,\n                54.04350662231445,\n                265,\n                'WEC',\n                -3624.8571441504932],\n               [194.6982790528622,\n                18.846220016479492,\n                268,\n                'WMB',\n                -3669.3266038601614],\n               [-127.73360072332504,\n                28.475675582885742,\n                269,\n                'WRB',\n                3637.3005752312633],\n               [25.10379866853981,\n                142.4836883544922,\n                271,\n                'WYNN',\n                -3576.881826002142],\n               [93.64807202003149,\n                38.70615005493164,\n                272,\n                'XEL',\n                -3624.756327962384],\n               [59.42870069926079,\n                61.324928283691406,\n                273,\n                'XOM',\n                -3644.460808375129]]),\n             (datetime.datetime(2018, 10, 2, 0, 0),\n              [[66.99063107327281,\n                54.68102264404297,\n                0,\n                'AAPL',\n                -3663.116214656359],\n               [41.75297904982605,\n                94.86610412597656,\n                2,\n                'ALB',\n                -3960.9424581105163],\n               [24.617504188951628,\n                148.82383728027344,\n                6,\n                'AON',\n                -3663.6714376629866],\n               [-68.8732597229772,\n                104.09523010253906,\n                11,\n                'ARE',\n                7169.377818775247],\n               [39.95846046831877,\n                98.90916442871094,\n                14,\n                'AVY',\n                -3952.257936779087],\n               [-93.38120140122129,\n                79.84634399414062,\n                15,\n                'AWK',\n                7456.147529668042],\n               [-4.7132401930184855,\n                762.8200073242188,\n                17,\n                'AZO',\n                3595.3539185591635],\n               [16.8770703962075,\n                237.83920288085938,\n                19,\n                'BDX',\n                -4014.0289699981413],\n               [-150.80429410456762,\n                24.0765323638916,\n                20,\n                'BEN',\n                3630.84446762245],\n               [-125.42577631031253,\n                58.003658294677734,\n                21,\n                'BG',\n                7275.153870448054],\n               [69.33798820442281,\n                117.2462387084961,\n                26,\n                'BR',\n                -8129.618316582643],\n               [117.83789709166096,\n                30.60551643371582,\n                29,\n                'BX',\n                -3606.4896959533435],\n               [-89.39001822056808,\n                44.91094207763672,\n                30,\n                'CAH',\n                4014.589930622824],\n               [41.27666610002577,\n                86.90398406982422,\n                32,\n                'CCI',\n                -3587.106733212093],\n               [-60.698381176441515,\n                59.41306686401367,\n                33,\n                'CCL',\n                3606.2769793733087],\n               [37.10696313816613,\n                99.97339630126953,\n                35,\n                'CE',\n                -3709.7091313484825],\n               [194.1014481424918,\n                48.30715179443359,\n                36,\n                'CF',\n                -9376.48811893873],\n               [-28.70451086283493,\n                127.31090545654297,\n                44,\n                'CMI',\n                3654.3972686346883],\n               [-90.31386984410639,\n                41.687442779541016,\n                45,\n                'CMS',\n                3764.9542813251],\n               [-158.05521622899462,\n                23.437889099121094,\n                47,\n                'CNP',\n                3704.4806295127805],\n               [-109.12782741082414,\n                30.49467658996582,\n                51,\n                'CPB',\n                3327.8178038586893],\n               [275.9524525126502,\n                12.807499885559082,\n                52,\n                'CPRT',\n                -3534.2610039755155],\n               [-67.37891294880225,\n                52.068511962890625,\n                60,\n                'DAL',\n                3508.319734921276],\n               [27.958325467494635,\n                142.7798309326172,\n                61,\n                'DE',\n                -3991.8849834079692],\n               [58.62696448917724,\n                67.50943756103516,\n                62,\n                'DFS',\n                -3957.8733985751364],\n               [13.515338524411105,\n                265.5977783203125,\n                70,\n                'DPZ',\n                -3589.64388533052],\n               [-99.31396005840024,\n                77.87310791015625,\n                71,\n                'DTE',\n                7733.88672861275],\n               [147.20928463621627,\n                32.57500076293945,\n                72,\n                'DXCM',\n                -4795.342559336516],\n               [122.51734239432837,\n                29.680931091308594,\n                73,\n                'EBAY',\n                -3636.4287970963214],\n               [-115.27424886415746,\n                62.41557312011719,\n                75,\n                'ED',\n                7194.908308847405],\n               [-72.51526993538695,\n                54.266841888427734,\n                77,\n                'EIX',\n                3935.174688080301],\n               [-9.442199342170317,\n                388.9721374511719,\n                80,\n                'EQIX',\n                3672.7524603640372],\n               [-112.11670341527022,\n                65.65171813964844,\n                84,\n                'ETR',\n                7360.65421136588],\n               [-145.3660009572139,\n                25.774810791015625,\n                86,\n                'EXC',\n                3746.7811701187848],\n               [-60.70810367127755,\n                126.68932342529297,\n                88,\n                'EXPE',\n                7691.0685805466965],\n               [-146.46276435206116,\n                24.751728057861328,\n                91,\n                'FAST',\n                3625.2065138448443],\n               [107.06475097610654,\n                69.07177734375,\n                95,\n                'FMC',\n                -7395.152640785671],\n               [136.5952293272025,\n                49.22999954223633,\n                97,\n                'FSLR',\n                -6724.583077249846],\n               [-103.42276957123735,\n                35.55933380126953,\n                101,\n                'GIS',\n                3677.6447858354104],\n               [98.50006836612388,\n                37.4539909362793,\n                108,\n                'HAL',\n                -3689.220667807695],\n               [37.09673103488382,\n                130.89747619628906,\n                109,\n                'HCA',\n                -4855.8684675988425],\n               [61.22409773461609,\n                67.16105651855469,\n                111,\n                'HES',\n                -4111.875088252067],\n               [81.39905166552543,\n                43.17231750488281,\n                112,\n                'HIG',\n                -3514.1857031004242],\n               [-40.359261699234615,\n                90.90132141113281,\n                116,\n                'HSY',\n                3668.710219638148],\n               [-11.162240773030042,\n                323.3185119628906,\n                117,\n                'HUM',\n                3608.9590769075794],\n               [16.37377271233106,\n                242.3800048828125,\n                120,\n                'IDXX',\n                -3968.6751099648645],\n               [-100.28642219774457,\n                36.44382858276367,\n                124,\n                'IP',\n                3654.8211797532686],\n               [54.349184070185814,\n                158.41000366210938,\n                126,\n                'IT',\n                -8609.454447590791],\n               [-49.13464213127232,\n                73.1500015258789,\n                135,\n                'KMX',\n                3594.1991468760843],\n               [46.38565385946986,\n                98.75807189941406,\n                140,\n                'LLY',\n                -4580.957738954858],\n               [-12.18099186941382,\n                299.05120849609375,\n                141,\n                'LMT',\n                3642.740339229295],\n               [-204.4856515565652,\n                36.058589935302734,\n                142,\n                'LNT',\n                7373.464257131383],\n               [-42.62907864309296,\n                101.34947204589844,\n                143,\n                'LOW',\n                4320.434614280556],\n               [45.85022799427451,\n                138.93801879882812,\n                144,\n                'LRCX',\n                -6370.339838999068],\n               [106.87312906182427,\n                33.27620315551758,\n                150,\n                'MAS',\n                -3556.3319545271142],\n               [21.88429479854118,\n                169.92776489257812,\n                156,\n                'MKTX',\n                -3718.749301366376],\n               [-20.58405373146804,\n                176.95558166503906,\n                157,\n                'MLM',\n                3642.463201076345],\n               [47.700660254907234,\n                76.19941711425781,\n                158,\n                'MMC',\n                -3634.762507389176],\n               [-141.2449013006639,\n                30.531871795654297,\n                162,\n                'MOS',\n                4312.471218301715],\n               [38.60408618668077,\n                108.47913360595703,\n                164,\n                'MSFT',\n                -4187.737823180823],\n               [5.894132254448084,\n                616.3400268554688,\n                167,\n                'MTD',\n                -3632.7896319962165],\n               [-99.49944115387278,\n                37.00463104248047,\n                171,\n                'NEE',\n                3681.940108832059],\n               [-49.29659499777004,\n                77.83524322509766,\n                175,\n                'NKE',\n                3837.0124618205637],\n               [-12.524722892952996,\n                290.13995361328125,\n                176,\n                'NOC',\n                3633.922519180584],\n               [78.72548712263064,\n                45.86119842529297,\n                187,\n                'OKE',\n                -3610.44518605881],\n               [76.9271503600414,\n                45.76795196533203,\n                188,\n                'ORCL',\n                -3520.7981225082494],\n               [-10.500446759327831,\n                342.0899963378906,\n                189,\n                'ORLY',\n                3592.0977934446732],\n               [-50.15962645522735,\n                72.15939331054688,\n                190,\n                'OXY',\n                3619.4882136928622],\n               [113.62400632665319,\n                36.6702995300293,\n                191,\n                'PCAR',\n                -4166.626345800316],\n               [-77.7321463772524,\n                46.91693878173828,\n                193,\n                'PFG',\n                3646.9543529546704],\n               [70.78887815602499,\n                60.795902252197266,\n                195,\n                'PGR',\n                -4303.673716916398],\n               [134.79035005000023,\n                23.018394470214844,\n                196,\n                'PHM',\n                -3102.6574482292485],\n               [-26.216324015636612,\n                138.4722137451172,\n                207,\n                'PXD',\n                3630.232422704482],\n               [-73.02768343911734,\n                123.21247863769531,\n                208,\n                'RCL',\n                8997.92188570262],\n               [33.278788200004286,\n                107.87234497070312,\n                213,\n                'RMD',\n                -3589.8609209178267],\n               [24.200558715333074,\n                170.12155151367188,\n                214,\n                'ROK',\n                -4117.036596150177],\n               [46.25600842688257,\n                148.79139709472656,\n                218,\n                'SBAC',\n                -6882.496117861303],\n               [-25.106176992997188,\n                143.67027282714844,\n                221,\n                'SHW',\n                3607.011298230583],\n               [-198.86520056683986,\n                34.174320220947266,\n                225,\n                'SO',\n                6796.083044974089],\n               [28.386179339889644,\n                127.481689453125,\n                226,\n                'SPG',\n                -3618.7180993685242],\n               [76.17977839130573,\n                48.46125411987305,\n                227,\n                'SRE',\n                -3691.7675994166807],\n               [62.062929012565554,\n                63.28165054321289,\n                233,\n                'SYY',\n                -3927.444585461402],\n               [100.57529726871003,\n                49.10286331176758,\n                235,\n                'TECH',\n                -4938.53507432586],\n               [-55.45270231156827,\n                75.28173065185547,\n                239,\n                'TGT',\n                4174.575399337005],\n               [82.95805150605618,\n                51.00918197631836,\n                240,\n                'TJX',\n                -4231.622345673211],\n               [111.48272017837235,\n                43.119998931884766,\n                243,\n                'TRMB',\n                -4807.1347750150235],\n               [-40.79751609092121,\n                90.09842681884766,\n                244,\n                'TROW',\n                3675.792017908624],\n               [32.117564632538894,\n                113.52191162109375,\n                245,\n                'TRV',\n                -3646.0473336998466],\n               [52.34546200435758,\n                81.45450592041016,\n                246,\n                'TSCO',\n                -4263.773744740549],\n               [33.56808806109295,\n                122.15169525146484,\n                251,\n                'UHS',\n                -4100.398863012962],\n               [-22.745973829873545,\n                157.39828491210938,\n                254,\n                'URI',\n                3580.17726947782],\n               [-57.64180813820551,\n                72.37583923339844,\n                255,\n                'VFC',\n                4171.87423893316],\n               [-34.08149101264488,\n                106.61014556884766,\n                257,\n                'VMC',\n                3633.432718061444],\n               [18.71569313207448,\n                193.97000122070312,\n                263,\n                'WAT',\n                -3630.2830196747923],\n               [66.84042847637339,\n                54.04021453857422,\n                264,\n                'WDC',\n                -3612.0710947134435],\n               [127.73360072332504,\n                31.403305053710938,\n                269,\n                'WRB',\n                -4011.2572291234883],\n               [144.69425521132626,\n                25.179828643798828,\n                270,\n                'WY',\n                -3643.376551963291],\n               [-25.10379866853981,\n                116.53641510009766,\n                271,\n                'WYNN',\n                2925.506702226234],\n               [-187.29614404006298,\n                40.27647018432617,\n                272,\n                'XEL',\n                7543.627561068857],\n               [-59.42870069926079,\n                65.13668823242188,\n                273,\n                'XOM',\n                3870.988749505662]]),\n             (datetime.datetime(2019, 1, 2, 0, 0),\n              [[-133.98126214654562,\n                37.79378128051758,\n                0,\n                'AAPL',\n                5063.6585172542345],\n               [-25.15272596211717,\n                143.00999450683594,\n                5,\n                'ANSS',\n                3597.0912016743264],\n               [-24.617504188951628,\n                137.5408172607422,\n                6,\n                'AON',\n                3385.9116450681513],\n               [-25.857988015046665,\n                141.32269287109375,\n                12,\n                'AVB',\n                3654.320498514863],\n               [46.690600700610645,\n                80.6331787109375,\n                15,\n                'AWK',\n                -3764.8115504133616],\n               [9.426480386036971,\n                838.47998046875,\n                17,\n                'AZO',\n                -7903.915089973334],\n               [-11.473036848276022,\n                314.6451110839844,\n                18,\n                'BA',\n                3609.934953596455],\n               [301.60858820913523,\n                23.782699584960938,\n                20,\n                'BEN',\n                -7173.066445622055],\n               [125.42577631031253,\n                45.25947570800781,\n                21,\n                'BG',\n                -5676.704876074612],\n               [80.00122482343961,\n                43.61423873901367,\n                25,\n                'BMY',\n                -3489.192518863002],\n               [-39.58800896436485,\n                89.0177001953125,\n                31,\n                'CBOE',\n                3524.0335133191743],\n               [-41.27666610002577,\n                85.24075317382812,\n                32,\n                'CCI',\n                3518.4541068708154],\n               [121.39676235288303,\n                47.3174934387207,\n                33,\n                'CCL',\n                -5744.190506114479],\n               [20.122983307533662,\n                176.08082580566406,\n                40,\n                'CI',\n                -3543.2715184641206],\n               [52.366333750512496,\n                53.355735778808594,\n                41,\n                'CMA',\n                -2794.0442672972517],\n               [28.70451086283493,\n                114.90946197509766,\n                44,\n                'CMI',\n                -3298.419899506708],\n               [85.08685128614275,\n                41.114418029785156,\n                45,\n                'CMS',\n                -3498.296372616636],\n               [62.364798183381104, 56.5, 46, 'CNC', -3523.6110973610325],\n               [150.1653898425551,\n                23.747407913208008,\n                47,\n                'CNP',\n                -3566.0387670370583],\n               [43.09856785305655,\n                69.85753631591797,\n                48,\n                'COF',\n                -3010.759768958953],\n               [-275.9524525126502,\n                11.920000076293945,\n                52,\n                'CPRT',\n                3289.353255004292],\n               [-26.283324770795815,\n                135.3731689453125,\n                54,\n                'CRM',\n                3558.0569646414588],\n               [-64.56920700838437,\n                55.73280334472656,\n                57,\n                'CVS',\n                3598.622916323226],\n               [67.37891294880225,\n                47.98866653442383,\n                60,\n                'DAL',\n                -3233.424184952043],\n               [25.999322655141206,\n                137.29359436035156,\n                61,\n                'DE',\n                -3569.5404582588553],\n               [-35.183220514503134,\n                101.83893585205078,\n                63,\n                'DG',\n                3583.021737045042],\n               [94.29553006741737,\n                33.23118209838867,\n                65,\n                'DHI',\n                -3133.551930734431],\n               [-86.23559344117888,\n                91.19999694824219,\n                68,\n                'DLTR',\n                7864.685858665368],\n               [-13.515338524411105,\n                229.4266815185547,\n                70,\n                'DPZ',\n                3100.7792672555192],\n               [99.31396005840024,\n                76.45829010009766,\n                71,\n                'DTE',\n                -7593.375569134677],\n               [-120.04442800822773,\n                28.795000076293945,\n                72,\n                'DXCM',\n                3456.6793136555802],\n               [-122.51734239432837,\n                26.29897689819336,\n                73,\n                'EBAY',\n                3222.0807572564877],\n               [-25.87669314906716,\n                136.64956665039062,\n                74,\n                'ECL',\n                3536.0389051651596],\n               [115.27424886415746,\n                61.39775085449219,\n                75,\n                'ED',\n                -7077.579611700268],\n               [37.56685565840033,\n                71.63072204589844,\n                79,\n                'EOG',\n                -2690.940995805261],\n               [-18.572990461011177,\n                198.4091033935547,\n                82,\n                'ESS',\n                3685.0503847062714],\n               [-59.19178729338876,\n                60.69611740112305,\n                83,\n                'ETN',\n                3592.711670741827],\n               [112.11670341527022,\n                68.11835479736328,\n                84,\n                'ETR',\n                -7637.205381952129],\n               [135.09592746140504,\n                26.0053768157959,\n                86,\n                'EXC',\n                -3513.220499913267],\n               [-56.38284026055319,\n                63.035919189453125,\n                87,\n                'EXPD',\n                3554.1441623360747],\n               [30.354051835638774,\n                110.29671478271484,\n                88,\n                'EXPE',\n                -3347.952197815192],\n               [146.46276435206116,\n                22.164514541625977,\n                91,\n                'FAST',\n                -3246.276070287998],\n               [-53.53237548805327,\n                58.1682014465332,\n                95,\n                'FMC',\n                3113.882001300539],\n               [103.42276957123735,\n                31.97126579284668,\n                101,\n                'GIS',\n                -3306.556854994365],\n               [-140.2000437866706,\n                25.364160537719727,\n                102,\n                'GLW',\n                3556.056418000448],\n               [-72.34065704711287,\n                50.9900016784668,\n                104,\n                'GNRC',\n                3688.6502242536762],\n               [-98.50006836612388,\n                24.655519485473633,\n                108,\n                'HAL',\n                2428.5703549214522],\n               [-30.36813858843801,\n                115.83251190185547,\n                109,\n                'HCA',\n                3517.617774482442],\n               [-96.50308353569356,\n                38.85676193237305,\n                111,\n                'HES',\n                3749.7973426863537],\n               [210.40577722031026,\n                17.229581832885742,\n                115,\n                'HPQ',\n                -3625.2035567292623],\n               [40.359261699234615,\n                93.95259857177734,\n                116,\n                'HSY',\n                -3791.8575130814984],\n               [11.162240773030042,\n                271.12457275390625,\n                117,\n                'HUM',\n                -3026.3577605640025],\n               [-72.1588908563645,\n                84.6819839477539,\n                118,\n                'IBM',\n                6110.558037186384],\n               [-54.349184070185814,\n                125.8499984741211,\n                126,\n                'IT',\n                6839.844732302611],\n               [281.2964077505343,\n                12.85763931274414,\n                128,\n                'IVZ',\n                -3616.8077508269753],\n               [150.32750438038008,\n                23.88770866394043,\n                130,\n                'JBL',\n                -3590.979628815748],\n               [-157.32791895414815,\n                22.835479736328125,\n                131,\n                'JNPR',\n                3592.6585052361233],\n               [-57.3143748871272,\n                62.970001220703125,\n                135,\n                'KMX',\n                3609.0862566062365],\n               [12.18099186941382,\n                228.45840454101562,\n                141,\n                'LMT',\n                -2782.8499682133647],\n               [204.4856515565652,\n                34.67747116088867,\n                142,\n                'LNT',\n                -7091.045284668319],\n               [43.033757559182,\n                83.46533966064453,\n                143,\n                'LOW',\n                -3591.827191550955],\n               [-22.925113997137256,\n                128.05996704101562,\n                144,\n                'LRCX',\n                2935.789342884923],\n               [-56.88238889090834,\n                49.68416213989258,\n                145,\n                'LVS',\n                2826.153832560314],\n               [59.73704980215742,\n                60.71425247192383,\n                146,\n                'LYB',\n                -3626.890323616073],\n               [-21.88429479854118,\n                200.0159149169922,\n                156,\n                'MKTX',\n                4377.207246443388],\n               [20.58405373146804,\n                163.95108032226562,\n                157,\n                'MLM',\n                -3374.777846685748],\n               [-47.700660254907234,\n                72.48192596435547,\n                158,\n                'MMC',\n                3457.43572504706],\n               [-33.77121055215136,\n                106.2208023071289,\n                165,\n                'MSI',\n                3587.205079732495],\n               [-29.998838035601388,\n                121.32270812988281,\n                166,\n                'MTB',\n                3639.540271228894],\n               [-11.788264508896168,\n                546.0399780273438,\n                167,\n                'MTD',\n                6436.8636934181795],\n               [99.49944115387278,\n                37.344520568847656,\n                171,\n                'NEE',\n                -3715.758926759649],\n               [18.198746659515304,\n                267.6600036621094,\n                173,\n                'NFLX',\n                -4871.076597531667],\n               [-51.41569242244157,\n                69.85124969482422,\n                175,\n                'NKE',\n                3591.4503696322477],\n               [12.524722892952996,\n                225.27955627441406,\n                176,\n                'NOC',\n                -2821.5640157844464],\n               [-275.4216396001373,\n                32.434322357177734,\n                177,\n                'NRG',\n                8933.114242933283],\n               [-1.4753161583922934,\n                2420.820068359375,\n                182,\n                'NVR',\n                3571.474963410922],\n               [-257.2504537578914,\n                10.67335319519043,\n                183,\n                'NWSA',\n                2745.7249525809784],\n               [-53.39843091843479,\n                68.93817138671875,\n                184,\n                'NXPI',\n                3681.1901824369193],\n               [-153.8543007200828,\n                41.36890411376953,\n                188,\n                'ORCL',\n                6364.783813980168],\n               [10.500446759327831,\n                341.1499938964844,\n                189,\n                'ORLY',\n                -3582.2273478550487],\n               [50.15962645522735,\n                54.61771011352539,\n                190,\n                'OXY',\n                -2739.6039371343263],\n               [-114.93037022442549,\n                31.67687225341797,\n                191,\n                'PCAR',\n                3640.6346556371586],\n               [151.55991846683187,\n                23.77211570739746,\n                192,\n                'PCG',\n                -3602.8999183972523],\n               [77.7321463772524,\n                35.747642517089844,\n                193,\n                'PFG',\n                -2778.7409807801196],\n               [-147.44460527955925,\n                24.61882972717285,\n                196,\n                'PHM',\n                3629.9136315676806],\n               [-131.2565449959292,\n                49.5145263671875,\n                198,\n                'PLD',\n                6499.105658066869],\n               [50.31126023519317,\n                138.03021240234375,\n                202,\n                'POOL',\n                -6944.473936493304],\n               [26.216324015636612,\n                104.36511993408203,\n                207,\n                'PXD',\n                -2736.06980012267],\n               [36.51384171955867,\n                94.466064453125,\n                208,\n                'RCL',\n                -3449.318925311034],\n               [-9.626052772243776,\n                372.44000244140625,\n                209,\n                'REGN',\n                3585.1271179955775],\n               [-33.278788200004286,\n                106.25740051269531,\n                213,\n                'RMD',\n                3536.117526345014],\n               [-23.128004213441287,\n                152.9102325439453,\n                218,\n                'SBAC',\n                3536.508502554654],\n               [-62.520820967675625,\n                57.434688568115234,\n                219,\n                'SBUX',\n                3590.8638813013386],\n               [25.106176992997188,\n                124.3806381225586,\n                221,\n                'SHW',\n                -3122.7223152068896],\n               [198.86520056683986,\n                34.84564971923828,\n                225,\n                'SO',\n                -6929.587120298168],\n               [-28.386179339889644,\n                120.77629852294922,\n                226,\n                'SPG',\n                3428.3776698804854],\n               [-76.17977839130573,\n                45.076168060302734,\n                227,\n                'SRE',\n                3433.8924935631157],\n               [124.17650629670489,\n                49.879791259765625,\n                234,\n                'TAP',\n                -6193.898213446611],\n               [62.078881932952406,\n                58.22224807739258,\n                239,\n                'TGT',\n                -3614.372064267519],\n               [95.12219367883907,\n                30.042133331298828,\n                242,\n                'TRGP',\n                -2857.673625265314],\n               [40.79751609092121,\n                74.9569091796875,\n                244,\n                'TROW',\n                -3058.0557083840204],\n               [-46.82146076853635,\n                75.67455291748047,\n                246,\n                'TSCO',\n                3543.1931106023394],\n               [-14.684409264045758,\n                247.97000122070312,\n                252,\n                'ULTA',\n                3641.292983130731],\n               [-64.38665546360149,\n                55.84751892089844,\n                255,\n                'VFC',\n                3595.834959256853],\n               [-37.43138626414896,\n                183.41000366210938,\n                263,\n                'WAT',\n                6865.290691785392],\n               [-44.401570376591714,\n                80.72737121582031,\n                267,\n                'WM',\n                3584.4220543564898],\n               [38.34034706563653,\n                98.97901916503906,\n                271,\n                'WYNN',\n                -3794.8899470038873],\n               [187.29614404006298,\n                40.987178802490234,\n                272,\n                'XEL',\n                -7676.740544787027]]),\n             (datetime.datetime(2019, 4, 2, 0, 0),\n              [[66.99063107327281,\n                46.63245391845703,\n                0,\n                'AAPL',\n                -3123.93751649275],\n               [-82.45605687429529,\n                43.33308792114258,\n                1,\n                'AFL',\n                3573.0755621645703],\n               [25.15272596211717,\n                187.61000061035156,\n                5,\n                'ANSS',\n                -4718.902933104808],\n               [-21.794104127173835,\n                165.75692749023438,\n                6,\n                'AON',\n                3612.523737522571],\n               [34.4366298614886,\n                122.68814086914062,\n                11,\n                'ARE',\n                -4224.9660955047675],\n               [21.426325704687002,\n                170.18190002441406,\n                12,\n                'AVB',\n                -3646.3728189655767],\n               [38.1805556838818,\n                94.65300750732422,\n                15,\n                'AWK',\n                -3613.904423780274],\n               [-4.7132401930184855,\n                1041.97998046875,\n                17,\n                'AZO',\n                4911.101924265929],\n               [11.473036848276022,\n                381.5980224609375,\n                18,\n                'BA',\n                -4378.088172923597],\n               [-150.80429410456762,\n                27.28139305114746,\n                20,\n                'BEN',\n                4114.151221267549],\n               [-91.65916148460005,\n                39.15388870239258,\n                25,\n                'BMY',\n                3588.8126073226586],\n               [-34.66899410221141,\n                96.08289337158203,\n                26,\n                'BR',\n                3331.097263622785],\n               [-86.73359318368358,\n                40.058135986328125,\n                30,\n                'CAH',\n                3474.386070334859],\n               [39.58800896436485,\n                89.87991333007812,\n                31,\n                'CBOE',\n                -3558.1668146274687],\n               [-55.845414413894375,\n                64.61000061035156,\n                34,\n                'CDNS',\n                3608.1722593670515],\n               [-53.514314365874235,\n                67.66028594970703,\n                37,\n                'CHD',\n                3620.7938123975655],\n               [49.14223317772486,\n                77.44861602783203,\n                38,\n                'CHRW',\n                -3805.9979481318005],\n               [-20.122983307533662,\n                149.25875854492188,\n                40,\n                'CI',\n                3003.5315067026604],\n               [-61.66645001558452,\n                59.33882522583008,\n                41,\n                'CMA',\n                3659.2146997721566],\n               [-101.61762103035888,\n                35.54071807861328,\n                42,\n                'CMCSA',\n                3611.563220859349],\n               [-25.686259301733212,\n                140.45004272460938,\n                44,\n                'CMI',\n                3607.6362163638246],\n               [-170.1737025722855,\n                47.07335662841797,\n                45,\n                'CMS',\n                8010.647389963523],\n               [-124.72959636676221,\n                53.689998626708984,\n                46,\n                'CNC',\n                6696.731857641429],\n               [-150.1653898425551,\n                26.34832191467285,\n                47,\n                'CNP',\n                3956.606032013987],\n               [112.81183241382708,\n                31.883108139038086,\n                51,\n                'CPB',\n                -3596.791852213091],\n               [-232.79401779905186,\n                15.789999961853027,\n                52,\n                'CPRT',\n                3675.8175321666417],\n               [26.283324770795815,\n                160.30059814453125,\n                54,\n                'CRM',\n                -4213.232681985544],\n               [64.56920700838437,\n                44.64002227783203,\n                57,\n                'CVS',\n                -2882.3708393162265],\n               [36.48536781776388,\n                99.17656707763672,\n                58,\n                'CVX',\n                -3618.4935287307076],\n               [71.88630687179624,\n                53.37930679321289,\n                60,\n                'DAL',\n                -3837.241228740659],\n               [-51.99864531028241,\n                151.01577758789062,\n                61,\n                'DE',\n                7852.615855049221],\n               [-55.76168128502693,\n                65.14453887939453,\n                62,\n                'DFS',\n                3632.5690144528435],\n               [86.23559344117888,\n                104.11000061035156,\n                68,\n                'DLTR',\n                -8977.987685795162],\n               [-99.31396005840024,\n                88.47630310058594,\n                71,\n                'DTE',\n                8786.932032246505],\n               [25.87669314906716,\n                168.41775512695312,\n                74,\n                'ECL',\n                -4358.094570274899],\n               [-115.27424886415746,\n                69.91349792480469,\n                75,\n                'ED',\n                8059.225958747691],\n               [71.60702351337078,\n                50.38357162475586,\n                77,\n                'EIX',\n                -3607.8175980214937],\n               [-8.7023888540028,\n                419.61083984375,\n                80,\n                'EQIX',\n                3651.616695675004],\n               [59.19178729338876,\n                73.75469970703125,\n                83,\n                'ETN',\n                -4365.672496946356],\n               [-135.09592746140504,\n                29.900651931762695,\n                86,\n                'EXC',\n                4039.4563044221336],\n               [56.38284026055319,\n                73.13142395019531,\n                87,\n                'EXPD',\n                -4123.357394610656],\n               [-30.475493447792324,\n                118.93165588378906,\n                88,\n                'EXPE',\n                3624.500899621505],\n               [-435.5986749235334,\n                7.090916156768799,\n                90,\n                'F',\n                3088.7936818823628],\n               [-51.03927261895901,\n                70.91991424560547,\n                95,\n                'FMC',\n                3619.7008372946525],\n               [-136.5952293272025,\n                53.900001525878906,\n                97,\n                'FSLR',\n                7362.483069163994],\n               [-64.64508267417169,\n                53.443782806396484,\n                100,\n                'GILD',\n                3454.877757939976],\n               [140.2000437866706,\n                29.044870376586914,\n                102,\n                'GLW',\n                -4072.092098575657],\n               [72.34065704711287,\n                52.150001525878906,\n                104,\n                'GNRC',\n                -3772.5653753900187],\n               [132.17131838230733,\n                27.19780921936035,\n                108,\n                'HAL',\n                -3594.7703016333307],\n               [193.00616707138713,\n                55.75671768188477,\n                111,\n                'HES',\n                -10761.390368262017],\n               [-82.13389142762826,\n                43.75027084350586,\n                112,\n                'HIG',\n                3593.37999538984],\n               [-210.40577722031026,\n                16.609146118164062,\n                115,\n                'HPQ',\n                3494.6602979580084],\n               [-35.44230130669053,\n                102.91968536376953,\n                116,\n                'HSY',\n                3647.710499052507],\n               [-13.977585012533053,\n                253.10020446777344,\n                117,\n                'HUM',\n                3537.7296246378014],\n               [72.1588908563645,\n                106.33292388916016,\n                118,\n                'IBM',\n                -7672.865849356021],\n               [100.28642219774457,\n                34.890968322753906,\n                124,\n                'IP',\n                -3499.09038010383],\n               [54.349184070185814,\n                153.10000610351562,\n                126,\n                'IT',\n                -8320.860412866543],\n               [-281.2964077505343,\n                15.404694557189941,\n                128,\n                'IVZ',\n                4333.285241431738],\n               [31.215057595844137,\n                98.52872467041016,\n                129,\n                'JBHT',\n                -3075.5798154319223],\n               [-300.65500876076015,\n                27.389963150024414,\n                130,\n                'JBL',\n                8234.929610827488],\n               [314.6558379082963,\n                23.199819564819336,\n                131,\n                'JNPR',\n                -7299.958664489514],\n               [241.83438264966057,\n                12.762006759643555,\n                132,\n                'KEY',\n                -3086.292026089194],\n               [57.3143748871272,\n                69.79000091552734,\n                135,\n                'KMX',\n                -3999.9702758454846],\n               [-78.63615349238003,\n                45.9722785949707,\n                138,\n                'LEN',\n                3615.0831559885733],\n               [-13.68211870243337,\n                263.45556640625,\n                141,\n                'LMT',\n                3604.63033238713],\n               [-102.2428257782826,\n                39.554344177246094,\n                142,\n                'LNT',\n                4044.147920488399],\n               [-86.067515118364,\n                99.92707824707031,\n                143,\n                'LOW',\n                8600.475317763667],\n               [-59.73704980215742,\n                65.43828582763672,\n                146,\n                'LYB',\n                3909.090139453347],\n               [100.24430763345985,\n                36.34758758544922,\n                150,\n                'MAS',\n                -3643.6387516498976],\n               [-31.774119225568768,\n                110.00956726074219,\n                152,\n                'MCK',\n                3495.457106096049],\n               [-45.52764153232916,\n                79.23123168945312,\n                154,\n                'MDT',\n                3607.2111145223407],\n               [28.298272616285285,\n                127.36000061035156,\n                155,\n                'MHK',\n                -3604.0680176819887],\n               [-15.306793421590136,\n                238.30455017089844,\n                156,\n                'MKTX',\n                3647.6785208909046],\n               [18.44804691142663,\n                197.53578186035156,\n                157,\n                'MLM',\n                -3644.149370445103],\n               [-41.41430027883529,\n                87.05746459960938,\n                158,\n                'MMC',\n                3605.423980442296],\n               [36.70538384562744,\n                142.69000244140625,\n                161,\n                'MOH',\n                -5237.491310545332],\n               [140.4882998141854,\n                25.453275680541992,\n                162,\n                'MOS',\n                -3575.8874250610975],\n               [33.77121055215136,\n                131.63771057128906,\n                165,\n                'MSI',\n                -4445.564840306164],\n               [29.998838035601388,\n                136.21910095214844,\n                166,\n                'MTB',\n                -4086.4147468187357],\n               [5.894132254448084,\n                734.4500122070312,\n                167,\n                'MTD',\n                -4328.945506229252],\n               [87.21026880091347,\n                41.6815185546875,\n                168,\n                'MU',\n                -3635.056437184559],\n               [-9.099373329757652,\n                367.7200012207031,\n                173,\n                'NFLX',\n                3346.0215719261173],\n               [-334.4807363350267,\n                23.580421447753906,\n                174,\n                'NI',\n                7887.196728934982],\n               [-14.377625924124368,\n                250.9792022705078,\n                176,\n                'NOC',\n                3608.4850849805066],\n               [275.4216396001373,\n                36.078311920166016,\n                177,\n                'NRG',\n                -9936.747823057303],\n               [65.74328390638367,\n                53.25314712524414,\n                180,\n                'NUE',\n                -3501.0367703633447],\n               [1.4753161583922934, 2768.0, 182, 'NVR', -4083.675126429868],\n               [306.08195673377526,\n                11.74737548828125,\n                183,\n                'NWSA',\n                -3595.6596759395134],\n               [76.26048385724708,\n                47.6258659362793,\n                186,\n                'ODFL',\n                -3631.971580421041],\n               [-74.10108067937834,\n                48.73857879638672,\n                187,\n                'OKE',\n                3611.581359589291],\n               [76.9271503600414,\n                49.734527587890625,\n                188,\n                'ORCL',\n                -3825.935481839289],\n               [60.42227320559343,\n                59.401214599609375,\n                190,\n                'OXY',\n                -3589.1564172816825],\n               [-151.55991846683187,\n                17.63930892944336,\n                192,\n                'PCG',\n                2673.412223157695],\n               [294.8892105591185,\n                26.15886688232422,\n                196,\n                'PHM',\n                -7713.967604049659],\n               [39.03585265565749,\n                85.87220764160156,\n                197,\n                'PKG',\n                -3352.094844713584],\n               [65.6282724979646,\n                63.96995162963867,\n                198,\n                'PLD',\n                -4198.237417231541],\n               [-49.16778483032757,\n                73.00184631347656,\n                205,\n                'PRU',\n                3589.3390717576576],\n               [-30.774388659926995,\n                115.40228271484375,\n                207,\n                'PXD',\n                3551.4347005093764],\n               [32.21308783161664,\n                112.97051239013672,\n                208,\n                'RCL',\n                -3639.12903800621],\n               [9.626052772243776,\n                414.82000732421875,\n                209,\n                'REGN',\n                -3993.0792814854794],\n               [-10.710629533418562,\n                338.1984558105469,\n                215,\n                'ROP',\n                3622.318368960996],\n               [-40.36850115277208,\n                89.168212890625,\n                216,\n                'ROST',\n                3599.587104865822],\n               [19.222469672173286,\n                189.90354919433594,\n                218,\n                'SBAC',\n                -3650.4152150261903],\n               [62.520820967675625,\n                66.6656723022461,\n                219,\n                'SBUX',\n                -4167.99256269846],\n               [-88.49668564176257,\n                41.123390197753906,\n                220,\n                'SCHW',\n                3639.2837348541675],\n               [-99.43260028341993,\n                41.666168212890625,\n                225,\n                'SO',\n                4142.975449254091],\n               [-67.16031883805815,\n                54.14232635498047,\n                227,\n                'SRE',\n                3636.215900634687],\n               [89.55942169304743,\n                31.560415267944336,\n                228,\n                'STLD',\n                -2826.532539789519],\n               [93.07658746946703,\n                39.14455032348633,\n                230,\n                'STX',\n                -3643.441162136929],\n               [88.7397124759937,\n                41.01398849487305,\n                237,\n                'TER',\n                -3639.5695465287477],\n               [-62.078881932952406,\n                70.24906921386719,\n                239,\n                'TGT',\n                4360.983673627463],\n               [-102.24978935074206,\n                35.28303146362305,\n                242,\n                'TRGP',\n                3607.682534811061],\n               [-42.600370334606986,\n                84.92253875732422,\n                244,\n                'TROW',\n                3617.7316008170264],\n               [-32.117564632538894,\n                121.372314453125,\n                245,\n                'TRV',\n                3898.1831540490766],\n               [93.6429215370727,\n                89.70097351074219,\n                246,\n                'TSCO',\n                -8399.861224265467],\n               [14.684409264045758,\n                347.29998779296875,\n                252,\n                'ULTA',\n                -5099.895158150049],\n               [-15.950905299840517,\n                225.82601928710938,\n                253,\n                'UNH',\n                3602.12944788864],\n               [22.745973829873545,\n                116.31183624267578,\n                254,\n                'URI',\n                -2645.625983280441],\n               [64.38665546360149,\n                68.34095001220703,\n                255,\n                'VFC',\n                -4400.245202491185],\n               [52.735084388533394,\n                67.04987335205078,\n                256,\n                'VLO',\n                -3535.8807294608746],\n               [68.16298202528976,\n                115.02114868164062,\n                257,\n                'VMC',\n                -7840.1844901148515],\n               [37.43138626414896,\n                250.63000488281253,\n                263,\n                'WAT',\n                -9381.428522154096],\n               [-134.1458898839772,\n                66.4562759399414,\n                265,\n                'WEC',\n                8914.836274338582],\n               [44.401570376591714,\n                95.11971282958984,\n                267,\n                'WM',\n                -4223.4646234042275],\n               [-194.6982790528622,\n                21.285757064819336,\n                268,\n                'WMB',\n                4144.300268857628],\n               [-38.34034706563653,\n                128.77572631835938,\n                271,\n                'WYNN',\n                4937.306040675323],\n               [-93.64807202003149,\n                47.5833854675293,\n                272,\n                'XEL',\n                4456.092309220104],\n               [57.543354988509044,\n                62.61861038208008,\n                273,\n                'XOM',\n                -3603.284926103172]]),\n             (datetime.datetime(2019, 7, 2, 0, 0),\n              [[-53.86164878762741,\n                65.94172668457031,\n                2,\n                'ALB',\n                3551.7301231340443],\n               [-17.178961962496732,\n                206.58999633789062,\n                5,\n                'ANSS',\n                3549.0016889209624],\n               [21.794104127173835,\n                188.03843688964844,\n                6,\n                'AON',\n                -4098.1292734840035],\n               [28.93814993641948,\n                124.47511291503906,\n                11,\n                'ARE',\n                -3602.0794808881456],\n               [-38.1805556838818,\n                107.54387664794922,\n                15,\n                'AWK',\n                4106.084970817541],\n               [-10.211370789638467,\n                347.85205078125,\n                18,\n                'BA',\n                3552.046270463493],\n               [-15.436095383429294,\n                230.9795379638672,\n                19,\n                'BDX',\n                3565.4221796306815],\n               [-15.181594552233266,\n                236.3699951171875,\n                22,\n                'BIIB',\n                3588.4734301824974],\n               [-30.13965519947,\n                120.19532012939453,\n                26,\n                'BR',\n                3622.645505289867],\n               [86.73359318368358,\n                40.48440933227539,\n                30,\n                'CAH',\n                -3511.3582893072967],\n               [-60.698381176441515,\n                44.971858978271484,\n                33,\n                'CCL',\n                2729.719038476296],\n               [-194.1014481424918,\n                40.89727783203125,\n                36,\n                'CF',\n                7938.220852283092],\n               [53.514314365874235,\n                69.61329650878906,\n                37,\n                'CHD',\n                -3725.3078334161532],\n               [170.1737025722855,\n                50.27888107299805,\n                45,\n                'CMS',\n                -8556.143353383684],\n               [145.1752352623053,\n                25.067026138305664,\n                47,\n                'CNP',\n                -3639.1114169548814],\n               [-112.81183241382708,\n                34.750572204589844,\n                51,\n                'CPB',\n                3920.275727828787],\n               [232.79401779905186,\n                18.700000762939453,\n                52,\n                'CPRT',\n                -4353.248310450011],\n               [57.49915336269659,\n                62.44312286376953,\n                59,\n                'D',\n                -3590.42669798959],\n               [-143.77261374359247,\n                56.81730270385742,\n                60,\n                'DAL',\n                8168.7721155944655],\n               [25.999322655141206,\n                154.52658081054688,\n                61,\n                'DE',\n                -4017.5864332891597],\n               [35.183220514503134,\n                130.3231964111328,\n                63,\n                'DG',\n                -4585.189757487789],\n               [-86.35157509364466,\n                41.87641143798828,\n                65,\n                'DHI',\n                3616.094086939805],\n               [-43.11779672058944,\n                109.08000183105469,\n                68,\n                'DLTR',\n                4703.28934523294],\n               [99.31396005840024,\n                93.40293884277344,\n                71,\n                'DTE',\n                -9276.215737568402],\n               [240.08885601645545,\n                36.41749954223633,\n                72,\n                'DXCM',\n                -8743.43580407531],\n               [115.27424886415746,\n                73.56512451171875,\n                75,\n                'ED',\n                -8480.164470686597],\n               [-71.60702351337078,\n                54.131507873535156,\n                77,\n                'EIX',\n                3876.1961571144475],\n               [8.7023888540028,\n                471.6949157714844,\n                80,\n                'EQIX',\n                -4104.8725774995555],\n               [14.304436353197564,\n                253.7894744873047,\n                82,\n                'ESS',\n                -3630.315384915107],\n               [-47.74089950055526,\n                73.58935546875,\n                83,\n                'ETN',\n                3513.2220237442302],\n               [124.22855480006845,\n                29.245676040649414,\n                86,\n                'EXC',\n                -3633.1480686808645],\n               [60.95098689558465,\n                132.69314575195312,\n                88,\n                'EXPE',\n                -8087.778187861199],\n               [440.4883225152879,\n                8.092262268066406,\n                90,\n                'F',\n                -3564.5470318143302],\n               [-454.5449918956579,\n                10.795037269592285,\n                92,\n                'FCX',\n                4906.83012822015],\n               [30.36813858843801,\n                129.5462646484375,\n                109,\n                'HCA',\n                -3934.0789184582177],\n               [-193.00616707138713,\n                58.1216163635254,\n                111,\n                'HES',\n                11217.83039831765],\n               [35.44230130669053,\n                122.73375701904297,\n                116,\n                'HSY',\n                -4349.966796771065],\n               [-36.07944542818225,\n                105.5042724609375,\n                118,\n                'IBM',\n                3806.5356406944657],\n               [-12.760971365535154,\n                277.010009765625,\n                120,\n                'IDXX',\n                3534.916802585754],\n               [-54.349184070185814,\n                165.07000732421875,\n                126,\n                'IT',\n                8971.420212530886],\n               [150.32750438038008,\n                30.72987174987793,\n                130,\n                'JBL',\n                -4619.544930088293],\n               [157.27230698476006,\n                45.71571350097656,\n                138,\n                'LEN',\n                -7189.815727752926],\n               [13.68211870243337,\n                321.5618896484375,\n                141,\n                'LMT',\n                -4399.647944348702],\n               [85.23419419793666,\n                42.54393005371094,\n                142,\n                'LNT',\n                -3626.197596141432],\n               [43.033757559182,\n                93.75960540771484,\n                143,\n                'LOW',\n                -4034.82812796017],\n               [-200.4886152669197,\n                36.55715560913086,\n                150,\n                'MAS',\n                7329.293506171953],\n               [31.774119225568768,\n                130.6134033203125,\n                152,\n                'MCK',\n                -4150.125849556909],\n               [45.52764153232916,\n                85.93609619140625,\n                154,\n                'MDT',\n                -3912.467782090101],\n               [-28.298272616285285,\n                151.47000122070312,\n                155,\n                'MHK',\n                4286.339387732522],\n               [15.306793421590136,\n                317.6296691894531,\n                156,\n                'MKTX',\n                -4861.891730850973],\n               [-36.89609382285326,\n                218.49147033691406,\n                157,\n                'MLM',\n                8061.481789043941],\n               [41.41430027883529,\n                94.49008178710938,\n                158,\n                'MMC',\n                -3913.2406205030534],\n               [-25.48010723902569,\n                140.86000061035156,\n                161,\n                'MOH',\n                3589.127921240982],\n               [-27.628939561615756,\n                130.25575256347656,\n                164,\n                'MSFT',\n                3598.8283151290707],\n               [-24.69845751092708,\n                144.13182067871094,\n                166,\n                'MTB',\n                3559.8336490057036],\n               [-78.66355691952629,\n                46.25901412963867,\n                171,\n                'NEE',\n                3638.8985910280026],\n               [334.4807363350267,\n                24.474597930908203,\n                174,\n                'NI',\n                -8186.281537433896],\n               [14.377625924124368,\n                298.4929504394531,\n                176,\n                'NOC',\n                -4291.619982406652],\n               [-66.1844534231706,\n                53.23518753051758,\n                178,\n                'NTAP',\n                3523.3417895872926],\n               [68.10985691063729,\n                53.31599044799805,\n                185,\n                'O',\n                -3631.3444804620517],\n               [-74.18379765945082,\n                47.74276351928711,\n                186,\n                'ODFL',\n                3541.739508617805],\n               [74.10108067937834,\n                48.753055572509766,\n                187,\n                'OKE',\n                -3612.654104344762],\n               [-147.44460527955925,\n                30.68170928955078,\n                196,\n                'PHM',\n                4523.852515500002],\n               [84.26019548365352,\n                119.09999847412111,\n                201,\n                'PODD',\n                -10035.38915353228],\n               [-50.31126023519317,\n                180.66488647460938,\n                202,\n                'POOL',\n                9089.478118785702],\n               [-32.916125071458225,\n                108.11843872070312,\n                203,\n                'PPG',\n                3558.840051461456],\n               [49.16778483032757,\n                78.33032989501953,\n                205,\n                'PRU',\n                -3851.3288059668953],\n               [30.774388659926995,\n                112.53628540039062,\n                207,\n                'PXD',\n                -3463.235385256089],\n               [-23.79960203556515,\n                148.62937927246094,\n                214,\n                'ROK',\n                3537.320077477646],\n               [10.710629533418562,\n                363.1957702636719,\n                215,\n                'ROP',\n                -3890.055343398787],\n               [-46.88967514274982,\n                77.11093139648438,\n                219,\n                'SBUX',\n                3615.70652313602],\n               [88.49668564176257,\n                37.385921478271484,\n                220,\n                'SCHW',\n                -3308.5301404902107],\n               [-24.312887905220318,\n                147.71226501464844,\n                221,\n                'SHW',\n                3591.3117415273446],\n               [79.8703376146767,\n                45.59401321411133,\n                225,\n                'SO',\n                -3641.6092286191024],\n               [134.3206376761163,\n                58.805946350097656,\n                227,\n                'SRE',\n                -7898.852212892601],\n               [-57.57692451599033,\n                62.742916107177734,\n                233,\n                'SYY',\n                3612.544144616086],\n               [-62.08825314835244,\n                49.74180603027344,\n                234,\n                'TAP',\n                3088.3818448638613],\n               [-40.08578320909634,\n                88.03224182128906,\n                236,\n                'TEL',\n                3528.8413610589378],\n               [-88.7397124759937,\n                46.51152801513672,\n                237,\n                'TER',\n                4127.419622882358],\n               [42.600370334606986,\n                89.95136260986328,\n                244,\n                'TROW',\n                -3831.961359282696],\n               [-93.6429215370727,\n                102.38653564453125,\n                246,\n                'TSCO',\n                9587.774323813537],\n               [-28.174350201246135,\n                126.82421875,\n                251,\n                'UHS',\n                3573.189953061946],\n               [15.950905299840517,\n                226.41769409179688,\n                253,\n                'UNH',\n                -3611.567196666512],\n               [-27.128026026036142,\n                129.33352661132812,\n                254,\n                'URI',\n                3508.5632759511473],\n               [48.107806656638836,\n                72.9601058959961,\n                255,\n                'VFC',\n                -3509.950668092475],\n               [-34.08149101264488,\n                131.06983947753906,\n                257,\n                'VMC',\n                4467.055556182555],\n               [-18.71569313207448,\n                217.1999969482422,\n                263,\n                'WAT',\n                4065.0484911708145],\n               [67.0729449419886,\n                72.08891296386719,\n                265,\n                'WEC',\n                -4835.215690153272],\n               [-86.26822594010521,\n                41.042110443115234,\n                266,\n                'WFC',\n                3540.6300567654166],\n               [-88.463910342849,\n                40.55928039550781,\n                269,\n                'WRB',\n                3588.0325444786763],\n               [28.32422012518317,\n                127.87517547607422,\n                271,\n                'WYNN',\n                -3621.9646187307508],\n               [69.78822799614697,\n                51.84867858886719,\n                272,\n                'XEL',\n                -3618.4274026588073]])])"
     },
     "execution_count": 93,
     "metadata": {},
     "output_type": "execute_result"
    }
   ],
   "source": [
    "cerebro.broker.setcash(1000000.0)\n",
    "\n",
    "cerebro.addsizer(bt.sizers.PercentSizer, percents = 10)\n",
    "\n",
    "cerebro.addanalyzer(btanalyzers.SharpeRatio, _name = \"sharpe\")\n",
    "cerebro.addanalyzer(btanalyzers.Returns,     _name = \"returns\")\n",
    "cerebro.addanalyzer(btanalyzers.Transactions, _name = \"trans\")\n",
    "\n",
    "back = cerebro.run()\n",
    "\n",
    "cerebro.broker.getvalue()\n",
    "back[0].analyzers.returns.get_analysis()['rnorm100']\n",
    "back[0].analyzers.sharpe.get_analysis()\n",
    "back[0].analyzers.trans.get_analysis()"
   ],
   "metadata": {
    "collapsed": false,
    "ExecuteTime": {
     "end_time": "2024-06-23T16:59:38.088198Z",
     "start_time": "2024-06-23T16:59:26.322697Z"
    }
   }
  },
  {
   "cell_type": "code",
   "execution_count": 44,
   "outputs": [
    {
     "ename": "AttributeError",
     "evalue": "'Lines_LineSeries_LineIterator_DataAccessor_Strateg' object has no attribute 'portfolio_value'",
     "output_type": "error",
     "traceback": [
      "\u001B[0;31m---------------------------------------------------------------------------\u001B[0m",
      "\u001B[0;31mAttributeError\u001B[0m                            Traceback (most recent call last)",
      "\u001B[0;32m/var/folders/8y/1xpfmccx4pdc37lkv_91bn840000gn/T/ipykernel_21088/2074207532.py\u001B[0m in \u001B[0;36m<module>\u001B[0;34m\u001B[0m\n\u001B[1;32m      2\u001B[0m \u001B[0mresults\u001B[0m \u001B[0;34m=\u001B[0m \u001B[0mcerebro\u001B[0m\u001B[0;34m.\u001B[0m\u001B[0mrun\u001B[0m\u001B[0;34m(\u001B[0m\u001B[0;34m)\u001B[0m\u001B[0;34m\u001B[0m\u001B[0;34m\u001B[0m\u001B[0m\n\u001B[1;32m      3\u001B[0m \u001B[0;34m\u001B[0m\u001B[0m\n\u001B[0;32m----> 4\u001B[0;31m \u001B[0mportfolio_values\u001B[0m \u001B[0;34m=\u001B[0m \u001B[0mresults\u001B[0m\u001B[0;34m[\u001B[0m\u001B[0;36m0\u001B[0m\u001B[0;34m]\u001B[0m\u001B[0;34m.\u001B[0m\u001B[0mportfolio_value\u001B[0m\u001B[0;34m\u001B[0m\u001B[0;34m\u001B[0m\u001B[0m\n\u001B[0m\u001B[1;32m      5\u001B[0m \u001B[0mdates\u001B[0m\u001B[0;34m,\u001B[0m \u001B[0mvalues\u001B[0m \u001B[0;34m=\u001B[0m \u001B[0mzip\u001B[0m\u001B[0;34m(\u001B[0m\u001B[0;34m*\u001B[0m\u001B[0mportfolio_values\u001B[0m\u001B[0;34m)\u001B[0m\u001B[0;34m\u001B[0m\u001B[0;34m\u001B[0m\u001B[0m\n\u001B[1;32m      6\u001B[0m \u001B[0;34m\u001B[0m\u001B[0m\n",
      "\u001B[0;32m~/opt/anaconda3/lib/python3.9/site-packages/backtrader/lineseries.py\u001B[0m in \u001B[0;36m__getattr__\u001B[0;34m(self, name)\u001B[0m\n\u001B[1;32m    459\u001B[0m         \u001B[0;31m# in this object if we set an attribute in this object it will be\u001B[0m\u001B[0;34m\u001B[0m\u001B[0;34m\u001B[0m\u001B[0m\n\u001B[1;32m    460\u001B[0m         \u001B[0;31m# found before we end up here\u001B[0m\u001B[0;34m\u001B[0m\u001B[0;34m\u001B[0m\u001B[0m\n\u001B[0;32m--> 461\u001B[0;31m         \u001B[0;32mreturn\u001B[0m \u001B[0mgetattr\u001B[0m\u001B[0;34m(\u001B[0m\u001B[0mself\u001B[0m\u001B[0;34m.\u001B[0m\u001B[0mlines\u001B[0m\u001B[0;34m,\u001B[0m \u001B[0mname\u001B[0m\u001B[0;34m)\u001B[0m\u001B[0;34m\u001B[0m\u001B[0;34m\u001B[0m\u001B[0m\n\u001B[0m\u001B[1;32m    462\u001B[0m \u001B[0;34m\u001B[0m\u001B[0m\n\u001B[1;32m    463\u001B[0m     \u001B[0;32mdef\u001B[0m \u001B[0m__len__\u001B[0m\u001B[0;34m(\u001B[0m\u001B[0mself\u001B[0m\u001B[0;34m)\u001B[0m\u001B[0;34m:\u001B[0m\u001B[0;34m\u001B[0m\u001B[0;34m\u001B[0m\u001B[0m\n",
      "\u001B[0;31mAttributeError\u001B[0m: 'Lines_LineSeries_LineIterator_DataAccessor_Strateg' object has no attribute 'portfolio_value'"
     ]
    }
   ],
   "source": [
    "results = cerebro.run()\n",
    "\n",
    "portfolio_values = results[0].portfolio_value\n",
    "dates, values = zip(*portfolio_values)\n",
    "\n",
    "plt.figure(figsize=(12, 6))\n",
    "plt.plot(dates, values)\n",
    "plt.title('Portfolio Value Over Time')\n",
    "plt.xlabel('Date')\n",
    "plt.ylabel('Portfolio Value (TL)')\n",
    "plt.grid(True)\n",
    "plt.show()"
   ],
   "metadata": {
    "collapsed": false,
    "ExecuteTime": {
     "end_time": "2024-06-23T11:35:52.245791Z",
     "start_time": "2024-06-23T11:35:42.944468Z"
    }
   }
  },
  {
   "cell_type": "code",
   "execution_count": 14,
   "outputs": [
    {
     "data": {
      "text/plain": "           Tarih OFTIC  Predicted EPS  Actual EPS  Predicted EPS Next  \\\n2     2018-12-31  AAPL       0.985615      1.0450              0.6150   \n3     2019-03-31  AAPL       0.839935      0.6150              0.5450   \n31    2019-03-31  AMZN       0.210970      0.3545              0.2610   \n32    2019-06-30  AMZN       0.234852      0.2610              0.2115   \n37    2018-12-31  ANSS       1.250290      2.1300              1.2900   \n...          ...   ...            ...         ...                 ...   \n1905  2018-09-30   XEL       0.856675      0.9600              0.4200   \n1907  2019-03-31   XEL       0.741933      0.6100              0.4600   \n1909  2019-09-30   XEL       0.881074      1.0100              0.5600   \n1913  2018-12-31   XOM       1.238910      1.4100              0.5500   \n1916  2019-09-30   XOM       1.283648      0.7500              0.4100   \n\n      Difference  Decile  \n2      -0.411483       1  \n3      -0.113821       1  \n31     -0.263752       1  \n32     -0.189655       1  \n37     -0.394366       1  \n...          ...     ...  \n1905   -0.562500       1  \n1907   -0.245902       1  \n1909   -0.445545       1  \n1913   -0.609929       1  \n1916   -0.453333       1  \n\n[336 rows x 7 columns]",
      "text/html": "<div>\n<style scoped>\n    .dataframe tbody tr th:only-of-type {\n        vertical-align: middle;\n    }\n\n    .dataframe tbody tr th {\n        vertical-align: top;\n    }\n\n    .dataframe thead th {\n        text-align: right;\n    }\n</style>\n<table border=\"1\" class=\"dataframe\">\n  <thead>\n    <tr style=\"text-align: right;\">\n      <th></th>\n      <th>Tarih</th>\n      <th>OFTIC</th>\n      <th>Predicted EPS</th>\n      <th>Actual EPS</th>\n      <th>Predicted EPS Next</th>\n      <th>Difference</th>\n      <th>Decile</th>\n    </tr>\n  </thead>\n  <tbody>\n    <tr>\n      <th>2</th>\n      <td>2018-12-31</td>\n      <td>AAPL</td>\n      <td>0.985615</td>\n      <td>1.0450</td>\n      <td>0.6150</td>\n      <td>-0.411483</td>\n      <td>1</td>\n    </tr>\n    <tr>\n      <th>3</th>\n      <td>2019-03-31</td>\n      <td>AAPL</td>\n      <td>0.839935</td>\n      <td>0.6150</td>\n      <td>0.5450</td>\n      <td>-0.113821</td>\n      <td>1</td>\n    </tr>\n    <tr>\n      <th>31</th>\n      <td>2019-03-31</td>\n      <td>AMZN</td>\n      <td>0.210970</td>\n      <td>0.3545</td>\n      <td>0.2610</td>\n      <td>-0.263752</td>\n      <td>1</td>\n    </tr>\n    <tr>\n      <th>32</th>\n      <td>2019-06-30</td>\n      <td>AMZN</td>\n      <td>0.234852</td>\n      <td>0.2610</td>\n      <td>0.2115</td>\n      <td>-0.189655</td>\n      <td>1</td>\n    </tr>\n    <tr>\n      <th>37</th>\n      <td>2018-12-31</td>\n      <td>ANSS</td>\n      <td>1.250290</td>\n      <td>2.1300</td>\n      <td>1.2900</td>\n      <td>-0.394366</td>\n      <td>1</td>\n    </tr>\n    <tr>\n      <th>...</th>\n      <td>...</td>\n      <td>...</td>\n      <td>...</td>\n      <td>...</td>\n      <td>...</td>\n      <td>...</td>\n      <td>...</td>\n    </tr>\n    <tr>\n      <th>1905</th>\n      <td>2018-09-30</td>\n      <td>XEL</td>\n      <td>0.856675</td>\n      <td>0.9600</td>\n      <td>0.4200</td>\n      <td>-0.562500</td>\n      <td>1</td>\n    </tr>\n    <tr>\n      <th>1907</th>\n      <td>2019-03-31</td>\n      <td>XEL</td>\n      <td>0.741933</td>\n      <td>0.6100</td>\n      <td>0.4600</td>\n      <td>-0.245902</td>\n      <td>1</td>\n    </tr>\n    <tr>\n      <th>1909</th>\n      <td>2019-09-30</td>\n      <td>XEL</td>\n      <td>0.881074</td>\n      <td>1.0100</td>\n      <td>0.5600</td>\n      <td>-0.445545</td>\n      <td>1</td>\n    </tr>\n    <tr>\n      <th>1913</th>\n      <td>2018-12-31</td>\n      <td>XOM</td>\n      <td>1.238910</td>\n      <td>1.4100</td>\n      <td>0.5500</td>\n      <td>-0.609929</td>\n      <td>1</td>\n    </tr>\n    <tr>\n      <th>1916</th>\n      <td>2019-09-30</td>\n      <td>XOM</td>\n      <td>1.283648</td>\n      <td>0.7500</td>\n      <td>0.4100</td>\n      <td>-0.453333</td>\n      <td>1</td>\n    </tr>\n  </tbody>\n</table>\n<p>336 rows × 7 columns</p>\n</div>"
     },
     "execution_count": 14,
     "metadata": {},
     "output_type": "execute_result"
    }
   ],
   "source": [
    "decile_1_companies"
   ],
   "metadata": {
    "collapsed": false,
    "ExecuteTime": {
     "end_time": "2024-06-23T17:07:27.545946Z",
     "start_time": "2024-06-23T17:07:27.515282Z"
    }
   }
  },
  {
   "cell_type": "code",
   "execution_count": 34,
   "outputs": [
    {
     "name": "stderr",
     "output_type": "stream",
     "text": [
      "[*********************100%%**********************]  1 of 1 completed\n",
      "[*********************100%%**********************]  1 of 1 completed\n",
      "[*********************100%%**********************]  1 of 1 completed\n",
      "[*********************100%%**********************]  1 of 1 completed\n",
      "[*********************100%%**********************]  1 of 1 completed\n",
      "[*********************100%%**********************]  1 of 1 completed\n",
      "[*********************100%%**********************]  1 of 1 completed\n",
      "[*********************100%%**********************]  1 of 1 completed\n",
      "[*********************100%%**********************]  1 of 1 completed\n",
      "[*********************100%%**********************]  1 of 1 completed\n",
      "[*********************100%%**********************]  1 of 1 completed\n",
      "[*********************100%%**********************]  1 of 1 completed\n",
      "[*********************100%%**********************]  1 of 1 completed\n",
      "[*********************100%%**********************]  1 of 1 completed\n",
      "[*********************100%%**********************]  1 of 1 completed\n",
      "[*********************100%%**********************]  1 of 1 completed"
     ]
    },
    {
     "name": "stdout",
     "output_type": "stream",
     "text": [
      "\n",
      "CHTR Hisse Fiyatları:\n",
      "Date\n",
      "2018-07-02    293.910004\n",
      "2018-10-01    321.589996\n",
      "2018-12-31    284.970001\n",
      "2019-04-01    346.220001\n",
      "2019-07-01    397.739990\n",
      "2019-09-30    412.119995\n",
      "2019-12-30    483.079987\n",
      "Name: CHTR, dtype: float64\n",
      "\n",
      "UDR Hisse Fiyatları:\n",
      "Date\n",
      "2018-07-02    30.137941\n",
      "2018-10-01    32.676056\n",
      "2018-12-31    32.611752\n",
      "2019-04-01    37.561405\n",
      "2019-07-01    37.720528\n",
      "2019-09-30    40.839935\n",
      "2019-12-30    39.304504\n",
      "Name: UDR, dtype: float64\n",
      "\n",
      "MOH Hisse Fiyatları:\n",
      "Date\n",
      "2018-07-02     98.709999\n",
      "2018-10-01    148.139999\n",
      "2018-12-31    116.220001\n",
      "2019-04-01    144.699997\n",
      "2019-07-01    140.309998\n",
      "2019-09-30    109.720001\n",
      "2019-12-30    135.839996\n",
      "Name: MOH, dtype: float64\n",
      "\n",
      "EOG Hisse Fiyatları:\n",
      "Date\n",
      "2018-07-02     96.446419\n",
      "2018-10-01    102.183121\n",
      "2018-12-31     68.942879\n",
      "2019-04-01     76.806236\n",
      "2019-07-01     73.910233\n",
      "2019-09-30     59.119980\n",
      "2019-12-30     65.901863\n",
      "Name: EOG, dtype: float64\n",
      "\n",
      "OXY Hisse Fiyatları:\n",
      "Date\n",
      "2018-07-02    71.132103\n",
      "2018-10-01    72.385803\n",
      "2018-12-31    54.071541\n",
      "2019-04-01    59.891541\n",
      "2019-07-01    45.096577\n",
      "2019-09-30    40.998623\n",
      "2019-12-30    38.298504\n",
      "Name: OXY, dtype: float64\n",
      "\n",
      "APA Hisse Fiyatları:\n",
      "Date\n",
      "2018-07-02    39.373337\n",
      "2018-10-01    42.856743\n",
      "2018-12-31    23.401018\n",
      "2019-04-01    31.422506\n",
      "2019-07-01    26.417101\n",
      "2019-09-30    23.408701\n",
      "2019-12-30    23.579960\n",
      "Name: APA, dtype: float64\n",
      "\n",
      "EQR Hisse Fiyatları:\n",
      "Date\n",
      "2018-07-02    51.088562\n",
      "2018-10-01    53.583233\n",
      "2018-12-31    53.999111\n",
      "2019-04-01    61.806343\n",
      "2019-07-01    63.237354\n",
      "2019-09-30    72.114532\n",
      "2019-12-30    67.483025\n",
      "Name: EQR, dtype: float64\n",
      "\n",
      "SBAC Hisse Fiyatları:\n",
      "Date\n",
      "2018-07-02    156.658081\n",
      "2018-10-01    149.714081\n",
      "2018-12-31    153.994614\n",
      "2019-04-01    188.257965\n",
      "2019-07-01    214.017242\n",
      "2019-09-30    229.709869\n",
      "2019-12-30    227.526855\n",
      "Name: SBAC, dtype: float64\n",
      "\n",
      "NRG Hisse Fiyatları:\n",
      "Date\n",
      "2018-07-02    26.310112\n",
      "2018-10-01    31.990404\n",
      "2018-12-31    33.702419\n",
      "2019-04-01    35.584335\n",
      "2019-07-01    30.198143\n",
      "2019-09-30    33.781494\n",
      "2019-12-30    33.490528\n",
      "Name: NRG, dtype: float64\n",
      "\n",
      "POOL Hisse Fiyatları:\n",
      "Date\n",
      "2018-07-02    144.030914\n",
      "2018-10-01    157.516418\n",
      "2018-12-31    140.631851\n",
      "2019-04-01    159.227890\n",
      "2019-07-01    182.082840\n",
      "2019-09-30    192.478912\n",
      "2019-12-30    205.667130\n",
      "Name: POOL, dtype: float64\n",
      "\n",
      "MLM Hisse Fiyatları:\n",
      "Date\n",
      "2018-07-02    212.285889\n",
      "2018-10-01    176.391129\n",
      "2018-12-31    164.843018\n",
      "2019-04-01    196.160812\n",
      "2019-07-01    219.821442\n",
      "2019-09-30    264.738464\n",
      "2019-12-30    269.001068\n",
      "Name: MLM, dtype: float64\n",
      "\n",
      "MOS Hisse Fiyatları:\n",
      "Date\n",
      "2018-07-02    25.651821\n",
      "2018-10-01    30.365585\n",
      "2018-12-31    27.003580\n",
      "2019-04-01    25.758614\n",
      "2019-07-01    23.432318\n",
      "2019-09-30    19.062389\n",
      "2019-12-30    19.608418\n",
      "Name: MOS, dtype: float64\n",
      "\n",
      "BG Hisse Fiyatları:\n",
      "Date\n",
      "2018-07-02    57.774220\n",
      "2018-10-01    56.785797\n",
      "2018-12-31    45.267948\n",
      "2019-04-01    45.161060\n",
      "2019-07-01    48.592953\n",
      "2019-09-30    49.327312\n",
      "2019-12-30    50.242100\n",
      "Name: BG, dtype: float64\n",
      "\n",
      "NVDA Hisse Fiyatları:\n",
      "Date\n",
      "2018-07-02    5.998898\n",
      "2018-10-01    7.169710\n",
      "2018-12-31    3.311148\n",
      "2019-04-01    4.525679\n",
      "2019-07-01    4.130407\n",
      "2019-09-30    4.331056\n",
      "2019-12-30    5.784646\n",
      "Name: NVDA, dtype: float64\n",
      "\n",
      "CF Hisse Fiyatları:\n",
      "Date\n",
      "2018-07-02    37.332935\n",
      "2018-10-01    47.432934\n",
      "2018-12-31    37.890160\n",
      "2019-04-01    36.676479\n",
      "2019-07-01    41.100487\n",
      "2019-09-30    43.737312\n",
      "2019-12-30    42.372993\n",
      "Name: CF, dtype: float64\n",
      "\n",
      "BX Hisse Fiyatları:\n",
      "Date\n",
      "2018-07-02    25.935795\n",
      "2018-10-01    30.812201\n",
      "2018-12-31    24.169882\n",
      "2019-04-01    29.192883\n",
      "2019-07-01    38.769928\n",
      "2019-09-30    41.047256\n",
      "2019-12-30    47.502689\n",
      "Name: BX, dtype: float64\n"
     ]
    },
    {
     "name": "stderr",
     "output_type": "stream",
     "text": [
      "\n"
     ]
    },
    {
     "data": {
      "text/plain": "                  CHTR        UDR         MOH         EOG        OXY  \\\nDate                                                                   \n2018-07-02  293.910004  30.137941   98.709999   96.446419  71.132103   \n2018-10-01  321.589996  32.676056  148.139999  102.183121  72.385803   \n2018-12-31  284.970001  32.611752  116.220001   68.942879  54.071541   \n2019-04-01  346.220001  37.561405  144.699997   76.806236  59.891541   \n2019-07-01  397.739990  37.720528  140.309998   73.910233  45.096577   \n2019-09-30  412.119995  40.839935  109.720001   59.119980  40.998623   \n2019-12-30  483.079987  39.304504  135.839996   65.901863  38.298504   \n\n                  APA        EQR        SBAC        NRG        POOL  \\\nDate                                                                  \n2018-07-02  39.373337  51.088562  156.658081  26.310112  144.030914   \n2018-10-01  42.856743  53.583233  149.714081  31.990404  157.516418   \n2018-12-31  23.401018  53.999111  153.994614  33.702419  140.631851   \n2019-04-01  31.422506  61.806343  188.257965  35.584335  159.227890   \n2019-07-01  26.417101  63.237354  214.017242  30.198143  182.082840   \n2019-09-30  23.408701  72.114532  229.709869  33.781494  192.478912   \n2019-12-30  23.579960  67.483025  227.526855  33.490528  205.667130   \n\n                   MLM        MOS         BG      NVDA         CF         BX  \nDate                                                                          \n2018-07-02  212.285889  25.651821  57.774220  5.998898  37.332935  25.935795  \n2018-10-01  176.391129  30.365585  56.785797  7.169710  47.432934  30.812201  \n2018-12-31  164.843018  27.003580  45.267948  3.311148  37.890160  24.169882  \n2019-04-01  196.160812  25.758614  45.161060  4.525679  36.676479  29.192883  \n2019-07-01  219.821442  23.432318  48.592953  4.130407  41.100487  38.769928  \n2019-09-30  264.738464  19.062389  49.327312  4.331056  43.737312  41.047256  \n2019-12-30  269.001068  19.608418  50.242100  5.784646  42.372993  47.502689  ",
      "text/html": "<div>\n<style scoped>\n    .dataframe tbody tr th:only-of-type {\n        vertical-align: middle;\n    }\n\n    .dataframe tbody tr th {\n        vertical-align: top;\n    }\n\n    .dataframe thead th {\n        text-align: right;\n    }\n</style>\n<table border=\"1\" class=\"dataframe\">\n  <thead>\n    <tr style=\"text-align: right;\">\n      <th></th>\n      <th>CHTR</th>\n      <th>UDR</th>\n      <th>MOH</th>\n      <th>EOG</th>\n      <th>OXY</th>\n      <th>APA</th>\n      <th>EQR</th>\n      <th>SBAC</th>\n      <th>NRG</th>\n      <th>POOL</th>\n      <th>MLM</th>\n      <th>MOS</th>\n      <th>BG</th>\n      <th>NVDA</th>\n      <th>CF</th>\n      <th>BX</th>\n    </tr>\n    <tr>\n      <th>Date</th>\n      <th></th>\n      <th></th>\n      <th></th>\n      <th></th>\n      <th></th>\n      <th></th>\n      <th></th>\n      <th></th>\n      <th></th>\n      <th></th>\n      <th></th>\n      <th></th>\n      <th></th>\n      <th></th>\n      <th></th>\n      <th></th>\n    </tr>\n  </thead>\n  <tbody>\n    <tr>\n      <th>2018-07-02</th>\n      <td>293.910004</td>\n      <td>30.137941</td>\n      <td>98.709999</td>\n      <td>96.446419</td>\n      <td>71.132103</td>\n      <td>39.373337</td>\n      <td>51.088562</td>\n      <td>156.658081</td>\n      <td>26.310112</td>\n      <td>144.030914</td>\n      <td>212.285889</td>\n      <td>25.651821</td>\n      <td>57.774220</td>\n      <td>5.998898</td>\n      <td>37.332935</td>\n      <td>25.935795</td>\n    </tr>\n    <tr>\n      <th>2018-10-01</th>\n      <td>321.589996</td>\n      <td>32.676056</td>\n      <td>148.139999</td>\n      <td>102.183121</td>\n      <td>72.385803</td>\n      <td>42.856743</td>\n      <td>53.583233</td>\n      <td>149.714081</td>\n      <td>31.990404</td>\n      <td>157.516418</td>\n      <td>176.391129</td>\n      <td>30.365585</td>\n      <td>56.785797</td>\n      <td>7.169710</td>\n      <td>47.432934</td>\n      <td>30.812201</td>\n    </tr>\n    <tr>\n      <th>2018-12-31</th>\n      <td>284.970001</td>\n      <td>32.611752</td>\n      <td>116.220001</td>\n      <td>68.942879</td>\n      <td>54.071541</td>\n      <td>23.401018</td>\n      <td>53.999111</td>\n      <td>153.994614</td>\n      <td>33.702419</td>\n      <td>140.631851</td>\n      <td>164.843018</td>\n      <td>27.003580</td>\n      <td>45.267948</td>\n      <td>3.311148</td>\n      <td>37.890160</td>\n      <td>24.169882</td>\n    </tr>\n    <tr>\n      <th>2019-04-01</th>\n      <td>346.220001</td>\n      <td>37.561405</td>\n      <td>144.699997</td>\n      <td>76.806236</td>\n      <td>59.891541</td>\n      <td>31.422506</td>\n      <td>61.806343</td>\n      <td>188.257965</td>\n      <td>35.584335</td>\n      <td>159.227890</td>\n      <td>196.160812</td>\n      <td>25.758614</td>\n      <td>45.161060</td>\n      <td>4.525679</td>\n      <td>36.676479</td>\n      <td>29.192883</td>\n    </tr>\n    <tr>\n      <th>2019-07-01</th>\n      <td>397.739990</td>\n      <td>37.720528</td>\n      <td>140.309998</td>\n      <td>73.910233</td>\n      <td>45.096577</td>\n      <td>26.417101</td>\n      <td>63.237354</td>\n      <td>214.017242</td>\n      <td>30.198143</td>\n      <td>182.082840</td>\n      <td>219.821442</td>\n      <td>23.432318</td>\n      <td>48.592953</td>\n      <td>4.130407</td>\n      <td>41.100487</td>\n      <td>38.769928</td>\n    </tr>\n    <tr>\n      <th>2019-09-30</th>\n      <td>412.119995</td>\n      <td>40.839935</td>\n      <td>109.720001</td>\n      <td>59.119980</td>\n      <td>40.998623</td>\n      <td>23.408701</td>\n      <td>72.114532</td>\n      <td>229.709869</td>\n      <td>33.781494</td>\n      <td>192.478912</td>\n      <td>264.738464</td>\n      <td>19.062389</td>\n      <td>49.327312</td>\n      <td>4.331056</td>\n      <td>43.737312</td>\n      <td>41.047256</td>\n    </tr>\n    <tr>\n      <th>2019-12-30</th>\n      <td>483.079987</td>\n      <td>39.304504</td>\n      <td>135.839996</td>\n      <td>65.901863</td>\n      <td>38.298504</td>\n      <td>23.579960</td>\n      <td>67.483025</td>\n      <td>227.526855</td>\n      <td>33.490528</td>\n      <td>205.667130</td>\n      <td>269.001068</td>\n      <td>19.608418</td>\n      <td>50.242100</td>\n      <td>5.784646</td>\n      <td>42.372993</td>\n      <td>47.502689</td>\n    </tr>\n  </tbody>\n</table>\n</div>"
     },
     "execution_count": 34,
     "metadata": {},
     "output_type": "execute_result"
    }
   ],
   "source": [
    "import pandas as pd\n",
    "import yfinance as yf\n",
    "\n",
    "# Şirketlerin tickers listesi\n",
    "companies = ['CHTR', 'UDR', 'MOH', 'EOG', 'OXY', 'APA', 'EQR', 'SBAC', 'NRG', 'POOL', 'MLM',\n",
    "             'MOS', 'BG', 'NVDA', 'CF', 'BX']\n",
    "\n",
    "# Tarih aralığını belirle\n",
    "start_date = '2018-06-30'\n",
    "end_date = '2019-12-31'\n",
    "\n",
    "# İlgili tarihler listesi\n",
    "relevant_dates = ['2018-07-02', '2018-10-01', '2018-12-31', '2019-04-01', '2019-07-01', '2019-09-30', '2019-12-30']\n",
    "\n",
    "# Hisse fiyatlarını yfinance'dan çekmek\n",
    "price_data = {}\n",
    "for ticker in companies:\n",
    "    ticker_data = yf.download(ticker, start=start_date, end=end_date)\n",
    "    price_data[ticker] = ticker_data['Adj Close']\n",
    "\n",
    "# Hisse fiyatlarını bir DataFrame'de birleştir\n",
    "price_df = pd.DataFrame(price_data)\n",
    "price_df.index.name = 'Date'\n",
    "\n",
    "# Sadece ilgili tarihlerdeki fiyatları seçmek\n",
    "filtered_price_df = price_df.loc[relevant_dates]\n",
    "\n",
    "# Her bir şirketin ilgili tarihlerdeki hisse fiyatlarını yazdırmak\n",
    "for company in companies:\n",
    "    print(f\"\\n{company} Hisse Fiyatları:\")\n",
    "    print(filtered_price_df[company])\n",
    "\n",
    "# Çekilen veriyi göstermek\n",
    "filtered_price_df\n"
   ],
   "metadata": {
    "collapsed": false,
    "ExecuteTime": {
     "end_time": "2024-07-04T14:40:05.438946Z",
     "start_time": "2024-07-04T14:40:05.048108Z"
    }
   }
  },
  {
   "cell_type": "code",
   "execution_count": 42,
   "outputs": [
    {
     "data": {
      "text/plain": "        Tarih OFTIC  Predicted EPS  Actual EPS  Difference\n30 2019-12-31  NVDA       0.716511    0.065543   27.660433\n31 2019-12-31    BX       1.159197    0.720000   22.183948\n32 2019-12-31   EQR       6.622829    0.770000   20.363966\n33 2019-12-31    BG       1.348949    1.270000   15.861860\n34 2019-12-31  CHTR      11.629797    3.280000    8.015347",
      "text/html": "<div>\n<style scoped>\n    .dataframe tbody tr th:only-of-type {\n        vertical-align: middle;\n    }\n\n    .dataframe tbody tr th {\n        vertical-align: top;\n    }\n\n    .dataframe thead th {\n        text-align: right;\n    }\n</style>\n<table border=\"1\" class=\"dataframe\">\n  <thead>\n    <tr style=\"text-align: right;\">\n      <th></th>\n      <th>Tarih</th>\n      <th>OFTIC</th>\n      <th>Predicted EPS</th>\n      <th>Actual EPS</th>\n      <th>Difference</th>\n    </tr>\n  </thead>\n  <tbody>\n    <tr>\n      <th>30</th>\n      <td>2019-12-31</td>\n      <td>NVDA</td>\n      <td>0.716511</td>\n      <td>0.065543</td>\n      <td>27.660433</td>\n    </tr>\n    <tr>\n      <th>31</th>\n      <td>2019-12-31</td>\n      <td>BX</td>\n      <td>1.159197</td>\n      <td>0.720000</td>\n      <td>22.183948</td>\n    </tr>\n    <tr>\n      <th>32</th>\n      <td>2019-12-31</td>\n      <td>EQR</td>\n      <td>6.622829</td>\n      <td>0.770000</td>\n      <td>20.363966</td>\n    </tr>\n    <tr>\n      <th>33</th>\n      <td>2019-12-31</td>\n      <td>BG</td>\n      <td>1.348949</td>\n      <td>1.270000</td>\n      <td>15.861860</td>\n    </tr>\n    <tr>\n      <th>34</th>\n      <td>2019-12-31</td>\n      <td>CHTR</td>\n      <td>11.629797</td>\n      <td>3.280000</td>\n      <td>8.015347</td>\n    </tr>\n  </tbody>\n</table>\n</div>"
     },
     "execution_count": 42,
     "metadata": {},
     "output_type": "execute_result"
    }
   ],
   "source": [
    "highest_5_companies[highest_5_companies['Tarih']=='2019-12-31']"
   ],
   "metadata": {
    "collapsed": false,
    "ExecuteTime": {
     "end_time": "2024-07-04T14:46:38.713820Z",
     "start_time": "2024-07-04T14:46:38.567537Z"
    }
   }
  },
  {
   "cell_type": "code",
   "execution_count": null,
   "outputs": [],
   "source": [],
   "metadata": {
    "collapsed": false
   }
  }
 ],
 "metadata": {
  "kernelspec": {
   "display_name": "Python 3",
   "language": "python",
   "name": "python3"
  },
  "language_info": {
   "codemirror_mode": {
    "name": "ipython",
    "version": 2
   },
   "file_extension": ".py",
   "mimetype": "text/x-python",
   "name": "python",
   "nbconvert_exporter": "python",
   "pygments_lexer": "ipython2",
   "version": "2.7.6"
  }
 },
 "nbformat": 4,
 "nbformat_minor": 0
}
