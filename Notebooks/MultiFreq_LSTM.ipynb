{
 "cells": [
  {
   "cell_type": "code",
   "execution_count": 1,
   "metadata": {},
   "outputs": [],
   "source": [
    "import numpy as np\n",
    "import pandas as pd\n",
    "import torch\n",
    "import torch.nn as nn\n",
    "import talib\n",
    "from sklearn.preprocessing import MinMaxScaler, StandardScaler\n",
    "from torch.utils.data import Dataset, DataLoader, Subset\n",
    "from sklearn.model_selection import train_test_split\n",
    "import torch.optim as optim\n",
    "import os\n",
    "from sklearn.model_selection import TimeSeriesSplit\n",
    "\n",
    "from sklearn.metrics import accuracy_score, precision_score, recall_score, f1_score, roc_auc_score, log_loss, mean_absolute_error, mean_squared_error, r2_score, mean_absolute_percentage_error\n",
    "import matplotlib.pyplot as plt\n",
    "import scipy.cluster.hierarchy as sch\n",
    "import seaborn as sns\n",
    "\n",
    "import optuna\n",
    "from optuna.samplers import TPESampler\n",
    "from optuna.trial import TrialState\n",
    "from torch.optim.lr_scheduler import StepLR, ReduceLROnPlateau \n",
    "from optuna.pruners import HyperbandPruner\n",
    "import shap\n",
    "import plotly.graph_objs as go\n",
    "import plotly.offline as pyo\n",
    "from tqdm.auto import tqdm\n",
    "from sklearn.utils.class_weight import compute_class_weight\n",
    "import torch.nn.functional as F\n",
    "from tqdm.notebook import tqdm\n",
    "from IPython.display import display\n",
    "\n",
    "\n",
    "from sklearn.model_selection import KFold\n",
    "import copy\n",
    "from torch.cuda.amp import GradScaler, autocast\n",
    "import os\n"
   ]
  },
  {
   "cell_type": "code",
   "execution_count": 2,
   "metadata": {
    "metadata": {}
   },
   "outputs": [
    {
     "name": "stdout",
     "output_type": "stream",
     "text": [
      "2.1.2+cu121\n",
      "CUDA available: False\n",
      "CUDA version: 12.1\n",
      "cuDNN version: 8902\n"
     ]
    },
    {
     "name": "stderr",
     "output_type": "stream",
     "text": [
      "/home/arda/anaconda3/lib/python3.11/site-packages/torch/cuda/__init__.py:138: UserWarning:\n",
      "\n",
      "CUDA initialization: CUDA unknown error - this may be due to an incorrectly set up environment, e.g. changing env variable CUDA_VISIBLE_DEVICES after program start. Setting the available devices to be zero. (Triggered internally at ../c10/cuda/CUDAFunctions.cpp:108.)\n",
      "\n"
     ]
    }
   ],
   "source": [
    "if torch.cuda.is_available():\n",
    "    device = torch.device('cuda')\n",
    "    print(\"gpu\")\n",
    "else:\n",
    "    device = torch.device('cpu')\n",
    "print(torch.__version__)\n",
    "print('CUDA available:', torch.cuda.is_available())\n",
    "print('CUDA version:', torch.version.cuda)\n",
    "print('cuDNN version:', torch.backends.cudnn.version())\n"
   ]
  },
  {
   "cell_type": "code",
   "execution_count": 3,
   "metadata": {
    "metadata": {}
   },
   "outputs": [
    {
     "data": {
      "text/html": [
       "<div>\n",
       "<style scoped>\n",
       "    .dataframe tbody tr th:only-of-type {\n",
       "        vertical-align: middle;\n",
       "    }\n",
       "\n",
       "    .dataframe tbody tr th {\n",
       "        vertical-align: top;\n",
       "    }\n",
       "\n",
       "    .dataframe thead th {\n",
       "        text-align: right;\n",
       "    }\n",
       "</style>\n",
       "<table border=\"1\" class=\"dataframe\">\n",
       "  <thead>\n",
       "    <tr style=\"text-align: right;\">\n",
       "      <th></th>\n",
       "      <th>OFTIC</th>\n",
       "      <th>PENDS</th>\n",
       "      <th>BPS</th>\n",
       "      <th>Brent_Close</th>\n",
       "      <th>Brent_Close_quarterly_return</th>\n",
       "      <th>CPS</th>\n",
       "      <th>CPX</th>\n",
       "      <th>CSH</th>\n",
       "      <th>C_Discretionary_Close</th>\n",
       "      <th>C_Discretionary_Close_quarterly_return</th>\n",
       "      <th>...</th>\n",
       "      <th>commodity_trade_Close_quarterly_return</th>\n",
       "      <th>industrials_Close</th>\n",
       "      <th>industrials_Close_quarterly_return</th>\n",
       "      <th>information_Close</th>\n",
       "      <th>information_Close_quarterly_return</th>\n",
       "      <th>materials_Close</th>\n",
       "      <th>materials_Close_quarterly_return</th>\n",
       "      <th>numeric_sector</th>\n",
       "      <th>utilities_Close</th>\n",
       "      <th>utilities_Close_quarterly_return</th>\n",
       "    </tr>\n",
       "  </thead>\n",
       "  <tbody>\n",
       "    <tr>\n",
       "      <th>0</th>\n",
       "      <td>AAPL</td>\n",
       "      <td>2011-06-30</td>\n",
       "      <td>2.6718</td>\n",
       "      <td>112.48</td>\n",
       "      <td>-4.158146</td>\n",
       "      <td>0.422900</td>\n",
       "      <td>777.0</td>\n",
       "      <td>0.209015</td>\n",
       "      <td>40.209999</td>\n",
       "      <td>2.970550</td>\n",
       "      <td>...</td>\n",
       "      <td>0.062957</td>\n",
       "      <td>37.240002</td>\n",
       "      <td>-1.141483</td>\n",
       "      <td>25.700001</td>\n",
       "      <td>-1.381423</td>\n",
       "      <td>39.369999</td>\n",
       "      <td>-1.624192</td>\n",
       "      <td>3.0</td>\n",
       "      <td>33.480000</td>\n",
       "      <td>5.051769</td>\n",
       "    </tr>\n",
       "    <tr>\n",
       "      <th>1</th>\n",
       "      <td>AAPL</td>\n",
       "      <td>2011-09-30</td>\n",
       "      <td>2.9872</td>\n",
       "      <td>102.76</td>\n",
       "      <td>-8.641536</td>\n",
       "      <td>0.397600</td>\n",
       "      <td>1645.0</td>\n",
       "      <td>0.258659</td>\n",
       "      <td>34.860001</td>\n",
       "      <td>-13.305144</td>\n",
       "      <td>...</td>\n",
       "      <td>0.120922</td>\n",
       "      <td>29.219999</td>\n",
       "      <td>-21.535988</td>\n",
       "      <td>23.600000</td>\n",
       "      <td>-8.171207</td>\n",
       "      <td>29.360001</td>\n",
       "      <td>-25.425447</td>\n",
       "      <td>3.0</td>\n",
       "      <td>33.619999</td>\n",
       "      <td>0.418158</td>\n",
       "    </tr>\n",
       "    <tr>\n",
       "      <th>2</th>\n",
       "      <td>AAPL</td>\n",
       "      <td>2011-12-31</td>\n",
       "      <td>3.4500</td>\n",
       "      <td>107.38</td>\n",
       "      <td>4.495913</td>\n",
       "      <td>0.665700</td>\n",
       "      <td>1321.0</td>\n",
       "      <td>0.249095</td>\n",
       "      <td>39.020000</td>\n",
       "      <td>11.933447</td>\n",
       "      <td>...</td>\n",
       "      <td>-0.087046</td>\n",
       "      <td>33.750000</td>\n",
       "      <td>15.503083</td>\n",
       "      <td>25.450001</td>\n",
       "      <td>7.838985</td>\n",
       "      <td>33.500000</td>\n",
       "      <td>14.100815</td>\n",
       "      <td>3.0</td>\n",
       "      <td>35.980000</td>\n",
       "      <td>7.019633</td>\n",
       "    </tr>\n",
       "    <tr>\n",
       "      <th>3</th>\n",
       "      <td>AAPL</td>\n",
       "      <td>2012-03-31</td>\n",
       "      <td>3.9154</td>\n",
       "      <td>122.88</td>\n",
       "      <td>14.434718</td>\n",
       "      <td>0.528200</td>\n",
       "      <td>1457.0</td>\n",
       "      <td>0.153558</td>\n",
       "      <td>45.090000</td>\n",
       "      <td>15.556124</td>\n",
       "      <td>...</td>\n",
       "      <td>-0.191850</td>\n",
       "      <td>37.419998</td>\n",
       "      <td>10.874069</td>\n",
       "      <td>30.160000</td>\n",
       "      <td>18.506872</td>\n",
       "      <td>36.970001</td>\n",
       "      <td>10.358213</td>\n",
       "      <td>3.0</td>\n",
       "      <td>35.040001</td>\n",
       "      <td>-2.612559</td>\n",
       "    </tr>\n",
       "    <tr>\n",
       "      <th>4</th>\n",
       "      <td>AAPL</td>\n",
       "      <td>2012-06-30</td>\n",
       "      <td>4.2582</td>\n",
       "      <td>97.80</td>\n",
       "      <td>-20.410156</td>\n",
       "      <td>0.384300</td>\n",
       "      <td>2056.0</td>\n",
       "      <td>0.204900</td>\n",
       "      <td>43.779999</td>\n",
       "      <td>-2.905304</td>\n",
       "      <td>...</td>\n",
       "      <td>0.484614</td>\n",
       "      <td>35.669998</td>\n",
       "      <td>-4.676644</td>\n",
       "      <td>28.730000</td>\n",
       "      <td>-4.741380</td>\n",
       "      <td>35.290001</td>\n",
       "      <td>-4.544226</td>\n",
       "      <td>3.0</td>\n",
       "      <td>36.990002</td>\n",
       "      <td>5.565071</td>\n",
       "    </tr>\n",
       "    <tr>\n",
       "      <th>...</th>\n",
       "      <td>...</td>\n",
       "      <td>...</td>\n",
       "      <td>...</td>\n",
       "      <td>...</td>\n",
       "      <td>...</td>\n",
       "      <td>...</td>\n",
       "      <td>...</td>\n",
       "      <td>...</td>\n",
       "      <td>...</td>\n",
       "      <td>...</td>\n",
       "      <td>...</td>\n",
       "      <td>...</td>\n",
       "      <td>...</td>\n",
       "      <td>...</td>\n",
       "      <td>...</td>\n",
       "      <td>...</td>\n",
       "      <td>...</td>\n",
       "      <td>...</td>\n",
       "      <td>...</td>\n",
       "      <td>...</td>\n",
       "      <td>...</td>\n",
       "    </tr>\n",
       "    <tr>\n",
       "      <th>13480</th>\n",
       "      <td>ZBRA</td>\n",
       "      <td>2018-12-31</td>\n",
       "      <td>24.7813</td>\n",
       "      <td>53.80</td>\n",
       "      <td>-34.961315</td>\n",
       "      <td>5.329631</td>\n",
       "      <td>16.0</td>\n",
       "      <td>0.580469</td>\n",
       "      <td>99.010002</td>\n",
       "      <td>-15.534891</td>\n",
       "      <td>...</td>\n",
       "      <td>0.355782</td>\n",
       "      <td>64.410004</td>\n",
       "      <td>-17.844385</td>\n",
       "      <td>61.980000</td>\n",
       "      <td>-17.722026</td>\n",
       "      <td>50.520000</td>\n",
       "      <td>-12.791300</td>\n",
       "      <td>3.0</td>\n",
       "      <td>52.919998</td>\n",
       "      <td>0.512814</td>\n",
       "    </tr>\n",
       "    <tr>\n",
       "      <th>13481</th>\n",
       "      <td>ZBRA</td>\n",
       "      <td>2019-03-31</td>\n",
       "      <td>27.1789</td>\n",
       "      <td>68.39</td>\n",
       "      <td>27.118959</td>\n",
       "      <td>2.147867</td>\n",
       "      <td>15.0</td>\n",
       "      <td>0.279879</td>\n",
       "      <td>113.849998</td>\n",
       "      <td>14.988381</td>\n",
       "      <td>...</td>\n",
       "      <td>-0.178828</td>\n",
       "      <td>75.029999</td>\n",
       "      <td>16.488114</td>\n",
       "      <td>74.000000</td>\n",
       "      <td>19.393354</td>\n",
       "      <td>55.500000</td>\n",
       "      <td>9.857481</td>\n",
       "      <td>3.0</td>\n",
       "      <td>58.169998</td>\n",
       "      <td>9.920635</td>\n",
       "    </tr>\n",
       "    <tr>\n",
       "      <th>13482</th>\n",
       "      <td>ZBRA</td>\n",
       "      <td>2019-06-30</td>\n",
       "      <td>28.8100</td>\n",
       "      <td>66.55</td>\n",
       "      <td>-2.690452</td>\n",
       "      <td>3.577683</td>\n",
       "      <td>15.0</td>\n",
       "      <td>0.514700</td>\n",
       "      <td>119.199997</td>\n",
       "      <td>4.699164</td>\n",
       "      <td>...</td>\n",
       "      <td>0.081598</td>\n",
       "      <td>77.419998</td>\n",
       "      <td>3.185392</td>\n",
       "      <td>78.040001</td>\n",
       "      <td>5.459461</td>\n",
       "      <td>58.500000</td>\n",
       "      <td>5.405405</td>\n",
       "      <td>3.0</td>\n",
       "      <td>59.630001</td>\n",
       "      <td>2.509890</td>\n",
       "    </tr>\n",
       "    <tr>\n",
       "      <th>13483</th>\n",
       "      <td>ZBRA</td>\n",
       "      <td>2019-09-30</td>\n",
       "      <td>31.3430</td>\n",
       "      <td>60.78</td>\n",
       "      <td>-8.670173</td>\n",
       "      <td>2.272689</td>\n",
       "      <td>14.0</td>\n",
       "      <td>0.639219</td>\n",
       "      <td>120.699997</td>\n",
       "      <td>1.258389</td>\n",
       "      <td>...</td>\n",
       "      <td>-0.036101</td>\n",
       "      <td>77.629997</td>\n",
       "      <td>0.271247</td>\n",
       "      <td>80.529999</td>\n",
       "      <td>3.190669</td>\n",
       "      <td>58.200001</td>\n",
       "      <td>-0.512819</td>\n",
       "      <td>3.0</td>\n",
       "      <td>64.739998</td>\n",
       "      <td>8.569506</td>\n",
       "    </tr>\n",
       "    <tr>\n",
       "      <th>13484</th>\n",
       "      <td>ZBRA</td>\n",
       "      <td>2019-12-31</td>\n",
       "      <td>34.0537</td>\n",
       "      <td>66.00</td>\n",
       "      <td>8.588351</td>\n",
       "      <td>5.368624</td>\n",
       "      <td>17.0</td>\n",
       "      <td>0.509871</td>\n",
       "      <td>125.419998</td>\n",
       "      <td>3.910523</td>\n",
       "      <td>...</td>\n",
       "      <td>-0.063856</td>\n",
       "      <td>81.470001</td>\n",
       "      <td>4.946547</td>\n",
       "      <td>91.669998</td>\n",
       "      <td>13.833353</td>\n",
       "      <td>61.419998</td>\n",
       "      <td>5.532642</td>\n",
       "      <td>3.0</td>\n",
       "      <td>64.620003</td>\n",
       "      <td>-0.185349</td>\n",
       "    </tr>\n",
       "  </tbody>\n",
       "</table>\n",
       "<p>9450 rows × 60 columns</p>\n",
       "</div>"
      ],
      "text/plain": [
       "      OFTIC       PENDS      BPS  Brent_Close  Brent_Close_quarterly_return  \\\n",
       "0      AAPL  2011-06-30   2.6718       112.48                     -4.158146   \n",
       "1      AAPL  2011-09-30   2.9872       102.76                     -8.641536   \n",
       "2      AAPL  2011-12-31   3.4500       107.38                      4.495913   \n",
       "3      AAPL  2012-03-31   3.9154       122.88                     14.434718   \n",
       "4      AAPL  2012-06-30   4.2582        97.80                    -20.410156   \n",
       "...     ...         ...      ...          ...                           ...   \n",
       "13480  ZBRA  2018-12-31  24.7813        53.80                    -34.961315   \n",
       "13481  ZBRA  2019-03-31  27.1789        68.39                     27.118959   \n",
       "13482  ZBRA  2019-06-30  28.8100        66.55                     -2.690452   \n",
       "13483  ZBRA  2019-09-30  31.3430        60.78                     -8.670173   \n",
       "13484  ZBRA  2019-12-31  34.0537        66.00                      8.588351   \n",
       "\n",
       "            CPS     CPX       CSH  C_Discretionary_Close  \\\n",
       "0      0.422900   777.0  0.209015              40.209999   \n",
       "1      0.397600  1645.0  0.258659              34.860001   \n",
       "2      0.665700  1321.0  0.249095              39.020000   \n",
       "3      0.528200  1457.0  0.153558              45.090000   \n",
       "4      0.384300  2056.0  0.204900              43.779999   \n",
       "...         ...     ...       ...                    ...   \n",
       "13480  5.329631    16.0  0.580469              99.010002   \n",
       "13481  2.147867    15.0  0.279879             113.849998   \n",
       "13482  3.577683    15.0  0.514700             119.199997   \n",
       "13483  2.272689    14.0  0.639219             120.699997   \n",
       "13484  5.368624    17.0  0.509871             125.419998   \n",
       "\n",
       "       C_Discretionary_Close_quarterly_return  ...  \\\n",
       "0                                    2.970550  ...   \n",
       "1                                  -13.305144  ...   \n",
       "2                                   11.933447  ...   \n",
       "3                                   15.556124  ...   \n",
       "4                                   -2.905304  ...   \n",
       "...                                       ...  ...   \n",
       "13480                              -15.534891  ...   \n",
       "13481                               14.988381  ...   \n",
       "13482                                4.699164  ...   \n",
       "13483                                1.258389  ...   \n",
       "13484                                3.910523  ...   \n",
       "\n",
       "       commodity_trade_Close_quarterly_return  industrials_Close  \\\n",
       "0                                    0.062957          37.240002   \n",
       "1                                    0.120922          29.219999   \n",
       "2                                   -0.087046          33.750000   \n",
       "3                                   -0.191850          37.419998   \n",
       "4                                    0.484614          35.669998   \n",
       "...                                       ...                ...   \n",
       "13480                                0.355782          64.410004   \n",
       "13481                               -0.178828          75.029999   \n",
       "13482                                0.081598          77.419998   \n",
       "13483                               -0.036101          77.629997   \n",
       "13484                               -0.063856          81.470001   \n",
       "\n",
       "       industrials_Close_quarterly_return  information_Close  \\\n",
       "0                               -1.141483          25.700001   \n",
       "1                              -21.535988          23.600000   \n",
       "2                               15.503083          25.450001   \n",
       "3                               10.874069          30.160000   \n",
       "4                               -4.676644          28.730000   \n",
       "...                                   ...                ...   \n",
       "13480                          -17.844385          61.980000   \n",
       "13481                           16.488114          74.000000   \n",
       "13482                            3.185392          78.040001   \n",
       "13483                            0.271247          80.529999   \n",
       "13484                            4.946547          91.669998   \n",
       "\n",
       "       information_Close_quarterly_return  materials_Close  \\\n",
       "0                               -1.381423        39.369999   \n",
       "1                               -8.171207        29.360001   \n",
       "2                                7.838985        33.500000   \n",
       "3                               18.506872        36.970001   \n",
       "4                               -4.741380        35.290001   \n",
       "...                                   ...              ...   \n",
       "13480                          -17.722026        50.520000   \n",
       "13481                           19.393354        55.500000   \n",
       "13482                            5.459461        58.500000   \n",
       "13483                            3.190669        58.200001   \n",
       "13484                           13.833353        61.419998   \n",
       "\n",
       "       materials_Close_quarterly_return  numeric_sector  utilities_Close  \\\n",
       "0                             -1.624192             3.0        33.480000   \n",
       "1                            -25.425447             3.0        33.619999   \n",
       "2                             14.100815             3.0        35.980000   \n",
       "3                             10.358213             3.0        35.040001   \n",
       "4                             -4.544226             3.0        36.990002   \n",
       "...                                 ...             ...              ...   \n",
       "13480                        -12.791300             3.0        52.919998   \n",
       "13481                          9.857481             3.0        58.169998   \n",
       "13482                          5.405405             3.0        59.630001   \n",
       "13483                         -0.512819             3.0        64.739998   \n",
       "13484                          5.532642             3.0        64.620003   \n",
       "\n",
       "       utilities_Close_quarterly_return  \n",
       "0                              5.051769  \n",
       "1                              0.418158  \n",
       "2                              7.019633  \n",
       "3                             -2.612559  \n",
       "4                              5.565071  \n",
       "...                                 ...  \n",
       "13480                          0.512814  \n",
       "13481                          9.920635  \n",
       "13482                          2.509890  \n",
       "13483                          8.569506  \n",
       "13484                         -0.185349  \n",
       "\n",
       "[9450 rows x 60 columns]"
      ]
     },
     "execution_count": 3,
     "metadata": {},
     "output_type": "execute_result"
    }
   ],
   "source": [
    "pivoted_data = pd.read_csv(\"../Data/filled_data_long_pivot.csv\")\n",
    "# pivoted_data.drop(columns=[\"Unnamed: 0\"], inplace=True)\n",
    "#pivoted_data.set_index(\"PENDS\", inplace=True)\n",
    "# pivoted_data = pivoted_data.rename(columns={\"Report Date\" : \"PENDS\" ,\"Ticker\":\"OFTIC\"})\n",
    "len(pivoted_data[\"OFTIC\"].unique())\n",
    "# pivoted_data[pivoted_data[\"OFTIC\"] == \"AAPL\"]\n",
    "pivoted_data = pivoted_data[pivoted_data['PENDS'] > '2011-03-31']\n",
    "pivoted_data = pivoted_data[pivoted_data['PENDS'] < '2020-01-01']\n",
    "# pivoted_data = pivoted_data[pivoted_data['PENDS'] > '2017-01-01']\n",
    "\n",
    "\n",
    "pivoted_data"
   ]
  },
  {
   "cell_type": "code",
   "execution_count": 4,
   "metadata": {},
   "outputs": [],
   "source": [
    "# pivoted_data.drop(columns=[\"Negative Prob\", \"Positive Prob\", \"Neutral Prob\"], inplace=True)"
   ]
  },
  {
   "cell_type": "code",
   "execution_count": 5,
   "metadata": {},
   "outputs": [],
   "source": [
    "# drop_ticker = {'BK',\n",
    "#                 'CAH',\n",
    "#                 'CPB',\n",
    "#                 'CRM',\n",
    "#                 'EIX',\n",
    "#                 'EMR',\n",
    "#                 'ETN',\n",
    "#                 'ETR',\n",
    "#                 'EXPD',\n",
    "#                 'FAST',\n",
    "#                 'FCX',\n",
    "#                 'GIS',\n",
    "#                 'GLW',\n",
    "#                 'HIG',\n",
    "#                 'HON',\n",
    "#                 'IBM',\n",
    "#                 'ILMN',\n",
    "#                 'ITW',\n",
    "#                 'KMB',\n",
    "#                 'KR',\n",
    "#                 'LLY',\n",
    "#                 'MAS',\n",
    "#                 'MCO',\n",
    "#                 'MO',\n",
    "#                 'MOH',\n",
    "#                 'NRG',\n",
    "#                 'NTRS',\n",
    "#                 'ORLY',\n",
    "#                 'OXY',\n",
    "#                 'PM',\n",
    "#                 'PNC',\n",
    "#                 'PPL',\n",
    "#                 'PSA',\n",
    "#                 'RMD',\n",
    "#                 'STT',\n",
    "#                 'TXN',\n",
    "#                 'VFC',\n",
    "#                 'VMC',\n",
    "#                 'XEL',\n",
    "#                 'DFS',\n",
    "#                 'ICE'}\n",
    "\n",
    "# pivoted_data = pivoted_data[~pivoted_data['OFTIC'].isin(drop_ticker)]"
   ]
  },
  {
   "cell_type": "code",
   "execution_count": 6,
   "metadata": {
    "metadata": {}
   },
   "outputs": [
    {
     "name": "stdout",
     "output_type": "stream",
     "text": [
      "['OFTIC', 'PENDS', 'BPS', 'Brent_Close', 'Brent_Close_quarterly_return', 'CPS', 'CPX', 'CSH', 'C_Discretionary_Close', 'C_Discretionary_Close_quarterly_return', 'C_Staples_Close', 'C_Staples_Close_quarterly_return', 'DPS', 'EBG', 'EBI', 'EBS', 'EBT', 'ENT', 'EPS', 'EPS_forecast', 'Energy_Close', 'Energy_Close_quarterly_return', 'FFO', 'Financials_Close', 'Financials_Close_quarterly_return', 'GPS', 'GRM', 'Gold_Close', 'Gold_Close_quarterly_return', 'Health_care_Close', 'Health_care_Close_quarterly_return', 'Hrc_close', 'Hrc_close_quarterly_return', 'MEAN', 'NAV', 'NDT', 'NET', 'OPR', 'PRE', 'ROA', 'ROE', 'Real_Estate_Index_Price', 'Real_Estate_Index_Price_quarterly_return', 'SAL', 'STDEV', 'Three_Month_Yield', 'Three_Month_Yield_quarterly_return', 'VIX_Close', 'VIX_Close_quarterly_return', 'commodity_trade_Close', 'commodity_trade_Close_quarterly_return', 'industrials_Close', 'industrials_Close_quarterly_return', 'information_Close', 'information_Close_quarterly_return', 'materials_Close', 'materials_Close_quarterly_return', 'numeric_sector', 'utilities_Close', 'utilities_Close_quarterly_return']\n"
     ]
    }
   ],
   "source": [
    "print(list(pivoted_data.columns))"
   ]
  },
  {
   "cell_type": "code",
   "execution_count": 7,
   "metadata": {
    "metadata": {}
   },
   "outputs": [],
   "source": [
    "# unique_counts = pivoted_data.groupby('Sector')['OFTIC'].nunique()\n",
    "# unique_counts"
   ]
  },
  {
   "cell_type": "code",
   "execution_count": 8,
   "metadata": {
    "metadata": {}
   },
   "outputs": [
    {
     "data": {
      "text/plain": [
       "Index(['OFTIC', 'PENDS', 'BPS', 'Brent_Close', 'Brent_Close_quarterly_return',\n",
       "       'CPS', 'CPX', 'CSH', 'C_Discretionary_Close',\n",
       "       'C_Discretionary_Close_quarterly_return', 'C_Staples_Close',\n",
       "       'C_Staples_Close_quarterly_return', 'DPS', 'EBG', 'EBI', 'EBS', 'EBT',\n",
       "       'ENT', 'EPS', 'EPS_forecast', 'Energy_Close',\n",
       "       'Energy_Close_quarterly_return', 'FFO', 'Financials_Close',\n",
       "       'Financials_Close_quarterly_return', 'GPS', 'GRM', 'Gold_Close',\n",
       "       'Gold_Close_quarterly_return', 'Health_care_Close',\n",
       "       'Health_care_Close_quarterly_return', 'Hrc_close',\n",
       "       'Hrc_close_quarterly_return', 'MEAN', 'NAV', 'NDT', 'NET', 'OPR', 'PRE',\n",
       "       'ROA', 'ROE', 'Real_Estate_Index_Price',\n",
       "       'Real_Estate_Index_Price_quarterly_return', 'SAL', 'STDEV',\n",
       "       'Three_Month_Yield', 'Three_Month_Yield_quarterly_return', 'VIX_Close',\n",
       "       'VIX_Close_quarterly_return', 'commodity_trade_Close',\n",
       "       'commodity_trade_Close_quarterly_return', 'industrials_Close',\n",
       "       'industrials_Close_quarterly_return', 'information_Close',\n",
       "       'information_Close_quarterly_return', 'materials_Close',\n",
       "       'materials_Close_quarterly_return', 'numeric_sector', 'utilities_Close',\n",
       "       'utilities_Close_quarterly_return'],\n",
       "      dtype='object')"
      ]
     },
     "execution_count": 8,
     "metadata": {},
     "output_type": "execute_result"
    }
   ],
   "source": [
    "pivoted_data.columns"
   ]
  },
  {
   "cell_type": "code",
   "execution_count": 9,
   "metadata": {},
   "outputs": [],
   "source": [
    "# pivoted_data.drop(columns=['Real_Estate_Index_Price','Three_Month_Yield', 'Brent_Close', 'Hrc_close',\n",
    "#        'commodity_trade_Close', 'C_Discretionary_Close', 'C_Staples_Close',\n",
    "#        'Energy_Close', 'Financials_Close', 'Health_care_Close',\n",
    "#        'industrials_Close', 'information_Close', 'materials_Close',\n",
    "#        'utilities_Close', 'numeric_sector',\n",
    "#        'Real_Estate_Index_Price_quarterly_return',\n",
    "#        'VIX_Close_quarterly_return', 'Gold_Close_quarterly_return',\n",
    "#        'Three_Month_Yield_quarterly_return', 'Brent_Close_quarterly_return',\n",
    "#        'Hrc_close_quarterly_return', 'commodity_trade_Close_quarterly_return',\n",
    "#        'C_Discretionary_Close_quarterly_return',\n",
    "#        'C_Staples_Close_quarterly_return', 'Energy_Close_quarterly_return',\n",
    "#        'Financials_Close_quarterly_return',\n",
    "#        'Health_care_Close_quarterly_return',\n",
    "#        'industrials_Close_quarterly_return',\n",
    "#        'information_Close_quarterly_return',\n",
    "#        'materials_Close_quarterly_return', 'utilities_Close_quarterly_return'], inplace=True)"
   ]
  },
  {
   "cell_type": "code",
   "execution_count": 10,
   "metadata": {
    "metadata": {}
   },
   "outputs": [],
   "source": [
    "# pivoted_data = pivoted_data[pivoted_data[\"Sector\"] == \"Financials\"]\n",
    "# pivoted_data"
   ]
  },
  {
   "cell_type": "code",
   "execution_count": 11,
   "metadata": {
    "metadata": {}
   },
   "outputs": [
    {
     "data": {
      "text/plain": [
       "Series([], Name: PENDS, dtype: int64)"
      ]
     },
     "execution_count": 11,
     "metadata": {},
     "output_type": "execute_result"
    }
   ],
   "source": [
    "unique_pends_by_ticker = pivoted_data.groupby('OFTIC')['PENDS'].nunique()\n",
    "unique_pends_not_50 = unique_pends_by_ticker[unique_pends_by_ticker != 35]\n",
    "unique_pends_not_50"
   ]
  },
  {
   "cell_type": "code",
   "execution_count": 12,
   "metadata": {
    "metadata": {}
   },
   "outputs": [
    {
     "name": "stdout",
     "output_type": "stream",
     "text": [
      "<class 'pandas.core.frame.DataFrame'>\n",
      "Int64Index: 9450 entries, 0 to 13484\n",
      "Data columns (total 60 columns):\n",
      " #   Column                                    Non-Null Count  Dtype  \n",
      "---  ------                                    --------------  -----  \n",
      " 0   OFTIC                                     9450 non-null   object \n",
      " 1   PENDS                                     9450 non-null   object \n",
      " 2   BPS                                       9450 non-null   float64\n",
      " 3   Brent_Close                               9450 non-null   float64\n",
      " 4   Brent_Close_quarterly_return              9450 non-null   float64\n",
      " 5   CPS                                       9450 non-null   float64\n",
      " 6   CPX                                       9450 non-null   float64\n",
      " 7   CSH                                       9450 non-null   float64\n",
      " 8   C_Discretionary_Close                     9450 non-null   float64\n",
      " 9   C_Discretionary_Close_quarterly_return    9450 non-null   float64\n",
      " 10  C_Staples_Close                           9450 non-null   float64\n",
      " 11  C_Staples_Close_quarterly_return          9450 non-null   float64\n",
      " 12  DPS                                       9450 non-null   float64\n",
      " 13  EBG                                       9450 non-null   float64\n",
      " 14  EBI                                       9450 non-null   float64\n",
      " 15  EBS                                       9450 non-null   float64\n",
      " 16  EBT                                       9450 non-null   float64\n",
      " 17  ENT                                       9450 non-null   float64\n",
      " 18  EPS                                       9450 non-null   float64\n",
      " 19  EPS_forecast                              9450 non-null   float64\n",
      " 20  Energy_Close                              9450 non-null   float64\n",
      " 21  Energy_Close_quarterly_return             9450 non-null   float64\n",
      " 22  FFO                                       9450 non-null   float64\n",
      " 23  Financials_Close                          9450 non-null   float64\n",
      " 24  Financials_Close_quarterly_return         9450 non-null   float64\n",
      " 25  GPS                                       9450 non-null   float64\n",
      " 26  GRM                                       9450 non-null   float64\n",
      " 27  Gold_Close                                9450 non-null   float64\n",
      " 28  Gold_Close_quarterly_return               9450 non-null   float64\n",
      " 29  Health_care_Close                         9450 non-null   float64\n",
      " 30  Health_care_Close_quarterly_return        9450 non-null   float64\n",
      " 31  Hrc_close                                 9450 non-null   float64\n",
      " 32  Hrc_close_quarterly_return                9450 non-null   float64\n",
      " 33  MEAN                                      9450 non-null   float64\n",
      " 34  NAV                                       9450 non-null   float64\n",
      " 35  NDT                                       9450 non-null   float64\n",
      " 36  NET                                       9450 non-null   float64\n",
      " 37  OPR                                       9450 non-null   float64\n",
      " 38  PRE                                       9450 non-null   float64\n",
      " 39  ROA                                       9450 non-null   float64\n",
      " 40  ROE                                       9450 non-null   float64\n",
      " 41  Real_Estate_Index_Price                   9450 non-null   float64\n",
      " 42  Real_Estate_Index_Price_quarterly_return  9450 non-null   float64\n",
      " 43  SAL                                       9450 non-null   float64\n",
      " 44  STDEV                                     9450 non-null   float64\n",
      " 45  Three_Month_Yield                         9450 non-null   float64\n",
      " 46  Three_Month_Yield_quarterly_return        9450 non-null   float64\n",
      " 47  VIX_Close                                 9450 non-null   float64\n",
      " 48  VIX_Close_quarterly_return                9450 non-null   float64\n",
      " 49  commodity_trade_Close                     9450 non-null   float64\n",
      " 50  commodity_trade_Close_quarterly_return    9450 non-null   float64\n",
      " 51  industrials_Close                         9450 non-null   float64\n",
      " 52  industrials_Close_quarterly_return        9450 non-null   float64\n",
      " 53  information_Close                         9450 non-null   float64\n",
      " 54  information_Close_quarterly_return        9450 non-null   float64\n",
      " 55  materials_Close                           9450 non-null   float64\n",
      " 56  materials_Close_quarterly_return          9450 non-null   float64\n",
      " 57  numeric_sector                            9450 non-null   float64\n",
      " 58  utilities_Close                           9450 non-null   float64\n",
      " 59  utilities_Close_quarterly_return          9450 non-null   float64\n",
      "dtypes: float64(58), object(2)\n",
      "memory usage: 4.4+ MB\n"
     ]
    }
   ],
   "source": [
    "pivoted_data.info()"
   ]
  },
  {
   "cell_type": "code",
   "execution_count": 13,
   "metadata": {},
   "outputs": [],
   "source": [
    "pivoted_data = pivoted_data.copy()\n",
    "\n",
    "pivoted_data['Hrc_close'] = pd.to_numeric(pivoted_data['Hrc_close'].astype(str).str.split(\",\").str[0], errors='coerce')\n",
    "pivoted_data['Gold_Close'] = pd.to_numeric(pivoted_data['Gold_Close'].astype(str).str.replace(\",\", \"\"), errors='coerce').round(2)"
   ]
  },
  {
   "cell_type": "code",
   "execution_count": 14,
   "metadata": {
    "metadata": {}
   },
   "outputs": [
    {
     "data": {
      "text/plain": [
       "array(['AAPL', 'AFL', 'ALB', 'AMT', 'AMZN', 'ANSS', 'AON', 'AOS', 'APA',\n",
       "       'APD', 'APH', 'ARE', 'AVB', 'AVGO', 'AVY', 'AWK', 'AXP', 'AZO',\n",
       "       'BA', 'BDX', 'BEN', 'BG', 'BIIB', 'BK', 'BLK', 'BMY', 'BR', 'BSX',\n",
       "       'BWA', 'BX', 'CAH', 'CBOE', 'CCI', 'CCL', 'CDNS', 'CE', 'CF',\n",
       "       'CHD', 'CHRW', 'CHTR', 'CI', 'CMCSA', 'CME', 'CMI', 'CMS', 'CNC',\n",
       "       'CNP', 'COF', 'COO', 'COST', 'CPB', 'CPRT', 'CPT', 'CRM', 'CSX',\n",
       "       'CTSH', 'CVS', 'CVX', 'D', 'DAL', 'DE', 'DFS', 'DG', 'DGX', 'DHI',\n",
       "       'DHR', 'DLR', 'DLTR', 'DOV', 'DPZ', 'DTE', 'DXCM', 'EBAY', 'ECL',\n",
       "       'ED', 'EFX', 'EIX', 'EMR', 'EOG', 'EQIX', 'EQR', 'ESS', 'ETN',\n",
       "       'ETR', 'EW', 'EXC', 'EXPD', 'EXPE', 'EXR', 'F', 'FAST', 'FCX',\n",
       "       'FE', 'FFIV', 'FMC', 'FRT', 'FSLR', 'FTNT', 'GD', 'GILD', 'GIS',\n",
       "       'GLW', 'GM', 'GNRC', 'GRMN', 'GS', 'GWW', 'HAL', 'HCA', 'HD',\n",
       "       'HES', 'HIG', 'HOLX', 'HON', 'HPQ', 'HSY', 'HUM', 'IBM', 'ICE',\n",
       "       'IDXX', 'IEX', 'INCY', 'IP', 'ISRG', 'IT', 'ITW', 'IVZ', 'JBHT',\n",
       "       'JBL', 'JNPR', 'KEY', 'KMB', 'KMI', 'KMX', 'KO', 'KR', 'LEN', 'LH',\n",
       "       'LLY', 'LMT', 'LNT', 'LOW', 'LRCX', 'LVS', 'LYB', 'MA', 'MAA',\n",
       "       'MAR', 'MAS', 'MCHP', 'MCK', 'MCO', 'MDT', 'MHK', 'MKTX', 'MLM',\n",
       "       'MMC', 'MMM', 'MO', 'MOH', 'MOS', 'MSCI', 'MSFT', 'MSI', 'MTB',\n",
       "       'MTD', 'MU', 'NDAQ', 'NDSN', 'NEE', 'NEM', 'NFLX', 'NI', 'NKE',\n",
       "       'NOC', 'NRG', 'NTAP', 'NTRS', 'NUE', 'NVDA', 'NVR', 'NWSA', 'NXPI',\n",
       "       'O', 'ODFL', 'OKE', 'ORCL', 'ORLY', 'OXY', 'PCAR', 'PCG', 'PFG',\n",
       "       'PG', 'PGR', 'PHM', 'PKG', 'PLD', 'PM', 'PNC', 'PODD', 'POOL',\n",
       "       'PPG', 'PPL', 'PRU', 'PSA', 'RCL', 'REGN', 'RF', 'RJF', 'RMD',\n",
       "       'ROK', 'ROP', 'ROST', 'RSG', 'SBAC', 'SBUX', 'SCHW', 'SHW', 'SJM',\n",
       "       'SLB', 'SNPS', 'SO', 'SPG', 'SRE', 'STLD', 'STT', 'STX', 'STZ',\n",
       "       'SYK', 'SYY', 'TAP', 'TECH', 'TEL', 'TER', 'TFX', 'TGT', 'TJX',\n",
       "       'TMO', 'TRGP', 'TRMB', 'TROW', 'TRV', 'TSCO', 'TSLA', 'TSN', 'TXN',\n",
       "       'UDR', 'UHS', 'ULTA', 'UNH', 'URI', 'VLO', 'VMC', 'VRSK', 'VRTX',\n",
       "       'VTR', 'VZ', 'WAB', 'WAT', 'WDC', 'WEC', 'WFC', 'WM', 'WMB', 'WRB',\n",
       "       'WY', 'WYNN', 'XEL', 'XOM', 'ZBRA'], dtype=object)"
      ]
     },
     "execution_count": 14,
     "metadata": {},
     "output_type": "execute_result"
    }
   ],
   "source": [
    "company_list = pivoted_data[\"OFTIC\"].unique()\n",
    "company_list"
   ]
  },
  {
   "cell_type": "code",
   "execution_count": 15,
   "metadata": {},
   "outputs": [],
   "source": [
    "# pivoted_data = pivoted_data[[\"EPS\",\"ROE\",\"SAL\",\"NET\",\"EBI\",\"EBT\",\"GPS\",\"DPS\",\"BPS\",\"NAV\",\"OFTIC\",\"PENDS\",\"MEAN\",\"STDEV\", \"BPS\", \"CPS\", \"PRE\", \"NDT\"]]"
   ]
  },
  {
   "cell_type": "code",
   "execution_count": 16,
   "metadata": {
    "metadata": {}
   },
   "outputs": [
    {
     "data": {
      "text/plain": [
       "270"
      ]
     },
     "execution_count": 16,
     "metadata": {},
     "output_type": "execute_result"
    }
   ],
   "source": [
    "len(company_list)"
   ]
  },
  {
   "cell_type": "code",
   "execution_count": 17,
   "metadata": {
    "metadata": {}
   },
   "outputs": [
    {
     "data": {
      "text/plain": [
       "[1, 2, 3, 5, 6, 9, 10, 15, 18, 27, 30, 45, 54, 90, 135, 270]"
      ]
     },
     "execution_count": 17,
     "metadata": {},
     "output_type": "execute_result"
    }
   ],
   "source": [
    "divisors = [i for i in range(1, len(company_list) + 1) if len(company_list) % i == 0]\n",
    "divisors"
   ]
  },
  {
   "cell_type": "code",
   "execution_count": 18,
   "metadata": {
    "metadata": {}
   },
   "outputs": [
    {
     "data": {
      "text/html": [
       "<div>\n",
       "<style scoped>\n",
       "    .dataframe tbody tr th:only-of-type {\n",
       "        vertical-align: middle;\n",
       "    }\n",
       "\n",
       "    .dataframe tbody tr th {\n",
       "        vertical-align: top;\n",
       "    }\n",
       "\n",
       "    .dataframe thead th {\n",
       "        text-align: right;\n",
       "    }\n",
       "</style>\n",
       "<table border=\"1\" class=\"dataframe\">\n",
       "  <thead>\n",
       "    <tr style=\"text-align: right;\">\n",
       "      <th></th>\n",
       "      <th>OFTIC</th>\n",
       "      <th>PENDS</th>\n",
       "      <th>BPS</th>\n",
       "      <th>Brent_Close</th>\n",
       "      <th>Brent_Close_quarterly_return</th>\n",
       "      <th>CPS</th>\n",
       "      <th>CPX</th>\n",
       "      <th>CSH</th>\n",
       "      <th>C_Discretionary_Close</th>\n",
       "      <th>C_Discretionary_Close_quarterly_return</th>\n",
       "      <th>...</th>\n",
       "      <th>commodity_trade_Close_quarterly_return</th>\n",
       "      <th>industrials_Close</th>\n",
       "      <th>industrials_Close_quarterly_return</th>\n",
       "      <th>information_Close</th>\n",
       "      <th>information_Close_quarterly_return</th>\n",
       "      <th>materials_Close</th>\n",
       "      <th>materials_Close_quarterly_return</th>\n",
       "      <th>numeric_sector</th>\n",
       "      <th>utilities_Close</th>\n",
       "      <th>utilities_Close_quarterly_return</th>\n",
       "    </tr>\n",
       "  </thead>\n",
       "  <tbody>\n",
       "  </tbody>\n",
       "</table>\n",
       "<p>0 rows × 60 columns</p>\n",
       "</div>"
      ],
      "text/plain": [
       "Empty DataFrame\n",
       "Columns: [OFTIC, PENDS, BPS, Brent_Close, Brent_Close_quarterly_return, CPS, CPX, CSH, C_Discretionary_Close, C_Discretionary_Close_quarterly_return, C_Staples_Close, C_Staples_Close_quarterly_return, DPS, EBG, EBI, EBS, EBT, ENT, EPS, EPS_forecast, Energy_Close, Energy_Close_quarterly_return, FFO, Financials_Close, Financials_Close_quarterly_return, GPS, GRM, Gold_Close, Gold_Close_quarterly_return, Health_care_Close, Health_care_Close_quarterly_return, Hrc_close, Hrc_close_quarterly_return, MEAN, NAV, NDT, NET, OPR, PRE, ROA, ROE, Real_Estate_Index_Price, Real_Estate_Index_Price_quarterly_return, SAL, STDEV, Three_Month_Yield, Three_Month_Yield_quarterly_return, VIX_Close, VIX_Close_quarterly_return, commodity_trade_Close, commodity_trade_Close_quarterly_return, industrials_Close, industrials_Close_quarterly_return, information_Close, information_Close_quarterly_return, materials_Close, materials_Close_quarterly_return, numeric_sector, utilities_Close, utilities_Close_quarterly_return]\n",
       "Index: []\n",
       "\n",
       "[0 rows x 60 columns]"
      ]
     },
     "execution_count": 18,
     "metadata": {},
     "output_type": "execute_result"
    }
   ],
   "source": [
    "pivoted_data[pivoted_data[\"OFTIC\"] == \"ZTS\"].sort_values(by=\"PENDS\")"
   ]
  },
  {
   "cell_type": "code",
   "execution_count": 19,
   "metadata": {},
   "outputs": [],
   "source": [
    "# pivoted_data.reset_index(inplace=True, drop=True)\n",
    "# pivoted_data"
   ]
  },
  {
   "cell_type": "code",
   "execution_count": 20,
   "metadata": {
    "metadata": {}
   },
   "outputs": [
    {
     "data": {
      "application/vnd.plotly.v1+json": {
       "config": {
        "linkText": "Export to plot.ly",
        "plotlyServerURL": "https://plot.ly",
        "showLink": false
       },
       "data": [
        {
         "mode": "lines+markers",
         "name": "PGR: EPS - PENDS",
         "type": "scatter",
         "x": [
          "2011-06-30",
          "2011-09-30",
          "2011-12-31",
          "2012-03-31",
          "2012-06-30",
          "2012-09-30",
          "2012-12-31",
          "2013-03-31",
          "2013-06-30",
          "2013-09-30",
          "2013-12-31",
          "2014-03-31",
          "2014-06-30",
          "2014-09-30",
          "2014-12-31",
          "2015-03-31",
          "2015-06-30",
          "2015-09-30",
          "2015-12-31",
          "2016-03-31",
          "2016-06-30",
          "2016-09-30",
          "2016-12-31",
          "2017-03-31",
          "2017-06-30",
          "2017-09-30",
          "2017-12-31",
          "2018-03-31",
          "2018-06-30",
          "2018-09-30",
          "2018-12-31",
          "2019-03-31",
          "2019-06-30",
          "2019-09-30",
          "2019-12-31"
         ],
         "y": [
          0.35,
          0.29,
          0.39,
          0.34,
          0.2,
          0.27,
          0.34,
          0.42,
          0.39,
          0.3599999999999999,
          0.41,
          0.41,
          0.45,
          0.46,
          0.6,
          0.46,
          0.5300000000000001,
          0.49,
          0.5300000000000001,
          0.42,
          0.29,
          0.3599999999999999,
          0.63,
          0.67,
          0.5900000000000001,
          0.41,
          0.82,
          1.29,
          1.1499999999999997,
          1.3299999999999998,
          1.2399999999999998,
          1.3299999999999998,
          1.42,
          1.3299999999999998,
          1.18
         ]
        }
       ],
       "layout": {
        "height": 600,
        "template": {
         "data": {
          "bar": [
           {
            "error_x": {
             "color": "#2a3f5f"
            },
            "error_y": {
             "color": "#2a3f5f"
            },
            "marker": {
             "line": {
              "color": "#E5ECF6",
              "width": 0.5
             },
             "pattern": {
              "fillmode": "overlay",
              "size": 10,
              "solidity": 0.2
             }
            },
            "type": "bar"
           }
          ],
          "barpolar": [
           {
            "marker": {
             "line": {
              "color": "#E5ECF6",
              "width": 0.5
             },
             "pattern": {
              "fillmode": "overlay",
              "size": 10,
              "solidity": 0.2
             }
            },
            "type": "barpolar"
           }
          ],
          "carpet": [
           {
            "aaxis": {
             "endlinecolor": "#2a3f5f",
             "gridcolor": "white",
             "linecolor": "white",
             "minorgridcolor": "white",
             "startlinecolor": "#2a3f5f"
            },
            "baxis": {
             "endlinecolor": "#2a3f5f",
             "gridcolor": "white",
             "linecolor": "white",
             "minorgridcolor": "white",
             "startlinecolor": "#2a3f5f"
            },
            "type": "carpet"
           }
          ],
          "choropleth": [
           {
            "colorbar": {
             "outlinewidth": 0,
             "ticks": ""
            },
            "type": "choropleth"
           }
          ],
          "contour": [
           {
            "colorbar": {
             "outlinewidth": 0,
             "ticks": ""
            },
            "colorscale": [
             [
              0,
              "#0d0887"
             ],
             [
              0.1111111111111111,
              "#46039f"
             ],
             [
              0.2222222222222222,
              "#7201a8"
             ],
             [
              0.3333333333333333,
              "#9c179e"
             ],
             [
              0.4444444444444444,
              "#bd3786"
             ],
             [
              0.5555555555555556,
              "#d8576b"
             ],
             [
              0.6666666666666666,
              "#ed7953"
             ],
             [
              0.7777777777777778,
              "#fb9f3a"
             ],
             [
              0.8888888888888888,
              "#fdca26"
             ],
             [
              1,
              "#f0f921"
             ]
            ],
            "type": "contour"
           }
          ],
          "contourcarpet": [
           {
            "colorbar": {
             "outlinewidth": 0,
             "ticks": ""
            },
            "type": "contourcarpet"
           }
          ],
          "heatmap": [
           {
            "colorbar": {
             "outlinewidth": 0,
             "ticks": ""
            },
            "colorscale": [
             [
              0,
              "#0d0887"
             ],
             [
              0.1111111111111111,
              "#46039f"
             ],
             [
              0.2222222222222222,
              "#7201a8"
             ],
             [
              0.3333333333333333,
              "#9c179e"
             ],
             [
              0.4444444444444444,
              "#bd3786"
             ],
             [
              0.5555555555555556,
              "#d8576b"
             ],
             [
              0.6666666666666666,
              "#ed7953"
             ],
             [
              0.7777777777777778,
              "#fb9f3a"
             ],
             [
              0.8888888888888888,
              "#fdca26"
             ],
             [
              1,
              "#f0f921"
             ]
            ],
            "type": "heatmap"
           }
          ],
          "heatmapgl": [
           {
            "colorbar": {
             "outlinewidth": 0,
             "ticks": ""
            },
            "colorscale": [
             [
              0,
              "#0d0887"
             ],
             [
              0.1111111111111111,
              "#46039f"
             ],
             [
              0.2222222222222222,
              "#7201a8"
             ],
             [
              0.3333333333333333,
              "#9c179e"
             ],
             [
              0.4444444444444444,
              "#bd3786"
             ],
             [
              0.5555555555555556,
              "#d8576b"
             ],
             [
              0.6666666666666666,
              "#ed7953"
             ],
             [
              0.7777777777777778,
              "#fb9f3a"
             ],
             [
              0.8888888888888888,
              "#fdca26"
             ],
             [
              1,
              "#f0f921"
             ]
            ],
            "type": "heatmapgl"
           }
          ],
          "histogram": [
           {
            "marker": {
             "pattern": {
              "fillmode": "overlay",
              "size": 10,
              "solidity": 0.2
             }
            },
            "type": "histogram"
           }
          ],
          "histogram2d": [
           {
            "colorbar": {
             "outlinewidth": 0,
             "ticks": ""
            },
            "colorscale": [
             [
              0,
              "#0d0887"
             ],
             [
              0.1111111111111111,
              "#46039f"
             ],
             [
              0.2222222222222222,
              "#7201a8"
             ],
             [
              0.3333333333333333,
              "#9c179e"
             ],
             [
              0.4444444444444444,
              "#bd3786"
             ],
             [
              0.5555555555555556,
              "#d8576b"
             ],
             [
              0.6666666666666666,
              "#ed7953"
             ],
             [
              0.7777777777777778,
              "#fb9f3a"
             ],
             [
              0.8888888888888888,
              "#fdca26"
             ],
             [
              1,
              "#f0f921"
             ]
            ],
            "type": "histogram2d"
           }
          ],
          "histogram2dcontour": [
           {
            "colorbar": {
             "outlinewidth": 0,
             "ticks": ""
            },
            "colorscale": [
             [
              0,
              "#0d0887"
             ],
             [
              0.1111111111111111,
              "#46039f"
             ],
             [
              0.2222222222222222,
              "#7201a8"
             ],
             [
              0.3333333333333333,
              "#9c179e"
             ],
             [
              0.4444444444444444,
              "#bd3786"
             ],
             [
              0.5555555555555556,
              "#d8576b"
             ],
             [
              0.6666666666666666,
              "#ed7953"
             ],
             [
              0.7777777777777778,
              "#fb9f3a"
             ],
             [
              0.8888888888888888,
              "#fdca26"
             ],
             [
              1,
              "#f0f921"
             ]
            ],
            "type": "histogram2dcontour"
           }
          ],
          "mesh3d": [
           {
            "colorbar": {
             "outlinewidth": 0,
             "ticks": ""
            },
            "type": "mesh3d"
           }
          ],
          "parcoords": [
           {
            "line": {
             "colorbar": {
              "outlinewidth": 0,
              "ticks": ""
             }
            },
            "type": "parcoords"
           }
          ],
          "pie": [
           {
            "automargin": true,
            "type": "pie"
           }
          ],
          "scatter": [
           {
            "fillpattern": {
             "fillmode": "overlay",
             "size": 10,
             "solidity": 0.2
            },
            "type": "scatter"
           }
          ],
          "scatter3d": [
           {
            "line": {
             "colorbar": {
              "outlinewidth": 0,
              "ticks": ""
             }
            },
            "marker": {
             "colorbar": {
              "outlinewidth": 0,
              "ticks": ""
             }
            },
            "type": "scatter3d"
           }
          ],
          "scattercarpet": [
           {
            "marker": {
             "colorbar": {
              "outlinewidth": 0,
              "ticks": ""
             }
            },
            "type": "scattercarpet"
           }
          ],
          "scattergeo": [
           {
            "marker": {
             "colorbar": {
              "outlinewidth": 0,
              "ticks": ""
             }
            },
            "type": "scattergeo"
           }
          ],
          "scattergl": [
           {
            "marker": {
             "colorbar": {
              "outlinewidth": 0,
              "ticks": ""
             }
            },
            "type": "scattergl"
           }
          ],
          "scattermapbox": [
           {
            "marker": {
             "colorbar": {
              "outlinewidth": 0,
              "ticks": ""
             }
            },
            "type": "scattermapbox"
           }
          ],
          "scatterpolar": [
           {
            "marker": {
             "colorbar": {
              "outlinewidth": 0,
              "ticks": ""
             }
            },
            "type": "scatterpolar"
           }
          ],
          "scatterpolargl": [
           {
            "marker": {
             "colorbar": {
              "outlinewidth": 0,
              "ticks": ""
             }
            },
            "type": "scatterpolargl"
           }
          ],
          "scatterternary": [
           {
            "marker": {
             "colorbar": {
              "outlinewidth": 0,
              "ticks": ""
             }
            },
            "type": "scatterternary"
           }
          ],
          "surface": [
           {
            "colorbar": {
             "outlinewidth": 0,
             "ticks": ""
            },
            "colorscale": [
             [
              0,
              "#0d0887"
             ],
             [
              0.1111111111111111,
              "#46039f"
             ],
             [
              0.2222222222222222,
              "#7201a8"
             ],
             [
              0.3333333333333333,
              "#9c179e"
             ],
             [
              0.4444444444444444,
              "#bd3786"
             ],
             [
              0.5555555555555556,
              "#d8576b"
             ],
             [
              0.6666666666666666,
              "#ed7953"
             ],
             [
              0.7777777777777778,
              "#fb9f3a"
             ],
             [
              0.8888888888888888,
              "#fdca26"
             ],
             [
              1,
              "#f0f921"
             ]
            ],
            "type": "surface"
           }
          ],
          "table": [
           {
            "cells": {
             "fill": {
              "color": "#EBF0F8"
             },
             "line": {
              "color": "white"
             }
            },
            "header": {
             "fill": {
              "color": "#C8D4E3"
             },
             "line": {
              "color": "white"
             }
            },
            "type": "table"
           }
          ]
         },
         "layout": {
          "annotationdefaults": {
           "arrowcolor": "#2a3f5f",
           "arrowhead": 0,
           "arrowwidth": 1
          },
          "autotypenumbers": "strict",
          "coloraxis": {
           "colorbar": {
            "outlinewidth": 0,
            "ticks": ""
           }
          },
          "colorscale": {
           "diverging": [
            [
             0,
             "#8e0152"
            ],
            [
             0.1,
             "#c51b7d"
            ],
            [
             0.2,
             "#de77ae"
            ],
            [
             0.3,
             "#f1b6da"
            ],
            [
             0.4,
             "#fde0ef"
            ],
            [
             0.5,
             "#f7f7f7"
            ],
            [
             0.6,
             "#e6f5d0"
            ],
            [
             0.7,
             "#b8e186"
            ],
            [
             0.8,
             "#7fbc41"
            ],
            [
             0.9,
             "#4d9221"
            ],
            [
             1,
             "#276419"
            ]
           ],
           "sequential": [
            [
             0,
             "#0d0887"
            ],
            [
             0.1111111111111111,
             "#46039f"
            ],
            [
             0.2222222222222222,
             "#7201a8"
            ],
            [
             0.3333333333333333,
             "#9c179e"
            ],
            [
             0.4444444444444444,
             "#bd3786"
            ],
            [
             0.5555555555555556,
             "#d8576b"
            ],
            [
             0.6666666666666666,
             "#ed7953"
            ],
            [
             0.7777777777777778,
             "#fb9f3a"
            ],
            [
             0.8888888888888888,
             "#fdca26"
            ],
            [
             1,
             "#f0f921"
            ]
           ],
           "sequentialminus": [
            [
             0,
             "#0d0887"
            ],
            [
             0.1111111111111111,
             "#46039f"
            ],
            [
             0.2222222222222222,
             "#7201a8"
            ],
            [
             0.3333333333333333,
             "#9c179e"
            ],
            [
             0.4444444444444444,
             "#bd3786"
            ],
            [
             0.5555555555555556,
             "#d8576b"
            ],
            [
             0.6666666666666666,
             "#ed7953"
            ],
            [
             0.7777777777777778,
             "#fb9f3a"
            ],
            [
             0.8888888888888888,
             "#fdca26"
            ],
            [
             1,
             "#f0f921"
            ]
           ]
          },
          "colorway": [
           "#636efa",
           "#EF553B",
           "#00cc96",
           "#ab63fa",
           "#FFA15A",
           "#19d3f3",
           "#FF6692",
           "#B6E880",
           "#FF97FF",
           "#FECB52"
          ],
          "font": {
           "color": "#2a3f5f"
          },
          "geo": {
           "bgcolor": "white",
           "lakecolor": "white",
           "landcolor": "#E5ECF6",
           "showlakes": true,
           "showland": true,
           "subunitcolor": "white"
          },
          "hoverlabel": {
           "align": "left"
          },
          "hovermode": "closest",
          "mapbox": {
           "style": "light"
          },
          "paper_bgcolor": "white",
          "plot_bgcolor": "#E5ECF6",
          "polar": {
           "angularaxis": {
            "gridcolor": "white",
            "linecolor": "white",
            "ticks": ""
           },
           "bgcolor": "#E5ECF6",
           "radialaxis": {
            "gridcolor": "white",
            "linecolor": "white",
            "ticks": ""
           }
          },
          "scene": {
           "xaxis": {
            "backgroundcolor": "#E5ECF6",
            "gridcolor": "white",
            "gridwidth": 2,
            "linecolor": "white",
            "showbackground": true,
            "ticks": "",
            "zerolinecolor": "white"
           },
           "yaxis": {
            "backgroundcolor": "#E5ECF6",
            "gridcolor": "white",
            "gridwidth": 2,
            "linecolor": "white",
            "showbackground": true,
            "ticks": "",
            "zerolinecolor": "white"
           },
           "zaxis": {
            "backgroundcolor": "#E5ECF6",
            "gridcolor": "white",
            "gridwidth": 2,
            "linecolor": "white",
            "showbackground": true,
            "ticks": "",
            "zerolinecolor": "white"
           }
          },
          "shapedefaults": {
           "line": {
            "color": "#2a3f5f"
           }
          },
          "ternary": {
           "aaxis": {
            "gridcolor": "white",
            "linecolor": "white",
            "ticks": ""
           },
           "baxis": {
            "gridcolor": "white",
            "linecolor": "white",
            "ticks": ""
           },
           "bgcolor": "#E5ECF6",
           "caxis": {
            "gridcolor": "white",
            "linecolor": "white",
            "ticks": ""
           }
          },
          "title": {
           "x": 0.05
          },
          "xaxis": {
           "automargin": true,
           "gridcolor": "white",
           "linecolor": "white",
           "ticks": "",
           "title": {
            "standoff": 15
           },
           "zerolinecolor": "white",
           "zerolinewidth": 2
          },
          "yaxis": {
           "automargin": true,
           "gridcolor": "white",
           "linecolor": "white",
           "ticks": "",
           "title": {
            "standoff": 15
           },
           "zerolinecolor": "white",
           "zerolinewidth": 2
          }
         }
        },
        "title": {
         "text": "PGR: EPS - PENDS"
        },
        "xaxis": {
         "title": {
          "text": "Date"
         }
        },
        "yaxis": {
         "rangemode": "tozero",
         "side": "left",
         "title": {
          "text": "EPS"
         }
        }
       }
      }
     },
     "metadata": {},
     "output_type": "display_data"
    }
   ],
   "source": [
    "stock_symbol = \"PGR\"\n",
    "stock = pivoted_data[pivoted_data[\"OFTIC\"] == stock_symbol].sort_values(by=\"PENDS\")\n",
    "\n",
    "stock_features_dict = {}\n",
    "for column in stock.columns:\n",
    "    stock_features_dict[column] = stock[column]\n",
    "\n",
    "trace = go.Scatter(x=stock_features_dict[\"PENDS\"], y=stock_features_dict[\"EPS\"], mode=\"lines+markers\", name=f\"{stock_symbol}: EPS - PENDS\")\n",
    "\n",
    "layout = go.Layout(\n",
    "    title = f\"{stock_symbol}: EPS - PENDS\",\n",
    "    xaxis=dict(title='Date'),\n",
    "    yaxis=dict(title='EPS', side='left', rangemode='tozero'),\n",
    "    height=600,\n",
    ")\n",
    "\n",
    "fig = go.Figure(data=trace, layout=layout)\n",
    "pyo.iplot(fig)"
   ]
  },
  {
   "cell_type": "code",
   "execution_count": 21,
   "metadata": {
    "metadata": {}
   },
   "outputs": [
    {
     "data": {
      "text/html": [
       "<div>\n",
       "<style scoped>\n",
       "    .dataframe tbody tr th:only-of-type {\n",
       "        vertical-align: middle;\n",
       "    }\n",
       "\n",
       "    .dataframe tbody tr th {\n",
       "        vertical-align: top;\n",
       "    }\n",
       "\n",
       "    .dataframe thead th {\n",
       "        text-align: right;\n",
       "    }\n",
       "</style>\n",
       "<table border=\"1\" class=\"dataframe\">\n",
       "  <thead>\n",
       "    <tr style=\"text-align: right;\">\n",
       "      <th></th>\n",
       "      <th>OFTIC</th>\n",
       "      <th>EPS</th>\n",
       "      <th>PENDS</th>\n",
       "    </tr>\n",
       "  </thead>\n",
       "  <tbody>\n",
       "    <tr>\n",
       "      <th>12000</th>\n",
       "      <td>TROW</td>\n",
       "      <td>0.76</td>\n",
       "      <td>2011-06-30</td>\n",
       "    </tr>\n",
       "    <tr>\n",
       "      <th>12001</th>\n",
       "      <td>TROW</td>\n",
       "      <td>0.71</td>\n",
       "      <td>2011-09-30</td>\n",
       "    </tr>\n",
       "    <tr>\n",
       "      <th>12002</th>\n",
       "      <td>TROW</td>\n",
       "      <td>0.73</td>\n",
       "      <td>2011-12-31</td>\n",
       "    </tr>\n",
       "    <tr>\n",
       "      <th>12003</th>\n",
       "      <td>TROW</td>\n",
       "      <td>0.75</td>\n",
       "      <td>2012-03-31</td>\n",
       "    </tr>\n",
       "    <tr>\n",
       "      <th>12004</th>\n",
       "      <td>TROW</td>\n",
       "      <td>0.79</td>\n",
       "      <td>2012-06-30</td>\n",
       "    </tr>\n",
       "    <tr>\n",
       "      <th>12005</th>\n",
       "      <td>TROW</td>\n",
       "      <td>0.87</td>\n",
       "      <td>2012-09-30</td>\n",
       "    </tr>\n",
       "    <tr>\n",
       "      <th>12006</th>\n",
       "      <td>TROW</td>\n",
       "      <td>0.88</td>\n",
       "      <td>2012-12-31</td>\n",
       "    </tr>\n",
       "    <tr>\n",
       "      <th>12007</th>\n",
       "      <td>TROW</td>\n",
       "      <td>0.91</td>\n",
       "      <td>2013-03-31</td>\n",
       "    </tr>\n",
       "    <tr>\n",
       "      <th>12008</th>\n",
       "      <td>TROW</td>\n",
       "      <td>0.92</td>\n",
       "      <td>2013-06-30</td>\n",
       "    </tr>\n",
       "    <tr>\n",
       "      <th>12009</th>\n",
       "      <td>TROW</td>\n",
       "      <td>1.00</td>\n",
       "      <td>2013-09-30</td>\n",
       "    </tr>\n",
       "    <tr>\n",
       "      <th>12010</th>\n",
       "      <td>TROW</td>\n",
       "      <td>1.06</td>\n",
       "      <td>2013-12-31</td>\n",
       "    </tr>\n",
       "    <tr>\n",
       "      <th>12011</th>\n",
       "      <td>TROW</td>\n",
       "      <td>1.05</td>\n",
       "      <td>2014-03-31</td>\n",
       "    </tr>\n",
       "    <tr>\n",
       "      <th>12012</th>\n",
       "      <td>TROW</td>\n",
       "      <td>1.13</td>\n",
       "      <td>2014-06-30</td>\n",
       "    </tr>\n",
       "    <tr>\n",
       "      <th>12013</th>\n",
       "      <td>TROW</td>\n",
       "      <td>1.12</td>\n",
       "      <td>2014-09-30</td>\n",
       "    </tr>\n",
       "    <tr>\n",
       "      <th>12014</th>\n",
       "      <td>TROW</td>\n",
       "      <td>1.18</td>\n",
       "      <td>2014-12-31</td>\n",
       "    </tr>\n",
       "    <tr>\n",
       "      <th>12015</th>\n",
       "      <td>TROW</td>\n",
       "      <td>1.13</td>\n",
       "      <td>2015-03-31</td>\n",
       "    </tr>\n",
       "    <tr>\n",
       "      <th>12016</th>\n",
       "      <td>TROW</td>\n",
       "      <td>1.24</td>\n",
       "      <td>2015-06-30</td>\n",
       "    </tr>\n",
       "    <tr>\n",
       "      <th>12017</th>\n",
       "      <td>TROW</td>\n",
       "      <td>1.06</td>\n",
       "      <td>2015-09-30</td>\n",
       "    </tr>\n",
       "    <tr>\n",
       "      <th>12018</th>\n",
       "      <td>TROW</td>\n",
       "      <td>1.17</td>\n",
       "      <td>2015-12-31</td>\n",
       "    </tr>\n",
       "    <tr>\n",
       "      <th>12019</th>\n",
       "      <td>TROW</td>\n",
       "      <td>1.15</td>\n",
       "      <td>2016-03-31</td>\n",
       "    </tr>\n",
       "    <tr>\n",
       "      <th>12020</th>\n",
       "      <td>TROW</td>\n",
       "      <td>1.42</td>\n",
       "      <td>2016-06-30</td>\n",
       "    </tr>\n",
       "    <tr>\n",
       "      <th>12021</th>\n",
       "      <td>TROW</td>\n",
       "      <td>1.28</td>\n",
       "      <td>2016-09-30</td>\n",
       "    </tr>\n",
       "    <tr>\n",
       "      <th>12022</th>\n",
       "      <td>TROW</td>\n",
       "      <td>1.50</td>\n",
       "      <td>2016-12-31</td>\n",
       "    </tr>\n",
       "    <tr>\n",
       "      <th>12023</th>\n",
       "      <td>TROW</td>\n",
       "      <td>1.42</td>\n",
       "      <td>2017-03-31</td>\n",
       "    </tr>\n",
       "    <tr>\n",
       "      <th>12024</th>\n",
       "      <td>TROW</td>\n",
       "      <td>1.50</td>\n",
       "      <td>2017-06-30</td>\n",
       "    </tr>\n",
       "    <tr>\n",
       "      <th>12025</th>\n",
       "      <td>TROW</td>\n",
       "      <td>1.56</td>\n",
       "      <td>2017-09-30</td>\n",
       "    </tr>\n",
       "    <tr>\n",
       "      <th>12026</th>\n",
       "      <td>TROW</td>\n",
       "      <td>1.65</td>\n",
       "      <td>2017-12-31</td>\n",
       "    </tr>\n",
       "    <tr>\n",
       "      <th>12027</th>\n",
       "      <td>TROW</td>\n",
       "      <td>1.77</td>\n",
       "      <td>2018-03-31</td>\n",
       "    </tr>\n",
       "    <tr>\n",
       "      <th>12028</th>\n",
       "      <td>TROW</td>\n",
       "      <td>1.77</td>\n",
       "      <td>2018-06-30</td>\n",
       "    </tr>\n",
       "    <tr>\n",
       "      <th>12029</th>\n",
       "      <td>TROW</td>\n",
       "      <td>2.30</td>\n",
       "      <td>2018-09-30</td>\n",
       "    </tr>\n",
       "    <tr>\n",
       "      <th>12030</th>\n",
       "      <td>TROW</td>\n",
       "      <td>1.41</td>\n",
       "      <td>2018-12-31</td>\n",
       "    </tr>\n",
       "    <tr>\n",
       "      <th>12031</th>\n",
       "      <td>TROW</td>\n",
       "      <td>2.09</td>\n",
       "      <td>2019-03-31</td>\n",
       "    </tr>\n",
       "    <tr>\n",
       "      <th>12032</th>\n",
       "      <td>TROW</td>\n",
       "      <td>2.03</td>\n",
       "      <td>2019-06-30</td>\n",
       "    </tr>\n",
       "    <tr>\n",
       "      <th>12033</th>\n",
       "      <td>TROW</td>\n",
       "      <td>2.13</td>\n",
       "      <td>2019-09-30</td>\n",
       "    </tr>\n",
       "    <tr>\n",
       "      <th>12034</th>\n",
       "      <td>TROW</td>\n",
       "      <td>2.03</td>\n",
       "      <td>2019-12-31</td>\n",
       "    </tr>\n",
       "  </tbody>\n",
       "</table>\n",
       "</div>"
      ],
      "text/plain": [
       "      OFTIC   EPS       PENDS\n",
       "12000  TROW  0.76  2011-06-30\n",
       "12001  TROW  0.71  2011-09-30\n",
       "12002  TROW  0.73  2011-12-31\n",
       "12003  TROW  0.75  2012-03-31\n",
       "12004  TROW  0.79  2012-06-30\n",
       "12005  TROW  0.87  2012-09-30\n",
       "12006  TROW  0.88  2012-12-31\n",
       "12007  TROW  0.91  2013-03-31\n",
       "12008  TROW  0.92  2013-06-30\n",
       "12009  TROW  1.00  2013-09-30\n",
       "12010  TROW  1.06  2013-12-31\n",
       "12011  TROW  1.05  2014-03-31\n",
       "12012  TROW  1.13  2014-06-30\n",
       "12013  TROW  1.12  2014-09-30\n",
       "12014  TROW  1.18  2014-12-31\n",
       "12015  TROW  1.13  2015-03-31\n",
       "12016  TROW  1.24  2015-06-30\n",
       "12017  TROW  1.06  2015-09-30\n",
       "12018  TROW  1.17  2015-12-31\n",
       "12019  TROW  1.15  2016-03-31\n",
       "12020  TROW  1.42  2016-06-30\n",
       "12021  TROW  1.28  2016-09-30\n",
       "12022  TROW  1.50  2016-12-31\n",
       "12023  TROW  1.42  2017-03-31\n",
       "12024  TROW  1.50  2017-06-30\n",
       "12025  TROW  1.56  2017-09-30\n",
       "12026  TROW  1.65  2017-12-31\n",
       "12027  TROW  1.77  2018-03-31\n",
       "12028  TROW  1.77  2018-06-30\n",
       "12029  TROW  2.30  2018-09-30\n",
       "12030  TROW  1.41  2018-12-31\n",
       "12031  TROW  2.09  2019-03-31\n",
       "12032  TROW  2.03  2019-06-30\n",
       "12033  TROW  2.13  2019-09-30\n",
       "12034  TROW  2.03  2019-12-31"
      ]
     },
     "execution_count": 21,
     "metadata": {},
     "output_type": "execute_result"
    }
   ],
   "source": [
    "pivoted_data[pivoted_data[\"OFTIC\"]==\"TROW\"][[\"OFTIC\",\"EPS\",\"PENDS\"]].sort_values(by=[\"OFTIC\", \"PENDS\"])"
   ]
  },
  {
   "cell_type": "code",
   "execution_count": 22,
   "metadata": {
    "metadata": {}
   },
   "outputs": [
    {
     "data": {
      "text/html": [
       "<div>\n",
       "<style scoped>\n",
       "    .dataframe tbody tr th:only-of-type {\n",
       "        vertical-align: middle;\n",
       "    }\n",
       "\n",
       "    .dataframe tbody tr th {\n",
       "        vertical-align: top;\n",
       "    }\n",
       "\n",
       "    .dataframe thead th {\n",
       "        text-align: right;\n",
       "    }\n",
       "</style>\n",
       "<table border=\"1\" class=\"dataframe\">\n",
       "  <thead>\n",
       "    <tr style=\"text-align: right;\">\n",
       "      <th></th>\n",
       "      <th>EPS</th>\n",
       "      <th>OFTIC</th>\n",
       "      <th>PENDS</th>\n",
       "    </tr>\n",
       "  </thead>\n",
       "  <tbody>\n",
       "    <tr>\n",
       "      <th>0</th>\n",
       "      <td>0.2782</td>\n",
       "      <td>AAPL</td>\n",
       "      <td>2011-06-30</td>\n",
       "    </tr>\n",
       "    <tr>\n",
       "      <th>1</th>\n",
       "      <td>0.2518</td>\n",
       "      <td>AAPL</td>\n",
       "      <td>2011-09-30</td>\n",
       "    </tr>\n",
       "    <tr>\n",
       "      <th>2</th>\n",
       "      <td>0.4954</td>\n",
       "      <td>AAPL</td>\n",
       "      <td>2011-12-31</td>\n",
       "    </tr>\n",
       "    <tr>\n",
       "      <th>3</th>\n",
       "      <td>0.4393</td>\n",
       "      <td>AAPL</td>\n",
       "      <td>2012-03-31</td>\n",
       "    </tr>\n",
       "    <tr>\n",
       "      <th>4</th>\n",
       "      <td>0.3329</td>\n",
       "      <td>AAPL</td>\n",
       "      <td>2012-06-30</td>\n",
       "    </tr>\n",
       "    <tr>\n",
       "      <th>...</th>\n",
       "      <td>...</td>\n",
       "      <td>...</td>\n",
       "      <td>...</td>\n",
       "    </tr>\n",
       "    <tr>\n",
       "      <th>13480</th>\n",
       "      <td>3.1000</td>\n",
       "      <td>ZBRA</td>\n",
       "      <td>2018-12-31</td>\n",
       "    </tr>\n",
       "    <tr>\n",
       "      <th>13481</th>\n",
       "      <td>2.9200</td>\n",
       "      <td>ZBRA</td>\n",
       "      <td>2019-03-31</td>\n",
       "    </tr>\n",
       "    <tr>\n",
       "      <th>13482</th>\n",
       "      <td>3.0200</td>\n",
       "      <td>ZBRA</td>\n",
       "      <td>2019-06-30</td>\n",
       "    </tr>\n",
       "    <tr>\n",
       "      <th>13483</th>\n",
       "      <td>3.4300</td>\n",
       "      <td>ZBRA</td>\n",
       "      <td>2019-09-30</td>\n",
       "    </tr>\n",
       "    <tr>\n",
       "      <th>13484</th>\n",
       "      <td>3.5600</td>\n",
       "      <td>ZBRA</td>\n",
       "      <td>2019-12-31</td>\n",
       "    </tr>\n",
       "  </tbody>\n",
       "</table>\n",
       "<p>9450 rows × 3 columns</p>\n",
       "</div>"
      ],
      "text/plain": [
       "          EPS OFTIC       PENDS\n",
       "0      0.2782  AAPL  2011-06-30\n",
       "1      0.2518  AAPL  2011-09-30\n",
       "2      0.4954  AAPL  2011-12-31\n",
       "3      0.4393  AAPL  2012-03-31\n",
       "4      0.3329  AAPL  2012-06-30\n",
       "...       ...   ...         ...\n",
       "13480  3.1000  ZBRA  2018-12-31\n",
       "13481  2.9200  ZBRA  2019-03-31\n",
       "13482  3.0200  ZBRA  2019-06-30\n",
       "13483  3.4300  ZBRA  2019-09-30\n",
       "13484  3.5600  ZBRA  2019-12-31\n",
       "\n",
       "[9450 rows x 3 columns]"
      ]
     },
     "execution_count": 22,
     "metadata": {},
     "output_type": "execute_result"
    }
   ],
   "source": [
    "pivoted_data[[\"EPS\",\"OFTIC\",\"PENDS\"]].sort_values(by=[\"OFTIC\", \"PENDS\"])"
   ]
  },
  {
   "cell_type": "code",
   "execution_count": 23,
   "metadata": {
    "metadata": {}
   },
   "outputs": [
    {
     "data": {
      "text/plain": [
       "0        0.2782\n",
       "1        0.2518\n",
       "2        0.4954\n",
       "3        0.4393\n",
       "4        0.3329\n",
       "          ...  \n",
       "13480    3.1000\n",
       "13481    2.9200\n",
       "13482    3.0200\n",
       "13483    3.4300\n",
       "13484    3.5600\n",
       "Name: EPS, Length: 9450, dtype: float64"
      ]
     },
     "execution_count": 23,
     "metadata": {},
     "output_type": "execute_result"
    }
   ],
   "source": [
    "X_ = pivoted_data.drop(columns=[\"EPS\"])\n",
    "y_ = pivoted_data['EPS']\n",
    "y_"
   ]
  },
  {
   "cell_type": "code",
   "execution_count": 24,
   "metadata": {
    "metadata": {}
   },
   "outputs": [
    {
     "data": {
      "application/vnd.jupyter.widget-view+json": {
       "model_id": "490c88f10675469c8b290927cf1c7a1f",
       "version_major": 2,
       "version_minor": 0
      },
      "text/plain": [
       "  0%|          | 0/270 [00:00<?, ?it/s]"
      ]
     },
     "metadata": {},
     "output_type": "display_data"
    }
   ],
   "source": [
    "company_dict = {}\n",
    "\n",
    "for company in tqdm(pivoted_data[\"OFTIC\"].unique()):\n",
    "    comp_data = pivoted_data[pivoted_data[\"OFTIC\"] == company].sort_values(by='PENDS')\n",
    "    X = comp_data.drop(columns=[\"EPS\",\"OFTIC\", \"PENDS\"])\n",
    "    # X = comp_data.drop(columns=[\"EPS\", \"Sector\",\"OFTIC\",\"Date\", \"PENDS\"])\n",
    "    y = comp_data['EPS']\n",
    "\n",
    "    X_train, X_test, y_train, y_test = train_test_split(X, y, test_size=0.2, shuffle=False)\n",
    "\n",
    "    X_train_df = X_train\n",
    "    X_test_df = X_test\n",
    "    y_train_df = y_train\n",
    "    y_test_df = y_test\n",
    "\n",
    "    for column in X_train.columns:\n",
    "        if \"PENDS\" in column:\n",
    "            continue\n",
    "\n",
    "        if \"embedding\" in column:\n",
    "            continue\n",
    "        \n",
    "        if \"Prob\" in column:\n",
    "            continue\n",
    "\n",
    "        scaler = MinMaxScaler()\n",
    "\n",
    "        X_train_scaled = scaler.fit_transform(X_train[[column]].values)\n",
    "        X_train_df[column] = X_train_scaled\n",
    "            \n",
    "        X_test_scaled = scaler.transform(X_test[[column]].values)\n",
    "        X_test_df[column] = X_test_scaled\n",
    "\n",
    "    scaler_y = MinMaxScaler()\n",
    "\n",
    "    y_train_scaled = pd.DataFrame(scaler_y.fit_transform(y_train.values.reshape(-1, 1)), columns=['EPS'], index=y_train.index)\n",
    "    y_train_df = y_train_scaled\n",
    "            \n",
    "    y_test_scaled = pd.DataFrame(scaler_y.transform(y_test.values.reshape(-1, 1)), columns=['EPS'], index=y_test.index)\n",
    "    y_test_df = y_test_scaled\n",
    "\n",
    "    X_train_df[\"lagged_EPS\"] = y_train_df\n",
    "    X_test_df[\"lagged_EPS\"] = y_test_df\n",
    "\n",
    "    company_dict[company] = {\"X_train\": X_train_df, \"X_test\": X_test_df, \"y_train\": y_train_df, \"y_test\": y_test_df, \"scaler_y\": scaler_y}\n"
   ]
  },
  {
   "cell_type": "code",
   "execution_count": 25,
   "metadata": {
    "metadata": {}
   },
   "outputs": [
    {
     "data": {
      "text/html": [
       "<div>\n",
       "<style scoped>\n",
       "    .dataframe tbody tr th:only-of-type {\n",
       "        vertical-align: middle;\n",
       "    }\n",
       "\n",
       "    .dataframe tbody tr th {\n",
       "        vertical-align: top;\n",
       "    }\n",
       "\n",
       "    .dataframe thead th {\n",
       "        text-align: right;\n",
       "    }\n",
       "</style>\n",
       "<table border=\"1\" class=\"dataframe\">\n",
       "  <thead>\n",
       "    <tr style=\"text-align: right;\">\n",
       "      <th></th>\n",
       "      <th>BPS</th>\n",
       "      <th>Brent_Close</th>\n",
       "      <th>Brent_Close_quarterly_return</th>\n",
       "      <th>CPS</th>\n",
       "      <th>CPX</th>\n",
       "      <th>CSH</th>\n",
       "      <th>C_Discretionary_Close</th>\n",
       "      <th>C_Discretionary_Close_quarterly_return</th>\n",
       "      <th>C_Staples_Close</th>\n",
       "      <th>C_Staples_Close_quarterly_return</th>\n",
       "      <th>...</th>\n",
       "      <th>industrials_Close</th>\n",
       "      <th>industrials_Close_quarterly_return</th>\n",
       "      <th>information_Close</th>\n",
       "      <th>information_Close_quarterly_return</th>\n",
       "      <th>materials_Close</th>\n",
       "      <th>materials_Close_quarterly_return</th>\n",
       "      <th>numeric_sector</th>\n",
       "      <th>utilities_Close</th>\n",
       "      <th>utilities_Close_quarterly_return</th>\n",
       "      <th>lagged_EPS</th>\n",
       "    </tr>\n",
       "  </thead>\n",
       "  <tbody>\n",
       "    <tr>\n",
       "      <th>9678</th>\n",
       "      <td>1.138858</td>\n",
       "      <td>0.492523</td>\n",
       "      <td>0.808852</td>\n",
       "      <td>0.968741</td>\n",
       "      <td>0.732330</td>\n",
       "      <td>0.913012</td>\n",
       "      <td>1.120578</td>\n",
       "      <td>0.735004</td>\n",
       "      <td>0.803158</td>\n",
       "      <td>0.251749</td>\n",
       "      <td>...</td>\n",
       "      <td>0.913025</td>\n",
       "      <td>0.484770</td>\n",
       "      <td>1.096844</td>\n",
       "      <td>0.538344</td>\n",
       "      <td>0.921078</td>\n",
       "      <td>0.693463</td>\n",
       "      <td>0.0</td>\n",
       "      <td>0.944302</td>\n",
       "      <td>0.445998</td>\n",
       "      <td>0.871560</td>\n",
       "    </tr>\n",
       "    <tr>\n",
       "      <th>9679</th>\n",
       "      <td>1.312640</td>\n",
       "      <td>0.530841</td>\n",
       "      <td>0.671392</td>\n",
       "      <td>1.136925</td>\n",
       "      <td>0.738867</td>\n",
       "      <td>1.218710</td>\n",
       "      <td>1.239801</td>\n",
       "      <td>0.712070</td>\n",
       "      <td>0.891296</td>\n",
       "      <td>0.566433</td>\n",
       "      <td>...</td>\n",
       "      <td>1.058773</td>\n",
       "      <td>0.836612</td>\n",
       "      <td>1.236968</td>\n",
       "      <td>0.622477</td>\n",
       "      <td>0.916587</td>\n",
       "      <td>0.637155</td>\n",
       "      <td>0.0</td>\n",
       "      <td>0.979561</td>\n",
       "      <td>0.375589</td>\n",
       "      <td>1.036697</td>\n",
       "    </tr>\n",
       "    <tr>\n",
       "      <th>9680</th>\n",
       "      <td>0.998169</td>\n",
       "      <td>0.192991</td>\n",
       "      <td>0.069047</td>\n",
       "      <td>0.957238</td>\n",
       "      <td>1.365191</td>\n",
       "      <td>1.079371</td>\n",
       "      <td>0.965678</td>\n",
       "      <td>-0.077257</td>\n",
       "      <td>0.775615</td>\n",
       "      <td>0.076821</td>\n",
       "      <td>...</td>\n",
       "      <td>0.757589</td>\n",
       "      <td>0.099668</td>\n",
       "      <td>0.917743</td>\n",
       "      <td>-0.358002</td>\n",
       "      <td>0.678858</td>\n",
       "      <td>0.319639</td>\n",
       "      <td>0.0</td>\n",
       "      <td>0.993357</td>\n",
       "      <td>0.337380</td>\n",
       "      <td>0.954128</td>\n",
       "    </tr>\n",
       "    <tr>\n",
       "      <th>9681</th>\n",
       "      <td>1.360514</td>\n",
       "      <td>0.363435</td>\n",
       "      <td>1.025647</td>\n",
       "      <td>1.014460</td>\n",
       "      <td>0.950904</td>\n",
       "      <td>0.416721</td>\n",
       "      <td>1.189071</td>\n",
       "      <td>0.980329</td>\n",
       "      <td>0.971355</td>\n",
       "      <td>0.838735</td>\n",
       "      <td>...</td>\n",
       "      <td>0.986222</td>\n",
       "      <td>1.026594</td>\n",
       "      <td>1.205165</td>\n",
       "      <td>1.033229</td>\n",
       "      <td>0.838627</td>\n",
       "      <td>0.892645</td>\n",
       "      <td>0.0</td>\n",
       "      <td>1.261625</td>\n",
       "      <td>0.778369</td>\n",
       "      <td>1.036697</td>\n",
       "    </tr>\n",
       "    <tr>\n",
       "      <th>9682</th>\n",
       "      <td>1.610092</td>\n",
       "      <td>0.341939</td>\n",
       "      <td>0.566312</td>\n",
       "      <td>1.077870</td>\n",
       "      <td>1.792527</td>\n",
       "      <td>0.979763</td>\n",
       "      <td>1.269607</td>\n",
       "      <td>0.623823</td>\n",
       "      <td>1.043335</td>\n",
       "      <td>0.512132</td>\n",
       "      <td>...</td>\n",
       "      <td>1.037675</td>\n",
       "      <td>0.667441</td>\n",
       "      <td>1.301770</td>\n",
       "      <td>0.510931</td>\n",
       "      <td>0.934873</td>\n",
       "      <td>0.780009</td>\n",
       "      <td>0.0</td>\n",
       "      <td>1.336229</td>\n",
       "      <td>0.430992</td>\n",
       "      <td>1.119266</td>\n",
       "    </tr>\n",
       "    <tr>\n",
       "      <th>9683</th>\n",
       "      <td>1.770002</td>\n",
       "      <td>0.274533</td>\n",
       "      <td>0.474170</td>\n",
       "      <td>1.149039</td>\n",
       "      <td>0.986787</td>\n",
       "      <td>1.276714</td>\n",
       "      <td>1.292187</td>\n",
       "      <td>0.504605</td>\n",
       "      <td>1.166361</td>\n",
       "      <td>0.618266</td>\n",
       "      <td>...</td>\n",
       "      <td>1.042196</td>\n",
       "      <td>0.588763</td>\n",
       "      <td>1.361310</td>\n",
       "      <td>0.425888</td>\n",
       "      <td>0.925249</td>\n",
       "      <td>0.630280</td>\n",
       "      <td>0.0</td>\n",
       "      <td>1.597343</td>\n",
       "      <td>0.715035</td>\n",
       "      <td>1.036697</td>\n",
       "    </tr>\n",
       "    <tr>\n",
       "      <th>9684</th>\n",
       "      <td>1.677857</td>\n",
       "      <td>0.335514</td>\n",
       "      <td>0.740108</td>\n",
       "      <td>0.968847</td>\n",
       "      <td>1.056922</td>\n",
       "      <td>0.950983</td>\n",
       "      <td>1.363239</td>\n",
       "      <td>0.596497</td>\n",
       "      <td>1.223650</td>\n",
       "      <td>0.467675</td>\n",
       "      <td>...</td>\n",
       "      <td>1.124866</td>\n",
       "      <td>0.714989</td>\n",
       "      <td>1.627690</td>\n",
       "      <td>0.824818</td>\n",
       "      <td>1.028553</td>\n",
       "      <td>0.783228</td>\n",
       "      <td>0.0</td>\n",
       "      <td>1.591211</td>\n",
       "      <td>0.304654</td>\n",
       "      <td>0.899083</td>\n",
       "    </tr>\n",
       "  </tbody>\n",
       "</table>\n",
       "<p>7 rows × 58 columns</p>\n",
       "</div>"
      ],
      "text/plain": [
       "           BPS  Brent_Close  Brent_Close_quarterly_return       CPS       CPX  \\\n",
       "9678  1.138858     0.492523                      0.808852  0.968741  0.732330   \n",
       "9679  1.312640     0.530841                      0.671392  1.136925  0.738867   \n",
       "9680  0.998169     0.192991                      0.069047  0.957238  1.365191   \n",
       "9681  1.360514     0.363435                      1.025647  1.014460  0.950904   \n",
       "9682  1.610092     0.341939                      0.566312  1.077870  1.792527   \n",
       "9683  1.770002     0.274533                      0.474170  1.149039  0.986787   \n",
       "9684  1.677857     0.335514                      0.740108  0.968847  1.056922   \n",
       "\n",
       "           CSH  C_Discretionary_Close  C_Discretionary_Close_quarterly_return  \\\n",
       "9678  0.913012               1.120578                                0.735004   \n",
       "9679  1.218710               1.239801                                0.712070   \n",
       "9680  1.079371               0.965678                               -0.077257   \n",
       "9681  0.416721               1.189071                                0.980329   \n",
       "9682  0.979763               1.269607                                0.623823   \n",
       "9683  1.276714               1.292187                                0.504605   \n",
       "9684  0.950983               1.363239                                0.596497   \n",
       "\n",
       "      C_Staples_Close  C_Staples_Close_quarterly_return  ...  \\\n",
       "9678         0.803158                          0.251749  ...   \n",
       "9679         0.891296                          0.566433  ...   \n",
       "9680         0.775615                          0.076821  ...   \n",
       "9681         0.971355                          0.838735  ...   \n",
       "9682         1.043335                          0.512132  ...   \n",
       "9683         1.166361                          0.618266  ...   \n",
       "9684         1.223650                          0.467675  ...   \n",
       "\n",
       "      industrials_Close  industrials_Close_quarterly_return  \\\n",
       "9678           0.913025                            0.484770   \n",
       "9679           1.058773                            0.836612   \n",
       "9680           0.757589                            0.099668   \n",
       "9681           0.986222                            1.026594   \n",
       "9682           1.037675                            0.667441   \n",
       "9683           1.042196                            0.588763   \n",
       "9684           1.124866                            0.714989   \n",
       "\n",
       "      information_Close  information_Close_quarterly_return  materials_Close  \\\n",
       "9678           1.096844                            0.538344         0.921078   \n",
       "9679           1.236968                            0.622477         0.916587   \n",
       "9680           0.917743                           -0.358002         0.678858   \n",
       "9681           1.205165                            1.033229         0.838627   \n",
       "9682           1.301770                            0.510931         0.934873   \n",
       "9683           1.361310                            0.425888         0.925249   \n",
       "9684           1.627690                            0.824818         1.028553   \n",
       "\n",
       "      materials_Close_quarterly_return  numeric_sector  utilities_Close  \\\n",
       "9678                          0.693463             0.0         0.944302   \n",
       "9679                          0.637155             0.0         0.979561   \n",
       "9680                          0.319639             0.0         0.993357   \n",
       "9681                          0.892645             0.0         1.261625   \n",
       "9682                          0.780009             0.0         1.336229   \n",
       "9683                          0.630280             0.0         1.597343   \n",
       "9684                          0.783228             0.0         1.591211   \n",
       "\n",
       "      utilities_Close_quarterly_return  lagged_EPS  \n",
       "9678                          0.445998    0.871560  \n",
       "9679                          0.375589    1.036697  \n",
       "9680                          0.337380    0.954128  \n",
       "9681                          0.778369    1.036697  \n",
       "9682                          0.430992    1.119266  \n",
       "9683                          0.715035    1.036697  \n",
       "9684                          0.304654    0.899083  \n",
       "\n",
       "[7 rows x 58 columns]"
      ]
     },
     "execution_count": 25,
     "metadata": {},
     "output_type": "execute_result"
    }
   ],
   "source": [
    "company_dict[\"PGR\"][\"X_test\"]"
   ]
  },
  {
   "cell_type": "code",
   "execution_count": 26,
   "metadata": {
    "metadata": {}
   },
   "outputs": [
    {
     "data": {
      "text/html": [
       "<div>\n",
       "<style scoped>\n",
       "    .dataframe tbody tr th:only-of-type {\n",
       "        vertical-align: middle;\n",
       "    }\n",
       "\n",
       "    .dataframe tbody tr th {\n",
       "        vertical-align: top;\n",
       "    }\n",
       "\n",
       "    .dataframe thead th {\n",
       "        text-align: right;\n",
       "    }\n",
       "</style>\n",
       "<table border=\"1\" class=\"dataframe\">\n",
       "  <thead>\n",
       "    <tr style=\"text-align: right;\">\n",
       "      <th></th>\n",
       "      <th>BPS</th>\n",
       "      <th>Brent_Close</th>\n",
       "      <th>Brent_Close_quarterly_return</th>\n",
       "      <th>CPS</th>\n",
       "      <th>CPX</th>\n",
       "      <th>CSH</th>\n",
       "      <th>C_Discretionary_Close</th>\n",
       "      <th>C_Discretionary_Close_quarterly_return</th>\n",
       "      <th>C_Staples_Close</th>\n",
       "      <th>C_Staples_Close_quarterly_return</th>\n",
       "      <th>...</th>\n",
       "      <th>industrials_Close</th>\n",
       "      <th>industrials_Close_quarterly_return</th>\n",
       "      <th>information_Close</th>\n",
       "      <th>information_Close_quarterly_return</th>\n",
       "      <th>materials_Close</th>\n",
       "      <th>materials_Close_quarterly_return</th>\n",
       "      <th>numeric_sector</th>\n",
       "      <th>utilities_Close</th>\n",
       "      <th>utilities_Close_quarterly_return</th>\n",
       "      <th>lagged_EPS</th>\n",
       "    </tr>\n",
       "  </thead>\n",
       "  <tbody>\n",
       "    <tr>\n",
       "      <th>12000</th>\n",
       "      <td>0.032658</td>\n",
       "      <td>0.878505</td>\n",
       "      <td>0.543696</td>\n",
       "      <td>0.593023</td>\n",
       "      <td>0.208539</td>\n",
       "      <td>0.251689</td>\n",
       "      <td>0.080536</td>\n",
       "      <td>0.563929</td>\n",
       "      <td>0.057657</td>\n",
       "      <td>0.553415</td>\n",
       "      <td>...</td>\n",
       "      <td>0.172659</td>\n",
       "      <td>0.550621</td>\n",
       "      <td>0.050215</td>\n",
       "      <td>0.254508</td>\n",
       "      <td>0.321142</td>\n",
       "      <td>0.602163</td>\n",
       "      <td>0.0</td>\n",
       "      <td>0.000000</td>\n",
       "      <td>0.550142</td>\n",
       "      <td>0.047170</td>\n",
       "    </tr>\n",
       "    <tr>\n",
       "      <th>12001</th>\n",
       "      <td>0.000000</td>\n",
       "      <td>0.764953</td>\n",
       "      <td>0.474611</td>\n",
       "      <td>0.682171</td>\n",
       "      <td>0.198291</td>\n",
       "      <td>0.473431</td>\n",
       "      <td>0.000000</td>\n",
       "      <td>0.000000</td>\n",
       "      <td>0.000000</td>\n",
       "      <td>0.114769</td>\n",
       "      <td>...</td>\n",
       "      <td>0.000000</td>\n",
       "      <td>0.000000</td>\n",
       "      <td>0.000000</td>\n",
       "      <td>0.000000</td>\n",
       "      <td>0.000000</td>\n",
       "      <td>0.000000</td>\n",
       "      <td>0.0</td>\n",
       "      <td>0.007154</td>\n",
       "      <td>0.332943</td>\n",
       "      <td>0.000000</td>\n",
       "    </tr>\n",
       "    <tr>\n",
       "      <th>12002</th>\n",
       "      <td>0.049428</td>\n",
       "      <td>0.818925</td>\n",
       "      <td>0.677047</td>\n",
       "      <td>0.205426</td>\n",
       "      <td>0.465784</td>\n",
       "      <td>0.433615</td>\n",
       "      <td>0.062622</td>\n",
       "      <td>0.874480</td>\n",
       "      <td>0.103930</td>\n",
       "      <td>0.794207</td>\n",
       "      <td>...</td>\n",
       "      <td>0.097524</td>\n",
       "      <td>1.000000</td>\n",
       "      <td>0.044237</td>\n",
       "      <td>0.600125</td>\n",
       "      <td>0.132820</td>\n",
       "      <td>1.000000</td>\n",
       "      <td>0.0</td>\n",
       "      <td>0.127747</td>\n",
       "      <td>0.642385</td>\n",
       "      <td>0.018868</td>\n",
       "    </tr>\n",
       "    <tr>\n",
       "      <th>12003</th>\n",
       "      <td>0.115627</td>\n",
       "      <td>1.000000</td>\n",
       "      <td>0.830195</td>\n",
       "      <td>0.577519</td>\n",
       "      <td>0.000000</td>\n",
       "      <td>0.120564</td>\n",
       "      <td>0.153997</td>\n",
       "      <td>1.000000</td>\n",
       "      <td>0.162321</td>\n",
       "      <td>0.577455</td>\n",
       "      <td>...</td>\n",
       "      <td>0.176534</td>\n",
       "      <td>0.875023</td>\n",
       "      <td>0.156863</td>\n",
       "      <td>1.000000</td>\n",
       "      <td>0.244145</td>\n",
       "      <td>0.905314</td>\n",
       "      <td>0.0</td>\n",
       "      <td>0.079714</td>\n",
       "      <td>0.190879</td>\n",
       "      <td>0.037736</td>\n",
       "    </tr>\n",
       "    <tr>\n",
       "      <th>12004</th>\n",
       "      <td>0.051194</td>\n",
       "      <td>0.707009</td>\n",
       "      <td>0.293267</td>\n",
       "      <td>0.534884</td>\n",
       "      <td>0.139073</td>\n",
       "      <td>0.358470</td>\n",
       "      <td>0.134277</td>\n",
       "      <td>0.360339</td>\n",
       "      <td>0.187661</td>\n",
       "      <td>0.443646</td>\n",
       "      <td>...</td>\n",
       "      <td>0.138859</td>\n",
       "      <td>0.455177</td>\n",
       "      <td>0.122669</td>\n",
       "      <td>0.128563</td>\n",
       "      <td>0.190247</td>\n",
       "      <td>0.528287</td>\n",
       "      <td>0.0</td>\n",
       "      <td>0.179356</td>\n",
       "      <td>0.574203</td>\n",
       "      <td>0.075472</td>\n",
       "    </tr>\n",
       "    <tr>\n",
       "      <th>12005</th>\n",
       "      <td>0.195066</td>\n",
       "      <td>0.877453</td>\n",
       "      <td>0.837645</td>\n",
       "      <td>0.740310</td>\n",
       "      <td>0.163355</td>\n",
       "      <td>0.555681</td>\n",
       "      <td>0.179588</td>\n",
       "      <td>0.699222</td>\n",
       "      <td>0.226588</td>\n",
       "      <td>0.491400</td>\n",
       "      <td>...</td>\n",
       "      <td>0.157374</td>\n",
       "      <td>0.646533</td>\n",
       "      <td>0.172884</td>\n",
       "      <td>0.580276</td>\n",
       "      <td>0.238691</td>\n",
       "      <td>0.751507</td>\n",
       "      <td>0.0</td>\n",
       "      <td>0.148697</td>\n",
       "      <td>0.237308</td>\n",
       "      <td>0.150943</td>\n",
       "    </tr>\n",
       "    <tr>\n",
       "      <th>12006</th>\n",
       "      <td>0.179178</td>\n",
       "      <td>0.862500</td>\n",
       "      <td>0.590220</td>\n",
       "      <td>0.255814</td>\n",
       "      <td>0.209713</td>\n",
       "      <td>0.477393</td>\n",
       "      <td>0.189372</td>\n",
       "      <td>0.509137</td>\n",
       "      <td>0.192435</td>\n",
       "      <td>0.228173</td>\n",
       "      <td>...</td>\n",
       "      <td>0.186868</td>\n",
       "      <td>0.682694</td>\n",
       "      <td>0.125538</td>\n",
       "      <td>0.065555</td>\n",
       "      <td>0.262432</td>\n",
       "      <td>0.694129</td>\n",
       "      <td>0.0</td>\n",
       "      <td>0.073582</td>\n",
       "      <td>0.123988</td>\n",
       "      <td>0.160377</td>\n",
       "    </tr>\n",
       "    <tr>\n",
       "      <th>12007</th>\n",
       "      <td>0.256852</td>\n",
       "      <td>0.849766</td>\n",
       "      <td>0.592653</td>\n",
       "      <td>0.864341</td>\n",
       "      <td>0.245033</td>\n",
       "      <td>0.164767</td>\n",
       "      <td>0.273069</td>\n",
       "      <td>0.867086</td>\n",
       "      <td>0.371282</td>\n",
       "      <td>1.000000</td>\n",
       "      <td>...</td>\n",
       "      <td>0.269968</td>\n",
       "      <td>0.856411</td>\n",
       "      <td>0.159493</td>\n",
       "      <td>0.490786</td>\n",
       "      <td>0.315047</td>\n",
       "      <td>0.753780</td>\n",
       "      <td>0.0</td>\n",
       "      <td>0.287174</td>\n",
       "      <td>0.874442</td>\n",
       "      <td>0.188679</td>\n",
       "    </tr>\n",
       "    <tr>\n",
       "      <th>12008</th>\n",
       "      <td>0.322168</td>\n",
       "      <td>0.757944</td>\n",
       "      <td>0.497684</td>\n",
       "      <td>0.585271</td>\n",
       "      <td>0.154525</td>\n",
       "      <td>0.366330</td>\n",
       "      <td>0.324251</td>\n",
       "      <td>0.683277</td>\n",
       "      <td>0.367609</td>\n",
       "      <td>0.337496</td>\n",
       "      <td>...</td>\n",
       "      <td>0.288913</td>\n",
       "      <td>0.638333</td>\n",
       "      <td>0.167145</td>\n",
       "      <td>0.345915</td>\n",
       "      <td>0.288418</td>\n",
       "      <td>0.589659</td>\n",
       "      <td>0.0</td>\n",
       "      <td>0.212059</td>\n",
       "      <td>0.137113</td>\n",
       "      <td>0.198113</td>\n",
       "    </tr>\n",
       "    <tr>\n",
       "      <th>12009</th>\n",
       "      <td>0.395428</td>\n",
       "      <td>0.830491</td>\n",
       "      <td>0.701436</td>\n",
       "      <td>0.728682</td>\n",
       "      <td>0.163355</td>\n",
       "      <td>0.699661</td>\n",
       "      <td>0.387927</td>\n",
       "      <td>0.720867</td>\n",
       "      <td>0.372383</td>\n",
       "      <td>0.364506</td>\n",
       "      <td>...</td>\n",
       "      <td>0.370075</td>\n",
       "      <td>0.820146</td>\n",
       "      <td>0.201817</td>\n",
       "      <td>0.483967</td>\n",
       "      <td>0.405839</td>\n",
       "      <td>0.884706</td>\n",
       "      <td>0.0</td>\n",
       "      <td>0.198774</td>\n",
       "      <td>0.280954</td>\n",
       "      <td>0.273585</td>\n",
       "    </tr>\n",
       "    <tr>\n",
       "      <th>12010</th>\n",
       "      <td>0.481486</td>\n",
       "      <td>0.858879</td>\n",
       "      <td>0.642321</td>\n",
       "      <td>0.302326</td>\n",
       "      <td>0.430464</td>\n",
       "      <td>0.626933</td>\n",
       "      <td>0.481258</td>\n",
       "      <td>0.815318</td>\n",
       "      <td>0.489166</td>\n",
       "      <td>0.721849</td>\n",
       "      <td>...</td>\n",
       "      <td>0.496017</td>\n",
       "      <td>0.921757</td>\n",
       "      <td>0.290292</td>\n",
       "      <td>0.739156</td>\n",
       "      <td>0.540905</td>\n",
       "      <td>0.896793</td>\n",
       "      <td>0.0</td>\n",
       "      <td>0.229433</td>\n",
       "      <td>0.388603</td>\n",
       "      <td>0.330189</td>\n",
       "    </tr>\n",
       "    <tr>\n",
       "      <th>12011</th>\n",
       "      <td>0.550298</td>\n",
       "      <td>0.823364</td>\n",
       "      <td>0.565491</td>\n",
       "      <td>0.895349</td>\n",
       "      <td>0.177351</td>\n",
       "      <td>0.385959</td>\n",
       "      <td>0.449496</td>\n",
       "      <td>0.351609</td>\n",
       "      <td>0.492104</td>\n",
       "      <td>0.357904</td>\n",
       "      <td>...</td>\n",
       "      <td>0.497524</td>\n",
       "      <td>0.585056</td>\n",
       "      <td>0.304878</td>\n",
       "      <td>0.370265</td>\n",
       "      <td>0.574912</td>\n",
       "      <td>0.701276</td>\n",
       "      <td>0.0</td>\n",
       "      <td>0.407767</td>\n",
       "      <td>0.744189</td>\n",
       "      <td>0.320755</td>\n",
       "    </tr>\n",
       "    <tr>\n",
       "      <th>12012</th>\n",
       "      <td>0.634856</td>\n",
       "      <td>0.877103</td>\n",
       "      <td>0.673546</td>\n",
       "      <td>0.538760</td>\n",
       "      <td>0.183041</td>\n",
       "      <td>0.368290</td>\n",
       "      <td>0.479904</td>\n",
       "      <td>0.569146</td>\n",
       "      <td>0.549394</td>\n",
       "      <td>0.518181</td>\n",
       "      <td>...</td>\n",
       "      <td>0.534769</td>\n",
       "      <td>0.670695</td>\n",
       "      <td>0.352702</td>\n",
       "      <td>0.512528</td>\n",
       "      <td>0.650626</td>\n",
       "      <td>0.769539</td>\n",
       "      <td>0.0</td>\n",
       "      <td>0.550843</td>\n",
       "      <td>0.629910</td>\n",
       "      <td>0.396226</td>\n",
       "    </tr>\n",
       "    <tr>\n",
       "      <th>12013</th>\n",
       "      <td>0.628916</td>\n",
       "      <td>0.670444</td>\n",
       "      <td>0.365168</td>\n",
       "      <td>0.895349</td>\n",
       "      <td>0.189452</td>\n",
       "      <td>0.488252</td>\n",
       "      <td>0.479151</td>\n",
       "      <td>0.458408</td>\n",
       "      <td>0.567389</td>\n",
       "      <td>0.400438</td>\n",
       "      <td>...</td>\n",
       "      <td>0.515178</td>\n",
       "      <td>0.535993</td>\n",
       "      <td>0.389766</td>\n",
       "      <td>0.457789</td>\n",
       "      <td>0.649022</td>\n",
       "      <td>0.640706</td>\n",
       "      <td>0.0</td>\n",
       "      <td>0.439959</td>\n",
       "      <td>0.083523</td>\n",
       "      <td>0.386792</td>\n",
       "    </tr>\n",
       "    <tr>\n",
       "      <th>12014</th>\n",
       "      <td>0.689351</td>\n",
       "      <td>0.234229</td>\n",
       "      <td>0.000000</td>\n",
       "      <td>0.302326</td>\n",
       "      <td>0.289211</td>\n",
       "      <td>0.578705</td>\n",
       "      <td>0.561343</td>\n",
       "      <td>0.744675</td>\n",
       "      <td>0.691517</td>\n",
       "      <td>0.698663</td>\n",
       "      <td>...</td>\n",
       "      <td>0.589021</td>\n",
       "      <td>0.755673</td>\n",
       "      <td>0.424438</td>\n",
       "      <td>0.442509</td>\n",
       "      <td>0.616619</td>\n",
       "      <td>0.591727</td>\n",
       "      <td>0.0</td>\n",
       "      <td>0.702095</td>\n",
       "      <td>0.884659</td>\n",
       "      <td>0.443396</td>\n",
       "    </tr>\n",
       "    <tr>\n",
       "      <th>12015</th>\n",
       "      <td>0.553069</td>\n",
       "      <td>0.208294</td>\n",
       "      <td>0.548100</td>\n",
       "      <td>0.988372</td>\n",
       "      <td>0.289486</td>\n",
       "      <td>0.000000</td>\n",
       "      <td>0.609514</td>\n",
       "      <td>0.614677</td>\n",
       "      <td>0.700698</td>\n",
       "      <td>0.373267</td>\n",
       "      <td>...</td>\n",
       "      <td>0.571582</td>\n",
       "      <td>0.542789</td>\n",
       "      <td>0.426590</td>\n",
       "      <td>0.314448</td>\n",
       "      <td>0.623035</td>\n",
       "      <td>0.653670</td>\n",
       "      <td>0.0</td>\n",
       "      <td>0.559530</td>\n",
       "      <td>0.036382</td>\n",
       "      <td>0.396226</td>\n",
       "    </tr>\n",
       "    <tr>\n",
       "      <th>12016</th>\n",
       "      <td>0.537800</td>\n",
       "      <td>0.307360</td>\n",
       "      <td>0.844875</td>\n",
       "      <td>0.697674</td>\n",
       "      <td>0.467830</td>\n",
       "      <td>0.338546</td>\n",
       "      <td>0.626524</td>\n",
       "      <td>0.512965</td>\n",
       "      <td>0.658832</td>\n",
       "      <td>0.240142</td>\n",
       "      <td>...</td>\n",
       "      <td>0.534769</td>\n",
       "      <td>0.498658</td>\n",
       "      <td>0.425634</td>\n",
       "      <td>0.302671</td>\n",
       "      <td>0.610523</td>\n",
       "      <td>0.623027</td>\n",
       "      <td>0.0</td>\n",
       "      <td>0.407767</td>\n",
       "      <td>0.000000</td>\n",
       "      <td>0.500000</td>\n",
       "    </tr>\n",
       "    <tr>\n",
       "      <th>12017</th>\n",
       "      <td>0.497621</td>\n",
       "      <td>0.129556</td>\n",
       "      <td>0.238959</td>\n",
       "      <td>0.686047</td>\n",
       "      <td>0.628082</td>\n",
       "      <td>0.702593</td>\n",
       "      <td>0.593106</td>\n",
       "      <td>0.360428</td>\n",
       "      <td>0.643775</td>\n",
       "      <td>0.309052</td>\n",
       "      <td>...</td>\n",
       "      <td>0.444995</td>\n",
       "      <td>0.373183</td>\n",
       "      <td>0.380201</td>\n",
       "      <td>0.134261</td>\n",
       "      <td>0.338787</td>\n",
       "      <td>0.200419</td>\n",
       "      <td>0.0</td>\n",
       "      <td>0.501278</td>\n",
       "      <td>0.520242</td>\n",
       "      <td>0.330189</td>\n",
       "    </tr>\n",
       "    <tr>\n",
       "      <th>12018</th>\n",
       "      <td>0.468467</td>\n",
       "      <td>0.000000</td>\n",
       "      <td>0.254478</td>\n",
       "      <td>0.399225</td>\n",
       "      <td>0.562309</td>\n",
       "      <td>0.231221</td>\n",
       "      <td>0.651814</td>\n",
       "      <td>0.642971</td>\n",
       "      <td>0.764965</td>\n",
       "      <td>0.675355</td>\n",
       "      <td>...</td>\n",
       "      <td>0.512164</td>\n",
       "      <td>0.750282</td>\n",
       "      <td>0.459828</td>\n",
       "      <td>0.622293</td>\n",
       "      <td>0.451075</td>\n",
       "      <td>0.865070</td>\n",
       "      <td>0.0</td>\n",
       "      <td>0.500766</td>\n",
       "      <td>0.312259</td>\n",
       "      <td>0.433962</td>\n",
       "    </tr>\n",
       "    <tr>\n",
       "      <th>12019</th>\n",
       "      <td>0.537491</td>\n",
       "      <td>0.027103</td>\n",
       "      <td>0.703662</td>\n",
       "      <td>0.290698</td>\n",
       "      <td>0.556414</td>\n",
       "      <td>0.087991</td>\n",
       "      <td>0.665964</td>\n",
       "      <td>0.502674</td>\n",
       "      <td>0.859346</td>\n",
       "      <td>0.586610</td>\n",
       "      <td>...</td>\n",
       "      <td>0.565124</td>\n",
       "      <td>0.706730</td>\n",
       "      <td>0.496413</td>\n",
       "      <td>0.440192</td>\n",
       "      <td>0.495669</td>\n",
       "      <td>0.724246</td>\n",
       "      <td>0.0</td>\n",
       "      <td>0.824732</td>\n",
       "      <td>1.000000</td>\n",
       "      <td>0.415094</td>\n",
       "    </tr>\n",
       "    <tr>\n",
       "      <th>12020</th>\n",
       "      <td>0.571711</td>\n",
       "      <td>0.144860</td>\n",
       "      <td>1.000000</td>\n",
       "      <td>0.720930</td>\n",
       "      <td>0.816726</td>\n",
       "      <td>0.462325</td>\n",
       "      <td>0.650309</td>\n",
       "      <td>0.415448</td>\n",
       "      <td>0.936100</td>\n",
       "      <td>0.532922</td>\n",
       "      <td>...</td>\n",
       "      <td>0.576749</td>\n",
       "      <td>0.607723</td>\n",
       "      <td>0.472740</td>\n",
       "      <td>0.222635</td>\n",
       "      <td>0.544755</td>\n",
       "      <td>0.729638</td>\n",
       "      <td>0.0</td>\n",
       "      <td>0.970363</td>\n",
       "      <td>0.582574</td>\n",
       "      <td>0.669811</td>\n",
       "    </tr>\n",
       "    <tr>\n",
       "      <th>12021</th>\n",
       "      <td>0.601368</td>\n",
       "      <td>0.137617</td>\n",
       "      <td>0.588539</td>\n",
       "      <td>0.980620</td>\n",
       "      <td>0.825716</td>\n",
       "      <td>0.753099</td>\n",
       "      <td>0.680114</td>\n",
       "      <td>0.548890</td>\n",
       "      <td>0.864855</td>\n",
       "      <td>0.185169</td>\n",
       "      <td>...</td>\n",
       "      <td>0.627772</td>\n",
       "      <td>0.695681</td>\n",
       "      <td>0.578192</td>\n",
       "      <td>0.687438</td>\n",
       "      <td>0.589990</td>\n",
       "      <td>0.720234</td>\n",
       "      <td>0.0</td>\n",
       "      <td>0.792540</td>\n",
       "      <td>0.002452</td>\n",
       "      <td>0.537736</td>\n",
       "    </tr>\n",
       "    <tr>\n",
       "      <th>12022</th>\n",
       "      <td>0.664637</td>\n",
       "      <td>0.228271</td>\n",
       "      <td>0.851500</td>\n",
       "      <td>0.042636</td>\n",
       "      <td>0.675957</td>\n",
       "      <td>0.269933</td>\n",
       "      <td>0.700587</td>\n",
       "      <td>0.519877</td>\n",
       "      <td>0.809769</td>\n",
       "      <td>0.217753</td>\n",
       "      <td>...</td>\n",
       "      <td>0.710441</td>\n",
       "      <td>0.759025</td>\n",
       "      <td>0.592061</td>\n",
       "      <td>0.351791</td>\n",
       "      <td>0.652551</td>\n",
       "      <td>0.746572</td>\n",
       "      <td>0.0</td>\n",
       "      <td>0.771078</td>\n",
       "      <td>0.273155</td>\n",
       "      <td>0.745283</td>\n",
       "    </tr>\n",
       "    <tr>\n",
       "      <th>12023</th>\n",
       "      <td>0.688468</td>\n",
       "      <td>0.181659</td>\n",
       "      <td>0.499564</td>\n",
       "      <td>0.492248</td>\n",
       "      <td>0.633838</td>\n",
       "      <td>0.321590</td>\n",
       "      <td>0.799187</td>\n",
       "      <td>0.739809</td>\n",
       "      <td>0.915167</td>\n",
       "      <td>0.608066</td>\n",
       "      <td>...</td>\n",
       "      <td>0.771582</td>\n",
       "      <td>0.704673</td>\n",
       "      <td>0.710426</td>\n",
       "      <td>0.689965</td>\n",
       "      <td>0.739493</td>\n",
       "      <td>0.781206</td>\n",
       "      <td>0.0</td>\n",
       "      <td>0.911089</td>\n",
       "      <td>0.577778</td>\n",
       "      <td>0.669811</td>\n",
       "    </tr>\n",
       "    <tr>\n",
       "      <th>12024</th>\n",
       "      <td>0.757315</td>\n",
       "      <td>0.124299</td>\n",
       "      <td>0.464558</td>\n",
       "      <td>0.116279</td>\n",
       "      <td>0.529801</td>\n",
       "      <td>0.531967</td>\n",
       "      <td>0.824477</td>\n",
       "      <td>0.527188</td>\n",
       "      <td>0.928388</td>\n",
       "      <td>0.379983</td>\n",
       "      <td>...</td>\n",
       "      <td>0.837244</td>\n",
       "      <td>0.708008</td>\n",
       "      <td>0.744142</td>\n",
       "      <td>0.405431</td>\n",
       "      <td>0.784408</td>\n",
       "      <td>0.710836</td>\n",
       "      <td>0.0</td>\n",
       "      <td>0.944302</td>\n",
       "      <td>0.372723</td>\n",
       "      <td>0.745283</td>\n",
       "    </tr>\n",
       "    <tr>\n",
       "      <th>12025</th>\n",
       "      <td>0.872942</td>\n",
       "      <td>0.236682</td>\n",
       "      <td>0.917108</td>\n",
       "      <td>0.531008</td>\n",
       "      <td>0.768212</td>\n",
       "      <td>1.000000</td>\n",
       "      <td>0.831251</td>\n",
       "      <td>0.478399</td>\n",
       "      <td>0.893133</td>\n",
       "      <td>0.267731</td>\n",
       "      <td>...</td>\n",
       "      <td>0.899462</td>\n",
       "      <td>0.695998</td>\n",
       "      <td>0.848876</td>\n",
       "      <td>0.606325</td>\n",
       "      <td>0.880334</td>\n",
       "      <td>0.783834</td>\n",
       "      <td>0.0</td>\n",
       "      <td>1.000000</td>\n",
       "      <td>0.411674</td>\n",
       "      <td>0.801887</td>\n",
       "    </tr>\n",
       "    <tr>\n",
       "      <th>12026</th>\n",
       "      <td>0.956212</td>\n",
       "      <td>0.345678</td>\n",
       "      <td>0.857624</td>\n",
       "      <td>0.000000</td>\n",
       "      <td>1.000000</td>\n",
       "      <td>0.496475</td>\n",
       "      <td>0.960861</td>\n",
       "      <td>0.792180</td>\n",
       "      <td>1.000000</td>\n",
       "      <td>0.600636</td>\n",
       "      <td>...</td>\n",
       "      <td>1.000000</td>\n",
       "      <td>0.759021</td>\n",
       "      <td>0.964849</td>\n",
       "      <td>0.613899</td>\n",
       "      <td>1.000000</td>\n",
       "      <td>0.809395</td>\n",
       "      <td>0.0</td>\n",
       "      <td>0.981094</td>\n",
       "      <td>0.280649</td>\n",
       "      <td>0.886792</td>\n",
       "    </tr>\n",
       "    <tr>\n",
       "      <th>12027</th>\n",
       "      <td>1.000000</td>\n",
       "      <td>0.385397</td>\n",
       "      <td>0.686116</td>\n",
       "      <td>1.000000</td>\n",
       "      <td>0.551876</td>\n",
       "      <td>0.361943</td>\n",
       "      <td>1.000000</td>\n",
       "      <td>0.552285</td>\n",
       "      <td>0.843555</td>\n",
       "      <td>0.000000</td>\n",
       "      <td>...</td>\n",
       "      <td>0.970291</td>\n",
       "      <td>0.532202</td>\n",
       "      <td>1.000000</td>\n",
       "      <td>0.392452</td>\n",
       "      <td>0.884825</td>\n",
       "      <td>0.493204</td>\n",
       "      <td>0.0</td>\n",
       "      <td>0.871231</td>\n",
       "      <td>0.122035</td>\n",
       "      <td>1.000000</td>\n",
       "    </tr>\n",
       "  </tbody>\n",
       "</table>\n",
       "<p>28 rows × 58 columns</p>\n",
       "</div>"
      ],
      "text/plain": [
       "            BPS  Brent_Close  Brent_Close_quarterly_return       CPS  \\\n",
       "12000  0.032658     0.878505                      0.543696  0.593023   \n",
       "12001  0.000000     0.764953                      0.474611  0.682171   \n",
       "12002  0.049428     0.818925                      0.677047  0.205426   \n",
       "12003  0.115627     1.000000                      0.830195  0.577519   \n",
       "12004  0.051194     0.707009                      0.293267  0.534884   \n",
       "12005  0.195066     0.877453                      0.837645  0.740310   \n",
       "12006  0.179178     0.862500                      0.590220  0.255814   \n",
       "12007  0.256852     0.849766                      0.592653  0.864341   \n",
       "12008  0.322168     0.757944                      0.497684  0.585271   \n",
       "12009  0.395428     0.830491                      0.701436  0.728682   \n",
       "12010  0.481486     0.858879                      0.642321  0.302326   \n",
       "12011  0.550298     0.823364                      0.565491  0.895349   \n",
       "12012  0.634856     0.877103                      0.673546  0.538760   \n",
       "12013  0.628916     0.670444                      0.365168  0.895349   \n",
       "12014  0.689351     0.234229                      0.000000  0.302326   \n",
       "12015  0.553069     0.208294                      0.548100  0.988372   \n",
       "12016  0.537800     0.307360                      0.844875  0.697674   \n",
       "12017  0.497621     0.129556                      0.238959  0.686047   \n",
       "12018  0.468467     0.000000                      0.254478  0.399225   \n",
       "12019  0.537491     0.027103                      0.703662  0.290698   \n",
       "12020  0.571711     0.144860                      1.000000  0.720930   \n",
       "12021  0.601368     0.137617                      0.588539  0.980620   \n",
       "12022  0.664637     0.228271                      0.851500  0.042636   \n",
       "12023  0.688468     0.181659                      0.499564  0.492248   \n",
       "12024  0.757315     0.124299                      0.464558  0.116279   \n",
       "12025  0.872942     0.236682                      0.917108  0.531008   \n",
       "12026  0.956212     0.345678                      0.857624  0.000000   \n",
       "12027  1.000000     0.385397                      0.686116  1.000000   \n",
       "\n",
       "            CPX       CSH  C_Discretionary_Close  \\\n",
       "12000  0.208539  0.251689               0.080536   \n",
       "12001  0.198291  0.473431               0.000000   \n",
       "12002  0.465784  0.433615               0.062622   \n",
       "12003  0.000000  0.120564               0.153997   \n",
       "12004  0.139073  0.358470               0.134277   \n",
       "12005  0.163355  0.555681               0.179588   \n",
       "12006  0.209713  0.477393               0.189372   \n",
       "12007  0.245033  0.164767               0.273069   \n",
       "12008  0.154525  0.366330               0.324251   \n",
       "12009  0.163355  0.699661               0.387927   \n",
       "12010  0.430464  0.626933               0.481258   \n",
       "12011  0.177351  0.385959               0.449496   \n",
       "12012  0.183041  0.368290               0.479904   \n",
       "12013  0.189452  0.488252               0.479151   \n",
       "12014  0.289211  0.578705               0.561343   \n",
       "12015  0.289486  0.000000               0.609514   \n",
       "12016  0.467830  0.338546               0.626524   \n",
       "12017  0.628082  0.702593               0.593106   \n",
       "12018  0.562309  0.231221               0.651814   \n",
       "12019  0.556414  0.087991               0.665964   \n",
       "12020  0.816726  0.462325               0.650309   \n",
       "12021  0.825716  0.753099               0.680114   \n",
       "12022  0.675957  0.269933               0.700587   \n",
       "12023  0.633838  0.321590               0.799187   \n",
       "12024  0.529801  0.531967               0.824477   \n",
       "12025  0.768212  1.000000               0.831251   \n",
       "12026  1.000000  0.496475               0.960861   \n",
       "12027  0.551876  0.361943               1.000000   \n",
       "\n",
       "       C_Discretionary_Close_quarterly_return  C_Staples_Close  \\\n",
       "12000                                0.563929         0.057657   \n",
       "12001                                0.000000         0.000000   \n",
       "12002                                0.874480         0.103930   \n",
       "12003                                1.000000         0.162321   \n",
       "12004                                0.360339         0.187661   \n",
       "12005                                0.699222         0.226588   \n",
       "12006                                0.509137         0.192435   \n",
       "12007                                0.867086         0.371282   \n",
       "12008                                0.683277         0.367609   \n",
       "12009                                0.720867         0.372383   \n",
       "12010                                0.815318         0.489166   \n",
       "12011                                0.351609         0.492104   \n",
       "12012                                0.569146         0.549394   \n",
       "12013                                0.458408         0.567389   \n",
       "12014                                0.744675         0.691517   \n",
       "12015                                0.614677         0.700698   \n",
       "12016                                0.512965         0.658832   \n",
       "12017                                0.360428         0.643775   \n",
       "12018                                0.642971         0.764965   \n",
       "12019                                0.502674         0.859346   \n",
       "12020                                0.415448         0.936100   \n",
       "12021                                0.548890         0.864855   \n",
       "12022                                0.519877         0.809769   \n",
       "12023                                0.739809         0.915167   \n",
       "12024                                0.527188         0.928388   \n",
       "12025                                0.478399         0.893133   \n",
       "12026                                0.792180         1.000000   \n",
       "12027                                0.552285         0.843555   \n",
       "\n",
       "       C_Staples_Close_quarterly_return  ...  industrials_Close  \\\n",
       "12000                          0.553415  ...           0.172659   \n",
       "12001                          0.114769  ...           0.000000   \n",
       "12002                          0.794207  ...           0.097524   \n",
       "12003                          0.577455  ...           0.176534   \n",
       "12004                          0.443646  ...           0.138859   \n",
       "12005                          0.491400  ...           0.157374   \n",
       "12006                          0.228173  ...           0.186868   \n",
       "12007                          1.000000  ...           0.269968   \n",
       "12008                          0.337496  ...           0.288913   \n",
       "12009                          0.364506  ...           0.370075   \n",
       "12010                          0.721849  ...           0.496017   \n",
       "12011                          0.357904  ...           0.497524   \n",
       "12012                          0.518181  ...           0.534769   \n",
       "12013                          0.400438  ...           0.515178   \n",
       "12014                          0.698663  ...           0.589021   \n",
       "12015                          0.373267  ...           0.571582   \n",
       "12016                          0.240142  ...           0.534769   \n",
       "12017                          0.309052  ...           0.444995   \n",
       "12018                          0.675355  ...           0.512164   \n",
       "12019                          0.586610  ...           0.565124   \n",
       "12020                          0.532922  ...           0.576749   \n",
       "12021                          0.185169  ...           0.627772   \n",
       "12022                          0.217753  ...           0.710441   \n",
       "12023                          0.608066  ...           0.771582   \n",
       "12024                          0.379983  ...           0.837244   \n",
       "12025                          0.267731  ...           0.899462   \n",
       "12026                          0.600636  ...           1.000000   \n",
       "12027                          0.000000  ...           0.970291   \n",
       "\n",
       "       industrials_Close_quarterly_return  information_Close  \\\n",
       "12000                            0.550621           0.050215   \n",
       "12001                            0.000000           0.000000   \n",
       "12002                            1.000000           0.044237   \n",
       "12003                            0.875023           0.156863   \n",
       "12004                            0.455177           0.122669   \n",
       "12005                            0.646533           0.172884   \n",
       "12006                            0.682694           0.125538   \n",
       "12007                            0.856411           0.159493   \n",
       "12008                            0.638333           0.167145   \n",
       "12009                            0.820146           0.201817   \n",
       "12010                            0.921757           0.290292   \n",
       "12011                            0.585056           0.304878   \n",
       "12012                            0.670695           0.352702   \n",
       "12013                            0.535993           0.389766   \n",
       "12014                            0.755673           0.424438   \n",
       "12015                            0.542789           0.426590   \n",
       "12016                            0.498658           0.425634   \n",
       "12017                            0.373183           0.380201   \n",
       "12018                            0.750282           0.459828   \n",
       "12019                            0.706730           0.496413   \n",
       "12020                            0.607723           0.472740   \n",
       "12021                            0.695681           0.578192   \n",
       "12022                            0.759025           0.592061   \n",
       "12023                            0.704673           0.710426   \n",
       "12024                            0.708008           0.744142   \n",
       "12025                            0.695998           0.848876   \n",
       "12026                            0.759021           0.964849   \n",
       "12027                            0.532202           1.000000   \n",
       "\n",
       "       information_Close_quarterly_return  materials_Close  \\\n",
       "12000                            0.254508         0.321142   \n",
       "12001                            0.000000         0.000000   \n",
       "12002                            0.600125         0.132820   \n",
       "12003                            1.000000         0.244145   \n",
       "12004                            0.128563         0.190247   \n",
       "12005                            0.580276         0.238691   \n",
       "12006                            0.065555         0.262432   \n",
       "12007                            0.490786         0.315047   \n",
       "12008                            0.345915         0.288418   \n",
       "12009                            0.483967         0.405839   \n",
       "12010                            0.739156         0.540905   \n",
       "12011                            0.370265         0.574912   \n",
       "12012                            0.512528         0.650626   \n",
       "12013                            0.457789         0.649022   \n",
       "12014                            0.442509         0.616619   \n",
       "12015                            0.314448         0.623035   \n",
       "12016                            0.302671         0.610523   \n",
       "12017                            0.134261         0.338787   \n",
       "12018                            0.622293         0.451075   \n",
       "12019                            0.440192         0.495669   \n",
       "12020                            0.222635         0.544755   \n",
       "12021                            0.687438         0.589990   \n",
       "12022                            0.351791         0.652551   \n",
       "12023                            0.689965         0.739493   \n",
       "12024                            0.405431         0.784408   \n",
       "12025                            0.606325         0.880334   \n",
       "12026                            0.613899         1.000000   \n",
       "12027                            0.392452         0.884825   \n",
       "\n",
       "       materials_Close_quarterly_return  numeric_sector  utilities_Close  \\\n",
       "12000                          0.602163             0.0         0.000000   \n",
       "12001                          0.000000             0.0         0.007154   \n",
       "12002                          1.000000             0.0         0.127747   \n",
       "12003                          0.905314             0.0         0.079714   \n",
       "12004                          0.528287             0.0         0.179356   \n",
       "12005                          0.751507             0.0         0.148697   \n",
       "12006                          0.694129             0.0         0.073582   \n",
       "12007                          0.753780             0.0         0.287174   \n",
       "12008                          0.589659             0.0         0.212059   \n",
       "12009                          0.884706             0.0         0.198774   \n",
       "12010                          0.896793             0.0         0.229433   \n",
       "12011                          0.701276             0.0         0.407767   \n",
       "12012                          0.769539             0.0         0.550843   \n",
       "12013                          0.640706             0.0         0.439959   \n",
       "12014                          0.591727             0.0         0.702095   \n",
       "12015                          0.653670             0.0         0.559530   \n",
       "12016                          0.623027             0.0         0.407767   \n",
       "12017                          0.200419             0.0         0.501278   \n",
       "12018                          0.865070             0.0         0.500766   \n",
       "12019                          0.724246             0.0         0.824732   \n",
       "12020                          0.729638             0.0         0.970363   \n",
       "12021                          0.720234             0.0         0.792540   \n",
       "12022                          0.746572             0.0         0.771078   \n",
       "12023                          0.781206             0.0         0.911089   \n",
       "12024                          0.710836             0.0         0.944302   \n",
       "12025                          0.783834             0.0         1.000000   \n",
       "12026                          0.809395             0.0         0.981094   \n",
       "12027                          0.493204             0.0         0.871231   \n",
       "\n",
       "       utilities_Close_quarterly_return  lagged_EPS  \n",
       "12000                          0.550142    0.047170  \n",
       "12001                          0.332943    0.000000  \n",
       "12002                          0.642385    0.018868  \n",
       "12003                          0.190879    0.037736  \n",
       "12004                          0.574203    0.075472  \n",
       "12005                          0.237308    0.150943  \n",
       "12006                          0.123988    0.160377  \n",
       "12007                          0.874442    0.188679  \n",
       "12008                          0.137113    0.198113  \n",
       "12009                          0.280954    0.273585  \n",
       "12010                          0.388603    0.330189  \n",
       "12011                          0.744189    0.320755  \n",
       "12012                          0.629910    0.396226  \n",
       "12013                          0.083523    0.386792  \n",
       "12014                          0.884659    0.443396  \n",
       "12015                          0.036382    0.396226  \n",
       "12016                          0.000000    0.500000  \n",
       "12017                          0.520242    0.330189  \n",
       "12018                          0.312259    0.433962  \n",
       "12019                          1.000000    0.415094  \n",
       "12020                          0.582574    0.669811  \n",
       "12021                          0.002452    0.537736  \n",
       "12022                          0.273155    0.745283  \n",
       "12023                          0.577778    0.669811  \n",
       "12024                          0.372723    0.745283  \n",
       "12025                          0.411674    0.801887  \n",
       "12026                          0.280649    0.886792  \n",
       "12027                          0.122035    1.000000  \n",
       "\n",
       "[28 rows x 58 columns]"
      ]
     },
     "execution_count": 26,
     "metadata": {},
     "output_type": "execute_result"
    }
   ],
   "source": [
    "company_dict[\"TROW\"][\"X_train\"]"
   ]
  },
  {
   "cell_type": "code",
   "execution_count": 27,
   "metadata": {
    "metadata": {}
   },
   "outputs": [
    {
     "data": {
      "text/plain": [
       "1.0366972477064218"
      ]
     },
     "execution_count": 27,
     "metadata": {},
     "output_type": "execute_result"
    }
   ],
   "source": [
    "company_dict[\"PGR\"][\"y_test\"].iloc[1][\"EPS\"]"
   ]
  },
  {
   "cell_type": "code",
   "execution_count": 28,
   "metadata": {
    "metadata": {}
   },
   "outputs": [],
   "source": [
    "# Custom Dataset\n",
    "class RollingWindowDataset(Dataset):\n",
    "    def __init__(self, X, y, device=device):\n",
    "        self.X = X.clone().detach().to(torch.float)\n",
    "        self.y = y.clone().detach().to(torch.float)\n",
    "\n",
    "    def __len__(self):\n",
    "        return len(self.X) \n",
    "\n",
    "    def __getitem__(self, idx):\n",
    "        # Ensure idx is within the valid range\n",
    "        if idx > len(self.X):\n",
    "            raise IndexError(\"Index out of bounds\")\n",
    "\n",
    "        X_window_normal = self.X[idx][0]\n",
    "        X_window_years = self.X[idx][1]\n",
    "        y_target = self.y[idx]  \n",
    "\n",
    "        return X_window_normal.clone().detach().to(torch.float).to(device), X_window_years.clone().detach().to(torch.float).to(device), y_target.clone().detach().to(torch.float).to(device)"
   ]
  },
  {
   "cell_type": "code",
   "execution_count": 29,
   "metadata": {
    "metadata": {}
   },
   "outputs": [
    {
     "data": {
      "text/plain": [
       "12000    0.047170\n",
       "12001    0.000000\n",
       "12002    0.018868\n",
       "12003    0.037736\n",
       "12004    0.075472\n",
       "12005    0.150943\n",
       "12006    0.160377\n",
       "12007    0.188679\n",
       "12008    0.198113\n",
       "12009    0.273585\n",
       "12010    0.330189\n",
       "12011    0.320755\n",
       "12012    0.396226\n",
       "12013    0.386792\n",
       "12014    0.443396\n",
       "12015    0.396226\n",
       "12016    0.500000\n",
       "12017    0.330189\n",
       "12018    0.433962\n",
       "12019    0.415094\n",
       "12020    0.669811\n",
       "12021    0.537736\n",
       "12022    0.745283\n",
       "12023    0.669811\n",
       "12024    0.745283\n",
       "12025    0.801887\n",
       "12026    0.886792\n",
       "12027    1.000000\n",
       "Name: lagged_EPS, dtype: float64"
      ]
     },
     "execution_count": 29,
     "metadata": {},
     "output_type": "execute_result"
    }
   ],
   "source": [
    "company_dict[\"TROW\"][\"X_train\"][\"lagged_EPS\"]\n"
   ]
  },
  {
   "cell_type": "code",
   "execution_count": 30,
   "metadata": {
    "metadata": {}
   },
   "outputs": [],
   "source": [
    "# X_train = []\n",
    "# y_train = []\n",
    "\n",
    "# X_test = []\n",
    "# y_test = []\n",
    "\n",
    "# time_steps = 4\n",
    "# print(len(company_dict[company][\"X_train\"]))\n",
    "# print((len(company_dict[company][\"X_test\"])))\n",
    "\n",
    "# for company in company_list:\n",
    "#     company_dict[company][\"y_train\"][\"Type\"] = \"Train\"\n",
    "#     company_dict[company][\"y_test\"][\"Type\"] = \"Test\"\n",
    "\n",
    "#     comp_df_X = pd.concat([company_dict[company]['X_train'], company_dict[company]['X_test']], axis=0)\n",
    "#     comp_df_y = pd.concat([company_dict[company]['y_train'], company_dict[company]['y_test']], axis=0)\n",
    "\n",
    "#     for i in range((len(comp_df_X)) - time_steps):\n",
    "\n",
    "#         if comp_df_y.iloc[i + time_steps][\"Type\"] == \"Train\":\n",
    "#             X_train.append(comp_df_X.iloc[i : (i + time_steps)])\n",
    "#             y_train.append(comp_df_y.iloc[i + time_steps][\"EPS\"])\n",
    "\n",
    "#         elif comp_df_y.iloc[i + time_steps][\"Type\"] == \"Test\":\n",
    "#             X_test.append(comp_df_X.iloc[i : (i + time_steps)])\n",
    "#             y_test.append(comp_df_y.iloc[i + time_steps][\"EPS\"])\n",
    "\n",
    "\n",
    "# X_train, y_train = np.array(X_train), np.array(y_train)\n",
    "# X_test, y_test = np.array(X_test), np.array(y_test)"
   ]
  },
  {
   "cell_type": "code",
   "execution_count": 31,
   "metadata": {},
   "outputs": [
    {
     "name": "stdout",
     "output_type": "stream",
     "text": [
      "28\n",
      "7\n"
     ]
    }
   ],
   "source": [
    "X_train = []\n",
    "y_train = []\n",
    "\n",
    "X_test = []\n",
    "y_test = []\n",
    "\n",
    "num_freq= 4\n",
    "time_steps = 4\n",
    "print(len(company_dict[company][\"X_train\"]))\n",
    "print((len(company_dict[company][\"X_test\"])))\n",
    "\n",
    "for company in company_list:\n",
    "    company_dict[company][\"y_train\"][\"Type\"] = \"Train\"\n",
    "    company_dict[company][\"y_test\"][\"Type\"] = \"Test\"\n",
    "\n",
    "    comp_df_X = pd.concat([company_dict[company]['X_train'], company_dict[company]['X_test']], axis=0)\n",
    "    comp_df_y = pd.concat([company_dict[company]['y_train'], company_dict[company]['y_test']], axis=0)\n",
    "\n",
    "    for i in range((len(comp_df_X)) - time_steps):\n",
    "        if i < 12:\n",
    "            continue\n",
    "\n",
    "        if comp_df_y.iloc[i + time_steps][\"Type\"] == \"Train\":\n",
    "\n",
    "            years_df = pd.DataFrame()\n",
    "\n",
    "            for freq in range(num_freq-1, -1, -1):\n",
    "                start_idx = i + time_steps - (4 * (freq + 1))\n",
    "\n",
    "                data_for_freq = comp_df_X.iloc[start_idx:start_idx+1, :]  \n",
    "                years_df = pd.concat([years_df, data_for_freq], ignore_index=True, axis=0)\n",
    "\n",
    "            # display(years_df)\n",
    "            # display(comp_df_X.iloc[i : (i + time_steps)])\n",
    "\n",
    "            normal_data = comp_df_X.iloc[i: (i + time_steps)].values\n",
    "            years_data = years_df.values\n",
    "\n",
    "            combined_sample = np.stack([normal_data, years_data], axis=0)\n",
    "            \n",
    "            X_train.append(combined_sample)\n",
    "            y_train.append(comp_df_y.iloc[i + time_steps][\"EPS\"])\n",
    "\n",
    "        elif comp_df_y.iloc[i + time_steps][\"Type\"] == \"Test\":\n",
    "\n",
    "            years_df = pd.DataFrame()\n",
    "\n",
    "            for freq in range(num_freq-1, -1, -1):\n",
    "                start_idx = i + time_steps - (4 * (freq + 1))\n",
    "\n",
    "                data_for_freq = comp_df_X.iloc[start_idx:start_idx+1, :]\n",
    "                years_df = pd.concat([years_df, data_for_freq], ignore_index=True, axis=0)\n",
    "\n",
    "            normal_data = comp_df_X.iloc[i: (i + time_steps)].values\n",
    "            years_data = years_df.values\n",
    "\n",
    "            combined_sample = np.stack([normal_data, years_data], axis=0)\n",
    "\n",
    "\n",
    "            X_test.append(combined_sample)\n",
    "            y_test.append(comp_df_y.iloc[i + time_steps][\"EPS\"])\n",
    "\n",
    "\n",
    "X_train, y_train = np.array(X_train, dtype=np.float32), np.array(y_train, dtype=np.float32)\n",
    "X_test, y_test = np.array(X_test, dtype=np.float32), np.array(y_test, dtype=np.float32)"
   ]
  },
  {
   "cell_type": "code",
   "execution_count": 32,
   "metadata": {},
   "outputs": [
    {
     "data": {
      "text/plain": [
       "(3240, 2, 4, 58)"
      ]
     },
     "execution_count": 32,
     "metadata": {},
     "output_type": "execute_result"
    }
   ],
   "source": [
    "X_train.shape"
   ]
  },
  {
   "cell_type": "code",
   "execution_count": 33,
   "metadata": {
    "metadata": {}
   },
   "outputs": [
    {
     "data": {
      "text/html": [
       "<div>\n",
       "<style scoped>\n",
       "    .dataframe tbody tr th:only-of-type {\n",
       "        vertical-align: middle;\n",
       "    }\n",
       "\n",
       "    .dataframe tbody tr th {\n",
       "        vertical-align: top;\n",
       "    }\n",
       "\n",
       "    .dataframe thead th {\n",
       "        text-align: right;\n",
       "    }\n",
       "</style>\n",
       "<table border=\"1\" class=\"dataframe\">\n",
       "  <thead>\n",
       "    <tr style=\"text-align: right;\">\n",
       "      <th></th>\n",
       "      <th>0</th>\n",
       "    </tr>\n",
       "  </thead>\n",
       "  <tbody>\n",
       "    <tr>\n",
       "      <th>0</th>\n",
       "      <td>0.292355</td>\n",
       "    </tr>\n",
       "    <tr>\n",
       "      <th>1</th>\n",
       "      <td>0.330512</td>\n",
       "    </tr>\n",
       "    <tr>\n",
       "      <th>2</th>\n",
       "      <td>0.788400</td>\n",
       "    </tr>\n",
       "    <tr>\n",
       "      <th>3</th>\n",
       "      <td>0.309699</td>\n",
       "    </tr>\n",
       "    <tr>\n",
       "      <th>4</th>\n",
       "      <td>0.143194</td>\n",
       "    </tr>\n",
       "    <tr>\n",
       "      <th>...</th>\n",
       "      <td>...</td>\n",
       "    </tr>\n",
       "    <tr>\n",
       "      <th>3235</th>\n",
       "      <td>0.433333</td>\n",
       "    </tr>\n",
       "    <tr>\n",
       "      <th>3236</th>\n",
       "      <td>0.500000</td>\n",
       "    </tr>\n",
       "    <tr>\n",
       "      <th>3237</th>\n",
       "      <td>0.671429</td>\n",
       "    </tr>\n",
       "    <tr>\n",
       "      <th>3238</th>\n",
       "      <td>0.890476</td>\n",
       "    </tr>\n",
       "    <tr>\n",
       "      <th>3239</th>\n",
       "      <td>1.000000</td>\n",
       "    </tr>\n",
       "  </tbody>\n",
       "</table>\n",
       "<p>3240 rows × 1 columns</p>\n",
       "</div>"
      ],
      "text/plain": [
       "             0\n",
       "0     0.292355\n",
       "1     0.330512\n",
       "2     0.788400\n",
       "3     0.309699\n",
       "4     0.143194\n",
       "...        ...\n",
       "3235  0.433333\n",
       "3236  0.500000\n",
       "3237  0.671429\n",
       "3238  0.890476\n",
       "3239  1.000000\n",
       "\n",
       "[3240 rows x 1 columns]"
      ]
     },
     "metadata": {},
     "output_type": "display_data"
    }
   ],
   "source": [
    "display(pd.DataFrame(y_train))"
   ]
  },
  {
   "cell_type": "code",
   "execution_count": 34,
   "metadata": {
    "metadata": {}
   },
   "outputs": [
    {
     "data": {
      "text/html": [
       "<div>\n",
       "<style scoped>\n",
       "    .dataframe tbody tr th:only-of-type {\n",
       "        vertical-align: middle;\n",
       "    }\n",
       "\n",
       "    .dataframe tbody tr th {\n",
       "        vertical-align: top;\n",
       "    }\n",
       "\n",
       "    .dataframe thead th {\n",
       "        text-align: right;\n",
       "    }\n",
       "</style>\n",
       "<table border=\"1\" class=\"dataframe\">\n",
       "  <thead>\n",
       "    <tr style=\"text-align: right;\">\n",
       "      <th></th>\n",
       "      <th>0</th>\n",
       "      <th>1</th>\n",
       "      <th>2</th>\n",
       "      <th>3</th>\n",
       "      <th>4</th>\n",
       "      <th>5</th>\n",
       "      <th>6</th>\n",
       "      <th>7</th>\n",
       "      <th>8</th>\n",
       "      <th>9</th>\n",
       "      <th>...</th>\n",
       "      <th>48</th>\n",
       "      <th>49</th>\n",
       "      <th>50</th>\n",
       "      <th>51</th>\n",
       "      <th>52</th>\n",
       "      <th>53</th>\n",
       "      <th>54</th>\n",
       "      <th>55</th>\n",
       "      <th>56</th>\n",
       "      <th>57</th>\n",
       "    </tr>\n",
       "  </thead>\n",
       "  <tbody>\n",
       "    <tr>\n",
       "      <th>0</th>\n",
       "      <td>0.562419</td>\n",
       "      <td>0.877103</td>\n",
       "      <td>0.673546</td>\n",
       "      <td>0.106195</td>\n",
       "      <td>0.468403</td>\n",
       "      <td>0.316703</td>\n",
       "      <td>0.479904</td>\n",
       "      <td>0.569146</td>\n",
       "      <td>0.549394</td>\n",
       "      <td>0.518181</td>\n",
       "      <td>...</td>\n",
       "      <td>0.534769</td>\n",
       "      <td>0.670695</td>\n",
       "      <td>0.352702</td>\n",
       "      <td>0.512528</td>\n",
       "      <td>0.650626</td>\n",
       "      <td>0.769539</td>\n",
       "      <td>0.0</td>\n",
       "      <td>0.550843</td>\n",
       "      <td>0.629910</td>\n",
       "      <td>0.094630</td>\n",
       "    </tr>\n",
       "    <tr>\n",
       "      <th>1</th>\n",
       "      <td>0.492723</td>\n",
       "      <td>0.670444</td>\n",
       "      <td>0.365168</td>\n",
       "      <td>0.223451</td>\n",
       "      <td>0.892042</td>\n",
       "      <td>0.457601</td>\n",
       "      <td>0.479151</td>\n",
       "      <td>0.458408</td>\n",
       "      <td>0.567389</td>\n",
       "      <td>0.400438</td>\n",
       "      <td>...</td>\n",
       "      <td>0.515178</td>\n",
       "      <td>0.535993</td>\n",
       "      <td>0.389766</td>\n",
       "      <td>0.457789</td>\n",
       "      <td>0.649022</td>\n",
       "      <td>0.640706</td>\n",
       "      <td>0.0</td>\n",
       "      <td>0.439959</td>\n",
       "      <td>0.083523</td>\n",
       "      <td>0.143194</td>\n",
       "    </tr>\n",
       "    <tr>\n",
       "      <th>2</th>\n",
       "      <td>0.620045</td>\n",
       "      <td>0.234229</td>\n",
       "      <td>0.000000</td>\n",
       "      <td>1.000000</td>\n",
       "      <td>0.713868</td>\n",
       "      <td>0.530786</td>\n",
       "      <td>0.561343</td>\n",
       "      <td>0.744675</td>\n",
       "      <td>0.691517</td>\n",
       "      <td>0.698663</td>\n",
       "      <td>...</td>\n",
       "      <td>0.589021</td>\n",
       "      <td>0.755673</td>\n",
       "      <td>0.424438</td>\n",
       "      <td>0.442509</td>\n",
       "      <td>0.616619</td>\n",
       "      <td>0.591727</td>\n",
       "      <td>0.0</td>\n",
       "      <td>0.702095</td>\n",
       "      <td>0.884659</td>\n",
       "      <td>0.712085</td>\n",
       "    </tr>\n",
       "    <tr>\n",
       "      <th>3</th>\n",
       "      <td>0.692391</td>\n",
       "      <td>0.208294</td>\n",
       "      <td>0.548100</td>\n",
       "      <td>0.455752</td>\n",
       "      <td>0.465769</td>\n",
       "      <td>0.000000</td>\n",
       "      <td>0.609514</td>\n",
       "      <td>0.614677</td>\n",
       "      <td>0.700698</td>\n",
       "      <td>0.373267</td>\n",
       "      <td>...</td>\n",
       "      <td>0.571582</td>\n",
       "      <td>0.542789</td>\n",
       "      <td>0.426590</td>\n",
       "      <td>0.314448</td>\n",
       "      <td>0.623035</td>\n",
       "      <td>0.653670</td>\n",
       "      <td>0.0</td>\n",
       "      <td>0.559530</td>\n",
       "      <td>0.036382</td>\n",
       "      <td>0.458859</td>\n",
       "    </tr>\n",
       "  </tbody>\n",
       "</table>\n",
       "<p>4 rows × 58 columns</p>\n",
       "</div>"
      ],
      "text/plain": [
       "         0         1         2         3         4         5         6   \\\n",
       "0  0.562419  0.877103  0.673546  0.106195  0.468403  0.316703  0.479904   \n",
       "1  0.492723  0.670444  0.365168  0.223451  0.892042  0.457601  0.479151   \n",
       "2  0.620045  0.234229  0.000000  1.000000  0.713868  0.530786  0.561343   \n",
       "3  0.692391  0.208294  0.548100  0.455752  0.465769  0.000000  0.609514   \n",
       "\n",
       "         7         8         9   ...        48        49        50        51  \\\n",
       "0  0.569146  0.549394  0.518181  ...  0.534769  0.670695  0.352702  0.512528   \n",
       "1  0.458408  0.567389  0.400438  ...  0.515178  0.535993  0.389766  0.457789   \n",
       "2  0.744675  0.691517  0.698663  ...  0.589021  0.755673  0.424438  0.442509   \n",
       "3  0.614677  0.700698  0.373267  ...  0.571582  0.542789  0.426590  0.314448   \n",
       "\n",
       "         52        53   54        55        56        57  \n",
       "0  0.650626  0.769539  0.0  0.550843  0.629910  0.094630  \n",
       "1  0.649022  0.640706  0.0  0.439959  0.083523  0.143194  \n",
       "2  0.616619  0.591727  0.0  0.702095  0.884659  0.712085  \n",
       "3  0.623035  0.653670  0.0  0.559530  0.036382  0.458859  \n",
       "\n",
       "[4 rows x 58 columns]"
      ]
     },
     "execution_count": 34,
     "metadata": {},
     "output_type": "execute_result"
    }
   ],
   "source": [
    "pd.DataFrame(X_train[0][0])"
   ]
  },
  {
   "cell_type": "code",
   "execution_count": 35,
   "metadata": {
    "metadata": {}
   },
   "outputs": [
    {
     "data": {
      "text/plain": [
       "0.70167893"
      ]
     },
     "execution_count": 35,
     "metadata": {},
     "output_type": "execute_result"
    }
   ],
   "source": [
    "y_test[5]"
   ]
  },
  {
   "cell_type": "code",
   "execution_count": 36,
   "metadata": {
    "metadata": {}
   },
   "outputs": [
    {
     "data": {
      "text/plain": [
       "(3240, 2, 4, 58)"
      ]
     },
     "execution_count": 36,
     "metadata": {},
     "output_type": "execute_result"
    }
   ],
   "source": [
    "X_train.shape"
   ]
  },
  {
   "cell_type": "code",
   "execution_count": 37,
   "metadata": {
    "metadata": {}
   },
   "outputs": [
    {
     "data": {
      "text/plain": [
       "(3240, 2, 4, 58)"
      ]
     },
     "execution_count": 37,
     "metadata": {},
     "output_type": "execute_result"
    }
   ],
   "source": [
    "X_train.shape"
   ]
  },
  {
   "cell_type": "code",
   "execution_count": 38,
   "metadata": {
    "metadata": {}
   },
   "outputs": [
    {
     "data": {
      "text/plain": [
       "(1890,)"
      ]
     },
     "execution_count": 38,
     "metadata": {},
     "output_type": "execute_result"
    }
   ],
   "source": [
    "y_test.shape"
   ]
  },
  {
   "cell_type": "code",
   "execution_count": 39,
   "metadata": {
    "metadata": {}
   },
   "outputs": [
    {
     "data": {
      "text/plain": [
       "array([0.46232828, 0.6600527 , 1.1005967 , ..., 1.2190477 , 1.4142857 ,\n",
       "       1.4761904 ], dtype=float32)"
      ]
     },
     "execution_count": 39,
     "metadata": {},
     "output_type": "execute_result"
    }
   ],
   "source": [
    "y_test"
   ]
  },
  {
   "cell_type": "code",
   "execution_count": 40,
   "metadata": {
    "metadata": {}
   },
   "outputs": [
    {
     "data": {
      "text/plain": [
       "(1890, 2, 4, 58)"
      ]
     },
     "execution_count": 40,
     "metadata": {},
     "output_type": "execute_result"
    }
   ],
   "source": [
    "X_test.shape"
   ]
  },
  {
   "cell_type": "code",
   "execution_count": 41,
   "metadata": {
    "metadata": {}
   },
   "outputs": [
    {
     "data": {
      "text/plain": [
       "(3240, 2, 4, 58)"
      ]
     },
     "execution_count": 41,
     "metadata": {},
     "output_type": "execute_result"
    }
   ],
   "source": [
    "X_train.shape"
   ]
  },
  {
   "cell_type": "code",
   "execution_count": 42,
   "metadata": {},
   "outputs": [
    {
     "data": {
      "text/html": [
       "<div>\n",
       "<style scoped>\n",
       "    .dataframe tbody tr th:only-of-type {\n",
       "        vertical-align: middle;\n",
       "    }\n",
       "\n",
       "    .dataframe tbody tr th {\n",
       "        vertical-align: top;\n",
       "    }\n",
       "\n",
       "    .dataframe thead th {\n",
       "        text-align: right;\n",
       "    }\n",
       "</style>\n",
       "<table border=\"1\" class=\"dataframe\">\n",
       "  <thead>\n",
       "    <tr style=\"text-align: right;\">\n",
       "      <th></th>\n",
       "      <th>0</th>\n",
       "      <th>1</th>\n",
       "      <th>2</th>\n",
       "      <th>3</th>\n",
       "      <th>4</th>\n",
       "      <th>5</th>\n",
       "      <th>6</th>\n",
       "      <th>7</th>\n",
       "      <th>8</th>\n",
       "      <th>9</th>\n",
       "      <th>...</th>\n",
       "      <th>48</th>\n",
       "      <th>49</th>\n",
       "      <th>50</th>\n",
       "      <th>51</th>\n",
       "      <th>52</th>\n",
       "      <th>53</th>\n",
       "      <th>54</th>\n",
       "      <th>55</th>\n",
       "      <th>56</th>\n",
       "      <th>57</th>\n",
       "    </tr>\n",
       "  </thead>\n",
       "  <tbody>\n",
       "    <tr>\n",
       "      <th>0</th>\n",
       "      <td>0.562419</td>\n",
       "      <td>0.877103</td>\n",
       "      <td>0.673546</td>\n",
       "      <td>0.106195</td>\n",
       "      <td>0.468403</td>\n",
       "      <td>0.316703</td>\n",
       "      <td>0.479904</td>\n",
       "      <td>0.569146</td>\n",
       "      <td>0.549394</td>\n",
       "      <td>0.518181</td>\n",
       "      <td>...</td>\n",
       "      <td>0.534769</td>\n",
       "      <td>0.670695</td>\n",
       "      <td>0.352702</td>\n",
       "      <td>0.512528</td>\n",
       "      <td>0.650626</td>\n",
       "      <td>0.769539</td>\n",
       "      <td>0.0</td>\n",
       "      <td>0.550843</td>\n",
       "      <td>0.629910</td>\n",
       "      <td>0.094630</td>\n",
       "    </tr>\n",
       "    <tr>\n",
       "      <th>1</th>\n",
       "      <td>0.492723</td>\n",
       "      <td>0.670444</td>\n",
       "      <td>0.365168</td>\n",
       "      <td>0.223451</td>\n",
       "      <td>0.892042</td>\n",
       "      <td>0.457601</td>\n",
       "      <td>0.479151</td>\n",
       "      <td>0.458408</td>\n",
       "      <td>0.567389</td>\n",
       "      <td>0.400438</td>\n",
       "      <td>...</td>\n",
       "      <td>0.515178</td>\n",
       "      <td>0.535993</td>\n",
       "      <td>0.389766</td>\n",
       "      <td>0.457789</td>\n",
       "      <td>0.649022</td>\n",
       "      <td>0.640706</td>\n",
       "      <td>0.0</td>\n",
       "      <td>0.439959</td>\n",
       "      <td>0.083523</td>\n",
       "      <td>0.143194</td>\n",
       "    </tr>\n",
       "    <tr>\n",
       "      <th>2</th>\n",
       "      <td>0.620045</td>\n",
       "      <td>0.234229</td>\n",
       "      <td>0.000000</td>\n",
       "      <td>1.000000</td>\n",
       "      <td>0.713868</td>\n",
       "      <td>0.530786</td>\n",
       "      <td>0.561343</td>\n",
       "      <td>0.744675</td>\n",
       "      <td>0.691517</td>\n",
       "      <td>0.698663</td>\n",
       "      <td>...</td>\n",
       "      <td>0.589021</td>\n",
       "      <td>0.755673</td>\n",
       "      <td>0.424438</td>\n",
       "      <td>0.442509</td>\n",
       "      <td>0.616619</td>\n",
       "      <td>0.591727</td>\n",
       "      <td>0.0</td>\n",
       "      <td>0.702095</td>\n",
       "      <td>0.884659</td>\n",
       "      <td>0.712085</td>\n",
       "    </tr>\n",
       "    <tr>\n",
       "      <th>3</th>\n",
       "      <td>0.692391</td>\n",
       "      <td>0.208294</td>\n",
       "      <td>0.548100</td>\n",
       "      <td>0.455752</td>\n",
       "      <td>0.465769</td>\n",
       "      <td>0.000000</td>\n",
       "      <td>0.609514</td>\n",
       "      <td>0.614677</td>\n",
       "      <td>0.700698</td>\n",
       "      <td>0.373267</td>\n",
       "      <td>...</td>\n",
       "      <td>0.571582</td>\n",
       "      <td>0.542789</td>\n",
       "      <td>0.426590</td>\n",
       "      <td>0.314448</td>\n",
       "      <td>0.623035</td>\n",
       "      <td>0.653670</td>\n",
       "      <td>0.0</td>\n",
       "      <td>0.559530</td>\n",
       "      <td>0.036382</td>\n",
       "      <td>0.458859</td>\n",
       "    </tr>\n",
       "  </tbody>\n",
       "</table>\n",
       "<p>4 rows × 58 columns</p>\n",
       "</div>"
      ],
      "text/plain": [
       "         0         1         2         3         4         5         6   \\\n",
       "0  0.562419  0.877103  0.673546  0.106195  0.468403  0.316703  0.479904   \n",
       "1  0.492723  0.670444  0.365168  0.223451  0.892042  0.457601  0.479151   \n",
       "2  0.620045  0.234229  0.000000  1.000000  0.713868  0.530786  0.561343   \n",
       "3  0.692391  0.208294  0.548100  0.455752  0.465769  0.000000  0.609514   \n",
       "\n",
       "         7         8         9   ...        48        49        50        51  \\\n",
       "0  0.569146  0.549394  0.518181  ...  0.534769  0.670695  0.352702  0.512528   \n",
       "1  0.458408  0.567389  0.400438  ...  0.515178  0.535993  0.389766  0.457789   \n",
       "2  0.744675  0.691517  0.698663  ...  0.589021  0.755673  0.424438  0.442509   \n",
       "3  0.614677  0.700698  0.373267  ...  0.571582  0.542789  0.426590  0.314448   \n",
       "\n",
       "         52        53   54        55        56        57  \n",
       "0  0.650626  0.769539  0.0  0.550843  0.629910  0.094630  \n",
       "1  0.649022  0.640706  0.0  0.439959  0.083523  0.143194  \n",
       "2  0.616619  0.591727  0.0  0.702095  0.884659  0.712085  \n",
       "3  0.623035  0.653670  0.0  0.559530  0.036382  0.458859  \n",
       "\n",
       "[4 rows x 58 columns]"
      ]
     },
     "metadata": {},
     "output_type": "display_data"
    }
   ],
   "source": [
    "display(pd.DataFrame(X_train[0,0]))"
   ]
  },
  {
   "cell_type": "code",
   "execution_count": 43,
   "metadata": {
    "metadata": {}
   },
   "outputs": [
    {
     "name": "stdout",
     "output_type": "stream",
     "text": [
      "torch.Size([4, 58])\n",
      "tensor([[0.9148, 0.2367, 0.9171, 0.4004, 0.9035, 1.0000, 0.8313, 0.4784, 0.8931,\n",
      "         0.2677, 1.0000, 1.0000, 0.2511, 0.2742, 0.3213, 0.9125, 1.0000, 0.2397,\n",
      "         0.6872, 1.0000, 0.8881, 0.6252, 0.3687, 0.0962, 0.3073, 0.6628, 0.9814,\n",
      "         0.5388, 0.4444, 0.2943, 0.9412, 0.9132, 0.1532, 0.3043, 0.4217, 0.2810,\n",
      "         0.0549, 0.3080, 0.4033, 0.7087, 0.4050, 0.6188, 0.6127, 0.2940, 0.0000,\n",
      "         0.1488, 0.7656, 0.1143, 0.8995, 0.6960, 0.8489, 0.6063, 0.8803, 0.7838,\n",
      "         0.0000, 1.0000, 0.4117, 0.3687],\n",
      "        [1.0000, 0.3457, 0.8576, 0.9469, 0.5948, 0.5943, 0.9609, 0.7922, 1.0000,\n",
      "         0.6006, 1.0000, 0.5320, 1.0000, 1.0000, 1.0000, 1.0000, 0.3545, 0.3306,\n",
      "         0.6881, 0.5742, 1.0000, 0.6948, 1.0000, 0.1442, 0.3398, 0.6308, 1.0000,\n",
      "         0.4632, 0.5791, 0.6245, 0.9386, 1.0000, 0.0000, 1.0000, 0.8406, 1.0000,\n",
      "         0.3351, 0.9053, 0.4785, 0.7957, 1.0000, 0.7979, 0.8035, 0.3747, 0.0457,\n",
      "         0.2997, 0.6857, 0.1207, 1.0000, 0.7590, 0.9648, 0.6139, 1.0000, 0.8094,\n",
      "         0.0000, 0.9811, 0.2806, 1.0000],\n",
      "        [0.8865, 0.3854, 0.6861, 0.3916, 1.0000, 0.4148, 1.0000, 0.5523, 0.8436,\n",
      "         0.0000, 1.0000, 0.4111, 0.4090, 0.4598, 0.4746, 0.9718, 0.2043, 0.2140,\n",
      "         0.3861, 0.2207, 0.9814, 0.4898, 0.5976, 0.1348, 0.3715, 0.6287, 0.9749,\n",
      "         0.3597, 1.0000, 1.0000, 1.0000, 0.8120, 0.0923, 0.5356, 0.5667, 0.4045,\n",
      "         0.1323, 0.5171, 0.2879, 0.4803, 0.5476, 1.0000, 1.0000, 0.3556, 0.3127,\n",
      "         0.6149, 0.6680, 0.2125, 0.9703, 0.5322, 1.0000, 0.3925, 0.8848, 0.4932,\n",
      "         0.0000, 0.8712, 0.1220, 0.5976],\n",
      "        [0.7723, 0.4925, 0.8089, 0.3827, 0.7285, 0.8174, 1.1206, 0.7350, 0.8032,\n",
      "         0.2517, 1.1587, 0.8207, 0.2222, 0.2992, 0.3048, 1.4498, 0.1458, 0.4191,\n",
      "         0.8643, 0.8227, 0.9279, 0.4374, 0.4623, 0.1375, 0.2700, 0.4445, 1.0153,\n",
      "         0.5155, 1.1090, 0.5352, 1.2226, 0.6436, 0.1789, 0.3642, 0.4276, 0.2463,\n",
      "         0.0861, 0.4426, 0.4468, 0.9038, 0.4164, 1.3371, 1.1156, 0.3187, 0.1967,\n",
      "         0.1270, 0.5963, 0.1326, 0.9130, 0.4848, 1.0968, 0.5383, 0.9211, 0.6935,\n",
      "         0.0000, 0.9443, 0.4460, 0.4623]])\n"
     ]
    }
   ],
   "source": [
    "X_train_tensor = torch.tensor(X_train, dtype=torch.float32, device=device)\n",
    "y_train_tensor = torch.tensor(y_train, dtype=torch.float32, device=device)\n",
    "\n",
    "X_test_tensor = torch.tensor(X_test, dtype=torch.float32, device=device)\n",
    "y_test_tensor = torch.tensor(y_test, dtype=torch.float32, device=device)\n",
    "\n",
    "train_data = RollingWindowDataset(X_train_tensor, y_train_tensor, device=device)\n",
    "test_data = RollingWindowDataset(X_test_tensor, y_test_tensor, device=device)\n",
    "\n",
    "print(test_data.__getitem__(0)[1].shape)\n",
    "print(test_data.__getitem__(1)[0])\n"
   ]
  },
  {
   "cell_type": "code",
   "execution_count": 44,
   "metadata": {},
   "outputs": [],
   "source": [
    "# class VanillaLSTMModel(nn.Module):\n",
    "#     def __init__(self, input_dim, hidden_size, layer_size, output_dim, dropout_prob):\n",
    "#         super(VanillaLSTMModel, self).__init__()\n",
    "\n",
    "#         self.hidden_size = hidden_size\n",
    "#         self.layer_size = layer_size\n",
    "#         self.hn_normal, self.cn_normal = None, None\n",
    "#         self.hn_year, self.cn_year = None, None\n",
    "\n",
    "\n",
    "#         self.lstm_normal = nn.ModuleList([\n",
    "#             nn.LSTM(input_size=input_dim if i == 0 else hidden_size, hidden_size=hidden_size, num_layers=1, batch_first=True)\n",
    "#             for i in range(layer_size)\n",
    "#         ])\n",
    "\n",
    "#         self.lstm_year = nn.ModuleList([\n",
    "#             nn.LSTM(input_size=input_dim if i == 0 else hidden_size, hidden_size=hidden_size, num_layers=1, batch_first=True)\n",
    "#             for i in range(layer_size)\n",
    "#         ])\n",
    "\n",
    "#         self.proj_normal = nn.ModuleList([\n",
    "#             nn.Linear(input_dim, hidden_size) if i == 0 else nn.Identity()\n",
    "#             for i in range(layer_size)\n",
    "#         ])\n",
    "\n",
    "#         self.proj_year = nn.ModuleList([\n",
    "#             nn.Linear(input_dim, hidden_size) if i == 0 else nn.Identity()\n",
    "#             for i in range(layer_size)\n",
    "#         ])\n",
    "\n",
    "#         self.norm_layers_normal = nn.ModuleList([\n",
    "#             nn.LayerNorm(hidden_size) for _ in range(layer_size)\n",
    "#         ])\n",
    "\n",
    "#         self.norm_layers_year = nn.ModuleList([\n",
    "#             nn.LayerNorm(hidden_size) for _ in range(layer_size)\n",
    "#         ])\n",
    "\n",
    "                            \n",
    "#         self.dropout = nn.Dropout(dropout_prob)\n",
    "        \n",
    "#         self.fc = nn.Linear(self.hidden_size*2, output_dim)\n",
    "\n",
    "#     def init_hidden(self, batch_size):\n",
    "#         # Initialize hidden and cell states with zeros\n",
    "#         h0 = torch.randn(1, batch_size, self.hidden_size).to(device)\n",
    "#         c0 = torch.randn(1, batch_size, self.hidden_size).to(device)\n",
    "#         return (h0, c0)\n",
    "    \n",
    "#     def reset_hidden(self):\n",
    "#         self.hn_normal = None\n",
    "#         self.cn_normal = None\n",
    "\n",
    "#         self.hn_year = None\n",
    "#         self.cn_year = None\n",
    "\n",
    "#     def forward(self, data_normal, data_year):\n",
    "\n",
    "#         if self.hn_normal == None or self.cn_normal == None:\n",
    "#             self.hn_normal, self.cn_normal = self.init_hidden(data_normal.size(0))\n",
    "#             self.hn_year, self.cn_year = self.init_hidden(data_year.size(0))\n",
    "        \n",
    "#         else:\n",
    "#             self.hn_normal, self.cn_normal = self.hn_normal.detach(), self.cn_normal.detach()\n",
    "#             last_hn_normal = self.hn_normal[:,-1:,:]\n",
    "#             last_cn_normal = self.cn_normal[:,-1:,:]\n",
    "\n",
    "#             self.hn_year, self.cn_year = self.hn_year.detach(), self.cn_year.detach()\n",
    "#             last_hn_year = self.hn_year[:,-1:,:]\n",
    "#             last_cn_year = self.cn_year[:,-1:,:]\n",
    "\n",
    "#             self.hn_normal = last_hn_normal.repeat(1, data_normal.size(0), 1)\n",
    "#             self.cn_normal = last_cn_normal.repeat(1, data_normal.size(0), 1)\n",
    "\n",
    "#             self.hn_year = last_hn_year.repeat(1, data_year.size(0), 1)\n",
    "#             self.cn_year = last_cn_year.repeat(1, data_year.size(0), 1)\n",
    "\n",
    "#         out_normal = data_normal\n",
    "#         out_year = data_year\n",
    "\n",
    "#         projected_normal = data_normal\n",
    "#         projected_year = data_year\n",
    "\n",
    "#         # print(self.hn_normal.shape)\n",
    "#         # print(self.hn_year.shape)\n",
    "#         # Forward propagate LSTM\n",
    "#         for i in range(self.layer_size):\n",
    "#             out_normal, (self.hn_normal, self.cn_normal) = self.lstm_normal[i](out_normal, (self.hn_normal, self.cn_normal))\n",
    "#             out_year, (self.hn_year, self.cn_year) = self.lstm_year[i](out_year, (self.hn_year, self.cn_year))\n",
    "\n",
    "#             # projected_normal = self.proj_normal[i](projected_normal)\n",
    "#             # projected_year = self.proj_year[i](projected_year)\n",
    "        \n",
    "#             # out_normal = out_normal + projected_normal\n",
    "#             # out_year = out_year + projected_year\n",
    "\n",
    "#             # out_normal = self.norm_layers_normal[i](out_normal)\n",
    "#             # out_year = self.norm_layers_year[i](out_year)\n",
    "\n",
    "#             # projected_normal = out_normal\n",
    "#             # projected_year = out_year\n",
    "\n",
    "#         out = torch.cat((out_normal, out_year), dim=2)\n",
    "\n",
    "#         out = self.dropout(out[:, -1, :])  # Add dropout\n",
    "\n",
    "#         out = self.fc(out)\n",
    "\n",
    "#         return out"
   ]
  },
  {
   "cell_type": "code",
   "execution_count": 45,
   "metadata": {
    "metadata": {}
   },
   "outputs": [],
   "source": [
    "class VanillaLSTMModel(nn.Module):\n",
    "    def __init__(self, input_dim, hidden_size, layer_size, output_dim, dropout_prob):\n",
    "        super(VanillaLSTMModel, self).__init__()\n",
    "\n",
    "        self.hidden_size = hidden_size\n",
    "        self.layer_size = layer_size\n",
    "        self.hn_normal, self.cn_normal = None, None\n",
    "        self.hn_year, self.cn_year = None, None\n",
    "\n",
    "\n",
    "        self.lstm_normal = nn.LSTM(input_size = input_dim, hidden_size = self.hidden_size, num_layers=self.layer_size,\n",
    "                            dropout=(dropout_prob if self.layer_size > 1 else 0), batch_first=True)\n",
    "        self.lstm_year = nn.LSTM(input_size = input_dim, hidden_size = self.hidden_size, num_layers=self.layer_size,\n",
    "                            dropout=(dropout_prob if self.layer_size > 1 else 0), batch_first=True)\n",
    "                            \n",
    "        self.dropout = nn.Dropout(dropout_prob)\n",
    "        \n",
    "        self.fc = nn.Linear(self.hidden_size*2, output_dim)\n",
    "\n",
    "    def init_hidden(self, batch_size):\n",
    "        # Initialize hidden and cell states with zeros\n",
    "        h0 = torch.randn(self.layer_size, batch_size, self.hidden_size).to(device)\n",
    "        c0 = torch.randn(self.layer_size, batch_size, self.hidden_size).to(device)\n",
    "        return (h0, c0)\n",
    "    \n",
    "    def reset_hidden(self):\n",
    "        self.hn_normal = None\n",
    "        self.cn_normal = None\n",
    "\n",
    "        self.hn_year = None\n",
    "        self.cn_year = None\n",
    "\n",
    "    def forward(self, data_normal, data_year):\n",
    "\n",
    "        if self.hn_normal == None or self.cn_normal == None:\n",
    "            self.hn_normal, self.cn_normal = self.init_hidden(data_normal.size(0))\n",
    "            self.hn_year, self.cn_year = self.init_hidden(data_year.size(0))\n",
    "        \n",
    "        else:\n",
    "            self.hn_normal, self.cn_normal = self.hn_normal.detach(), self.cn_normal.detach()\n",
    "            last_hn_normal = self.hn_normal[:,-1:,:]\n",
    "            last_cn_normal = self.cn_normal[:,-1:,:]\n",
    "\n",
    "            self.hn_year, self.cn_year = self.hn_year.detach(), self.cn_year.detach()\n",
    "            last_hn_year = self.hn_year[:,-1:,:]\n",
    "            last_cn_year = self.cn_year[:,-1:,:]\n",
    "\n",
    "            self.hn_normal = last_hn_normal.repeat(1, data_normal.size(0), 1)\n",
    "            self.cn_normal = last_cn_normal.repeat(1, data_normal.size(0), 1)\n",
    "\n",
    "\n",
    "            self.hn_year = last_hn_year.repeat(1, data_year.size(0), 1)\n",
    "            self.cn_year = last_cn_year.repeat(1, data_year.size(0), 1)\n",
    "\n",
    "        # print(self.hn_normal.shape)\n",
    "        # print(self.hn_year.shape)\n",
    "        # Forward propagate LSTM\n",
    "        out_normal, (self.hn_normal, self.cn_normal) = self.lstm_normal(data_normal, (self.hn_normal, self.cn_normal))\n",
    "        out_years, (self.hn_year, self.cn_year) = self.lstm_year(data_year, (self.hn_year, self.cn_year))\n",
    "\n",
    "        out = torch.cat((out_normal, out_years), dim=2)\n",
    "\n",
    "        out = self.dropout(out[:, -1, :])  # Add dropout\n",
    "\n",
    "        out = self.fc(out)\n",
    "\n",
    "        return out"
   ]
  },
  {
   "cell_type": "code",
   "execution_count": 46,
   "metadata": {},
   "outputs": [],
   "source": [
    "# class VanillaLSTMModel(nn.Module):\n",
    "#     def __init__(self, input_dim, hidden_size, layer_size, output_dim, dropout_prob):\n",
    "#         super(VanillaLSTMModel, self).__init__()\n",
    "\n",
    "#         self.hidden_size = hidden_size\n",
    "#         self.layer_size = layer_size\n",
    "#         self.hn = nn.Parameter(torch.zeros(self.layer_size, 1, self.hidden_size))\n",
    "#         self.cn = nn.Parameter(torch.zeros(self.layer_size, 1, self.hidden_size))\n",
    "\n",
    "#         self.lstm = nn.LSTM(input_size = input_dim, hidden_size = self.hidden_size, num_layers=self.layer_size,\n",
    "#                             dropout=(dropout_prob if self.layer_size > 1 else 0), batch_first=True)\n",
    "                            \n",
    "#         self.dropout = nn.Dropout(dropout_prob)\n",
    "        \n",
    "#         self.fc = nn.Linear(self.hidden_size, output_dim)\n",
    "\n",
    "#     def init_hidden(self, batch_size):\n",
    "#         # Initialize hidden and cell states with zeros\n",
    "#         h0 = torch.zeros(self.layer_size, batch_size, self.hidden_size).to(device)\n",
    "#         c0 = torch.zeros(self.layer_size, batch_size, self.hidden_size).to(device)\n",
    "#         return (h0, c0)\n",
    "    \n",
    "#     def reset_hidden(self):\n",
    "#         self.hn = None\n",
    "#         self.cn = None\n",
    "\n",
    "#     def forward(self, x):\n",
    "#         hn = self.hn.repeat(1, x.size(0), 1)\n",
    "#         cn = self.cn.repeat(1, x.size(0), 1)\n",
    "        \n",
    "#         # Forward propagate LSTM\n",
    "#         out, (hn, cn) = self.lstm(x, (hn, cn))\n",
    "\n",
    "#         out = self.dropout(out[:, -1, :])  # Add dropout\n",
    "\n",
    "#         out = self.fc(out)\n",
    "\n",
    "#         return out"
   ]
  },
  {
   "cell_type": "code",
   "execution_count": 47,
   "metadata": {
    "metadata": {}
   },
   "outputs": [],
   "source": [
    "# class VanillaLSTMModel(nn.Module):\n",
    "#     def __init__(self, input_dim, hidden_size, layer_size, output_dim, dropout_prob):\n",
    "#         super(VanillaLSTMModel, self).__init__()\n",
    "\n",
    "#         self.hidden_size = hidden_size\n",
    "#         self.layer_size = layer_size\n",
    "#         self.hn, self.cn = None, None\n",
    "\n",
    "#         self.lstm = nn.LSTM(input_size = input_dim, hidden_size = self.hidden_size, num_layers=self.layer_size,\n",
    "#                             dropout=(dropout_prob if self.layer_size > 1 else 0), batch_first=True)\n",
    "                            \n",
    "#         self.dropout = nn.Dropout(dropout_prob)\n",
    "        \n",
    "#         self.fc = nn.Linear(self.hidden_size, output_dim)\n",
    "\n",
    "#     def init_hidden(self, batch_size):\n",
    "#         # Initialize hidden and cell states with zeros\n",
    "#         h0 = torch.zeros(self.layer_size, batch_size, self.hidden_size).to(device)\n",
    "#         c0 = torch.zeros(self.layer_size, batch_size, self.hidden_size).to(device)\n",
    "#         return (h0, c0)\n",
    "    \n",
    "#     def reset_hidden(self):\n",
    "#         self.hn = None\n",
    "#         self.cn = None\n",
    "\n",
    "#     def forward(self, x):\n",
    "#         # self.hn, self.cn = self.init_hidden(x.size(0))\n",
    "#         if self.hn == None or self.cn == None:\n",
    "#             self.hn, self.cn = self.init_hidden(1)\n",
    "#         else:\n",
    "#             self.hn, self.cn = self.hn.detach(), self.cn.detach()\n",
    "\n",
    "#         x_longer = x.view(1,x.shape[0]*x.shape[1],x.shape[2])\n",
    "\n",
    "#         out_longer, (self.hn, self.cn) = self.lstm(x_longer, (self.hn, self.cn))\n",
    "\n",
    "#         out = out_longer.view(x.shape[0],x.shape[1],out_longer.shape[2])\n",
    "\n",
    "#         out = self.dropout(out[:,-1,:])\n",
    "#         out = self.fc(out)\n",
    "\n",
    "#         return out\n"
   ]
  },
  {
   "cell_type": "code",
   "execution_count": 48,
   "metadata": {
    "metadata": {}
   },
   "outputs": [],
   "source": [
    "def find_supported_splits(comp_size):\n",
    "    supported_splits = []\n",
    "    for n_splits in range(1, comp_size + 1):\n",
    "        if comp_size % n_splits != 0:\n",
    "            continue\n",
    "        \n",
    "        supported_splits.append(n_splits)\n",
    "    return supported_splits\n",
    "\n",
    "\n",
    "def custom_time_series_folds(data, n_splits):\n",
    "\n",
    "    total_size = len(data)\n",
    "    comp_size = total_size // len(company_list)\n",
    "    comp_fold_size = comp_size//n_splits\n",
    "\n",
    "    if comp_size % n_splits != 0:\n",
    "        supported_splits = find_supported_splits(comp_size)\n",
    "        print(supported_splits)\n",
    "        print(f\"fold_size: {comp_fold_size} comp_size: {comp_size}, company_list: {len(company_list)}, total_size: {total_size}\")\n",
    "        raise ValueError(\"Fold size must be divisible by the number of companies.\")\n",
    "\n",
    "    accumulated_train_idx = []     \n",
    "\n",
    "    for i in range(n_splits-1):\n",
    "        current_fold_val_idx = []\n",
    "        current_fold_train_idx = []\n",
    "\n",
    "        for j in range(len(company_list)):\n",
    "\n",
    "            start_idx = j * comp_size\n",
    "            val_start_idx = start_idx + (i+1) * comp_fold_size \n",
    "        \n",
    "            end_idx = val_start_idx + comp_fold_size\n",
    "        \n",
    "            current_comp_train_idx = list(range(start_idx, val_start_idx))\n",
    "            current_fold_train_idx.extend(current_comp_train_idx)  \n",
    "        \n",
    "            val_idx = list(range(val_start_idx, end_idx))\n",
    "            current_fold_val_idx.extend(val_idx)  \n",
    "\n",
    "        # print(f\"train: {current_fold_train_idx}\")\n",
    "        # print(f\"test: {current_fold_val_idx}\")\n",
    "        yield current_fold_train_idx, current_fold_val_idx"
   ]
  },
  {
   "cell_type": "code",
   "execution_count": 49,
   "metadata": {
    "metadata": {}
   },
   "outputs": [],
   "source": [
    "class ModelActioner:\n",
    "\n",
    "    def __init__(self, train_data, test_data, device):\n",
    "        self.train_data = train_data\n",
    "        self.test_data = test_data\n",
    "        self.device = device\n",
    "        self.model = None\n",
    "        self.optimizer = None\n",
    "        self.criterion = nn.MSELoss()\n",
    "\n",
    "    def custom_tscv(self, config, trial):\n",
    "        batch_size = config[\"batch_size\"]\n",
    "        epochs = config[\"epochs\"]\n",
    "        hidden_size = config[\"hidden_size\"]\n",
    "        num_layers = config[\"layer_size\"]\n",
    "        learning_rate = config[\"learning_rate\"]\n",
    "        dropout_prob = config[\"dropout_prob\"]\n",
    "        weight_decay = config[\"weight_decay\"]\n",
    "        lr_step_size = epochs//config[\"lr_step_size\"]\n",
    "        gamma = config[\"gamma\"]\n",
    "\n",
    "        suffle = False\n",
    "\n",
    "        num_of_fold = 4\n",
    "\n",
    "        fold_results = []\n",
    "\n",
    "        for fold, (train_idx, val_idx) in enumerate(custom_time_series_folds(self.train_data, num_of_fold)):\n",
    "            print(f\"Fold: {fold+1}/{num_of_fold}\")\n",
    "\n",
    "            train_subset = Subset(self.train_data, train_idx)\n",
    "            val_subset = Subset(self.train_data, val_idx)\n",
    "\n",
    "            train_loader = DataLoader(train_subset, batch_size=batch_size, shuffle=suffle)\n",
    "            val_loader = DataLoader(val_subset, batch_size=batch_size, shuffle=suffle)\n",
    "\n",
    "            self.model = VanillaLSTMModel(input_dim=self.train_data.__getitem__(0)[0].shape[1], hidden_size=hidden_size, layer_size=num_layers, dropout_prob=dropout_prob, output_dim=1).to(self.device)\n",
    "\n",
    "            self.optimizer = optim.Adam(self.model.parameters(), lr=learning_rate, weight_decay=weight_decay)\n",
    "            scheduler = ReduceLROnPlateau(self.optimizer, patience=lr_step_size, factor=gamma, mode=\"min\", verbose=True) \n",
    "\n",
    "            for epoch in range(epochs):\n",
    "                print('epochs {}/{}'.format(epoch+1,epochs))\n",
    "\n",
    "                running_loss = 0.0\n",
    "                total_sample_train = 0\n",
    "                \n",
    "                self.model.reset_hidden()\n",
    "                self.model.train()\n",
    "\n",
    "                for batch_idx, (data_normal, data_year, target) in enumerate(train_loader):\n",
    "                    target = target.view(-1,1) \n",
    "\n",
    "                    self.optimizer.zero_grad()\n",
    "\n",
    "                    preds = self.model(data_normal, data_year)\n",
    "                    loss = self.criterion(preds, target)\n",
    "                    loss.backward()\n",
    "                    self.optimizer.step() # Update model params\n",
    "\n",
    "                    running_loss += loss.item() * data_normal.size(0)\n",
    "                    total_sample_train += data_normal.size(0)\n",
    "\n",
    "                train_loss = running_loss/total_sample_train\n",
    "\n",
    "                self.model.eval()\n",
    "                val_running_loss = 0.0\n",
    "                total_sample_val = 0\n",
    "\n",
    "                with torch.no_grad():\n",
    "\n",
    "                    for batch_idx, (data_normal, data_year, target) in enumerate(val_loader):\n",
    "                        target = target.view(-1,1)\n",
    "\n",
    "                        preds = self.model(data_normal, data_year)\n",
    "                        loss = self.criterion(preds, target)\n",
    "\n",
    "                        val_running_loss += loss.item() * data_normal.size(0)\n",
    "                        total_sample_val += data_normal.size(0)\n",
    "                \n",
    "                val_loss = val_running_loss/total_sample_val\n",
    "                fold_results.append(val_loss)\n",
    "                scheduler.step(val_loss)\n",
    "                \n",
    "                unique_step = fold * epochs + epoch\n",
    "                trial.report(val_loss, unique_step)\n",
    "\n",
    "                if trial.should_prune():\n",
    "                    raise optuna.TrialPruned()\n",
    "\n",
    "                current_lr = self.optimizer.param_groups[0]['lr']\n",
    "\n",
    "                print(f'Current Learning Rate: {current_lr}')\n",
    "                print(f\"train_loss: {train_loss}, val_loss: {val_loss}\")\n",
    "                \n",
    "        mean_val_loss = np.mean(fold_results)\n",
    "        print(f\"Mean validation loss: {mean_val_loss}\")\n",
    "        return mean_val_loss\n",
    "\n",
    "\n",
    "                    \n",
    "    def train(self, config):\n",
    "        batch_size = config[\"batch_size\"]\n",
    "        epochs = config[\"epochs\"]\n",
    "        hidden_size = config[\"hidden_size\"]\n",
    "        num_layers = config[\"layer_size\"]\n",
    "        learning_rate = config[\"learning_rate\"]\n",
    "        dropout_prob = config[\"dropout_prob\"]\n",
    "        weight_decay = config[\"weight_decay\"]\n",
    "        lr_step_size = epochs//config[\"lr_step_size\"]\n",
    "        gamma = config[\"gamma\"]\n",
    "\n",
    "        self.model = VanillaLSTMModel(input_dim=self.train_data.__getitem__(0)[0].shape[1], hidden_size=hidden_size, layer_size=num_layers, dropout_prob=dropout_prob, output_dim=1).to(self.device)\n",
    "\n",
    "        # Update optimizer with updated lr\n",
    "        self.optimizer = optim.Adam(self.model.parameters(), lr = learning_rate, weight_decay=weight_decay)\n",
    "\n",
    "        # Creating data loader\n",
    "        train_loader = DataLoader(dataset=self.train_data, batch_size=batch_size, shuffle=False)\n",
    "\n",
    "        scheduler = ReduceLROnPlateau(self.optimizer, patience=lr_step_size, factor=gamma, mode=\"min\", verbose=True)  \n",
    "\n",
    "        # Training Loop\n",
    "        for epoch in range(epochs):\n",
    "            print('epochs {}/{}'.format(epoch+1,epochs))\n",
    "            \n",
    "            running_loss = 0.0\n",
    "            total_sample_train = 0\n",
    "\n",
    "            self.model.reset_hidden()\n",
    "            self.model.train()\n",
    "\n",
    "            for batch_idx, (data_normal, data_year, target) in enumerate(train_loader):\n",
    "\n",
    "                target = target.view(-1,1)  \n",
    "\n",
    "                self.optimizer.zero_grad()\n",
    "                preds = self.model(data_normal, data_year)\n",
    "\n",
    "                loss = self.criterion(preds, target)\n",
    "                loss.backward()\n",
    "                self.optimizer.step() # Update model params\n",
    "\n",
    "                running_loss += loss.item() * data_normal.size(0)\n",
    "                total_sample_train += data_normal.size(0)\n",
    "\n",
    "            train_loss = running_loss/total_sample_train\n",
    "            scheduler.step(train_loss)\n",
    "            current_lr = self.optimizer.param_groups[0]['lr']\n",
    "\n",
    "            print(f'Current Learning Rate: {current_lr}')\n",
    "            print(f\"train_loss: {train_loss}\")\n",
    "        \n",
    "        return self.model\n",
    "            \n",
    "    \n",
    "    def test(self, config):\n",
    "        batch_size = config[\"batch_size\"]\n",
    "        all_preds = []\n",
    "\n",
    "        test_loader = DataLoader(dataset=self.test_data, batch_size=batch_size, shuffle=False)\n",
    "\n",
    "        running_loss = .0\n",
    "        total_sample = 0\n",
    "\n",
    "        self.model.eval()\n",
    "\n",
    "        with torch.no_grad():\n",
    "\n",
    "            for batch_idx, (data_normal, data_year, target) in enumerate(test_loader):\n",
    "\n",
    "                target = target.view(-1,1)\n",
    "                \n",
    "                preds = self.model(data_normal, data_year)\n",
    "                loss = self.criterion(preds, target)\n",
    "\n",
    "                running_loss += loss.item() * data_normal.size(0)\n",
    "                total_sample += data_normal.size(0)\n",
    "\n",
    "                all_preds.extend(preds.cpu().numpy())\n",
    "\n",
    "            test_loss = running_loss/total_sample\n",
    "            print(f\"test_loss: {test_loss}\")\n",
    "\n",
    "        return all_preds\n",
    "    \n"
   ]
  },
  {
   "cell_type": "code",
   "execution_count": 50,
   "metadata": {
    "metadata": {}
   },
   "outputs": [],
   "source": [
    "def objective(trial):\n",
    "    config = {\n",
    "        \"batch_size\": trial.suggest_int(\"batch_size\", 22, 100),\n",
    "        \"epochs\": trial.suggest_int(\"epochs\", 100, 400, step=50),\n",
    "        \"hidden_size\": trial.suggest_int(\"hidden_size\", 200, 1000, step=10),\n",
    "        \"layer_size\": trial.suggest_int(\"layer_size\", 1, 6),\n",
    "        \"learning_rate\": trial.suggest_float(\"learning_rate\", 1e-3, 1e-1, step=0.0001),\n",
    "        \"dropout_prob\": trial.suggest_float(\"dropout_prob\", 0.1, 0.3, step=0.01),\n",
    "        \"weight_decay\": trial.suggest_float(\"weight_decay\", 1e-3, 1e-1, step=0.0001),\n",
    "        \"lr_step_size\": trial.suggest_int(\"lr_step_size\", 3, 10), \n",
    "        \"gamma\": trial.suggest_float(\"gamma\", 1e-2, 1, step=0.01)\n",
    "    }\n",
    "\n",
    "    trainer = ModelActioner(train_data, test_data, device)\n",
    "\n",
    "    val_loss = trainer.custom_tscv(config, trial)\n",
    "\n",
    "    return val_loss"
   ]
  },
  {
   "cell_type": "code",
   "execution_count": 51,
   "metadata": {
    "metadata": {}
   },
   "outputs": [],
   "source": [
    "# study_name = \"Vanilla-LSTM-Tunner\"\n",
    "# storage_url = \"sqlite:///db.sqlite3\"\n",
    "\n",
    "# storage = optuna.storages.RDBStorage(url=storage_url)\n",
    "\n",
    "# # Check if the study exists\n",
    "# study_names = [study.study_name for study in optuna.study.get_all_study_summaries(storage=storage)]\n",
    "# if study_name in study_names:\n",
    "#     # Delete the study if it exists\n",
    "#     print(f\"Deleting study '{study_name}'\")\n",
    "#     optuna.delete_study(study_name=study_name, storage=storage_url)\n",
    "# else:\n",
    "#     print(f\"Study '{study_name}' does not exist in the storage.\")\n",
    "    \n",
    "# study = optuna.create_study(direction='minimize', \n",
    "#                             storage=storage_url, \n",
    "#                             sampler=TPESampler(),\n",
    "#                             pruner=HyperbandPruner(\n",
    "#                             min_resource=3,  # Minimum resource allocated to a trial\n",
    "#                             max_resource='auto',  # Maximum resource allocated to a trial, 'auto' calculates it based on the first trial\n",
    "#                             reduction_factor=2  # Reduction factor for pruning\n",
    "#                             ),\n",
    "#                             study_name=study_name,\n",
    "#                             load_if_exists=False)\n",
    "\n",
    "# pbar = tqdm(total=20, desc='Optimizing', unit='trial')\n",
    "\n",
    "# def callback(study, trial):\n",
    "#     # Update the progress bar\n",
    "#     pbar.update(1)\n",
    "#     pbar.set_postfix_str(f\"Best Value: {study.best_value:.4f}\")\n",
    "\n",
    "# study.optimize(objective, n_trials=20, callbacks=[callback])\n",
    "# pbar.close()\n",
    "\n",
    "# # Best hyperparameters\n",
    "# print('Number of finished trials:', len(study.trials))\n",
    "# print('Best trial:')\n",
    "# trial = study.best_trial\n",
    "\n",
    "# print('Value:', trial.value)\n",
    "# print('Params:')\n",
    "# for key, value in trial.params.items():\n",
    "#     print(f'{key}: {value}')"
   ]
  },
  {
   "cell_type": "code",
   "execution_count": 52,
   "metadata": {
    "metadata": {}
   },
   "outputs": [
    {
     "name": "stdout",
     "output_type": "stream",
     "text": [
      "epochs 1/347\n",
      "Current Learning Rate: 0.0014701180361360536\n",
      "train_loss: 0.06402852694837399\n",
      "epochs 2/347\n",
      "Current Learning Rate: 0.0014701180361360536\n",
      "train_loss: 0.045077491186007304\n",
      "epochs 3/347\n",
      "Current Learning Rate: 0.0014701180361360536\n",
      "train_loss: 0.04765540283679226\n",
      "epochs 4/347\n",
      "Current Learning Rate: 0.0014701180361360536\n",
      "train_loss: 0.04558000211592442\n",
      "epochs 5/347\n",
      "Current Learning Rate: 0.0014701180361360536\n",
      "train_loss: 0.04366800188098425\n",
      "epochs 6/347\n",
      "Current Learning Rate: 0.0014701180361360536\n",
      "train_loss: 0.0437300622785165\n",
      "epochs 7/347\n",
      "Current Learning Rate: 0.0014701180361360536\n",
      "train_loss: 0.04407645928225032\n",
      "epochs 8/347\n"
     ]
    }
   ],
   "source": [
    "config = {\n",
    "    \"batch_size\": 56,\n",
    "    \"epochs\": 347,\n",
    "    \"hidden_size\": 793,\n",
    "    \"learning_rate\": 0.0014701180361360536,\n",
    "    \"dropout_prob\": 0.16730859021906427,\n",
    "    \"weight_decay\": 0.004094720505111237,\n",
    "    \"lr_step_size\": 10, \n",
    "    \"gamma\": 0.07429231448874456,\n",
    "    \"layer_size\": 1,\n",
    "}\n",
    "\n",
    "model = ModelActioner(train_data=train_data,test_data=test_data,device=device)\n",
    "model.train(config)                "
   ]
  },
  {
   "cell_type": "code",
   "execution_count": null,
   "metadata": {
    "metadata": {}
   },
   "outputs": [],
   "source": [
    "y_test = y_test.reshape(-1,1)\n",
    "print(len(y_test))\n",
    "y_test[:4]"
   ]
  },
  {
   "cell_type": "code",
   "execution_count": null,
   "metadata": {
    "metadata": {}
   },
   "outputs": [],
   "source": [
    "preds = model.test(config)"
   ]
  },
  {
   "cell_type": "code",
   "execution_count": null,
   "metadata": {
    "metadata": {}
   },
   "outputs": [],
   "source": [
    "preds = np.array(preds)\n",
    "preds"
   ]
  },
  {
   "cell_type": "code",
   "execution_count": null,
   "metadata": {
    "metadata": {}
   },
   "outputs": [],
   "source": [
    "preds_inverse = []\n",
    "y_true_inverse = []\n",
    "\n",
    "idx = 0\n",
    "data_size = len(y_test)//len(company_list)\n",
    "print(data_size)\n",
    "\n",
    "preds_comp_data = []\n",
    "y_true_comp_data = pd.DataFrame()\n",
    "\n",
    "for company in company_list:\n",
    "    scaler = company_dict[company][\"scaler_y\"]\n",
    "    preds_inverse.append(scaler.inverse_transform(preds[idx:idx+data_size]).flatten())\n",
    "    y_true_inverse.append(scaler.inverse_transform(y_test[idx:idx+data_size]).flatten())\n",
    "\n",
    "    for pred in preds_inverse:\n",
    "        preds_comp_data.append({\"Prediction\": pred, \"Company\": company})\n",
    "\n",
    "    idx += data_size\n",
    "\n",
    "\n",
    "\n",
    "# for company in company_list:\n",
    "#     preds_inverse.append(np.array(preds).flatten())\n",
    "#     y_true_inverse.append(np.array(y_test).flatten())\n",
    "\n",
    "comp_preds_inverse = np.array(preds_inverse)\n",
    "comp_true_inverse = np.array(y_true_inverse)\n",
    "\n",
    "preds_inverse = np.array(preds_inverse).flatten()\n",
    "y_true_inverse = np.array(y_true_inverse).flatten()\n",
    "print(y_true_inverse.shape)\n",
    "print(preds_inverse.shape)\n",
    "\n",
    "\n",
    "\n",
    "mse = mean_squared_error(y_true_inverse, preds_inverse)\n",
    "mape = mean_absolute_percentage_error(y_true_inverse, preds_inverse)*100\n",
    "mae = mean_absolute_error(y_true_inverse, preds_inverse)\n",
    "r2 = r2_score(y_true_inverse,preds_inverse)\n",
    "\n",
    "print(f\"MAPE Score: %{mape:.2f}\")\n",
    "print(f\"MSE Score: {mse:.2f}\")\n",
    "print(f\"MAE Score: {mae:.2f}\")\n",
    "print(f\"R_2 Score: {r2:.2f}\")"
   ]
  },
  {
   "cell_type": "code",
   "execution_count": null,
   "metadata": {
    "metadata": {}
   },
   "outputs": [],
   "source": [
    "y_true_inverse"
   ]
  },
  {
   "cell_type": "code",
   "execution_count": null,
   "metadata": {
    "metadata": {}
   },
   "outputs": [],
   "source": [
    "preds_inverse = np.array(preds_inverse).flatten()\n",
    "preds_inverse"
   ]
  },
  {
   "cell_type": "code",
   "execution_count": null,
   "metadata": {
    "metadata": {}
   },
   "outputs": [],
   "source": [
    "len(y_test)"
   ]
  },
  {
   "cell_type": "code",
   "execution_count": null,
   "metadata": {
    "metadata": {}
   },
   "outputs": [],
   "source": [
    "y_test.flatten()\n",
    "x_indices = np.arange(len(y_true_inverse))\n",
    "preds = np.array(preds)\n",
    "preds"
   ]
  },
  {
   "cell_type": "code",
   "execution_count": null,
   "metadata": {
    "metadata": {}
   },
   "outputs": [],
   "source": [
    "len(y_true_inverse)"
   ]
  },
  {
   "cell_type": "code",
   "execution_count": null,
   "metadata": {
    "metadata": {}
   },
   "outputs": [],
   "source": [
    "trace_true = go.Scatter(x=x_indices, y=y_true_inverse, mode=\"lines\", name=f\"All Stocks True: EPS - PENDS\")\n",
    "trace_preds = go.Scatter(x=x_indices, y=preds_inverse, mode=\"lines\", name=f\"All Stocks Preds: EPS - PENDS\")\n",
    "\n",
    "\n",
    "layout = go.Layout(\n",
    "    title = f\"{stock_symbol}: EPS - PENDS\",\n",
    "    xaxis=dict(title='Date'),\n",
    "    yaxis=dict(title='EPS', side='left', rangemode='tozero'),\n",
    "    height=600,\n",
    ")\n",
    "\n",
    "fig = go.Figure(data=[trace_true, trace_preds], layout=layout)\n",
    "fig.show()"
   ]
  },
  {
   "cell_type": "code",
   "execution_count": null,
   "metadata": {
    "metadata": {}
   },
   "outputs": [],
   "source": [
    "x_indices = [[\"2018-Q2\", \"2018-Q3\", \"2018-Q4\" ,\"2019-Q1\", '2019-Q2', '2019-Q3', '2019-Q4']] * len(company_list)"
   ]
  },
  {
   "cell_type": "code",
   "execution_count": null,
   "metadata": {
    "metadata": {}
   },
   "outputs": [],
   "source": [
    "stock_symbol = \"Multiple Companies\"\n",
    "\n",
    "# Initialize the figure with layout\n",
    "layout = go.Layout(\n",
    "    title=f\"{stock_symbol}: EPS - PENDS\",\n",
    "    xaxis=dict(title='Date'),\n",
    "    yaxis=dict(title='EPS', side='left', rangemode='tozero'),\n",
    "    height=700,\n",
    "    width=1400\n",
    ")\n",
    "fig = go.Figure(layout=layout)\n",
    "\n",
    "# Variables to keep track of the extended x-axis and y-axis data\n",
    "extended_x_indices = []\n",
    "all_true_y = []\n",
    "all_preds_y = []\n",
    "\n",
    "# Adjust x_indices and concatenate y data for each company\n",
    "for i, company in enumerate(company_list):\n",
    "    # Extend x_indices with company identifier to differentiate time points between companies\n",
    "    extended_x_indices += [f\"{x} {company}\" for x in x_indices[i]]\n",
    "    all_true_y += list(comp_true_inverse[i].flatten())\n",
    "    all_preds_y += list(comp_preds_inverse[i].flatten())\n",
    "\n",
    "# Add traces for the concatenated true and predicted EPS values\n",
    "trace_true = go.Scatter(x=extended_x_indices, y=all_true_y, mode=\"lines+markers\", name=\"All Companies True: EPS - PENDS\")\n",
    "trace_preds = go.Scatter(x=extended_x_indices, y=all_preds_y, mode=\"lines+markers\", name=\"All Companies Preds: EPS - PENDS\")\n",
    "\n",
    "# Add traces to the figure\n",
    "fig.add_trace(trace_true)\n",
    "fig.add_trace(trace_preds)\n",
    "\n",
    "# Show the figure\n",
    "fig.show()"
   ]
  },
  {
   "cell_type": "code",
   "execution_count": null,
   "metadata": {
    "metadata": {}
   },
   "outputs": [],
   "source": [
    "pivoted_data[pivoted_data[\"OFTIC\"]==\"AAP\"]"
   ]
  }
 ],
 "metadata": {
  "kernelspec": {
   "display_name": "Python 3 (ipykernel)",
   "language": "python",
   "name": "python3"
  },
  "language_info": {
   "codemirror_mode": {
    "name": "ipython",
    "version": 3
   },
   "file_extension": ".py",
   "mimetype": "text/x-python",
   "name": "python",
   "nbconvert_exporter": "python",
   "pygments_lexer": "ipython3",
   "version": "3.11.4"
  }
 },
 "nbformat": 4,
 "nbformat_minor": 2
}
