{
 "cells": [
  {
   "cell_type": "code",
   "execution_count": 1,
   "metadata": {},
   "outputs": [
    {
     "name": "stderr",
     "output_type": "stream",
     "text": [
      "/home/arda/anaconda3/lib/python3.11/site-packages/pandas/core/arrays/masked.py:60: UserWarning: Pandas requires version '1.3.6' or newer of 'bottleneck' (version '1.3.5' currently installed).\n",
      "  from pandas.core import (\n"
     ]
    }
   ],
   "source": [
    "import pandas as pd\n",
    "import scipy\n",
    "import seaborn as sns\n",
    "import matplotlib.pyplot as plt\n",
    "from sklearn.metrics import accuracy_score, classification_report, confusion_matrix, roc_auc_score\n",
    "import torch\n",
    "from transformers import BertTokenizer, BertForSequenceClassification\n",
    "import numpy as np\n",
    "import re\n",
    "from nltk.stem.snowball import SnowballStemmer\n",
    "from nltk.tokenize import word_tokenize,sent_tokenize\n",
    "import nltk\n",
    "import os\n",
    "import sys  # Required for sys.exit()\n",
    "from IPython.display import display\n",
    "from tqdm.notebook import tqdm\n"
   ]
  },
  {
   "cell_type": "code",
   "execution_count": 2,
   "metadata": {},
   "outputs": [
    {
     "data": {
      "text/plain": [
       "9             abandon\n",
       "10          abandoned\n",
       "11         abandoning\n",
       "12        abandonment\n",
       "13       abandonments\n",
       "             ...     \n",
       "86116         wrongly\n",
       "86138       xenograft\n",
       "86238         yearend\n",
       "86239        yearends\n",
       "86440         zeolite\n",
       "Name: Word, Length: 7640, dtype: object"
      ]
     },
     "execution_count": 2,
     "metadata": {},
     "output_type": "execute_result"
    }
   ],
   "source": [
    "sec_dict = pd.read_csv(\"../Data/Loughran-McDonald_MasterDictionary_1993-2023.csv\")\n",
    "sec_dict = sec_dict[~((sec_dict[\"Source\"] == \"12of12inf\") & (sec_dict[\"Positive\"] == 0) & (sec_dict[\"Negative\"] == 0))]\n",
    "sec_dict = sec_dict[\"Word\"].str.lower()\n",
    "sec_dict"
   ]
  },
  {
   "cell_type": "code",
   "execution_count": 3,
   "metadata": {},
   "outputs": [
    {
     "data": {
      "text/html": [
       "<div>\n",
       "<style scoped>\n",
       "    .dataframe tbody tr th:only-of-type {\n",
       "        vertical-align: middle;\n",
       "    }\n",
       "\n",
       "    .dataframe tbody tr th {\n",
       "        vertical-align: top;\n",
       "    }\n",
       "\n",
       "    .dataframe thead th {\n",
       "        text-align: right;\n",
       "    }\n",
       "</style>\n",
       "<table border=\"1\" class=\"dataframe\">\n",
       "  <thead>\n",
       "    <tr style=\"text-align: right;\">\n",
       "      <th></th>\n",
       "      <th>Unnamed: 0</th>\n",
       "      <th>Date</th>\n",
       "      <th>OFTIC</th>\n",
       "      <th>PENDS</th>\n",
       "      <th>MEAN</th>\n",
       "      <th>STDEV</th>\n",
       "      <th>BPS</th>\n",
       "      <th>CPS</th>\n",
       "      <th>CPX</th>\n",
       "      <th>CSH</th>\n",
       "      <th>...</th>\n",
       "      <th>commodity_trade_Close_quarterly_return</th>\n",
       "      <th>C_Discretionary_Close_quarterly_return</th>\n",
       "      <th>C_Staples_Close_quarterly_return</th>\n",
       "      <th>Energy_Close_quarterly_return</th>\n",
       "      <th>Financials_Close_quarterly_return</th>\n",
       "      <th>Health_care_Close_quarterly_return</th>\n",
       "      <th>industrials_Close_quarterly_return</th>\n",
       "      <th>information_Close_quarterly_return</th>\n",
       "      <th>materials_Close_quarterly_return</th>\n",
       "      <th>utilities_Close_quarterly_return</th>\n",
       "    </tr>\n",
       "  </thead>\n",
       "  <tbody>\n",
       "    <tr>\n",
       "      <th>0</th>\n",
       "      <td>0</td>\n",
       "      <td>2011-06-30</td>\n",
       "      <td>AAPL</td>\n",
       "      <td>2011-06-30</td>\n",
       "      <td>17.869831</td>\n",
       "      <td>1.698451</td>\n",
       "      <td>2.6718</td>\n",
       "      <td>0.422900</td>\n",
       "      <td>777.000000</td>\n",
       "      <td>0.209015</td>\n",
       "      <td>...</td>\n",
       "      <td>0.062957</td>\n",
       "      <td>2.970550</td>\n",
       "      <td>4.378340</td>\n",
       "      <td>-5.517243</td>\n",
       "      <td>-6.345335</td>\n",
       "      <td>7.308964</td>\n",
       "      <td>-1.141483</td>\n",
       "      <td>-1.381423</td>\n",
       "      <td>-1.624192</td>\n",
       "      <td>5.051769</td>\n",
       "    </tr>\n",
       "    <tr>\n",
       "      <th>1</th>\n",
       "      <td>1</td>\n",
       "      <td>2011-09-30</td>\n",
       "      <td>AAPL</td>\n",
       "      <td>2011-09-30</td>\n",
       "      <td>17.834875</td>\n",
       "      <td>3.131120</td>\n",
       "      <td>2.9872</td>\n",
       "      <td>0.397600</td>\n",
       "      <td>1645.000000</td>\n",
       "      <td>0.258659</td>\n",
       "      <td>...</td>\n",
       "      <td>0.120922</td>\n",
       "      <td>-13.305144</td>\n",
       "      <td>-5.027217</td>\n",
       "      <td>-22.349038</td>\n",
       "      <td>-23.061887</td>\n",
       "      <td>-10.695185</td>\n",
       "      <td>-21.535988</td>\n",
       "      <td>-8.171207</td>\n",
       "      <td>-25.425447</td>\n",
       "      <td>0.418158</td>\n",
       "    </tr>\n",
       "    <tr>\n",
       "      <th>2</th>\n",
       "      <td>2</td>\n",
       "      <td>2011-12-31</td>\n",
       "      <td>AAPL</td>\n",
       "      <td>2011-12-31</td>\n",
       "      <td>21.771714</td>\n",
       "      <td>3.087308</td>\n",
       "      <td>3.4500</td>\n",
       "      <td>0.665700</td>\n",
       "      <td>1321.000000</td>\n",
       "      <td>0.249095</td>\n",
       "      <td>...</td>\n",
       "      <td>-0.087046</td>\n",
       "      <td>11.933447</td>\n",
       "      <td>9.541476</td>\n",
       "      <td>18.150742</td>\n",
       "      <td>10.076208</td>\n",
       "      <td>9.328708</td>\n",
       "      <td>15.503083</td>\n",
       "      <td>7.838985</td>\n",
       "      <td>14.100815</td>\n",
       "      <td>7.019633</td>\n",
       "    </tr>\n",
       "    <tr>\n",
       "      <th>3</th>\n",
       "      <td>3</td>\n",
       "      <td>2012-03-31</td>\n",
       "      <td>AAPL</td>\n",
       "      <td>2012-03-31</td>\n",
       "      <td>26.426070</td>\n",
       "      <td>2.380069</td>\n",
       "      <td>3.9154</td>\n",
       "      <td>0.528200</td>\n",
       "      <td>1457.000000</td>\n",
       "      <td>0.153558</td>\n",
       "      <td>...</td>\n",
       "      <td>-0.191850</td>\n",
       "      <td>15.556124</td>\n",
       "      <td>4.893814</td>\n",
       "      <td>3.789965</td>\n",
       "      <td>21.538450</td>\n",
       "      <td>8.417417</td>\n",
       "      <td>10.874069</td>\n",
       "      <td>18.506872</td>\n",
       "      <td>10.358213</td>\n",
       "      <td>-2.612559</td>\n",
       "    </tr>\n",
       "    <tr>\n",
       "      <th>4</th>\n",
       "      <td>4</td>\n",
       "      <td>2012-06-30</td>\n",
       "      <td>AAPL</td>\n",
       "      <td>2012-06-30</td>\n",
       "      <td>27.652509</td>\n",
       "      <td>3.109565</td>\n",
       "      <td>4.2582</td>\n",
       "      <td>0.384300</td>\n",
       "      <td>2056.000000</td>\n",
       "      <td>0.204900</td>\n",
       "      <td>...</td>\n",
       "      <td>0.484614</td>\n",
       "      <td>-2.905304</td>\n",
       "      <td>2.024644</td>\n",
       "      <td>-7.498254</td>\n",
       "      <td>-7.341768</td>\n",
       "      <td>1.063541</td>\n",
       "      <td>-4.676644</td>\n",
       "      <td>-4.741380</td>\n",
       "      <td>-4.544226</td>\n",
       "      <td>5.565071</td>\n",
       "    </tr>\n",
       "    <tr>\n",
       "      <th>...</th>\n",
       "      <td>...</td>\n",
       "      <td>...</td>\n",
       "      <td>...</td>\n",
       "      <td>...</td>\n",
       "      <td>...</td>\n",
       "      <td>...</td>\n",
       "      <td>...</td>\n",
       "      <td>...</td>\n",
       "      <td>...</td>\n",
       "      <td>...</td>\n",
       "      <td>...</td>\n",
       "      <td>...</td>\n",
       "      <td>...</td>\n",
       "      <td>...</td>\n",
       "      <td>...</td>\n",
       "      <td>...</td>\n",
       "      <td>...</td>\n",
       "      <td>...</td>\n",
       "      <td>...</td>\n",
       "      <td>...</td>\n",
       "      <td>...</td>\n",
       "    </tr>\n",
       "    <tr>\n",
       "      <th>14070</th>\n",
       "      <td>14070</td>\n",
       "      <td>2022-09-30</td>\n",
       "      <td>ZION</td>\n",
       "      <td>2022-09-30</td>\n",
       "      <td>58.423077</td>\n",
       "      <td>5.838994</td>\n",
       "      <td>28.4500</td>\n",
       "      <td>1.149000</td>\n",
       "      <td>52.000000</td>\n",
       "      <td>0.622359</td>\n",
       "      <td>...</td>\n",
       "      <td>0.255264</td>\n",
       "      <td>3.615072</td>\n",
       "      <td>-7.550564</td>\n",
       "      <td>0.713179</td>\n",
       "      <td>-3.465819</td>\n",
       "      <td>-5.559891</td>\n",
       "      <td>-5.152279</td>\n",
       "      <td>-6.560733</td>\n",
       "      <td>-7.595104</td>\n",
       "      <td>-6.587759</td>\n",
       "    </tr>\n",
       "    <tr>\n",
       "      <th>14071</th>\n",
       "      <td>14071</td>\n",
       "      <td>2022-12-31</td>\n",
       "      <td>ZION</td>\n",
       "      <td>2022-12-31</td>\n",
       "      <td>52.444444</td>\n",
       "      <td>8.477723</td>\n",
       "      <td>29.9500</td>\n",
       "      <td>1.211824</td>\n",
       "      <td>36.000000</td>\n",
       "      <td>0.568366</td>\n",
       "      <td>...</td>\n",
       "      <td>0.110342</td>\n",
       "      <td>-9.329585</td>\n",
       "      <td>11.718866</td>\n",
       "      <td>21.452382</td>\n",
       "      <td>12.648222</td>\n",
       "      <td>12.170758</td>\n",
       "      <td>18.553843</td>\n",
       "      <td>4.765115</td>\n",
       "      <td>14.218494</td>\n",
       "      <td>7.617154</td>\n",
       "    </tr>\n",
       "    <tr>\n",
       "      <th>14072</th>\n",
       "      <td>14072</td>\n",
       "      <td>2023-03-31</td>\n",
       "      <td>ZION</td>\n",
       "      <td>2023-03-31</td>\n",
       "      <td>35.441176</td>\n",
       "      <td>4.606920</td>\n",
       "      <td>32.0300</td>\n",
       "      <td>0.190405</td>\n",
       "      <td>48.919936</td>\n",
       "      <td>0.512905</td>\n",
       "      <td>...</td>\n",
       "      <td>-0.040221</td>\n",
       "      <td>15.778870</td>\n",
       "      <td>0.214616</td>\n",
       "      <td>-5.304675</td>\n",
       "      <td>-5.994150</td>\n",
       "      <td>-4.703717</td>\n",
       "      <td>3.024133</td>\n",
       "      <td>21.351649</td>\n",
       "      <td>3.836256</td>\n",
       "      <td>-3.985812</td>\n",
       "    </tr>\n",
       "    <tr>\n",
       "      <th>14073</th>\n",
       "      <td>14073</td>\n",
       "      <td>2023-06-30</td>\n",
       "      <td>ZION</td>\n",
       "      <td>2023-06-30</td>\n",
       "      <td>35.980769</td>\n",
       "      <td>4.682907</td>\n",
       "      <td>32.6900</td>\n",
       "      <td>0.225432</td>\n",
       "      <td>52.265163</td>\n",
       "      <td>0.570109</td>\n",
       "      <td>...</td>\n",
       "      <td>0.020449</td>\n",
       "      <td>13.554905</td>\n",
       "      <td>-0.722796</td>\n",
       "      <td>-2.004109</td>\n",
       "      <td>4.852247</td>\n",
       "      <td>2.525868</td>\n",
       "      <td>6.068392</td>\n",
       "      <td>15.131453</td>\n",
       "      <td>2.739895</td>\n",
       "      <td>-3.323977</td>\n",
       "    </tr>\n",
       "    <tr>\n",
       "      <th>14074</th>\n",
       "      <td>14074</td>\n",
       "      <td>2023-09-30</td>\n",
       "      <td>ZION</td>\n",
       "      <td>2023-09-30</td>\n",
       "      <td>38.724138</td>\n",
       "      <td>5.397728</td>\n",
       "      <td>35.8768</td>\n",
       "      <td>0.954682</td>\n",
       "      <td>52.081898</td>\n",
       "      <td>0.629475</td>\n",
       "      <td>...</td>\n",
       "      <td>-0.242748</td>\n",
       "      <td>-5.199930</td>\n",
       "      <td>-7.226643</td>\n",
       "      <td>11.358878</td>\n",
       "      <td>-1.601901</td>\n",
       "      <td>-3.006095</td>\n",
       "      <td>-5.534851</td>\n",
       "      <td>-5.711497</td>\n",
       "      <td>-5.212984</td>\n",
       "      <td>-9.948047</td>\n",
       "    </tr>\n",
       "  </tbody>\n",
       "</table>\n",
       "<p>14075 rows × 62 columns</p>\n",
       "</div>"
      ],
      "text/plain": [
       "       Unnamed: 0        Date OFTIC       PENDS       MEAN     STDEV      BPS  \\\n",
       "0               0  2011-06-30  AAPL  2011-06-30  17.869831  1.698451   2.6718   \n",
       "1               1  2011-09-30  AAPL  2011-09-30  17.834875  3.131120   2.9872   \n",
       "2               2  2011-12-31  AAPL  2011-12-31  21.771714  3.087308   3.4500   \n",
       "3               3  2012-03-31  AAPL  2012-03-31  26.426070  2.380069   3.9154   \n",
       "4               4  2012-06-30  AAPL  2012-06-30  27.652509  3.109565   4.2582   \n",
       "...           ...         ...   ...         ...        ...       ...      ...   \n",
       "14070       14070  2022-09-30  ZION  2022-09-30  58.423077  5.838994  28.4500   \n",
       "14071       14071  2022-12-31  ZION  2022-12-31  52.444444  8.477723  29.9500   \n",
       "14072       14072  2023-03-31  ZION  2023-03-31  35.441176  4.606920  32.0300   \n",
       "14073       14073  2023-06-30  ZION  2023-06-30  35.980769  4.682907  32.6900   \n",
       "14074       14074  2023-09-30  ZION  2023-09-30  38.724138  5.397728  35.8768   \n",
       "\n",
       "            CPS          CPX       CSH  ...  \\\n",
       "0      0.422900   777.000000  0.209015  ...   \n",
       "1      0.397600  1645.000000  0.258659  ...   \n",
       "2      0.665700  1321.000000  0.249095  ...   \n",
       "3      0.528200  1457.000000  0.153558  ...   \n",
       "4      0.384300  2056.000000  0.204900  ...   \n",
       "...         ...          ...       ...  ...   \n",
       "14070  1.149000    52.000000  0.622359  ...   \n",
       "14071  1.211824    36.000000  0.568366  ...   \n",
       "14072  0.190405    48.919936  0.512905  ...   \n",
       "14073  0.225432    52.265163  0.570109  ...   \n",
       "14074  0.954682    52.081898  0.629475  ...   \n",
       "\n",
       "       commodity_trade_Close_quarterly_return  \\\n",
       "0                                    0.062957   \n",
       "1                                    0.120922   \n",
       "2                                   -0.087046   \n",
       "3                                   -0.191850   \n",
       "4                                    0.484614   \n",
       "...                                       ...   \n",
       "14070                                0.255264   \n",
       "14071                                0.110342   \n",
       "14072                               -0.040221   \n",
       "14073                                0.020449   \n",
       "14074                               -0.242748   \n",
       "\n",
       "       C_Discretionary_Close_quarterly_return  \\\n",
       "0                                    2.970550   \n",
       "1                                  -13.305144   \n",
       "2                                   11.933447   \n",
       "3                                   15.556124   \n",
       "4                                   -2.905304   \n",
       "...                                       ...   \n",
       "14070                                3.615072   \n",
       "14071                               -9.329585   \n",
       "14072                               15.778870   \n",
       "14073                               13.554905   \n",
       "14074                               -5.199930   \n",
       "\n",
       "       C_Staples_Close_quarterly_return  Energy_Close_quarterly_return  \\\n",
       "0                              4.378340                      -5.517243   \n",
       "1                             -5.027217                     -22.349038   \n",
       "2                              9.541476                      18.150742   \n",
       "3                              4.893814                       3.789965   \n",
       "4                              2.024644                      -7.498254   \n",
       "...                                 ...                            ...   \n",
       "14070                         -7.550564                       0.713179   \n",
       "14071                         11.718866                      21.452382   \n",
       "14072                          0.214616                      -5.304675   \n",
       "14073                         -0.722796                      -2.004109   \n",
       "14074                         -7.226643                      11.358878   \n",
       "\n",
       "       Financials_Close_quarterly_return  Health_care_Close_quarterly_return  \\\n",
       "0                              -6.345335                            7.308964   \n",
       "1                             -23.061887                          -10.695185   \n",
       "2                              10.076208                            9.328708   \n",
       "3                              21.538450                            8.417417   \n",
       "4                              -7.341768                            1.063541   \n",
       "...                                  ...                                 ...   \n",
       "14070                          -3.465819                           -5.559891   \n",
       "14071                          12.648222                           12.170758   \n",
       "14072                          -5.994150                           -4.703717   \n",
       "14073                           4.852247                            2.525868   \n",
       "14074                          -1.601901                           -3.006095   \n",
       "\n",
       "       industrials_Close_quarterly_return  information_Close_quarterly_return  \\\n",
       "0                               -1.141483                           -1.381423   \n",
       "1                              -21.535988                           -8.171207   \n",
       "2                               15.503083                            7.838985   \n",
       "3                               10.874069                           18.506872   \n",
       "4                               -4.676644                           -4.741380   \n",
       "...                                   ...                                 ...   \n",
       "14070                           -5.152279                           -6.560733   \n",
       "14071                           18.553843                            4.765115   \n",
       "14072                            3.024133                           21.351649   \n",
       "14073                            6.068392                           15.131453   \n",
       "14074                           -5.534851                           -5.711497   \n",
       "\n",
       "       materials_Close_quarterly_return  utilities_Close_quarterly_return  \n",
       "0                             -1.624192                          5.051769  \n",
       "1                            -25.425447                          0.418158  \n",
       "2                             14.100815                          7.019633  \n",
       "3                             10.358213                         -2.612559  \n",
       "4                             -4.544226                          5.565071  \n",
       "...                                 ...                               ...  \n",
       "14070                         -7.595104                         -6.587759  \n",
       "14071                         14.218494                          7.617154  \n",
       "14072                          3.836256                         -3.985812  \n",
       "14073                          2.739895                         -3.323977  \n",
       "14074                         -5.212984                         -9.948047  \n",
       "\n",
       "[14075 rows x 62 columns]"
      ]
     },
     "execution_count": 3,
     "metadata": {},
     "output_type": "execute_result"
    }
   ],
   "source": [
    "original_data = pd.read_csv(\"../Data/longmerged_deneme_51.csv\")\n",
    "original_data"
   ]
  },
  {
   "cell_type": "code",
   "execution_count": 4,
   "metadata": {},
   "outputs": [
    {
     "data": {
      "text/html": [
       "<div>\n",
       "<style scoped>\n",
       "    .dataframe tbody tr th:only-of-type {\n",
       "        vertical-align: middle;\n",
       "    }\n",
       "\n",
       "    .dataframe tbody tr th {\n",
       "        vertical-align: top;\n",
       "    }\n",
       "\n",
       "    .dataframe thead th {\n",
       "        text-align: right;\n",
       "    }\n",
       "</style>\n",
       "<table border=\"1\" class=\"dataframe\">\n",
       "  <thead>\n",
       "    <tr style=\"text-align: right;\">\n",
       "      <th></th>\n",
       "      <th>Unnamed: 0</th>\n",
       "      <th>Date</th>\n",
       "      <th>OFTIC</th>\n",
       "      <th>PENDS</th>\n",
       "      <th>MEAN</th>\n",
       "      <th>STDEV</th>\n",
       "      <th>BPS</th>\n",
       "      <th>CPS</th>\n",
       "      <th>CPX</th>\n",
       "      <th>CSH</th>\n",
       "      <th>...</th>\n",
       "      <th>commodity_trade_Close_quarterly_return</th>\n",
       "      <th>C_Discretionary_Close_quarterly_return</th>\n",
       "      <th>C_Staples_Close_quarterly_return</th>\n",
       "      <th>Energy_Close_quarterly_return</th>\n",
       "      <th>Financials_Close_quarterly_return</th>\n",
       "      <th>Health_care_Close_quarterly_return</th>\n",
       "      <th>industrials_Close_quarterly_return</th>\n",
       "      <th>information_Close_quarterly_return</th>\n",
       "      <th>materials_Close_quarterly_return</th>\n",
       "      <th>utilities_Close_quarterly_return</th>\n",
       "    </tr>\n",
       "  </thead>\n",
       "  <tbody>\n",
       "    <tr>\n",
       "      <th>50</th>\n",
       "      <td>50</td>\n",
       "      <td>2011-03-31</td>\n",
       "      <td>AFL</td>\n",
       "      <td>2011-03-31</td>\n",
       "      <td>32.454545</td>\n",
       "      <td>2.411081</td>\n",
       "      <td>11.7900</td>\n",
       "      <td>1.392917</td>\n",
       "      <td>0.245076</td>\n",
       "      <td>0.232178</td>\n",
       "      <td>...</td>\n",
       "      <td>-0.785838</td>\n",
       "      <td>-75.742328</td>\n",
       "      <td>-56.517946</td>\n",
       "      <td>-11.771213</td>\n",
       "      <td>-59.860176</td>\n",
       "      <td>-74.281498</td>\n",
       "      <td>-62.842771</td>\n",
       "      <td>-84.102970</td>\n",
       "      <td>-49.051561</td>\n",
       "      <td>-45.918886</td>\n",
       "    </tr>\n",
       "    <tr>\n",
       "      <th>51</th>\n",
       "      <td>51</td>\n",
       "      <td>2011-06-30</td>\n",
       "      <td>AFL</td>\n",
       "      <td>2011-06-30</td>\n",
       "      <td>27.546538</td>\n",
       "      <td>3.568238</td>\n",
       "      <td>12.8250</td>\n",
       "      <td>1.587282</td>\n",
       "      <td>0.259769</td>\n",
       "      <td>0.235599</td>\n",
       "      <td>...</td>\n",
       "      <td>0.062957</td>\n",
       "      <td>2.970550</td>\n",
       "      <td>4.378340</td>\n",
       "      <td>-5.517243</td>\n",
       "      <td>-6.345335</td>\n",
       "      <td>7.308964</td>\n",
       "      <td>-1.141483</td>\n",
       "      <td>-1.381423</td>\n",
       "      <td>-1.624192</td>\n",
       "      <td>5.051769</td>\n",
       "    </tr>\n",
       "    <tr>\n",
       "      <th>52</th>\n",
       "      <td>52</td>\n",
       "      <td>2011-09-30</td>\n",
       "      <td>AFL</td>\n",
       "      <td>2011-09-30</td>\n",
       "      <td>26.911765</td>\n",
       "      <td>2.682322</td>\n",
       "      <td>13.6250</td>\n",
       "      <td>1.763514</td>\n",
       "      <td>0.324273</td>\n",
       "      <td>0.310576</td>\n",
       "      <td>...</td>\n",
       "      <td>0.120922</td>\n",
       "      <td>-13.305144</td>\n",
       "      <td>-5.027217</td>\n",
       "      <td>-22.349038</td>\n",
       "      <td>-23.061887</td>\n",
       "      <td>-10.695185</td>\n",
       "      <td>-21.535988</td>\n",
       "      <td>-8.171207</td>\n",
       "      <td>-25.425447</td>\n",
       "      <td>0.418158</td>\n",
       "    </tr>\n",
       "    <tr>\n",
       "      <th>53</th>\n",
       "      <td>53</td>\n",
       "      <td>2011-12-31</td>\n",
       "      <td>AFL</td>\n",
       "      <td>2011-12-31</td>\n",
       "      <td>27.750000</td>\n",
       "      <td>1.982881</td>\n",
       "      <td>14.4800</td>\n",
       "      <td>1.621515</td>\n",
       "      <td>0.320066</td>\n",
       "      <td>0.322786</td>\n",
       "      <td>...</td>\n",
       "      <td>-0.087046</td>\n",
       "      <td>11.933447</td>\n",
       "      <td>9.541476</td>\n",
       "      <td>18.150742</td>\n",
       "      <td>10.076208</td>\n",
       "      <td>9.328708</td>\n",
       "      <td>15.503083</td>\n",
       "      <td>7.838985</td>\n",
       "      <td>14.100815</td>\n",
       "      <td>7.019633</td>\n",
       "    </tr>\n",
       "    <tr>\n",
       "      <th>54</th>\n",
       "      <td>54</td>\n",
       "      <td>2012-03-31</td>\n",
       "      <td>AFL</td>\n",
       "      <td>2012-03-31</td>\n",
       "      <td>28.115385</td>\n",
       "      <td>2.550767</td>\n",
       "      <td>14.5950</td>\n",
       "      <td>1.660416</td>\n",
       "      <td>0.201505</td>\n",
       "      <td>0.197983</td>\n",
       "      <td>...</td>\n",
       "      <td>-0.191850</td>\n",
       "      <td>15.556124</td>\n",
       "      <td>4.893814</td>\n",
       "      <td>3.789965</td>\n",
       "      <td>21.538450</td>\n",
       "      <td>8.417417</td>\n",
       "      <td>10.874069</td>\n",
       "      <td>18.506872</td>\n",
       "      <td>10.358213</td>\n",
       "      <td>-2.612559</td>\n",
       "    </tr>\n",
       "    <tr>\n",
       "      <th>...</th>\n",
       "      <td>...</td>\n",
       "      <td>...</td>\n",
       "      <td>...</td>\n",
       "      <td>...</td>\n",
       "      <td>...</td>\n",
       "      <td>...</td>\n",
       "      <td>...</td>\n",
       "      <td>...</td>\n",
       "      <td>...</td>\n",
       "      <td>...</td>\n",
       "      <td>...</td>\n",
       "      <td>...</td>\n",
       "      <td>...</td>\n",
       "      <td>...</td>\n",
       "      <td>...</td>\n",
       "      <td>...</td>\n",
       "      <td>...</td>\n",
       "      <td>...</td>\n",
       "      <td>...</td>\n",
       "      <td>...</td>\n",
       "      <td>...</td>\n",
       "    </tr>\n",
       "    <tr>\n",
       "      <th>14070</th>\n",
       "      <td>14070</td>\n",
       "      <td>2022-09-30</td>\n",
       "      <td>ZION</td>\n",
       "      <td>2022-09-30</td>\n",
       "      <td>58.423077</td>\n",
       "      <td>5.838994</td>\n",
       "      <td>28.4500</td>\n",
       "      <td>1.149000</td>\n",
       "      <td>52.000000</td>\n",
       "      <td>0.622359</td>\n",
       "      <td>...</td>\n",
       "      <td>0.255264</td>\n",
       "      <td>3.615072</td>\n",
       "      <td>-7.550564</td>\n",
       "      <td>0.713179</td>\n",
       "      <td>-3.465819</td>\n",
       "      <td>-5.559891</td>\n",
       "      <td>-5.152279</td>\n",
       "      <td>-6.560733</td>\n",
       "      <td>-7.595104</td>\n",
       "      <td>-6.587759</td>\n",
       "    </tr>\n",
       "    <tr>\n",
       "      <th>14071</th>\n",
       "      <td>14071</td>\n",
       "      <td>2022-12-31</td>\n",
       "      <td>ZION</td>\n",
       "      <td>2022-12-31</td>\n",
       "      <td>52.444444</td>\n",
       "      <td>8.477723</td>\n",
       "      <td>29.9500</td>\n",
       "      <td>1.211824</td>\n",
       "      <td>36.000000</td>\n",
       "      <td>0.568366</td>\n",
       "      <td>...</td>\n",
       "      <td>0.110342</td>\n",
       "      <td>-9.329585</td>\n",
       "      <td>11.718866</td>\n",
       "      <td>21.452382</td>\n",
       "      <td>12.648222</td>\n",
       "      <td>12.170758</td>\n",
       "      <td>18.553843</td>\n",
       "      <td>4.765115</td>\n",
       "      <td>14.218494</td>\n",
       "      <td>7.617154</td>\n",
       "    </tr>\n",
       "    <tr>\n",
       "      <th>14072</th>\n",
       "      <td>14072</td>\n",
       "      <td>2023-03-31</td>\n",
       "      <td>ZION</td>\n",
       "      <td>2023-03-31</td>\n",
       "      <td>35.441176</td>\n",
       "      <td>4.606920</td>\n",
       "      <td>32.0300</td>\n",
       "      <td>0.190405</td>\n",
       "      <td>48.919936</td>\n",
       "      <td>0.512905</td>\n",
       "      <td>...</td>\n",
       "      <td>-0.040221</td>\n",
       "      <td>15.778870</td>\n",
       "      <td>0.214616</td>\n",
       "      <td>-5.304675</td>\n",
       "      <td>-5.994150</td>\n",
       "      <td>-4.703717</td>\n",
       "      <td>3.024133</td>\n",
       "      <td>21.351649</td>\n",
       "      <td>3.836256</td>\n",
       "      <td>-3.985812</td>\n",
       "    </tr>\n",
       "    <tr>\n",
       "      <th>14073</th>\n",
       "      <td>14073</td>\n",
       "      <td>2023-06-30</td>\n",
       "      <td>ZION</td>\n",
       "      <td>2023-06-30</td>\n",
       "      <td>35.980769</td>\n",
       "      <td>4.682907</td>\n",
       "      <td>32.6900</td>\n",
       "      <td>0.225432</td>\n",
       "      <td>52.265163</td>\n",
       "      <td>0.570109</td>\n",
       "      <td>...</td>\n",
       "      <td>0.020449</td>\n",
       "      <td>13.554905</td>\n",
       "      <td>-0.722796</td>\n",
       "      <td>-2.004109</td>\n",
       "      <td>4.852247</td>\n",
       "      <td>2.525868</td>\n",
       "      <td>6.068392</td>\n",
       "      <td>15.131453</td>\n",
       "      <td>2.739895</td>\n",
       "      <td>-3.323977</td>\n",
       "    </tr>\n",
       "    <tr>\n",
       "      <th>14074</th>\n",
       "      <td>14074</td>\n",
       "      <td>2023-09-30</td>\n",
       "      <td>ZION</td>\n",
       "      <td>2023-09-30</td>\n",
       "      <td>38.724138</td>\n",
       "      <td>5.397728</td>\n",
       "      <td>35.8768</td>\n",
       "      <td>0.954682</td>\n",
       "      <td>52.081898</td>\n",
       "      <td>0.629475</td>\n",
       "      <td>...</td>\n",
       "      <td>-0.242748</td>\n",
       "      <td>-5.199930</td>\n",
       "      <td>-7.226643</td>\n",
       "      <td>11.358878</td>\n",
       "      <td>-1.601901</td>\n",
       "      <td>-3.006095</td>\n",
       "      <td>-5.534851</td>\n",
       "      <td>-5.711497</td>\n",
       "      <td>-5.212984</td>\n",
       "      <td>-9.948047</td>\n",
       "    </tr>\n",
       "  </tbody>\n",
       "</table>\n",
       "<p>1938 rows × 62 columns</p>\n",
       "</div>"
      ],
      "text/plain": [
       "       Unnamed: 0        Date OFTIC       PENDS       MEAN     STDEV      BPS  \\\n",
       "50             50  2011-03-31   AFL  2011-03-31  32.454545  2.411081  11.7900   \n",
       "51             51  2011-06-30   AFL  2011-06-30  27.546538  3.568238  12.8250   \n",
       "52             52  2011-09-30   AFL  2011-09-30  26.911765  2.682322  13.6250   \n",
       "53             53  2011-12-31   AFL  2011-12-31  27.750000  1.982881  14.4800   \n",
       "54             54  2012-03-31   AFL  2012-03-31  28.115385  2.550767  14.5950   \n",
       "...           ...         ...   ...         ...        ...       ...      ...   \n",
       "14070       14070  2022-09-30  ZION  2022-09-30  58.423077  5.838994  28.4500   \n",
       "14071       14071  2022-12-31  ZION  2022-12-31  52.444444  8.477723  29.9500   \n",
       "14072       14072  2023-03-31  ZION  2023-03-31  35.441176  4.606920  32.0300   \n",
       "14073       14073  2023-06-30  ZION  2023-06-30  35.980769  4.682907  32.6900   \n",
       "14074       14074  2023-09-30  ZION  2023-09-30  38.724138  5.397728  35.8768   \n",
       "\n",
       "            CPS        CPX       CSH  ...  \\\n",
       "50     1.392917   0.245076  0.232178  ...   \n",
       "51     1.587282   0.259769  0.235599  ...   \n",
       "52     1.763514   0.324273  0.310576  ...   \n",
       "53     1.621515   0.320066  0.322786  ...   \n",
       "54     1.660416   0.201505  0.197983  ...   \n",
       "...         ...        ...       ...  ...   \n",
       "14070  1.149000  52.000000  0.622359  ...   \n",
       "14071  1.211824  36.000000  0.568366  ...   \n",
       "14072  0.190405  48.919936  0.512905  ...   \n",
       "14073  0.225432  52.265163  0.570109  ...   \n",
       "14074  0.954682  52.081898  0.629475  ...   \n",
       "\n",
       "       commodity_trade_Close_quarterly_return  \\\n",
       "50                                  -0.785838   \n",
       "51                                   0.062957   \n",
       "52                                   0.120922   \n",
       "53                                  -0.087046   \n",
       "54                                  -0.191850   \n",
       "...                                       ...   \n",
       "14070                                0.255264   \n",
       "14071                                0.110342   \n",
       "14072                               -0.040221   \n",
       "14073                                0.020449   \n",
       "14074                               -0.242748   \n",
       "\n",
       "       C_Discretionary_Close_quarterly_return  \\\n",
       "50                                 -75.742328   \n",
       "51                                   2.970550   \n",
       "52                                 -13.305144   \n",
       "53                                  11.933447   \n",
       "54                                  15.556124   \n",
       "...                                       ...   \n",
       "14070                                3.615072   \n",
       "14071                               -9.329585   \n",
       "14072                               15.778870   \n",
       "14073                               13.554905   \n",
       "14074                               -5.199930   \n",
       "\n",
       "       C_Staples_Close_quarterly_return  Energy_Close_quarterly_return  \\\n",
       "50                           -56.517946                     -11.771213   \n",
       "51                             4.378340                      -5.517243   \n",
       "52                            -5.027217                     -22.349038   \n",
       "53                             9.541476                      18.150742   \n",
       "54                             4.893814                       3.789965   \n",
       "...                                 ...                            ...   \n",
       "14070                         -7.550564                       0.713179   \n",
       "14071                         11.718866                      21.452382   \n",
       "14072                          0.214616                      -5.304675   \n",
       "14073                         -0.722796                      -2.004109   \n",
       "14074                         -7.226643                      11.358878   \n",
       "\n",
       "       Financials_Close_quarterly_return  Health_care_Close_quarterly_return  \\\n",
       "50                            -59.860176                          -74.281498   \n",
       "51                             -6.345335                            7.308964   \n",
       "52                            -23.061887                          -10.695185   \n",
       "53                             10.076208                            9.328708   \n",
       "54                             21.538450                            8.417417   \n",
       "...                                  ...                                 ...   \n",
       "14070                          -3.465819                           -5.559891   \n",
       "14071                          12.648222                           12.170758   \n",
       "14072                          -5.994150                           -4.703717   \n",
       "14073                           4.852247                            2.525868   \n",
       "14074                          -1.601901                           -3.006095   \n",
       "\n",
       "       industrials_Close_quarterly_return  information_Close_quarterly_return  \\\n",
       "50                             -62.842771                          -84.102970   \n",
       "51                              -1.141483                           -1.381423   \n",
       "52                             -21.535988                           -8.171207   \n",
       "53                              15.503083                            7.838985   \n",
       "54                              10.874069                           18.506872   \n",
       "...                                   ...                                 ...   \n",
       "14070                           -5.152279                           -6.560733   \n",
       "14071                           18.553843                            4.765115   \n",
       "14072                            3.024133                           21.351649   \n",
       "14073                            6.068392                           15.131453   \n",
       "14074                           -5.534851                           -5.711497   \n",
       "\n",
       "       materials_Close_quarterly_return  utilities_Close_quarterly_return  \n",
       "50                           -49.051561                        -45.918886  \n",
       "51                            -1.624192                          5.051769  \n",
       "52                           -25.425447                          0.418158  \n",
       "53                            14.100815                          7.019633  \n",
       "54                            10.358213                         -2.612559  \n",
       "...                                 ...                               ...  \n",
       "14070                         -7.595104                         -6.587759  \n",
       "14071                         14.218494                          7.617154  \n",
       "14072                          3.836256                         -3.985812  \n",
       "14073                          2.739895                         -3.323977  \n",
       "14074                         -5.212984                         -9.948047  \n",
       "\n",
       "[1938 rows x 62 columns]"
      ]
     },
     "execution_count": 4,
     "metadata": {},
     "output_type": "execute_result"
    }
   ],
   "source": [
    "original_data.columns\n",
    "original_data = original_data[original_data[\"Sector\"] == \"Financials\"]\n",
    "original_data"
   ]
  },
  {
   "cell_type": "code",
   "execution_count": 5,
   "metadata": {},
   "outputs": [
    {
     "data": {
      "text/plain": [
       "array(['AFL', 'AFL', 'AFL', ..., 'ZION', 'ZION', 'ZION'], dtype=object)"
      ]
     },
     "execution_count": 5,
     "metadata": {},
     "output_type": "execute_result"
    }
   ],
   "source": [
    "finance_ticker = original_data[\"OFTIC\"].values\n",
    "finance_ticker"
   ]
  },
  {
   "cell_type": "code",
   "execution_count": 6,
   "metadata": {},
   "outputs": [],
   "source": [
    "# def split_text_into_segments(text, max_words=300):\n",
    "#     text = re.sub(r'\\s+', ' ', text).lower() \n",
    "#     sentences = text.split('.')\n",
    "#     segments = []\n",
    "#     current_segment = []\n",
    "#     word_count = 0\n",
    "#     for sentence in sentences:\n",
    "#         words = sentence.split()\n",
    "#         if word_count + len(words) <= max_words:\n",
    "#             current_segment.append(sentence)\n",
    "#             word_count += len(words)\n",
    "#         else:\n",
    "#             segments.append('. '.join(current_segment) + '.')\n",
    "#             current_segment = [sentence]\n",
    "#             word_count = len(words)\n",
    "#     if current_segment:\n",
    "#         segments.append('. '.join(current_segment) + '.')\n",
    "#     return segments"
   ]
  },
  {
   "cell_type": "code",
   "execution_count": 7,
   "metadata": {},
   "outputs": [],
   "source": [
    "\n",
    "# tokenizer = BertTokenizer.from_pretrained(\"yiyanghkust/finbert-tone\")\n",
    "\n",
    "# def split_text_into_segments(text, max_tokens=512):\n",
    "#     max_tokens -= 2  # Adjust for [CLS] and [SEP] tokens\n",
    "\n",
    "#     sentences = sent_tokenize(text.lower())\n",
    "#     segments = []\n",
    "#     current_segment = []\n",
    "#     token_count = 0\n",
    "\n",
    "#     for sentence in sentences:\n",
    "#         tokens = tokenizer.tokenize(sentence)\n",
    "#         if token_count + len(tokens) <= max_tokens:\n",
    "#             current_segment.extend(tokens)\n",
    "#             token_count += len(tokens)\n",
    "#         else:\n",
    "#             segments.append(tokenizer.convert_tokens_to_string(current_segment))\n",
    "#             current_segment = tokens\n",
    "#             token_count = len(tokens)\n",
    "\n",
    "#     if current_segment:\n",
    "#         segments.append(tokenizer.convert_tokens_to_string(current_segment))\n",
    "\n",
    "#     return segments\n",
    "\n",
    "# # Example usage\n",
    "# text = \"This is a sample text. It contains multiple sentences. Each sentence is separated by a period.\"\n",
    "# segments = split_text_into_segments(text, max_tokens=15)\n",
    "# print(segments)\n"
   ]
  },
  {
   "cell_type": "code",
   "execution_count": 8,
   "metadata": {},
   "outputs": [
    {
     "name": "stdout",
     "output_type": "stream",
     "text": [
      "['three months ended march 31 , percent change at actual currency rates at constant currency rates ( dollars in millions ) 2023 2022 united states $ 9 , 201 $ 10 , 348 ( 11 . 1 ) % ( 11 . 1 ) %']\n"
     ]
    }
   ],
   "source": [
    "# Load tokenizer\n",
    "tokenizer = BertTokenizer.from_pretrained(\"yiyanghkust/finbert-tone\")\n",
    "\n",
    "def custom_split_text(text, max_length=508):\n",
    "    max_length -= 2  # Reserve space for special tokens like [CLS] and [SEP]\n",
    "\n",
    "    # Tokenize text into sentences\n",
    "    sentences = sent_tokenize(text)\n",
    "    segments = []\n",
    "    current_segment = []\n",
    "    current_length = 0\n",
    "\n",
    "    # Process each sentence\n",
    "    for sentence in sentences:\n",
    "        tokens = tokenizer.tokenize(sentence)\n",
    "        sentence_length = len(tokens)\n",
    "\n",
    "        if current_length + sentence_length > max_length:\n",
    "            # If the current segment plus new tokens exceeds max_length, start a new segment\n",
    "            if current_segment:\n",
    "                segments.append(tokenizer.convert_tokens_to_string(current_segment))\n",
    "                current_segment = []\n",
    "                current_length = 0\n",
    "\n",
    "            # If the sentence itself exceeds max_length, split it directly\n",
    "            if sentence_length > max_length:\n",
    "                for i in range(0, sentence_length, max_length):\n",
    "                    segments.append(tokenizer.convert_tokens_to_string(tokens[i:i + max_length]))\n",
    "            else:\n",
    "                # Otherwise, start the new segment with the current sentence\n",
    "                current_segment = tokens\n",
    "                current_length = sentence_length\n",
    "        else:\n",
    "            # Add tokens to the current segment\n",
    "            current_segment.extend(tokens)\n",
    "            current_length += sentence_length\n",
    "\n",
    "    # Append the last segment if it exists\n",
    "    if current_segment:\n",
    "        segments.append(tokenizer.convert_tokens_to_string(current_segment))\n",
    "\n",
    "    return segments\n",
    "\n",
    "# Example usage\n",
    "text = \"\"\"Three months ended March 31, percent change at actual currency rates at constant currency rates (dollars in millions) 2023 2022 United States $9,201 $10,348 (11.1)% (11.1)%\"\"\"\n",
    "segments = custom_split_text(text)\n",
    "print(segments)\n"
   ]
  },
  {
   "cell_type": "code",
   "execution_count": 9,
   "metadata": {},
   "outputs": [
    {
     "data": {
      "text/plain": [
       "[\"once upon a time , in a land far , far away , there was a kingdom surrounded by towering mountains and deep , mystical forests . the kingdom was ruled by a wise and benevolent king who had three children . each of his children was unique in their own way , and the king loved them all dearly . the eldest child , prince alexander , was a brave warrior who led the kingdom ' s armies with honor and courage . the second child , princess isabella , was known throughout the land for her beauty and her skill in the arts . she painted the most beautiful landscapes and composed music that could move anyone to tears . the youngest child , prince edward , was a scholar who spent his days in the grand library , studying the ancient texts and seeking knowledge about the world beyond their kingdom . one day , a mysterious traveler arrived at the kingdom ' s gates . he brought with him tales of strange lands and magical creatures . the traveler spoke of a distant realm where the trees were made of silver and the rivers flowed with liquid gold . intrigued by these stories , the king invited the traveler to stay in the castle and share more of his adventures . as the days passed , the king ' s children grew more and more fascinated by the traveler ' s tales . prince alexander dreamed of embarking on a grand quest , princess isabella imagined painting the wondrous landscapes the traveler described , and prince edward longed to uncover the secrets of the distant realm ' s ancient knowledge . one evening , as the sun set behind the mountains , the traveler revealed that he possessed a magical map . this map , he claimed , could guide them to the realm of silver trees and golden rivers . the king , seeing the excitement in his children ' s eyes , decided to allow them to embark on this adventure . he believed it would be a journey that would help them grow and learn . with the traveler ' s guidance , the three siblings set out on their quest . they faced many challenges along the way . they crossed treacherous mountains , navigated dense forests , and sailed across vast oceans .\",\n",
       " \"along their journey , they encountered mythical creatures and faced perilous trials that tested their courage , wisdom , and perseverance . despite the hardships , the siblings ' bond grew stronger , and they learned valuable lessons about themselves and each other . finally , after many months of travel , they reached the realm described by the traveler . it was even more beautiful and enchanting than they had imagined . the trees sparkled like diamonds , and the rivers shimmered like molten gold . the air was filled with the sweet scent of blossoms , and the sound of birdsong echoed through the valleys . the three siblings spent time exploring this magical land , each finding what they had been searching for . prince alexander discovered a new purpose as he helped protect the realm from dark forces . princess isabella found endless inspiration for her art , creating masterpieces that captured the essence of the land ' s beauty . prince edward unearthed ancient scrolls and knowledge that expanded his understanding of the world and its mysteries . when the time came to return to their own kingdom , they did so with heavy hearts but a wealth of new experiences and wisdom . they had grown not only as individuals but also as a family . the king welcomed them back with open arms , proud of their accomplishments and the people they had become . the kingdom thrived under their leadership , and the stories of their adventure were passed down through generations , inspiring countless others to seek out their own paths and embrace the unknown . and so , the tale of the brave siblings and their journey to the magical realm became legend , a testament to the power of curiosity , bravery , and the bonds of family .\"]"
      ]
     },
     "execution_count": 9,
     "metadata": {},
     "output_type": "execute_result"
    }
   ],
   "source": [
    "# tokenizer = BertTokenizer.from_pretrained(\"yiyanghkust/finbert-tone\")\n",
    "\n",
    "# def custom_split_text(text, max_length=508):\n",
    "#     # Reserve space for special tokens\n",
    "#     max_length -= 2\n",
    "\n",
    "#     # Tokenize text into sentences\n",
    "#     sentences = sent_tokenize(text)\n",
    "#     segments = []\n",
    "\n",
    "#     # Process each sentence\n",
    "#     for sentence in sentences:\n",
    "#         tokens = tokenizer.tokenize(sentence)\n",
    "#         sentence_length = len(tokens)\n",
    "        \n",
    "#         if sentence_length > max_length:\n",
    "#             # Split long sentence into chunks that fit into max_length\n",
    "#             for i in range(0, sentence_length, max_length):\n",
    "#                 segments.append(tokenizer.convert_tokens_to_string(tokens[i:i + max_length]))\n",
    "#         else:\n",
    "#             # Add the sentence as a segment\n",
    "#             segments.append(tokenizer.convert_tokens_to_string(tokens))\n",
    "\n",
    "#     return segments\n",
    "\n",
    "# Example usage:\n",
    "text = (\n",
    "    \"Once upon a time, in a land far, far away, there was a kingdom surrounded by towering mountains and deep, mystical forests. \"\n",
    "    \"The kingdom was ruled by a wise and benevolent king who had three children. Each of his children was unique in their own way, \"\n",
    "    \"and the king loved them all dearly. The eldest child, Prince Alexander, was a brave warrior who led the kingdom's armies with honor \"\n",
    "    \"and courage. The second child, Princess Isabella, was known throughout the land for her beauty and her skill in the arts. She painted \"\n",
    "    \"the most beautiful landscapes and composed music that could move anyone to tears. The youngest child, Prince Edward, was a scholar \"\n",
    "    \"who spent his days in the grand library, studying the ancient texts and seeking knowledge about the world beyond their kingdom. \"\n",
    "    \"One day, a mysterious traveler arrived at the kingdom's gates. He brought with him tales of strange lands and magical creatures. \"\n",
    "    \"The traveler spoke of a distant realm where the trees were made of silver and the rivers flowed with liquid gold. Intrigued by these \"\n",
    "    \"stories, the king invited the traveler to stay in the castle and share more of his adventures. As the days passed, the king's children \"\n",
    "    \"grew more and more fascinated by the traveler's tales. Prince Alexander dreamed of embarking on a grand quest, Princess Isabella imagined \"\n",
    "    \"painting the wondrous landscapes the traveler described, and Prince Edward longed to uncover the secrets of the distant realm's ancient \"\n",
    "    \"knowledge. One evening, as the sun set behind the mountains, the traveler revealed that he possessed a magical map. This map, he claimed, \"\n",
    "    \"could guide them to the realm of silver trees and golden rivers. The king, seeing the excitement in his children's eyes, decided to allow \"\n",
    "    \"them to embark on this adventure. He believed it would be a journey that would help them grow and learn. With the traveler's guidance, the \"\n",
    "    \"three siblings set out on their quest. They faced many challenges along the way. They crossed treacherous mountains, navigated dense forests, \"\n",
    "    \"and sailed across vast oceans. Along their journey, they encountered mythical creatures and faced perilous trials that tested their courage, \"\n",
    "    \"wisdom, and perseverance. Despite the hardships, the siblings' bond grew stronger, and they learned valuable lessons about themselves and each \"\n",
    "    \"other. Finally, after many months of travel, they reached the realm described by the traveler. It was even more beautiful and enchanting than \"\n",
    "    \"they had imagined. The trees sparkled like diamonds, and the rivers shimmered like molten gold. The air was filled with the sweet scent of \"\n",
    "    \"blossoms, and the sound of birdsong echoed through the valleys. The three siblings spent time exploring this magical land, each finding what \"\n",
    "    \"they had been searching for. Prince Alexander discovered a new purpose as he helped protect the realm from dark forces. Princess Isabella found \"\n",
    "    \"endless inspiration for her art, creating masterpieces that captured the essence of the land's beauty. Prince Edward unearthed ancient scrolls \"\n",
    "    \"and knowledge that expanded his understanding of the world and its mysteries. When the time came to return to their own kingdom, they did so \"\n",
    "    \"with heavy hearts but a wealth of new experiences and wisdom. They had grown not only as individuals but also as a family. The king welcomed \"\n",
    "    \"them back with open arms, proud of their accomplishments and the people they had become. The kingdom thrived under their leadership, and the \"\n",
    "    \"stories of their adventure were passed down through generations, inspiring countless others to seek out their own paths and embrace the unknown. \"\n",
    "    \"And so, the tale of the brave siblings and their journey to the magical realm became legend, a testament to the power of curiosity, bravery, \"\n",
    "    \"and the bonds of family.\"\n",
    ")\n",
    "segments = custom_split_text(text)\n",
    "segments"
   ]
  },
  {
   "cell_type": "code",
   "execution_count": 10,
   "metadata": {},
   "outputs": [],
   "source": [
    "# # Read the file and split the text by empty lines\n",
    "# with open('../Data/Sec_Edgar_data/ABBV/2023-12-31.txt', 'r', encoding='utf-8') as file:\n",
    "#     text = file.read()\n",
    "\n",
    "# segments = custom_split_text(text)\n",
    "\n",
    "# df = pd.DataFrame(segments, columns=['Segments'])\n",
    "\n",
    "# df\n"
   ]
  },
  {
   "cell_type": "code",
   "execution_count": 11,
   "metadata": {},
   "outputs": [],
   "source": [
    "# display(df.iloc[[4]])\n"
   ]
  },
  {
   "cell_type": "code",
   "execution_count": 12,
   "metadata": {},
   "outputs": [
    {
     "data": {
      "text/plain": [
       "array(['abandon', 'abandoned', 'abandoning', ..., 'yearend', 'yearends',\n",
       "       'zeolite'], dtype=object)"
      ]
     },
     "execution_count": 12,
     "metadata": {},
     "output_type": "execute_result"
    }
   ],
   "source": [
    "sec_dict.values"
   ]
  },
  {
   "cell_type": "code",
   "execution_count": 13,
   "metadata": {},
   "outputs": [
    {
     "name": "stdout",
     "output_type": "stream",
     "text": [
      "able\n",
      "accomplish\n",
      "accomplishment\n",
      "accomplishments\n",
      "beautiful\n",
      "bling\n",
      "challenge\n",
      "challenges\n",
      "dream\n",
      "excitement\n",
      "force\n",
      "hardship\n",
      "hardships\n",
      "honor\n",
      "ill\n",
      "inspiration\n",
      "leadership\n",
      "lie\n",
      "loss\n",
      "peril\n",
      "que\n",
      "sec\n",
      "sever\n",
      "strong\n",
      "stronger\n",
      "uncover\n",
      "valuable\n"
     ]
    }
   ],
   "source": [
    "for word in sec_dict:\n",
    "    word_str = str(word)\n",
    "    if word_str in text:\n",
    "        print(word)"
   ]
  },
  {
   "cell_type": "code",
   "execution_count": 14,
   "metadata": {},
   "outputs": [],
   "source": [
    "# # Calculate word count for each feature\n",
    "# word_counts = df.apply(lambda x: x.str.split().str.len())\n",
    "\n",
    "# # Find the maximum word count across all features\n",
    "# max_word_count = word_counts.max().max()\n",
    "\n",
    "# print(\"Word counts for each feature:\")\n",
    "# print(word_counts)\n",
    "# print(\"\\nMaximum word count across all features:\", max_word_count)\n"
   ]
  },
  {
   "cell_type": "code",
   "execution_count": 15,
   "metadata": {},
   "outputs": [
    {
     "name": "stderr",
     "output_type": "stream",
     "text": [
      "/home/arda/anaconda3/lib/python3.11/site-packages/torch/_utils.py:831: UserWarning: TypedStorage is deprecated. It will be removed in the future and UntypedStorage will be the only storage class. This should only matter to you if you are using storages directly.  To access UntypedStorage directly, use tensor.untyped_storage() instead of tensor.storage()\n",
      "  return self.fget.__get__(instance, owner)()\n"
     ]
    }
   ],
   "source": [
    "model = BertForSequenceClassification.from_pretrained(\"yiyanghkust/finbert-tone\",num_labels=3)"
   ]
  },
  {
   "cell_type": "code",
   "execution_count": 16,
   "metadata": {},
   "outputs": [],
   "source": [
    "# preds = []\n",
    "# preds_proba = []\n",
    "# embeddings = []\n",
    "\n",
    "# tokenizer_kwargs = {\"padding\": 'max_length', \"return_tensors\": \"pt\", \"max_length\": 512}\n",
    "\n",
    "# column = 'Segments'\n",
    "\n",
    "# for i in range(len(df)):\n",
    "#     text_content = df[column].iloc[i]\n",
    "    \n",
    "#     with torch.no_grad():\n",
    "#         input_sequence = tokenizer(text_content, **tokenizer_kwargs)\n",
    "        \n",
    "#         logits = model(**input_sequence).logits\n",
    "        \n",
    "#         scores = {\n",
    "#             k: v\n",
    "#             for k, v in zip(\n",
    "#                 model.config.id2label.values(),\n",
    "#                 scipy.special.softmax(logits.numpy().squeeze()),\n",
    "#             )\n",
    "#         }\n",
    "        \n",
    "#         sentimentFinbert = max(scores, key=scores.get)\n",
    "#         probabilityFinbert = max(scores.values())\n",
    "        \n",
    "#         preds.append(sentimentFinbert)\n",
    "#         preds_proba.append(probabilityFinbert)\n",
    "\n",
    "# df['Predicted Sentiment'] = preds\n",
    "# df['Probability'] = preds_proba\n",
    "\n",
    "# df"
   ]
  },
  {
   "cell_type": "code",
   "execution_count": 17,
   "metadata": {},
   "outputs": [],
   "source": [
    "# preds = []\n",
    "# preds_proba = []\n",
    "# embeddings = []\n",
    "# filtered_embeddings = {}\n",
    "# num_of_words = []\n",
    "# segment = []\n",
    "\n",
    "# tokenizer_kwargs = {\"padding\": 'max_length', \"return_tensors\": \"pt\", \"max_length\": 512}\n",
    "\n",
    "# column = 'Segments'\n",
    "\n",
    "# stemmer = SnowballStemmer(\"english\")\n",
    "# stemmed_sec_dict = {stemmer.stem(word): word for word in sec_dict}\n",
    "\n",
    "# for i in range(len(df)):\n",
    "#     text_content = df[column].iloc[i]\n",
    "    \n",
    "#     with torch.no_grad():\n",
    "#         input_sequence = tokenizer(text_content, **tokenizer_kwargs)\n",
    "        \n",
    "#         outputs = model(**input_sequence, output_hidden_states=True)\n",
    "#         hidden_states = outputs.hidden_states\n",
    "\n",
    "#         logits = outputs.logits\n",
    "#         probabilities = scipy.special.softmax(logits.numpy().squeeze(), axis=0)\n",
    "#         sentiment = model.config.id2label[probabilities.argmax()]\n",
    "\n",
    "#         if (sentiment != \"Neutral\"):\n",
    "\n",
    "#             preds.append(sentiment)\n",
    "#             preds_proba.append(probabilities.max())\n",
    "            \n",
    "#             last_layer_embeddings = hidden_states[-1].numpy().squeeze()\n",
    "#             print(last_layer_embeddings.shape)\n",
    "\n",
    "#             token_ids = input_sequence[\"input_ids\"].squeeze()\n",
    "#             tokens = tokenizer.convert_ids_to_tokens(token_ids)\n",
    "#             token_embeddings = {token: embedding for token, embedding in zip(tokens, last_layer_embeddings)}\n",
    "\n",
    "#             segments_embeddings = []\n",
    "#             finded_words = 0\n",
    "#             for token, embedding in token_embeddings.items():\n",
    "#                 stemmed_token = stemmer.stem(token)\n",
    "\n",
    "#                 if stemmed_token in stemmed_sec_dict:\n",
    "#                     original_word = stemmed_sec_dict[stemmed_token]\n",
    "#                     filtered_embeddings[original_word] = embedding\n",
    "#                     segments_embeddings.append(embedding)\n",
    "#                     finded_words += 1\n",
    "\n",
    "#             segments_embeddings = np.array(segments_embeddings)\n",
    "\n",
    "#             if segments_embeddings.size == 0 or np.isnan(segments_embeddings).all():\n",
    "#                 mean_embeddings = np.zeros(last_layer_embeddings.shape[1]) \n",
    "#             else:\n",
    "#                 mean_embeddings = np.nanmean(segments_embeddings, axis=0)\n",
    "\n",
    "#             embeddings.append(mean_embeddings)\n",
    "#             num_of_words.append(finded_words)\n",
    "#             segment.append(text_content)\n",
    "\n",
    "# df_new = pd.DataFrame(segment, columns=['Segments'])\n",
    "# df_new['Embeddings'] = embeddings\n",
    "# df_new[\"Finded Words\"] = num_of_words\n",
    "# df_new['Predicted Sentiment'] = preds\n",
    "# df_new['Probability'] = preds_proba\n",
    "# df_new\n"
   ]
  },
  {
   "cell_type": "code",
   "execution_count": 18,
   "metadata": {},
   "outputs": [],
   "source": [
    "# # Frequency of each sentiment\n",
    "# sentiment_counts = df['Predicted Sentiment'].value_counts()\n",
    "# print(\"Frequency of each sentiment:\")\n",
    "# print(sentiment_counts)\n",
    "\n",
    "# # Proportion of each sentiment\n",
    "# sentiment_proportions = df['Predicted Sentiment'].value_counts(normalize=True)\n",
    "# print(\"\\nProportion of each sentiment:\")\n",
    "# print(sentiment_proportions)\n",
    "\n",
    "# # Average probability for the predictions\n",
    "# average_probability = df['Probability'].mean()\n",
    "# print(\"\\nAverage confidence in predictions:\")\n",
    "# print(f\"{average_probability:.2%}\")\n",
    "\n",
    "# # Assuming embeddings are stored in a list of numpy arrays\n",
    "# all_embeddings = np.vstack(df['Embeddings'])  # Stack embeddings vertically\n",
    "\n",
    "# # Calculate mean and standard deviation\n",
    "# mean_embeddings = np.mean(all_embeddings, axis=0)\n",
    "# std_embeddings = np.std(all_embeddings, axis=0)\n",
    "\n",
    "# print(\"\\nMean of embeddings:\")\n",
    "# print(mean_embeddings)\n",
    "\n",
    "# print(\"\\nStandard deviation of embeddings:\")\n",
    "# print(std_embeddings)\n",
    "\n",
    "# # Assuming the rest of your code has populated `df` correctly as shown in previous messages\n",
    "# print(\"Final DataFrame:\")\n",
    "# print(df)\n",
    "\n",
    "# # Analyze predictions and embeddings\n",
    "# print(\"Frequency of each sentiment:\")\n",
    "# print(df['Predicted Sentiment'].value_counts())\n",
    "\n",
    "# print(\"\\nProportion of each sentiment:\")\n",
    "# print(df['Predicted Sentiment'].value_counts(normalize=True))\n",
    "\n",
    "# print(\"\\nAverage confidence in predictions:\")\n",
    "# print(f\"{df['Probability'].mean():.2%}\")\n",
    "\n",
    "# # For embeddings, assuming they are list of numpy arrays\n",
    "# if df['Embeddings'].apply(len).sum() > 0:  # Check if there are any embeddings\n",
    "#     all_embeddings = np.vstack(df['Embeddings'])\n",
    "#     print(\"\\nMean of embeddings:\")\n",
    "#     print(np.mean(all_embeddings, axis=0))\n",
    "#     print(\"\\nStandard deviation of embeddings:\")\n",
    "#     print(np.std(all_embeddings, axis=0))\n",
    "# else:\n",
    "#     print(\"\\nNo embeddings available for analysis.\")\n"
   ]
  },
  {
   "cell_type": "code",
   "execution_count": 19,
   "metadata": {},
   "outputs": [],
   "source": [
    "# preds = []\n",
    "# preds_proba = []\n",
    "# embeddings = []\n",
    "# filtered_embeddings = {}\n",
    "# num_of_words = []\n",
    "\n",
    "# tokenizer_kwargs = {\"padding\": 'max_length', \"return_tensors\": \"pt\", \"max_length\": 512}\n",
    "\n",
    "# column = 'Segments'\n",
    "\n",
    "# stemmer = SnowballStemmer(\"english\")\n",
    "# stemmed_sec_dict = {stemmer.stem(word): word for word in sec_dict}\n",
    "\n",
    "# for i in range(len(df)):\n",
    "#     text_content = df[column].iloc[i]\n",
    "    \n",
    "#     with torch.no_grad():\n",
    "#         input_sequence = tokenizer(text_content, **tokenizer_kwargs)\n",
    "        \n",
    "#         # Assuming your model outputs logits as the first element of the output tuple\n",
    "#         outputs = model(**input_sequence)\n",
    "#         logits = outputs.logits  # Extract logits\n",
    "#         preds.append(torch.argmax(logits, dim=-1).item())  # Append predicted class\n",
    "#         preds_proba.append(torch.softmax(logits, dim=-1).squeeze().tolist())  # Append probabilities\n",
    "\n",
    "#         hidden_states = outputs.hidden_states\n",
    "#         last_layer_embeddings = hidden_states[-1].numpy().squeeze()\n",
    "\n",
    "#         token_ids = input_sequence[\"input_ids\"].squeeze()\n",
    "#         tokens = tokenizer.convert_ids_to_tokens(token_ids)\n",
    "#         token_embeddings = {token: embedding for token, embedding in zip(tokens, last_layer_embeddings)}\n",
    "\n",
    "#         segments_embeddings = []\n",
    "#         finded_words = 0\n",
    "#         for token, embedding in token_embeddings.items():\n",
    "#             stemmed_token = stemmer.stem(token)\n",
    "\n",
    "#             if stemmed_token in stemmed_sec_dict:\n",
    "#                 original_word = stemmed_sec_dict[stemmed_token]\n",
    "#                 filtered_embeddings[original_word] = embedding\n",
    "#                 segments_embeddings.append(embedding)\n",
    "#                 finded_words += 1\n",
    "\n",
    "#         segments_embeddings = np.array(segments_embeddings)\n",
    "\n",
    "#         if segments_embeddings.size == 0 or np.isnan(segments_embeddings).all():\n",
    "#             mean_embeddings = np.zeros(last_layer_embeddings.shape[1]) \n",
    "#         else:\n",
    "#             mean_embeddings = np.nanmean(segments_embeddings, axis=0)\n",
    "\n",
    "#         embeddings.append(mean_embeddings)\n",
    "#         num_of_words.append(finded_words)\n",
    "\n",
    "# df['Embeddings'] = embeddings\n",
    "# df[\"Finded Words\"] = num_of_words\n",
    "# df['Predictions'] = preds\n",
    "# df['Probabilities'] = preds_proba\n",
    "\n",
    "# df\n"
   ]
  },
  {
   "cell_type": "code",
   "execution_count": 20,
   "metadata": {},
   "outputs": [],
   "source": [
    "# import sys\n",
    "# base_path = '../Data/Sec_Edgar_data'\n",
    "# embedding_df = pd.read_csv(\"../Data/sentence_based_financeEmbeddings.csv\")\n",
    "\n",
    "# for ticker_folder in tqdm(os.listdir(base_path)):\n",
    "#     ticker_path = os.path.join(base_path, ticker_folder)\n",
    "    \n",
    "#     if os.path.isdir(ticker_path):\n",
    "#         ticker_name = ticker_folder\n",
    "#         print(f\"Ticker: {ticker_name}\")\n",
    "\n",
    "#         if ticker_name not in finance_ticker:\n",
    "#             print(f\"{ticker_name} not exists in the Financial Ticker. Continuing with the next ticker...\")\n",
    "#             continue\n",
    "\n",
    "#         for file_name in os.listdir(ticker_path):\n",
    "\n",
    "#             file_path = os.path.join(ticker_path, file_name)\n",
    "#             file_name, extension = os.path.splitext(file_name)\n",
    "\n",
    "#             with open(file_path, 'r') as file:\n",
    "#                 print(f\"Reading contents of {file_name}:\")\n",
    "#                 contents = file.read()\n",
    "\n",
    "#                 segments = custom_split_text(contents)\n",
    "#                 df = pd.DataFrame(segments, columns=['Segments'])\n",
    "\n",
    "#                 if df.empty:\n",
    "#                     print(f\"df is empty {ticker_name}, {file_name}\")\n",
    "#                     sys.exit()\n",
    "\n",
    "#                 preds = []\n",
    "#                 preds_proba = []\n",
    "#                 embeddings = []\n",
    "#                 filtered_embeddings = {}\n",
    "#                 num_of_words = []\n",
    "#                 segment = []\n",
    "\n",
    "#                 positive_embeddings = []\n",
    "#                 negative_embeddings = []\n",
    "\n",
    "#                 positive_prob = []\n",
    "#                 negative_prob = []\n",
    "#                 neutral_prob = []\n",
    "\n",
    "#                 num_of_positive_sentences = 0\n",
    "#                 num_of_negative_sentences = 0\n",
    "#                 num_of_neutral_sentences = 0\n",
    "                \n",
    "#                 tokenizer_kwargs = {\"padding\": 'max_length', \"return_tensors\": \"pt\", \"max_length\": 512}\n",
    "\n",
    "#                 column = 'Segments'\n",
    "\n",
    "#                 stemmer = SnowballStemmer(\"english\")\n",
    "#                 stemmed_sec_dict = {stemmer.stem(word): word for word in sec_dict}\n",
    "\n",
    "#                 for i in tqdm(len(df)):\n",
    "#                     text_content = df[column].iloc[i]\n",
    "                    \n",
    "#                     with torch.no_grad():\n",
    "#                         input_sequence = tokenizer(text_content, **tokenizer_kwargs)\n",
    "                        \n",
    "#                         outputs = model(**input_sequence, output_hidden_states=True)\n",
    "#                         hidden_states = outputs.hidden_states\n",
    "\n",
    "#                         logits = outputs.logits\n",
    "#                         probabilities = scipy.special.softmax(logits.numpy().squeeze(), axis=0)\n",
    "#                         sentiment = model.config.id2label[probabilities.argmax()]\n",
    "#                         print(f\"Sentiment: {probabilities}\")\n",
    "\n",
    "#                         if (sentiment != \"Neutral\"):\n",
    "\n",
    "#                             preds.append(sentiment)\n",
    "#                             preds_proba.append(probabilities.max())\n",
    "                            \n",
    "#                             last_layer_embeddings = hidden_states[-1].numpy().squeeze()\n",
    "#                             print(last_layer_embeddings.shape)\n",
    "\n",
    "#                             token_ids = input_sequence[\"input_ids\"].squeeze()\n",
    "#                             tokens = tokenizer.convert_ids_to_tokens(token_ids)\n",
    "#                             token_embeddings = {token: embedding for token, embedding in zip(tokens, last_layer_embeddings)}\n",
    "\n",
    "#                             segments_embeddings = []\n",
    "#                             finded_words = 0\n",
    "#                             for token, embedding in token_embeddings.items():\n",
    "#                                 stemmed_token = stemmer.stem(token)\n",
    "\n",
    "#                                 if stemmed_token in stemmed_sec_dict:\n",
    "#                                     original_word = stemmed_sec_dict[stemmed_token]\n",
    "#                                     filtered_embeddings[original_word] = embedding\n",
    "\n",
    "#                                     segments_embeddings.append(embedding)\n",
    "#                                     finded_words += 1\n",
    "\n",
    "#                             segments_embeddings = np.array(segments_embeddings)\n",
    "\n",
    "#                             if segments_embeddings.size == 0 or np.isnan(segments_embeddings).all():\n",
    "#                                 mean_embeddings = np.zeros(last_layer_embeddings.shape[1]) \n",
    "#                             else:\n",
    "#                                 mean_embeddings = np.nanmean(segments_embeddings, axis=0)\n",
    "\n",
    "#                             embeddings.append(mean_embeddings)\n",
    "#                             num_of_words.append(finded_words)\n",
    "#                             segment.append(text_content)\n",
    "\n",
    "#                 df_new = pd.DataFrame(segment, columns=['Segments'])\n",
    "#                 df_new['Embeddings'] = embeddings\n",
    "#                 df_new[\"Finded Words\"] = num_of_words\n",
    "#                 df_new['Predicted Sentiment'] = preds\n",
    "#                 df_new['Probability'] = preds_proba\n",
    "\n",
    "#                 positive_embeddings = df_new[df_new['Predicted Sentiment'] == \"Positive\"][\"Embeddings\"].values\n",
    "#                 negative_embeddings = df_new[df_new['Predicted Sentiment'] == \"Negative\"][\"Embeddings\"].values\n",
    "#                 num_of_negative = negative_embeddings.shape[0]\n",
    "#                 num_of_positive = positive_embeddings.shape[0]\n",
    "\n",
    "#                 embedding_dim = 768\n",
    "\n",
    "#                 if positive_embeddings.size == 0:\n",
    "#                     mean_embedding_positive = np.zeros(embedding_dim)\n",
    "#                 else:\n",
    "#                     mean_embedding_positive = np.mean(positive_embeddings, axis=0)\n",
    "\n",
    "#                 if negative_embeddings.size == 0:\n",
    "#                     mean_embedding_negative = np.zeros(embedding_dim)\n",
    "#                 else:\n",
    "#                     mean_embedding_negative = np.mean(negative_embeddings, axis=0)\n",
    "\n",
    "#                 combined_mean_embeddings = np.concatenate([mean_embedding_positive, mean_embedding_negative])\n",
    "#                 print(f\"shape of the embedding: {mean_embedding_positive.shape}\")\n",
    "#                 print(f\"combined shape of the embedding: {combined_mean_embeddings.shape}\")\n",
    "#                 column_names = [f'embedding_{i+1}' for i in range(combined_mean_embeddings.shape[0])]\n",
    "\n",
    "\n",
    "\n",
    "#                 new_row = pd.DataFrame({\n",
    "#                 'Ticker': [ticker_name], \n",
    "#                 'File Name': [file_name],\n",
    "#                 **dict(zip(column_names, combined_mean_embeddings)),\n",
    "#                 \"Num Of Negative\" : [num_of_negative],\n",
    "#                 \"Num Of Positive\" : [num_of_positive]\n",
    "#                 })\n",
    "#                 embedding_df = pd.concat([embedding_df, new_row], ignore_index=True)\n",
    "                "
   ]
  },
  {
   "cell_type": "code",
   "execution_count": 21,
   "metadata": {},
   "outputs": [],
   "source": [
    "def contains_sec_dict_words(text, stemmed_sec_dict, stemmer):\n",
    "    \"\"\" Check if the text contains any word from sec_dict \"\"\"\n",
    "    words = text.split()\n",
    "    for word in words:\n",
    "        stemmed_word = stemmer.stem(word)\n",
    "        if stemmed_word in stemmed_sec_dict:\n",
    "            return True\n",
    "    return False"
   ]
  },
  {
   "cell_type": "code",
   "execution_count": 22,
   "metadata": {},
   "outputs": [
    {
     "data": {
      "application/vnd.jupyter.widget-view+json": {
       "model_id": "38594958928843ad8955e62bc109bf06",
       "version_major": 2,
       "version_minor": 0
      },
      "text/plain": [
       "  0%|          | 0/276 [00:00<?, ?it/s]"
      ]
     },
     "metadata": {},
     "output_type": "display_data"
    },
    {
     "name": "stdout",
     "output_type": "stream",
     "text": [
      "Ticker: TROW\n",
      "TROW and 2012-03-31 already exist in embedding_df. Skipping this file...\n",
      "TROW and 2017-06-30 already exist in embedding_df. Skipping this file...\n",
      "TROW and 2018-06-30 already exist in embedding_df. Skipping this file...\n",
      "TROW and 2020-12-31 already exist in embedding_df. Skipping this file...\n",
      "TROW and 2015-09-30 already exist in embedding_df. Skipping this file...\n",
      "TROW and 2016-06-30 already exist in embedding_df. Skipping this file...\n",
      "TROW and 2016-09-30 already exist in embedding_df. Skipping this file...\n",
      "TROW and 2019-09-30 already exist in embedding_df. Skipping this file...\n",
      "TROW and 2019-12-31 already exist in embedding_df. Skipping this file...\n",
      "TROW and 2015-06-30 already exist in embedding_df. Skipping this file...\n",
      "TROW and 2020-06-30 already exist in embedding_df. Skipping this file...\n",
      "TROW and 2016-12-31 already exist in embedding_df. Skipping this file...\n",
      "TROW and 2017-03-31 already exist in embedding_df. Skipping this file...\n",
      "TROW and 2014-12-31 already exist in embedding_df. Skipping this file...\n",
      "TROW and 2014-06-30 already exist in embedding_df. Skipping this file...\n",
      "TROW and 2022-06-30 already exist in embedding_df. Skipping this file...\n",
      "TROW and 2021-12-31 already exist in embedding_df. Skipping this file...\n",
      "TROW and 2023-03-31 already exist in embedding_df. Skipping this file...\n",
      "TROW and 2019-06-30 already exist in embedding_df. Skipping this file...\n",
      "TROW and 2014-09-30 already exist in embedding_df. Skipping this file...\n",
      "TROW and 2013-12-31 already exist in embedding_df. Skipping this file...\n",
      "TROW and 2015-03-31 already exist in embedding_df. Skipping this file...\n",
      "TROW and 2011-06-30 already exist in embedding_df. Skipping this file...\n",
      "TROW and 2011-12-31 already exist in embedding_df. Skipping this file...\n",
      "TROW and 2022-09-30 already exist in embedding_df. Skipping this file...\n",
      "TROW and 2012-09-30 already exist in embedding_df. Skipping this file...\n",
      "TROW and 2020-09-30 already exist in embedding_df. Skipping this file...\n",
      "TROW and 2015-12-31 already exist in embedding_df. Skipping this file...\n",
      "TROW and 2016-03-31 already exist in embedding_df. Skipping this file...\n",
      "TROW and 2020-03-31 already exist in embedding_df. Skipping this file...\n",
      "TROW and 2023-09-30 already exist in embedding_df. Skipping this file...\n",
      "TROW and 2013-09-30 already exist in embedding_df. Skipping this file...\n",
      "TROW and 2021-06-30 already exist in embedding_df. Skipping this file...\n",
      "TROW and 2023-12-31 already exist in embedding_df. Skipping this file...\n",
      "TROW and 2024-03-31 already exist in embedding_df. Skipping this file...\n",
      "TROW and 2013-06-30 already exist in embedding_df. Skipping this file...\n",
      "TROW and 2012-12-31 already exist in embedding_df. Skipping this file...\n",
      "TROW and 2017-12-31 already exist in embedding_df. Skipping this file...\n",
      "TROW and 2014-03-31 already exist in embedding_df. Skipping this file...\n",
      "TROW and 2022-12-31 already exist in embedding_df. Skipping this file...\n",
      "TROW and 2018-12-31 already exist in embedding_df. Skipping this file...\n",
      "TROW and 2022-03-31 already exist in embedding_df. Skipping this file...\n",
      "TROW and 2021-03-31 already exist in embedding_df. Skipping this file...\n",
      "TROW and 2013-03-31 already exist in embedding_df. Skipping this file...\n",
      "TROW and 2012-06-30 already exist in embedding_df. Skipping this file...\n",
      "TROW and 2023-06-30 already exist in embedding_df. Skipping this file...\n",
      "TROW and 2018-09-30 already exist in embedding_df. Skipping this file...\n",
      "TROW and 2011-09-30 already exist in embedding_df. Skipping this file...\n",
      "TROW and 2018-03-31 already exist in embedding_df. Skipping this file...\n",
      "TROW and 2021-09-30 already exist in embedding_df. Skipping this file...\n",
      "TROW and 2017-09-30 already exist in embedding_df. Skipping this file...\n",
      "TROW and 2019-03-31 already exist in embedding_df. Skipping this file...\n",
      "Ticker: HOLX\n",
      "HOLX not exists in the Financial Ticker. Continuing with the next ticker...\n",
      "Ticker: CPB\n",
      "CPB not exists in the Financial Ticker. Continuing with the next ticker...\n",
      "Ticker: ULTA\n",
      "ULTA not exists in the Financial Ticker. Continuing with the next ticker...\n",
      "Ticker: MU\n",
      "MU not exists in the Financial Ticker. Continuing with the next ticker...\n",
      "Ticker: MKTX\n",
      "MKTX and 2012-03-31 already exist in embedding_df. Skipping this file...\n",
      "MKTX and 2017-06-30 already exist in embedding_df. Skipping this file...\n",
      "MKTX and 2018-06-30 already exist in embedding_df. Skipping this file...\n",
      "MKTX and 2020-12-31 already exist in embedding_df. Skipping this file...\n",
      "MKTX and 2015-09-30 already exist in embedding_df. Skipping this file...\n",
      "MKTX and 2016-06-30 already exist in embedding_df. Skipping this file...\n",
      "MKTX and 2016-09-30 already exist in embedding_df. Skipping this file...\n",
      "MKTX and 2019-09-30 already exist in embedding_df. Skipping this file...\n",
      "MKTX and 2019-12-31 already exist in embedding_df. Skipping this file...\n",
      "MKTX and 2015-06-30 already exist in embedding_df. Skipping this file...\n",
      "MKTX and 2020-06-30 already exist in embedding_df. Skipping this file...\n",
      "MKTX and 2016-12-31 already exist in embedding_df. Skipping this file...\n",
      "MKTX and 2017-03-31 already exist in embedding_df. Skipping this file...\n",
      "MKTX and 2014-12-31 already exist in embedding_df. Skipping this file...\n",
      "MKTX and 2014-06-30 already exist in embedding_df. Skipping this file...\n",
      "MKTX and 2022-06-30 already exist in embedding_df. Skipping this file...\n",
      "MKTX and 2021-12-31 already exist in embedding_df. Skipping this file...\n",
      "MKTX and 2023-03-31 already exist in embedding_df. Skipping this file...\n",
      "MKTX and 2019-06-30 already exist in embedding_df. Skipping this file...\n",
      "MKTX and 2014-09-30 already exist in embedding_df. Skipping this file...\n",
      "MKTX and 2013-12-31 already exist in embedding_df. Skipping this file...\n",
      "MKTX and 2015-03-31 already exist in embedding_df. Skipping this file...\n",
      "MKTX and 2011-06-30 already exist in embedding_df. Skipping this file...\n",
      "MKTX and 2011-12-31 already exist in embedding_df. Skipping this file...\n",
      "MKTX and 2022-09-30 already exist in embedding_df. Skipping this file...\n",
      "MKTX and 2012-09-30 already exist in embedding_df. Skipping this file...\n",
      "MKTX and 2020-09-30 already exist in embedding_df. Skipping this file...\n",
      "MKTX and 2015-12-31 already exist in embedding_df. Skipping this file...\n",
      "MKTX and 2016-03-31 already exist in embedding_df. Skipping this file...\n",
      "MKTX and 2020-03-31 already exist in embedding_df. Skipping this file...\n",
      "MKTX and 2023-09-30 already exist in embedding_df. Skipping this file...\n",
      "MKTX and 2013-09-30 already exist in embedding_df. Skipping this file...\n",
      "MKTX and 2021-06-30 already exist in embedding_df. Skipping this file...\n",
      "MKTX and 2023-12-31 already exist in embedding_df. Skipping this file...\n",
      "MKTX and 2024-03-31 already exist in embedding_df. Skipping this file...\n",
      "MKTX and 2013-06-30 already exist in embedding_df. Skipping this file...\n",
      "MKTX and 2012-12-31 already exist in embedding_df. Skipping this file...\n",
      "MKTX and 2017-12-31 already exist in embedding_df. Skipping this file...\n",
      "MKTX and 2014-03-31 already exist in embedding_df. Skipping this file...\n",
      "MKTX and 2022-12-31 already exist in embedding_df. Skipping this file...\n",
      "MKTX and 2018-12-31 already exist in embedding_df. Skipping this file...\n",
      "MKTX and 2022-03-31 already exist in embedding_df. Skipping this file...\n",
      "MKTX and 2021-03-31 already exist in embedding_df. Skipping this file...\n",
      "MKTX and 2013-03-31 already exist in embedding_df. Skipping this file...\n",
      "MKTX and 2012-06-30 already exist in embedding_df. Skipping this file...\n",
      "MKTX and 2023-06-30 already exist in embedding_df. Skipping this file...\n",
      "MKTX and 2018-09-30 already exist in embedding_df. Skipping this file...\n",
      "MKTX and 2011-09-30 already exist in embedding_df. Skipping this file...\n",
      "MKTX and 2018-03-31 already exist in embedding_df. Skipping this file...\n",
      "MKTX and 2021-09-30 already exist in embedding_df. Skipping this file...\n",
      "MKTX and 2017-09-30 already exist in embedding_df. Skipping this file...\n",
      "MKTX and 2019-03-31 already exist in embedding_df. Skipping this file...\n",
      "Ticker: COO\n",
      "COO not exists in the Financial Ticker. Continuing with the next ticker...\n",
      "Ticker: VTR\n",
      "VTR not exists in the Financial Ticker. Continuing with the next ticker...\n",
      "Ticker: RMD\n",
      "RMD not exists in the Financial Ticker. Continuing with the next ticker...\n",
      "Ticker: SRE\n",
      "SRE not exists in the Financial Ticker. Continuing with the next ticker...\n",
      "Ticker: CTSH\n",
      "CTSH not exists in the Financial Ticker. Continuing with the next ticker...\n",
      "Ticker: F\n",
      "F not exists in the Financial Ticker. Continuing with the next ticker...\n",
      "Ticker: DFS\n",
      "DFS and 2017-06-30 already exist in embedding_df. Skipping this file...\n",
      "DFS and 2018-06-30 already exist in embedding_df. Skipping this file...\n",
      "DFS and 2020-12-31 already exist in embedding_df. Skipping this file...\n",
      "DFS and 2015-09-30 already exist in embedding_df. Skipping this file...\n",
      "DFS and 2016-06-30 already exist in embedding_df. Skipping this file...\n",
      "DFS and 2011-08-31 already exist in embedding_df. Skipping this file...\n",
      "DFS and 2016-09-30 already exist in embedding_df. Skipping this file...\n",
      "DFS and 2019-09-30 already exist in embedding_df. Skipping this file...\n",
      "DFS and 2019-12-31 already exist in embedding_df. Skipping this file...\n",
      "DFS and 2011-11-30 already exist in embedding_df. Skipping this file...\n",
      "DFS and 2015-06-30 already exist in embedding_df. Skipping this file...\n",
      "DFS and 2020-06-30 already exist in embedding_df. Skipping this file...\n",
      "DFS and 2016-12-31 already exist in embedding_df. Skipping this file...\n",
      "DFS and 2017-03-31 already exist in embedding_df. Skipping this file...\n",
      "DFS and 2014-12-31 already exist in embedding_df. Skipping this file...\n",
      "DFS and 2014-06-30 already exist in embedding_df. Skipping this file...\n",
      "DFS and 2022-06-30 already exist in embedding_df. Skipping this file...\n",
      "DFS and 2021-12-31 already exist in embedding_df. Skipping this file...\n",
      "DFS and 2023-03-31 already exist in embedding_df. Skipping this file...\n",
      "DFS and 2019-06-30 already exist in embedding_df. Skipping this file...\n",
      "DFS and 2014-09-30 already exist in embedding_df. Skipping this file...\n",
      "DFS and 2011-05-31 already exist in embedding_df. Skipping this file...\n",
      "DFS and 2013-12-31 already exist in embedding_df. Skipping this file...\n",
      "DFS and 2015-03-31 already exist in embedding_df. Skipping this file...\n",
      "DFS and 2022-09-30 already exist in embedding_df. Skipping this file...\n",
      "DFS and 2012-11-30 already exist in embedding_df. Skipping this file...\n",
      "DFS and 2012-05-31 already exist in embedding_df. Skipping this file...\n",
      "DFS and 2020-09-30 already exist in embedding_df. Skipping this file...\n",
      "DFS and 2015-12-31 already exist in embedding_df. Skipping this file...\n",
      "DFS and 2016-03-31 already exist in embedding_df. Skipping this file...\n",
      "DFS and 2012-02-29 already exist in embedding_df. Skipping this file...\n",
      "DFS and 2020-03-31 already exist in embedding_df. Skipping this file...\n",
      "DFS and 2023-09-30 already exist in embedding_df. Skipping this file...\n",
      "DFS and 2012-08-31 already exist in embedding_df. Skipping this file...\n",
      "DFS and 2013-09-30 already exist in embedding_df. Skipping this file...\n",
      "DFS and 2021-06-30 already exist in embedding_df. Skipping this file...\n",
      "DFS and 2023-12-31 already exist in embedding_df. Skipping this file...\n",
      "DFS and 2024-03-31 already exist in embedding_df. Skipping this file...\n",
      "DFS and 2013-06-30 already exist in embedding_df. Skipping this file...\n",
      "DFS and 2017-12-31 already exist in embedding_df. Skipping this file...\n",
      "DFS and 2014-03-31 already exist in embedding_df. Skipping this file...\n",
      "DFS and 2022-12-31 already exist in embedding_df. Skipping this file...\n",
      "DFS and 2018-12-31 already exist in embedding_df. Skipping this file...\n",
      "DFS and 2022-03-31 already exist in embedding_df. Skipping this file...\n",
      "DFS and 2021-03-31 already exist in embedding_df. Skipping this file...\n",
      "DFS and 2013-03-31 already exist in embedding_df. Skipping this file...\n",
      "DFS and 2023-06-30 already exist in embedding_df. Skipping this file...\n",
      "DFS and 2018-09-30 already exist in embedding_df. Skipping this file...\n",
      "DFS and 2018-03-31 already exist in embedding_df. Skipping this file...\n",
      "DFS and 2021-09-30 already exist in embedding_df. Skipping this file...\n",
      "DFS and 2017-09-30 already exist in embedding_df. Skipping this file...\n",
      "DFS and 2019-03-31 already exist in embedding_df. Skipping this file...\n",
      "Ticker: RCL\n",
      "RCL not exists in the Financial Ticker. Continuing with the next ticker...\n",
      "Ticker: NVR\n",
      "NVR not exists in the Financial Ticker. Continuing with the next ticker...\n",
      "Ticker: CNC\n",
      "CNC not exists in the Financial Ticker. Continuing with the next ticker...\n",
      "Ticker: DOV\n",
      "DOV not exists in the Financial Ticker. Continuing with the next ticker...\n",
      "Ticker: PKG\n",
      "PKG not exists in the Financial Ticker. Continuing with the next ticker...\n",
      "Ticker: TRV\n",
      "TRV and 2012-03-31 already exist in embedding_df. Skipping this file...\n",
      "TRV and 2017-06-30 already exist in embedding_df. Skipping this file...\n",
      "TRV and 2018-06-30 already exist in embedding_df. Skipping this file...\n",
      "TRV and 2020-12-31 already exist in embedding_df. Skipping this file...\n",
      "TRV and 2015-09-30 already exist in embedding_df. Skipping this file...\n",
      "TRV and 2016-06-30 already exist in embedding_df. Skipping this file...\n",
      "TRV and 2016-09-30 already exist in embedding_df. Skipping this file...\n",
      "TRV and 2019-09-30 already exist in embedding_df. Skipping this file...\n",
      "TRV and 2019-12-31 already exist in embedding_df. Skipping this file...\n",
      "TRV and 2015-06-30 already exist in embedding_df. Skipping this file...\n",
      "TRV and 2020-06-30 already exist in embedding_df. Skipping this file...\n",
      "TRV and 2016-12-31 already exist in embedding_df. Skipping this file...\n",
      "TRV and 2017-03-31 already exist in embedding_df. Skipping this file...\n",
      "TRV and 2014-12-31 already exist in embedding_df. Skipping this file...\n",
      "TRV and 2014-06-30 already exist in embedding_df. Skipping this file...\n",
      "TRV and 2022-06-30 already exist in embedding_df. Skipping this file...\n",
      "TRV and 2021-12-31 already exist in embedding_df. Skipping this file...\n",
      "TRV and 2023-03-31 already exist in embedding_df. Skipping this file...\n",
      "TRV and 2019-06-30 already exist in embedding_df. Skipping this file...\n",
      "TRV and 2014-09-30 already exist in embedding_df. Skipping this file...\n",
      "TRV and 2013-12-31 already exist in embedding_df. Skipping this file...\n",
      "TRV and 2015-03-31 already exist in embedding_df. Skipping this file...\n",
      "TRV and 2011-06-30 already exist in embedding_df. Skipping this file...\n",
      "TRV and 2011-12-31 already exist in embedding_df. Skipping this file...\n",
      "TRV and 2022-09-30 already exist in embedding_df. Skipping this file...\n",
      "TRV and 2012-09-30 already exist in embedding_df. Skipping this file...\n",
      "TRV and 2020-09-30 already exist in embedding_df. Skipping this file...\n",
      "TRV and 2015-12-31 already exist in embedding_df. Skipping this file...\n",
      "TRV and 2016-03-31 already exist in embedding_df. Skipping this file...\n",
      "TRV and 2020-03-31 already exist in embedding_df. Skipping this file...\n",
      "TRV and 2023-09-30 already exist in embedding_df. Skipping this file...\n",
      "TRV and 2013-09-30 already exist in embedding_df. Skipping this file...\n",
      "TRV and 2021-06-30 already exist in embedding_df. Skipping this file...\n",
      "TRV and 2023-12-31 already exist in embedding_df. Skipping this file...\n",
      "TRV and 2024-03-31 already exist in embedding_df. Skipping this file...\n",
      "TRV and 2013-06-30 already exist in embedding_df. Skipping this file...\n",
      "TRV and 2012-12-31 already exist in embedding_df. Skipping this file...\n",
      "TRV and 2017-12-31 already exist in embedding_df. Skipping this file...\n",
      "TRV and 2014-03-31 already exist in embedding_df. Skipping this file...\n",
      "TRV and 2022-12-31 already exist in embedding_df. Skipping this file...\n",
      "TRV and 2018-12-31 already exist in embedding_df. Skipping this file...\n",
      "TRV and 2022-03-31 already exist in embedding_df. Skipping this file...\n",
      "TRV and 2021-03-31 already exist in embedding_df. Skipping this file...\n",
      "TRV and 2013-03-31 already exist in embedding_df. Skipping this file...\n",
      "TRV and 2012-06-30 already exist in embedding_df. Skipping this file...\n",
      "TRV and 2023-06-30 already exist in embedding_df. Skipping this file...\n",
      "TRV and 2018-09-30 already exist in embedding_df. Skipping this file...\n",
      "TRV and 2011-09-30 already exist in embedding_df. Skipping this file...\n",
      "TRV and 2018-03-31 already exist in embedding_df. Skipping this file...\n",
      "TRV and 2021-09-30 already exist in embedding_df. Skipping this file...\n",
      "TRV and 2017-09-30 already exist in embedding_df. Skipping this file...\n",
      "TRV and 2019-03-31 already exist in embedding_df. Skipping this file...\n",
      "Ticker: WY\n",
      "WY not exists in the Financial Ticker. Continuing with the next ticker...\n",
      "Ticker: STZ\n",
      "STZ not exists in the Financial Ticker. Continuing with the next ticker...\n",
      "Ticker: MMM\n",
      "MMM not exists in the Financial Ticker. Continuing with the next ticker...\n",
      "Ticker: INCY\n",
      "INCY not exists in the Financial Ticker. Continuing with the next ticker...\n",
      "Ticker: NXPI\n",
      "NXPI not exists in the Financial Ticker. Continuing with the next ticker...\n",
      "Ticker: CCI\n",
      "CCI not exists in the Financial Ticker. Continuing with the next ticker...\n",
      "Ticker: VZ\n",
      "VZ not exists in the Financial Ticker. Continuing with the next ticker...\n",
      "Ticker: TXN\n",
      "TXN not exists in the Financial Ticker. Continuing with the next ticker...\n",
      "Ticker: AMZN\n",
      "AMZN not exists in the Financial Ticker. Continuing with the next ticker...\n",
      "Ticker: TSLA\n",
      "TSLA not exists in the Financial Ticker. Continuing with the next ticker...\n",
      "Ticker: MDT\n",
      "MDT not exists in the Financial Ticker. Continuing with the next ticker...\n",
      "Ticker: GM\n",
      "GM not exists in the Financial Ticker. Continuing with the next ticker...\n",
      "Ticker: MCK\n",
      "MCK not exists in the Financial Ticker. Continuing with the next ticker...\n",
      "Ticker: SCHW\n",
      "SCHW and 2012-03-31 already exist in embedding_df. Skipping this file...\n",
      "SCHW and 2017-06-30 already exist in embedding_df. Skipping this file...\n",
      "SCHW and 2018-06-30 already exist in embedding_df. Skipping this file...\n",
      "SCHW and 2020-12-31 already exist in embedding_df. Skipping this file...\n",
      "SCHW and 2015-09-30 already exist in embedding_df. Skipping this file...\n",
      "SCHW and 2016-06-30 already exist in embedding_df. Skipping this file...\n",
      "SCHW and 2016-09-30 already exist in embedding_df. Skipping this file...\n",
      "SCHW and 2019-09-30 already exist in embedding_df. Skipping this file...\n",
      "SCHW and 2019-12-31 already exist in embedding_df. Skipping this file...\n",
      "SCHW and 2015-06-30 already exist in embedding_df. Skipping this file...\n",
      "SCHW and 2020-06-30 already exist in embedding_df. Skipping this file...\n",
      "SCHW and 2016-12-31 already exist in embedding_df. Skipping this file...\n",
      "SCHW and 2017-03-31 already exist in embedding_df. Skipping this file...\n",
      "SCHW and 2014-12-31 already exist in embedding_df. Skipping this file...\n",
      "SCHW and 2014-06-30 already exist in embedding_df. Skipping this file...\n",
      "SCHW and 2022-06-30 already exist in embedding_df. Skipping this file...\n",
      "SCHW and 2021-12-31 already exist in embedding_df. Skipping this file...\n",
      "SCHW and 2023-03-31 already exist in embedding_df. Skipping this file...\n",
      "SCHW and 2019-06-30 already exist in embedding_df. Skipping this file...\n",
      "SCHW and 2014-09-30 already exist in embedding_df. Skipping this file...\n",
      "SCHW and 2013-12-31 already exist in embedding_df. Skipping this file...\n",
      "SCHW and 2015-03-31 already exist in embedding_df. Skipping this file...\n",
      "SCHW and 2011-06-30 already exist in embedding_df. Skipping this file...\n",
      "SCHW and 2011-12-31 already exist in embedding_df. Skipping this file...\n",
      "SCHW and 2022-09-30 already exist in embedding_df. Skipping this file...\n",
      "SCHW and 2012-09-30 already exist in embedding_df. Skipping this file...\n",
      "SCHW and 2020-09-30 already exist in embedding_df. Skipping this file...\n",
      "SCHW and 2015-12-31 already exist in embedding_df. Skipping this file...\n",
      "SCHW and 2016-03-31 already exist in embedding_df. Skipping this file...\n",
      "SCHW and 2020-03-31 already exist in embedding_df. Skipping this file...\n",
      "SCHW and 2023-09-30 already exist in embedding_df. Skipping this file...\n",
      "SCHW and 2013-09-30 already exist in embedding_df. Skipping this file...\n",
      "SCHW and 2021-06-30 already exist in embedding_df. Skipping this file...\n",
      "SCHW and 2023-12-31 already exist in embedding_df. Skipping this file...\n",
      "SCHW and 2024-03-31 already exist in embedding_df. Skipping this file...\n",
      "SCHW and 2013-06-30 already exist in embedding_df. Skipping this file...\n",
      "SCHW and 2012-12-31 already exist in embedding_df. Skipping this file...\n",
      "SCHW and 2017-12-31 already exist in embedding_df. Skipping this file...\n",
      "SCHW and 2014-03-31 already exist in embedding_df. Skipping this file...\n",
      "SCHW and 2022-12-31 already exist in embedding_df. Skipping this file...\n",
      "SCHW and 2018-12-31 already exist in embedding_df. Skipping this file...\n",
      "SCHW and 2022-03-31 already exist in embedding_df. Skipping this file...\n",
      "SCHW and 2021-03-31 already exist in embedding_df. Skipping this file...\n",
      "SCHW and 2013-03-31 already exist in embedding_df. Skipping this file...\n",
      "SCHW and 2012-06-30 already exist in embedding_df. Skipping this file...\n",
      "SCHW and 2023-06-30 already exist in embedding_df. Skipping this file...\n",
      "SCHW and 2018-09-30 already exist in embedding_df. Skipping this file...\n",
      "SCHW and 2011-09-30 already exist in embedding_df. Skipping this file...\n",
      "SCHW and 2018-03-31 already exist in embedding_df. Skipping this file...\n",
      "SCHW and 2021-09-30 already exist in embedding_df. Skipping this file...\n",
      "SCHW and 2017-09-30 already exist in embedding_df. Skipping this file...\n",
      "SCHW and 2019-03-31 already exist in embedding_df. Skipping this file...\n",
      "Ticker: HD\n",
      "HD not exists in the Financial Ticker. Continuing with the next ticker...\n",
      "Ticker: SO\n",
      "SO not exists in the Financial Ticker. Continuing with the next ticker...\n",
      "Ticker: NVDA\n",
      "NVDA not exists in the Financial Ticker. Continuing with the next ticker...\n",
      "Ticker: FMC\n",
      "FMC not exists in the Financial Ticker. Continuing with the next ticker...\n",
      "Ticker: LEN\n",
      "LEN not exists in the Financial Ticker. Continuing with the next ticker...\n",
      "Ticker: EW\n",
      "EW not exists in the Financial Ticker. Continuing with the next ticker...\n",
      "Ticker: KEY\n",
      "KEY and 2012-03-31 already exist in embedding_df. Skipping this file...\n",
      "KEY and 2017-06-30 already exist in embedding_df. Skipping this file...\n",
      "KEY and 2018-06-30 already exist in embedding_df. Skipping this file...\n",
      "KEY and 2020-12-31 already exist in embedding_df. Skipping this file...\n",
      "KEY and 2015-09-30 already exist in embedding_df. Skipping this file...\n",
      "KEY and 2016-06-30 already exist in embedding_df. Skipping this file...\n",
      "KEY and 2016-09-30 already exist in embedding_df. Skipping this file...\n",
      "KEY and 2019-09-30 already exist in embedding_df. Skipping this file...\n",
      "KEY and 2019-12-31 already exist in embedding_df. Skipping this file...\n",
      "KEY and 2015-06-30 already exist in embedding_df. Skipping this file...\n",
      "KEY and 2020-06-30 already exist in embedding_df. Skipping this file...\n",
      "KEY and 2016-12-31 already exist in embedding_df. Skipping this file...\n",
      "KEY and 2017-03-31 already exist in embedding_df. Skipping this file...\n",
      "KEY and 2014-12-31 already exist in embedding_df. Skipping this file...\n",
      "KEY and 2014-06-30 already exist in embedding_df. Skipping this file...\n",
      "KEY and 2022-06-30 already exist in embedding_df. Skipping this file...\n",
      "KEY and 2021-12-31 already exist in embedding_df. Skipping this file...\n",
      "KEY and 2023-03-31 already exist in embedding_df. Skipping this file...\n",
      "KEY and 2019-06-30 already exist in embedding_df. Skipping this file...\n",
      "KEY and 2014-09-30 already exist in embedding_df. Skipping this file...\n",
      "KEY and 2013-12-31 already exist in embedding_df. Skipping this file...\n",
      "KEY and 2015-03-31 already exist in embedding_df. Skipping this file...\n",
      "KEY and 2011-06-30 already exist in embedding_df. Skipping this file...\n",
      "KEY and 2011-12-31 already exist in embedding_df. Skipping this file...\n",
      "KEY and 2022-09-30 already exist in embedding_df. Skipping this file...\n",
      "KEY and 2013-03-15 already exist in embedding_df. Skipping this file...\n",
      "KEY and 2012-09-30 already exist in embedding_df. Skipping this file...\n",
      "KEY and 2020-09-30 already exist in embedding_df. Skipping this file...\n",
      "KEY and 2015-12-31 already exist in embedding_df. Skipping this file...\n",
      "KEY and 2016-03-31 already exist in embedding_df. Skipping this file...\n",
      "KEY and 2020-03-31 already exist in embedding_df. Skipping this file...\n",
      "KEY and 2023-09-30 already exist in embedding_df. Skipping this file...\n",
      "KEY and 2013-09-30 already exist in embedding_df. Skipping this file...\n",
      "KEY and 2021-06-30 already exist in embedding_df. Skipping this file...\n",
      "KEY and 2023-12-31 already exist in embedding_df. Skipping this file...\n",
      "KEY and 2024-03-31 already exist in embedding_df. Skipping this file...\n",
      "KEY and 2013-06-30 already exist in embedding_df. Skipping this file...\n",
      "KEY and 2012-12-31 already exist in embedding_df. Skipping this file...\n",
      "KEY and 2017-12-31 already exist in embedding_df. Skipping this file...\n",
      "KEY and 2014-03-31 already exist in embedding_df. Skipping this file...\n",
      "KEY and 2022-12-31 already exist in embedding_df. Skipping this file...\n",
      "KEY and 2018-12-31 already exist in embedding_df. Skipping this file...\n",
      "KEY and 2022-03-31 already exist in embedding_df. Skipping this file...\n",
      "KEY and 2021-03-31 already exist in embedding_df. Skipping this file...\n",
      "KEY and 2012-06-30 already exist in embedding_df. Skipping this file...\n",
      "KEY and 2023-06-30 already exist in embedding_df. Skipping this file...\n",
      "KEY and 2018-09-30 already exist in embedding_df. Skipping this file...\n",
      "KEY and 2011-09-30 already exist in embedding_df. Skipping this file...\n",
      "KEY and 2018-03-31 already exist in embedding_df. Skipping this file...\n",
      "KEY and 2021-09-30 already exist in embedding_df. Skipping this file...\n",
      "KEY and 2017-09-30 already exist in embedding_df. Skipping this file...\n",
      "KEY and 2019-03-31 already exist in embedding_df. Skipping this file...\n",
      "Ticker: HPQ\n",
      "HPQ not exists in the Financial Ticker. Continuing with the next ticker...\n",
      "Ticker: ETR\n",
      "ETR not exists in the Financial Ticker. Continuing with the next ticker...\n",
      "Ticker: UHS\n",
      "UHS not exists in the Financial Ticker. Continuing with the next ticker...\n",
      "Ticker: GIS\n",
      "GIS not exists in the Financial Ticker. Continuing with the next ticker...\n",
      "Ticker: TSCO\n",
      "TSCO not exists in the Financial Ticker. Continuing with the next ticker...\n",
      "Ticker: PCG\n",
      "PCG not exists in the Financial Ticker. Continuing with the next ticker...\n",
      "Ticker: BG\n",
      "BG not exists in the Financial Ticker. Continuing with the next ticker...\n",
      "Ticker: NRG\n",
      "NRG not exists in the Financial Ticker. Continuing with the next ticker...\n",
      "Ticker: BLK\n",
      "BLK and 2012-03-31 already exist in embedding_df. Skipping this file...\n",
      "BLK and 2017-06-30 already exist in embedding_df. Skipping this file...\n",
      "BLK and 2018-06-30 already exist in embedding_df. Skipping this file...\n",
      "BLK and 2020-12-31 already exist in embedding_df. Skipping this file...\n",
      "BLK and 2015-09-30 already exist in embedding_df. Skipping this file...\n",
      "BLK and 2016-06-30 already exist in embedding_df. Skipping this file...\n",
      "BLK and 2016-09-30 already exist in embedding_df. Skipping this file...\n",
      "BLK and 2019-09-30 already exist in embedding_df. Skipping this file...\n",
      "BLK and 2019-12-31 already exist in embedding_df. Skipping this file...\n",
      "BLK and 2015-06-30 already exist in embedding_df. Skipping this file...\n",
      "BLK and 2020-06-30 already exist in embedding_df. Skipping this file...\n",
      "BLK and 2016-12-31 already exist in embedding_df. Skipping this file...\n",
      "BLK and 2017-03-31 already exist in embedding_df. Skipping this file...\n",
      "BLK and 2014-12-31 already exist in embedding_df. Skipping this file...\n",
      "BLK and 2014-06-30 already exist in embedding_df. Skipping this file...\n",
      "BLK and 2022-06-30 already exist in embedding_df. Skipping this file...\n",
      "BLK and 2021-12-31 already exist in embedding_df. Skipping this file...\n",
      "BLK and 2023-03-31 already exist in embedding_df. Skipping this file...\n",
      "BLK and 2019-06-30 already exist in embedding_df. Skipping this file...\n",
      "BLK and 2014-09-30 already exist in embedding_df. Skipping this file...\n",
      "BLK and 2013-12-31 already exist in embedding_df. Skipping this file...\n",
      "BLK and 2015-03-31 already exist in embedding_df. Skipping this file...\n",
      "BLK and 2011-06-30 already exist in embedding_df. Skipping this file...\n",
      "BLK and 2011-12-31 already exist in embedding_df. Skipping this file...\n",
      "BLK and 2022-09-30 already exist in embedding_df. Skipping this file...\n",
      "BLK and 2012-09-30 already exist in embedding_df. Skipping this file...\n",
      "BLK and 2020-09-30 already exist in embedding_df. Skipping this file...\n",
      "BLK and 2015-12-31 already exist in embedding_df. Skipping this file...\n",
      "BLK and 2016-03-31 already exist in embedding_df. Skipping this file...\n",
      "BLK and 2020-03-31 already exist in embedding_df. Skipping this file...\n",
      "BLK and 2023-09-30 already exist in embedding_df. Skipping this file...\n",
      "BLK and 2013-09-30 already exist in embedding_df. Skipping this file...\n",
      "BLK and 2021-06-30 already exist in embedding_df. Skipping this file...\n",
      "BLK and 2023-12-31 already exist in embedding_df. Skipping this file...\n",
      "BLK and 2024-03-31 already exist in embedding_df. Skipping this file...\n",
      "BLK and 2013-06-30 already exist in embedding_df. Skipping this file...\n",
      "BLK and 2012-12-31 already exist in embedding_df. Skipping this file...\n",
      "BLK and 2017-12-31 already exist in embedding_df. Skipping this file...\n",
      "BLK and 2014-03-31 already exist in embedding_df. Skipping this file...\n",
      "BLK and 2022-12-31 already exist in embedding_df. Skipping this file...\n",
      "BLK and 2018-12-31 already exist in embedding_df. Skipping this file...\n",
      "BLK and 2022-03-31 already exist in embedding_df. Skipping this file...\n",
      "BLK and 2021-03-31 already exist in embedding_df. Skipping this file...\n",
      "BLK and 2013-03-31 already exist in embedding_df. Skipping this file...\n",
      "BLK and 2012-06-30 already exist in embedding_df. Skipping this file...\n",
      "BLK and 2023-06-30 already exist in embedding_df. Skipping this file...\n",
      "BLK and 2018-09-30 already exist in embedding_df. Skipping this file...\n",
      "BLK and 2011-09-30 already exist in embedding_df. Skipping this file...\n",
      "BLK and 2018-03-31 already exist in embedding_df. Skipping this file...\n",
      "BLK and 2021-09-30 already exist in embedding_df. Skipping this file...\n",
      "BLK and 2017-09-30 already exist in embedding_df. Skipping this file...\n",
      "BLK and 2019-03-31 already exist in embedding_df. Skipping this file...\n",
      "Ticker: VRTX\n",
      "VRTX not exists in the Financial Ticker. Continuing with the next ticker...\n",
      "Ticker: FRT\n",
      "FRT not exists in the Financial Ticker. Continuing with the next ticker...\n",
      "Ticker: LVS\n",
      "LVS not exists in the Financial Ticker. Continuing with the next ticker...\n",
      "Ticker: ECL\n",
      "ECL not exists in the Financial Ticker. Continuing with the next ticker...\n",
      "Ticker: RF\n",
      "RF and 2012-03-31 already exist in embedding_df. Skipping this file...\n",
      "RF and 2017-06-30 already exist in embedding_df. Skipping this file...\n",
      "RF and 2018-06-30 already exist in embedding_df. Skipping this file...\n",
      "RF and 2020-12-31 already exist in embedding_df. Skipping this file...\n",
      "RF and 2015-09-30 already exist in embedding_df. Skipping this file...\n",
      "RF and 2016-06-30 already exist in embedding_df. Skipping this file...\n",
      "RF and 2016-09-30 already exist in embedding_df. Skipping this file...\n",
      "RF and 2019-09-30 already exist in embedding_df. Skipping this file...\n",
      "RF and 2019-12-31 already exist in embedding_df. Skipping this file...\n",
      "RF and 2015-06-30 already exist in embedding_df. Skipping this file...\n",
      "RF and 2020-06-30 already exist in embedding_df. Skipping this file...\n",
      "RF and 2016-12-31 already exist in embedding_df. Skipping this file...\n",
      "RF and 2017-03-31 already exist in embedding_df. Skipping this file...\n",
      "RF and 2014-12-31 already exist in embedding_df. Skipping this file...\n",
      "RF and 2014-06-30 already exist in embedding_df. Skipping this file...\n",
      "RF and 2022-06-30 already exist in embedding_df. Skipping this file...\n",
      "RF and 2021-12-31 already exist in embedding_df. Skipping this file...\n",
      "RF and 2023-03-31 already exist in embedding_df. Skipping this file...\n",
      "RF and 2019-06-30 already exist in embedding_df. Skipping this file...\n",
      "RF and 2014-09-30 already exist in embedding_df. Skipping this file...\n",
      "RF and 2013-12-31 already exist in embedding_df. Skipping this file...\n",
      "RF and 2015-03-31 already exist in embedding_df. Skipping this file...\n",
      "RF and 2011-06-30 already exist in embedding_df. Skipping this file...\n",
      "RF and 2011-12-31 already exist in embedding_df. Skipping this file...\n",
      "RF and 2022-09-30 already exist in embedding_df. Skipping this file...\n",
      "RF and 2012-09-30 already exist in embedding_df. Skipping this file...\n",
      "RF and 2020-09-30 already exist in embedding_df. Skipping this file...\n",
      "RF and 2015-12-31 already exist in embedding_df. Skipping this file...\n",
      "RF and 2016-03-31 already exist in embedding_df. Skipping this file...\n",
      "RF and 2020-03-31 already exist in embedding_df. Skipping this file...\n",
      "RF and 2023-09-30 already exist in embedding_df. Skipping this file...\n",
      "RF and 2013-09-30 already exist in embedding_df. Skipping this file...\n",
      "RF and 2021-06-30 already exist in embedding_df. Skipping this file...\n",
      "RF and 2023-12-31 already exist in embedding_df. Skipping this file...\n",
      "RF and 2024-03-31 already exist in embedding_df. Skipping this file...\n",
      "RF and 2013-06-30 already exist in embedding_df. Skipping this file...\n",
      "RF and 2012-12-31 already exist in embedding_df. Skipping this file...\n",
      "RF and 2017-12-31 already exist in embedding_df. Skipping this file...\n",
      "RF and 2014-03-31 already exist in embedding_df. Skipping this file...\n",
      "RF and 2022-12-31 already exist in embedding_df. Skipping this file...\n",
      "RF and 2018-12-31 already exist in embedding_df. Skipping this file...\n",
      "RF and 2022-03-31 already exist in embedding_df. Skipping this file...\n",
      "RF and 2021-03-31 already exist in embedding_df. Skipping this file...\n",
      "RF and 2013-03-31 already exist in embedding_df. Skipping this file...\n",
      "RF and 2012-06-30 already exist in embedding_df. Skipping this file...\n",
      "RF and 2023-06-30 already exist in embedding_df. Skipping this file...\n",
      "RF and 2018-09-30 already exist in embedding_df. Skipping this file...\n",
      "RF and 2011-09-30 already exist in embedding_df. Skipping this file...\n",
      "RF and 2018-03-31 already exist in embedding_df. Skipping this file...\n",
      "RF and 2021-09-30 already exist in embedding_df. Skipping this file...\n",
      "RF and 2017-09-30 already exist in embedding_df. Skipping this file...\n",
      "RF and 2019-03-31 already exist in embedding_df. Skipping this file...\n",
      "Ticker: EMR\n",
      "EMR not exists in the Financial Ticker. Continuing with the next ticker...\n",
      "Ticker: CAH\n",
      "CAH not exists in the Financial Ticker. Continuing with the next ticker...\n",
      "Ticker: CHD\n",
      "CHD not exists in the Financial Ticker. Continuing with the next ticker...\n",
      "Ticker: BWA\n",
      "BWA not exists in the Financial Ticker. Continuing with the next ticker...\n",
      "Ticker: NDSN\n",
      "NDSN not exists in the Financial Ticker. Continuing with the next ticker...\n",
      "Ticker: BX\n",
      "BX and 2012-03-31 already exist in embedding_df. Skipping this file...\n",
      "BX and 2017-06-30 already exist in embedding_df. Skipping this file...\n",
      "BX and 2018-06-30 already exist in embedding_df. Skipping this file...\n",
      "BX and 2020-12-31 already exist in embedding_df. Skipping this file...\n",
      "BX and 2015-09-30 already exist in embedding_df. Skipping this file...\n",
      "BX and 2016-06-30 already exist in embedding_df. Skipping this file...\n",
      "BX and 2016-09-30 already exist in embedding_df. Skipping this file...\n",
      "BX and 2019-09-30 already exist in embedding_df. Skipping this file...\n",
      "BX and 2019-12-31 already exist in embedding_df. Skipping this file...\n",
      "BX and 2015-06-30 already exist in embedding_df. Skipping this file...\n",
      "BX and 2020-06-30 already exist in embedding_df. Skipping this file...\n",
      "BX and 2016-12-31 already exist in embedding_df. Skipping this file...\n",
      "BX and 2017-03-31 already exist in embedding_df. Skipping this file...\n",
      "BX and 2014-12-31 already exist in embedding_df. Skipping this file...\n",
      "BX and 2014-06-30 already exist in embedding_df. Skipping this file...\n",
      "BX and 2022-06-30 already exist in embedding_df. Skipping this file...\n",
      "BX and 2021-12-31 already exist in embedding_df. Skipping this file...\n",
      "BX and 2023-03-31 already exist in embedding_df. Skipping this file...\n",
      "BX and 2019-06-30 already exist in embedding_df. Skipping this file...\n",
      "BX and 2014-09-30 already exist in embedding_df. Skipping this file...\n",
      "BX and 2013-12-31 already exist in embedding_df. Skipping this file...\n",
      "BX and 2015-03-31 already exist in embedding_df. Skipping this file...\n",
      "BX and 2011-06-30 already exist in embedding_df. Skipping this file...\n",
      "BX and 2011-12-31 already exist in embedding_df. Skipping this file...\n",
      "BX and 2022-09-30 already exist in embedding_df. Skipping this file...\n",
      "BX and 2012-09-30 already exist in embedding_df. Skipping this file...\n",
      "BX and 2020-09-30 already exist in embedding_df. Skipping this file...\n",
      "BX and 2015-12-31 already exist in embedding_df. Skipping this file...\n",
      "BX and 2016-03-31 already exist in embedding_df. Skipping this file...\n",
      "BX and 2020-03-31 already exist in embedding_df. Skipping this file...\n",
      "BX and 2023-09-30 already exist in embedding_df. Skipping this file...\n",
      "BX and 2013-09-30 already exist in embedding_df. Skipping this file...\n",
      "BX and 2021-06-30 already exist in embedding_df. Skipping this file...\n",
      "BX and 2023-12-31 already exist in embedding_df. Skipping this file...\n",
      "BX and 2024-03-31 already exist in embedding_df. Skipping this file...\n",
      "BX and 2013-06-30 already exist in embedding_df. Skipping this file...\n",
      "BX and 2012-12-31 already exist in embedding_df. Skipping this file...\n",
      "BX and 2017-12-31 already exist in embedding_df. Skipping this file...\n",
      "BX and 2014-03-31 already exist in embedding_df. Skipping this file...\n",
      "BX and 2022-12-31 already exist in embedding_df. Skipping this file...\n",
      "BX and 2018-12-31 already exist in embedding_df. Skipping this file...\n",
      "BX and 2022-03-31 already exist in embedding_df. Skipping this file...\n",
      "BX and 2021-03-31 already exist in embedding_df. Skipping this file...\n",
      "BX and 2013-03-31 already exist in embedding_df. Skipping this file...\n",
      "BX and 2012-06-30 already exist in embedding_df. Skipping this file...\n",
      "BX and 2023-06-30 already exist in embedding_df. Skipping this file...\n",
      "BX and 2018-09-30 already exist in embedding_df. Skipping this file...\n",
      "BX and 2011-09-30 already exist in embedding_df. Skipping this file...\n",
      "BX and 2018-03-31 already exist in embedding_df. Skipping this file...\n",
      "BX and 2021-09-30 already exist in embedding_df. Skipping this file...\n",
      "BX and 2017-09-30 already exist in embedding_df. Skipping this file...\n",
      "BX and 2019-03-31 already exist in embedding_df. Skipping this file...\n",
      "Ticker: PPL\n",
      "PPL not exists in the Financial Ticker. Continuing with the next ticker...\n",
      "Ticker: DPZ\n",
      "DPZ not exists in the Financial Ticker. Continuing with the next ticker...\n",
      "Ticker: SJM\n",
      "SJM not exists in the Financial Ticker. Continuing with the next ticker...\n",
      "Ticker: AFL\n",
      "AFL and 2012-03-31 already exist in embedding_df. Skipping this file...\n",
      "AFL and 2017-06-30 already exist in embedding_df. Skipping this file...\n",
      "AFL and 2018-06-30 already exist in embedding_df. Skipping this file...\n",
      "AFL and 2020-12-31 already exist in embedding_df. Skipping this file...\n",
      "AFL and 2015-09-30 already exist in embedding_df. Skipping this file...\n",
      "AFL and 2016-06-30 already exist in embedding_df. Skipping this file...\n",
      "AFL and 2016-09-30 already exist in embedding_df. Skipping this file...\n",
      "AFL and 2019-09-30 already exist in embedding_df. Skipping this file...\n",
      "AFL and 2019-12-31 already exist in embedding_df. Skipping this file...\n",
      "AFL and 2015-06-30 already exist in embedding_df. Skipping this file...\n",
      "AFL and 2020-06-30 already exist in embedding_df. Skipping this file...\n",
      "AFL and 2016-12-31 already exist in embedding_df. Skipping this file...\n",
      "AFL and 2017-03-31 already exist in embedding_df. Skipping this file...\n",
      "AFL and 2014-12-31 already exist in embedding_df. Skipping this file...\n",
      "AFL and 2014-06-30 already exist in embedding_df. Skipping this file...\n",
      "AFL and 2022-06-30 already exist in embedding_df. Skipping this file...\n",
      "AFL and 2021-12-31 already exist in embedding_df. Skipping this file...\n",
      "AFL and 2023-03-31 already exist in embedding_df. Skipping this file...\n",
      "AFL and 2019-06-30 already exist in embedding_df. Skipping this file...\n",
      "AFL and 2014-09-30 already exist in embedding_df. Skipping this file...\n",
      "AFL and 2013-12-31 already exist in embedding_df. Skipping this file...\n",
      "AFL and 2015-03-31 already exist in embedding_df. Skipping this file...\n",
      "AFL and 2011-06-30 already exist in embedding_df. Skipping this file...\n",
      "AFL and 2011-12-31 already exist in embedding_df. Skipping this file...\n",
      "AFL and 2022-09-30 already exist in embedding_df. Skipping this file...\n",
      "AFL and 2012-09-30 already exist in embedding_df. Skipping this file...\n",
      "AFL and 2020-09-30 already exist in embedding_df. Skipping this file...\n",
      "AFL and 2015-12-31 already exist in embedding_df. Skipping this file...\n",
      "AFL and 2016-03-31 already exist in embedding_df. Skipping this file...\n",
      "AFL and 2020-03-31 already exist in embedding_df. Skipping this file...\n",
      "AFL and 2023-09-30 already exist in embedding_df. Skipping this file...\n",
      "AFL and 2013-09-30 already exist in embedding_df. Skipping this file...\n",
      "AFL and 2021-06-30 already exist in embedding_df. Skipping this file...\n",
      "AFL and 2023-12-31 already exist in embedding_df. Skipping this file...\n",
      "AFL and 2024-03-31 already exist in embedding_df. Skipping this file...\n",
      "AFL and 2013-06-30 already exist in embedding_df. Skipping this file...\n",
      "AFL and 2012-12-31 already exist in embedding_df. Skipping this file...\n",
      "AFL and 2017-12-31 already exist in embedding_df. Skipping this file...\n",
      "AFL and 2014-03-31 already exist in embedding_df. Skipping this file...\n",
      "AFL and 2022-12-31 already exist in embedding_df. Skipping this file...\n",
      "AFL and 2018-12-31 already exist in embedding_df. Skipping this file...\n",
      "AFL and 2022-03-31 already exist in embedding_df. Skipping this file...\n",
      "AFL and 2021-03-31 already exist in embedding_df. Skipping this file...\n",
      "AFL and 2013-03-31 already exist in embedding_df. Skipping this file...\n",
      "AFL and 2012-06-30 already exist in embedding_df. Skipping this file...\n",
      "AFL and 2023-06-30 already exist in embedding_df. Skipping this file...\n",
      "AFL and 2018-09-30 already exist in embedding_df. Skipping this file...\n",
      "AFL and 2011-09-30 already exist in embedding_df. Skipping this file...\n",
      "AFL and 2018-03-31 already exist in embedding_df. Skipping this file...\n",
      "AFL and 2021-09-30 already exist in embedding_df. Skipping this file...\n",
      "AFL and 2017-09-30 already exist in embedding_df. Skipping this file...\n",
      "AFL and 2019-03-31 already exist in embedding_df. Skipping this file...\n",
      "Ticker: CI\n",
      "CI not exists in the Financial Ticker. Continuing with the next ticker...\n",
      "Ticker: APA\n",
      "APA not exists in the Financial Ticker. Continuing with the next ticker...\n",
      "Ticker: CME\n",
      "CME and 2012-03-31 already exist in embedding_df. Skipping this file...\n",
      "CME and 2017-06-30 already exist in embedding_df. Skipping this file...\n",
      "CME and 2018-06-30 already exist in embedding_df. Skipping this file...\n",
      "CME and 2020-12-31 already exist in embedding_df. Skipping this file...\n",
      "CME and 2015-09-30 already exist in embedding_df. Skipping this file...\n",
      "CME and 2016-06-30 already exist in embedding_df. Skipping this file...\n",
      "CME and 2016-09-30 already exist in embedding_df. Skipping this file...\n",
      "CME and 2019-09-30 already exist in embedding_df. Skipping this file...\n",
      "CME and 2019-12-31 already exist in embedding_df. Skipping this file...\n",
      "CME and 2015-06-30 already exist in embedding_df. Skipping this file...\n",
      "CME and 2020-06-30 already exist in embedding_df. Skipping this file...\n",
      "CME and 2016-12-31 already exist in embedding_df. Skipping this file...\n",
      "CME and 2017-03-31 already exist in embedding_df. Skipping this file...\n",
      "CME and 2014-12-31 already exist in embedding_df. Skipping this file...\n",
      "CME and 2014-06-30 already exist in embedding_df. Skipping this file...\n",
      "CME and 2022-06-30 already exist in embedding_df. Skipping this file...\n",
      "CME and 2021-12-31 already exist in embedding_df. Skipping this file...\n",
      "CME and 2023-03-31 already exist in embedding_df. Skipping this file...\n",
      "CME and 2019-06-30 already exist in embedding_df. Skipping this file...\n",
      "CME and 2014-09-30 already exist in embedding_df. Skipping this file...\n",
      "CME and 2013-12-31 already exist in embedding_df. Skipping this file...\n",
      "CME and 2015-03-31 already exist in embedding_df. Skipping this file...\n",
      "CME and 2011-06-30 already exist in embedding_df. Skipping this file...\n",
      "CME and 2011-12-31 already exist in embedding_df. Skipping this file...\n",
      "CME and 2022-09-30 already exist in embedding_df. Skipping this file...\n",
      "CME and 2012-09-30 already exist in embedding_df. Skipping this file...\n",
      "CME and 2020-09-30 already exist in embedding_df. Skipping this file...\n",
      "CME and 2015-12-31 already exist in embedding_df. Skipping this file...\n",
      "CME and 2016-03-31 already exist in embedding_df. Skipping this file...\n",
      "CME and 2020-03-31 already exist in embedding_df. Skipping this file...\n",
      "CME and 2023-09-30 already exist in embedding_df. Skipping this file...\n",
      "CME and 2013-09-30 already exist in embedding_df. Skipping this file...\n",
      "CME and 2021-06-30 already exist in embedding_df. Skipping this file...\n",
      "CME and 2023-12-31 already exist in embedding_df. Skipping this file...\n",
      "CME and 2024-03-31 already exist in embedding_df. Skipping this file...\n",
      "CME and 2013-06-30 already exist in embedding_df. Skipping this file...\n",
      "CME and 2012-12-31 already exist in embedding_df. Skipping this file...\n",
      "CME and 2017-12-31 already exist in embedding_df. Skipping this file...\n",
      "CME and 2014-03-31 already exist in embedding_df. Skipping this file...\n",
      "CME and 2022-12-31 already exist in embedding_df. Skipping this file...\n",
      "CME and 2018-12-31 already exist in embedding_df. Skipping this file...\n",
      "CME and 2022-03-31 already exist in embedding_df. Skipping this file...\n",
      "CME and 2021-03-31 already exist in embedding_df. Skipping this file...\n",
      "CME and 2013-03-31 already exist in embedding_df. Skipping this file...\n",
      "CME and 2012-06-30 already exist in embedding_df. Skipping this file...\n",
      "CME and 2023-06-30 already exist in embedding_df. Skipping this file...\n",
      "CME and 2018-09-30 already exist in embedding_df. Skipping this file...\n",
      "CME and 2011-09-30 already exist in embedding_df. Skipping this file...\n",
      "CME and 2018-03-31 already exist in embedding_df. Skipping this file...\n",
      "CME and 2021-09-30 already exist in embedding_df. Skipping this file...\n",
      "CME and 2017-09-30 already exist in embedding_df. Skipping this file...\n",
      "CME and 2019-03-31 already exist in embedding_df. Skipping this file...\n",
      "Ticker: CPT\n",
      "CPT not exists in the Financial Ticker. Continuing with the next ticker...\n",
      "Ticker: ED\n",
      "ED not exists in the Financial Ticker. Continuing with the next ticker...\n",
      "Ticker: ETN\n",
      "ETN not exists in the Financial Ticker. Continuing with the next ticker...\n",
      "Ticker: EXC\n",
      "EXC not exists in the Financial Ticker. Continuing with the next ticker...\n",
      "Ticker: PM\n",
      "PM not exists in the Financial Ticker. Continuing with the next ticker...\n",
      "Ticker: NTAP\n",
      "NTAP not exists in the Financial Ticker. Continuing with the next ticker...\n",
      "Ticker: ANSS\n",
      "ANSS not exists in the Financial Ticker. Continuing with the next ticker...\n",
      "Ticker: ROK\n",
      "ROK not exists in the Financial Ticker. Continuing with the next ticker...\n",
      "Ticker: VMC\n",
      "VMC not exists in the Financial Ticker. Continuing with the next ticker...\n",
      "Ticker: TJX\n",
      "TJX not exists in the Financial Ticker. Continuing with the next ticker...\n",
      "Ticker: NEM\n",
      "NEM not exists in the Financial Ticker. Continuing with the next ticker...\n",
      "Ticker: EOG\n",
      "EOG not exists in the Financial Ticker. Continuing with the next ticker...\n",
      "Ticker: MSFT\n",
      "MSFT not exists in the Financial Ticker. Continuing with the next ticker...\n",
      "Ticker: WMB\n",
      "WMB not exists in the Financial Ticker. Continuing with the next ticker...\n",
      "Ticker: WRB\n",
      "WRB and 2012-03-31 already exist in embedding_df. Skipping this file...\n",
      "WRB and 2017-06-30 already exist in embedding_df. Skipping this file...\n",
      "WRB and 2018-06-30 already exist in embedding_df. Skipping this file...\n",
      "WRB and 2020-12-31 already exist in embedding_df. Skipping this file...\n",
      "WRB and 2015-09-30 already exist in embedding_df. Skipping this file...\n",
      "WRB and 2016-06-30 already exist in embedding_df. Skipping this file...\n",
      "WRB and 2016-09-30 already exist in embedding_df. Skipping this file...\n",
      "WRB and 2019-09-30 already exist in embedding_df. Skipping this file...\n",
      "WRB and 2019-12-31 already exist in embedding_df. Skipping this file...\n",
      "WRB and 2015-06-30 already exist in embedding_df. Skipping this file...\n",
      "WRB and 2020-06-30 already exist in embedding_df. Skipping this file...\n",
      "WRB and 2016-12-31 already exist in embedding_df. Skipping this file...\n",
      "WRB and 2017-03-31 already exist in embedding_df. Skipping this file...\n",
      "WRB and 2014-12-31 already exist in embedding_df. Skipping this file...\n",
      "WRB and 2014-06-30 already exist in embedding_df. Skipping this file...\n",
      "WRB and 2022-06-30 already exist in embedding_df. Skipping this file...\n",
      "WRB and 2021-12-31 already exist in embedding_df. Skipping this file...\n",
      "WRB and 2023-03-31 already exist in embedding_df. Skipping this file...\n",
      "WRB and 2019-06-30 already exist in embedding_df. Skipping this file...\n",
      "WRB and 2014-09-30 already exist in embedding_df. Skipping this file...\n",
      "WRB and 2013-12-31 already exist in embedding_df. Skipping this file...\n",
      "WRB and 2015-03-31 already exist in embedding_df. Skipping this file...\n",
      "WRB and 2011-06-30 already exist in embedding_df. Skipping this file...\n",
      "WRB and 2011-12-31 already exist in embedding_df. Skipping this file...\n",
      "WRB and 2022-09-30 already exist in embedding_df. Skipping this file...\n",
      "WRB and 2012-09-30 already exist in embedding_df. Skipping this file...\n",
      "WRB and 2020-09-30 already exist in embedding_df. Skipping this file...\n",
      "WRB and 2015-12-31 already exist in embedding_df. Skipping this file...\n",
      "WRB and 2016-03-31 already exist in embedding_df. Skipping this file...\n",
      "WRB and 2020-03-31 already exist in embedding_df. Skipping this file...\n",
      "WRB and 2023-09-30 already exist in embedding_df. Skipping this file...\n",
      "WRB and 2013-09-30 already exist in embedding_df. Skipping this file...\n",
      "WRB and 2021-06-30 already exist in embedding_df. Skipping this file...\n",
      "WRB and 2023-12-31 already exist in embedding_df. Skipping this file...\n",
      "WRB and 2024-03-31 already exist in embedding_df. Skipping this file...\n",
      "WRB and 2013-06-30 already exist in embedding_df. Skipping this file...\n",
      "WRB and 2012-12-31 already exist in embedding_df. Skipping this file...\n",
      "WRB and 2017-12-31 already exist in embedding_df. Skipping this file...\n",
      "WRB and 2014-03-31 already exist in embedding_df. Skipping this file...\n",
      "WRB and 2022-12-31 already exist in embedding_df. Skipping this file...\n",
      "WRB and 2018-12-31 already exist in embedding_df. Skipping this file...\n",
      "WRB and 2022-03-31 already exist in embedding_df. Skipping this file...\n",
      "WRB and 2021-03-31 already exist in embedding_df. Skipping this file...\n",
      "WRB and 2013-03-31 already exist in embedding_df. Skipping this file...\n",
      "WRB and 2012-06-30 already exist in embedding_df. Skipping this file...\n",
      "WRB and 2023-06-30 already exist in embedding_df. Skipping this file...\n",
      "WRB and 2018-09-30 already exist in embedding_df. Skipping this file...\n",
      "WRB and 2011-09-30 already exist in embedding_df. Skipping this file...\n",
      "WRB and 2018-03-31 already exist in embedding_df. Skipping this file...\n",
      "WRB and 2021-09-30 already exist in embedding_df. Skipping this file...\n",
      "WRB and 2017-09-30 already exist in embedding_df. Skipping this file...\n",
      "WRB and 2019-03-31 already exist in embedding_df. Skipping this file...\n",
      "Ticker: TFX\n",
      "TFX not exists in the Financial Ticker. Continuing with the next ticker...\n",
      "Ticker: SPG\n",
      "SPG not exists in the Financial Ticker. Continuing with the next ticker...\n",
      "Ticker: ORLY\n",
      "ORLY not exists in the Financial Ticker. Continuing with the next ticker...\n",
      "Ticker: EXPD\n",
      "EXPD not exists in the Financial Ticker. Continuing with the next ticker...\n",
      "Ticker: SBAC\n",
      "SBAC not exists in the Financial Ticker. Continuing with the next ticker...\n",
      "Ticker: MSI\n",
      "MSI not exists in the Financial Ticker. Continuing with the next ticker...\n",
      "Ticker: MCO\n",
      "MCO and 2012-03-31 already exist in embedding_df. Skipping this file...\n",
      "MCO and 2017-06-30 already exist in embedding_df. Skipping this file...\n",
      "MCO and 2018-06-30 already exist in embedding_df. Skipping this file...\n",
      "MCO and 2020-12-31 already exist in embedding_df. Skipping this file...\n",
      "MCO and 2015-09-30 already exist in embedding_df. Skipping this file...\n",
      "MCO and 2016-06-30 already exist in embedding_df. Skipping this file...\n",
      "MCO and 2016-09-30 already exist in embedding_df. Skipping this file...\n",
      "MCO and 2019-09-30 already exist in embedding_df. Skipping this file...\n",
      "MCO and 2019-12-31 already exist in embedding_df. Skipping this file...\n",
      "MCO and 2015-06-30 already exist in embedding_df. Skipping this file...\n",
      "MCO and 2020-06-30 already exist in embedding_df. Skipping this file...\n",
      "MCO and 2016-12-31 already exist in embedding_df. Skipping this file...\n",
      "MCO and 2017-03-31 already exist in embedding_df. Skipping this file...\n",
      "MCO and 2014-12-31 already exist in embedding_df. Skipping this file...\n",
      "MCO and 2014-06-30 already exist in embedding_df. Skipping this file...\n",
      "MCO and 2022-06-30 already exist in embedding_df. Skipping this file...\n",
      "MCO and 2021-12-31 already exist in embedding_df. Skipping this file...\n",
      "MCO and 2023-03-31 already exist in embedding_df. Skipping this file...\n",
      "MCO and 2019-06-30 already exist in embedding_df. Skipping this file...\n",
      "MCO and 2014-09-30 already exist in embedding_df. Skipping this file...\n",
      "MCO and 2013-12-31 already exist in embedding_df. Skipping this file...\n",
      "MCO and 2015-03-31 already exist in embedding_df. Skipping this file...\n",
      "MCO and 2011-06-30 already exist in embedding_df. Skipping this file...\n",
      "MCO and 2011-12-31 already exist in embedding_df. Skipping this file...\n",
      "MCO and 2022-09-30 already exist in embedding_df. Skipping this file...\n",
      "MCO and 2012-09-30 already exist in embedding_df. Skipping this file...\n",
      "MCO and 2020-09-30 already exist in embedding_df. Skipping this file...\n",
      "MCO and 2015-12-31 already exist in embedding_df. Skipping this file...\n",
      "MCO and 2016-03-31 already exist in embedding_df. Skipping this file...\n",
      "MCO and 2020-03-31 already exist in embedding_df. Skipping this file...\n",
      "MCO and 2023-09-30 already exist in embedding_df. Skipping this file...\n",
      "MCO and 2013-09-30 already exist in embedding_df. Skipping this file...\n",
      "MCO and 2021-06-30 already exist in embedding_df. Skipping this file...\n",
      "MCO and 2023-12-31 already exist in embedding_df. Skipping this file...\n",
      "MCO and 2024-03-31 already exist in embedding_df. Skipping this file...\n",
      "MCO and 2013-06-30 already exist in embedding_df. Skipping this file...\n",
      "MCO and 2012-12-31 already exist in embedding_df. Skipping this file...\n",
      "MCO and 2017-12-31 already exist in embedding_df. Skipping this file...\n",
      "MCO and 2014-03-31 already exist in embedding_df. Skipping this file...\n",
      "MCO and 2022-12-31 already exist in embedding_df. Skipping this file...\n",
      "MCO and 2018-12-31 already exist in embedding_df. Skipping this file...\n",
      "MCO and 2022-03-31 already exist in embedding_df. Skipping this file...\n",
      "MCO and 2021-03-31 already exist in embedding_df. Skipping this file...\n",
      "MCO and 2013-03-31 already exist in embedding_df. Skipping this file...\n",
      "MCO and 2012-06-30 already exist in embedding_df. Skipping this file...\n",
      "MCO and 2023-06-30 already exist in embedding_df. Skipping this file...\n",
      "MCO and 2018-09-30 already exist in embedding_df. Skipping this file...\n",
      "MCO and 2011-09-30 already exist in embedding_df. Skipping this file...\n",
      "MCO and 2018-03-31 already exist in embedding_df. Skipping this file...\n",
      "MCO and 2021-09-30 already exist in embedding_df. Skipping this file...\n",
      "MCO and 2017-09-30 already exist in embedding_df. Skipping this file...\n",
      "MCO and 2019-03-31 already exist in embedding_df. Skipping this file...\n",
      "Ticker: AWK\n",
      "AWK not exists in the Financial Ticker. Continuing with the next ticker...\n",
      "Ticker: IP\n",
      "IP not exists in the Financial Ticker. Continuing with the next ticker...\n",
      "Ticker: DGX\n",
      "DGX not exists in the Financial Ticker. Continuing with the next ticker...\n",
      "Ticker: GLW\n",
      "GLW not exists in the Financial Ticker. Continuing with the next ticker...\n",
      "Ticker: GNRC\n",
      "GNRC not exists in the Financial Ticker. Continuing with the next ticker...\n",
      "Ticker: HON\n",
      "HON not exists in the Financial Ticker. Continuing with the next ticker...\n",
      "Ticker: EFX\n",
      "EFX not exists in the Financial Ticker. Continuing with the next ticker...\n",
      "Ticker: SYK\n",
      "SYK not exists in the Financial Ticker. Continuing with the next ticker...\n",
      "Ticker: D\n",
      "D not exists in the Financial Ticker. Continuing with the next ticker...\n",
      "Ticker: ODFL\n",
      "ODFL not exists in the Financial Ticker. Continuing with the next ticker...\n",
      "Ticker: NWSA\n",
      "NWSA not exists in the Financial Ticker. Continuing with the next ticker...\n",
      "Ticker: ILMN\n",
      "ILMN not exists in the Financial Ticker. Continuing with the next ticker...\n",
      "Ticker: IBM\n",
      "IBM not exists in the Financial Ticker. Continuing with the next ticker...\n",
      "Ticker: CE\n",
      "CE not exists in the Financial Ticker. Continuing with the next ticker...\n",
      "Ticker: PHM\n",
      "PHM not exists in the Financial Ticker. Continuing with the next ticker...\n",
      "Ticker: ROP\n",
      "ROP not exists in the Financial Ticker. Continuing with the next ticker...\n",
      "Ticker: APD\n",
      "APD not exists in the Financial Ticker. Continuing with the next ticker...\n",
      "Ticker: FAST\n",
      "FAST not exists in the Financial Ticker. Continuing with the next ticker...\n",
      "Ticker: WM\n",
      "WM not exists in the Financial Ticker. Continuing with the next ticker...\n",
      "Ticker: CSX\n",
      "CSX not exists in the Financial Ticker. Continuing with the next ticker...\n",
      "Ticker: STX\n",
      "STX not exists in the Financial Ticker. Continuing with the next ticker...\n",
      "Ticker: AZO\n",
      "AZO not exists in the Financial Ticker. Continuing with the next ticker...\n",
      "Ticker: O\n",
      "O not exists in the Financial Ticker. Continuing with the next ticker...\n",
      "Ticker: CMI\n",
      "CMI not exists in the Financial Ticker. Continuing with the next ticker...\n",
      "Ticker: ZION\n",
      "ZION and 2012-03-31 already exist in embedding_df. Skipping this file...\n",
      "ZION and 2017-06-30 already exist in embedding_df. Skipping this file...\n",
      "ZION and 2018-06-30 already exist in embedding_df. Skipping this file...\n",
      "ZION and 2020-12-31 already exist in embedding_df. Skipping this file...\n",
      "ZION and 2015-09-30 already exist in embedding_df. Skipping this file...\n",
      "ZION and 2016-06-30 already exist in embedding_df. Skipping this file...\n",
      "ZION and 2016-09-30 already exist in embedding_df. Skipping this file...\n",
      "ZION and 2019-09-30 already exist in embedding_df. Skipping this file...\n",
      "ZION and 2019-12-31 already exist in embedding_df. Skipping this file...\n",
      "ZION and 2015-06-30 already exist in embedding_df. Skipping this file...\n",
      "ZION and 2020-06-30 already exist in embedding_df. Skipping this file...\n",
      "ZION and 2016-12-31 already exist in embedding_df. Skipping this file...\n",
      "ZION and 2017-03-31 already exist in embedding_df. Skipping this file...\n",
      "ZION and 2014-12-31 already exist in embedding_df. Skipping this file...\n",
      "ZION and 2014-06-30 already exist in embedding_df. Skipping this file...\n",
      "ZION and 2022-06-30 already exist in embedding_df. Skipping this file...\n",
      "ZION and 2021-12-31 already exist in embedding_df. Skipping this file...\n",
      "ZION and 2023-03-31 already exist in embedding_df. Skipping this file...\n",
      "ZION and 2019-06-30 already exist in embedding_df. Skipping this file...\n",
      "ZION and 2014-09-30 already exist in embedding_df. Skipping this file...\n",
      "ZION and 2013-12-31 already exist in embedding_df. Skipping this file...\n",
      "ZION and 2015-03-31 already exist in embedding_df. Skipping this file...\n",
      "ZION and 2011-06-30 already exist in embedding_df. Skipping this file...\n",
      "ZION and 2011-12-31 already exist in embedding_df. Skipping this file...\n",
      "ZION and 2022-09-30 already exist in embedding_df. Skipping this file...\n",
      "ZION and 2012-09-30 already exist in embedding_df. Skipping this file...\n",
      "ZION and 2020-09-30 already exist in embedding_df. Skipping this file...\n",
      "ZION and 2015-12-31 already exist in embedding_df. Skipping this file...\n",
      "ZION and 2016-03-31 already exist in embedding_df. Skipping this file...\n",
      "ZION and 2020-03-31 already exist in embedding_df. Skipping this file...\n",
      "ZION and 2023-09-30 already exist in embedding_df. Skipping this file...\n",
      "ZION and 2013-09-30 already exist in embedding_df. Skipping this file...\n",
      "ZION and 2021-06-30 already exist in embedding_df. Skipping this file...\n",
      "ZION and 2023-12-31 already exist in embedding_df. Skipping this file...\n",
      "ZION and 2024-03-31 already exist in embedding_df. Skipping this file...\n",
      "ZION and 2013-06-30 already exist in embedding_df. Skipping this file...\n",
      "ZION and 2012-12-31 already exist in embedding_df. Skipping this file...\n",
      "ZION and 2017-12-31 already exist in embedding_df. Skipping this file...\n",
      "ZION and 2014-03-31 already exist in embedding_df. Skipping this file...\n",
      "ZION and 2022-12-31 already exist in embedding_df. Skipping this file...\n",
      "ZION and 2018-12-31 already exist in embedding_df. Skipping this file...\n",
      "ZION and 2022-03-31 already exist in embedding_df. Skipping this file...\n",
      "ZION and 2021-03-31 already exist in embedding_df. Skipping this file...\n",
      "ZION and 2013-03-31 already exist in embedding_df. Skipping this file...\n",
      "ZION and 2012-06-30 already exist in embedding_df. Skipping this file...\n",
      "ZION and 2023-06-30 already exist in embedding_df. Skipping this file...\n",
      "ZION and 2018-09-30 already exist in embedding_df. Skipping this file...\n",
      "ZION and 2011-09-30 already exist in embedding_df. Skipping this file...\n",
      "ZION and 2018-03-31 already exist in embedding_df. Skipping this file...\n",
      "ZION and 2021-09-30 already exist in embedding_df. Skipping this file...\n",
      "ZION and 2017-09-30 already exist in embedding_df. Skipping this file...\n",
      "ZION and 2019-03-31 already exist in embedding_df. Skipping this file...\n",
      "Ticker: JBHT\n",
      "JBHT not exists in the Financial Ticker. Continuing with the next ticker...\n",
      "Ticker: BMY\n",
      "BMY not exists in the Financial Ticker. Continuing with the next ticker...\n",
      "Ticker: DG\n",
      "DG not exists in the Financial Ticker. Continuing with the next ticker...\n",
      "Ticker: XOM\n",
      "XOM not exists in the Financial Ticker. Continuing with the next ticker...\n",
      "Ticker: GILD\n",
      "GILD not exists in the Financial Ticker. Continuing with the next ticker...\n",
      "Ticker: FCX\n",
      "FCX not exists in the Financial Ticker. Continuing with the next ticker...\n",
      "Ticker: LYB\n",
      "LYB not exists in the Financial Ticker. Continuing with the next ticker...\n",
      "Ticker: CPRT\n",
      "CPRT not exists in the Financial Ticker. Continuing with the next ticker...\n",
      "Ticker: DLTR\n",
      "DLTR not exists in the Financial Ticker. Continuing with the next ticker...\n",
      "Ticker: KMX\n",
      "KMX not exists in the Financial Ticker. Continuing with the next ticker...\n",
      "Ticker: PSA\n",
      "PSA not exists in the Financial Ticker. Continuing with the next ticker...\n",
      "Ticker: CBOE\n",
      "CBOE and 2012-03-31 already exist in embedding_df. Skipping this file...\n",
      "CBOE and 2017-06-30 already exist in embedding_df. Skipping this file...\n",
      "CBOE and 2018-06-30 already exist in embedding_df. Skipping this file...\n",
      "CBOE and 2020-12-31 already exist in embedding_df. Skipping this file...\n",
      "CBOE and 2015-09-30 already exist in embedding_df. Skipping this file...\n",
      "CBOE and 2016-06-30 already exist in embedding_df. Skipping this file...\n",
      "CBOE and 2016-09-30 already exist in embedding_df. Skipping this file...\n",
      "CBOE and 2019-09-30 already exist in embedding_df. Skipping this file...\n",
      "CBOE and 2019-12-31 already exist in embedding_df. Skipping this file...\n",
      "CBOE and 2015-06-30 already exist in embedding_df. Skipping this file...\n",
      "CBOE and 2013-11-04 already exist in embedding_df. Skipping this file...\n",
      "CBOE and 2020-06-30 already exist in embedding_df. Skipping this file...\n",
      "CBOE and 2016-12-31 already exist in embedding_df. Skipping this file...\n",
      "CBOE and 2017-03-31 already exist in embedding_df. Skipping this file...\n",
      "CBOE and 2014-12-31 already exist in embedding_df. Skipping this file...\n",
      "CBOE and 2014-06-30 already exist in embedding_df. Skipping this file...\n",
      "CBOE and 2022-06-30 already exist in embedding_df. Skipping this file...\n",
      "CBOE and 2021-12-31 already exist in embedding_df. Skipping this file...\n",
      "CBOE and 2023-03-31 already exist in embedding_df. Skipping this file...\n",
      "CBOE and 2019-06-30 already exist in embedding_df. Skipping this file...\n",
      "CBOE and 2014-09-30 already exist in embedding_df. Skipping this file...\n",
      "CBOE and 2013-12-31 already exist in embedding_df. Skipping this file...\n",
      "CBOE and 2015-03-31 already exist in embedding_df. Skipping this file...\n",
      "CBOE and 2011-12-31 already exist in embedding_df. Skipping this file...\n",
      "CBOE and 2022-09-30 already exist in embedding_df. Skipping this file...\n",
      "CBOE and 2012-09-30 already exist in embedding_df. Skipping this file...\n",
      "CBOE and 2020-09-30 already exist in embedding_df. Skipping this file...\n",
      "CBOE and 2015-12-31 already exist in embedding_df. Skipping this file...\n",
      "CBOE and 2016-03-31 already exist in embedding_df. Skipping this file...\n",
      "CBOE and 2011-06-29 already exist in embedding_df. Skipping this file...\n",
      "CBOE and 2020-03-31 already exist in embedding_df. Skipping this file...\n",
      "CBOE and 2023-09-30 already exist in embedding_df. Skipping this file...\n",
      "CBOE and 2021-06-30 already exist in embedding_df. Skipping this file...\n",
      "CBOE and 2023-12-31 already exist in embedding_df. Skipping this file...\n",
      "CBOE and 2024-03-31 already exist in embedding_df. Skipping this file...\n",
      "CBOE and 2013-06-30 already exist in embedding_df. Skipping this file...\n",
      "CBOE and 2012-12-31 already exist in embedding_df. Skipping this file...\n",
      "CBOE and 2017-12-31 already exist in embedding_df. Skipping this file...\n",
      "CBOE and 2014-03-31 already exist in embedding_df. Skipping this file...\n",
      "CBOE and 2022-12-31 already exist in embedding_df. Skipping this file...\n",
      "CBOE and 2018-12-31 already exist in embedding_df. Skipping this file...\n",
      "CBOE and 2022-03-31 already exist in embedding_df. Skipping this file...\n",
      "CBOE and 2021-03-31 already exist in embedding_df. Skipping this file...\n",
      "CBOE and 2013-03-31 already exist in embedding_df. Skipping this file...\n",
      "CBOE and 2012-06-30 already exist in embedding_df. Skipping this file...\n",
      "CBOE and 2023-06-30 already exist in embedding_df. Skipping this file...\n",
      "CBOE and 2018-09-30 already exist in embedding_df. Skipping this file...\n",
      "CBOE and 2011-09-30 already exist in embedding_df. Skipping this file...\n",
      "CBOE and 2018-03-31 already exist in embedding_df. Skipping this file...\n",
      "CBOE and 2021-09-30 already exist in embedding_df. Skipping this file...\n",
      "CBOE and 2017-09-30 already exist in embedding_df. Skipping this file...\n",
      "CBOE and 2019-03-31 already exist in embedding_df. Skipping this file...\n",
      "Ticker: NEE\n",
      "NEE not exists in the Financial Ticker. Continuing with the next ticker...\n",
      "Ticker: MCHP\n",
      "MCHP not exists in the Financial Ticker. Continuing with the next ticker...\n",
      "Ticker: AVGO\n",
      "AVGO not exists in the Financial Ticker. Continuing with the next ticker...\n",
      "Ticker: WFC\n",
      "WFC and 2012-03-31 already exist in embedding_df. Skipping this file...\n",
      "WFC and 2017-06-30 already exist in embedding_df. Skipping this file...\n",
      "WFC and 2018-06-30 already exist in embedding_df. Skipping this file...\n",
      "WFC and 2020-12-31 already exist in embedding_df. Skipping this file...\n",
      "WFC and 2015-09-30 already exist in embedding_df. Skipping this file...\n",
      "WFC and 2016-06-30 already exist in embedding_df. Skipping this file...\n",
      "WFC and 2016-09-30 already exist in embedding_df. Skipping this file...\n",
      "WFC and 2019-09-30 already exist in embedding_df. Skipping this file...\n",
      "WFC and 2019-12-31 already exist in embedding_df. Skipping this file...\n",
      "WFC and 2015-06-30 already exist in embedding_df. Skipping this file...\n",
      "WFC and 2020-06-30 already exist in embedding_df. Skipping this file...\n",
      "WFC and 2016-12-31 already exist in embedding_df. Skipping this file...\n",
      "WFC and 2017-03-31 already exist in embedding_df. Skipping this file...\n",
      "WFC and 2014-12-31 already exist in embedding_df. Skipping this file...\n",
      "WFC and 2014-06-30 already exist in embedding_df. Skipping this file...\n",
      "WFC and 2022-06-30 already exist in embedding_df. Skipping this file...\n",
      "WFC and 2021-12-31 already exist in embedding_df. Skipping this file...\n",
      "WFC and 2023-03-31 already exist in embedding_df. Skipping this file...\n",
      "WFC and 2019-06-30 already exist in embedding_df. Skipping this file...\n",
      "WFC and 2014-09-30 already exist in embedding_df. Skipping this file...\n",
      "WFC and 2013-12-31 already exist in embedding_df. Skipping this file...\n",
      "WFC and 2015-03-31 already exist in embedding_df. Skipping this file...\n",
      "WFC and 2011-06-30 already exist in embedding_df. Skipping this file...\n",
      "WFC and 2011-12-31 already exist in embedding_df. Skipping this file...\n",
      "WFC and 2022-09-30 already exist in embedding_df. Skipping this file...\n",
      "WFC and 2012-09-30 already exist in embedding_df. Skipping this file...\n",
      "WFC and 2020-09-30 already exist in embedding_df. Skipping this file...\n",
      "WFC and 2015-12-31 already exist in embedding_df. Skipping this file...\n",
      "WFC and 2016-03-31 already exist in embedding_df. Skipping this file...\n",
      "WFC and 2020-03-31 already exist in embedding_df. Skipping this file...\n",
      "WFC and 2023-09-30 already exist in embedding_df. Skipping this file...\n",
      "WFC and 2013-09-30 already exist in embedding_df. Skipping this file...\n",
      "WFC and 2021-06-30 already exist in embedding_df. Skipping this file...\n",
      "WFC and 2023-12-31 already exist in embedding_df. Skipping this file...\n",
      "WFC and 2024-03-31 already exist in embedding_df. Skipping this file...\n",
      "WFC and 2013-06-30 already exist in embedding_df. Skipping this file...\n",
      "WFC and 2012-12-31 already exist in embedding_df. Skipping this file...\n",
      "WFC and 2017-12-31 already exist in embedding_df. Skipping this file...\n",
      "WFC and 2014-03-31 already exist in embedding_df. Skipping this file...\n",
      "WFC and 2022-12-31 already exist in embedding_df. Skipping this file...\n",
      "WFC and 2018-12-31 already exist in embedding_df. Skipping this file...\n",
      "WFC and 2022-03-31 already exist in embedding_df. Skipping this file...\n",
      "WFC and 2021-03-31 already exist in embedding_df. Skipping this file...\n",
      "WFC and 2013-03-31 already exist in embedding_df. Skipping this file...\n",
      "WFC and 2012-06-30 already exist in embedding_df. Skipping this file...\n",
      "WFC and 2023-06-30 already exist in embedding_df. Skipping this file...\n",
      "WFC and 2018-09-30 already exist in embedding_df. Skipping this file...\n",
      "WFC and 2011-09-30 already exist in embedding_df. Skipping this file...\n",
      "WFC and 2018-03-31 already exist in embedding_df. Skipping this file...\n",
      "WFC and 2021-09-30 already exist in embedding_df. Skipping this file...\n",
      "WFC and 2017-09-30 already exist in embedding_df. Skipping this file...\n",
      "WFC and 2019-03-31 already exist in embedding_df. Skipping this file...\n",
      "Ticker: WYNN\n",
      "WYNN not exists in the Financial Ticker. Continuing with the next ticker...\n",
      "Ticker: TRGP\n",
      "TRGP not exists in the Financial Ticker. Continuing with the next ticker...\n",
      "Ticker: CDNS\n",
      "CDNS not exists in the Financial Ticker. Continuing with the next ticker...\n",
      "Ticker: FE\n",
      "FE not exists in the Financial Ticker. Continuing with the next ticker...\n",
      "Ticker: PG\n",
      "PG not exists in the Financial Ticker. Continuing with the next ticker...\n",
      "Ticker: VRSK\n",
      "VRSK not exists in the Financial Ticker. Continuing with the next ticker...\n",
      "Ticker: BDX\n",
      "BDX not exists in the Financial Ticker. Continuing with the next ticker...\n",
      "Ticker: BIIB\n",
      "BIIB not exists in the Financial Ticker. Continuing with the next ticker...\n",
      "Ticker: CRM\n",
      "CRM not exists in the Financial Ticker. Continuing with the next ticker...\n",
      "Ticker: DLR\n",
      "DLR not exists in the Financial Ticker. Continuing with the next ticker...\n",
      "Ticker: CHTR\n",
      "CHTR not exists in the Financial Ticker. Continuing with the next ticker...\n",
      "Ticker: COST\n",
      "COST not exists in the Financial Ticker. Continuing with the next ticker...\n",
      "Ticker: HSY\n",
      "HSY not exists in the Financial Ticker. Continuing with the next ticker...\n",
      "Ticker: AVY\n",
      "AVY not exists in the Financial Ticker. Continuing with the next ticker...\n",
      "Ticker: VFC\n",
      "VFC not exists in the Financial Ticker. Continuing with the next ticker...\n",
      "Ticker: HUM\n",
      "HUM not exists in the Financial Ticker. Continuing with the next ticker...\n",
      "Ticker: AMT\n",
      "AMT not exists in the Financial Ticker. Continuing with the next ticker...\n",
      "Ticker: KO\n",
      "KO not exists in the Financial Ticker. Continuing with the next ticker...\n",
      "Ticker: AOS\n",
      "AOS not exists in the Financial Ticker. Continuing with the next ticker...\n",
      "Ticker: SNPS\n",
      "SNPS not exists in the Financial Ticker. Continuing with the next ticker...\n",
      "Ticker: CF\n",
      "CF not exists in the Financial Ticker. Continuing with the next ticker...\n",
      "Ticker: GD\n",
      "GD not exists in the Financial Ticker. Continuing with the next ticker...\n",
      "Ticker: EXPE\n",
      "EXPE not exists in the Financial Ticker. Continuing with the next ticker...\n",
      "Ticker: TRMB\n",
      "TRMB not exists in the Financial Ticker. Continuing with the next ticker...\n",
      "Ticker: DE\n",
      "DE not exists in the Financial Ticker. Continuing with the next ticker...\n",
      "Ticker: IVZ\n",
      "IVZ and 2012-03-31 already exist in embedding_df. Skipping this file...\n",
      "IVZ and 2017-06-30 already exist in embedding_df. Skipping this file...\n",
      "IVZ and 2018-06-30 already exist in embedding_df. Skipping this file...\n",
      "IVZ and 2020-12-31 already exist in embedding_df. Skipping this file...\n",
      "IVZ and 2015-09-30 already exist in embedding_df. Skipping this file...\n",
      "IVZ and 2016-06-30 already exist in embedding_df. Skipping this file...\n",
      "IVZ and 2016-09-30 already exist in embedding_df. Skipping this file...\n",
      "IVZ and 2019-09-30 already exist in embedding_df. Skipping this file...\n",
      "IVZ and 2019-12-31 already exist in embedding_df. Skipping this file...\n",
      "IVZ and 2015-06-30 already exist in embedding_df. Skipping this file...\n",
      "IVZ and 2020-06-30 already exist in embedding_df. Skipping this file...\n",
      "IVZ and 2016-12-31 already exist in embedding_df. Skipping this file...\n",
      "IVZ and 2017-03-31 already exist in embedding_df. Skipping this file...\n",
      "IVZ and 2014-12-31 already exist in embedding_df. Skipping this file...\n",
      "IVZ and 2014-06-30 already exist in embedding_df. Skipping this file...\n",
      "IVZ and 2022-06-30 already exist in embedding_df. Skipping this file...\n",
      "IVZ and 2021-12-31 already exist in embedding_df. Skipping this file...\n",
      "IVZ and 2023-03-31 already exist in embedding_df. Skipping this file...\n",
      "IVZ and 2019-06-30 already exist in embedding_df. Skipping this file...\n",
      "IVZ and 2014-09-30 already exist in embedding_df. Skipping this file...\n",
      "IVZ and 2013-12-31 already exist in embedding_df. Skipping this file...\n",
      "IVZ and 2015-03-31 already exist in embedding_df. Skipping this file...\n",
      "IVZ and 2011-06-30 already exist in embedding_df. Skipping this file...\n",
      "IVZ and 2011-12-31 already exist in embedding_df. Skipping this file...\n",
      "IVZ and 2022-09-30 already exist in embedding_df. Skipping this file...\n",
      "IVZ and 2012-09-30 already exist in embedding_df. Skipping this file...\n",
      "IVZ and 2020-09-30 already exist in embedding_df. Skipping this file...\n",
      "IVZ and 2015-12-31 already exist in embedding_df. Skipping this file...\n",
      "IVZ and 2016-03-31 already exist in embedding_df. Skipping this file...\n",
      "IVZ and 2020-03-31 already exist in embedding_df. Skipping this file...\n",
      "IVZ and 2023-09-30 already exist in embedding_df. Skipping this file...\n",
      "IVZ and 2013-09-30 already exist in embedding_df. Skipping this file...\n",
      "IVZ and 2021-06-30 already exist in embedding_df. Skipping this file...\n",
      "IVZ and 2023-12-31 already exist in embedding_df. Skipping this file...\n",
      "IVZ and 2024-03-31 already exist in embedding_df. Skipping this file...\n",
      "IVZ and 2013-06-30 already exist in embedding_df. Skipping this file...\n",
      "IVZ and 2012-12-31 already exist in embedding_df. Skipping this file...\n",
      "IVZ and 2017-12-31 already exist in embedding_df. Skipping this file...\n",
      "IVZ and 2014-03-31 already exist in embedding_df. Skipping this file...\n",
      "IVZ and 2022-12-31 already exist in embedding_df. Skipping this file...\n",
      "IVZ and 2018-12-31 already exist in embedding_df. Skipping this file...\n",
      "IVZ and 2022-03-31 already exist in embedding_df. Skipping this file...\n",
      "IVZ and 2021-03-31 already exist in embedding_df. Skipping this file...\n",
      "IVZ and 2013-03-31 already exist in embedding_df. Skipping this file...\n",
      "IVZ and 2012-06-30 already exist in embedding_df. Skipping this file...\n",
      "IVZ and 2023-06-30 already exist in embedding_df. Skipping this file...\n",
      "IVZ and 2018-09-30 already exist in embedding_df. Skipping this file...\n",
      "IVZ and 2011-09-30 already exist in embedding_df. Skipping this file...\n",
      "IVZ and 2018-03-31 already exist in embedding_df. Skipping this file...\n",
      "IVZ and 2021-09-30 already exist in embedding_df. Skipping this file...\n",
      "IVZ and 2017-09-30 already exist in embedding_df. Skipping this file...\n",
      "IVZ and 2019-03-31 already exist in embedding_df. Skipping this file...\n",
      "Ticker: TSN\n",
      "TSN not exists in the Financial Ticker. Continuing with the next ticker...\n",
      "Ticker: APH\n",
      "APH not exists in the Financial Ticker. Continuing with the next ticker...\n",
      "Ticker: IDXX\n",
      "IDXX not exists in the Financial Ticker. Continuing with the next ticker...\n",
      "Ticker: LRCX\n",
      "LRCX not exists in the Financial Ticker. Continuing with the next ticker...\n",
      "Ticker: PRU\n",
      "PRU and 2012-03-31 already exist in embedding_df. Skipping this file...\n",
      "PRU and 2017-06-30 already exist in embedding_df. Skipping this file...\n",
      "PRU and 2018-06-30 already exist in embedding_df. Skipping this file...\n",
      "PRU and 2020-12-31 already exist in embedding_df. Skipping this file...\n",
      "PRU and 2015-09-30 already exist in embedding_df. Skipping this file...\n",
      "PRU and 2016-06-30 already exist in embedding_df. Skipping this file...\n",
      "PRU and 2016-09-30 already exist in embedding_df. Skipping this file...\n",
      "PRU and 2019-09-30 already exist in embedding_df. Skipping this file...\n",
      "PRU and 2019-12-31 already exist in embedding_df. Skipping this file...\n",
      "PRU and 2015-06-30 already exist in embedding_df. Skipping this file...\n",
      "PRU and 2020-06-30 already exist in embedding_df. Skipping this file...\n",
      "PRU and 2016-12-31 already exist in embedding_df. Skipping this file...\n",
      "PRU and 2017-03-31 already exist in embedding_df. Skipping this file...\n",
      "PRU and 2014-12-31 already exist in embedding_df. Skipping this file...\n",
      "PRU and 2014-06-30 already exist in embedding_df. Skipping this file...\n",
      "PRU and 2022-06-30 already exist in embedding_df. Skipping this file...\n",
      "PRU and 2021-12-31 already exist in embedding_df. Skipping this file...\n",
      "PRU and 2023-03-31 already exist in embedding_df. Skipping this file...\n",
      "PRU and 2019-06-30 already exist in embedding_df. Skipping this file...\n",
      "PRU and 2014-09-30 already exist in embedding_df. Skipping this file...\n",
      "PRU and 2013-12-31 already exist in embedding_df. Skipping this file...\n",
      "PRU and 2015-03-31 already exist in embedding_df. Skipping this file...\n",
      "PRU and 2011-06-30 already exist in embedding_df. Skipping this file...\n",
      "PRU and 2011-12-31 already exist in embedding_df. Skipping this file...\n",
      "PRU and 2022-09-30 already exist in embedding_df. Skipping this file...\n",
      "PRU and 2012-09-30 already exist in embedding_df. Skipping this file...\n",
      "PRU and 2020-09-30 already exist in embedding_df. Skipping this file...\n",
      "PRU and 2015-12-31 already exist in embedding_df. Skipping this file...\n",
      "PRU and 2016-03-31 already exist in embedding_df. Skipping this file...\n",
      "PRU and 2020-03-31 already exist in embedding_df. Skipping this file...\n",
      "PRU and 2023-09-30 already exist in embedding_df. Skipping this file...\n",
      "PRU and 2013-09-30 already exist in embedding_df. Skipping this file...\n",
      "PRU and 2021-06-30 already exist in embedding_df. Skipping this file...\n",
      "PRU and 2023-12-31 already exist in embedding_df. Skipping this file...\n",
      "PRU and 2024-03-31 already exist in embedding_df. Skipping this file...\n",
      "PRU and 2013-06-30 already exist in embedding_df. Skipping this file...\n",
      "PRU and 2012-12-31 already exist in embedding_df. Skipping this file...\n",
      "PRU and 2017-12-31 already exist in embedding_df. Skipping this file...\n",
      "PRU and 2014-03-31 already exist in embedding_df. Skipping this file...\n",
      "PRU and 2022-12-31 already exist in embedding_df. Skipping this file...\n",
      "PRU and 2018-12-31 already exist in embedding_df. Skipping this file...\n",
      "PRU and 2022-03-31 already exist in embedding_df. Skipping this file...\n",
      "PRU and 2021-03-31 already exist in embedding_df. Skipping this file...\n",
      "PRU and 2013-03-31 already exist in embedding_df. Skipping this file...\n",
      "PRU and 2012-06-30 already exist in embedding_df. Skipping this file...\n",
      "PRU and 2023-06-30 already exist in embedding_df. Skipping this file...\n",
      "PRU and 2018-09-30 already exist in embedding_df. Skipping this file...\n",
      "PRU and 2011-09-30 already exist in embedding_df. Skipping this file...\n",
      "PRU and 2018-03-31 already exist in embedding_df. Skipping this file...\n",
      "PRU and 2021-09-30 already exist in embedding_df. Skipping this file...\n",
      "PRU and 2017-09-30 already exist in embedding_df. Skipping this file...\n",
      "PRU and 2019-03-31 already exist in embedding_df. Skipping this file...\n",
      "Ticker: ZBRA\n",
      "ZBRA not exists in the Financial Ticker. Continuing with the next ticker...\n",
      "Ticker: CNP\n",
      "CNP not exists in the Financial Ticker. Continuing with the next ticker...\n",
      "Ticker: POOL\n",
      "POOL not exists in the Financial Ticker. Continuing with the next ticker...\n",
      "Ticker: PPG\n",
      "PPG not exists in the Financial Ticker. Continuing with the next ticker...\n",
      "Ticker: NTRS\n",
      "NTRS and 2012-03-31 already exist in embedding_df. Skipping this file...\n",
      "NTRS and 2017-06-30 already exist in embedding_df. Skipping this file...\n",
      "NTRS and 2018-06-30 already exist in embedding_df. Skipping this file...\n",
      "NTRS and 2020-12-31 already exist in embedding_df. Skipping this file...\n",
      "NTRS and 2015-09-30 already exist in embedding_df. Skipping this file...\n",
      "NTRS and 2016-06-30 already exist in embedding_df. Skipping this file...\n",
      "NTRS and 2016-09-30 already exist in embedding_df. Skipping this file...\n",
      "NTRS and 2019-09-30 already exist in embedding_df. Skipping this file...\n",
      "NTRS and 2019-12-31 already exist in embedding_df. Skipping this file...\n",
      "NTRS and 2015-06-30 already exist in embedding_df. Skipping this file...\n",
      "NTRS and 2020-06-30 already exist in embedding_df. Skipping this file...\n",
      "NTRS and 2016-12-31 already exist in embedding_df. Skipping this file...\n",
      "NTRS and 2017-03-31 already exist in embedding_df. Skipping this file...\n",
      "NTRS and 2014-12-31 already exist in embedding_df. Skipping this file...\n",
      "NTRS and 2014-06-30 already exist in embedding_df. Skipping this file...\n",
      "NTRS and 2022-06-30 already exist in embedding_df. Skipping this file...\n",
      "NTRS and 2021-12-31 already exist in embedding_df. Skipping this file...\n",
      "NTRS and 2023-03-31 already exist in embedding_df. Skipping this file...\n",
      "NTRS and 2019-06-30 already exist in embedding_df. Skipping this file...\n",
      "NTRS and 2014-09-30 already exist in embedding_df. Skipping this file...\n",
      "NTRS and 2013-12-31 already exist in embedding_df. Skipping this file...\n",
      "NTRS and 2015-03-31 already exist in embedding_df. Skipping this file...\n",
      "NTRS and 2011-06-30 already exist in embedding_df. Skipping this file...\n",
      "NTRS and 2011-12-31 already exist in embedding_df. Skipping this file...\n",
      "NTRS and 2022-09-30 already exist in embedding_df. Skipping this file...\n",
      "NTRS and 2012-09-30 already exist in embedding_df. Skipping this file...\n",
      "NTRS and 2020-09-30 already exist in embedding_df. Skipping this file...\n",
      "NTRS and 2015-12-31 already exist in embedding_df. Skipping this file...\n",
      "NTRS and 2016-03-31 already exist in embedding_df. Skipping this file...\n",
      "NTRS and 2020-03-31 already exist in embedding_df. Skipping this file...\n",
      "NTRS and 2023-09-30 already exist in embedding_df. Skipping this file...\n",
      "NTRS and 2013-09-30 already exist in embedding_df. Skipping this file...\n",
      "NTRS and 2021-06-30 already exist in embedding_df. Skipping this file...\n",
      "NTRS and 2023-12-31 already exist in embedding_df. Skipping this file...\n",
      "NTRS and 2024-03-31 already exist in embedding_df. Skipping this file...\n",
      "NTRS and 2013-06-30 already exist in embedding_df. Skipping this file...\n",
      "NTRS and 2012-12-31 already exist in embedding_df. Skipping this file...\n",
      "NTRS and 2017-12-31 already exist in embedding_df. Skipping this file...\n",
      "NTRS and 2014-03-31 already exist in embedding_df. Skipping this file...\n",
      "NTRS and 2022-12-31 already exist in embedding_df. Skipping this file...\n",
      "NTRS and 2018-12-31 already exist in embedding_df. Skipping this file...\n",
      "NTRS and 2022-03-31 already exist in embedding_df. Skipping this file...\n",
      "NTRS and 2021-03-31 already exist in embedding_df. Skipping this file...\n",
      "NTRS and 2013-03-31 already exist in embedding_df. Skipping this file...\n",
      "NTRS and 2012-06-30 already exist in embedding_df. Skipping this file...\n",
      "NTRS and 2023-06-30 already exist in embedding_df. Skipping this file...\n",
      "NTRS and 2018-09-30 already exist in embedding_df. Skipping this file...\n",
      "NTRS and 2011-09-30 already exist in embedding_df. Skipping this file...\n",
      "NTRS and 2018-03-31 already exist in embedding_df. Skipping this file...\n",
      "NTRS and 2021-09-30 already exist in embedding_df. Skipping this file...\n",
      "NTRS and 2017-09-30 already exist in embedding_df. Skipping this file...\n",
      "NTRS and 2019-03-31 already exist in embedding_df. Skipping this file...\n",
      "Ticker: MA\n",
      "MA and 2012-03-31 already exist in embedding_df. Skipping this file...\n",
      "MA and 2017-06-30 already exist in embedding_df. Skipping this file...\n",
      "MA and 2018-06-30 already exist in embedding_df. Skipping this file...\n",
      "MA and 2020-12-31 already exist in embedding_df. Skipping this file...\n",
      "MA and 2015-09-30 already exist in embedding_df. Skipping this file...\n",
      "MA and 2016-06-30 already exist in embedding_df. Skipping this file...\n",
      "MA and 2016-09-30 already exist in embedding_df. Skipping this file...\n",
      "MA and 2019-09-30 already exist in embedding_df. Skipping this file...\n",
      "MA and 2019-12-31 already exist in embedding_df. Skipping this file...\n",
      "MA and 2015-06-30 already exist in embedding_df. Skipping this file...\n",
      "MA and 2020-06-30 already exist in embedding_df. Skipping this file...\n",
      "MA and 2016-12-31 already exist in embedding_df. Skipping this file...\n",
      "MA and 2017-03-31 already exist in embedding_df. Skipping this file...\n",
      "MA and 2014-12-31 already exist in embedding_df. Skipping this file...\n",
      "MA and 2014-06-30 already exist in embedding_df. Skipping this file...\n",
      "MA and 2022-06-30 already exist in embedding_df. Skipping this file...\n",
      "MA and 2021-12-31 already exist in embedding_df. Skipping this file...\n",
      "MA and 2023-03-31 already exist in embedding_df. Skipping this file...\n",
      "MA and 2019-06-30 already exist in embedding_df. Skipping this file...\n",
      "MA and 2014-09-30 already exist in embedding_df. Skipping this file...\n",
      "MA and 2013-12-31 already exist in embedding_df. Skipping this file...\n",
      "MA and 2015-03-31 already exist in embedding_df. Skipping this file...\n",
      "MA and 2011-06-30 already exist in embedding_df. Skipping this file...\n",
      "MA and 2011-12-31 already exist in embedding_df. Skipping this file...\n",
      "MA and 2022-09-30 already exist in embedding_df. Skipping this file...\n",
      "MA and 2012-09-30 already exist in embedding_df. Skipping this file...\n",
      "MA and 2020-09-30 already exist in embedding_df. Skipping this file...\n",
      "MA and 2015-12-31 already exist in embedding_df. Skipping this file...\n",
      "MA and 2016-03-31 already exist in embedding_df. Skipping this file...\n",
      "MA and 2020-03-31 already exist in embedding_df. Skipping this file...\n",
      "MA and 2023-09-30 already exist in embedding_df. Skipping this file...\n",
      "MA and 2013-09-30 already exist in embedding_df. Skipping this file...\n",
      "MA and 2021-06-30 already exist in embedding_df. Skipping this file...\n",
      "MA and 2023-12-31 already exist in embedding_df. Skipping this file...\n",
      "MA and 2024-03-31 already exist in embedding_df. Skipping this file...\n",
      "MA and 2013-06-30 already exist in embedding_df. Skipping this file...\n",
      "MA and 2012-12-31 already exist in embedding_df. Skipping this file...\n",
      "MA and 2017-12-31 already exist in embedding_df. Skipping this file...\n",
      "MA and 2014-03-31 already exist in embedding_df. Skipping this file...\n",
      "MA and 2022-12-31 already exist in embedding_df. Skipping this file...\n",
      "MA and 2018-12-31 already exist in embedding_df. Skipping this file...\n",
      "MA and 2022-03-31 already exist in embedding_df. Skipping this file...\n",
      "MA and 2021-03-31 already exist in embedding_df. Skipping this file...\n",
      "MA and 2013-03-31 already exist in embedding_df. Skipping this file...\n",
      "MA and 2012-06-30 already exist in embedding_df. Skipping this file...\n",
      "MA and 2023-06-30 already exist in embedding_df. Skipping this file...\n",
      "MA and 2018-09-30 already exist in embedding_df. Skipping this file...\n",
      "MA and 2011-09-30 already exist in embedding_df. Skipping this file...\n",
      "MA and 2018-03-31 already exist in embedding_df. Skipping this file...\n",
      "MA and 2021-09-30 already exist in embedding_df. Skipping this file...\n",
      "MA and 2017-09-30 already exist in embedding_df. Skipping this file...\n",
      "MA and 2019-03-31 already exist in embedding_df. Skipping this file...\n",
      "Ticker: JBL\n",
      "JBL not exists in the Financial Ticker. Continuing with the next ticker...\n",
      "Ticker: RHI\n",
      "RHI not exists in the Financial Ticker. Continuing with the next ticker...\n",
      "Ticker: GS\n",
      "GS and 2012-03-31 already exist in embedding_df. Skipping this file...\n",
      "GS and 2017-06-30 already exist in embedding_df. Skipping this file...\n",
      "GS and 2018-06-30 already exist in embedding_df. Skipping this file...\n",
      "GS and 2020-12-31 already exist in embedding_df. Skipping this file...\n",
      "GS and 2015-09-30 already exist in embedding_df. Skipping this file...\n",
      "GS and 2016-06-30 already exist in embedding_df. Skipping this file...\n",
      "GS and 2016-09-30 already exist in embedding_df. Skipping this file...\n",
      "GS and 2019-09-30 already exist in embedding_df. Skipping this file...\n",
      "GS and 2019-12-31 already exist in embedding_df. Skipping this file...\n",
      "GS and 2015-06-30 already exist in embedding_df. Skipping this file...\n",
      "GS and 2020-06-30 already exist in embedding_df. Skipping this file...\n",
      "GS and 2016-12-31 already exist in embedding_df. Skipping this file...\n",
      "GS and 2017-03-31 already exist in embedding_df. Skipping this file...\n",
      "GS and 2014-12-31 already exist in embedding_df. Skipping this file...\n",
      "GS and 2014-06-30 already exist in embedding_df. Skipping this file...\n",
      "GS and 2022-06-30 already exist in embedding_df. Skipping this file...\n",
      "GS and 2021-12-31 already exist in embedding_df. Skipping this file...\n",
      "GS and 2023-03-31 already exist in embedding_df. Skipping this file...\n",
      "GS and 2019-06-30 already exist in embedding_df. Skipping this file...\n",
      "GS and 2014-09-30 already exist in embedding_df. Skipping this file...\n",
      "GS and 2013-12-31 already exist in embedding_df. Skipping this file...\n",
      "GS and 2015-03-31 already exist in embedding_df. Skipping this file...\n",
      "GS and 2011-06-30 already exist in embedding_df. Skipping this file...\n",
      "GS and 2011-12-31 already exist in embedding_df. Skipping this file...\n",
      "GS and 2022-09-30 already exist in embedding_df. Skipping this file...\n",
      "GS and 2012-09-30 already exist in embedding_df. Skipping this file...\n",
      "GS and 2020-09-30 already exist in embedding_df. Skipping this file...\n",
      "GS and 2015-12-31 already exist in embedding_df. Skipping this file...\n",
      "GS and 2016-03-31 already exist in embedding_df. Skipping this file...\n",
      "GS and 2020-03-31 already exist in embedding_df. Skipping this file...\n",
      "GS and 2023-09-30 already exist in embedding_df. Skipping this file...\n",
      "GS and 2013-09-30 already exist in embedding_df. Skipping this file...\n",
      "GS and 2021-06-30 already exist in embedding_df. Skipping this file...\n",
      "GS and 2023-12-31 already exist in embedding_df. Skipping this file...\n",
      "GS and 2024-03-31 already exist in embedding_df. Skipping this file...\n",
      "GS and 2013-06-30 already exist in embedding_df. Skipping this file...\n",
      "GS and 2012-12-31 already exist in embedding_df. Skipping this file...\n",
      "GS and 2017-12-31 already exist in embedding_df. Skipping this file...\n",
      "GS and 2014-03-31 already exist in embedding_df. Skipping this file...\n",
      "GS and 2022-12-31 already exist in embedding_df. Skipping this file...\n",
      "GS and 2018-12-31 already exist in embedding_df. Skipping this file...\n",
      "GS and 2022-03-31 already exist in embedding_df. Skipping this file...\n",
      "GS and 2021-03-31 already exist in embedding_df. Skipping this file...\n",
      "GS and 2013-03-31 already exist in embedding_df. Skipping this file...\n",
      "GS and 2012-06-30 already exist in embedding_df. Skipping this file...\n",
      "GS and 2023-06-30 already exist in embedding_df. Skipping this file...\n",
      "GS and 2018-09-30 already exist in embedding_df. Skipping this file...\n",
      "GS and 2011-09-30 already exist in embedding_df. Skipping this file...\n",
      "GS and 2018-03-31 already exist in embedding_df. Skipping this file...\n",
      "GS and 2021-09-30 already exist in embedding_df. Skipping this file...\n",
      "GS and 2017-09-30 already exist in embedding_df. Skipping this file...\n",
      "GS and 2019-03-31 already exist in embedding_df. Skipping this file...\n",
      "Ticker: REGN\n",
      "REGN not exists in the Financial Ticker. Continuing with the next ticker...\n",
      "Ticker: UDR\n",
      "UDR not exists in the Financial Ticker. Continuing with the next ticker...\n",
      "Ticker: CMS\n",
      "CMS not exists in the Financial Ticker. Continuing with the next ticker...\n",
      "Ticker: WAB\n",
      "WAB not exists in the Financial Ticker. Continuing with the next ticker...\n",
      "Ticker: GRMN\n",
      "GRMN not exists in the Financial Ticker. Continuing with the next ticker...\n",
      "Ticker: OKE\n",
      "OKE not exists in the Financial Ticker. Continuing with the next ticker...\n",
      "Ticker: ROST\n",
      "ROST not exists in the Financial Ticker. Continuing with the next ticker...\n",
      "Ticker: OXY\n",
      "OXY not exists in the Financial Ticker. Continuing with the next ticker...\n",
      "Ticker: HIG\n",
      "HIG and 2012-03-31 already exist in embedding_df. Skipping this file...\n",
      "HIG and 2017-06-30 already exist in embedding_df. Skipping this file...\n",
      "HIG and 2018-06-30 already exist in embedding_df. Skipping this file...\n",
      "HIG and 2020-12-31 already exist in embedding_df. Skipping this file...\n",
      "HIG and 2015-09-30 already exist in embedding_df. Skipping this file...\n",
      "HIG and 2016-06-30 already exist in embedding_df. Skipping this file...\n",
      "HIG and 2016-09-30 already exist in embedding_df. Skipping this file...\n",
      "HIG and 2019-09-30 already exist in embedding_df. Skipping this file...\n",
      "HIG and 2019-12-31 already exist in embedding_df. Skipping this file...\n",
      "HIG and 2015-06-30 already exist in embedding_df. Skipping this file...\n",
      "HIG and 2020-06-30 already exist in embedding_df. Skipping this file...\n",
      "HIG and 2016-12-31 already exist in embedding_df. Skipping this file...\n",
      "HIG and 2017-03-31 already exist in embedding_df. Skipping this file...\n",
      "HIG and 2014-12-31 already exist in embedding_df. Skipping this file...\n",
      "HIG and 2014-06-30 already exist in embedding_df. Skipping this file...\n",
      "HIG and 2022-06-30 already exist in embedding_df. Skipping this file...\n",
      "HIG and 2021-12-31 already exist in embedding_df. Skipping this file...\n",
      "HIG and 2023-03-31 already exist in embedding_df. Skipping this file...\n",
      "HIG and 2019-06-30 already exist in embedding_df. Skipping this file...\n",
      "HIG and 2014-09-30 already exist in embedding_df. Skipping this file...\n",
      "HIG and 2013-12-31 already exist in embedding_df. Skipping this file...\n",
      "HIG and 2015-03-31 already exist in embedding_df. Skipping this file...\n",
      "HIG and 2011-06-30 already exist in embedding_df. Skipping this file...\n",
      "HIG and 2011-12-31 already exist in embedding_df. Skipping this file...\n",
      "HIG and 2022-09-30 already exist in embedding_df. Skipping this file...\n",
      "HIG and 2012-09-30 already exist in embedding_df. Skipping this file...\n",
      "HIG and 2020-09-30 already exist in embedding_df. Skipping this file...\n",
      "HIG and 2015-12-31 already exist in embedding_df. Skipping this file...\n",
      "HIG and 2016-03-31 already exist in embedding_df. Skipping this file...\n",
      "HIG and 2020-03-31 already exist in embedding_df. Skipping this file...\n",
      "HIG and 2023-09-30 already exist in embedding_df. Skipping this file...\n",
      "HIG and 2013-09-30 already exist in embedding_df. Skipping this file...\n",
      "HIG and 2021-06-30 already exist in embedding_df. Skipping this file...\n",
      "HIG and 2023-12-31 already exist in embedding_df. Skipping this file...\n",
      "HIG and 2024-03-31 already exist in embedding_df. Skipping this file...\n",
      "HIG and 2013-06-30 already exist in embedding_df. Skipping this file...\n",
      "HIG and 2012-12-31 already exist in embedding_df. Skipping this file...\n",
      "HIG and 2017-12-31 already exist in embedding_df. Skipping this file...\n",
      "HIG and 2014-03-31 already exist in embedding_df. Skipping this file...\n",
      "HIG and 2022-12-31 already exist in embedding_df. Skipping this file...\n",
      "HIG and 2018-12-31 already exist in embedding_df. Skipping this file...\n",
      "HIG and 2022-03-31 already exist in embedding_df. Skipping this file...\n",
      "HIG and 2021-03-31 already exist in embedding_df. Skipping this file...\n",
      "HIG and 2013-03-31 already exist in embedding_df. Skipping this file...\n",
      "HIG and 2012-06-30 already exist in embedding_df. Skipping this file...\n",
      "HIG and 2023-06-30 already exist in embedding_df. Skipping this file...\n",
      "HIG and 2018-09-30 already exist in embedding_df. Skipping this file...\n",
      "HIG and 2011-09-30 already exist in embedding_df. Skipping this file...\n",
      "HIG and 2018-03-31 already exist in embedding_df. Skipping this file...\n",
      "HIG and 2021-09-30 already exist in embedding_df. Skipping this file...\n",
      "HIG and 2017-09-30 already exist in embedding_df. Skipping this file...\n",
      "HIG and 2019-03-31 already exist in embedding_df. Skipping this file...\n",
      "Ticker: SBUX\n",
      "SBUX not exists in the Financial Ticker. Continuing with the next ticker...\n",
      "Ticker: EQIX\n",
      "EQIX not exists in the Financial Ticker. Continuing with the next ticker...\n",
      "Ticker: FSLR\n",
      "FSLR not exists in the Financial Ticker. Continuing with the next ticker...\n",
      "Ticker: XEL\n",
      "XEL not exists in the Financial Ticker. Continuing with the next ticker...\n",
      "Ticker: ITW\n",
      "ITW not exists in the Financial Ticker. Continuing with the next ticker...\n",
      "Ticker: MO\n",
      "MO not exists in the Financial Ticker. Continuing with the next ticker...\n",
      "Ticker: WDC\n",
      "WDC not exists in the Financial Ticker. Continuing with the next ticker...\n",
      "Ticker: MLM\n",
      "MLM not exists in the Financial Ticker. Continuing with the next ticker...\n",
      "Ticker: STLD\n",
      "STLD not exists in the Financial Ticker. Continuing with the next ticker...\n",
      "Ticker: LLY\n",
      "LLY not exists in the Financial Ticker. Continuing with the next ticker...\n",
      "Ticker: MSCI\n",
      "MSCI and 2012-03-31 already exist in embedding_df. Skipping this file...\n",
      "MSCI and 2017-06-30 already exist in embedding_df. Skipping this file...\n",
      "MSCI and 2018-06-30 already exist in embedding_df. Skipping this file...\n",
      "MSCI and 2020-12-31 already exist in embedding_df. Skipping this file...\n",
      "MSCI and 2015-09-30 already exist in embedding_df. Skipping this file...\n",
      "MSCI and 2016-06-30 already exist in embedding_df. Skipping this file...\n",
      "MSCI and 2016-09-30 already exist in embedding_df. Skipping this file...\n",
      "MSCI and 2019-09-30 already exist in embedding_df. Skipping this file...\n",
      "MSCI and 2019-12-31 already exist in embedding_df. Skipping this file...\n",
      "MSCI and 2015-06-30 already exist in embedding_df. Skipping this file...\n",
      "MSCI and 2020-06-30 already exist in embedding_df. Skipping this file...\n",
      "MSCI and 2016-12-31 already exist in embedding_df. Skipping this file...\n",
      "MSCI and 2017-03-31 already exist in embedding_df. Skipping this file...\n",
      "MSCI and 2014-12-31 already exist in embedding_df. Skipping this file...\n",
      "MSCI and 2014-06-30 already exist in embedding_df. Skipping this file...\n",
      "MSCI and 2022-06-30 already exist in embedding_df. Skipping this file...\n",
      "MSCI and 2021-12-31 already exist in embedding_df. Skipping this file...\n",
      "MSCI and 2023-03-31 already exist in embedding_df. Skipping this file...\n",
      "MSCI and 2019-06-30 already exist in embedding_df. Skipping this file...\n",
      "MSCI and 2014-09-30 already exist in embedding_df. Skipping this file...\n",
      "MSCI and 2013-12-31 already exist in embedding_df. Skipping this file...\n",
      "MSCI and 2015-03-31 already exist in embedding_df. Skipping this file...\n",
      "MSCI and 2011-06-30 already exist in embedding_df. Skipping this file...\n",
      "MSCI and 2011-12-31 already exist in embedding_df. Skipping this file...\n",
      "MSCI and 2022-09-30 already exist in embedding_df. Skipping this file...\n",
      "MSCI and 2012-09-30 already exist in embedding_df. Skipping this file...\n",
      "MSCI and 2020-09-30 already exist in embedding_df. Skipping this file...\n",
      "MSCI and 2015-12-31 already exist in embedding_df. Skipping this file...\n",
      "MSCI and 2016-03-31 already exist in embedding_df. Skipping this file...\n",
      "MSCI and 2020-03-31 already exist in embedding_df. Skipping this file...\n",
      "MSCI and 2023-09-30 already exist in embedding_df. Skipping this file...\n",
      "MSCI and 2013-09-30 already exist in embedding_df. Skipping this file...\n",
      "MSCI and 2021-06-30 already exist in embedding_df. Skipping this file...\n",
      "MSCI and 2023-12-31 already exist in embedding_df. Skipping this file...\n",
      "MSCI and 2024-03-31 already exist in embedding_df. Skipping this file...\n",
      "MSCI and 2013-06-30 already exist in embedding_df. Skipping this file...\n",
      "MSCI and 2012-12-31 already exist in embedding_df. Skipping this file...\n",
      "MSCI and 2017-12-31 already exist in embedding_df. Skipping this file...\n",
      "MSCI and 2014-03-31 already exist in embedding_df. Skipping this file...\n",
      "MSCI and 2022-12-31 already exist in embedding_df. Skipping this file...\n",
      "MSCI and 2018-12-31 already exist in embedding_df. Skipping this file...\n",
      "MSCI and 2022-03-31 already exist in embedding_df. Skipping this file...\n",
      "MSCI and 2021-03-31 already exist in embedding_df. Skipping this file...\n",
      "MSCI and 2013-03-31 already exist in embedding_df. Skipping this file...\n",
      "MSCI and 2012-06-30 already exist in embedding_df. Skipping this file...\n",
      "MSCI and 2023-06-30 already exist in embedding_df. Skipping this file...\n",
      "MSCI and 2018-09-30 already exist in embedding_df. Skipping this file...\n",
      "MSCI and 2011-09-30 already exist in embedding_df. Skipping this file...\n",
      "MSCI and 2018-03-31 already exist in embedding_df. Skipping this file...\n",
      "MSCI and 2021-09-30 already exist in embedding_df. Skipping this file...\n",
      "MSCI and 2017-09-30 already exist in embedding_df. Skipping this file...\n",
      "MSCI and 2019-03-31 already exist in embedding_df. Skipping this file...\n",
      "Ticker: PLD\n",
      "PLD not exists in the Financial Ticker. Continuing with the next ticker...\n",
      "Ticker: KMB\n",
      "KMB not exists in the Financial Ticker. Continuing with the next ticker...\n",
      "Ticker: EBAY\n",
      "EBAY not exists in the Financial Ticker. Continuing with the next ticker...\n",
      "Ticker: LMT\n",
      "LMT not exists in the Financial Ticker. Continuing with the next ticker...\n",
      "Ticker: AVB\n",
      "AVB not exists in the Financial Ticker. Continuing with the next ticker...\n",
      "Ticker: CMCSA\n",
      "CMCSA not exists in the Financial Ticker. Continuing with the next ticker...\n",
      "Ticker: WAT\n",
      "WAT not exists in the Financial Ticker. Continuing with the next ticker...\n",
      "Ticker: FFIV\n",
      "FFIV not exists in the Financial Ticker. Continuing with the next ticker...\n",
      "Ticker: DHI\n",
      "DHI not exists in the Financial Ticker. Continuing with the next ticker...\n",
      "Ticker: TECH\n",
      "TECH not exists in the Financial Ticker. Continuing with the next ticker...\n",
      "Ticker: CHRW\n",
      "CHRW not exists in the Financial Ticker. Continuing with the next ticker...\n",
      "Ticker: BEN\n",
      "BEN and 2012-03-31 already exist in embedding_df. Skipping this file...\n",
      "BEN and 2017-06-30 already exist in embedding_df. Skipping this file...\n",
      "BEN and 2018-06-30 already exist in embedding_df. Skipping this file...\n",
      "BEN and 2020-12-31 already exist in embedding_df. Skipping this file...\n",
      "BEN and 2015-09-30 already exist in embedding_df. Skipping this file...\n",
      "BEN and 2016-06-30 already exist in embedding_df. Skipping this file...\n",
      "BEN and 2016-09-30 already exist in embedding_df. Skipping this file...\n",
      "BEN and 2019-09-30 already exist in embedding_df. Skipping this file...\n",
      "BEN and 2019-12-31 already exist in embedding_df. Skipping this file...\n",
      "BEN and 2015-06-30 already exist in embedding_df. Skipping this file...\n",
      "BEN and 2020-06-30 already exist in embedding_df. Skipping this file...\n",
      "BEN and 2016-12-31 already exist in embedding_df. Skipping this file...\n",
      "BEN and 2017-03-31 already exist in embedding_df. Skipping this file...\n",
      "BEN and 2014-12-31 already exist in embedding_df. Skipping this file...\n",
      "BEN and 2014-06-30 already exist in embedding_df. Skipping this file...\n",
      "BEN and 2022-06-30 already exist in embedding_df. Skipping this file...\n",
      "BEN and 2021-12-31 already exist in embedding_df. Skipping this file...\n",
      "BEN and 2023-03-31 already exist in embedding_df. Skipping this file...\n",
      "BEN and 2019-06-30 already exist in embedding_df. Skipping this file...\n",
      "BEN and 2014-09-30 already exist in embedding_df. Skipping this file...\n",
      "BEN and 2013-12-31 already exist in embedding_df. Skipping this file...\n",
      "BEN and 2015-03-31 already exist in embedding_df. Skipping this file...\n",
      "BEN and 2011-06-30 already exist in embedding_df. Skipping this file...\n",
      "BEN and 2011-12-31 already exist in embedding_df. Skipping this file...\n",
      "BEN and 2022-09-30 already exist in embedding_df. Skipping this file...\n",
      "BEN and 2012-09-30 already exist in embedding_df. Skipping this file...\n",
      "BEN and 2020-09-30 already exist in embedding_df. Skipping this file...\n",
      "BEN and 2015-12-31 already exist in embedding_df. Skipping this file...\n",
      "BEN and 2016-03-31 already exist in embedding_df. Skipping this file...\n",
      "BEN and 2020-03-31 already exist in embedding_df. Skipping this file...\n",
      "BEN and 2023-09-30 already exist in embedding_df. Skipping this file...\n",
      "BEN and 2013-09-30 already exist in embedding_df. Skipping this file...\n",
      "BEN and 2021-06-30 already exist in embedding_df. Skipping this file...\n",
      "BEN and 2023-12-31 already exist in embedding_df. Skipping this file...\n",
      "BEN and 2024-03-31 already exist in embedding_df. Skipping this file...\n",
      "BEN and 2013-06-30 already exist in embedding_df. Skipping this file...\n",
      "BEN and 2012-12-31 already exist in embedding_df. Skipping this file...\n",
      "BEN and 2017-12-31 already exist in embedding_df. Skipping this file...\n",
      "BEN and 2014-03-31 already exist in embedding_df. Skipping this file...\n",
      "BEN and 2022-12-31 already exist in embedding_df. Skipping this file...\n",
      "BEN and 2018-12-31 already exist in embedding_df. Skipping this file...\n",
      "BEN and 2022-03-31 already exist in embedding_df. Skipping this file...\n",
      "BEN and 2021-03-31 already exist in embedding_df. Skipping this file...\n",
      "BEN and 2013-03-31 already exist in embedding_df. Skipping this file...\n",
      "BEN and 2012-06-30 already exist in embedding_df. Skipping this file...\n",
      "BEN and 2023-06-30 already exist in embedding_df. Skipping this file...\n",
      "BEN and 2018-09-30 already exist in embedding_df. Skipping this file...\n",
      "BEN and 2011-09-30 already exist in embedding_df. Skipping this file...\n",
      "BEN and 2018-03-31 already exist in embedding_df. Skipping this file...\n",
      "BEN and 2021-09-30 already exist in embedding_df. Skipping this file...\n",
      "BEN and 2017-09-30 already exist in embedding_df. Skipping this file...\n",
      "BEN and 2019-03-31 already exist in embedding_df. Skipping this file...\n",
      "Ticker: ESS\n",
      "ESS not exists in the Financial Ticker. Continuing with the next ticker...\n",
      "Ticker: MAS\n",
      "MAS not exists in the Financial Ticker. Continuing with the next ticker...\n",
      "Ticker: SHW\n",
      "SHW not exists in the Financial Ticker. Continuing with the next ticker...\n",
      "Ticker: RSG\n",
      "RSG not exists in the Financial Ticker. Continuing with the next ticker...\n",
      "Ticker: MTD\n",
      "MTD not exists in the Financial Ticker. Continuing with the next ticker...\n",
      "Ticker: PGR\n",
      "PGR and 2012-03-31 already exist in embedding_df. Skipping this file...\n",
      "PGR and 2017-06-30 already exist in embedding_df. Skipping this file...\n",
      "PGR and 2018-06-30 already exist in embedding_df. Skipping this file...\n",
      "PGR and 2020-12-31 already exist in embedding_df. Skipping this file...\n",
      "PGR and 2015-09-30 already exist in embedding_df. Skipping this file...\n",
      "PGR and 2016-06-30 already exist in embedding_df. Skipping this file...\n",
      "PGR and 2016-09-30 already exist in embedding_df. Skipping this file...\n",
      "PGR and 2019-09-30 already exist in embedding_df. Skipping this file...\n",
      "PGR and 2019-12-31 already exist in embedding_df. Skipping this file...\n",
      "PGR and 2015-06-30 already exist in embedding_df. Skipping this file...\n",
      "PGR and 2020-06-30 already exist in embedding_df. Skipping this file...\n",
      "PGR and 2016-12-31 already exist in embedding_df. Skipping this file...\n",
      "PGR and 2017-03-31 already exist in embedding_df. Skipping this file...\n",
      "PGR and 2014-12-31 already exist in embedding_df. Skipping this file...\n",
      "PGR and 2014-06-30 already exist in embedding_df. Skipping this file...\n",
      "PGR and 2022-06-30 already exist in embedding_df. Skipping this file...\n",
      "PGR and 2021-12-31 already exist in embedding_df. Skipping this file...\n",
      "PGR and 2023-03-31 already exist in embedding_df. Skipping this file...\n",
      "PGR and 2019-06-30 already exist in embedding_df. Skipping this file...\n",
      "PGR and 2014-09-30 already exist in embedding_df. Skipping this file...\n",
      "PGR and 2013-12-31 already exist in embedding_df. Skipping this file...\n",
      "PGR and 2015-03-31 already exist in embedding_df. Skipping this file...\n",
      "PGR and 2011-06-30 already exist in embedding_df. Skipping this file...\n",
      "PGR and 2011-12-31 already exist in embedding_df. Skipping this file...\n",
      "PGR and 2022-09-30 already exist in embedding_df. Skipping this file...\n",
      "PGR and 2012-09-30 already exist in embedding_df. Skipping this file...\n",
      "PGR and 2020-09-30 already exist in embedding_df. Skipping this file...\n",
      "PGR and 2015-12-31 already exist in embedding_df. Skipping this file...\n",
      "PGR and 2016-03-31 already exist in embedding_df. Skipping this file...\n",
      "PGR and 2020-03-31 already exist in embedding_df. Skipping this file...\n",
      "PGR and 2023-09-30 already exist in embedding_df. Skipping this file...\n",
      "PGR and 2013-09-30 already exist in embedding_df. Skipping this file...\n",
      "PGR and 2021-06-30 already exist in embedding_df. Skipping this file...\n",
      "PGR and 2023-12-31 already exist in embedding_df. Skipping this file...\n",
      "PGR and 2024-03-31 already exist in embedding_df. Skipping this file...\n",
      "PGR and 2013-06-30 already exist in embedding_df. Skipping this file...\n",
      "PGR and 2012-12-31 already exist in embedding_df. Skipping this file...\n",
      "PGR and 2017-12-31 already exist in embedding_df. Skipping this file...\n",
      "PGR and 2014-03-31 already exist in embedding_df. Skipping this file...\n",
      "PGR and 2022-12-31 already exist in embedding_df. Skipping this file...\n",
      "PGR and 2018-12-31 already exist in embedding_df. Skipping this file...\n",
      "PGR and 2022-03-31 already exist in embedding_df. Skipping this file...\n",
      "PGR and 2021-03-31 already exist in embedding_df. Skipping this file...\n",
      "PGR and 2013-03-31 already exist in embedding_df. Skipping this file...\n",
      "PGR and 2012-06-30 already exist in embedding_df. Skipping this file...\n",
      "PGR and 2023-06-30 already exist in embedding_df. Skipping this file...\n",
      "PGR and 2018-09-30 already exist in embedding_df. Skipping this file...\n",
      "PGR and 2011-09-30 already exist in embedding_df. Skipping this file...\n",
      "PGR and 2018-03-31 already exist in embedding_df. Skipping this file...\n",
      "PGR and 2021-09-30 already exist in embedding_df. Skipping this file...\n",
      "PGR and 2017-09-30 already exist in embedding_df. Skipping this file...\n",
      "PGR and 2019-03-31 already exist in embedding_df. Skipping this file...\n",
      "Ticker: TEL\n",
      "TEL not exists in the Financial Ticker. Continuing with the next ticker...\n",
      "Ticker: EXR\n",
      "EXR not exists in the Financial Ticker. Continuing with the next ticker...\n",
      "Ticker: NUE\n",
      "NUE not exists in the Financial Ticker. Continuing with the next ticker...\n",
      "Ticker: GWW\n",
      "GWW not exists in the Financial Ticker. Continuing with the next ticker...\n",
      "Ticker: IT\n",
      "IT not exists in the Financial Ticker. Continuing with the next ticker...\n",
      "Ticker: MAA\n",
      "MAA not exists in the Financial Ticker. Continuing with the next ticker...\n",
      "Ticker: UNH\n",
      "UNH not exists in the Financial Ticker. Continuing with the next ticker...\n",
      "Ticker: DTE\n",
      "DTE not exists in the Financial Ticker. Continuing with the next ticker...\n",
      "Ticker: CMA\n",
      "CMA and 2012-03-31 already exist in embedding_df. Skipping this file...\n",
      "CMA and 2017-06-30 already exist in embedding_df. Skipping this file...\n",
      "CMA and 2018-06-30 already exist in embedding_df. Skipping this file...\n",
      "CMA and 2020-12-31 already exist in embedding_df. Skipping this file...\n",
      "CMA and 2015-09-30 already exist in embedding_df. Skipping this file...\n",
      "CMA and 2016-06-30 already exist in embedding_df. Skipping this file...\n",
      "CMA and 2016-09-30 already exist in embedding_df. Skipping this file...\n",
      "CMA and 2019-09-30 already exist in embedding_df. Skipping this file...\n",
      "CMA and 2019-12-31 already exist in embedding_df. Skipping this file...\n",
      "CMA and 2015-06-30 already exist in embedding_df. Skipping this file...\n",
      "CMA and 2020-06-30 already exist in embedding_df. Skipping this file...\n",
      "CMA and 2016-12-31 already exist in embedding_df. Skipping this file...\n",
      "CMA and 2017-03-31 already exist in embedding_df. Skipping this file...\n",
      "CMA and 2014-12-31 already exist in embedding_df. Skipping this file...\n",
      "CMA and 2014-06-30 already exist in embedding_df. Skipping this file...\n",
      "CMA and 2022-06-30 already exist in embedding_df. Skipping this file...\n",
      "CMA and 2021-12-31 already exist in embedding_df. Skipping this file...\n",
      "CMA and 2023-03-31 already exist in embedding_df. Skipping this file...\n",
      "CMA and 2019-06-30 already exist in embedding_df. Skipping this file...\n",
      "CMA and 2014-09-30 already exist in embedding_df. Skipping this file...\n",
      "CMA and 2013-12-31 already exist in embedding_df. Skipping this file...\n",
      "CMA and 2015-03-31 already exist in embedding_df. Skipping this file...\n",
      "CMA and 2011-06-30 already exist in embedding_df. Skipping this file...\n",
      "CMA and 2011-12-31 already exist in embedding_df. Skipping this file...\n",
      "CMA and 2022-09-30 already exist in embedding_df. Skipping this file...\n",
      "CMA and 2012-09-30 already exist in embedding_df. Skipping this file...\n",
      "CMA and 2020-09-30 already exist in embedding_df. Skipping this file...\n",
      "CMA and 2015-12-31 already exist in embedding_df. Skipping this file...\n",
      "CMA and 2016-03-31 already exist in embedding_df. Skipping this file...\n",
      "CMA and 2020-03-31 already exist in embedding_df. Skipping this file...\n",
      "CMA and 2023-09-30 already exist in embedding_df. Skipping this file...\n",
      "CMA and 2013-09-30 already exist in embedding_df. Skipping this file...\n",
      "CMA and 2021-06-30 already exist in embedding_df. Skipping this file...\n",
      "CMA and 2023-12-31 already exist in embedding_df. Skipping this file...\n",
      "CMA and 2024-03-31 already exist in embedding_df. Skipping this file...\n",
      "CMA and 2013-06-30 already exist in embedding_df. Skipping this file...\n",
      "CMA and 2012-12-31 already exist in embedding_df. Skipping this file...\n",
      "CMA and 2017-12-31 already exist in embedding_df. Skipping this file...\n",
      "CMA and 2014-03-31 already exist in embedding_df. Skipping this file...\n",
      "CMA and 2022-12-31 already exist in embedding_df. Skipping this file...\n",
      "CMA and 2018-12-31 already exist in embedding_df. Skipping this file...\n",
      "CMA and 2022-03-31 already exist in embedding_df. Skipping this file...\n",
      "CMA and 2021-03-31 already exist in embedding_df. Skipping this file...\n",
      "CMA and 2013-03-31 already exist in embedding_df. Skipping this file...\n",
      "CMA and 2012-06-30 already exist in embedding_df. Skipping this file...\n",
      "CMA and 2023-06-30 already exist in embedding_df. Skipping this file...\n",
      "CMA and 2018-09-30 already exist in embedding_df. Skipping this file...\n",
      "CMA and 2011-09-30 already exist in embedding_df. Skipping this file...\n",
      "CMA and 2018-03-31 already exist in embedding_df. Skipping this file...\n",
      "CMA and 2021-09-30 already exist in embedding_df. Skipping this file...\n",
      "CMA and 2017-09-30 already exist in embedding_df. Skipping this file...\n",
      "CMA and 2019-03-31 already exist in embedding_df. Skipping this file...\n",
      "Ticker: PFG\n",
      "PFG and 2012-03-31 already exist in embedding_df. Skipping this file...\n",
      "PFG and 2017-06-30 already exist in embedding_df. Skipping this file...\n",
      "PFG and 2018-06-30 already exist in embedding_df. Skipping this file...\n",
      "PFG and 2020-12-31 already exist in embedding_df. Skipping this file...\n",
      "PFG and 2015-09-30 already exist in embedding_df. Skipping this file...\n",
      "PFG and 2016-06-30 already exist in embedding_df. Skipping this file...\n",
      "PFG and 2016-09-30 already exist in embedding_df. Skipping this file...\n",
      "PFG and 2019-09-30 already exist in embedding_df. Skipping this file...\n",
      "PFG and 2019-12-31 already exist in embedding_df. Skipping this file...\n",
      "PFG and 2015-06-30 already exist in embedding_df. Skipping this file...\n",
      "PFG and 2020-06-30 already exist in embedding_df. Skipping this file...\n",
      "PFG and 2016-12-31 already exist in embedding_df. Skipping this file...\n",
      "PFG and 2017-03-31 already exist in embedding_df. Skipping this file...\n",
      "PFG and 2014-12-31 already exist in embedding_df. Skipping this file...\n",
      "PFG and 2014-06-30 already exist in embedding_df. Skipping this file...\n",
      "PFG and 2022-06-30 already exist in embedding_df. Skipping this file...\n",
      "PFG and 2021-12-31 already exist in embedding_df. Skipping this file...\n",
      "PFG and 2023-03-31 already exist in embedding_df. Skipping this file...\n",
      "PFG and 2019-06-30 already exist in embedding_df. Skipping this file...\n",
      "PFG and 2014-09-30 already exist in embedding_df. Skipping this file...\n",
      "PFG and 2013-12-31 already exist in embedding_df. Skipping this file...\n",
      "PFG and 2015-03-31 already exist in embedding_df. Skipping this file...\n",
      "PFG and 2011-06-30 already exist in embedding_df. Skipping this file...\n",
      "PFG and 2011-12-31 already exist in embedding_df. Skipping this file...\n",
      "PFG and 2022-09-30 already exist in embedding_df. Skipping this file...\n",
      "PFG and 2012-09-30 already exist in embedding_df. Skipping this file...\n",
      "PFG and 2020-09-30 already exist in embedding_df. Skipping this file...\n",
      "PFG and 2015-12-31 already exist in embedding_df. Skipping this file...\n",
      "PFG and 2016-03-31 already exist in embedding_df. Skipping this file...\n",
      "PFG and 2020-03-31 already exist in embedding_df. Skipping this file...\n",
      "PFG and 2023-09-30 already exist in embedding_df. Skipping this file...\n",
      "PFG and 2013-09-30 already exist in embedding_df. Skipping this file...\n",
      "PFG and 2021-06-30 already exist in embedding_df. Skipping this file...\n",
      "PFG and 2023-12-31 already exist in embedding_df. Skipping this file...\n",
      "PFG and 2024-03-31 already exist in embedding_df. Skipping this file...\n",
      "PFG and 2013-06-30 already exist in embedding_df. Skipping this file...\n",
      "PFG and 2012-12-31 already exist in embedding_df. Skipping this file...\n",
      "PFG and 2017-12-31 already exist in embedding_df. Skipping this file...\n",
      "PFG and 2014-03-31 already exist in embedding_df. Skipping this file...\n",
      "PFG and 2022-12-31 already exist in embedding_df. Skipping this file...\n",
      "PFG and 2018-12-31 already exist in embedding_df. Skipping this file...\n",
      "PFG and 2022-03-31 already exist in embedding_df. Skipping this file...\n",
      "PFG and 2021-03-31 already exist in embedding_df. Skipping this file...\n",
      "PFG and 2013-03-31 already exist in embedding_df. Skipping this file...\n",
      "PFG and 2012-06-30 already exist in embedding_df. Skipping this file...\n",
      "PFG and 2023-06-30 already exist in embedding_df. Skipping this file...\n",
      "PFG and 2018-09-30 already exist in embedding_df. Skipping this file...\n",
      "PFG and 2011-09-30 already exist in embedding_df. Skipping this file...\n",
      "PFG and 2018-03-31 already exist in embedding_df. Skipping this file...\n",
      "PFG and 2021-09-30 already exist in embedding_df. Skipping this file...\n",
      "PFG and 2017-09-30 already exist in embedding_df. Skipping this file...\n",
      "PFG and 2019-03-31 already exist in embedding_df. Skipping this file...\n",
      "Ticker: STT\n",
      "STT and 2012-03-31 already exist in embedding_df. Skipping this file...\n",
      "STT and 2017-06-30 already exist in embedding_df. Skipping this file...\n",
      "STT and 2018-06-30 already exist in embedding_df. Skipping this file...\n",
      "STT and 2020-12-31 already exist in embedding_df. Skipping this file...\n",
      "STT and 2015-09-30 already exist in embedding_df. Skipping this file...\n",
      "STT and 2016-06-30 already exist in embedding_df. Skipping this file...\n",
      "STT and 2016-09-30 already exist in embedding_df. Skipping this file...\n",
      "STT and 2019-09-30 already exist in embedding_df. Skipping this file...\n",
      "STT and 2019-12-31 already exist in embedding_df. Skipping this file...\n",
      "STT and 2015-06-30 already exist in embedding_df. Skipping this file...\n",
      "STT and 2020-06-30 already exist in embedding_df. Skipping this file...\n",
      "STT and 2016-12-31 already exist in embedding_df. Skipping this file...\n",
      "STT and 2017-03-31 already exist in embedding_df. Skipping this file...\n",
      "STT and 2014-12-31 already exist in embedding_df. Skipping this file...\n",
      "STT and 2014-06-30 already exist in embedding_df. Skipping this file...\n",
      "STT and 2022-06-30 already exist in embedding_df. Skipping this file...\n",
      "STT and 2021-12-31 already exist in embedding_df. Skipping this file...\n",
      "STT and 2023-03-31 already exist in embedding_df. Skipping this file...\n",
      "STT and 2019-06-30 already exist in embedding_df. Skipping this file...\n",
      "STT and 2014-09-30 already exist in embedding_df. Skipping this file...\n",
      "STT and 2013-12-31 already exist in embedding_df. Skipping this file...\n",
      "STT and 2015-03-31 already exist in embedding_df. Skipping this file...\n",
      "STT and 2011-06-30 already exist in embedding_df. Skipping this file...\n",
      "STT and 2011-12-31 already exist in embedding_df. Skipping this file...\n",
      "STT and 2022-09-30 already exist in embedding_df. Skipping this file...\n",
      "STT and 2012-09-30 already exist in embedding_df. Skipping this file...\n",
      "STT and 2020-09-30 already exist in embedding_df. Skipping this file...\n",
      "STT and 2015-12-31 already exist in embedding_df. Skipping this file...\n",
      "STT and 2016-03-31 already exist in embedding_df. Skipping this file...\n",
      "STT and 2020-03-31 already exist in embedding_df. Skipping this file...\n",
      "STT and 2023-09-30 already exist in embedding_df. Skipping this file...\n",
      "STT and 2013-09-30 already exist in embedding_df. Skipping this file...\n",
      "STT and 2021-06-30 already exist in embedding_df. Skipping this file...\n",
      "STT and 2023-12-31 already exist in embedding_df. Skipping this file...\n",
      "STT and 2024-03-31 already exist in embedding_df. Skipping this file...\n",
      "STT and 2013-06-30 already exist in embedding_df. Skipping this file...\n",
      "STT and 2012-12-31 already exist in embedding_df. Skipping this file...\n",
      "STT and 2017-12-31 already exist in embedding_df. Skipping this file...\n",
      "STT and 2014-03-31 already exist in embedding_df. Skipping this file...\n",
      "STT and 2022-12-31 already exist in embedding_df. Skipping this file...\n",
      "STT and 2018-12-31 already exist in embedding_df. Skipping this file...\n",
      "STT and 2022-03-31 already exist in embedding_df. Skipping this file...\n",
      "STT and 2021-03-31 already exist in embedding_df. Skipping this file...\n",
      "STT and 2013-03-31 already exist in embedding_df. Skipping this file...\n",
      "STT and 2012-06-30 already exist in embedding_df. Skipping this file...\n",
      "STT and 2023-06-30 already exist in embedding_df. Skipping this file...\n",
      "STT and 2018-09-30 already exist in embedding_df. Skipping this file...\n",
      "STT and 2011-09-30 already exist in embedding_df. Skipping this file...\n",
      "STT and 2018-03-31 already exist in embedding_df. Skipping this file...\n",
      "STT and 2021-09-30 already exist in embedding_df. Skipping this file...\n",
      "STT and 2017-09-30 already exist in embedding_df. Skipping this file...\n",
      "STT and 2019-03-31 already exist in embedding_df. Skipping this file...\n",
      "Ticker: NDAQ\n",
      "NDAQ and 2012-03-31 already exist in embedding_df. Skipping this file...\n",
      "NDAQ and 2017-06-30 already exist in embedding_df. Skipping this file...\n",
      "NDAQ and 2018-06-30 already exist in embedding_df. Skipping this file...\n",
      "NDAQ and 2020-12-31 already exist in embedding_df. Skipping this file...\n",
      "NDAQ and 2015-09-30 already exist in embedding_df. Skipping this file...\n",
      "NDAQ and 2016-06-30 already exist in embedding_df. Skipping this file...\n",
      "NDAQ and 2016-09-30 already exist in embedding_df. Skipping this file...\n",
      "NDAQ and 2019-09-30 already exist in embedding_df. Skipping this file...\n",
      "NDAQ and 2019-12-31 already exist in embedding_df. Skipping this file...\n",
      "NDAQ and 2015-06-30 already exist in embedding_df. Skipping this file...\n",
      "NDAQ and 2020-06-30 already exist in embedding_df. Skipping this file...\n",
      "NDAQ and 2016-12-31 already exist in embedding_df. Skipping this file...\n",
      "NDAQ and 2017-03-31 already exist in embedding_df. Skipping this file...\n",
      "NDAQ and 2014-12-31 already exist in embedding_df. Skipping this file...\n",
      "NDAQ and 2014-06-30 already exist in embedding_df. Skipping this file...\n",
      "NDAQ and 2022-06-30 already exist in embedding_df. Skipping this file...\n",
      "NDAQ and 2021-12-31 already exist in embedding_df. Skipping this file...\n",
      "NDAQ and 2023-03-31 already exist in embedding_df. Skipping this file...\n",
      "NDAQ and 2019-06-30 already exist in embedding_df. Skipping this file...\n",
      "NDAQ and 2014-09-30 already exist in embedding_df. Skipping this file...\n",
      "NDAQ and 2013-12-31 already exist in embedding_df. Skipping this file...\n",
      "NDAQ and 2015-03-31 already exist in embedding_df. Skipping this file...\n",
      "NDAQ and 2011-06-30 already exist in embedding_df. Skipping this file...\n",
      "NDAQ and 2011-12-31 already exist in embedding_df. Skipping this file...\n",
      "NDAQ and 2022-09-30 already exist in embedding_df. Skipping this file...\n",
      "NDAQ and 2012-09-30 already exist in embedding_df. Skipping this file...\n",
      "NDAQ and 2020-09-30 already exist in embedding_df. Skipping this file...\n",
      "NDAQ and 2015-12-31 already exist in embedding_df. Skipping this file...\n",
      "NDAQ and 2016-03-31 already exist in embedding_df. Skipping this file...\n",
      "NDAQ and 2020-03-31 already exist in embedding_df. Skipping this file...\n",
      "NDAQ and 2023-09-30 already exist in embedding_df. Skipping this file...\n",
      "NDAQ and 2013-09-30 already exist in embedding_df. Skipping this file...\n",
      "NDAQ and 2021-06-30 already exist in embedding_df. Skipping this file...\n",
      "NDAQ and 2023-12-31 already exist in embedding_df. Skipping this file...\n",
      "NDAQ and 2024-03-31 already exist in embedding_df. Skipping this file...\n",
      "NDAQ and 2013-06-30 already exist in embedding_df. Skipping this file...\n",
      "NDAQ and 2012-12-31 already exist in embedding_df. Skipping this file...\n",
      "NDAQ and 2017-12-31 already exist in embedding_df. Skipping this file...\n",
      "NDAQ and 2014-03-31 already exist in embedding_df. Skipping this file...\n",
      "NDAQ and 2022-12-31 already exist in embedding_df. Skipping this file...\n",
      "NDAQ and 2018-12-31 already exist in embedding_df. Skipping this file...\n",
      "NDAQ and 2022-03-31 already exist in embedding_df. Skipping this file...\n",
      "NDAQ and 2021-03-31 already exist in embedding_df. Skipping this file...\n",
      "NDAQ and 2013-03-31 already exist in embedding_df. Skipping this file...\n",
      "NDAQ and 2012-06-30 already exist in embedding_df. Skipping this file...\n",
      "NDAQ and 2023-06-30 already exist in embedding_df. Skipping this file...\n",
      "NDAQ and 2018-09-30 already exist in embedding_df. Skipping this file...\n",
      "NDAQ and 2011-09-30 already exist in embedding_df. Skipping this file...\n",
      "NDAQ and 2018-03-31 already exist in embedding_df. Skipping this file...\n",
      "NDAQ and 2021-09-30 already exist in embedding_df. Skipping this file...\n",
      "NDAQ and 2017-09-30 already exist in embedding_df. Skipping this file...\n",
      "NDAQ and 2019-03-31 already exist in embedding_df. Skipping this file...\n",
      "Ticker: NFLX\n",
      "NFLX not exists in the Financial Ticker. Continuing with the next ticker...\n",
      "Ticker: SLB\n",
      "SLB not exists in the Financial Ticker. Continuing with the next ticker...\n",
      "Ticker: SYY\n",
      "SYY not exists in the Financial Ticker. Continuing with the next ticker...\n",
      "Ticker: BR\n",
      "BR not exists in the Financial Ticker. Continuing with the next ticker...\n",
      "Ticker: WEC\n",
      "WEC not exists in the Financial Ticker. Continuing with the next ticker...\n",
      "Ticker: NI\n",
      "NI not exists in the Financial Ticker. Continuing with the next ticker...\n",
      "Ticker: DAL\n",
      "DAL not exists in the Financial Ticker. Continuing with the next ticker...\n",
      "Ticker: RJF\n",
      "RJF and 2012-03-31 already exist in embedding_df. Skipping this file...\n",
      "RJF and 2018-06-30 already exist in embedding_df. Skipping this file...\n",
      "RJF and 2020-12-31 already exist in embedding_df. Skipping this file...\n",
      "RJF and 2015-09-30 already exist in embedding_df. Skipping this file...\n",
      "RJF and 2016-06-30 already exist in embedding_df. Skipping this file...\n",
      "RJF and 2016-09-30 already exist in embedding_df. Skipping this file...\n",
      "RJF and 2019-09-30 already exist in embedding_df. Skipping this file...\n",
      "RJF and 2019-12-31 already exist in embedding_df. Skipping this file...\n",
      "RJF and 2015-06-30 already exist in embedding_df. Skipping this file...\n",
      "RJF and 2020-06-30 already exist in embedding_df. Skipping this file...\n",
      "RJF and 2016-12-31 already exist in embedding_df. Skipping this file...\n",
      "RJF and 2017-03-31 already exist in embedding_df. Skipping this file...\n",
      "RJF and 2014-12-31 already exist in embedding_df. Skipping this file...\n",
      "RJF and 2014-06-30 already exist in embedding_df. Skipping this file...\n",
      "RJF and 2022-06-30 already exist in embedding_df. Skipping this file...\n",
      "RJF and 2021-12-31 already exist in embedding_df. Skipping this file...\n",
      "RJF and 2023-03-31 already exist in embedding_df. Skipping this file...\n",
      "RJF and 2019-06-30 already exist in embedding_df. Skipping this file...\n",
      "RJF and 2014-09-30 already exist in embedding_df. Skipping this file...\n",
      "RJF and 2013-12-31 already exist in embedding_df. Skipping this file...\n",
      "RJF and 2015-03-31 already exist in embedding_df. Skipping this file...\n",
      "RJF and 2011-06-30 already exist in embedding_df. Skipping this file...\n",
      "RJF and 2011-12-31 already exist in embedding_df. Skipping this file...\n",
      "RJF and 2022-09-30 already exist in embedding_df. Skipping this file...\n",
      "RJF and 2012-09-30 already exist in embedding_df. Skipping this file...\n",
      "RJF and 2020-09-30 already exist in embedding_df. Skipping this file...\n",
      "RJF and 2015-12-31 already exist in embedding_df. Skipping this file...\n",
      "RJF and 2016-03-31 already exist in embedding_df. Skipping this file...\n",
      "RJF and 2020-03-31 already exist in embedding_df. Skipping this file...\n",
      "RJF and 2023-09-30 already exist in embedding_df. Skipping this file...\n",
      "RJF and 2013-09-30 already exist in embedding_df. Skipping this file...\n",
      "RJF and 2021-06-30 already exist in embedding_df. Skipping this file...\n",
      "RJF and 2023-12-31 already exist in embedding_df. Skipping this file...\n",
      "RJF and 2024-03-31 already exist in embedding_df. Skipping this file...\n",
      "RJF and 2013-06-30 already exist in embedding_df. Skipping this file...\n",
      "RJF and 2012-12-31 already exist in embedding_df. Skipping this file...\n",
      "RJF and 2017-12-31 already exist in embedding_df. Skipping this file...\n",
      "RJF and 2014-03-31 already exist in embedding_df. Skipping this file...\n",
      "RJF and 2022-12-31 already exist in embedding_df. Skipping this file...\n",
      "RJF and 2018-12-31 already exist in embedding_df. Skipping this file...\n",
      "RJF and 2022-03-31 already exist in embedding_df. Skipping this file...\n",
      "RJF and 2021-03-31 already exist in embedding_df. Skipping this file...\n",
      "RJF and 2013-03-31 already exist in embedding_df. Skipping this file...\n",
      "RJF and 2012-06-30 already exist in embedding_df. Skipping this file...\n",
      "RJF and 2023-06-30 already exist in embedding_df. Skipping this file...\n",
      "RJF and 2018-09-30 already exist in embedding_df. Skipping this file...\n",
      "RJF and 2011-09-30 already exist in embedding_df. Skipping this file...\n",
      "RJF and 2018-03-31 already exist in embedding_df. Skipping this file...\n",
      "RJF and 2017-08-08 already exist in embedding_df. Skipping this file...\n",
      "RJF and 2021-09-30 already exist in embedding_df. Skipping this file...\n",
      "RJF and 2017-09-30 already exist in embedding_df. Skipping this file...\n",
      "RJF and 2019-03-31 already exist in embedding_df. Skipping this file...\n",
      "Ticker: MHK\n",
      "MHK not exists in the Financial Ticker. Continuing with the next ticker...\n",
      "Ticker: MMC\n",
      "MMC and 2017-06-30 already exist in embedding_df. Skipping this file...\n",
      "MMC and 2018-06-30 already exist in embedding_df. Skipping this file...\n",
      "MMC and 2020-12-31 already exist in embedding_df. Skipping this file...\n",
      "MMC and 2015-09-30 already exist in embedding_df. Skipping this file...\n",
      "MMC and 2016-06-30 already exist in embedding_df. Skipping this file...\n",
      "MMC and 2016-09-30 already exist in embedding_df. Skipping this file...\n",
      "MMC and 2019-09-30 already exist in embedding_df. Skipping this file...\n",
      "MMC and 2019-12-31 already exist in embedding_df. Skipping this file...\n",
      "MMC and 2015-06-30 already exist in embedding_df. Skipping this file...\n",
      "MMC and 2020-06-30 already exist in embedding_df. Skipping this file...\n",
      "MMC and 2016-12-31 already exist in embedding_df. Skipping this file...\n",
      "MMC and 2017-03-31 already exist in embedding_df. Skipping this file...\n",
      "MMC and 2014-12-31 already exist in embedding_df. Skipping this file...\n",
      "MMC and 2014-06-30 already exist in embedding_df. Skipping this file...\n",
      "MMC and 2022-06-30 already exist in embedding_df. Skipping this file...\n",
      "MMC and 2021-12-31 already exist in embedding_df. Skipping this file...\n",
      "MMC and 2023-03-31 already exist in embedding_df. Skipping this file...\n",
      "MMC and 2019-06-30 already exist in embedding_df. Skipping this file...\n",
      "MMC and 2014-09-30 already exist in embedding_df. Skipping this file...\n",
      "MMC and 2012-05-08 already exist in embedding_df. Skipping this file...\n",
      "MMC and 2013-12-31 already exist in embedding_df. Skipping this file...\n",
      "MMC and 2015-03-31 already exist in embedding_df. Skipping this file...\n",
      "MMC and 2011-06-30 already exist in embedding_df. Skipping this file...\n",
      "MMC and 2011-12-31 already exist in embedding_df. Skipping this file...\n",
      "MMC and 2022-09-30 already exist in embedding_df. Skipping this file...\n",
      "MMC and 2012-09-30 already exist in embedding_df. Skipping this file...\n",
      "MMC and 2020-09-30 already exist in embedding_df. Skipping this file...\n",
      "MMC and 2015-12-31 already exist in embedding_df. Skipping this file...\n",
      "MMC and 2016-03-31 already exist in embedding_df. Skipping this file...\n",
      "MMC and 2020-03-31 already exist in embedding_df. Skipping this file...\n",
      "MMC and 2023-09-30 already exist in embedding_df. Skipping this file...\n",
      "MMC and 2013-09-30 already exist in embedding_df. Skipping this file...\n",
      "MMC and 2021-06-30 already exist in embedding_df. Skipping this file...\n",
      "MMC and 2023-12-31 already exist in embedding_df. Skipping this file...\n",
      "MMC and 2024-03-31 already exist in embedding_df. Skipping this file...\n",
      "MMC and 2013-06-30 already exist in embedding_df. Skipping this file...\n",
      "Reading contents of 2012-12-31:\n"
     ]
    },
    {
     "data": {
      "application/vnd.jupyter.widget-view+json": {
       "model_id": "5cd9e8d1ac9748b09bba40541ac0d3fe",
       "version_major": 2,
       "version_minor": 0
      },
      "text/plain": [
       "  0%|          | 0/70 [00:00<?, ?it/s]"
      ]
     },
     "metadata": {},
     "output_type": "display_data"
    },
    {
     "name": "stdout",
     "output_type": "stream",
     "text": [
      "shape of the embedding: (768,)\n",
      "combined shape of the embedding: (1536,)\n",
      "Reading contents of 2017-12-31:\n"
     ]
    },
    {
     "data": {
      "application/vnd.jupyter.widget-view+json": {
       "model_id": "e8f401cb0abc476c854aa2f2f2e21866",
       "version_major": 2,
       "version_minor": 0
      },
      "text/plain": [
       "  0%|          | 0/82 [00:00<?, ?it/s]"
      ]
     },
     "metadata": {},
     "output_type": "display_data"
    },
    {
     "name": "stdout",
     "output_type": "stream",
     "text": [
      "shape of the embedding: (768,)\n",
      "combined shape of the embedding: (1536,)\n",
      "Reading contents of 2014-03-31:\n"
     ]
    },
    {
     "data": {
      "application/vnd.jupyter.widget-view+json": {
       "model_id": "441cbf05e2754b9c91831b88fbc17e9f",
       "version_major": 2,
       "version_minor": 0
      },
      "text/plain": [
       "  0%|          | 0/15 [00:00<?, ?it/s]"
      ]
     },
     "metadata": {},
     "output_type": "display_data"
    },
    {
     "name": "stdout",
     "output_type": "stream",
     "text": [
      "shape of the embedding: (768,)\n",
      "combined shape of the embedding: (1536,)\n",
      "Reading contents of 2022-12-31:\n"
     ]
    },
    {
     "data": {
      "application/vnd.jupyter.widget-view+json": {
       "model_id": "6bb2896419ca43b189cb4f7256d517af",
       "version_major": 2,
       "version_minor": 0
      },
      "text/plain": [
       "  0%|          | 0/61 [00:00<?, ?it/s]"
      ]
     },
     "metadata": {},
     "output_type": "display_data"
    },
    {
     "name": "stdout",
     "output_type": "stream",
     "text": [
      "shape of the embedding: (768,)\n",
      "combined shape of the embedding: (1536,)\n",
      "Reading contents of 2018-12-31:\n"
     ]
    },
    {
     "data": {
      "application/vnd.jupyter.widget-view+json": {
       "model_id": "bdc2f32376014fa0b1706a5b3d44d4b8",
       "version_major": 2,
       "version_minor": 0
      },
      "text/plain": [
       "  0%|          | 0/93 [00:00<?, ?it/s]"
      ]
     },
     "metadata": {},
     "output_type": "display_data"
    },
    {
     "name": "stdout",
     "output_type": "stream",
     "text": [
      "shape of the embedding: (768,)\n",
      "combined shape of the embedding: (1536,)\n",
      "Reading contents of 2022-03-31:\n"
     ]
    },
    {
     "data": {
      "application/vnd.jupyter.widget-view+json": {
       "model_id": "3d049d86248d4571a918d2185a22f778",
       "version_major": 2,
       "version_minor": 0
      },
      "text/plain": [
       "  0%|          | 0/20 [00:00<?, ?it/s]"
      ]
     },
     "metadata": {},
     "output_type": "display_data"
    },
    {
     "name": "stdout",
     "output_type": "stream",
     "text": [
      "shape of the embedding: (768,)\n",
      "combined shape of the embedding: (1536,)\n",
      "Reading contents of 2021-03-31:\n"
     ]
    },
    {
     "data": {
      "application/vnd.jupyter.widget-view+json": {
       "model_id": "d1ce0715b19d464e96fb9896ebb02f8c",
       "version_major": 2,
       "version_minor": 0
      },
      "text/plain": [
       "  0%|          | 0/16 [00:00<?, ?it/s]"
      ]
     },
     "metadata": {},
     "output_type": "display_data"
    },
    {
     "name": "stdout",
     "output_type": "stream",
     "text": [
      "shape of the embedding: (768,)\n",
      "combined shape of the embedding: (1536,)\n",
      "Reading contents of 2013-03-31:\n"
     ]
    },
    {
     "data": {
      "application/vnd.jupyter.widget-view+json": {
       "model_id": "be5dddf1e1754d3a8eb97713f6376268",
       "version_major": 2,
       "version_minor": 0
      },
      "text/plain": [
       "  0%|          | 0/12 [00:00<?, ?it/s]"
      ]
     },
     "metadata": {},
     "output_type": "display_data"
    },
    {
     "name": "stdout",
     "output_type": "stream",
     "text": [
      "shape of the embedding: (768,)\n",
      "combined shape of the embedding: (1536,)\n",
      "Reading contents of 2012-06-30:\n"
     ]
    },
    {
     "data": {
      "application/vnd.jupyter.widget-view+json": {
       "model_id": "43fdf18b1fe3445a9354482630cbbecc",
       "version_major": 2,
       "version_minor": 0
      },
      "text/plain": [
       "  0%|          | 0/16 [00:00<?, ?it/s]"
      ]
     },
     "metadata": {},
     "output_type": "display_data"
    },
    {
     "name": "stdout",
     "output_type": "stream",
     "text": [
      "shape of the embedding: (768,)\n",
      "combined shape of the embedding: (1536,)\n",
      "Reading contents of 2023-06-30:\n"
     ]
    },
    {
     "data": {
      "application/vnd.jupyter.widget-view+json": {
       "model_id": "efa5547e92224d1396033dea5beee654",
       "version_major": 2,
       "version_minor": 0
      },
      "text/plain": [
       "  0%|          | 0/36 [00:00<?, ?it/s]"
      ]
     },
     "metadata": {},
     "output_type": "display_data"
    },
    {
     "name": "stdout",
     "output_type": "stream",
     "text": [
      "shape of the embedding: (768,)\n",
      "combined shape of the embedding: (1536,)\n",
      "Reading contents of 2018-09-30:\n"
     ]
    },
    {
     "data": {
      "application/vnd.jupyter.widget-view+json": {
       "model_id": "804a75179857423992de1ca77bbadb2f",
       "version_major": 2,
       "version_minor": 0
      },
      "text/plain": [
       "  0%|          | 0/23 [00:00<?, ?it/s]"
      ]
     },
     "metadata": {},
     "output_type": "display_data"
    },
    {
     "name": "stdout",
     "output_type": "stream",
     "text": [
      "shape of the embedding: (768,)\n",
      "combined shape of the embedding: (1536,)\n",
      "Reading contents of 2011-09-30:\n"
     ]
    },
    {
     "data": {
      "application/vnd.jupyter.widget-view+json": {
       "model_id": "713c7cddae3d431b962020b325067193",
       "version_major": 2,
       "version_minor": 0
      },
      "text/plain": [
       "  0%|          | 0/18 [00:00<?, ?it/s]"
      ]
     },
     "metadata": {},
     "output_type": "display_data"
    },
    {
     "name": "stdout",
     "output_type": "stream",
     "text": [
      "shape of the embedding: (768,)\n",
      "combined shape of the embedding: (1536,)\n",
      "Reading contents of 2018-03-31:\n"
     ]
    },
    {
     "data": {
      "application/vnd.jupyter.widget-view+json": {
       "model_id": "97ed259bda8c45d1aa8b7a0fc781fdb1",
       "version_major": 2,
       "version_minor": 0
      },
      "text/plain": [
       "  0%|          | 0/17 [00:00<?, ?it/s]"
      ]
     },
     "metadata": {},
     "output_type": "display_data"
    },
    {
     "name": "stdout",
     "output_type": "stream",
     "text": [
      "shape of the embedding: (768,)\n",
      "combined shape of the embedding: (1536,)\n",
      "Reading contents of 2021-09-30:\n"
     ]
    },
    {
     "data": {
      "application/vnd.jupyter.widget-view+json": {
       "model_id": "9eefbd141e5a46b3b7d6c96e12ec7209",
       "version_major": 2,
       "version_minor": 0
      },
      "text/plain": [
       "  0%|          | 0/22 [00:00<?, ?it/s]"
      ]
     },
     "metadata": {},
     "output_type": "display_data"
    },
    {
     "name": "stdout",
     "output_type": "stream",
     "text": [
      "shape of the embedding: (768,)\n",
      "combined shape of the embedding: (1536,)\n",
      "Reading contents of 2017-09-30:\n"
     ]
    },
    {
     "data": {
      "application/vnd.jupyter.widget-view+json": {
       "model_id": "f16d26287aa24b2b8e5d87110e18708b",
       "version_major": 2,
       "version_minor": 0
      },
      "text/plain": [
       "  0%|          | 0/17 [00:00<?, ?it/s]"
      ]
     },
     "metadata": {},
     "output_type": "display_data"
    },
    {
     "name": "stdout",
     "output_type": "stream",
     "text": [
      "shape of the embedding: (768,)\n",
      "combined shape of the embedding: (1536,)\n",
      "Reading contents of 2019-03-31:\n"
     ]
    },
    {
     "data": {
      "application/vnd.jupyter.widget-view+json": {
       "model_id": "a17429c334d74ba8b26f6e22551aa680",
       "version_major": 2,
       "version_minor": 0
      },
      "text/plain": [
       "  0%|          | 0/19 [00:00<?, ?it/s]"
      ]
     },
     "metadata": {},
     "output_type": "display_data"
    },
    {
     "name": "stdout",
     "output_type": "stream",
     "text": [
      "shape of the embedding: (768,)\n",
      "combined shape of the embedding: (1536,)\n",
      "Ticker: EQR\n",
      "EQR not exists in the Financial Ticker. Continuing with the next ticker...\n",
      "Ticker: DHR\n",
      "DHR not exists in the Financial Ticker. Continuing with the next ticker...\n",
      "Ticker: LNT\n",
      "LNT not exists in the Financial Ticker. Continuing with the next ticker...\n",
      "Ticker: CVX\n",
      "CVX not exists in the Financial Ticker. Continuing with the next ticker...\n",
      "Ticker: HAL\n",
      "HAL not exists in the Financial Ticker. Continuing with the next ticker...\n",
      "Ticker: BA\n",
      "BA not exists in the Financial Ticker. Continuing with the next ticker...\n",
      "Ticker: TER\n",
      "TER not exists in the Financial Ticker. Continuing with the next ticker...\n",
      "Ticker: AAPL\n",
      "AAPL not exists in the Financial Ticker. Continuing with the next ticker...\n",
      "Ticker: PCAR\n",
      "PCAR not exists in the Financial Ticker. Continuing with the next ticker...\n",
      "Ticker: ARE\n",
      "ARE not exists in the Financial Ticker. Continuing with the next ticker...\n",
      "Ticker: IEX\n",
      "IEX not exists in the Financial Ticker. Continuing with the next ticker...\n",
      "Ticker: MAR\n",
      "MAR not exists in the Financial Ticker. Continuing with the next ticker...\n",
      "Ticker: BSX\n",
      "BSX not exists in the Financial Ticker. Continuing with the next ticker...\n",
      "Ticker: ALB\n",
      "ALB not exists in the Financial Ticker. Continuing with the next ticker...\n",
      "Ticker: CVS\n",
      "CVS not exists in the Financial Ticker. Continuing with the next ticker...\n",
      "Ticker: MOH\n",
      "MOH not exists in the Financial Ticker. Continuing with the next ticker...\n",
      "Ticker: MTB\n",
      "Reading contents of 2012-03-31:\n"
     ]
    },
    {
     "data": {
      "application/vnd.jupyter.widget-view+json": {
       "model_id": "072eda76e7154a9dbdcf38d7a17dfe83",
       "version_major": 2,
       "version_minor": 0
      },
      "text/plain": [
       "  0%|          | 0/76 [00:00<?, ?it/s]"
      ]
     },
     "metadata": {},
     "output_type": "display_data"
    },
    {
     "name": "stdout",
     "output_type": "stream",
     "text": [
      "shape of the embedding: (768,)\n",
      "combined shape of the embedding: (1536,)\n",
      "Reading contents of 2017-06-30:\n"
     ]
    },
    {
     "data": {
      "application/vnd.jupyter.widget-view+json": {
       "model_id": "8f1f497081944b48a61f83219bb55ed2",
       "version_major": 2,
       "version_minor": 0
      },
      "text/plain": [
       "  0%|          | 0/75 [00:00<?, ?it/s]"
      ]
     },
     "metadata": {},
     "output_type": "display_data"
    },
    {
     "name": "stdout",
     "output_type": "stream",
     "text": [
      "shape of the embedding: (768,)\n",
      "combined shape of the embedding: (1536,)\n",
      "Reading contents of 2018-06-30:\n"
     ]
    },
    {
     "data": {
      "application/vnd.jupyter.widget-view+json": {
       "model_id": "bcec96bffee34463b671179b2c591bb4",
       "version_major": 2,
       "version_minor": 0
      },
      "text/plain": [
       "  0%|          | 0/72 [00:00<?, ?it/s]"
      ]
     },
     "metadata": {},
     "output_type": "display_data"
    },
    {
     "name": "stdout",
     "output_type": "stream",
     "text": [
      "shape of the embedding: (768,)\n",
      "combined shape of the embedding: (1536,)\n",
      "Reading contents of 2020-12-31:\n"
     ]
    },
    {
     "data": {
      "application/vnd.jupyter.widget-view+json": {
       "model_id": "3d32cd28770d40de800091ae84eda4b4",
       "version_major": 2,
       "version_minor": 0
      },
      "text/plain": [
       "  0%|          | 0/106 [00:00<?, ?it/s]"
      ]
     },
     "metadata": {},
     "output_type": "display_data"
    },
    {
     "name": "stdout",
     "output_type": "stream",
     "text": [
      "shape of the embedding: (768,)\n",
      "combined shape of the embedding: (1536,)\n",
      "Reading contents of 2015-09-30:\n"
     ]
    },
    {
     "data": {
      "application/vnd.jupyter.widget-view+json": {
       "model_id": "ceb73431a13240379f455138dd6c6118",
       "version_major": 2,
       "version_minor": 0
      },
      "text/plain": [
       "  0%|          | 0/81 [00:00<?, ?it/s]"
      ]
     },
     "metadata": {},
     "output_type": "display_data"
    },
    {
     "name": "stdout",
     "output_type": "stream",
     "text": [
      "shape of the embedding: (768,)\n",
      "combined shape of the embedding: (1536,)\n",
      "Reading contents of 2016-06-30:\n"
     ]
    },
    {
     "data": {
      "application/vnd.jupyter.widget-view+json": {
       "model_id": "c8b0a6a33ad348a9b73c597aabb461d9",
       "version_major": 2,
       "version_minor": 0
      },
      "text/plain": [
       "  0%|          | 0/79 [00:00<?, ?it/s]"
      ]
     },
     "metadata": {},
     "output_type": "display_data"
    },
    {
     "name": "stdout",
     "output_type": "stream",
     "text": [
      "shape of the embedding: (768,)\n",
      "combined shape of the embedding: (1536,)\n",
      "Reading contents of 2016-09-30:\n"
     ]
    },
    {
     "data": {
      "application/vnd.jupyter.widget-view+json": {
       "model_id": "7b186ec929804f5392f727dde5f1615a",
       "version_major": 2,
       "version_minor": 0
      },
      "text/plain": [
       "  0%|          | 0/82 [00:00<?, ?it/s]"
      ]
     },
     "metadata": {},
     "output_type": "display_data"
    },
    {
     "name": "stdout",
     "output_type": "stream",
     "text": [
      "shape of the embedding: (768,)\n",
      "combined shape of the embedding: (1536,)\n",
      "Reading contents of 2019-09-30:\n"
     ]
    },
    {
     "data": {
      "application/vnd.jupyter.widget-view+json": {
       "model_id": "731fa34898834fcf9daa82052cfe7185",
       "version_major": 2,
       "version_minor": 0
      },
      "text/plain": [
       "  0%|          | 0/76 [00:00<?, ?it/s]"
      ]
     },
     "metadata": {},
     "output_type": "display_data"
    },
    {
     "name": "stdout",
     "output_type": "stream",
     "text": [
      "shape of the embedding: (768,)\n",
      "combined shape of the embedding: (1536,)\n",
      "Reading contents of 2019-12-31:\n"
     ]
    },
    {
     "data": {
      "application/vnd.jupyter.widget-view+json": {
       "model_id": "49eaae979eb54c07a12080415099e3b8",
       "version_major": 2,
       "version_minor": 0
      },
      "text/plain": [
       "  0%|          | 0/106 [00:00<?, ?it/s]"
      ]
     },
     "metadata": {},
     "output_type": "display_data"
    },
    {
     "name": "stdout",
     "output_type": "stream",
     "text": [
      "shape of the embedding: (768,)\n",
      "combined shape of the embedding: (1536,)\n",
      "Reading contents of 2015-06-30:\n"
     ]
    },
    {
     "data": {
      "application/vnd.jupyter.widget-view+json": {
       "model_id": "02d2ffc119ea4699a0ad05805aff7d98",
       "version_major": 2,
       "version_minor": 0
      },
      "text/plain": [
       "  0%|          | 0/80 [00:00<?, ?it/s]"
      ]
     },
     "metadata": {},
     "output_type": "display_data"
    },
    {
     "name": "stdout",
     "output_type": "stream",
     "text": [
      "shape of the embedding: (768,)\n",
      "combined shape of the embedding: (1536,)\n",
      "Reading contents of 2020-06-30:\n"
     ]
    },
    {
     "data": {
      "application/vnd.jupyter.widget-view+json": {
       "model_id": "d5fc663e14d94f7285062e1cfef0c909",
       "version_major": 2,
       "version_minor": 0
      },
      "text/plain": [
       "  0%|          | 0/79 [00:00<?, ?it/s]"
      ]
     },
     "metadata": {},
     "output_type": "display_data"
    },
    {
     "name": "stdout",
     "output_type": "stream",
     "text": [
      "shape of the embedding: (768,)\n",
      "combined shape of the embedding: (1536,)\n",
      "Reading contents of 2016-12-31:\n"
     ]
    },
    {
     "data": {
      "application/vnd.jupyter.widget-view+json": {
       "model_id": "9f69d008d37a4d8485559e384d4e56a5",
       "version_major": 2,
       "version_minor": 0
      },
      "text/plain": [
       "  0%|          | 0/110 [00:00<?, ?it/s]"
      ]
     },
     "metadata": {},
     "output_type": "display_data"
    },
    {
     "name": "stdout",
     "output_type": "stream",
     "text": [
      "shape of the embedding: (768,)\n",
      "combined shape of the embedding: (1536,)\n",
      "Reading contents of 2017-03-31:\n"
     ]
    },
    {
     "data": {
      "application/vnd.jupyter.widget-view+json": {
       "model_id": "971cc8402b594250aa83d23e1bf6037c",
       "version_major": 2,
       "version_minor": 0
      },
      "text/plain": [
       "  0%|          | 0/66 [00:00<?, ?it/s]"
      ]
     },
     "metadata": {},
     "output_type": "display_data"
    },
    {
     "name": "stdout",
     "output_type": "stream",
     "text": [
      "shape of the embedding: (768,)\n",
      "combined shape of the embedding: (1536,)\n",
      "Reading contents of 2014-12-31:\n"
     ]
    },
    {
     "data": {
      "application/vnd.jupyter.widget-view+json": {
       "model_id": "3d1eeb8772cb45d69f83bee5e8cb9742",
       "version_major": 2,
       "version_minor": 0
      },
      "text/plain": [
       "  0%|          | 0/113 [00:00<?, ?it/s]"
      ]
     },
     "metadata": {},
     "output_type": "display_data"
    },
    {
     "name": "stdout",
     "output_type": "stream",
     "text": [
      "shape of the embedding: (768,)\n",
      "combined shape of the embedding: (1536,)\n",
      "Reading contents of 2014-06-30:\n"
     ]
    },
    {
     "data": {
      "application/vnd.jupyter.widget-view+json": {
       "model_id": "c7482a7f241b42dfb18bbb7f275ba0c8",
       "version_major": 2,
       "version_minor": 0
      },
      "text/plain": [
       "  0%|          | 0/81 [00:00<?, ?it/s]"
      ]
     },
     "metadata": {},
     "output_type": "display_data"
    },
    {
     "name": "stdout",
     "output_type": "stream",
     "text": [
      "shape of the embedding: (768,)\n",
      "combined shape of the embedding: (1536,)\n",
      "Reading contents of 2022-06-30:\n"
     ]
    },
    {
     "data": {
      "application/vnd.jupyter.widget-view+json": {
       "model_id": "477662961bff4ef683e532691a20a337",
       "version_major": 2,
       "version_minor": 0
      },
      "text/plain": [
       "  0%|          | 0/78 [00:00<?, ?it/s]"
      ]
     },
     "metadata": {},
     "output_type": "display_data"
    },
    {
     "name": "stdout",
     "output_type": "stream",
     "text": [
      "shape of the embedding: (768,)\n",
      "combined shape of the embedding: (1536,)\n",
      "Reading contents of 2021-12-31:\n"
     ]
    },
    {
     "data": {
      "application/vnd.jupyter.widget-view+json": {
       "model_id": "bd01ce1afad84676a031c91d0fdf8d26",
       "version_major": 2,
       "version_minor": 0
      },
      "text/plain": [
       "  0%|          | 0/108 [00:00<?, ?it/s]"
      ]
     },
     "metadata": {},
     "output_type": "display_data"
    },
    {
     "name": "stdout",
     "output_type": "stream",
     "text": [
      "shape of the embedding: (768,)\n",
      "combined shape of the embedding: (1536,)\n",
      "Reading contents of 2023-03-31:\n"
     ]
    },
    {
     "data": {
      "application/vnd.jupyter.widget-view+json": {
       "model_id": "b650639a4fd540039bce61ee57f22d67",
       "version_major": 2,
       "version_minor": 0
      },
      "text/plain": [
       "  0%|          | 0/76 [00:00<?, ?it/s]"
      ]
     },
     "metadata": {},
     "output_type": "display_data"
    },
    {
     "name": "stdout",
     "output_type": "stream",
     "text": [
      "shape of the embedding: (768,)\n",
      "combined shape of the embedding: (1536,)\n",
      "Reading contents of 2019-06-30:\n"
     ]
    },
    {
     "data": {
      "application/vnd.jupyter.widget-view+json": {
       "model_id": "fa4699c65bef42adafb3e81fbdb3d09a",
       "version_major": 2,
       "version_minor": 0
      },
      "text/plain": [
       "  0%|          | 0/74 [00:00<?, ?it/s]"
      ]
     },
     "metadata": {},
     "output_type": "display_data"
    },
    {
     "name": "stdout",
     "output_type": "stream",
     "text": [
      "shape of the embedding: (768,)\n",
      "combined shape of the embedding: (1536,)\n",
      "Reading contents of 2014-09-30:\n"
     ]
    },
    {
     "data": {
      "application/vnd.jupyter.widget-view+json": {
       "model_id": "491d9bfb57b74e40b1b07d0eb89fede1",
       "version_major": 2,
       "version_minor": 0
      },
      "text/plain": [
       "  0%|          | 0/81 [00:00<?, ?it/s]"
      ]
     },
     "metadata": {},
     "output_type": "display_data"
    },
    {
     "name": "stdout",
     "output_type": "stream",
     "text": [
      "shape of the embedding: (768,)\n",
      "combined shape of the embedding: (1536,)\n",
      "Reading contents of 2013-12-31:\n"
     ]
    },
    {
     "data": {
      "application/vnd.jupyter.widget-view+json": {
       "model_id": "38e0cdcd738a494d86afa4adf797862b",
       "version_major": 2,
       "version_minor": 0
      },
      "text/plain": [
       "  0%|          | 0/120 [00:00<?, ?it/s]"
      ]
     },
     "metadata": {},
     "output_type": "display_data"
    },
    {
     "name": "stdout",
     "output_type": "stream",
     "text": [
      "shape of the embedding: (768,)\n",
      "combined shape of the embedding: (1536,)\n",
      "Reading contents of 2015-03-31:\n"
     ]
    },
    {
     "data": {
      "application/vnd.jupyter.widget-view+json": {
       "model_id": "9d295e941d3a4fe58be01a69e2499901",
       "version_major": 2,
       "version_minor": 0
      },
      "text/plain": [
       "  0%|          | 0/71 [00:00<?, ?it/s]"
      ]
     },
     "metadata": {},
     "output_type": "display_data"
    },
    {
     "name": "stdout",
     "output_type": "stream",
     "text": [
      "shape of the embedding: (768,)\n",
      "combined shape of the embedding: (1536,)\n",
      "Reading contents of 2011-06-30:\n"
     ]
    },
    {
     "data": {
      "application/vnd.jupyter.widget-view+json": {
       "model_id": "5e984efda1f1452d98e4b38e9a5afb9b",
       "version_major": 2,
       "version_minor": 0
      },
      "text/plain": [
       "  0%|          | 0/87 [00:00<?, ?it/s]"
      ]
     },
     "metadata": {},
     "output_type": "display_data"
    },
    {
     "name": "stdout",
     "output_type": "stream",
     "text": [
      "shape of the embedding: (768,)\n",
      "combined shape of the embedding: (1536,)\n",
      "Reading contents of 2011-12-31:\n"
     ]
    },
    {
     "data": {
      "application/vnd.jupyter.widget-view+json": {
       "model_id": "a3b4ee479df5408b805dcfabf65c2225",
       "version_major": 2,
       "version_minor": 0
      },
      "text/plain": [
       "  0%|          | 0/127 [00:00<?, ?it/s]"
      ]
     },
     "metadata": {},
     "output_type": "display_data"
    },
    {
     "name": "stdout",
     "output_type": "stream",
     "text": [
      "shape of the embedding: (768,)\n",
      "combined shape of the embedding: (1536,)\n",
      "Reading contents of 2022-09-30:\n"
     ]
    },
    {
     "data": {
      "application/vnd.jupyter.widget-view+json": {
       "model_id": "bbe3322883a644e0b072dd499ef4263f",
       "version_major": 2,
       "version_minor": 0
      },
      "text/plain": [
       "  0%|          | 0/79 [00:00<?, ?it/s]"
      ]
     },
     "metadata": {},
     "output_type": "display_data"
    },
    {
     "name": "stdout",
     "output_type": "stream",
     "text": [
      "shape of the embedding: (768,)\n",
      "combined shape of the embedding: (1536,)\n",
      "Reading contents of 2012-09-30:\n"
     ]
    },
    {
     "data": {
      "application/vnd.jupyter.widget-view+json": {
       "model_id": "9cce447944294904a874cbf6eb38c489",
       "version_major": 2,
       "version_minor": 0
      },
      "text/plain": [
       "  0%|          | 0/84 [00:00<?, ?it/s]"
      ]
     },
     "metadata": {},
     "output_type": "display_data"
    },
    {
     "name": "stdout",
     "output_type": "stream",
     "text": [
      "shape of the embedding: (768,)\n",
      "combined shape of the embedding: (1536,)\n",
      "Reading contents of 2020-09-30:\n"
     ]
    },
    {
     "data": {
      "application/vnd.jupyter.widget-view+json": {
       "model_id": "d1ab744d7a494f13a2f31c9915b56758",
       "version_major": 2,
       "version_minor": 0
      },
      "text/plain": [
       "  0%|          | 0/80 [00:00<?, ?it/s]"
      ]
     },
     "metadata": {},
     "output_type": "display_data"
    },
    {
     "name": "stdout",
     "output_type": "stream",
     "text": [
      "shape of the embedding: (768,)\n",
      "combined shape of the embedding: (1536,)\n",
      "Reading contents of 2015-12-31:\n"
     ]
    },
    {
     "data": {
      "application/vnd.jupyter.widget-view+json": {
       "model_id": "4bdefb2599c94667b2fc636928b39e1b",
       "version_major": 2,
       "version_minor": 0
      },
      "text/plain": [
       "  0%|          | 0/123 [00:00<?, ?it/s]"
      ]
     },
     "metadata": {},
     "output_type": "display_data"
    },
    {
     "name": "stdout",
     "output_type": "stream",
     "text": [
      "shape of the embedding: (768,)\n",
      "combined shape of the embedding: (1536,)\n",
      "Reading contents of 2016-03-31:\n"
     ]
    },
    {
     "data": {
      "application/vnd.jupyter.widget-view+json": {
       "model_id": "58892df437274baf900e3f95524cc30d",
       "version_major": 2,
       "version_minor": 0
      },
      "text/plain": [
       "  0%|          | 0/72 [00:00<?, ?it/s]"
      ]
     },
     "metadata": {},
     "output_type": "display_data"
    },
    {
     "name": "stdout",
     "output_type": "stream",
     "text": [
      "shape of the embedding: (768,)\n",
      "combined shape of the embedding: (1536,)\n",
      "Reading contents of 2020-03-31:\n"
     ]
    },
    {
     "data": {
      "application/vnd.jupyter.widget-view+json": {
       "model_id": "a2fcc4c3b5ff46b7964ff0e832549c7c",
       "version_major": 2,
       "version_minor": 0
      },
      "text/plain": [
       "  0%|          | 0/72 [00:00<?, ?it/s]"
      ]
     },
     "metadata": {},
     "output_type": "display_data"
    },
    {
     "name": "stdout",
     "output_type": "stream",
     "text": [
      "shape of the embedding: (768,)\n",
      "combined shape of the embedding: (1536,)\n",
      "Reading contents of 2023-09-30:\n"
     ]
    },
    {
     "data": {
      "application/vnd.jupyter.widget-view+json": {
       "model_id": "707f1211621e471f91db24641f321963",
       "version_major": 2,
       "version_minor": 0
      },
      "text/plain": [
       "  0%|          | 0/83 [00:00<?, ?it/s]"
      ]
     },
     "metadata": {},
     "output_type": "display_data"
    },
    {
     "name": "stdout",
     "output_type": "stream",
     "text": [
      "shape of the embedding: (768,)\n",
      "combined shape of the embedding: (1536,)\n",
      "Reading contents of 2013-09-30:\n"
     ]
    },
    {
     "data": {
      "application/vnd.jupyter.widget-view+json": {
       "model_id": "30317e80e2fa4e7f8f004e8f70562020",
       "version_major": 2,
       "version_minor": 0
      },
      "text/plain": [
       "  0%|          | 0/83 [00:00<?, ?it/s]"
      ]
     },
     "metadata": {},
     "output_type": "display_data"
    },
    {
     "name": "stdout",
     "output_type": "stream",
     "text": [
      "shape of the embedding: (768,)\n",
      "combined shape of the embedding: (1536,)\n",
      "Reading contents of 2021-06-30:\n"
     ]
    },
    {
     "data": {
      "application/vnd.jupyter.widget-view+json": {
       "model_id": "c4508f2d55474da3a6c0b7dd661482bb",
       "version_major": 2,
       "version_minor": 0
      },
      "text/plain": [
       "  0%|          | 0/77 [00:00<?, ?it/s]"
      ]
     },
     "metadata": {},
     "output_type": "display_data"
    },
    {
     "name": "stdout",
     "output_type": "stream",
     "text": [
      "shape of the embedding: (768,)\n",
      "combined shape of the embedding: (1536,)\n",
      "Reading contents of 2023-12-31:\n"
     ]
    },
    {
     "data": {
      "application/vnd.jupyter.widget-view+json": {
       "model_id": "5a5655311efa4d7a9da7051a0f797b09",
       "version_major": 2,
       "version_minor": 0
      },
      "text/plain": [
       "  0%|          | 0/93 [00:00<?, ?it/s]"
      ]
     },
     "metadata": {},
     "output_type": "display_data"
    },
    {
     "name": "stdout",
     "output_type": "stream",
     "text": [
      "shape of the embedding: (768,)\n",
      "combined shape of the embedding: (1536,)\n",
      "Reading contents of 2024-03-31:\n"
     ]
    },
    {
     "data": {
      "application/vnd.jupyter.widget-view+json": {
       "model_id": "4e1744bb9b4b45cf9df8aad55f231dfe",
       "version_major": 2,
       "version_minor": 0
      },
      "text/plain": [
       "  0%|          | 0/69 [00:00<?, ?it/s]"
      ]
     },
     "metadata": {},
     "output_type": "display_data"
    },
    {
     "name": "stdout",
     "output_type": "stream",
     "text": [
      "shape of the embedding: (768,)\n",
      "combined shape of the embedding: (1536,)\n",
      "Reading contents of 2013-06-30:\n"
     ]
    },
    {
     "data": {
      "application/vnd.jupyter.widget-view+json": {
       "model_id": "31558151b273469fb8c65a0c9aa415c1",
       "version_major": 2,
       "version_minor": 0
      },
      "text/plain": [
       "  0%|          | 0/83 [00:00<?, ?it/s]"
      ]
     },
     "metadata": {},
     "output_type": "display_data"
    },
    {
     "name": "stdout",
     "output_type": "stream",
     "text": [
      "shape of the embedding: (768,)\n",
      "combined shape of the embedding: (1536,)\n",
      "Reading contents of 2012-12-31:\n"
     ]
    },
    {
     "data": {
      "application/vnd.jupyter.widget-view+json": {
       "model_id": "bc7a6d311eee4bbeb97414f87deda56d",
       "version_major": 2,
       "version_minor": 0
      },
      "text/plain": [
       "  0%|          | 0/125 [00:00<?, ?it/s]"
      ]
     },
     "metadata": {},
     "output_type": "display_data"
    },
    {
     "name": "stdout",
     "output_type": "stream",
     "text": [
      "shape of the embedding: (768,)\n",
      "combined shape of the embedding: (1536,)\n",
      "Reading contents of 2017-12-31:\n"
     ]
    },
    {
     "data": {
      "application/vnd.jupyter.widget-view+json": {
       "model_id": "1de877f7a23a459ea6a8c2d4cd778319",
       "version_major": 2,
       "version_minor": 0
      },
      "text/plain": [
       "  0%|          | 0/106 [00:00<?, ?it/s]"
      ]
     },
     "metadata": {},
     "output_type": "display_data"
    },
    {
     "name": "stdout",
     "output_type": "stream",
     "text": [
      "shape of the embedding: (768,)\n",
      "combined shape of the embedding: (1536,)\n",
      "Reading contents of 2014-03-31:\n"
     ]
    },
    {
     "data": {
      "application/vnd.jupyter.widget-view+json": {
       "model_id": "19594c92423b4a39adb23b8bcfc936ea",
       "version_major": 2,
       "version_minor": 0
      },
      "text/plain": [
       "  0%|          | 0/70 [00:00<?, ?it/s]"
      ]
     },
     "metadata": {},
     "output_type": "display_data"
    },
    {
     "name": "stdout",
     "output_type": "stream",
     "text": [
      "shape of the embedding: (768,)\n",
      "combined shape of the embedding: (1536,)\n",
      "Reading contents of 2022-12-31:\n"
     ]
    },
    {
     "data": {
      "application/vnd.jupyter.widget-view+json": {
       "model_id": "455034633c3e4704a7192b459ba1ca63",
       "version_major": 2,
       "version_minor": 0
      },
      "text/plain": [
       "  0%|          | 0/112 [00:00<?, ?it/s]"
      ]
     },
     "metadata": {},
     "output_type": "display_data"
    },
    {
     "name": "stdout",
     "output_type": "stream",
     "text": [
      "shape of the embedding: (768,)\n",
      "combined shape of the embedding: (1536,)\n",
      "Reading contents of 2018-12-31:\n"
     ]
    },
    {
     "data": {
      "application/vnd.jupyter.widget-view+json": {
       "model_id": "69508cd5e7ba4267b073eba57170dd1d",
       "version_major": 2,
       "version_minor": 0
      },
      "text/plain": [
       "  0%|          | 0/105 [00:00<?, ?it/s]"
      ]
     },
     "metadata": {},
     "output_type": "display_data"
    },
    {
     "name": "stdout",
     "output_type": "stream",
     "text": [
      "shape of the embedding: (768,)\n",
      "combined shape of the embedding: (1536,)\n",
      "Reading contents of 2022-03-31:\n"
     ]
    },
    {
     "data": {
      "application/vnd.jupyter.widget-view+json": {
       "model_id": "2a7c3cf11fe04a42b6ced8350d28cb39",
       "version_major": 2,
       "version_minor": 0
      },
      "text/plain": [
       "  0%|          | 0/67 [00:00<?, ?it/s]"
      ]
     },
     "metadata": {},
     "output_type": "display_data"
    },
    {
     "name": "stdout",
     "output_type": "stream",
     "text": [
      "shape of the embedding: (768,)\n",
      "combined shape of the embedding: (1536,)\n",
      "Reading contents of 2021-03-31:\n"
     ]
    },
    {
     "data": {
      "application/vnd.jupyter.widget-view+json": {
       "model_id": "b5134615f0ba45f885f1f580e1b36201",
       "version_major": 2,
       "version_minor": 0
      },
      "text/plain": [
       "  0%|          | 0/68 [00:00<?, ?it/s]"
      ]
     },
     "metadata": {},
     "output_type": "display_data"
    },
    {
     "name": "stdout",
     "output_type": "stream",
     "text": [
      "shape of the embedding: (768,)\n",
      "combined shape of the embedding: (1536,)\n",
      "Reading contents of 2013-03-31:\n"
     ]
    },
    {
     "data": {
      "application/vnd.jupyter.widget-view+json": {
       "model_id": "05dafd0fe8954bea88acb50a89e842a0",
       "version_major": 2,
       "version_minor": 0
      },
      "text/plain": [
       "  0%|          | 0/72 [00:00<?, ?it/s]"
      ]
     },
     "metadata": {},
     "output_type": "display_data"
    },
    {
     "name": "stdout",
     "output_type": "stream",
     "text": [
      "shape of the embedding: (768,)\n",
      "combined shape of the embedding: (1536,)\n",
      "Reading contents of 2012-06-30:\n"
     ]
    },
    {
     "data": {
      "application/vnd.jupyter.widget-view+json": {
       "model_id": "c97a30aa0925464c8904a34ba9758ab9",
       "version_major": 2,
       "version_minor": 0
      },
      "text/plain": [
       "  0%|          | 0/85 [00:00<?, ?it/s]"
      ]
     },
     "metadata": {},
     "output_type": "display_data"
    },
    {
     "name": "stdout",
     "output_type": "stream",
     "text": [
      "shape of the embedding: (768,)\n",
      "combined shape of the embedding: (1536,)\n",
      "Reading contents of 2023-06-30:\n"
     ]
    },
    {
     "data": {
      "application/vnd.jupyter.widget-view+json": {
       "model_id": "f993ffbad7c54b029471763b84dc5f94",
       "version_major": 2,
       "version_minor": 0
      },
      "text/plain": [
       "  0%|          | 0/84 [00:00<?, ?it/s]"
      ]
     },
     "metadata": {},
     "output_type": "display_data"
    },
    {
     "name": "stdout",
     "output_type": "stream",
     "text": [
      "shape of the embedding: (768,)\n",
      "combined shape of the embedding: (1536,)\n",
      "Reading contents of 2018-09-30:\n"
     ]
    },
    {
     "data": {
      "application/vnd.jupyter.widget-view+json": {
       "model_id": "81c5db9d03c4418fb04eb09381128fbe",
       "version_major": 2,
       "version_minor": 0
      },
      "text/plain": [
       "  0%|          | 0/73 [00:00<?, ?it/s]"
      ]
     },
     "metadata": {},
     "output_type": "display_data"
    },
    {
     "name": "stdout",
     "output_type": "stream",
     "text": [
      "shape of the embedding: (768,)\n",
      "combined shape of the embedding: (1536,)\n",
      "Reading contents of 2011-09-30:\n"
     ]
    },
    {
     "data": {
      "application/vnd.jupyter.widget-view+json": {
       "model_id": "1f3f26b38e0640c994b9bb00e7696a90",
       "version_major": 2,
       "version_minor": 0
      },
      "text/plain": [
       "  0%|          | 0/90 [00:00<?, ?it/s]"
      ]
     },
     "metadata": {},
     "output_type": "display_data"
    },
    {
     "name": "stdout",
     "output_type": "stream",
     "text": [
      "shape of the embedding: (768,)\n",
      "combined shape of the embedding: (1536,)\n",
      "Reading contents of 2018-03-31:\n"
     ]
    },
    {
     "data": {
      "application/vnd.jupyter.widget-view+json": {
       "model_id": "eb7d7bf2a76145a98bffd40706a0200d",
       "version_major": 2,
       "version_minor": 0
      },
      "text/plain": [
       "  0%|          | 0/64 [00:00<?, ?it/s]"
      ]
     },
     "metadata": {},
     "output_type": "display_data"
    },
    {
     "name": "stdout",
     "output_type": "stream",
     "text": [
      "shape of the embedding: (768,)\n",
      "combined shape of the embedding: (1536,)\n",
      "Reading contents of 2021-09-30:\n"
     ]
    },
    {
     "data": {
      "application/vnd.jupyter.widget-view+json": {
       "model_id": "ab784fd1b10d451ea10bec0aeb0cd983",
       "version_major": 2,
       "version_minor": 0
      },
      "text/plain": [
       "  0%|          | 0/77 [00:00<?, ?it/s]"
      ]
     },
     "metadata": {},
     "output_type": "display_data"
    },
    {
     "name": "stdout",
     "output_type": "stream",
     "text": [
      "shape of the embedding: (768,)\n",
      "combined shape of the embedding: (1536,)\n",
      "Reading contents of 2017-09-30:\n"
     ]
    },
    {
     "data": {
      "application/vnd.jupyter.widget-view+json": {
       "model_id": "0e49fea710914134bde0e9dc462b820f",
       "version_major": 2,
       "version_minor": 0
      },
      "text/plain": [
       "  0%|          | 0/75 [00:00<?, ?it/s]"
      ]
     },
     "metadata": {},
     "output_type": "display_data"
    },
    {
     "name": "stdout",
     "output_type": "stream",
     "text": [
      "shape of the embedding: (768,)\n",
      "combined shape of the embedding: (1536,)\n",
      "Reading contents of 2019-03-31:\n"
     ]
    },
    {
     "data": {
      "application/vnd.jupyter.widget-view+json": {
       "model_id": "b154085fa74248cbae30e7409947d134",
       "version_major": 2,
       "version_minor": 0
      },
      "text/plain": [
       "  0%|          | 0/66 [00:00<?, ?it/s]"
      ]
     },
     "metadata": {},
     "output_type": "display_data"
    },
    {
     "name": "stdout",
     "output_type": "stream",
     "text": [
      "shape of the embedding: (768,)\n",
      "combined shape of the embedding: (1536,)\n",
      "Ticker: KMI\n",
      "KMI not exists in the Financial Ticker. Continuing with the next ticker...\n",
      "Ticker: KR\n",
      "KR not exists in the Financial Ticker. Continuing with the next ticker...\n",
      "Ticker: TAP\n",
      "TAP not exists in the Financial Ticker. Continuing with the next ticker...\n",
      "Ticker: JNPR\n",
      "JNPR not exists in the Financial Ticker. Continuing with the next ticker...\n",
      "Ticker: DXCM\n",
      "DXCM not exists in the Financial Ticker. Continuing with the next ticker...\n",
      "Ticker: NOC\n",
      "NOC not exists in the Financial Ticker. Continuing with the next ticker...\n",
      "Ticker: TGT\n",
      "TGT not exists in the Financial Ticker. Continuing with the next ticker...\n",
      "Ticker: AXP\n",
      "Reading contents of 2012-03-31:\n"
     ]
    },
    {
     "data": {
      "application/vnd.jupyter.widget-view+json": {
       "model_id": "29f6bb656feb4721a810d1924ae482d1",
       "version_major": 2,
       "version_minor": 0
      },
      "text/plain": [
       "  0%|          | 0/45 [00:00<?, ?it/s]"
      ]
     },
     "metadata": {},
     "output_type": "display_data"
    },
    {
     "name": "stdout",
     "output_type": "stream",
     "text": [
      "shape of the embedding: (768,)\n",
      "combined shape of the embedding: (1536,)\n",
      "Reading contents of 2017-06-30:\n"
     ]
    },
    {
     "data": {
      "application/vnd.jupyter.widget-view+json": {
       "model_id": "0cae57719dbe4a2998a6b0bf43473a00",
       "version_major": 2,
       "version_minor": 0
      },
      "text/plain": [
       "  0%|          | 0/48 [00:00<?, ?it/s]"
      ]
     },
     "metadata": {},
     "output_type": "display_data"
    },
    {
     "name": "stdout",
     "output_type": "stream",
     "text": [
      "shape of the embedding: (768,)\n",
      "combined shape of the embedding: (1536,)\n",
      "Reading contents of 2018-06-30:\n"
     ]
    },
    {
     "data": {
      "application/vnd.jupyter.widget-view+json": {
       "model_id": "eae4e74c0c094ccca25a382dd62fadc5",
       "version_major": 2,
       "version_minor": 0
      },
      "text/plain": [
       "  0%|          | 0/46 [00:00<?, ?it/s]"
      ]
     },
     "metadata": {},
     "output_type": "display_data"
    },
    {
     "name": "stdout",
     "output_type": "stream",
     "text": [
      "shape of the embedding: (768,)\n",
      "combined shape of the embedding: (1536,)\n",
      "Reading contents of 2020-12-31:\n"
     ]
    },
    {
     "data": {
      "application/vnd.jupyter.widget-view+json": {
       "model_id": "dce5a3dbfa84491f82acb64ac24d30d3",
       "version_major": 2,
       "version_minor": 0
      },
      "text/plain": [
       "  0%|          | 0/75 [00:00<?, ?it/s]"
      ]
     },
     "metadata": {},
     "output_type": "display_data"
    },
    {
     "name": "stdout",
     "output_type": "stream",
     "text": [
      "shape of the embedding: (768,)\n",
      "combined shape of the embedding: (1536,)\n",
      "Reading contents of 2015-09-30:\n"
     ]
    },
    {
     "data": {
      "application/vnd.jupyter.widget-view+json": {
       "model_id": "0261db6f70d048dfbcf7298e06965ba2",
       "version_major": 2,
       "version_minor": 0
      },
      "text/plain": [
       "  0%|          | 0/56 [00:00<?, ?it/s]"
      ]
     },
     "metadata": {},
     "output_type": "display_data"
    },
    {
     "name": "stdout",
     "output_type": "stream",
     "text": [
      "shape of the embedding: (768,)\n",
      "combined shape of the embedding: (1536,)\n",
      "Reading contents of 2016-06-30:\n"
     ]
    },
    {
     "data": {
      "application/vnd.jupyter.widget-view+json": {
       "model_id": "b3f2bc8180a448fdbb87cf397bf0d9cc",
       "version_major": 2,
       "version_minor": 0
      },
      "text/plain": [
       "  0%|          | 0/54 [00:00<?, ?it/s]"
      ]
     },
     "metadata": {},
     "output_type": "display_data"
    },
    {
     "name": "stdout",
     "output_type": "stream",
     "text": [
      "shape of the embedding: (768,)\n",
      "combined shape of the embedding: (1536,)\n",
      "Reading contents of 2016-09-30:\n"
     ]
    },
    {
     "data": {
      "application/vnd.jupyter.widget-view+json": {
       "model_id": "70050d4ca59c452f884dab24a95be13d",
       "version_major": 2,
       "version_minor": 0
      },
      "text/plain": [
       "  0%|          | 0/52 [00:00<?, ?it/s]"
      ]
     },
     "metadata": {},
     "output_type": "display_data"
    },
    {
     "name": "stdout",
     "output_type": "stream",
     "text": [
      "shape of the embedding: (768,)\n",
      "combined shape of the embedding: (1536,)\n",
      "Reading contents of 2019-09-30:\n"
     ]
    },
    {
     "data": {
      "application/vnd.jupyter.widget-view+json": {
       "model_id": "fb85cf69793b4472baec5a4a6bbdc927",
       "version_major": 2,
       "version_minor": 0
      },
      "text/plain": [
       "  0%|          | 0/44 [00:00<?, ?it/s]"
      ]
     },
     "metadata": {},
     "output_type": "display_data"
    },
    {
     "name": "stdout",
     "output_type": "stream",
     "text": [
      "shape of the embedding: (768,)\n",
      "combined shape of the embedding: (1536,)\n",
      "Reading contents of 2019-12-31:\n"
     ]
    },
    {
     "data": {
      "application/vnd.jupyter.widget-view+json": {
       "model_id": "1b18f68782684114a506add87e56b590",
       "version_major": 2,
       "version_minor": 0
      },
      "text/plain": [
       "  0%|          | 0/65 [00:00<?, ?it/s]"
      ]
     },
     "metadata": {},
     "output_type": "display_data"
    },
    {
     "name": "stdout",
     "output_type": "stream",
     "text": [
      "shape of the embedding: (768,)\n",
      "combined shape of the embedding: (1536,)\n",
      "Reading contents of 2015-06-30:\n"
     ]
    },
    {
     "data": {
      "application/vnd.jupyter.widget-view+json": {
       "model_id": "749cfc9aa15e467894bc444413aef422",
       "version_major": 2,
       "version_minor": 0
      },
      "text/plain": [
       "  0%|          | 0/52 [00:00<?, ?it/s]"
      ]
     },
     "metadata": {},
     "output_type": "display_data"
    },
    {
     "name": "stdout",
     "output_type": "stream",
     "text": [
      "shape of the embedding: (768,)\n",
      "combined shape of the embedding: (1536,)\n",
      "Reading contents of 2020-06-30:\n"
     ]
    },
    {
     "data": {
      "application/vnd.jupyter.widget-view+json": {
       "model_id": "f95aa0a5782a4fcdaf0ac95d8f7c901a",
       "version_major": 2,
       "version_minor": 0
      },
      "text/plain": [
       "  0%|          | 0/104 [00:00<?, ?it/s]"
      ]
     },
     "metadata": {},
     "output_type": "display_data"
    },
    {
     "name": "stdout",
     "output_type": "stream",
     "text": [
      "shape of the embedding: (768,)\n",
      "combined shape of the embedding: (1536,)\n",
      "Reading contents of 2016-12-31:\n"
     ]
    },
    {
     "data": {
      "application/vnd.jupyter.widget-view+json": {
       "model_id": "c5d29bce7b9641208ee491a3781100b7",
       "version_major": 2,
       "version_minor": 0
      },
      "text/plain": [
       "  0%|          | 0/73 [00:00<?, ?it/s]"
      ]
     },
     "metadata": {},
     "output_type": "display_data"
    },
    {
     "name": "stdout",
     "output_type": "stream",
     "text": [
      "shape of the embedding: (768,)\n",
      "combined shape of the embedding: (1536,)\n",
      "Reading contents of 2017-03-31:\n"
     ]
    },
    {
     "data": {
      "application/vnd.jupyter.widget-view+json": {
       "model_id": "2d971a49bb364a78adf4717390a2df23",
       "version_major": 2,
       "version_minor": 0
      },
      "text/plain": [
       "  0%|          | 0/42 [00:00<?, ?it/s]"
      ]
     },
     "metadata": {},
     "output_type": "display_data"
    },
    {
     "name": "stdout",
     "output_type": "stream",
     "text": [
      "shape of the embedding: (768,)\n",
      "combined shape of the embedding: (1536,)\n",
      "Reading contents of 2014-12-31:\n"
     ]
    },
    {
     "data": {
      "application/vnd.jupyter.widget-view+json": {
       "model_id": "bd257717141043bf9f6f3631e750f164",
       "version_major": 2,
       "version_minor": 0
      },
      "text/plain": [
       "  0%|          | 0/1 [00:00<?, ?it/s]"
      ]
     },
     "metadata": {},
     "output_type": "display_data"
    },
    {
     "name": "stdout",
     "output_type": "stream",
     "text": [
      "shape of the embedding: (768,)\n",
      "combined shape of the embedding: (1536,)\n",
      "Reading contents of 2014-06-30:\n"
     ]
    },
    {
     "data": {
      "application/vnd.jupyter.widget-view+json": {
       "model_id": "9a690c4922684fedaacd23993d27dda3",
       "version_major": 2,
       "version_minor": 0
      },
      "text/plain": [
       "  0%|          | 0/58 [00:00<?, ?it/s]"
      ]
     },
     "metadata": {},
     "output_type": "display_data"
    },
    {
     "name": "stdout",
     "output_type": "stream",
     "text": [
      "shape of the embedding: (768,)\n",
      "combined shape of the embedding: (1536,)\n",
      "Reading contents of 2022-06-30:\n"
     ]
    },
    {
     "data": {
      "application/vnd.jupyter.widget-view+json": {
       "model_id": "9462e4fccef24f41a57329c8328a7f0a",
       "version_major": 2,
       "version_minor": 0
      },
      "text/plain": [
       "  0%|          | 0/101 [00:00<?, ?it/s]"
      ]
     },
     "metadata": {},
     "output_type": "display_data"
    },
    {
     "name": "stdout",
     "output_type": "stream",
     "text": [
      "shape of the embedding: (768,)\n",
      "combined shape of the embedding: (1536,)\n",
      "Reading contents of 2021-12-31:\n"
     ]
    },
    {
     "data": {
      "application/vnd.jupyter.widget-view+json": {
       "model_id": "08378324a90349979fa98fe47598b556",
       "version_major": 2,
       "version_minor": 0
      },
      "text/plain": [
       "  0%|          | 0/77 [00:00<?, ?it/s]"
      ]
     },
     "metadata": {},
     "output_type": "display_data"
    },
    {
     "name": "stdout",
     "output_type": "stream",
     "text": [
      "shape of the embedding: (768,)\n",
      "combined shape of the embedding: (1536,)\n",
      "Reading contents of 2023-03-31:\n"
     ]
    },
    {
     "data": {
      "application/vnd.jupyter.widget-view+json": {
       "model_id": "37ed7a0258ff4c24a0b303a61e5baf03",
       "version_major": 2,
       "version_minor": 0
      },
      "text/plain": [
       "  0%|          | 0/86 [00:00<?, ?it/s]"
      ]
     },
     "metadata": {},
     "output_type": "display_data"
    },
    {
     "name": "stdout",
     "output_type": "stream",
     "text": [
      "shape of the embedding: (768,)\n",
      "combined shape of the embedding: (1536,)\n",
      "Reading contents of 2019-06-30:\n"
     ]
    },
    {
     "data": {
      "application/vnd.jupyter.widget-view+json": {
       "model_id": "1f5e0321f8144b898673ab180ac7761e",
       "version_major": 2,
       "version_minor": 0
      },
      "text/plain": [
       "  0%|          | 0/47 [00:00<?, ?it/s]"
      ]
     },
     "metadata": {},
     "output_type": "display_data"
    },
    {
     "name": "stdout",
     "output_type": "stream",
     "text": [
      "shape of the embedding: (768,)\n",
      "combined shape of the embedding: (1536,)\n",
      "Reading contents of 2014-09-30:\n"
     ]
    },
    {
     "data": {
      "application/vnd.jupyter.widget-view+json": {
       "model_id": "d3da5f6a618a4ad7aea0e3dbd0bf29ab",
       "version_major": 2,
       "version_minor": 0
      },
      "text/plain": [
       "  0%|          | 0/60 [00:00<?, ?it/s]"
      ]
     },
     "metadata": {},
     "output_type": "display_data"
    },
    {
     "name": "stdout",
     "output_type": "stream",
     "text": [
      "shape of the embedding: (768,)\n",
      "combined shape of the embedding: (1536,)\n",
      "Reading contents of 2013-12-31:\n"
     ]
    },
    {
     "data": {
      "application/vnd.jupyter.widget-view+json": {
       "model_id": "caa579b864c1415182f20db687ab85f4",
       "version_major": 2,
       "version_minor": 0
      },
      "text/plain": [
       "  0%|          | 0/1 [00:00<?, ?it/s]"
      ]
     },
     "metadata": {},
     "output_type": "display_data"
    },
    {
     "name": "stdout",
     "output_type": "stream",
     "text": [
      "shape of the embedding: (768,)\n",
      "combined shape of the embedding: (1536,)\n",
      "Reading contents of 2015-03-31:\n"
     ]
    },
    {
     "data": {
      "application/vnd.jupyter.widget-view+json": {
       "model_id": "b3d1d2dfdfdc4d76b4ab500f326ffea7",
       "version_major": 2,
       "version_minor": 0
      },
      "text/plain": [
       "  0%|          | 0/44 [00:00<?, ?it/s]"
      ]
     },
     "metadata": {},
     "output_type": "display_data"
    },
    {
     "name": "stdout",
     "output_type": "stream",
     "text": [
      "shape of the embedding: (768,)\n",
      "combined shape of the embedding: (1536,)\n",
      "Reading contents of 2011-06-30:\n"
     ]
    },
    {
     "data": {
      "application/vnd.jupyter.widget-view+json": {
       "model_id": "bdbe0eb4d89542deb47dbcc848d16733",
       "version_major": 2,
       "version_minor": 0
      },
      "text/plain": [
       "  0%|          | 0/58 [00:00<?, ?it/s]"
      ]
     },
     "metadata": {},
     "output_type": "display_data"
    },
    {
     "name": "stdout",
     "output_type": "stream",
     "text": [
      "shape of the embedding: (768,)\n",
      "combined shape of the embedding: (1536,)\n",
      "Reading contents of 2011-12-31:\n"
     ]
    },
    {
     "data": {
      "application/vnd.jupyter.widget-view+json": {
       "model_id": "ca542c0319e7496f8df2e9f7850bac65",
       "version_major": 2,
       "version_minor": 0
      },
      "text/plain": [
       "  0%|          | 0/1 [00:00<?, ?it/s]"
      ]
     },
     "metadata": {},
     "output_type": "display_data"
    },
    {
     "name": "stdout",
     "output_type": "stream",
     "text": [
      "shape of the embedding: (768,)\n",
      "combined shape of the embedding: (1536,)\n",
      "Reading contents of 2022-09-30:\n"
     ]
    },
    {
     "data": {
      "application/vnd.jupyter.widget-view+json": {
       "model_id": "20a2bd2245694569a6f385671fb70b2c",
       "version_major": 2,
       "version_minor": 0
      },
      "text/plain": [
       "  0%|          | 0/103 [00:00<?, ?it/s]"
      ]
     },
     "metadata": {},
     "output_type": "display_data"
    },
    {
     "name": "stdout",
     "output_type": "stream",
     "text": [
      "shape of the embedding: (768,)\n",
      "combined shape of the embedding: (1536,)\n",
      "Reading contents of 2012-09-30:\n"
     ]
    },
    {
     "data": {
      "application/vnd.jupyter.widget-view+json": {
       "model_id": "0a758c46c9f04d7ca66980847eadc7fd",
       "version_major": 2,
       "version_minor": 0
      },
      "text/plain": [
       "  0%|          | 0/59 [00:00<?, ?it/s]"
      ]
     },
     "metadata": {},
     "output_type": "display_data"
    },
    {
     "name": "stdout",
     "output_type": "stream",
     "text": [
      "shape of the embedding: (768,)\n",
      "combined shape of the embedding: (1536,)\n",
      "Reading contents of 2020-09-30:\n"
     ]
    },
    {
     "data": {
      "application/vnd.jupyter.widget-view+json": {
       "model_id": "5095a7a17f7d46a7a70df4c2ebb1ef6d",
       "version_major": 2,
       "version_minor": 0
      },
      "text/plain": [
       "  0%|          | 0/106 [00:00<?, ?it/s]"
      ]
     },
     "metadata": {},
     "output_type": "display_data"
    },
    {
     "name": "stdout",
     "output_type": "stream",
     "text": [
      "shape of the embedding: (768,)\n",
      "combined shape of the embedding: (1536,)\n",
      "Reading contents of 2015-12-31:\n"
     ]
    },
    {
     "data": {
      "application/vnd.jupyter.widget-view+json": {
       "model_id": "6949104f67a143528e7d090aa5ef7807",
       "version_major": 2,
       "version_minor": 0
      },
      "text/plain": [
       "  0%|          | 0/81 [00:00<?, ?it/s]"
      ]
     },
     "metadata": {},
     "output_type": "display_data"
    },
    {
     "name": "stdout",
     "output_type": "stream",
     "text": [
      "shape of the embedding: (768,)\n",
      "combined shape of the embedding: (1536,)\n",
      "Reading contents of 2016-03-31:\n"
     ]
    },
    {
     "data": {
      "application/vnd.jupyter.widget-view+json": {
       "model_id": "a286f66736bf459bbdfd6c183819df70",
       "version_major": 2,
       "version_minor": 0
      },
      "text/plain": [
       "  0%|          | 0/45 [00:00<?, ?it/s]"
      ]
     },
     "metadata": {},
     "output_type": "display_data"
    },
    {
     "name": "stdout",
     "output_type": "stream",
     "text": [
      "shape of the embedding: (768,)\n",
      "combined shape of the embedding: (1536,)\n",
      "Reading contents of 2020-03-31:\n"
     ]
    },
    {
     "data": {
      "application/vnd.jupyter.widget-view+json": {
       "model_id": "6e6b61c2ff4342969274e511fdef9fab",
       "version_major": 2,
       "version_minor": 0
      },
      "text/plain": [
       "  0%|          | 0/80 [00:00<?, ?it/s]"
      ]
     },
     "metadata": {},
     "output_type": "display_data"
    },
    {
     "name": "stdout",
     "output_type": "stream",
     "text": [
      "shape of the embedding: (768,)\n",
      "combined shape of the embedding: (1536,)\n",
      "Reading contents of 2023-09-30:\n"
     ]
    },
    {
     "data": {
      "application/vnd.jupyter.widget-view+json": {
       "model_id": "4baaa51a76e6419cb0437fe2e9f204c8",
       "version_major": 2,
       "version_minor": 0
      },
      "text/plain": [
       "  0%|          | 0/104 [00:00<?, ?it/s]"
      ]
     },
     "metadata": {},
     "output_type": "display_data"
    },
    {
     "name": "stdout",
     "output_type": "stream",
     "text": [
      "shape of the embedding: (768,)\n",
      "combined shape of the embedding: (1536,)\n",
      "Reading contents of 2013-09-30:\n"
     ]
    },
    {
     "data": {
      "application/vnd.jupyter.widget-view+json": {
       "model_id": "f2abbc3b7e984f3eb9f584fb7f87610e",
       "version_major": 2,
       "version_minor": 0
      },
      "text/plain": [
       "  0%|          | 0/61 [00:00<?, ?it/s]"
      ]
     },
     "metadata": {},
     "output_type": "display_data"
    },
    {
     "name": "stdout",
     "output_type": "stream",
     "text": [
      "shape of the embedding: (768,)\n",
      "combined shape of the embedding: (1536,)\n",
      "Reading contents of 2021-06-30:\n"
     ]
    },
    {
     "data": {
      "application/vnd.jupyter.widget-view+json": {
       "model_id": "e8c80c2bee624c9fb3f0632c2b0f5ffe",
       "version_major": 2,
       "version_minor": 0
      },
      "text/plain": [
       "  0%|          | 0/102 [00:00<?, ?it/s]"
      ]
     },
     "metadata": {},
     "output_type": "display_data"
    },
    {
     "name": "stdout",
     "output_type": "stream",
     "text": [
      "shape of the embedding: (768,)\n",
      "combined shape of the embedding: (1536,)\n",
      "Reading contents of 2023-12-31:\n"
     ]
    },
    {
     "data": {
      "application/vnd.jupyter.widget-view+json": {
       "model_id": "1560905db6104138a3a39e1148db1a1a",
       "version_major": 2,
       "version_minor": 0
      },
      "text/plain": [
       "  0%|          | 0/78 [00:00<?, ?it/s]"
      ]
     },
     "metadata": {},
     "output_type": "display_data"
    },
    {
     "name": "stdout",
     "output_type": "stream",
     "text": [
      "shape of the embedding: (768,)\n",
      "combined shape of the embedding: (1536,)\n",
      "Reading contents of 2024-03-31:\n"
     ]
    },
    {
     "data": {
      "application/vnd.jupyter.widget-view+json": {
       "model_id": "1814439a402d4dea8f487fb5c630bba8",
       "version_major": 2,
       "version_minor": 0
      },
      "text/plain": [
       "  0%|          | 0/91 [00:00<?, ?it/s]"
      ]
     },
     "metadata": {},
     "output_type": "display_data"
    },
    {
     "name": "stdout",
     "output_type": "stream",
     "text": [
      "shape of the embedding: (768,)\n",
      "combined shape of the embedding: (1536,)\n",
      "Reading contents of 2013-06-30:\n"
     ]
    },
    {
     "data": {
      "application/vnd.jupyter.widget-view+json": {
       "model_id": "ff9c299c41b843909457e882bef496c7",
       "version_major": 2,
       "version_minor": 0
      },
      "text/plain": [
       "  0%|          | 0/59 [00:00<?, ?it/s]"
      ]
     },
     "metadata": {},
     "output_type": "display_data"
    },
    {
     "name": "stdout",
     "output_type": "stream",
     "text": [
      "shape of the embedding: (768,)\n",
      "combined shape of the embedding: (1536,)\n",
      "Reading contents of 2012-12-31:\n"
     ]
    },
    {
     "data": {
      "application/vnd.jupyter.widget-view+json": {
       "model_id": "dfb8d9666f784576a65ad9b809416651",
       "version_major": 2,
       "version_minor": 0
      },
      "text/plain": [
       "  0%|          | 0/1 [00:00<?, ?it/s]"
      ]
     },
     "metadata": {},
     "output_type": "display_data"
    },
    {
     "name": "stdout",
     "output_type": "stream",
     "text": [
      "shape of the embedding: (768,)\n",
      "combined shape of the embedding: (1536,)\n",
      "Reading contents of 2017-12-31:\n"
     ]
    },
    {
     "data": {
      "application/vnd.jupyter.widget-view+json": {
       "model_id": "0ea0b63f33394979bab032d6a3270d68",
       "version_major": 2,
       "version_minor": 0
      },
      "text/plain": [
       "  0%|          | 0/75 [00:00<?, ?it/s]"
      ]
     },
     "metadata": {},
     "output_type": "display_data"
    },
    {
     "name": "stdout",
     "output_type": "stream",
     "text": [
      "shape of the embedding: (768,)\n",
      "combined shape of the embedding: (1536,)\n",
      "Reading contents of 2014-03-31:\n"
     ]
    },
    {
     "data": {
      "application/vnd.jupyter.widget-view+json": {
       "model_id": "11aa58b3446d4da2824b4730ff84e888",
       "version_major": 2,
       "version_minor": 0
      },
      "text/plain": [
       "  0%|          | 0/49 [00:00<?, ?it/s]"
      ]
     },
     "metadata": {},
     "output_type": "display_data"
    },
    {
     "name": "stdout",
     "output_type": "stream",
     "text": [
      "shape of the embedding: (768,)\n",
      "combined shape of the embedding: (1536,)\n",
      "Reading contents of 2022-12-31:\n"
     ]
    },
    {
     "data": {
      "application/vnd.jupyter.widget-view+json": {
       "model_id": "ac3082ae61714211ad247116df504e2f",
       "version_major": 2,
       "version_minor": 0
      },
      "text/plain": [
       "  0%|          | 0/73 [00:00<?, ?it/s]"
      ]
     },
     "metadata": {},
     "output_type": "display_data"
    },
    {
     "name": "stdout",
     "output_type": "stream",
     "text": [
      "shape of the embedding: (768,)\n",
      "combined shape of the embedding: (1536,)\n",
      "Reading contents of 2018-12-31:\n"
     ]
    },
    {
     "data": {
      "application/vnd.jupyter.widget-view+json": {
       "model_id": "20dc0d12a72e4d34b7cc13c572214085",
       "version_major": 2,
       "version_minor": 0
      },
      "text/plain": [
       "  0%|          | 0/67 [00:00<?, ?it/s]"
      ]
     },
     "metadata": {},
     "output_type": "display_data"
    },
    {
     "name": "stdout",
     "output_type": "stream",
     "text": [
      "shape of the embedding: (768,)\n",
      "combined shape of the embedding: (1536,)\n",
      "Reading contents of 2022-03-31:\n"
     ]
    },
    {
     "data": {
      "application/vnd.jupyter.widget-view+json": {
       "model_id": "5a11a4fb2ba94e71ab66e96b19cf12a2",
       "version_major": 2,
       "version_minor": 0
      },
      "text/plain": [
       "  0%|          | 0/82 [00:00<?, ?it/s]"
      ]
     },
     "metadata": {},
     "output_type": "display_data"
    },
    {
     "name": "stdout",
     "output_type": "stream",
     "text": [
      "shape of the embedding: (768,)\n",
      "combined shape of the embedding: (1536,)\n",
      "Reading contents of 2021-03-31:\n"
     ]
    },
    {
     "data": {
      "application/vnd.jupyter.widget-view+json": {
       "model_id": "19828ba5236b4c32822fced5524111b1",
       "version_major": 2,
       "version_minor": 0
      },
      "text/plain": [
       "  0%|          | 0/85 [00:00<?, ?it/s]"
      ]
     },
     "metadata": {},
     "output_type": "display_data"
    },
    {
     "name": "stdout",
     "output_type": "stream",
     "text": [
      "shape of the embedding: (768,)\n",
      "combined shape of the embedding: (1536,)\n",
      "Reading contents of 2013-03-31:\n"
     ]
    },
    {
     "data": {
      "application/vnd.jupyter.widget-view+json": {
       "model_id": "10438b97fe6348fb8e8e1783846f6a38",
       "version_major": 2,
       "version_minor": 0
      },
      "text/plain": [
       "  0%|          | 0/48 [00:00<?, ?it/s]"
      ]
     },
     "metadata": {},
     "output_type": "display_data"
    },
    {
     "name": "stdout",
     "output_type": "stream",
     "text": [
      "shape of the embedding: (768,)\n",
      "combined shape of the embedding: (1536,)\n",
      "Reading contents of 2012-06-30:\n"
     ]
    },
    {
     "data": {
      "application/vnd.jupyter.widget-view+json": {
       "model_id": "4a4e7c13537442e9bf6750337a03a86d",
       "version_major": 2,
       "version_minor": 0
      },
      "text/plain": [
       "  0%|          | 0/60 [00:00<?, ?it/s]"
      ]
     },
     "metadata": {},
     "output_type": "display_data"
    },
    {
     "name": "stdout",
     "output_type": "stream",
     "text": [
      "shape of the embedding: (768,)\n",
      "combined shape of the embedding: (1536,)\n",
      "Reading contents of 2023-06-30:\n"
     ]
    },
    {
     "data": {
      "application/vnd.jupyter.widget-view+json": {
       "model_id": "8e7b3458357440869141a726d44b46d2",
       "version_major": 2,
       "version_minor": 0
      },
      "text/plain": [
       "  0%|          | 0/103 [00:00<?, ?it/s]"
      ]
     },
     "metadata": {},
     "output_type": "display_data"
    },
    {
     "name": "stdout",
     "output_type": "stream",
     "text": [
      "shape of the embedding: (768,)\n",
      "combined shape of the embedding: (1536,)\n",
      "Reading contents of 2018-09-30:\n"
     ]
    },
    {
     "data": {
      "application/vnd.jupyter.widget-view+json": {
       "model_id": "b30b1120a6ae4904893f5a9da026d25e",
       "version_major": 2,
       "version_minor": 0
      },
      "text/plain": [
       "  0%|          | 0/47 [00:00<?, ?it/s]"
      ]
     },
     "metadata": {},
     "output_type": "display_data"
    },
    {
     "name": "stdout",
     "output_type": "stream",
     "text": [
      "shape of the embedding: (768,)\n",
      "combined shape of the embedding: (1536,)\n",
      "Reading contents of 2011-09-30:\n"
     ]
    },
    {
     "data": {
      "application/vnd.jupyter.widget-view+json": {
       "model_id": "27f112bb327f4b4fbdc7fb9917193561",
       "version_major": 2,
       "version_minor": 0
      },
      "text/plain": [
       "  0%|          | 0/58 [00:00<?, ?it/s]"
      ]
     },
     "metadata": {},
     "output_type": "display_data"
    },
    {
     "name": "stdout",
     "output_type": "stream",
     "text": [
      "shape of the embedding: (768,)\n",
      "combined shape of the embedding: (1536,)\n",
      "Reading contents of 2018-03-31:\n"
     ]
    },
    {
     "data": {
      "application/vnd.jupyter.widget-view+json": {
       "model_id": "326750ebb2b34ce6af8f539e110c6b6a",
       "version_major": 2,
       "version_minor": 0
      },
      "text/plain": [
       "  0%|          | 0/35 [00:00<?, ?it/s]"
      ]
     },
     "metadata": {},
     "output_type": "display_data"
    },
    {
     "name": "stdout",
     "output_type": "stream",
     "text": [
      "shape of the embedding: (768,)\n",
      "combined shape of the embedding: (1536,)\n",
      "Reading contents of 2021-09-30:\n"
     ]
    },
    {
     "data": {
      "application/vnd.jupyter.widget-view+json": {
       "model_id": "2bffbc74ec3c476da5ccead465664b33",
       "version_major": 2,
       "version_minor": 0
      },
      "text/plain": [
       "  0%|          | 0/105 [00:00<?, ?it/s]"
      ]
     },
     "metadata": {},
     "output_type": "display_data"
    },
    {
     "name": "stdout",
     "output_type": "stream",
     "text": [
      "shape of the embedding: (768,)\n",
      "combined shape of the embedding: (1536,)\n",
      "Reading contents of 2017-09-30:\n"
     ]
    },
    {
     "data": {
      "application/vnd.jupyter.widget-view+json": {
       "model_id": "f7c5ddf972694fe982ede8b198cc0bfa",
       "version_major": 2,
       "version_minor": 0
      },
      "text/plain": [
       "  0%|          | 0/50 [00:00<?, ?it/s]"
      ]
     },
     "metadata": {},
     "output_type": "display_data"
    },
    {
     "name": "stdout",
     "output_type": "stream",
     "text": [
      "shape of the embedding: (768,)\n",
      "combined shape of the embedding: (1536,)\n",
      "Reading contents of 2019-03-31:\n"
     ]
    },
    {
     "data": {
      "application/vnd.jupyter.widget-view+json": {
       "model_id": "e6323141dbd3495b860b6395e8c9604d",
       "version_major": 2,
       "version_minor": 0
      },
      "text/plain": [
       "  0%|          | 0/34 [00:00<?, ?it/s]"
      ]
     },
     "metadata": {},
     "output_type": "display_data"
    },
    {
     "name": "stdout",
     "output_type": "stream",
     "text": [
      "shape of the embedding: (768,)\n",
      "combined shape of the embedding: (1536,)\n",
      "Ticker: PODD\n",
      "PODD not exists in the Financial Ticker. Continuing with the next ticker...\n",
      "Ticker: FTNT\n",
      "FTNT not exists in the Financial Ticker. Continuing with the next ticker...\n",
      "Ticker: LH\n",
      "LH not exists in the Financial Ticker. Continuing with the next ticker...\n",
      "Ticker: EIX\n",
      "EIX not exists in the Financial Ticker. Continuing with the next ticker...\n",
      "Ticker: ISRG\n",
      "ISRG not exists in the Financial Ticker. Continuing with the next ticker...\n",
      "Ticker: LOW\n",
      "LOW not exists in the Financial Ticker. Continuing with the next ticker...\n",
      "Ticker: NKE\n",
      "NKE not exists in the Financial Ticker. Continuing with the next ticker...\n",
      "Ticker: ICE\n",
      "Reading contents of 2017-06-30:\n"
     ]
    },
    {
     "data": {
      "application/vnd.jupyter.widget-view+json": {
       "model_id": "d9cb04aa21b2484dbbf69264ffe41d71",
       "version_major": 2,
       "version_minor": 0
      },
      "text/plain": [
       "  0%|          | 0/46 [00:00<?, ?it/s]"
      ]
     },
     "metadata": {},
     "output_type": "display_data"
    },
    {
     "name": "stdout",
     "output_type": "stream",
     "text": [
      "shape of the embedding: (768,)\n",
      "combined shape of the embedding: (1536,)\n",
      "Reading contents of 2018-06-30:\n"
     ]
    },
    {
     "data": {
      "application/vnd.jupyter.widget-view+json": {
       "model_id": "6c411d6c0f014a56a96897d5eda6bea8",
       "version_major": 2,
       "version_minor": 0
      },
      "text/plain": [
       "  0%|          | 0/46 [00:00<?, ?it/s]"
      ]
     },
     "metadata": {},
     "output_type": "display_data"
    },
    {
     "name": "stdout",
     "output_type": "stream",
     "text": [
      "shape of the embedding: (768,)\n",
      "combined shape of the embedding: (1536,)\n",
      "Reading contents of 2020-12-31:\n"
     ]
    },
    {
     "data": {
      "application/vnd.jupyter.widget-view+json": {
       "model_id": "501c834c27924ed088ad59ffc81f1c08",
       "version_major": 2,
       "version_minor": 0
      },
      "text/plain": [
       "  0%|          | 0/59 [00:00<?, ?it/s]"
      ]
     },
     "metadata": {},
     "output_type": "display_data"
    },
    {
     "name": "stdout",
     "output_type": "stream",
     "text": [
      "shape of the embedding: (768,)\n",
      "combined shape of the embedding: (1536,)\n",
      "Reading contents of 2015-09-30:\n"
     ]
    },
    {
     "data": {
      "application/vnd.jupyter.widget-view+json": {
       "model_id": "2f70df777708429aaa98ae3f77daa16a",
       "version_major": 2,
       "version_minor": 0
      },
      "text/plain": [
       "  0%|          | 0/35 [00:00<?, ?it/s]"
      ]
     },
     "metadata": {},
     "output_type": "display_data"
    },
    {
     "name": "stdout",
     "output_type": "stream",
     "text": [
      "shape of the embedding: (768,)\n",
      "combined shape of the embedding: (1536,)\n",
      "Reading contents of 2016-06-30:\n"
     ]
    },
    {
     "data": {
      "application/vnd.jupyter.widget-view+json": {
       "model_id": "b351ac6cf92742b3859ee0ac45716009",
       "version_major": 2,
       "version_minor": 0
      },
      "text/plain": [
       "  0%|          | 0/44 [00:00<?, ?it/s]"
      ]
     },
     "metadata": {},
     "output_type": "display_data"
    },
    {
     "name": "stdout",
     "output_type": "stream",
     "text": [
      "shape of the embedding: (768,)\n",
      "combined shape of the embedding: (1536,)\n",
      "Reading contents of 2016-09-30:\n"
     ]
    },
    {
     "data": {
      "application/vnd.jupyter.widget-view+json": {
       "model_id": "761e3c80f21d4da18f012eb55ec7a39a",
       "version_major": 2,
       "version_minor": 0
      },
      "text/plain": [
       "  0%|          | 0/45 [00:00<?, ?it/s]"
      ]
     },
     "metadata": {},
     "output_type": "display_data"
    },
    {
     "name": "stdout",
     "output_type": "stream",
     "text": [
      "shape of the embedding: (768,)\n",
      "combined shape of the embedding: (1536,)\n",
      "Reading contents of 2019-09-30:\n"
     ]
    },
    {
     "data": {
      "application/vnd.jupyter.widget-view+json": {
       "model_id": "5d0ec44a0a12489e83d5afe60dfd2602",
       "version_major": 2,
       "version_minor": 0
      },
      "text/plain": [
       "  0%|          | 0/47 [00:00<?, ?it/s]"
      ]
     },
     "metadata": {},
     "output_type": "display_data"
    },
    {
     "name": "stdout",
     "output_type": "stream",
     "text": [
      "shape of the embedding: (768,)\n",
      "combined shape of the embedding: (1536,)\n",
      "Reading contents of 2019-12-31:\n"
     ]
    },
    {
     "data": {
      "application/vnd.jupyter.widget-view+json": {
       "model_id": "e871172b003e4f30850c84cacc3f9a41",
       "version_major": 2,
       "version_minor": 0
      },
      "text/plain": [
       "  0%|          | 0/50 [00:00<?, ?it/s]"
      ]
     },
     "metadata": {},
     "output_type": "display_data"
    },
    {
     "name": "stdout",
     "output_type": "stream",
     "text": [
      "shape of the embedding: (768,)\n",
      "combined shape of the embedding: (1536,)\n",
      "Reading contents of 2015-06-30:\n"
     ]
    },
    {
     "data": {
      "application/vnd.jupyter.widget-view+json": {
       "model_id": "38abc1a21bb244488fcd8a357b3eabe7",
       "version_major": 2,
       "version_minor": 0
      },
      "text/plain": [
       "  0%|          | 0/31 [00:00<?, ?it/s]"
      ]
     },
     "metadata": {},
     "output_type": "display_data"
    },
    {
     "name": "stdout",
     "output_type": "stream",
     "text": [
      "shape of the embedding: (768,)\n",
      "combined shape of the embedding: (1536,)\n",
      "Reading contents of 2020-06-30:\n"
     ]
    },
    {
     "data": {
      "application/vnd.jupyter.widget-view+json": {
       "model_id": "07c6b301fda7445fa9eed9c3ca9d3fbd",
       "version_major": 2,
       "version_minor": 0
      },
      "text/plain": [
       "  0%|          | 0/44 [00:00<?, ?it/s]"
      ]
     },
     "metadata": {},
     "output_type": "display_data"
    },
    {
     "name": "stdout",
     "output_type": "stream",
     "text": [
      "shape of the embedding: (768,)\n",
      "combined shape of the embedding: (1536,)\n",
      "Reading contents of 2016-12-31:\n"
     ]
    },
    {
     "data": {
      "application/vnd.jupyter.widget-view+json": {
       "model_id": "a20ef863b3a940e9828c1a7266d838ea",
       "version_major": 2,
       "version_minor": 0
      },
      "text/plain": [
       "  0%|          | 0/127 [00:00<?, ?it/s]"
      ]
     },
     "metadata": {},
     "output_type": "display_data"
    },
    {
     "name": "stdout",
     "output_type": "stream",
     "text": [
      "shape of the embedding: (768,)\n",
      "combined shape of the embedding: (1536,)\n",
      "Reading contents of 2017-03-31:\n"
     ]
    },
    {
     "data": {
      "application/vnd.jupyter.widget-view+json": {
       "model_id": "02703a7ae01d49c1b4a828a6e02d1db6",
       "version_major": 2,
       "version_minor": 0
      },
      "text/plain": [
       "  0%|          | 0/36 [00:00<?, ?it/s]"
      ]
     },
     "metadata": {},
     "output_type": "display_data"
    },
    {
     "name": "stdout",
     "output_type": "stream",
     "text": [
      "shape of the embedding: (768,)\n",
      "combined shape of the embedding: (1536,)\n",
      "Reading contents of 2014-12-31:\n"
     ]
    },
    {
     "data": {
      "application/vnd.jupyter.widget-view+json": {
       "model_id": "2c988f672c3e4691b7481e67e67a6b6d",
       "version_major": 2,
       "version_minor": 0
      },
      "text/plain": [
       "  0%|          | 0/69 [00:00<?, ?it/s]"
      ]
     },
     "metadata": {},
     "output_type": "display_data"
    },
    {
     "name": "stdout",
     "output_type": "stream",
     "text": [
      "shape of the embedding: (768,)\n",
      "combined shape of the embedding: (1536,)\n",
      "Reading contents of 2014-06-30:\n"
     ]
    },
    {
     "data": {
      "application/vnd.jupyter.widget-view+json": {
       "model_id": "52d503c7a6714feaba3b40d42c6583ba",
       "version_major": 2,
       "version_minor": 0
      },
      "text/plain": [
       "  0%|          | 0/42 [00:00<?, ?it/s]"
      ]
     },
     "metadata": {},
     "output_type": "display_data"
    },
    {
     "name": "stdout",
     "output_type": "stream",
     "text": [
      "shape of the embedding: (768,)\n",
      "combined shape of the embedding: (1536,)\n",
      "Reading contents of 2022-06-30:\n"
     ]
    },
    {
     "data": {
      "application/vnd.jupyter.widget-view+json": {
       "model_id": "2a3afcfd6b10436695adbced33d56164",
       "version_major": 2,
       "version_minor": 0
      },
      "text/plain": [
       "  0%|          | 0/47 [00:00<?, ?it/s]"
      ]
     },
     "metadata": {},
     "output_type": "display_data"
    },
    {
     "name": "stdout",
     "output_type": "stream",
     "text": [
      "shape of the embedding: (768,)\n",
      "combined shape of the embedding: (1536,)\n",
      "Reading contents of 2021-12-31:\n"
     ]
    },
    {
     "data": {
      "application/vnd.jupyter.widget-view+json": {
       "model_id": "fbcdafaf33974f439f7d62122c848ba3",
       "version_major": 2,
       "version_minor": 0
      },
      "text/plain": [
       "  0%|          | 0/55 [00:00<?, ?it/s]"
      ]
     },
     "metadata": {},
     "output_type": "display_data"
    },
    {
     "name": "stdout",
     "output_type": "stream",
     "text": [
      "shape of the embedding: (768,)\n",
      "combined shape of the embedding: (1536,)\n",
      "Reading contents of 2023-03-31:\n"
     ]
    },
    {
     "data": {
      "application/vnd.jupyter.widget-view+json": {
       "model_id": "9db74a425eba4e35a4a3ae84f4e73b92",
       "version_major": 2,
       "version_minor": 0
      },
      "text/plain": [
       "  0%|          | 0/40 [00:00<?, ?it/s]"
      ]
     },
     "metadata": {},
     "output_type": "display_data"
    },
    {
     "name": "stdout",
     "output_type": "stream",
     "text": [
      "shape of the embedding: (768,)\n",
      "combined shape of the embedding: (1536,)\n",
      "Reading contents of 2019-06-30:\n"
     ]
    },
    {
     "data": {
      "application/vnd.jupyter.widget-view+json": {
       "model_id": "b169b90387624637981b5ea4eea9588c",
       "version_major": 2,
       "version_minor": 0
      },
      "text/plain": [
       "  0%|          | 0/45 [00:00<?, ?it/s]"
      ]
     },
     "metadata": {},
     "output_type": "display_data"
    },
    {
     "name": "stdout",
     "output_type": "stream",
     "text": [
      "shape of the embedding: (768,)\n",
      "combined shape of the embedding: (1536,)\n",
      "Reading contents of 2014-09-30:\n"
     ]
    },
    {
     "data": {
      "application/vnd.jupyter.widget-view+json": {
       "model_id": "a15ff607eec445bebf5f0189c5e39e6d",
       "version_major": 2,
       "version_minor": 0
      },
      "text/plain": [
       "  0%|          | 0/45 [00:00<?, ?it/s]"
      ]
     },
     "metadata": {},
     "output_type": "display_data"
    },
    {
     "name": "stdout",
     "output_type": "stream",
     "text": [
      "shape of the embedding: (768,)\n",
      "combined shape of the embedding: (1536,)\n",
      "Reading contents of 2013-12-31:\n"
     ]
    },
    {
     "data": {
      "application/vnd.jupyter.widget-view+json": {
       "model_id": "1fc602c44b2749ed9e97a456ef2b490d",
       "version_major": 2,
       "version_minor": 0
      },
      "text/plain": [
       "  0%|          | 0/63 [00:00<?, ?it/s]"
      ]
     },
     "metadata": {},
     "output_type": "display_data"
    },
    {
     "name": "stdout",
     "output_type": "stream",
     "text": [
      "shape of the embedding: (768,)\n",
      "combined shape of the embedding: (1536,)\n",
      "Reading contents of 2015-03-31:\n"
     ]
    },
    {
     "data": {
      "application/vnd.jupyter.widget-view+json": {
       "model_id": "c02b389867df45b9a8456491983eb3e2",
       "version_major": 2,
       "version_minor": 0
      },
      "text/plain": [
       "  0%|          | 0/31 [00:00<?, ?it/s]"
      ]
     },
     "metadata": {},
     "output_type": "display_data"
    },
    {
     "name": "stdout",
     "output_type": "stream",
     "text": [
      "shape of the embedding: (768,)\n",
      "combined shape of the embedding: (1536,)\n",
      "Reading contents of 2022-09-30:\n"
     ]
    },
    {
     "data": {
      "application/vnd.jupyter.widget-view+json": {
       "model_id": "e2a71f758e6445148012e3b7f471dfdf",
       "version_major": 2,
       "version_minor": 0
      },
      "text/plain": [
       "  0%|          | 0/51 [00:00<?, ?it/s]"
      ]
     },
     "metadata": {},
     "output_type": "display_data"
    },
    {
     "name": "stdout",
     "output_type": "stream",
     "text": [
      "shape of the embedding: (768,)\n",
      "combined shape of the embedding: (1536,)\n",
      "Reading contents of 2020-09-30:\n"
     ]
    },
    {
     "data": {
      "application/vnd.jupyter.widget-view+json": {
       "model_id": "f0dcb7f0e28d4345a25d7d211bfe7ca7",
       "version_major": 2,
       "version_minor": 0
      },
      "text/plain": [
       "  0%|          | 0/47 [00:00<?, ?it/s]"
      ]
     },
     "metadata": {},
     "output_type": "display_data"
    },
    {
     "name": "stdout",
     "output_type": "stream",
     "text": [
      "shape of the embedding: (768,)\n",
      "combined shape of the embedding: (1536,)\n",
      "Reading contents of 2015-12-31:\n"
     ]
    },
    {
     "data": {
      "application/vnd.jupyter.widget-view+json": {
       "model_id": "c987ae6b117c4962af520b73d1220a3c",
       "version_major": 2,
       "version_minor": 0
      },
      "text/plain": [
       "  0%|          | 0/67 [00:00<?, ?it/s]"
      ]
     },
     "metadata": {},
     "output_type": "display_data"
    },
    {
     "name": "stdout",
     "output_type": "stream",
     "text": [
      "shape of the embedding: (768,)\n",
      "combined shape of the embedding: (1536,)\n",
      "Reading contents of 2016-03-31:\n"
     ]
    },
    {
     "data": {
      "application/vnd.jupyter.widget-view+json": {
       "model_id": "154957e1e6a049d398ce1747ac9826e7",
       "version_major": 2,
       "version_minor": 0
      },
      "text/plain": [
       "  0%|          | 0/33 [00:00<?, ?it/s]"
      ]
     },
     "metadata": {},
     "output_type": "display_data"
    },
    {
     "name": "stdout",
     "output_type": "stream",
     "text": [
      "shape of the embedding: (768,)\n",
      "combined shape of the embedding: (1536,)\n",
      "Reading contents of 2020-03-31:\n"
     ]
    },
    {
     "data": {
      "application/vnd.jupyter.widget-view+json": {
       "model_id": "f51159fda17b4749910fbe7e5998fb03",
       "version_major": 2,
       "version_minor": 0
      },
      "text/plain": [
       "  0%|          | 0/35 [00:00<?, ?it/s]"
      ]
     },
     "metadata": {},
     "output_type": "display_data"
    },
    {
     "name": "stdout",
     "output_type": "stream",
     "text": [
      "shape of the embedding: (768,)\n",
      "combined shape of the embedding: (1536,)\n",
      "Reading contents of 2023-09-30:\n"
     ]
    },
    {
     "data": {
      "application/vnd.jupyter.widget-view+json": {
       "model_id": "39889b343d2342a994c84e241f40f508",
       "version_major": 2,
       "version_minor": 0
      },
      "text/plain": [
       "  0%|          | 0/52 [00:00<?, ?it/s]"
      ]
     },
     "metadata": {},
     "output_type": "display_data"
    },
    {
     "name": "stdout",
     "output_type": "stream",
     "text": [
      "shape of the embedding: (768,)\n",
      "combined shape of the embedding: (1536,)\n",
      "Reading contents of 2013-09-30:\n"
     ]
    },
    {
     "data": {
      "application/vnd.jupyter.widget-view+json": {
       "model_id": "bf71b349e13a4d4ba31639179f4eb12a",
       "version_major": 2,
       "version_minor": 0
      },
      "text/plain": [
       "  0%|          | 0/4 [00:00<?, ?it/s]"
      ]
     },
     "metadata": {},
     "output_type": "display_data"
    },
    {
     "name": "stdout",
     "output_type": "stream",
     "text": [
      "shape of the embedding: (768,)\n",
      "combined shape of the embedding: (1536,)\n",
      "Reading contents of 2021-06-30:\n"
     ]
    },
    {
     "data": {
      "application/vnd.jupyter.widget-view+json": {
       "model_id": "56bf2fc5f17f4264b1aca24b529d0a21",
       "version_major": 2,
       "version_minor": 0
      },
      "text/plain": [
       "  0%|          | 0/49 [00:00<?, ?it/s]"
      ]
     },
     "metadata": {},
     "output_type": "display_data"
    },
    {
     "name": "stdout",
     "output_type": "stream",
     "text": [
      "shape of the embedding: (768,)\n",
      "combined shape of the embedding: (1536,)\n",
      "Reading contents of 2023-12-31:\n"
     ]
    },
    {
     "data": {
      "application/vnd.jupyter.widget-view+json": {
       "model_id": "d27effbafc184a4dac0d083565f1d43e",
       "version_major": 2,
       "version_minor": 0
      },
      "text/plain": [
       "  0%|          | 0/60 [00:00<?, ?it/s]"
      ]
     },
     "metadata": {},
     "output_type": "display_data"
    },
    {
     "name": "stdout",
     "output_type": "stream",
     "text": [
      "shape of the embedding: (768,)\n",
      "combined shape of the embedding: (1536,)\n",
      "Reading contents of 2024-03-31:\n"
     ]
    },
    {
     "data": {
      "application/vnd.jupyter.widget-view+json": {
       "model_id": "ab3cbf5c7e094d58966e10c80d955b7b",
       "version_major": 2,
       "version_minor": 0
      },
      "text/plain": [
       "  0%|          | 0/41 [00:00<?, ?it/s]"
      ]
     },
     "metadata": {},
     "output_type": "display_data"
    },
    {
     "name": "stdout",
     "output_type": "stream",
     "text": [
      "shape of the embedding: (768,)\n",
      "combined shape of the embedding: (1536,)\n",
      "Reading contents of 2013-06-30:\n"
     ]
    },
    {
     "data": {
      "application/vnd.jupyter.widget-view+json": {
       "model_id": "0df5b311b85d47b0a9d04473bf96fe6a",
       "version_major": 2,
       "version_minor": 0
      },
      "text/plain": [
       "  0%|          | 0/3 [00:00<?, ?it/s]"
      ]
     },
     "metadata": {},
     "output_type": "display_data"
    },
    {
     "name": "stdout",
     "output_type": "stream",
     "text": [
      "shape of the embedding: (768,)\n",
      "combined shape of the embedding: (1536,)\n",
      "Reading contents of 2017-12-31:\n"
     ]
    },
    {
     "data": {
      "application/vnd.jupyter.widget-view+json": {
       "model_id": "3d13204e3b0c4a24ad87fd9aa772b57f",
       "version_major": 2,
       "version_minor": 0
      },
      "text/plain": [
       "  0%|          | 0/70 [00:00<?, ?it/s]"
      ]
     },
     "metadata": {},
     "output_type": "display_data"
    },
    {
     "name": "stdout",
     "output_type": "stream",
     "text": [
      "shape of the embedding: (768,)\n",
      "combined shape of the embedding: (1536,)\n",
      "Reading contents of 2014-03-31:\n"
     ]
    },
    {
     "data": {
      "application/vnd.jupyter.widget-view+json": {
       "model_id": "865296f98a52451a90ccd717ef3c67b6",
       "version_major": 2,
       "version_minor": 0
      },
      "text/plain": [
       "  0%|          | 0/33 [00:00<?, ?it/s]"
      ]
     },
     "metadata": {},
     "output_type": "display_data"
    },
    {
     "name": "stdout",
     "output_type": "stream",
     "text": [
      "shape of the embedding: (768,)\n",
      "combined shape of the embedding: (1536,)\n",
      "Reading contents of 2022-12-31:\n"
     ]
    },
    {
     "data": {
      "application/vnd.jupyter.widget-view+json": {
       "model_id": "0308c0f88f2147f185b097f367014786",
       "version_major": 2,
       "version_minor": 0
      },
      "text/plain": [
       "  0%|          | 0/57 [00:00<?, ?it/s]"
      ]
     },
     "metadata": {},
     "output_type": "display_data"
    },
    {
     "name": "stdout",
     "output_type": "stream",
     "text": [
      "shape of the embedding: (768,)\n",
      "combined shape of the embedding: (1536,)\n",
      "Reading contents of 2018-12-31:\n"
     ]
    },
    {
     "data": {
      "application/vnd.jupyter.widget-view+json": {
       "model_id": "f1c1c9d6bb3a45d984307dee070c4762",
       "version_major": 2,
       "version_minor": 0
      },
      "text/plain": [
       "  0%|          | 0/60 [00:00<?, ?it/s]"
      ]
     },
     "metadata": {},
     "output_type": "display_data"
    },
    {
     "name": "stdout",
     "output_type": "stream",
     "text": [
      "shape of the embedding: (768,)\n",
      "combined shape of the embedding: (1536,)\n",
      "Reading contents of 2022-03-31:\n"
     ]
    },
    {
     "data": {
      "application/vnd.jupyter.widget-view+json": {
       "model_id": "b527a0a48f77448696d5df744fd80531",
       "version_major": 2,
       "version_minor": 0
      },
      "text/plain": [
       "  0%|          | 0/36 [00:00<?, ?it/s]"
      ]
     },
     "metadata": {},
     "output_type": "display_data"
    },
    {
     "name": "stdout",
     "output_type": "stream",
     "text": [
      "shape of the embedding: (768,)\n",
      "combined shape of the embedding: (1536,)\n",
      "Reading contents of 2021-03-31:\n"
     ]
    },
    {
     "data": {
      "application/vnd.jupyter.widget-view+json": {
       "model_id": "800dac54245c4e37915e84d1394898fb",
       "version_major": 2,
       "version_minor": 0
      },
      "text/plain": [
       "  0%|          | 0/40 [00:00<?, ?it/s]"
      ]
     },
     "metadata": {},
     "output_type": "display_data"
    },
    {
     "name": "stdout",
     "output_type": "stream",
     "text": [
      "shape of the embedding: (768,)\n",
      "combined shape of the embedding: (1536,)\n",
      "Reading contents of 2023-06-30:\n"
     ]
    },
    {
     "data": {
      "application/vnd.jupyter.widget-view+json": {
       "model_id": "1624035cea7d40978c17187e21566805",
       "version_major": 2,
       "version_minor": 0
      },
      "text/plain": [
       "  0%|          | 0/50 [00:00<?, ?it/s]"
      ]
     },
     "metadata": {},
     "output_type": "display_data"
    },
    {
     "name": "stdout",
     "output_type": "stream",
     "text": [
      "shape of the embedding: (768,)\n",
      "combined shape of the embedding: (1536,)\n",
      "Reading contents of 2018-09-30:\n"
     ]
    },
    {
     "data": {
      "application/vnd.jupyter.widget-view+json": {
       "model_id": "d48e81a3a99147d5a799ac4de8c2c5d7",
       "version_major": 2,
       "version_minor": 0
      },
      "text/plain": [
       "  0%|          | 0/46 [00:00<?, ?it/s]"
      ]
     },
     "metadata": {},
     "output_type": "display_data"
    },
    {
     "name": "stdout",
     "output_type": "stream",
     "text": [
      "shape of the embedding: (768,)\n",
      "combined shape of the embedding: (1536,)\n",
      "Reading contents of 2018-03-31:\n"
     ]
    },
    {
     "data": {
      "application/vnd.jupyter.widget-view+json": {
       "model_id": "2f642fafd0a44a10a644363d0283a58d",
       "version_major": 2,
       "version_minor": 0
      },
      "text/plain": [
       "  0%|          | 0/35 [00:00<?, ?it/s]"
      ]
     },
     "metadata": {},
     "output_type": "display_data"
    },
    {
     "name": "stdout",
     "output_type": "stream",
     "text": [
      "shape of the embedding: (768,)\n",
      "combined shape of the embedding: (1536,)\n",
      "Reading contents of 2021-09-30:\n"
     ]
    },
    {
     "data": {
      "application/vnd.jupyter.widget-view+json": {
       "model_id": "665b00d3ea4b427b93181cc9ceec7c52",
       "version_major": 2,
       "version_minor": 0
      },
      "text/plain": [
       "  0%|          | 0/52 [00:00<?, ?it/s]"
      ]
     },
     "metadata": {},
     "output_type": "display_data"
    },
    {
     "name": "stdout",
     "output_type": "stream",
     "text": [
      "shape of the embedding: (768,)\n",
      "combined shape of the embedding: (1536,)\n",
      "Reading contents of 2017-09-30:\n"
     ]
    },
    {
     "data": {
      "application/vnd.jupyter.widget-view+json": {
       "model_id": "9d0b409df7da4c419c6cb4e4bf2cd6e4",
       "version_major": 2,
       "version_minor": 0
      },
      "text/plain": [
       "  0%|          | 0/49 [00:00<?, ?it/s]"
      ]
     },
     "metadata": {},
     "output_type": "display_data"
    },
    {
     "name": "stdout",
     "output_type": "stream",
     "text": [
      "shape of the embedding: (768,)\n",
      "combined shape of the embedding: (1536,)\n",
      "Reading contents of 2019-03-31:\n"
     ]
    },
    {
     "data": {
      "application/vnd.jupyter.widget-view+json": {
       "model_id": "fc3b9b9ebf32408ba7891f9975b390c4",
       "version_major": 2,
       "version_minor": 0
      },
      "text/plain": [
       "  0%|          | 0/36 [00:00<?, ?it/s]"
      ]
     },
     "metadata": {},
     "output_type": "display_data"
    },
    {
     "name": "stdout",
     "output_type": "stream",
     "text": [
      "shape of the embedding: (768,)\n",
      "combined shape of the embedding: (1536,)\n",
      "Ticker: CCL\n",
      "CCL not exists in the Financial Ticker. Continuing with the next ticker...\n",
      "Ticker: HES\n",
      "HES not exists in the Financial Ticker. Continuing with the next ticker...\n",
      "Ticker: TMO\n",
      "TMO not exists in the Financial Ticker. Continuing with the next ticker...\n",
      "Ticker: AON\n",
      "Reading contents of 2012-03-31:\n"
     ]
    },
    {
     "data": {
      "application/vnd.jupyter.widget-view+json": {
       "model_id": "ec125dccafc64f55b63359ebd85925ad",
       "version_major": 2,
       "version_minor": 0
      },
      "text/plain": [
       "  0%|          | 0/24 [00:00<?, ?it/s]"
      ]
     },
     "metadata": {},
     "output_type": "display_data"
    },
    {
     "name": "stdout",
     "output_type": "stream",
     "text": [
      "shape of the embedding: (768,)\n",
      "combined shape of the embedding: (1536,)\n",
      "Reading contents of 2017-06-30:\n"
     ]
    },
    {
     "data": {
      "application/vnd.jupyter.widget-view+json": {
       "model_id": "ff5c34317fba488faf29bf697aa40825",
       "version_major": 2,
       "version_minor": 0
      },
      "text/plain": [
       "  0%|          | 0/34 [00:00<?, ?it/s]"
      ]
     },
     "metadata": {},
     "output_type": "display_data"
    },
    {
     "name": "stdout",
     "output_type": "stream",
     "text": [
      "shape of the embedding: (768,)\n",
      "combined shape of the embedding: (1536,)\n",
      "Reading contents of 2018-06-30:\n"
     ]
    },
    {
     "data": {
      "application/vnd.jupyter.widget-view+json": {
       "model_id": "4eae508b40c34798a5fc9495615ed787",
       "version_major": 2,
       "version_minor": 0
      },
      "text/plain": [
       "  0%|          | 0/33 [00:00<?, ?it/s]"
      ]
     },
     "metadata": {},
     "output_type": "display_data"
    },
    {
     "name": "stdout",
     "output_type": "stream",
     "text": [
      "shape of the embedding: (768,)\n",
      "combined shape of the embedding: (1536,)\n",
      "Reading contents of 2020-12-31:\n"
     ]
    },
    {
     "data": {
      "application/vnd.jupyter.widget-view+json": {
       "model_id": "738ff1523213411187916493d09280eb",
       "version_major": 2,
       "version_minor": 0
      },
      "text/plain": [
       "  0%|          | 0/40 [00:00<?, ?it/s]"
      ]
     },
     "metadata": {},
     "output_type": "display_data"
    },
    {
     "name": "stdout",
     "output_type": "stream",
     "text": [
      "shape of the embedding: (768,)\n",
      "combined shape of the embedding: (1536,)\n",
      "Reading contents of 2015-09-30:\n"
     ]
    },
    {
     "data": {
      "application/vnd.jupyter.widget-view+json": {
       "model_id": "d30500788a4e4659b8d787597ef71cbe",
       "version_major": 2,
       "version_minor": 0
      },
      "text/plain": [
       "  0%|          | 0/33 [00:00<?, ?it/s]"
      ]
     },
     "metadata": {},
     "output_type": "display_data"
    },
    {
     "name": "stdout",
     "output_type": "stream",
     "text": [
      "shape of the embedding: (768,)\n",
      "combined shape of the embedding: (1536,)\n",
      "Reading contents of 2016-06-30:\n"
     ]
    },
    {
     "data": {
      "application/vnd.jupyter.widget-view+json": {
       "model_id": "68af684936ca4147aae0e9954c7f19a0",
       "version_major": 2,
       "version_minor": 0
      },
      "text/plain": [
       "  0%|          | 0/33 [00:00<?, ?it/s]"
      ]
     },
     "metadata": {},
     "output_type": "display_data"
    },
    {
     "name": "stdout",
     "output_type": "stream",
     "text": [
      "shape of the embedding: (768,)\n",
      "combined shape of the embedding: (1536,)\n",
      "Reading contents of 2016-09-30:\n"
     ]
    },
    {
     "data": {
      "application/vnd.jupyter.widget-view+json": {
       "model_id": "f55fa46b93284e28aa7d7749700e01e4",
       "version_major": 2,
       "version_minor": 0
      },
      "text/plain": [
       "  0%|          | 0/34 [00:00<?, ?it/s]"
      ]
     },
     "metadata": {},
     "output_type": "display_data"
    },
    {
     "name": "stdout",
     "output_type": "stream",
     "text": [
      "shape of the embedding: (768,)\n",
      "combined shape of the embedding: (1536,)\n",
      "Reading contents of 2019-09-30:\n"
     ]
    },
    {
     "data": {
      "application/vnd.jupyter.widget-view+json": {
       "model_id": "167f4d1cb92a4a1cbd386103e36d589b",
       "version_major": 2,
       "version_minor": 0
      },
      "text/plain": [
       "  0%|          | 0/31 [00:00<?, ?it/s]"
      ]
     },
     "metadata": {},
     "output_type": "display_data"
    },
    {
     "name": "stdout",
     "output_type": "stream",
     "text": [
      "shape of the embedding: (768,)\n",
      "combined shape of the embedding: (1536,)\n",
      "Reading contents of 2019-12-31:\n"
     ]
    },
    {
     "data": {
      "application/vnd.jupyter.widget-view+json": {
       "model_id": "421d273641fa48c7b1e82a46a12cb6aa",
       "version_major": 2,
       "version_minor": 0
      },
      "text/plain": [
       "  0%|          | 0/36 [00:00<?, ?it/s]"
      ]
     },
     "metadata": {},
     "output_type": "display_data"
    },
    {
     "name": "stdout",
     "output_type": "stream",
     "text": [
      "shape of the embedding: (768,)\n",
      "combined shape of the embedding: (1536,)\n",
      "Reading contents of 2015-06-30:\n"
     ]
    },
    {
     "data": {
      "application/vnd.jupyter.widget-view+json": {
       "model_id": "e48165f6a308401ea98d08789a26ee1c",
       "version_major": 2,
       "version_minor": 0
      },
      "text/plain": [
       "  0%|          | 0/33 [00:00<?, ?it/s]"
      ]
     },
     "metadata": {},
     "output_type": "display_data"
    },
    {
     "name": "stdout",
     "output_type": "stream",
     "text": [
      "shape of the embedding: (768,)\n",
      "combined shape of the embedding: (1536,)\n",
      "Reading contents of 2020-06-30:\n"
     ]
    },
    {
     "data": {
      "application/vnd.jupyter.widget-view+json": {
       "model_id": "bfa325dbd9a04f28a3f1043be8ba245d",
       "version_major": 2,
       "version_minor": 0
      },
      "text/plain": [
       "  0%|          | 0/33 [00:00<?, ?it/s]"
      ]
     },
     "metadata": {},
     "output_type": "display_data"
    },
    {
     "name": "stdout",
     "output_type": "stream",
     "text": [
      "shape of the embedding: (768,)\n",
      "combined shape of the embedding: (1536,)\n",
      "Reading contents of 2016-12-31:\n"
     ]
    },
    {
     "data": {
      "application/vnd.jupyter.widget-view+json": {
       "model_id": "8c00aa27a80944d79823ee2d58359692",
       "version_major": 2,
       "version_minor": 0
      },
      "text/plain": [
       "  0%|          | 0/39 [00:00<?, ?it/s]"
      ]
     },
     "metadata": {},
     "output_type": "display_data"
    },
    {
     "name": "stdout",
     "output_type": "stream",
     "text": [
      "shape of the embedding: (768,)\n",
      "combined shape of the embedding: (1536,)\n",
      "Reading contents of 2017-03-31:\n"
     ]
    },
    {
     "data": {
      "application/vnd.jupyter.widget-view+json": {
       "model_id": "c340a3614327486daa5b477a5e775d02",
       "version_major": 2,
       "version_minor": 0
      },
      "text/plain": [
       "  0%|          | 0/28 [00:00<?, ?it/s]"
      ]
     },
     "metadata": {},
     "output_type": "display_data"
    },
    {
     "name": "stdout",
     "output_type": "stream",
     "text": [
      "shape of the embedding: (768,)\n",
      "combined shape of the embedding: (1536,)\n",
      "Reading contents of 2014-12-31:\n"
     ]
    },
    {
     "data": {
      "application/vnd.jupyter.widget-view+json": {
       "model_id": "4e1474e88c8a43958ff0b206ab063d55",
       "version_major": 2,
       "version_minor": 0
      },
      "text/plain": [
       "  0%|          | 0/41 [00:00<?, ?it/s]"
      ]
     },
     "metadata": {},
     "output_type": "display_data"
    },
    {
     "name": "stdout",
     "output_type": "stream",
     "text": [
      "shape of the embedding: (768,)\n",
      "combined shape of the embedding: (1536,)\n",
      "Reading contents of 2014-06-30:\n"
     ]
    },
    {
     "data": {
      "application/vnd.jupyter.widget-view+json": {
       "model_id": "3c548078ec894d248cc73c3ac2f93574",
       "version_major": 2,
       "version_minor": 0
      },
      "text/plain": [
       "  0%|          | 0/34 [00:00<?, ?it/s]"
      ]
     },
     "metadata": {},
     "output_type": "display_data"
    },
    {
     "name": "stdout",
     "output_type": "stream",
     "text": [
      "shape of the embedding: (768,)\n",
      "combined shape of the embedding: (1536,)\n",
      "Reading contents of 2022-06-30:\n"
     ]
    },
    {
     "data": {
      "application/vnd.jupyter.widget-view+json": {
       "model_id": "98e1aaa5958a430288f93b19711e9394",
       "version_major": 2,
       "version_minor": 0
      },
      "text/plain": [
       "  0%|          | 0/51 [00:00<?, ?it/s]"
      ]
     },
     "metadata": {},
     "output_type": "display_data"
    },
    {
     "name": "stdout",
     "output_type": "stream",
     "text": [
      "shape of the embedding: (768,)\n",
      "combined shape of the embedding: (1536,)\n",
      "Reading contents of 2021-12-31:\n"
     ]
    },
    {
     "data": {
      "application/vnd.jupyter.widget-view+json": {
       "model_id": "2b2f73494d2e4d5e917276d04543d28a",
       "version_major": 2,
       "version_minor": 0
      },
      "text/plain": [
       "  0%|          | 0/37 [00:00<?, ?it/s]"
      ]
     },
     "metadata": {},
     "output_type": "display_data"
    },
    {
     "name": "stdout",
     "output_type": "stream",
     "text": [
      "shape of the embedding: (768,)\n",
      "combined shape of the embedding: (1536,)\n",
      "Reading contents of 2023-03-31:\n"
     ]
    },
    {
     "data": {
      "application/vnd.jupyter.widget-view+json": {
       "model_id": "b67f879ee5584ad0b053ca439df48738",
       "version_major": 2,
       "version_minor": 0
      },
      "text/plain": [
       "  0%|          | 0/19 [00:00<?, ?it/s]"
      ]
     },
     "metadata": {},
     "output_type": "display_data"
    },
    {
     "name": "stdout",
     "output_type": "stream",
     "text": [
      "shape of the embedding: (768,)\n",
      "combined shape of the embedding: (1536,)\n",
      "Reading contents of 2019-06-30:\n"
     ]
    },
    {
     "data": {
      "application/vnd.jupyter.widget-view+json": {
       "model_id": "3c385cc12b8b487f8b111d26d038c2e5",
       "version_major": 2,
       "version_minor": 0
      },
      "text/plain": [
       "  0%|          | 0/30 [00:00<?, ?it/s]"
      ]
     },
     "metadata": {},
     "output_type": "display_data"
    },
    {
     "name": "stdout",
     "output_type": "stream",
     "text": [
      "shape of the embedding: (768,)\n",
      "combined shape of the embedding: (1536,)\n",
      "Reading contents of 2014-09-30:\n"
     ]
    },
    {
     "data": {
      "application/vnd.jupyter.widget-view+json": {
       "model_id": "7a82d7cc8064491184ad8f00a43e4353",
       "version_major": 2,
       "version_minor": 0
      },
      "text/plain": [
       "  0%|          | 0/34 [00:00<?, ?it/s]"
      ]
     },
     "metadata": {},
     "output_type": "display_data"
    },
    {
     "name": "stdout",
     "output_type": "stream",
     "text": [
      "shape of the embedding: (768,)\n",
      "combined shape of the embedding: (1536,)\n",
      "Reading contents of 2013-12-31:\n"
     ]
    },
    {
     "data": {
      "application/vnd.jupyter.widget-view+json": {
       "model_id": "22a02e11ba8641858c373dca5f818202",
       "version_major": 2,
       "version_minor": 0
      },
      "text/plain": [
       "  0%|          | 0/41 [00:00<?, ?it/s]"
      ]
     },
     "metadata": {},
     "output_type": "display_data"
    },
    {
     "name": "stdout",
     "output_type": "stream",
     "text": [
      "shape of the embedding: (768,)\n",
      "combined shape of the embedding: (1536,)\n",
      "Reading contents of 2015-03-31:\n"
     ]
    },
    {
     "data": {
      "application/vnd.jupyter.widget-view+json": {
       "model_id": "ea44f40fa02a4f558c8568929cec179c",
       "version_major": 2,
       "version_minor": 0
      },
      "text/plain": [
       "  0%|          | 0/24 [00:00<?, ?it/s]"
      ]
     },
     "metadata": {},
     "output_type": "display_data"
    },
    {
     "name": "stdout",
     "output_type": "stream",
     "text": [
      "shape of the embedding: (768,)\n",
      "combined shape of the embedding: (1536,)\n",
      "Reading contents of 2011-06-30:\n"
     ]
    },
    {
     "data": {
      "application/vnd.jupyter.widget-view+json": {
       "model_id": "177e9de31d064cd7bde28be62de57fd8",
       "version_major": 2,
       "version_minor": 0
      },
      "text/plain": [
       "  0%|          | 0/31 [00:00<?, ?it/s]"
      ]
     },
     "metadata": {},
     "output_type": "display_data"
    },
    {
     "name": "stdout",
     "output_type": "stream",
     "text": [
      "shape of the embedding: (768,)\n",
      "combined shape of the embedding: (1536,)\n",
      "Reading contents of 2011-12-31:\n"
     ]
    },
    {
     "data": {
      "application/vnd.jupyter.widget-view+json": {
       "model_id": "1eea1eb3d3b94b0da36ac6dac0f3aa0c",
       "version_major": 2,
       "version_minor": 0
      },
      "text/plain": [
       "  0%|          | 0/40 [00:00<?, ?it/s]"
      ]
     },
     "metadata": {},
     "output_type": "display_data"
    },
    {
     "name": "stdout",
     "output_type": "stream",
     "text": [
      "shape of the embedding: (768,)\n",
      "combined shape of the embedding: (1536,)\n",
      "Reading contents of 2022-09-30:\n"
     ]
    },
    {
     "data": {
      "application/vnd.jupyter.widget-view+json": {
       "model_id": "30692196ea94407abeb34edea13a3d50",
       "version_major": 2,
       "version_minor": 0
      },
      "text/plain": [
       "  0%|          | 0/51 [00:00<?, ?it/s]"
      ]
     },
     "metadata": {},
     "output_type": "display_data"
    },
    {
     "name": "stdout",
     "output_type": "stream",
     "text": [
      "shape of the embedding: (768,)\n",
      "combined shape of the embedding: (1536,)\n",
      "Reading contents of 2012-09-30:\n"
     ]
    },
    {
     "data": {
      "application/vnd.jupyter.widget-view+json": {
       "model_id": "941f35c572614574bda72eae37d33779",
       "version_major": 2,
       "version_minor": 0
      },
      "text/plain": [
       "  0%|          | 0/31 [00:00<?, ?it/s]"
      ]
     },
     "metadata": {},
     "output_type": "display_data"
    },
    {
     "name": "stdout",
     "output_type": "stream",
     "text": [
      "shape of the embedding: (768,)\n",
      "combined shape of the embedding: (1536,)\n",
      "Reading contents of 2020-09-30:\n"
     ]
    },
    {
     "data": {
      "application/vnd.jupyter.widget-view+json": {
       "model_id": "bfc0c2798d374e619f8d8f3aa33c36cd",
       "version_major": 2,
       "version_minor": 0
      },
      "text/plain": [
       "  0%|          | 0/35 [00:00<?, ?it/s]"
      ]
     },
     "metadata": {},
     "output_type": "display_data"
    },
    {
     "name": "stdout",
     "output_type": "stream",
     "text": [
      "shape of the embedding: (768,)\n",
      "combined shape of the embedding: (1536,)\n",
      "Reading contents of 2015-12-31:\n"
     ]
    },
    {
     "data": {
      "application/vnd.jupyter.widget-view+json": {
       "model_id": "13d3ec011b2042bb8dc7f6e56fcda5a8",
       "version_major": 2,
       "version_minor": 0
      },
      "text/plain": [
       "  0%|          | 0/37 [00:00<?, ?it/s]"
      ]
     },
     "metadata": {},
     "output_type": "display_data"
    },
    {
     "name": "stdout",
     "output_type": "stream",
     "text": [
      "shape of the embedding: (768,)\n",
      "combined shape of the embedding: (1536,)\n",
      "Reading contents of 2016-03-31:\n"
     ]
    },
    {
     "data": {
      "application/vnd.jupyter.widget-view+json": {
       "model_id": "b3b23d4379434a3e87fcec23726a34d2",
       "version_major": 2,
       "version_minor": 0
      },
      "text/plain": [
       "  0%|          | 0/25 [00:00<?, ?it/s]"
      ]
     },
     "metadata": {},
     "output_type": "display_data"
    },
    {
     "name": "stdout",
     "output_type": "stream",
     "text": [
      "shape of the embedding: (768,)\n",
      "combined shape of the embedding: (1536,)\n",
      "Reading contents of 2020-03-31:\n"
     ]
    },
    {
     "data": {
      "application/vnd.jupyter.widget-view+json": {
       "model_id": "7e50bbbbf0784a9b87e952208043c433",
       "version_major": 2,
       "version_minor": 0
      },
      "text/plain": [
       "  0%|          | 0/27 [00:00<?, ?it/s]"
      ]
     },
     "metadata": {},
     "output_type": "display_data"
    },
    {
     "name": "stdout",
     "output_type": "stream",
     "text": [
      "shape of the embedding: (768,)\n",
      "combined shape of the embedding: (1536,)\n",
      "Reading contents of 2023-09-30:\n"
     ]
    },
    {
     "data": {
      "application/vnd.jupyter.widget-view+json": {
       "model_id": "8bbe6de6061a4337aa996db1a96ef69f",
       "version_major": 2,
       "version_minor": 0
      },
      "text/plain": [
       "  0%|          | 0/26 [00:00<?, ?it/s]"
      ]
     },
     "metadata": {},
     "output_type": "display_data"
    },
    {
     "name": "stdout",
     "output_type": "stream",
     "text": [
      "shape of the embedding: (768,)\n",
      "combined shape of the embedding: (1536,)\n",
      "Reading contents of 2013-09-30:\n"
     ]
    },
    {
     "data": {
      "application/vnd.jupyter.widget-view+json": {
       "model_id": "5af33a803afc434cbbff4f55e2b06305",
       "version_major": 2,
       "version_minor": 0
      },
      "text/plain": [
       "  0%|          | 0/37 [00:00<?, ?it/s]"
      ]
     },
     "metadata": {},
     "output_type": "display_data"
    },
    {
     "name": "stdout",
     "output_type": "stream",
     "text": [
      "shape of the embedding: (768,)\n",
      "combined shape of the embedding: (1536,)\n",
      "Reading contents of 2021-06-30:\n"
     ]
    },
    {
     "data": {
      "application/vnd.jupyter.widget-view+json": {
       "model_id": "e888479b3fa2410a9f7ce104b98b5e57",
       "version_major": 2,
       "version_minor": 0
      },
      "text/plain": [
       "  0%|          | 0/30 [00:00<?, ?it/s]"
      ]
     },
     "metadata": {},
     "output_type": "display_data"
    },
    {
     "name": "stdout",
     "output_type": "stream",
     "text": [
      "shape of the embedding: (768,)\n",
      "combined shape of the embedding: (1536,)\n",
      "Reading contents of 2023-12-31:\n"
     ]
    },
    {
     "data": {
      "application/vnd.jupyter.widget-view+json": {
       "model_id": "90535b152ecb47d49740771ffbe8e429",
       "version_major": 2,
       "version_minor": 0
      },
      "text/plain": [
       "  0%|          | 0/35 [00:00<?, ?it/s]"
      ]
     },
     "metadata": {},
     "output_type": "display_data"
    },
    {
     "name": "stdout",
     "output_type": "stream",
     "text": [
      "shape of the embedding: (768,)\n",
      "combined shape of the embedding: (1536,)\n",
      "Reading contents of 2024-03-31:\n"
     ]
    },
    {
     "data": {
      "application/vnd.jupyter.widget-view+json": {
       "model_id": "9c0bbd8604ed417d9856099fb475efb1",
       "version_major": 2,
       "version_minor": 0
      },
      "text/plain": [
       "  0%|          | 0/24 [00:00<?, ?it/s]"
      ]
     },
     "metadata": {},
     "output_type": "display_data"
    },
    {
     "name": "stdout",
     "output_type": "stream",
     "text": [
      "shape of the embedding: (768,)\n",
      "combined shape of the embedding: (1536,)\n",
      "Reading contents of 2013-06-30:\n"
     ]
    },
    {
     "data": {
      "application/vnd.jupyter.widget-view+json": {
       "model_id": "7b174fa3e59f4aa9888e718d879561da",
       "version_major": 2,
       "version_minor": 0
      },
      "text/plain": [
       "  0%|          | 0/36 [00:00<?, ?it/s]"
      ]
     },
     "metadata": {},
     "output_type": "display_data"
    },
    {
     "name": "stdout",
     "output_type": "stream",
     "text": [
      "shape of the embedding: (768,)\n",
      "combined shape of the embedding: (1536,)\n",
      "Reading contents of 2012-12-31:\n"
     ]
    },
    {
     "data": {
      "application/vnd.jupyter.widget-view+json": {
       "model_id": "fc4c807287b3485b8072216ec14ac66b",
       "version_major": 2,
       "version_minor": 0
      },
      "text/plain": [
       "  0%|          | 0/41 [00:00<?, ?it/s]"
      ]
     },
     "metadata": {},
     "output_type": "display_data"
    },
    {
     "name": "stdout",
     "output_type": "stream",
     "text": [
      "shape of the embedding: (768,)\n",
      "combined shape of the embedding: (1536,)\n",
      "Reading contents of 2017-12-31:\n"
     ]
    },
    {
     "data": {
      "application/vnd.jupyter.widget-view+json": {
       "model_id": "22707621e6c94a259aed947a212a50b0",
       "version_major": 2,
       "version_minor": 0
      },
      "text/plain": [
       "  0%|          | 0/40 [00:00<?, ?it/s]"
      ]
     },
     "metadata": {},
     "output_type": "display_data"
    },
    {
     "name": "stdout",
     "output_type": "stream",
     "text": [
      "shape of the embedding: (768,)\n",
      "combined shape of the embedding: (1536,)\n",
      "Reading contents of 2014-03-31:\n"
     ]
    },
    {
     "data": {
      "application/vnd.jupyter.widget-view+json": {
       "model_id": "40ef4199e886409e814cb0ca35a21fd3",
       "version_major": 2,
       "version_minor": 0
      },
      "text/plain": [
       "  0%|          | 0/25 [00:00<?, ?it/s]"
      ]
     },
     "metadata": {},
     "output_type": "display_data"
    },
    {
     "name": "stdout",
     "output_type": "stream",
     "text": [
      "shape of the embedding: (768,)\n",
      "combined shape of the embedding: (1536,)\n",
      "Reading contents of 2022-12-31:\n"
     ]
    },
    {
     "data": {
      "application/vnd.jupyter.widget-view+json": {
       "model_id": "003c2b4f21ea4fe19ea47b5757475646",
       "version_major": 2,
       "version_minor": 0
      },
      "text/plain": [
       "  0%|          | 0/59 [00:00<?, ?it/s]"
      ]
     },
     "metadata": {},
     "output_type": "display_data"
    },
    {
     "name": "stdout",
     "output_type": "stream",
     "text": [
      "shape of the embedding: (768,)\n",
      "combined shape of the embedding: (1536,)\n",
      "Reading contents of 2018-12-31:\n"
     ]
    },
    {
     "data": {
      "application/vnd.jupyter.widget-view+json": {
       "model_id": "a3b13ba01cff4bd388f561e8b1e6f382",
       "version_major": 2,
       "version_minor": 0
      },
      "text/plain": [
       "  0%|          | 0/40 [00:00<?, ?it/s]"
      ]
     },
     "metadata": {},
     "output_type": "display_data"
    },
    {
     "name": "stdout",
     "output_type": "stream",
     "text": [
      "shape of the embedding: (768,)\n",
      "combined shape of the embedding: (1536,)\n",
      "Reading contents of 2022-03-31:\n"
     ]
    },
    {
     "data": {
      "application/vnd.jupyter.widget-view+json": {
       "model_id": "5f1d56bb3e6f44fe9523bc62482f51c7",
       "version_major": 2,
       "version_minor": 0
      },
      "text/plain": [
       "  0%|          | 0/21 [00:00<?, ?it/s]"
      ]
     },
     "metadata": {},
     "output_type": "display_data"
    },
    {
     "name": "stdout",
     "output_type": "stream",
     "text": [
      "shape of the embedding: (768,)\n",
      "combined shape of the embedding: (1536,)\n",
      "Reading contents of 2021-03-31:\n"
     ]
    },
    {
     "data": {
      "application/vnd.jupyter.widget-view+json": {
       "model_id": "c8dba720008248e3b9516875c9374969",
       "version_major": 2,
       "version_minor": 0
      },
      "text/plain": [
       "  0%|          | 0/23 [00:00<?, ?it/s]"
      ]
     },
     "metadata": {},
     "output_type": "display_data"
    },
    {
     "name": "stdout",
     "output_type": "stream",
     "text": [
      "shape of the embedding: (768,)\n",
      "combined shape of the embedding: (1536,)\n",
      "Reading contents of 2013-03-31:\n"
     ]
    },
    {
     "data": {
      "application/vnd.jupyter.widget-view+json": {
       "model_id": "b0d2e4709442401b9ba96c0ca268f66e",
       "version_major": 2,
       "version_minor": 0
      },
      "text/plain": [
       "  0%|          | 0/26 [00:00<?, ?it/s]"
      ]
     },
     "metadata": {},
     "output_type": "display_data"
    },
    {
     "name": "stdout",
     "output_type": "stream",
     "text": [
      "shape of the embedding: (768,)\n",
      "combined shape of the embedding: (1536,)\n",
      "Reading contents of 2012-06-30:\n"
     ]
    },
    {
     "data": {
      "application/vnd.jupyter.widget-view+json": {
       "model_id": "39ec1626d8f44e1699f7f31c8a563d3d",
       "version_major": 2,
       "version_minor": 0
      },
      "text/plain": [
       "  0%|          | 0/31 [00:00<?, ?it/s]"
      ]
     },
     "metadata": {},
     "output_type": "display_data"
    },
    {
     "name": "stdout",
     "output_type": "stream",
     "text": [
      "shape of the embedding: (768,)\n",
      "combined shape of the embedding: (1536,)\n",
      "Reading contents of 2023-06-30:\n"
     ]
    },
    {
     "data": {
      "application/vnd.jupyter.widget-view+json": {
       "model_id": "3ccea2450bc54dc290e8a4b62059b60a",
       "version_major": 2,
       "version_minor": 0
      },
      "text/plain": [
       "  0%|          | 0/24 [00:00<?, ?it/s]"
      ]
     },
     "metadata": {},
     "output_type": "display_data"
    },
    {
     "name": "stdout",
     "output_type": "stream",
     "text": [
      "shape of the embedding: (768,)\n",
      "combined shape of the embedding: (1536,)\n",
      "Reading contents of 2018-09-30:\n"
     ]
    },
    {
     "data": {
      "application/vnd.jupyter.widget-view+json": {
       "model_id": "f244f4b0cc584102a244068c12adfbe6",
       "version_major": 2,
       "version_minor": 0
      },
      "text/plain": [
       "  0%|          | 0/33 [00:00<?, ?it/s]"
      ]
     },
     "metadata": {},
     "output_type": "display_data"
    },
    {
     "name": "stdout",
     "output_type": "stream",
     "text": [
      "shape of the embedding: (768,)\n",
      "combined shape of the embedding: (1536,)\n",
      "Reading contents of 2011-09-30:\n"
     ]
    },
    {
     "data": {
      "application/vnd.jupyter.widget-view+json": {
       "model_id": "711efd1acb3145239f32671435a5dedf",
       "version_major": 2,
       "version_minor": 0
      },
      "text/plain": [
       "  0%|          | 0/32 [00:00<?, ?it/s]"
      ]
     },
     "metadata": {},
     "output_type": "display_data"
    },
    {
     "name": "stdout",
     "output_type": "stream",
     "text": [
      "shape of the embedding: (768,)\n",
      "combined shape of the embedding: (1536,)\n",
      "Reading contents of 2018-03-31:\n"
     ]
    },
    {
     "data": {
      "application/vnd.jupyter.widget-view+json": {
       "model_id": "50318528b1a1416f99c43b4d0b9de2ec",
       "version_major": 2,
       "version_minor": 0
      },
      "text/plain": [
       "  0%|          | 0/28 [00:00<?, ?it/s]"
      ]
     },
     "metadata": {},
     "output_type": "display_data"
    },
    {
     "name": "stdout",
     "output_type": "stream",
     "text": [
      "shape of the embedding: (768,)\n",
      "combined shape of the embedding: (1536,)\n",
      "Reading contents of 2021-09-30:\n"
     ]
    },
    {
     "data": {
      "application/vnd.jupyter.widget-view+json": {
       "model_id": "6ce9cc6f2e4441a5a37024d60f51d8ce",
       "version_major": 2,
       "version_minor": 0
      },
      "text/plain": [
       "  0%|          | 0/32 [00:00<?, ?it/s]"
      ]
     },
     "metadata": {},
     "output_type": "display_data"
    },
    {
     "name": "stdout",
     "output_type": "stream",
     "text": [
      "shape of the embedding: (768,)\n",
      "combined shape of the embedding: (1536,)\n",
      "Reading contents of 2017-09-30:\n"
     ]
    },
    {
     "data": {
      "application/vnd.jupyter.widget-view+json": {
       "model_id": "7048097d15ff420b8b2adad9f19da3dc",
       "version_major": 2,
       "version_minor": 0
      },
      "text/plain": [
       "  0%|          | 0/34 [00:00<?, ?it/s]"
      ]
     },
     "metadata": {},
     "output_type": "display_data"
    },
    {
     "name": "stdout",
     "output_type": "stream",
     "text": [
      "shape of the embedding: (768,)\n",
      "combined shape of the embedding: (1536,)\n",
      "Reading contents of 2019-03-31:\n"
     ]
    },
    {
     "data": {
      "application/vnd.jupyter.widget-view+json": {
       "model_id": "b7d2fee2a52643829e9268ae621a30c3",
       "version_major": 2,
       "version_minor": 0
      },
      "text/plain": [
       "  0%|          | 0/26 [00:00<?, ?it/s]"
      ]
     },
     "metadata": {},
     "output_type": "display_data"
    },
    {
     "name": "stdout",
     "output_type": "stream",
     "text": [
      "shape of the embedding: (768,)\n",
      "combined shape of the embedding: (1536,)\n",
      "Ticker: COF\n",
      "Reading contents of 2012-03-31:\n"
     ]
    },
    {
     "data": {
      "application/vnd.jupyter.widget-view+json": {
       "model_id": "eed3dfb04cde4883834a40420ec00149",
       "version_major": 2,
       "version_minor": 0
      },
      "text/plain": [
       "  0%|          | 0/217 [00:00<?, ?it/s]"
      ]
     },
     "metadata": {},
     "output_type": "display_data"
    },
    {
     "name": "stdout",
     "output_type": "stream",
     "text": [
      "shape of the embedding: (768,)\n",
      "combined shape of the embedding: (1536,)\n",
      "Reading contents of 2017-06-30:\n"
     ]
    },
    {
     "data": {
      "application/vnd.jupyter.widget-view+json": {
       "model_id": "fb1e3512bdee48e79a5d11ba8429cfe4",
       "version_major": 2,
       "version_minor": 0
      },
      "text/plain": [
       "  0%|          | 0/241 [00:00<?, ?it/s]"
      ]
     },
     "metadata": {},
     "output_type": "display_data"
    },
    {
     "name": "stdout",
     "output_type": "stream",
     "text": [
      "shape of the embedding: (768,)\n",
      "combined shape of the embedding: (1536,)\n",
      "Reading contents of 2018-06-30:\n"
     ]
    },
    {
     "data": {
      "application/vnd.jupyter.widget-view+json": {
       "model_id": "1a30fd913d4744bba7730274a650761b",
       "version_major": 2,
       "version_minor": 0
      },
      "text/plain": [
       "  0%|          | 0/216 [00:00<?, ?it/s]"
      ]
     },
     "metadata": {},
     "output_type": "display_data"
    },
    {
     "name": "stdout",
     "output_type": "stream",
     "text": [
      "shape of the embedding: (768,)\n",
      "combined shape of the embedding: (1536,)\n",
      "Reading contents of 2020-12-31:\n"
     ]
    },
    {
     "data": {
      "application/vnd.jupyter.widget-view+json": {
       "model_id": "63fdbc8a34cb463e9b1437949078e494",
       "version_major": 2,
       "version_minor": 0
      },
      "text/plain": [
       "  0%|          | 0/188 [00:00<?, ?it/s]"
      ]
     },
     "metadata": {},
     "output_type": "display_data"
    },
    {
     "name": "stdout",
     "output_type": "stream",
     "text": [
      "shape of the embedding: (768,)\n",
      "combined shape of the embedding: (1536,)\n",
      "Reading contents of 2015-09-30:\n"
     ]
    },
    {
     "data": {
      "application/vnd.jupyter.widget-view+json": {
       "model_id": "bdb8f375343a4067ace08591dc7ef419",
       "version_major": 2,
       "version_minor": 0
      },
      "text/plain": [
       "  0%|          | 0/244 [00:00<?, ?it/s]"
      ]
     },
     "metadata": {},
     "output_type": "display_data"
    },
    {
     "name": "stdout",
     "output_type": "stream",
     "text": [
      "shape of the embedding: (768,)\n",
      "combined shape of the embedding: (1536,)\n",
      "Reading contents of 2016-06-30:\n"
     ]
    },
    {
     "data": {
      "application/vnd.jupyter.widget-view+json": {
       "model_id": "c711d357910842d0be3cb03669e5633e",
       "version_major": 2,
       "version_minor": 0
      },
      "text/plain": [
       "  0%|          | 0/236 [00:00<?, ?it/s]"
      ]
     },
     "metadata": {},
     "output_type": "display_data"
    },
    {
     "name": "stdout",
     "output_type": "stream",
     "text": [
      "shape of the embedding: (768,)\n",
      "combined shape of the embedding: (1536,)\n",
      "Reading contents of 2016-09-30:\n"
     ]
    },
    {
     "data": {
      "application/vnd.jupyter.widget-view+json": {
       "model_id": "3186f9c0dfef4fb3b6f38a42826f6832",
       "version_major": 2,
       "version_minor": 0
      },
      "text/plain": [
       "  0%|          | 0/236 [00:00<?, ?it/s]"
      ]
     },
     "metadata": {},
     "output_type": "display_data"
    },
    {
     "name": "stdout",
     "output_type": "stream",
     "text": [
      "shape of the embedding: (768,)\n",
      "combined shape of the embedding: (1536,)\n",
      "Reading contents of 2019-09-30:\n"
     ]
    },
    {
     "data": {
      "application/vnd.jupyter.widget-view+json": {
       "model_id": "c3c4e275b98a45f6acfec76ab24f1d1e",
       "version_major": 2,
       "version_minor": 0
      },
      "text/plain": [
       "  0%|          | 0/212 [00:00<?, ?it/s]"
      ]
     },
     "metadata": {},
     "output_type": "display_data"
    },
    {
     "name": "stdout",
     "output_type": "stream",
     "text": [
      "shape of the embedding: (768,)\n",
      "combined shape of the embedding: (1536,)\n",
      "Reading contents of 2019-12-31:\n"
     ]
    },
    {
     "data": {
      "application/vnd.jupyter.widget-view+json": {
       "model_id": "4f4184d2172549a8b17e0b27e61d24dd",
       "version_major": 2,
       "version_minor": 0
      },
      "text/plain": [
       "  0%|          | 0/175 [00:00<?, ?it/s]"
      ]
     },
     "metadata": {},
     "output_type": "display_data"
    },
    {
     "name": "stdout",
     "output_type": "stream",
     "text": [
      "shape of the embedding: (768,)\n",
      "combined shape of the embedding: (1536,)\n",
      "Reading contents of 2015-06-30:\n"
     ]
    },
    {
     "data": {
      "application/vnd.jupyter.widget-view+json": {
       "model_id": "ae52c5135c9f44bbaaee9d06dcb278db",
       "version_major": 2,
       "version_minor": 0
      },
      "text/plain": [
       "  0%|          | 0/246 [00:00<?, ?it/s]"
      ]
     },
     "metadata": {},
     "output_type": "display_data"
    },
    {
     "name": "stdout",
     "output_type": "stream",
     "text": [
      "shape of the embedding: (768,)\n",
      "combined shape of the embedding: (1536,)\n",
      "Reading contents of 2020-06-30:\n"
     ]
    },
    {
     "data": {
      "application/vnd.jupyter.widget-view+json": {
       "model_id": "bba76554301741dcbf4775f3d09a3077",
       "version_major": 2,
       "version_minor": 0
      },
      "text/plain": [
       "  0%|          | 0/211 [00:00<?, ?it/s]"
      ]
     },
     "metadata": {},
     "output_type": "display_data"
    },
    {
     "name": "stdout",
     "output_type": "stream",
     "text": [
      "shape of the embedding: (768,)\n",
      "combined shape of the embedding: (1536,)\n",
      "Reading contents of 2016-12-31:\n"
     ]
    },
    {
     "data": {
      "application/vnd.jupyter.widget-view+json": {
       "model_id": "5d9a7899ebc44ce6ae1d00df5715dc19",
       "version_major": 2,
       "version_minor": 0
      },
      "text/plain": [
       "  0%|          | 0/189 [00:00<?, ?it/s]"
      ]
     },
     "metadata": {},
     "output_type": "display_data"
    },
    {
     "name": "stdout",
     "output_type": "stream",
     "text": [
      "shape of the embedding: (768,)\n",
      "combined shape of the embedding: (1536,)\n",
      "Reading contents of 2017-03-31:\n"
     ]
    },
    {
     "data": {
      "application/vnd.jupyter.widget-view+json": {
       "model_id": "0a973c468f8b4588ad44da1ba7cc6565",
       "version_major": 2,
       "version_minor": 0
      },
      "text/plain": [
       "  0%|          | 0/210 [00:00<?, ?it/s]"
      ]
     },
     "metadata": {},
     "output_type": "display_data"
    },
    {
     "name": "stdout",
     "output_type": "stream",
     "text": [
      "shape of the embedding: (768,)\n",
      "combined shape of the embedding: (1536,)\n",
      "Reading contents of 2014-12-31:\n"
     ]
    },
    {
     "data": {
      "application/vnd.jupyter.widget-view+json": {
       "model_id": "6725012516264979ab7e463d1d73d6c7",
       "version_major": 2,
       "version_minor": 0
      },
      "text/plain": [
       "  0%|          | 0/204 [00:00<?, ?it/s]"
      ]
     },
     "metadata": {},
     "output_type": "display_data"
    },
    {
     "name": "stdout",
     "output_type": "stream",
     "text": [
      "shape of the embedding: (768,)\n",
      "combined shape of the embedding: (1536,)\n",
      "Reading contents of 2014-06-30:\n"
     ]
    },
    {
     "data": {
      "application/vnd.jupyter.widget-view+json": {
       "model_id": "2dbae4fcd46c49b1b5c2f14fc58a01c1",
       "version_major": 2,
       "version_minor": 0
      },
      "text/plain": [
       "  0%|          | 0/248 [00:00<?, ?it/s]"
      ]
     },
     "metadata": {},
     "output_type": "display_data"
    },
    {
     "name": "stdout",
     "output_type": "stream",
     "text": [
      "shape of the embedding: (768,)\n",
      "combined shape of the embedding: (1536,)\n",
      "Reading contents of 2022-06-30:\n"
     ]
    },
    {
     "data": {
      "application/vnd.jupyter.widget-view+json": {
       "model_id": "521fbcbfe4f348f7bd680270b40a7a6e",
       "version_major": 2,
       "version_minor": 0
      },
      "text/plain": [
       "  0%|          | 0/191 [00:00<?, ?it/s]"
      ]
     },
     "metadata": {},
     "output_type": "display_data"
    },
    {
     "name": "stdout",
     "output_type": "stream",
     "text": [
      "shape of the embedding: (768,)\n",
      "combined shape of the embedding: (1536,)\n",
      "Reading contents of 2021-12-31:\n"
     ]
    },
    {
     "data": {
      "application/vnd.jupyter.widget-view+json": {
       "model_id": "e15af93450624cfd9e35fc0e11732209",
       "version_major": 2,
       "version_minor": 0
      },
      "text/plain": [
       "  0%|          | 0/176 [00:00<?, ?it/s]"
      ]
     },
     "metadata": {},
     "output_type": "display_data"
    },
    {
     "name": "stdout",
     "output_type": "stream",
     "text": [
      "shape of the embedding: (768,)\n",
      "combined shape of the embedding: (1536,)\n",
      "Reading contents of 2023-03-31:\n"
     ]
    },
    {
     "data": {
      "application/vnd.jupyter.widget-view+json": {
       "model_id": "a9ddfac1d0e04fed930f3076b8683b88",
       "version_major": 2,
       "version_minor": 0
      },
      "text/plain": [
       "  0%|          | 0/173 [00:00<?, ?it/s]"
      ]
     },
     "metadata": {},
     "output_type": "display_data"
    },
    {
     "name": "stdout",
     "output_type": "stream",
     "text": [
      "shape of the embedding: (768,)\n",
      "combined shape of the embedding: (1536,)\n",
      "Reading contents of 2019-06-30:\n"
     ]
    },
    {
     "data": {
      "application/vnd.jupyter.widget-view+json": {
       "model_id": "18e430dbcf6040a68744dae6eaf2e6ce",
       "version_major": 2,
       "version_minor": 0
      },
      "text/plain": [
       "  0%|          | 0/204 [00:00<?, ?it/s]"
      ]
     },
     "metadata": {},
     "output_type": "display_data"
    },
    {
     "name": "stdout",
     "output_type": "stream",
     "text": [
      "shape of the embedding: (768,)\n",
      "combined shape of the embedding: (1536,)\n",
      "Reading contents of 2014-09-30:\n"
     ]
    },
    {
     "data": {
      "application/vnd.jupyter.widget-view+json": {
       "model_id": "9a147b1169f5426c8d666d4c443e42ad",
       "version_major": 2,
       "version_minor": 0
      },
      "text/plain": [
       "  0%|          | 0/254 [00:00<?, ?it/s]"
      ]
     },
     "metadata": {},
     "output_type": "display_data"
    },
    {
     "name": "stdout",
     "output_type": "stream",
     "text": [
      "shape of the embedding: (768,)\n",
      "combined shape of the embedding: (1536,)\n",
      "Reading contents of 2013-12-31:\n"
     ]
    },
    {
     "data": {
      "application/vnd.jupyter.widget-view+json": {
       "model_id": "e6b0f94a37de4923bcbf20bd80244f0d",
       "version_major": 2,
       "version_minor": 0
      },
      "text/plain": [
       "  0%|          | 0/202 [00:00<?, ?it/s]"
      ]
     },
     "metadata": {},
     "output_type": "display_data"
    },
    {
     "name": "stdout",
     "output_type": "stream",
     "text": [
      "shape of the embedding: (768,)\n",
      "combined shape of the embedding: (1536,)\n",
      "Reading contents of 2015-03-31:\n"
     ]
    },
    {
     "data": {
      "application/vnd.jupyter.widget-view+json": {
       "model_id": "fc95a6faa05b4a7c847a9d283e035cad",
       "version_major": 2,
       "version_minor": 0
      },
      "text/plain": [
       "  0%|          | 0/228 [00:00<?, ?it/s]"
      ]
     },
     "metadata": {},
     "output_type": "display_data"
    },
    {
     "name": "stdout",
     "output_type": "stream",
     "text": [
      "shape of the embedding: (768,)\n",
      "combined shape of the embedding: (1536,)\n",
      "Reading contents of 2011-06-30:\n"
     ]
    },
    {
     "data": {
      "application/vnd.jupyter.widget-view+json": {
       "model_id": "8675a753aeab42858e4367e7a1acdea5",
       "version_major": 2,
       "version_minor": 0
      },
      "text/plain": [
       "  0%|          | 0/235 [00:00<?, ?it/s]"
      ]
     },
     "metadata": {},
     "output_type": "display_data"
    },
    {
     "name": "stdout",
     "output_type": "stream",
     "text": [
      "shape of the embedding: (768,)\n",
      "combined shape of the embedding: (1536,)\n",
      "Reading contents of 2011-12-31:\n"
     ]
    },
    {
     "data": {
      "application/vnd.jupyter.widget-view+json": {
       "model_id": "1aabd0d3782a44848d1ca0519d410e3d",
       "version_major": 2,
       "version_minor": 0
      },
      "text/plain": [
       "  0%|          | 0/141 [00:00<?, ?it/s]"
      ]
     },
     "metadata": {},
     "output_type": "display_data"
    },
    {
     "name": "stdout",
     "output_type": "stream",
     "text": [
      "shape of the embedding: (768,)\n",
      "combined shape of the embedding: (1536,)\n",
      "Reading contents of 2022-09-30:\n"
     ]
    },
    {
     "data": {
      "application/vnd.jupyter.widget-view+json": {
       "model_id": "ae7693f493464f8cbe55c3c44d5a14f7",
       "version_major": 2,
       "version_minor": 0
      },
      "text/plain": [
       "  0%|          | 0/190 [00:00<?, ?it/s]"
      ]
     },
     "metadata": {},
     "output_type": "display_data"
    },
    {
     "name": "stdout",
     "output_type": "stream",
     "text": [
      "shape of the embedding: (768,)\n",
      "combined shape of the embedding: (1536,)\n",
      "Reading contents of 2012-09-30:\n"
     ]
    },
    {
     "data": {
      "application/vnd.jupyter.widget-view+json": {
       "model_id": "e7eaee9bf0364f23adc8386b6bdfec2c",
       "version_major": 2,
       "version_minor": 0
      },
      "text/plain": [
       "  0%|          | 0/256 [00:00<?, ?it/s]"
      ]
     },
     "metadata": {},
     "output_type": "display_data"
    },
    {
     "name": "stdout",
     "output_type": "stream",
     "text": [
      "shape of the embedding: (768,)\n",
      "combined shape of the embedding: (1536,)\n",
      "Reading contents of 2020-09-30:\n"
     ]
    },
    {
     "data": {
      "application/vnd.jupyter.widget-view+json": {
       "model_id": "4176008e6dd34bce9b47184f6cd36aae",
       "version_major": 2,
       "version_minor": 0
      },
      "text/plain": [
       "  0%|          | 0/218 [00:00<?, ?it/s]"
      ]
     },
     "metadata": {},
     "output_type": "display_data"
    },
    {
     "name": "stdout",
     "output_type": "stream",
     "text": [
      "shape of the embedding: (768,)\n",
      "combined shape of the embedding: (1536,)\n",
      "Reading contents of 2015-12-31:\n"
     ]
    },
    {
     "data": {
      "application/vnd.jupyter.widget-view+json": {
       "model_id": "f99b23ca64de43e798e5e13d5558a25b",
       "version_major": 2,
       "version_minor": 0
      },
      "text/plain": [
       "  0%|          | 0/198 [00:00<?, ?it/s]"
      ]
     },
     "metadata": {},
     "output_type": "display_data"
    },
    {
     "name": "stdout",
     "output_type": "stream",
     "text": [
      "shape of the embedding: (768,)\n",
      "combined shape of the embedding: (1536,)\n",
      "Reading contents of 2016-03-31:\n"
     ]
    },
    {
     "data": {
      "application/vnd.jupyter.widget-view+json": {
       "model_id": "99a1f99e53ba447e9e7b44ff085272bf",
       "version_major": 2,
       "version_minor": 0
      },
      "text/plain": [
       "  0%|          | 0/213 [00:00<?, ?it/s]"
      ]
     },
     "metadata": {},
     "output_type": "display_data"
    },
    {
     "name": "stdout",
     "output_type": "stream",
     "text": [
      "shape of the embedding: (768,)\n",
      "combined shape of the embedding: (1536,)\n",
      "Reading contents of 2020-03-31:\n"
     ]
    },
    {
     "data": {
      "application/vnd.jupyter.widget-view+json": {
       "model_id": "7b4aead88abd4085949f750c40479c5f",
       "version_major": 2,
       "version_minor": 0
      },
      "text/plain": [
       "  0%|          | 0/192 [00:00<?, ?it/s]"
      ]
     },
     "metadata": {},
     "output_type": "display_data"
    },
    {
     "name": "stdout",
     "output_type": "stream",
     "text": [
      "shape of the embedding: (768,)\n",
      "combined shape of the embedding: (1536,)\n",
      "Reading contents of 2023-09-30:\n"
     ]
    },
    {
     "data": {
      "application/vnd.jupyter.widget-view+json": {
       "model_id": "7551b9d67f264f94b830c2fc79ec3288",
       "version_major": 2,
       "version_minor": 0
      },
      "text/plain": [
       "  0%|          | 0/199 [00:00<?, ?it/s]"
      ]
     },
     "metadata": {},
     "output_type": "display_data"
    },
    {
     "name": "stdout",
     "output_type": "stream",
     "text": [
      "shape of the embedding: (768,)\n",
      "combined shape of the embedding: (1536,)\n",
      "Reading contents of 2013-09-30:\n"
     ]
    },
    {
     "data": {
      "application/vnd.jupyter.widget-view+json": {
       "model_id": "41cbaf99ef57460ca528024098e9f2f8",
       "version_major": 2,
       "version_minor": 0
      },
      "text/plain": [
       "  0%|          | 0/256 [00:00<?, ?it/s]"
      ]
     },
     "metadata": {},
     "output_type": "display_data"
    },
    {
     "name": "stdout",
     "output_type": "stream",
     "text": [
      "shape of the embedding: (768,)\n",
      "combined shape of the embedding: (1536,)\n",
      "Reading contents of 2021-06-30:\n"
     ]
    },
    {
     "data": {
      "application/vnd.jupyter.widget-view+json": {
       "model_id": "4680cef972554a379c6ac9da10759807",
       "version_major": 2,
       "version_minor": 0
      },
      "text/plain": [
       "  0%|          | 0/193 [00:00<?, ?it/s]"
      ]
     },
     "metadata": {},
     "output_type": "display_data"
    },
    {
     "name": "stdout",
     "output_type": "stream",
     "text": [
      "shape of the embedding: (768,)\n",
      "combined shape of the embedding: (1536,)\n",
      "Reading contents of 2023-12-31:\n"
     ]
    },
    {
     "data": {
      "application/vnd.jupyter.widget-view+json": {
       "model_id": "b4e25d385653495394a4a60b698d6ab9",
       "version_major": 2,
       "version_minor": 0
      },
      "text/plain": [
       "  0%|          | 0/20 [00:00<?, ?it/s]"
      ]
     },
     "metadata": {},
     "output_type": "display_data"
    },
    {
     "name": "stdout",
     "output_type": "stream",
     "text": [
      "shape of the embedding: (768,)\n",
      "combined shape of the embedding: (1536,)\n",
      "Reading contents of 2024-03-31:\n"
     ]
    },
    {
     "data": {
      "application/vnd.jupyter.widget-view+json": {
       "model_id": "2b4aaa2c42a248fb9958bbae1cd3b4a6",
       "version_major": 2,
       "version_minor": 0
      },
      "text/plain": [
       "  0%|          | 0/178 [00:00<?, ?it/s]"
      ]
     },
     "metadata": {},
     "output_type": "display_data"
    },
    {
     "name": "stdout",
     "output_type": "stream",
     "text": [
      "shape of the embedding: (768,)\n",
      "combined shape of the embedding: (1536,)\n",
      "Reading contents of 2013-06-30:\n"
     ]
    },
    {
     "data": {
      "application/vnd.jupyter.widget-view+json": {
       "model_id": "a7b53043d67e4b73ad43e077ab41d253",
       "version_major": 2,
       "version_minor": 0
      },
      "text/plain": [
       "  0%|          | 0/252 [00:00<?, ?it/s]"
      ]
     },
     "metadata": {},
     "output_type": "display_data"
    },
    {
     "name": "stdout",
     "output_type": "stream",
     "text": [
      "shape of the embedding: (768,)\n",
      "combined shape of the embedding: (1536,)\n",
      "Reading contents of 2012-12-31:\n"
     ]
    },
    {
     "data": {
      "application/vnd.jupyter.widget-view+json": {
       "model_id": "d0a75f721542455c89b3821222dfa183",
       "version_major": 2,
       "version_minor": 0
      },
      "text/plain": [
       "  0%|          | 0/200 [00:00<?, ?it/s]"
      ]
     },
     "metadata": {},
     "output_type": "display_data"
    },
    {
     "name": "stdout",
     "output_type": "stream",
     "text": [
      "shape of the embedding: (768,)\n",
      "combined shape of the embedding: (1536,)\n",
      "Reading contents of 2017-12-31:\n"
     ]
    },
    {
     "data": {
      "application/vnd.jupyter.widget-view+json": {
       "model_id": "cc300701adb54e56a9fcbafa1d0af997",
       "version_major": 2,
       "version_minor": 0
      },
      "text/plain": [
       "  0%|          | 0/191 [00:00<?, ?it/s]"
      ]
     },
     "metadata": {},
     "output_type": "display_data"
    },
    {
     "name": "stdout",
     "output_type": "stream",
     "text": [
      "shape of the embedding: (768,)\n",
      "combined shape of the embedding: (1536,)\n",
      "Reading contents of 2014-03-31:\n"
     ]
    },
    {
     "data": {
      "application/vnd.jupyter.widget-view+json": {
       "model_id": "71bdb418d89f4af98bc8af9a22122625",
       "version_major": 2,
       "version_minor": 0
      },
      "text/plain": [
       "  0%|          | 0/226 [00:00<?, ?it/s]"
      ]
     },
     "metadata": {},
     "output_type": "display_data"
    },
    {
     "name": "stdout",
     "output_type": "stream",
     "text": [
      "shape of the embedding: (768,)\n",
      "combined shape of the embedding: (1536,)\n",
      "Reading contents of 2022-12-31:\n"
     ]
    },
    {
     "data": {
      "application/vnd.jupyter.widget-view+json": {
       "model_id": "c359545ca3ac437a900d91cf6905b91e",
       "version_major": 2,
       "version_minor": 0
      },
      "text/plain": [
       "  0%|          | 0/39 [00:00<?, ?it/s]"
      ]
     },
     "metadata": {},
     "output_type": "display_data"
    },
    {
     "name": "stdout",
     "output_type": "stream",
     "text": [
      "shape of the embedding: (768,)\n",
      "combined shape of the embedding: (1536,)\n",
      "Reading contents of 2018-12-31:\n"
     ]
    },
    {
     "data": {
      "application/vnd.jupyter.widget-view+json": {
       "model_id": "220b5e11e8314767a6958f8068b196ea",
       "version_major": 2,
       "version_minor": 0
      },
      "text/plain": [
       "  0%|          | 0/178 [00:00<?, ?it/s]"
      ]
     },
     "metadata": {},
     "output_type": "display_data"
    },
    {
     "name": "stdout",
     "output_type": "stream",
     "text": [
      "shape of the embedding: (768,)\n",
      "combined shape of the embedding: (1536,)\n",
      "Reading contents of 2022-03-31:\n"
     ]
    },
    {
     "data": {
      "application/vnd.jupyter.widget-view+json": {
       "model_id": "f13a983dc7d3498fbafee7b9024a8a46",
       "version_major": 2,
       "version_minor": 0
      },
      "text/plain": [
       "  0%|          | 0/161 [00:00<?, ?it/s]"
      ]
     },
     "metadata": {},
     "output_type": "display_data"
    },
    {
     "name": "stdout",
     "output_type": "stream",
     "text": [
      "shape of the embedding: (768,)\n",
      "combined shape of the embedding: (1536,)\n",
      "Reading contents of 2021-03-31:\n"
     ]
    },
    {
     "data": {
      "application/vnd.jupyter.widget-view+json": {
       "model_id": "fbbbe1d1e97142229d3e282d063fb9e6",
       "version_major": 2,
       "version_minor": 0
      },
      "text/plain": [
       "  0%|          | 0/170 [00:00<?, ?it/s]"
      ]
     },
     "metadata": {},
     "output_type": "display_data"
    },
    {
     "name": "stdout",
     "output_type": "stream",
     "text": [
      "shape of the embedding: (768,)\n",
      "combined shape of the embedding: (1536,)\n",
      "Reading contents of 2013-03-31:\n"
     ]
    },
    {
     "data": {
      "application/vnd.jupyter.widget-view+json": {
       "model_id": "f466f9a43f7a4b678de9de79b334570c",
       "version_major": 2,
       "version_minor": 0
      },
      "text/plain": [
       "  0%|          | 0/223 [00:00<?, ?it/s]"
      ]
     },
     "metadata": {},
     "output_type": "display_data"
    },
    {
     "name": "stdout",
     "output_type": "stream",
     "text": [
      "shape of the embedding: (768,)\n",
      "combined shape of the embedding: (1536,)\n",
      "Reading contents of 2012-06-30:\n"
     ]
    },
    {
     "data": {
      "application/vnd.jupyter.widget-view+json": {
       "model_id": "5bf9547ce88f4d838317ce9ed4545a69",
       "version_major": 2,
       "version_minor": 0
      },
      "text/plain": [
       "  0%|          | 0/245 [00:00<?, ?it/s]"
      ]
     },
     "metadata": {},
     "output_type": "display_data"
    },
    {
     "name": "stdout",
     "output_type": "stream",
     "text": [
      "shape of the embedding: (768,)\n",
      "combined shape of the embedding: (1536,)\n",
      "Reading contents of 2023-06-30:\n"
     ]
    },
    {
     "data": {
      "application/vnd.jupyter.widget-view+json": {
       "model_id": "1eb3f19a22784babbbb7e14012c39761",
       "version_major": 2,
       "version_minor": 0
      },
      "text/plain": [
       "  0%|          | 0/193 [00:00<?, ?it/s]"
      ]
     },
     "metadata": {},
     "output_type": "display_data"
    },
    {
     "name": "stdout",
     "output_type": "stream",
     "text": [
      "shape of the embedding: (768,)\n",
      "combined shape of the embedding: (1536,)\n",
      "Reading contents of 2018-09-30:\n"
     ]
    },
    {
     "data": {
      "application/vnd.jupyter.widget-view+json": {
       "model_id": "6b7025c140d746708437a0abdd4abd8d",
       "version_major": 2,
       "version_minor": 0
      },
      "text/plain": [
       "  0%|          | 0/214 [00:00<?, ?it/s]"
      ]
     },
     "metadata": {},
     "output_type": "display_data"
    },
    {
     "name": "stdout",
     "output_type": "stream",
     "text": [
      "shape of the embedding: (768,)\n",
      "combined shape of the embedding: (1536,)\n",
      "Reading contents of 2011-09-30:\n"
     ]
    },
    {
     "data": {
      "application/vnd.jupyter.widget-view+json": {
       "model_id": "90289f22a3a14c459565753fef2a0122",
       "version_major": 2,
       "version_minor": 0
      },
      "text/plain": [
       "  0%|          | 0/247 [00:00<?, ?it/s]"
      ]
     },
     "metadata": {},
     "output_type": "display_data"
    },
    {
     "name": "stdout",
     "output_type": "stream",
     "text": [
      "shape of the embedding: (768,)\n",
      "combined shape of the embedding: (1536,)\n",
      "Reading contents of 2018-03-31:\n"
     ]
    },
    {
     "data": {
      "application/vnd.jupyter.widget-view+json": {
       "model_id": "4b086d5244924bc58e665f6a84a9400f",
       "version_major": 2,
       "version_minor": 0
      },
      "text/plain": [
       "  0%|          | 0/200 [00:00<?, ?it/s]"
      ]
     },
     "metadata": {},
     "output_type": "display_data"
    },
    {
     "name": "stdout",
     "output_type": "stream",
     "text": [
      "shape of the embedding: (768,)\n",
      "combined shape of the embedding: (1536,)\n",
      "Reading contents of 2021-09-30:\n"
     ]
    },
    {
     "data": {
      "application/vnd.jupyter.widget-view+json": {
       "model_id": "3004ba28df1749638747aa0b6a6ad36f",
       "version_major": 2,
       "version_minor": 0
      },
      "text/plain": [
       "  0%|          | 0/189 [00:00<?, ?it/s]"
      ]
     },
     "metadata": {},
     "output_type": "display_data"
    },
    {
     "name": "stdout",
     "output_type": "stream",
     "text": [
      "shape of the embedding: (768,)\n",
      "combined shape of the embedding: (1536,)\n",
      "Reading contents of 2017-09-30:\n"
     ]
    },
    {
     "data": {
      "application/vnd.jupyter.widget-view+json": {
       "model_id": "e999b5c5ce3e482b93109eaef93e0c31",
       "version_major": 2,
       "version_minor": 0
      },
      "text/plain": [
       "  0%|          | 0/241 [00:00<?, ?it/s]"
      ]
     },
     "metadata": {},
     "output_type": "display_data"
    },
    {
     "name": "stdout",
     "output_type": "stream",
     "text": [
      "shape of the embedding: (768,)\n",
      "combined shape of the embedding: (1536,)\n",
      "Reading contents of 2019-03-31:\n"
     ]
    },
    {
     "data": {
      "application/vnd.jupyter.widget-view+json": {
       "model_id": "2ce7c1e50e8c4e52b9c3f08b87f53a6f",
       "version_major": 2,
       "version_minor": 0
      },
      "text/plain": [
       "  0%|          | 0/175 [00:00<?, ?it/s]"
      ]
     },
     "metadata": {},
     "output_type": "display_data"
    },
    {
     "name": "stdout",
     "output_type": "stream",
     "text": [
      "shape of the embedding: (768,)\n",
      "combined shape of the embedding: (1536,)\n",
      "Ticker: HCA\n",
      "HCA not exists in the Financial Ticker. Continuing with the next ticker...\n",
      "Ticker: PNC\n",
      "Reading contents of 2012-03-31:\n"
     ]
    },
    {
     "data": {
      "application/vnd.jupyter.widget-view+json": {
       "model_id": "d906ec678c16467585bace8c3c8014b2",
       "version_major": 2,
       "version_minor": 0
      },
      "text/plain": [
       "  0%|          | 0/1 [00:00<?, ?it/s]"
      ]
     },
     "metadata": {},
     "output_type": "display_data"
    },
    {
     "name": "stdout",
     "output_type": "stream",
     "text": [
      "shape of the embedding: (768,)\n",
      "combined shape of the embedding: (1536,)\n",
      "Reading contents of 2017-06-30:\n"
     ]
    },
    {
     "data": {
      "application/vnd.jupyter.widget-view+json": {
       "model_id": "38a22227c3374b28b33ae4d1a9af97af",
       "version_major": 2,
       "version_minor": 0
      },
      "text/plain": [
       "  0%|          | 0/1 [00:00<?, ?it/s]"
      ]
     },
     "metadata": {},
     "output_type": "display_data"
    },
    {
     "name": "stdout",
     "output_type": "stream",
     "text": [
      "shape of the embedding: (768,)\n",
      "combined shape of the embedding: (1536,)\n",
      "Reading contents of 2018-06-30:\n"
     ]
    },
    {
     "data": {
      "application/vnd.jupyter.widget-view+json": {
       "model_id": "ee5b12d9d0b543189f77557d6d0a20af",
       "version_major": 2,
       "version_minor": 0
      },
      "text/plain": [
       "  0%|          | 0/1 [00:00<?, ?it/s]"
      ]
     },
     "metadata": {},
     "output_type": "display_data"
    },
    {
     "name": "stdout",
     "output_type": "stream",
     "text": [
      "shape of the embedding: (768,)\n",
      "combined shape of the embedding: (1536,)\n",
      "Reading contents of 2020-12-31:\n"
     ]
    },
    {
     "data": {
      "application/vnd.jupyter.widget-view+json": {
       "model_id": "5eed7be1c07342a0b650842a886df3b9",
       "version_major": 2,
       "version_minor": 0
      },
      "text/plain": [
       "  0%|          | 0/1 [00:00<?, ?it/s]"
      ]
     },
     "metadata": {},
     "output_type": "display_data"
    },
    {
     "name": "stdout",
     "output_type": "stream",
     "text": [
      "shape of the embedding: (768,)\n",
      "combined shape of the embedding: (1536,)\n",
      "Reading contents of 2015-09-30:\n"
     ]
    },
    {
     "data": {
      "application/vnd.jupyter.widget-view+json": {
       "model_id": "886575d850b5400aa5f108d6231caa2c",
       "version_major": 2,
       "version_minor": 0
      },
      "text/plain": [
       "  0%|          | 0/1 [00:00<?, ?it/s]"
      ]
     },
     "metadata": {},
     "output_type": "display_data"
    },
    {
     "name": "stdout",
     "output_type": "stream",
     "text": [
      "shape of the embedding: (768,)\n",
      "combined shape of the embedding: (1536,)\n",
      "Reading contents of 2016-06-30:\n"
     ]
    },
    {
     "data": {
      "application/vnd.jupyter.widget-view+json": {
       "model_id": "46581eac90544d8c96b1f6271511d0d7",
       "version_major": 2,
       "version_minor": 0
      },
      "text/plain": [
       "  0%|          | 0/1 [00:00<?, ?it/s]"
      ]
     },
     "metadata": {},
     "output_type": "display_data"
    },
    {
     "name": "stdout",
     "output_type": "stream",
     "text": [
      "shape of the embedding: (768,)\n",
      "combined shape of the embedding: (1536,)\n",
      "Reading contents of 2016-09-30:\n"
     ]
    },
    {
     "data": {
      "application/vnd.jupyter.widget-view+json": {
       "model_id": "67bd1161a7d443c8afa317d150f38d8a",
       "version_major": 2,
       "version_minor": 0
      },
      "text/plain": [
       "  0%|          | 0/1 [00:00<?, ?it/s]"
      ]
     },
     "metadata": {},
     "output_type": "display_data"
    },
    {
     "name": "stdout",
     "output_type": "stream",
     "text": [
      "shape of the embedding: (768,)\n",
      "combined shape of the embedding: (1536,)\n",
      "Reading contents of 2019-09-30:\n"
     ]
    },
    {
     "data": {
      "application/vnd.jupyter.widget-view+json": {
       "model_id": "b5dee6b213b7494289f814981969448e",
       "version_major": 2,
       "version_minor": 0
      },
      "text/plain": [
       "  0%|          | 0/1 [00:00<?, ?it/s]"
      ]
     },
     "metadata": {},
     "output_type": "display_data"
    },
    {
     "name": "stdout",
     "output_type": "stream",
     "text": [
      "shape of the embedding: (768,)\n",
      "combined shape of the embedding: (1536,)\n",
      "Reading contents of 2019-12-31:\n"
     ]
    },
    {
     "data": {
      "application/vnd.jupyter.widget-view+json": {
       "model_id": "efabfe71c27744dbb7121283ca2b4cd0",
       "version_major": 2,
       "version_minor": 0
      },
      "text/plain": [
       "  0%|          | 0/1 [00:00<?, ?it/s]"
      ]
     },
     "metadata": {},
     "output_type": "display_data"
    },
    {
     "name": "stdout",
     "output_type": "stream",
     "text": [
      "shape of the embedding: (768,)\n",
      "combined shape of the embedding: (1536,)\n",
      "Reading contents of 2015-06-30:\n"
     ]
    },
    {
     "data": {
      "application/vnd.jupyter.widget-view+json": {
       "model_id": "c0225f205a1348b89dd8d78a9ff7c749",
       "version_major": 2,
       "version_minor": 0
      },
      "text/plain": [
       "  0%|          | 0/1 [00:00<?, ?it/s]"
      ]
     },
     "metadata": {},
     "output_type": "display_data"
    },
    {
     "name": "stdout",
     "output_type": "stream",
     "text": [
      "shape of the embedding: (768,)\n",
      "combined shape of the embedding: (1536,)\n",
      "Reading contents of 2020-06-30:\n"
     ]
    },
    {
     "data": {
      "application/vnd.jupyter.widget-view+json": {
       "model_id": "e7a234decddf42d987af04e3e40ca1eb",
       "version_major": 2,
       "version_minor": 0
      },
      "text/plain": [
       "  0%|          | 0/1 [00:00<?, ?it/s]"
      ]
     },
     "metadata": {},
     "output_type": "display_data"
    },
    {
     "name": "stdout",
     "output_type": "stream",
     "text": [
      "shape of the embedding: (768,)\n",
      "combined shape of the embedding: (1536,)\n",
      "Reading contents of 2016-12-31:\n"
     ]
    },
    {
     "data": {
      "application/vnd.jupyter.widget-view+json": {
       "model_id": "81b5bb0b3dd14cd19d37efaffb7027f3",
       "version_major": 2,
       "version_minor": 0
      },
      "text/plain": [
       "  0%|          | 0/1 [00:00<?, ?it/s]"
      ]
     },
     "metadata": {},
     "output_type": "display_data"
    },
    {
     "name": "stdout",
     "output_type": "stream",
     "text": [
      "shape of the embedding: (768,)\n",
      "combined shape of the embedding: (1536,)\n",
      "Reading contents of 2017-03-31:\n"
     ]
    },
    {
     "data": {
      "application/vnd.jupyter.widget-view+json": {
       "model_id": "dba1b74597a94bd891709c861c8b3429",
       "version_major": 2,
       "version_minor": 0
      },
      "text/plain": [
       "  0%|          | 0/1 [00:00<?, ?it/s]"
      ]
     },
     "metadata": {},
     "output_type": "display_data"
    },
    {
     "name": "stdout",
     "output_type": "stream",
     "text": [
      "shape of the embedding: (768,)\n",
      "combined shape of the embedding: (1536,)\n",
      "Reading contents of 2014-12-31:\n"
     ]
    },
    {
     "data": {
      "application/vnd.jupyter.widget-view+json": {
       "model_id": "8e7b885335a54d97a33874189c871763",
       "version_major": 2,
       "version_minor": 0
      },
      "text/plain": [
       "  0%|          | 0/1 [00:00<?, ?it/s]"
      ]
     },
     "metadata": {},
     "output_type": "display_data"
    },
    {
     "name": "stdout",
     "output_type": "stream",
     "text": [
      "shape of the embedding: (768,)\n",
      "combined shape of the embedding: (1536,)\n",
      "Reading contents of 2014-06-30:\n"
     ]
    },
    {
     "data": {
      "application/vnd.jupyter.widget-view+json": {
       "model_id": "81be09849c40476b89ec4c2442e21367",
       "version_major": 2,
       "version_minor": 0
      },
      "text/plain": [
       "  0%|          | 0/1 [00:00<?, ?it/s]"
      ]
     },
     "metadata": {},
     "output_type": "display_data"
    },
    {
     "name": "stdout",
     "output_type": "stream",
     "text": [
      "shape of the embedding: (768,)\n",
      "combined shape of the embedding: (1536,)\n",
      "Reading contents of 2022-06-30:\n"
     ]
    },
    {
     "data": {
      "application/vnd.jupyter.widget-view+json": {
       "model_id": "94cb2d1b4a72451a948def52bfaa59ad",
       "version_major": 2,
       "version_minor": 0
      },
      "text/plain": [
       "  0%|          | 0/1 [00:00<?, ?it/s]"
      ]
     },
     "metadata": {},
     "output_type": "display_data"
    },
    {
     "name": "stdout",
     "output_type": "stream",
     "text": [
      "shape of the embedding: (768,)\n",
      "combined shape of the embedding: (1536,)\n",
      "Reading contents of 2021-12-31:\n"
     ]
    },
    {
     "data": {
      "application/vnd.jupyter.widget-view+json": {
       "model_id": "06d01203c86d4a0bb092506297f282e6",
       "version_major": 2,
       "version_minor": 0
      },
      "text/plain": [
       "  0%|          | 0/1 [00:00<?, ?it/s]"
      ]
     },
     "metadata": {},
     "output_type": "display_data"
    },
    {
     "name": "stdout",
     "output_type": "stream",
     "text": [
      "shape of the embedding: (768,)\n",
      "combined shape of the embedding: (1536,)\n",
      "Reading contents of 2023-03-31:\n"
     ]
    },
    {
     "data": {
      "application/vnd.jupyter.widget-view+json": {
       "model_id": "8d6c38a9bb1748ceb3de7517249389a1",
       "version_major": 2,
       "version_minor": 0
      },
      "text/plain": [
       "  0%|          | 0/1 [00:00<?, ?it/s]"
      ]
     },
     "metadata": {},
     "output_type": "display_data"
    },
    {
     "name": "stdout",
     "output_type": "stream",
     "text": [
      "shape of the embedding: (768,)\n",
      "combined shape of the embedding: (1536,)\n",
      "Reading contents of 2019-06-30:\n"
     ]
    },
    {
     "data": {
      "application/vnd.jupyter.widget-view+json": {
       "model_id": "62d33ed343764bf5acbc4ff7755a34c9",
       "version_major": 2,
       "version_minor": 0
      },
      "text/plain": [
       "  0%|          | 0/1 [00:00<?, ?it/s]"
      ]
     },
     "metadata": {},
     "output_type": "display_data"
    },
    {
     "name": "stdout",
     "output_type": "stream",
     "text": [
      "shape of the embedding: (768,)\n",
      "combined shape of the embedding: (1536,)\n",
      "Reading contents of 2014-09-30:\n"
     ]
    },
    {
     "data": {
      "application/vnd.jupyter.widget-view+json": {
       "model_id": "c6c6551738ea459f9529b109fe64ed6c",
       "version_major": 2,
       "version_minor": 0
      },
      "text/plain": [
       "  0%|          | 0/1 [00:00<?, ?it/s]"
      ]
     },
     "metadata": {},
     "output_type": "display_data"
    },
    {
     "name": "stdout",
     "output_type": "stream",
     "text": [
      "shape of the embedding: (768,)\n",
      "combined shape of the embedding: (1536,)\n",
      "Reading contents of 2013-12-31:\n"
     ]
    },
    {
     "data": {
      "application/vnd.jupyter.widget-view+json": {
       "model_id": "2627a688b9644aa79e7c0cce26a7daf7",
       "version_major": 2,
       "version_minor": 0
      },
      "text/plain": [
       "  0%|          | 0/1 [00:00<?, ?it/s]"
      ]
     },
     "metadata": {},
     "output_type": "display_data"
    },
    {
     "name": "stdout",
     "output_type": "stream",
     "text": [
      "shape of the embedding: (768,)\n",
      "combined shape of the embedding: (1536,)\n",
      "Reading contents of 2015-03-31:\n"
     ]
    },
    {
     "data": {
      "application/vnd.jupyter.widget-view+json": {
       "model_id": "4339df23783a441ea631a00447f50db1",
       "version_major": 2,
       "version_minor": 0
      },
      "text/plain": [
       "  0%|          | 0/1 [00:00<?, ?it/s]"
      ]
     },
     "metadata": {},
     "output_type": "display_data"
    },
    {
     "name": "stdout",
     "output_type": "stream",
     "text": [
      "shape of the embedding: (768,)\n",
      "combined shape of the embedding: (1536,)\n",
      "Reading contents of 2011-06-30:\n"
     ]
    },
    {
     "data": {
      "application/vnd.jupyter.widget-view+json": {
       "model_id": "e2fc76ae1fd04cfcaf5f7bafd545d673",
       "version_major": 2,
       "version_minor": 0
      },
      "text/plain": [
       "  0%|          | 0/1 [00:00<?, ?it/s]"
      ]
     },
     "metadata": {},
     "output_type": "display_data"
    },
    {
     "name": "stdout",
     "output_type": "stream",
     "text": [
      "shape of the embedding: (768,)\n",
      "combined shape of the embedding: (1536,)\n",
      "Reading contents of 2011-12-31:\n"
     ]
    },
    {
     "data": {
      "application/vnd.jupyter.widget-view+json": {
       "model_id": "cd9bfc4716584bce9413cf5b8daedfc4",
       "version_major": 2,
       "version_minor": 0
      },
      "text/plain": [
       "  0%|          | 0/1 [00:00<?, ?it/s]"
      ]
     },
     "metadata": {},
     "output_type": "display_data"
    },
    {
     "name": "stdout",
     "output_type": "stream",
     "text": [
      "shape of the embedding: (768,)\n",
      "combined shape of the embedding: (1536,)\n",
      "Reading contents of 2022-09-30:\n"
     ]
    },
    {
     "data": {
      "application/vnd.jupyter.widget-view+json": {
       "model_id": "60a30ee8c9d943ccbe17537271bae541",
       "version_major": 2,
       "version_minor": 0
      },
      "text/plain": [
       "  0%|          | 0/1 [00:00<?, ?it/s]"
      ]
     },
     "metadata": {},
     "output_type": "display_data"
    },
    {
     "name": "stdout",
     "output_type": "stream",
     "text": [
      "shape of the embedding: (768,)\n",
      "combined shape of the embedding: (1536,)\n",
      "Reading contents of 2012-09-30:\n"
     ]
    },
    {
     "data": {
      "application/vnd.jupyter.widget-view+json": {
       "model_id": "22bcefdb2b054332a9e6ba833d3b0c9b",
       "version_major": 2,
       "version_minor": 0
      },
      "text/plain": [
       "  0%|          | 0/1 [00:00<?, ?it/s]"
      ]
     },
     "metadata": {},
     "output_type": "display_data"
    },
    {
     "name": "stdout",
     "output_type": "stream",
     "text": [
      "shape of the embedding: (768,)\n",
      "combined shape of the embedding: (1536,)\n",
      "Reading contents of 2020-09-30:\n"
     ]
    },
    {
     "data": {
      "application/vnd.jupyter.widget-view+json": {
       "model_id": "0b0b23b1baab42049272c0ef1fc56fbf",
       "version_major": 2,
       "version_minor": 0
      },
      "text/plain": [
       "  0%|          | 0/1 [00:00<?, ?it/s]"
      ]
     },
     "metadata": {},
     "output_type": "display_data"
    },
    {
     "name": "stdout",
     "output_type": "stream",
     "text": [
      "shape of the embedding: (768,)\n",
      "combined shape of the embedding: (1536,)\n",
      "Reading contents of 2015-12-31:\n"
     ]
    },
    {
     "data": {
      "application/vnd.jupyter.widget-view+json": {
       "model_id": "f0039e5b4c5e48ed86a8d5764127f5fe",
       "version_major": 2,
       "version_minor": 0
      },
      "text/plain": [
       "  0%|          | 0/1 [00:00<?, ?it/s]"
      ]
     },
     "metadata": {},
     "output_type": "display_data"
    },
    {
     "name": "stdout",
     "output_type": "stream",
     "text": [
      "shape of the embedding: (768,)\n",
      "combined shape of the embedding: (1536,)\n",
      "Reading contents of 2016-03-31:\n"
     ]
    },
    {
     "data": {
      "application/vnd.jupyter.widget-view+json": {
       "model_id": "ad64ba1a09924d8086150d3a824ea225",
       "version_major": 2,
       "version_minor": 0
      },
      "text/plain": [
       "  0%|          | 0/1 [00:00<?, ?it/s]"
      ]
     },
     "metadata": {},
     "output_type": "display_data"
    },
    {
     "name": "stdout",
     "output_type": "stream",
     "text": [
      "shape of the embedding: (768,)\n",
      "combined shape of the embedding: (1536,)\n",
      "Reading contents of 2020-03-31:\n"
     ]
    },
    {
     "data": {
      "application/vnd.jupyter.widget-view+json": {
       "model_id": "1328ee6bbe144b599bd43fb0e4b83bdc",
       "version_major": 2,
       "version_minor": 0
      },
      "text/plain": [
       "  0%|          | 0/1 [00:00<?, ?it/s]"
      ]
     },
     "metadata": {},
     "output_type": "display_data"
    },
    {
     "name": "stdout",
     "output_type": "stream",
     "text": [
      "shape of the embedding: (768,)\n",
      "combined shape of the embedding: (1536,)\n",
      "Reading contents of 2023-09-30:\n"
     ]
    },
    {
     "data": {
      "application/vnd.jupyter.widget-view+json": {
       "model_id": "b72919b301484ab6822426eecccea274",
       "version_major": 2,
       "version_minor": 0
      },
      "text/plain": [
       "  0%|          | 0/1 [00:00<?, ?it/s]"
      ]
     },
     "metadata": {},
     "output_type": "display_data"
    },
    {
     "name": "stdout",
     "output_type": "stream",
     "text": [
      "shape of the embedding: (768,)\n",
      "combined shape of the embedding: (1536,)\n",
      "Reading contents of 2013-09-30:\n"
     ]
    },
    {
     "data": {
      "application/vnd.jupyter.widget-view+json": {
       "model_id": "56e6a2f60aec4ab6846317ed52cb3162",
       "version_major": 2,
       "version_minor": 0
      },
      "text/plain": [
       "  0%|          | 0/1 [00:00<?, ?it/s]"
      ]
     },
     "metadata": {},
     "output_type": "display_data"
    },
    {
     "name": "stdout",
     "output_type": "stream",
     "text": [
      "shape of the embedding: (768,)\n",
      "combined shape of the embedding: (1536,)\n",
      "Reading contents of 2021-06-30:\n"
     ]
    },
    {
     "data": {
      "application/vnd.jupyter.widget-view+json": {
       "model_id": "4c641e39e0694ad495eef08691d79a98",
       "version_major": 2,
       "version_minor": 0
      },
      "text/plain": [
       "  0%|          | 0/1 [00:00<?, ?it/s]"
      ]
     },
     "metadata": {},
     "output_type": "display_data"
    },
    {
     "name": "stdout",
     "output_type": "stream",
     "text": [
      "shape of the embedding: (768,)\n",
      "combined shape of the embedding: (1536,)\n",
      "Reading contents of 2023-12-31:\n"
     ]
    },
    {
     "data": {
      "application/vnd.jupyter.widget-view+json": {
       "model_id": "9059973fc2f94854bdca0b4ab4b18c19",
       "version_major": 2,
       "version_minor": 0
      },
      "text/plain": [
       "  0%|          | 0/1 [00:00<?, ?it/s]"
      ]
     },
     "metadata": {},
     "output_type": "display_data"
    },
    {
     "name": "stdout",
     "output_type": "stream",
     "text": [
      "shape of the embedding: (768,)\n",
      "combined shape of the embedding: (1536,)\n",
      "Reading contents of 2024-03-31:\n"
     ]
    },
    {
     "data": {
      "application/vnd.jupyter.widget-view+json": {
       "model_id": "c6ad527ba142425199ec064f67c0dfc9",
       "version_major": 2,
       "version_minor": 0
      },
      "text/plain": [
       "  0%|          | 0/1 [00:00<?, ?it/s]"
      ]
     },
     "metadata": {},
     "output_type": "display_data"
    },
    {
     "name": "stdout",
     "output_type": "stream",
     "text": [
      "shape of the embedding: (768,)\n",
      "combined shape of the embedding: (1536,)\n",
      "Reading contents of 2013-06-30:\n"
     ]
    },
    {
     "data": {
      "application/vnd.jupyter.widget-view+json": {
       "model_id": "66d2afc91930439d8bb98dfd7835eb3b",
       "version_major": 2,
       "version_minor": 0
      },
      "text/plain": [
       "  0%|          | 0/1 [00:00<?, ?it/s]"
      ]
     },
     "metadata": {},
     "output_type": "display_data"
    },
    {
     "name": "stdout",
     "output_type": "stream",
     "text": [
      "shape of the embedding: (768,)\n",
      "combined shape of the embedding: (1536,)\n",
      "Reading contents of 2012-12-31:\n"
     ]
    },
    {
     "data": {
      "application/vnd.jupyter.widget-view+json": {
       "model_id": "5295fd664161483bb97e5ec27ba2323d",
       "version_major": 2,
       "version_minor": 0
      },
      "text/plain": [
       "  0%|          | 0/1 [00:00<?, ?it/s]"
      ]
     },
     "metadata": {},
     "output_type": "display_data"
    },
    {
     "name": "stdout",
     "output_type": "stream",
     "text": [
      "shape of the embedding: (768,)\n",
      "combined shape of the embedding: (1536,)\n",
      "Reading contents of 2017-12-31:\n"
     ]
    },
    {
     "data": {
      "application/vnd.jupyter.widget-view+json": {
       "model_id": "8c7f6617f0c64bc8b21a999c7cac34d7",
       "version_major": 2,
       "version_minor": 0
      },
      "text/plain": [
       "  0%|          | 0/1 [00:00<?, ?it/s]"
      ]
     },
     "metadata": {},
     "output_type": "display_data"
    },
    {
     "name": "stdout",
     "output_type": "stream",
     "text": [
      "shape of the embedding: (768,)\n",
      "combined shape of the embedding: (1536,)\n",
      "Reading contents of 2014-03-31:\n"
     ]
    },
    {
     "data": {
      "application/vnd.jupyter.widget-view+json": {
       "model_id": "2dee36c6e03d41d783c69d4c87891fad",
       "version_major": 2,
       "version_minor": 0
      },
      "text/plain": [
       "  0%|          | 0/1 [00:00<?, ?it/s]"
      ]
     },
     "metadata": {},
     "output_type": "display_data"
    },
    {
     "name": "stdout",
     "output_type": "stream",
     "text": [
      "shape of the embedding: (768,)\n",
      "combined shape of the embedding: (1536,)\n",
      "Reading contents of 2022-12-31:\n"
     ]
    },
    {
     "data": {
      "application/vnd.jupyter.widget-view+json": {
       "model_id": "6d41fac32bf0487c8e17b6ae43710d40",
       "version_major": 2,
       "version_minor": 0
      },
      "text/plain": [
       "  0%|          | 0/1 [00:00<?, ?it/s]"
      ]
     },
     "metadata": {},
     "output_type": "display_data"
    },
    {
     "name": "stdout",
     "output_type": "stream",
     "text": [
      "shape of the embedding: (768,)\n",
      "combined shape of the embedding: (1536,)\n",
      "Reading contents of 2018-12-31:\n"
     ]
    },
    {
     "data": {
      "application/vnd.jupyter.widget-view+json": {
       "model_id": "f8e35206a89d453aa3fbb9177a5f2a74",
       "version_major": 2,
       "version_minor": 0
      },
      "text/plain": [
       "  0%|          | 0/1 [00:00<?, ?it/s]"
      ]
     },
     "metadata": {},
     "output_type": "display_data"
    },
    {
     "name": "stdout",
     "output_type": "stream",
     "text": [
      "shape of the embedding: (768,)\n",
      "combined shape of the embedding: (1536,)\n",
      "Reading contents of 2022-03-31:\n"
     ]
    },
    {
     "data": {
      "application/vnd.jupyter.widget-view+json": {
       "model_id": "ff7ce0470f984e1593677d98628493bc",
       "version_major": 2,
       "version_minor": 0
      },
      "text/plain": [
       "  0%|          | 0/1 [00:00<?, ?it/s]"
      ]
     },
     "metadata": {},
     "output_type": "display_data"
    },
    {
     "name": "stdout",
     "output_type": "stream",
     "text": [
      "shape of the embedding: (768,)\n",
      "combined shape of the embedding: (1536,)\n",
      "Reading contents of 2021-03-31:\n"
     ]
    },
    {
     "data": {
      "application/vnd.jupyter.widget-view+json": {
       "model_id": "fdc25a7559e34fafb8873bdab72a0d1d",
       "version_major": 2,
       "version_minor": 0
      },
      "text/plain": [
       "  0%|          | 0/1 [00:00<?, ?it/s]"
      ]
     },
     "metadata": {},
     "output_type": "display_data"
    },
    {
     "name": "stdout",
     "output_type": "stream",
     "text": [
      "shape of the embedding: (768,)\n",
      "combined shape of the embedding: (1536,)\n",
      "Reading contents of 2013-03-31:\n"
     ]
    },
    {
     "data": {
      "application/vnd.jupyter.widget-view+json": {
       "model_id": "e9beaa1c311d445c912ee5d66349e360",
       "version_major": 2,
       "version_minor": 0
      },
      "text/plain": [
       "  0%|          | 0/1 [00:00<?, ?it/s]"
      ]
     },
     "metadata": {},
     "output_type": "display_data"
    },
    {
     "name": "stdout",
     "output_type": "stream",
     "text": [
      "shape of the embedding: (768,)\n",
      "combined shape of the embedding: (1536,)\n",
      "Reading contents of 2012-06-30:\n"
     ]
    },
    {
     "data": {
      "application/vnd.jupyter.widget-view+json": {
       "model_id": "8e967b2d76b64c35a000a9b69c26de90",
       "version_major": 2,
       "version_minor": 0
      },
      "text/plain": [
       "  0%|          | 0/1 [00:00<?, ?it/s]"
      ]
     },
     "metadata": {},
     "output_type": "display_data"
    },
    {
     "name": "stdout",
     "output_type": "stream",
     "text": [
      "shape of the embedding: (768,)\n",
      "combined shape of the embedding: (1536,)\n",
      "Reading contents of 2023-06-30:\n"
     ]
    },
    {
     "data": {
      "application/vnd.jupyter.widget-view+json": {
       "model_id": "d428b46c09a44c559433e21cad23ab7a",
       "version_major": 2,
       "version_minor": 0
      },
      "text/plain": [
       "  0%|          | 0/1 [00:00<?, ?it/s]"
      ]
     },
     "metadata": {},
     "output_type": "display_data"
    },
    {
     "name": "stdout",
     "output_type": "stream",
     "text": [
      "shape of the embedding: (768,)\n",
      "combined shape of the embedding: (1536,)\n",
      "Reading contents of 2018-09-30:\n"
     ]
    },
    {
     "data": {
      "application/vnd.jupyter.widget-view+json": {
       "model_id": "423ddc7c419e4d93a4dbe64f48681601",
       "version_major": 2,
       "version_minor": 0
      },
      "text/plain": [
       "  0%|          | 0/1 [00:00<?, ?it/s]"
      ]
     },
     "metadata": {},
     "output_type": "display_data"
    },
    {
     "name": "stdout",
     "output_type": "stream",
     "text": [
      "shape of the embedding: (768,)\n",
      "combined shape of the embedding: (1536,)\n",
      "Reading contents of 2011-09-30:\n"
     ]
    },
    {
     "data": {
      "application/vnd.jupyter.widget-view+json": {
       "model_id": "6f73f3b2faa3434495ff018294eafd2e",
       "version_major": 2,
       "version_minor": 0
      },
      "text/plain": [
       "  0%|          | 0/1 [00:00<?, ?it/s]"
      ]
     },
     "metadata": {},
     "output_type": "display_data"
    },
    {
     "name": "stdout",
     "output_type": "stream",
     "text": [
      "shape of the embedding: (768,)\n",
      "combined shape of the embedding: (1536,)\n",
      "Reading contents of 2018-03-31:\n"
     ]
    },
    {
     "data": {
      "application/vnd.jupyter.widget-view+json": {
       "model_id": "0b9a4ca740204a2cbf66f6a5c81e6c53",
       "version_major": 2,
       "version_minor": 0
      },
      "text/plain": [
       "  0%|          | 0/1 [00:00<?, ?it/s]"
      ]
     },
     "metadata": {},
     "output_type": "display_data"
    },
    {
     "name": "stdout",
     "output_type": "stream",
     "text": [
      "shape of the embedding: (768,)\n",
      "combined shape of the embedding: (1536,)\n",
      "Reading contents of 2021-09-30:\n"
     ]
    },
    {
     "data": {
      "application/vnd.jupyter.widget-view+json": {
       "model_id": "c22a4b7bcfc64e49a0a7dd7a1a03066a",
       "version_major": 2,
       "version_minor": 0
      },
      "text/plain": [
       "  0%|          | 0/1 [00:00<?, ?it/s]"
      ]
     },
     "metadata": {},
     "output_type": "display_data"
    },
    {
     "name": "stdout",
     "output_type": "stream",
     "text": [
      "shape of the embedding: (768,)\n",
      "combined shape of the embedding: (1536,)\n",
      "Reading contents of 2017-09-30:\n"
     ]
    },
    {
     "data": {
      "application/vnd.jupyter.widget-view+json": {
       "model_id": "f621eb1815c4447d94e6a3f6e530a734",
       "version_major": 2,
       "version_minor": 0
      },
      "text/plain": [
       "  0%|          | 0/1 [00:00<?, ?it/s]"
      ]
     },
     "metadata": {},
     "output_type": "display_data"
    },
    {
     "name": "stdout",
     "output_type": "stream",
     "text": [
      "shape of the embedding: (768,)\n",
      "combined shape of the embedding: (1536,)\n",
      "Reading contents of 2019-03-31:\n"
     ]
    },
    {
     "data": {
      "application/vnd.jupyter.widget-view+json": {
       "model_id": "95543c6704304facb8692a97b60f6b3b",
       "version_major": 2,
       "version_minor": 0
      },
      "text/plain": [
       "  0%|          | 0/1 [00:00<?, ?it/s]"
      ]
     },
     "metadata": {},
     "output_type": "display_data"
    },
    {
     "name": "stdout",
     "output_type": "stream",
     "text": [
      "shape of the embedding: (768,)\n",
      "combined shape of the embedding: (1536,)\n",
      "Ticker: MOS\n",
      "MOS not exists in the Financial Ticker. Continuing with the next ticker...\n",
      "Ticker: VLO\n",
      "VLO not exists in the Financial Ticker. Continuing with the next ticker...\n",
      "Ticker: URI\n",
      "URI not exists in the Financial Ticker. Continuing with the next ticker...\n",
      "Ticker: ORCL\n",
      "ORCL not exists in the Financial Ticker. Continuing with the next ticker...\n",
      "Ticker: PXD\n",
      "PXD not exists in the Financial Ticker. Continuing with the next ticker...\n",
      "Ticker: BK\n",
      "Reading contents of 2012-03-31:\n"
     ]
    },
    {
     "data": {
      "application/vnd.jupyter.widget-view+json": {
       "model_id": "7951d4429abb43ac8521b00b611c1c78",
       "version_major": 2,
       "version_minor": 0
      },
      "text/plain": [
       "  0%|          | 0/1 [00:00<?, ?it/s]"
      ]
     },
     "metadata": {},
     "output_type": "display_data"
    },
    {
     "name": "stdout",
     "output_type": "stream",
     "text": [
      "shape of the embedding: (768,)\n",
      "combined shape of the embedding: (1536,)\n",
      "Reading contents of 2017-06-30:\n"
     ]
    },
    {
     "data": {
      "application/vnd.jupyter.widget-view+json": {
       "model_id": "08cd7f742be843aea12d624902d7d9c8",
       "version_major": 2,
       "version_minor": 0
      },
      "text/plain": [
       "  0%|          | 0/1 [00:00<?, ?it/s]"
      ]
     },
     "metadata": {},
     "output_type": "display_data"
    },
    {
     "name": "stdout",
     "output_type": "stream",
     "text": [
      "shape of the embedding: (768,)\n",
      "combined shape of the embedding: (1536,)\n",
      "Reading contents of 2018-06-30:\n"
     ]
    },
    {
     "data": {
      "application/vnd.jupyter.widget-view+json": {
       "model_id": "ab11f430d57746209657cabd5af451df",
       "version_major": 2,
       "version_minor": 0
      },
      "text/plain": [
       "  0%|          | 0/1 [00:00<?, ?it/s]"
      ]
     },
     "metadata": {},
     "output_type": "display_data"
    },
    {
     "name": "stdout",
     "output_type": "stream",
     "text": [
      "shape of the embedding: (768,)\n",
      "combined shape of the embedding: (1536,)\n",
      "Reading contents of 2020-12-31:\n"
     ]
    },
    {
     "data": {
      "application/vnd.jupyter.widget-view+json": {
       "model_id": "19c0f6c9eb0640499ddfd929b0863d91",
       "version_major": 2,
       "version_minor": 0
      },
      "text/plain": [
       "  0%|          | 0/1 [00:00<?, ?it/s]"
      ]
     },
     "metadata": {},
     "output_type": "display_data"
    },
    {
     "name": "stdout",
     "output_type": "stream",
     "text": [
      "shape of the embedding: (768,)\n",
      "combined shape of the embedding: (1536,)\n",
      "Reading contents of 2015-09-30:\n"
     ]
    },
    {
     "data": {
      "application/vnd.jupyter.widget-view+json": {
       "model_id": "94760b27429e4136bd19b9b3da0eb897",
       "version_major": 2,
       "version_minor": 0
      },
      "text/plain": [
       "  0%|          | 0/1 [00:00<?, ?it/s]"
      ]
     },
     "metadata": {},
     "output_type": "display_data"
    },
    {
     "name": "stdout",
     "output_type": "stream",
     "text": [
      "shape of the embedding: (768,)\n",
      "combined shape of the embedding: (1536,)\n",
      "Reading contents of 2016-06-30:\n"
     ]
    },
    {
     "data": {
      "application/vnd.jupyter.widget-view+json": {
       "model_id": "3a71f2848db84b1faa7cbeb88a321d93",
       "version_major": 2,
       "version_minor": 0
      },
      "text/plain": [
       "  0%|          | 0/1 [00:00<?, ?it/s]"
      ]
     },
     "metadata": {},
     "output_type": "display_data"
    },
    {
     "name": "stdout",
     "output_type": "stream",
     "text": [
      "shape of the embedding: (768,)\n",
      "combined shape of the embedding: (1536,)\n",
      "Reading contents of 2016-09-30:\n"
     ]
    },
    {
     "data": {
      "application/vnd.jupyter.widget-view+json": {
       "model_id": "e64763da041a463aabd5777259328379",
       "version_major": 2,
       "version_minor": 0
      },
      "text/plain": [
       "  0%|          | 0/1 [00:00<?, ?it/s]"
      ]
     },
     "metadata": {},
     "output_type": "display_data"
    },
    {
     "name": "stdout",
     "output_type": "stream",
     "text": [
      "shape of the embedding: (768,)\n",
      "combined shape of the embedding: (1536,)\n",
      "Reading contents of 2019-09-30:\n"
     ]
    },
    {
     "data": {
      "application/vnd.jupyter.widget-view+json": {
       "model_id": "ea2cc5232ccd4911af36dd5acddd41e9",
       "version_major": 2,
       "version_minor": 0
      },
      "text/plain": [
       "  0%|          | 0/1 [00:00<?, ?it/s]"
      ]
     },
     "metadata": {},
     "output_type": "display_data"
    },
    {
     "name": "stdout",
     "output_type": "stream",
     "text": [
      "shape of the embedding: (768,)\n",
      "combined shape of the embedding: (1536,)\n",
      "Reading contents of 2019-12-31:\n"
     ]
    },
    {
     "data": {
      "application/vnd.jupyter.widget-view+json": {
       "model_id": "cd0cf8269d914a54b384da4337335da5",
       "version_major": 2,
       "version_minor": 0
      },
      "text/plain": [
       "  0%|          | 0/1 [00:00<?, ?it/s]"
      ]
     },
     "metadata": {},
     "output_type": "display_data"
    },
    {
     "name": "stdout",
     "output_type": "stream",
     "text": [
      "shape of the embedding: (768,)\n",
      "combined shape of the embedding: (1536,)\n",
      "Reading contents of 2015-06-30:\n"
     ]
    },
    {
     "data": {
      "application/vnd.jupyter.widget-view+json": {
       "model_id": "720c4a20730c494a9ede48b46de2effb",
       "version_major": 2,
       "version_minor": 0
      },
      "text/plain": [
       "  0%|          | 0/1 [00:00<?, ?it/s]"
      ]
     },
     "metadata": {},
     "output_type": "display_data"
    },
    {
     "name": "stdout",
     "output_type": "stream",
     "text": [
      "shape of the embedding: (768,)\n",
      "combined shape of the embedding: (1536,)\n",
      "Reading contents of 2020-06-30:\n"
     ]
    },
    {
     "data": {
      "application/vnd.jupyter.widget-view+json": {
       "model_id": "7a6b7b94015941a8913046316a5ba5b2",
       "version_major": 2,
       "version_minor": 0
      },
      "text/plain": [
       "  0%|          | 0/1 [00:00<?, ?it/s]"
      ]
     },
     "metadata": {},
     "output_type": "display_data"
    },
    {
     "name": "stdout",
     "output_type": "stream",
     "text": [
      "shape of the embedding: (768,)\n",
      "combined shape of the embedding: (1536,)\n",
      "Reading contents of 2016-12-31:\n"
     ]
    },
    {
     "data": {
      "application/vnd.jupyter.widget-view+json": {
       "model_id": "cfe1dd9638e5445e9e4639292812745a",
       "version_major": 2,
       "version_minor": 0
      },
      "text/plain": [
       "  0%|          | 0/1 [00:00<?, ?it/s]"
      ]
     },
     "metadata": {},
     "output_type": "display_data"
    },
    {
     "name": "stdout",
     "output_type": "stream",
     "text": [
      "shape of the embedding: (768,)\n",
      "combined shape of the embedding: (1536,)\n",
      "Reading contents of 2017-03-31:\n"
     ]
    },
    {
     "data": {
      "application/vnd.jupyter.widget-view+json": {
       "model_id": "d2434a38117a4d82815c94b8bd44ed86",
       "version_major": 2,
       "version_minor": 0
      },
      "text/plain": [
       "  0%|          | 0/1 [00:00<?, ?it/s]"
      ]
     },
     "metadata": {},
     "output_type": "display_data"
    },
    {
     "name": "stdout",
     "output_type": "stream",
     "text": [
      "shape of the embedding: (768,)\n",
      "combined shape of the embedding: (1536,)\n",
      "Reading contents of 2014-12-31:\n"
     ]
    },
    {
     "data": {
      "application/vnd.jupyter.widget-view+json": {
       "model_id": "407f9547c05842f99d20c03fd53a9e30",
       "version_major": 2,
       "version_minor": 0
      },
      "text/plain": [
       "  0%|          | 0/1 [00:00<?, ?it/s]"
      ]
     },
     "metadata": {},
     "output_type": "display_data"
    },
    {
     "name": "stdout",
     "output_type": "stream",
     "text": [
      "shape of the embedding: (768,)\n",
      "combined shape of the embedding: (1536,)\n",
      "Reading contents of 2014-06-30:\n"
     ]
    },
    {
     "data": {
      "application/vnd.jupyter.widget-view+json": {
       "model_id": "d1ca08dd0a7648b7b27932bff8ad68db",
       "version_major": 2,
       "version_minor": 0
      },
      "text/plain": [
       "  0%|          | 0/1 [00:00<?, ?it/s]"
      ]
     },
     "metadata": {},
     "output_type": "display_data"
    },
    {
     "name": "stdout",
     "output_type": "stream",
     "text": [
      "shape of the embedding: (768,)\n",
      "combined shape of the embedding: (1536,)\n",
      "Reading contents of 2022-06-30:\n"
     ]
    },
    {
     "data": {
      "application/vnd.jupyter.widget-view+json": {
       "model_id": "5ff936c60788409196b45f834c9f14c7",
       "version_major": 2,
       "version_minor": 0
      },
      "text/plain": [
       "  0%|          | 0/1 [00:00<?, ?it/s]"
      ]
     },
     "metadata": {},
     "output_type": "display_data"
    },
    {
     "name": "stdout",
     "output_type": "stream",
     "text": [
      "shape of the embedding: (768,)\n",
      "combined shape of the embedding: (1536,)\n",
      "Reading contents of 2021-12-31:\n"
     ]
    },
    {
     "data": {
      "application/vnd.jupyter.widget-view+json": {
       "model_id": "0908b3af940d41668ceb68678c33e25c",
       "version_major": 2,
       "version_minor": 0
      },
      "text/plain": [
       "  0%|          | 0/1 [00:00<?, ?it/s]"
      ]
     },
     "metadata": {},
     "output_type": "display_data"
    },
    {
     "name": "stdout",
     "output_type": "stream",
     "text": [
      "shape of the embedding: (768,)\n",
      "combined shape of the embedding: (1536,)\n",
      "Reading contents of 2023-03-31:\n"
     ]
    },
    {
     "data": {
      "application/vnd.jupyter.widget-view+json": {
       "model_id": "5ac55fbc1b8247a6bce9aeb15f6ff5ca",
       "version_major": 2,
       "version_minor": 0
      },
      "text/plain": [
       "  0%|          | 0/1 [00:00<?, ?it/s]"
      ]
     },
     "metadata": {},
     "output_type": "display_data"
    },
    {
     "name": "stdout",
     "output_type": "stream",
     "text": [
      "shape of the embedding: (768,)\n",
      "combined shape of the embedding: (1536,)\n",
      "Reading contents of 2019-06-30:\n"
     ]
    },
    {
     "data": {
      "application/vnd.jupyter.widget-view+json": {
       "model_id": "e21bbc1ec47e45c2a32149f52dfb30df",
       "version_major": 2,
       "version_minor": 0
      },
      "text/plain": [
       "  0%|          | 0/1 [00:00<?, ?it/s]"
      ]
     },
     "metadata": {},
     "output_type": "display_data"
    },
    {
     "name": "stdout",
     "output_type": "stream",
     "text": [
      "shape of the embedding: (768,)\n",
      "combined shape of the embedding: (1536,)\n",
      "Reading contents of 2014-09-30:\n"
     ]
    },
    {
     "data": {
      "application/vnd.jupyter.widget-view+json": {
       "model_id": "5e55123dd17c4ddd9e4ab72020082cf3",
       "version_major": 2,
       "version_minor": 0
      },
      "text/plain": [
       "  0%|          | 0/1 [00:00<?, ?it/s]"
      ]
     },
     "metadata": {},
     "output_type": "display_data"
    },
    {
     "name": "stdout",
     "output_type": "stream",
     "text": [
      "shape of the embedding: (768,)\n",
      "combined shape of the embedding: (1536,)\n",
      "Reading contents of 2013-12-31:\n"
     ]
    },
    {
     "data": {
      "application/vnd.jupyter.widget-view+json": {
       "model_id": "6ef8e0948c17464c8dbeca5567d6e6b8",
       "version_major": 2,
       "version_minor": 0
      },
      "text/plain": [
       "  0%|          | 0/1 [00:00<?, ?it/s]"
      ]
     },
     "metadata": {},
     "output_type": "display_data"
    },
    {
     "name": "stdout",
     "output_type": "stream",
     "text": [
      "shape of the embedding: (768,)\n",
      "combined shape of the embedding: (1536,)\n",
      "Reading contents of 2015-03-31:\n"
     ]
    },
    {
     "data": {
      "application/vnd.jupyter.widget-view+json": {
       "model_id": "43b48308e8bb4765a84181450cfdea34",
       "version_major": 2,
       "version_minor": 0
      },
      "text/plain": [
       "  0%|          | 0/1 [00:00<?, ?it/s]"
      ]
     },
     "metadata": {},
     "output_type": "display_data"
    },
    {
     "name": "stdout",
     "output_type": "stream",
     "text": [
      "shape of the embedding: (768,)\n",
      "combined shape of the embedding: (1536,)\n",
      "Reading contents of 2011-06-30:\n"
     ]
    },
    {
     "data": {
      "application/vnd.jupyter.widget-view+json": {
       "model_id": "045d863bfecd4104b61e8ccd62d67218",
       "version_major": 2,
       "version_minor": 0
      },
      "text/plain": [
       "  0%|          | 0/1 [00:00<?, ?it/s]"
      ]
     },
     "metadata": {},
     "output_type": "display_data"
    },
    {
     "name": "stdout",
     "output_type": "stream",
     "text": [
      "shape of the embedding: (768,)\n",
      "combined shape of the embedding: (1536,)\n",
      "Reading contents of 2011-12-31:\n"
     ]
    },
    {
     "data": {
      "application/vnd.jupyter.widget-view+json": {
       "model_id": "74d5bd67cfbe444a9238644f2fc784ee",
       "version_major": 2,
       "version_minor": 0
      },
      "text/plain": [
       "  0%|          | 0/1 [00:00<?, ?it/s]"
      ]
     },
     "metadata": {},
     "output_type": "display_data"
    },
    {
     "name": "stdout",
     "output_type": "stream",
     "text": [
      "shape of the embedding: (768,)\n",
      "combined shape of the embedding: (1536,)\n",
      "Reading contents of 2022-09-30:\n"
     ]
    },
    {
     "data": {
      "application/vnd.jupyter.widget-view+json": {
       "model_id": "ba82e1948ebd4e2299a88450a0ffd66b",
       "version_major": 2,
       "version_minor": 0
      },
      "text/plain": [
       "  0%|          | 0/1 [00:00<?, ?it/s]"
      ]
     },
     "metadata": {},
     "output_type": "display_data"
    },
    {
     "name": "stdout",
     "output_type": "stream",
     "text": [
      "shape of the embedding: (768,)\n",
      "combined shape of the embedding: (1536,)\n",
      "Reading contents of 2012-09-30:\n"
     ]
    },
    {
     "data": {
      "application/vnd.jupyter.widget-view+json": {
       "model_id": "2739f3d2251b4c15ba007bd247cc5d06",
       "version_major": 2,
       "version_minor": 0
      },
      "text/plain": [
       "  0%|          | 0/1 [00:00<?, ?it/s]"
      ]
     },
     "metadata": {},
     "output_type": "display_data"
    },
    {
     "name": "stdout",
     "output_type": "stream",
     "text": [
      "shape of the embedding: (768,)\n",
      "combined shape of the embedding: (1536,)\n",
      "Reading contents of 2020-09-30:\n"
     ]
    },
    {
     "data": {
      "application/vnd.jupyter.widget-view+json": {
       "model_id": "6196e125be4946799ea0525f85f6dfd8",
       "version_major": 2,
       "version_minor": 0
      },
      "text/plain": [
       "  0%|          | 0/1 [00:00<?, ?it/s]"
      ]
     },
     "metadata": {},
     "output_type": "display_data"
    },
    {
     "name": "stdout",
     "output_type": "stream",
     "text": [
      "shape of the embedding: (768,)\n",
      "combined shape of the embedding: (1536,)\n",
      "Reading contents of 2015-12-31:\n"
     ]
    },
    {
     "data": {
      "application/vnd.jupyter.widget-view+json": {
       "model_id": "06fe39bbd23846c2b5c9870462ff64cd",
       "version_major": 2,
       "version_minor": 0
      },
      "text/plain": [
       "  0%|          | 0/1 [00:00<?, ?it/s]"
      ]
     },
     "metadata": {},
     "output_type": "display_data"
    },
    {
     "name": "stdout",
     "output_type": "stream",
     "text": [
      "shape of the embedding: (768,)\n",
      "combined shape of the embedding: (1536,)\n",
      "Reading contents of 2016-03-31:\n"
     ]
    },
    {
     "data": {
      "application/vnd.jupyter.widget-view+json": {
       "model_id": "82cd76d0cf9243db958b600715e5148e",
       "version_major": 2,
       "version_minor": 0
      },
      "text/plain": [
       "  0%|          | 0/1 [00:00<?, ?it/s]"
      ]
     },
     "metadata": {},
     "output_type": "display_data"
    },
    {
     "name": "stdout",
     "output_type": "stream",
     "text": [
      "shape of the embedding: (768,)\n",
      "combined shape of the embedding: (1536,)\n",
      "Reading contents of 2020-03-31:\n"
     ]
    },
    {
     "data": {
      "application/vnd.jupyter.widget-view+json": {
       "model_id": "dbd552e46d534f359c5f9f619ddefe18",
       "version_major": 2,
       "version_minor": 0
      },
      "text/plain": [
       "  0%|          | 0/1 [00:00<?, ?it/s]"
      ]
     },
     "metadata": {},
     "output_type": "display_data"
    },
    {
     "name": "stdout",
     "output_type": "stream",
     "text": [
      "shape of the embedding: (768,)\n",
      "combined shape of the embedding: (1536,)\n",
      "Reading contents of 2023-09-30:\n"
     ]
    },
    {
     "data": {
      "application/vnd.jupyter.widget-view+json": {
       "model_id": "fd76dcb20d8249dc8a190c9318508eda",
       "version_major": 2,
       "version_minor": 0
      },
      "text/plain": [
       "  0%|          | 0/1 [00:00<?, ?it/s]"
      ]
     },
     "metadata": {},
     "output_type": "display_data"
    },
    {
     "name": "stdout",
     "output_type": "stream",
     "text": [
      "shape of the embedding: (768,)\n",
      "combined shape of the embedding: (1536,)\n",
      "Reading contents of 2013-09-30:\n"
     ]
    },
    {
     "data": {
      "application/vnd.jupyter.widget-view+json": {
       "model_id": "05772baa6ace47ddb4cab376a866178d",
       "version_major": 2,
       "version_minor": 0
      },
      "text/plain": [
       "  0%|          | 0/1 [00:00<?, ?it/s]"
      ]
     },
     "metadata": {},
     "output_type": "display_data"
    },
    {
     "name": "stdout",
     "output_type": "stream",
     "text": [
      "shape of the embedding: (768,)\n",
      "combined shape of the embedding: (1536,)\n",
      "Reading contents of 2021-06-30:\n"
     ]
    },
    {
     "data": {
      "application/vnd.jupyter.widget-view+json": {
       "model_id": "e8de693a13264dd284d4e64274130845",
       "version_major": 2,
       "version_minor": 0
      },
      "text/plain": [
       "  0%|          | 0/1 [00:00<?, ?it/s]"
      ]
     },
     "metadata": {},
     "output_type": "display_data"
    },
    {
     "name": "stdout",
     "output_type": "stream",
     "text": [
      "shape of the embedding: (768,)\n",
      "combined shape of the embedding: (1536,)\n",
      "Reading contents of 2023-12-31:\n"
     ]
    },
    {
     "data": {
      "application/vnd.jupyter.widget-view+json": {
       "model_id": "8f32c7455fe24650bca2683a8b715c1b",
       "version_major": 2,
       "version_minor": 0
      },
      "text/plain": [
       "  0%|          | 0/1 [00:00<?, ?it/s]"
      ]
     },
     "metadata": {},
     "output_type": "display_data"
    },
    {
     "name": "stdout",
     "output_type": "stream",
     "text": [
      "shape of the embedding: (768,)\n",
      "combined shape of the embedding: (1536,)\n",
      "Reading contents of 2024-03-31:\n"
     ]
    },
    {
     "data": {
      "application/vnd.jupyter.widget-view+json": {
       "model_id": "795d2447a5c640f1bf2a8bed16458508",
       "version_major": 2,
       "version_minor": 0
      },
      "text/plain": [
       "  0%|          | 0/1 [00:00<?, ?it/s]"
      ]
     },
     "metadata": {},
     "output_type": "display_data"
    },
    {
     "name": "stdout",
     "output_type": "stream",
     "text": [
      "shape of the embedding: (768,)\n",
      "combined shape of the embedding: (1536,)\n",
      "Reading contents of 2013-06-30:\n"
     ]
    },
    {
     "data": {
      "application/vnd.jupyter.widget-view+json": {
       "model_id": "412e288e671f479f8a082334e5abcfd8",
       "version_major": 2,
       "version_minor": 0
      },
      "text/plain": [
       "  0%|          | 0/1 [00:00<?, ?it/s]"
      ]
     },
     "metadata": {},
     "output_type": "display_data"
    },
    {
     "name": "stdout",
     "output_type": "stream",
     "text": [
      "shape of the embedding: (768,)\n",
      "combined shape of the embedding: (1536,)\n",
      "Reading contents of 2012-12-31:\n"
     ]
    },
    {
     "data": {
      "application/vnd.jupyter.widget-view+json": {
       "model_id": "c5304b2cabea416cad3d94e2f2fd5ec2",
       "version_major": 2,
       "version_minor": 0
      },
      "text/plain": [
       "  0%|          | 0/1 [00:00<?, ?it/s]"
      ]
     },
     "metadata": {},
     "output_type": "display_data"
    },
    {
     "name": "stdout",
     "output_type": "stream",
     "text": [
      "shape of the embedding: (768,)\n",
      "combined shape of the embedding: (1536,)\n",
      "Reading contents of 2017-12-31:\n"
     ]
    },
    {
     "data": {
      "application/vnd.jupyter.widget-view+json": {
       "model_id": "798d5c2407c24e819132558138d0cdf9",
       "version_major": 2,
       "version_minor": 0
      },
      "text/plain": [
       "  0%|          | 0/1 [00:00<?, ?it/s]"
      ]
     },
     "metadata": {},
     "output_type": "display_data"
    },
    {
     "name": "stdout",
     "output_type": "stream",
     "text": [
      "shape of the embedding: (768,)\n",
      "combined shape of the embedding: (1536,)\n",
      "Reading contents of 2014-03-31:\n"
     ]
    },
    {
     "data": {
      "application/vnd.jupyter.widget-view+json": {
       "model_id": "084c7023fba04935ac799ddcc825cf31",
       "version_major": 2,
       "version_minor": 0
      },
      "text/plain": [
       "  0%|          | 0/1 [00:00<?, ?it/s]"
      ]
     },
     "metadata": {},
     "output_type": "display_data"
    },
    {
     "name": "stdout",
     "output_type": "stream",
     "text": [
      "shape of the embedding: (768,)\n",
      "combined shape of the embedding: (1536,)\n",
      "Reading contents of 2022-12-31:\n"
     ]
    },
    {
     "data": {
      "application/vnd.jupyter.widget-view+json": {
       "model_id": "9d467b34d73d41d9bd94aaf6b55b5bbd",
       "version_major": 2,
       "version_minor": 0
      },
      "text/plain": [
       "  0%|          | 0/1 [00:00<?, ?it/s]"
      ]
     },
     "metadata": {},
     "output_type": "display_data"
    },
    {
     "name": "stdout",
     "output_type": "stream",
     "text": [
      "shape of the embedding: (768,)\n",
      "combined shape of the embedding: (1536,)\n",
      "Reading contents of 2018-12-31:\n"
     ]
    },
    {
     "data": {
      "application/vnd.jupyter.widget-view+json": {
       "model_id": "62d0787be00f44809179dc59dd4d092a",
       "version_major": 2,
       "version_minor": 0
      },
      "text/plain": [
       "  0%|          | 0/1 [00:00<?, ?it/s]"
      ]
     },
     "metadata": {},
     "output_type": "display_data"
    },
    {
     "name": "stdout",
     "output_type": "stream",
     "text": [
      "shape of the embedding: (768,)\n",
      "combined shape of the embedding: (1536,)\n",
      "Reading contents of 2022-03-31:\n"
     ]
    },
    {
     "data": {
      "application/vnd.jupyter.widget-view+json": {
       "model_id": "4b239d1d9e554e42b438ae2da32ef1c2",
       "version_major": 2,
       "version_minor": 0
      },
      "text/plain": [
       "  0%|          | 0/1 [00:00<?, ?it/s]"
      ]
     },
     "metadata": {},
     "output_type": "display_data"
    },
    {
     "name": "stdout",
     "output_type": "stream",
     "text": [
      "shape of the embedding: (768,)\n",
      "combined shape of the embedding: (1536,)\n",
      "Reading contents of 2021-03-31:\n"
     ]
    },
    {
     "data": {
      "application/vnd.jupyter.widget-view+json": {
       "model_id": "7094fb1bc3464d5eb9852a48306018c4",
       "version_major": 2,
       "version_minor": 0
      },
      "text/plain": [
       "  0%|          | 0/1 [00:00<?, ?it/s]"
      ]
     },
     "metadata": {},
     "output_type": "display_data"
    },
    {
     "name": "stdout",
     "output_type": "stream",
     "text": [
      "shape of the embedding: (768,)\n",
      "combined shape of the embedding: (1536,)\n",
      "Reading contents of 2013-03-31:\n"
     ]
    },
    {
     "data": {
      "application/vnd.jupyter.widget-view+json": {
       "model_id": "828e022615614a128c30108fd8ae91e2",
       "version_major": 2,
       "version_minor": 0
      },
      "text/plain": [
       "  0%|          | 0/1 [00:00<?, ?it/s]"
      ]
     },
     "metadata": {},
     "output_type": "display_data"
    },
    {
     "name": "stdout",
     "output_type": "stream",
     "text": [
      "shape of the embedding: (768,)\n",
      "combined shape of the embedding: (1536,)\n",
      "Reading contents of 2012-06-30:\n"
     ]
    },
    {
     "data": {
      "application/vnd.jupyter.widget-view+json": {
       "model_id": "fc0213d748104cbdbe8293cbf81389c3",
       "version_major": 2,
       "version_minor": 0
      },
      "text/plain": [
       "  0%|          | 0/1 [00:00<?, ?it/s]"
      ]
     },
     "metadata": {},
     "output_type": "display_data"
    },
    {
     "name": "stdout",
     "output_type": "stream",
     "text": [
      "shape of the embedding: (768,)\n",
      "combined shape of the embedding: (1536,)\n",
      "Reading contents of 2023-06-30:\n"
     ]
    },
    {
     "data": {
      "application/vnd.jupyter.widget-view+json": {
       "model_id": "8fa5d7483ad84600948a6c6fa2d251f4",
       "version_major": 2,
       "version_minor": 0
      },
      "text/plain": [
       "  0%|          | 0/1 [00:00<?, ?it/s]"
      ]
     },
     "metadata": {},
     "output_type": "display_data"
    },
    {
     "name": "stdout",
     "output_type": "stream",
     "text": [
      "shape of the embedding: (768,)\n",
      "combined shape of the embedding: (1536,)\n",
      "Reading contents of 2018-09-30:\n"
     ]
    },
    {
     "data": {
      "application/vnd.jupyter.widget-view+json": {
       "model_id": "6df22694e1074f78903f8cdbbb51ba4e",
       "version_major": 2,
       "version_minor": 0
      },
      "text/plain": [
       "  0%|          | 0/1 [00:00<?, ?it/s]"
      ]
     },
     "metadata": {},
     "output_type": "display_data"
    },
    {
     "name": "stdout",
     "output_type": "stream",
     "text": [
      "shape of the embedding: (768,)\n",
      "combined shape of the embedding: (1536,)\n",
      "Reading contents of 2011-09-30:\n"
     ]
    },
    {
     "data": {
      "application/vnd.jupyter.widget-view+json": {
       "model_id": "66c61c68b1ce41f4a7fdf5191cb1bae5",
       "version_major": 2,
       "version_minor": 0
      },
      "text/plain": [
       "  0%|          | 0/1 [00:00<?, ?it/s]"
      ]
     },
     "metadata": {},
     "output_type": "display_data"
    },
    {
     "name": "stdout",
     "output_type": "stream",
     "text": [
      "shape of the embedding: (768,)\n",
      "combined shape of the embedding: (1536,)\n",
      "Reading contents of 2018-03-31:\n"
     ]
    },
    {
     "data": {
      "application/vnd.jupyter.widget-view+json": {
       "model_id": "382e50099e9643b5aa20357ddc21c8d2",
       "version_major": 2,
       "version_minor": 0
      },
      "text/plain": [
       "  0%|          | 0/1 [00:00<?, ?it/s]"
      ]
     },
     "metadata": {},
     "output_type": "display_data"
    },
    {
     "name": "stdout",
     "output_type": "stream",
     "text": [
      "shape of the embedding: (768,)\n",
      "combined shape of the embedding: (1536,)\n",
      "Reading contents of 2021-09-30:\n"
     ]
    },
    {
     "data": {
      "application/vnd.jupyter.widget-view+json": {
       "model_id": "0b4af0188dde49218cbb766d9940566e",
       "version_major": 2,
       "version_minor": 0
      },
      "text/plain": [
       "  0%|          | 0/1 [00:00<?, ?it/s]"
      ]
     },
     "metadata": {},
     "output_type": "display_data"
    },
    {
     "name": "stdout",
     "output_type": "stream",
     "text": [
      "shape of the embedding: (768,)\n",
      "combined shape of the embedding: (1536,)\n",
      "Reading contents of 2017-09-30:\n"
     ]
    },
    {
     "data": {
      "application/vnd.jupyter.widget-view+json": {
       "model_id": "8e2f2c11ef814a11bda02d84c5485ed0",
       "version_major": 2,
       "version_minor": 0
      },
      "text/plain": [
       "  0%|          | 0/1 [00:00<?, ?it/s]"
      ]
     },
     "metadata": {},
     "output_type": "display_data"
    },
    {
     "name": "stdout",
     "output_type": "stream",
     "text": [
      "shape of the embedding: (768,)\n",
      "combined shape of the embedding: (1536,)\n",
      "Reading contents of 2019-03-31:\n"
     ]
    },
    {
     "data": {
      "application/vnd.jupyter.widget-view+json": {
       "model_id": "2414952afca3446c85c7f7d1afe19667",
       "version_major": 2,
       "version_minor": 0
      },
      "text/plain": [
       "  0%|          | 0/1 [00:00<?, ?it/s]"
      ]
     },
     "metadata": {},
     "output_type": "display_data"
    },
    {
     "name": "stdout",
     "output_type": "stream",
     "text": [
      "shape of the embedding: (768,)\n",
      "combined shape of the embedding: (1536,)\n"
     ]
    }
   ],
   "source": [
    "import sys\n",
    "base_path = '../Data/Sec_Edgar_data'\n",
    "embedding_df = pd.read_csv(\"../Data/sentence_based_financeEmbeddings.csv\")\n",
    "\n",
    "for ticker_folder in tqdm(os.listdir(base_path)):\n",
    "    ticker_path = os.path.join(base_path, ticker_folder)\n",
    "    \n",
    "    if os.path.isdir(ticker_path):\n",
    "        ticker_name = ticker_folder\n",
    "        print(f\"Ticker: {ticker_name}\")\n",
    "\n",
    "        if ticker_name not in finance_ticker:\n",
    "            print(f\"{ticker_name} not exists in the Financial Ticker. Continuing with the next ticker...\")\n",
    "            continue\n",
    "\n",
    "        for file_name in os.listdir(ticker_path):\n",
    "\n",
    "            file_path = os.path.join(ticker_path, file_name)\n",
    "            file_name, extension = os.path.splitext(file_name)\n",
    "\n",
    "            if not embedding_df[(embedding_df['Ticker'] == ticker_name) & (embedding_df['Report Date'] == file_name)].empty:\n",
    "                print(f\"{ticker_name} and {file_name} already exist in embedding_df. Skipping this file...\")\n",
    "                continue\n",
    "\n",
    "            with open(file_path, 'r') as file:\n",
    "                print(f\"Reading contents of {file_name}:\")\n",
    "                contents = file.read()\n",
    "\n",
    "                segments = custom_split_text(contents)\n",
    "                df = pd.DataFrame(segments, columns=['Segments'])\n",
    "\n",
    "                if df.empty:\n",
    "                    print(f\"df is empty {ticker_name}, {file_name}\")\n",
    "                    sys.exit()\n",
    "\n",
    "                segment = []\n",
    "\n",
    "                positive_embeddings = []\n",
    "                negative_embeddings = []\n",
    "\n",
    "                positive_prob = []\n",
    "                negative_prob = []\n",
    "                neutral_prob = []\n",
    "\n",
    "                sentiment_of_sentence = []\n",
    "\n",
    "                num_of_positive_sentences = 0\n",
    "                num_of_negative_sentences = 0\n",
    "                num_of_neutral_sentences = 0\n",
    "                \n",
    "                found_words = 0\n",
    "                \n",
    "                tokenizer_kwargs = {\"padding\": 'max_length', \"return_tensors\": \"pt\", \"max_length\": 512}\n",
    "\n",
    "                column = 'Segments'\n",
    "\n",
    "                stemmer = SnowballStemmer(\"english\")\n",
    "                stemmed_sec_dict = {stemmer.stem(word): word for word in sec_dict}\n",
    "\n",
    "                for i in tqdm(range(len(df))):\n",
    "                    text_content = df[column].iloc[i]\n",
    "                    # Check if the current sentence contains any word from sec_dict\n",
    "                    # if not contains_sec_dict_words(text_content, stemmed_sec_dict, stemmer):\n",
    "                    #     print(\"skipping the sentence.\")\n",
    "                    #     continue  # Skip this sentence if no word from sec_dict is found\n",
    "                    \n",
    "                    \n",
    "                    with torch.no_grad():\n",
    "                        input_sequence = tokenizer(text_content, **tokenizer_kwargs)\n",
    "                        \n",
    "                        outputs = model(**input_sequence, output_hidden_states=True)\n",
    "                        hidden_states = outputs.hidden_states\n",
    "\n",
    "                        logits = outputs.logits\n",
    "                        probabilities = scipy.special.softmax(logits.numpy().squeeze(), axis=0)\n",
    "                        sentiment = model.config.id2label[probabilities.argmax()]\n",
    "\n",
    "                        if (sentiment == \"Neutral\"):\n",
    "                            neutral_prob.append(probabilities[0])\n",
    "                            positive_prob.append(probabilities[1])\n",
    "                            negative_prob.append(probabilities[2])\n",
    "                            num_of_neutral_sentences += 1\n",
    "\n",
    "                        else:\n",
    "                            neutral_prob.append(probabilities[0])\n",
    "                            positive_prob.append(probabilities[1])\n",
    "                            negative_prob.append(probabilities[2])\n",
    "\n",
    "                            if sentiment == \"Positive\":\n",
    "                                num_of_positive_sentences += 1\n",
    "                            elif sentiment == \"Negative\":\n",
    "                                num_of_negative_sentences += 1\n",
    "\n",
    "                            sentiment_of_sentence.append(sentiment)\n",
    "                            \n",
    "                            last_layer_embeddings = hidden_states[-1].numpy().squeeze()\n",
    "\n",
    "                            token_ids = input_sequence[\"input_ids\"].squeeze()\n",
    "                            tokens = tokenizer.convert_ids_to_tokens(token_ids)\n",
    "                            token_embeddings = {token: embedding for token, embedding in zip(tokens, last_layer_embeddings)}\n",
    "\n",
    "                            for token, embedding in token_embeddings.items():\n",
    "                                stemmed_token = stemmer.stem(token)\n",
    "\n",
    "                                if stemmed_token in stemmed_sec_dict:\n",
    "                                    \n",
    "                                    word_embedding = np.array(embedding)\n",
    "\n",
    "                                    if sentiment == \"Positive\":\n",
    "                                        positive_embeddings.append(word_embedding)\n",
    "\n",
    "                                    elif sentiment == \"Negative\":\n",
    "                                        negative_embeddings.append(word_embedding)\n",
    "\n",
    "                                    found_words += 1\n",
    "\n",
    "                            segment.append(\" \".join(text_content))\n",
    "\n",
    "                embedding_dim = 768\n",
    "\n",
    "                positive_embeddings = np.array(positive_embeddings)\n",
    "                negative_embeddings = np.array(negative_embeddings)\n",
    "\n",
    "                if positive_embeddings.size == 0:\n",
    "                    mean_embedding_positive = np.zeros(embedding_dim)\n",
    "                else:\n",
    "                    mean_embedding_positive = np.mean(positive_embeddings, axis=0)\n",
    "\n",
    "                if negative_embeddings.size == 0:\n",
    "                    mean_embedding_negative = np.zeros(embedding_dim)\n",
    "                else:\n",
    "                    mean_embedding_negative = np.mean(negative_embeddings, axis=0)\n",
    "\n",
    "                combined_mean_embeddings = np.concatenate([mean_embedding_positive, mean_embedding_negative])\n",
    "                print(f\"shape of the embedding: {mean_embedding_positive.shape}\")\n",
    "                print(f\"combined shape of the embedding: {combined_mean_embeddings.shape}\")\n",
    "                column_names = [f'embedding_{i+1}' for i in range(combined_mean_embeddings.shape[0])]\n",
    "\n",
    "                new_row = pd.DataFrame({\n",
    "                'Ticker': [ticker_name], \n",
    "                'Report Date': [file_name],\n",
    "                \"Num Of Negative\" : [num_of_negative_sentences],\n",
    "                \"Num Of Positive\" : [num_of_positive_sentences],\n",
    "                \"Found Words\": [found_words],\n",
    "                'Positive Prob': np.mean(positive_prob),\n",
    "                'Negative Prob': np.mean(negative_prob),\n",
    "                'Neutral Prob': np.mean(neutral_prob),\n",
    "                **dict(zip(column_names, combined_mean_embeddings))\n",
    "                })\n",
    "\n",
    "                embedding_df = pd.concat([embedding_df, new_row], ignore_index=True)\n",
    "                "
   ]
  },
  {
   "cell_type": "code",
   "execution_count": 23,
   "metadata": {},
   "outputs": [
    {
     "data": {
      "text/html": [
       "<div>\n",
       "<style scoped>\n",
       "    .dataframe tbody tr th:only-of-type {\n",
       "        vertical-align: middle;\n",
       "    }\n",
       "\n",
       "    .dataframe tbody tr th {\n",
       "        vertical-align: top;\n",
       "    }\n",
       "\n",
       "    .dataframe thead th {\n",
       "        text-align: right;\n",
       "    }\n",
       "</style>\n",
       "<table border=\"1\" class=\"dataframe\">\n",
       "  <thead>\n",
       "    <tr style=\"text-align: right;\">\n",
       "      <th></th>\n",
       "      <th>Ticker</th>\n",
       "      <th>Report Date</th>\n",
       "      <th>Num Of Negative</th>\n",
       "      <th>Num Of Positive</th>\n",
       "      <th>Found Words</th>\n",
       "      <th>Positive Prob</th>\n",
       "      <th>Negative Prob</th>\n",
       "      <th>Neutral Prob</th>\n",
       "      <th>embedding_1</th>\n",
       "      <th>embedding_2</th>\n",
       "      <th>...</th>\n",
       "      <th>embedding_1527</th>\n",
       "      <th>embedding_1528</th>\n",
       "      <th>embedding_1529</th>\n",
       "      <th>embedding_1530</th>\n",
       "      <th>embedding_1531</th>\n",
       "      <th>embedding_1532</th>\n",
       "      <th>embedding_1533</th>\n",
       "      <th>embedding_1534</th>\n",
       "      <th>embedding_1535</th>\n",
       "      <th>embedding_1536</th>\n",
       "    </tr>\n",
       "  </thead>\n",
       "  <tbody>\n",
       "    <tr>\n",
       "      <th>125</th>\n",
       "      <td>DFS</td>\n",
       "      <td>2011-05-31</td>\n",
       "      <td>3.0</td>\n",
       "      <td>4.0</td>\n",
       "      <td>328.0</td>\n",
       "      <td>0.098141</td>\n",
       "      <td>0.057145</td>\n",
       "      <td>0.844714</td>\n",
       "      <td>-0.269836</td>\n",
       "      <td>-0.667547</td>\n",
       "      <td>...</td>\n",
       "      <td>0.132339</td>\n",
       "      <td>0.391349</td>\n",
       "      <td>-0.101878</td>\n",
       "      <td>0.289486</td>\n",
       "      <td>0.667223</td>\n",
       "      <td>0.351935</td>\n",
       "      <td>0.012379</td>\n",
       "      <td>-0.790106</td>\n",
       "      <td>-0.531331</td>\n",
       "      <td>0.280774</td>\n",
       "    </tr>\n",
       "    <tr>\n",
       "      <th>757</th>\n",
       "      <td>CBOE</td>\n",
       "      <td>2011-06-29</td>\n",
       "      <td>2.0</td>\n",
       "      <td>1.0</td>\n",
       "      <td>65.0</td>\n",
       "      <td>0.053857</td>\n",
       "      <td>0.078146</td>\n",
       "      <td>0.867997</td>\n",
       "      <td>0.035818</td>\n",
       "      <td>-0.497583</td>\n",
       "      <td>...</td>\n",
       "      <td>-0.112394</td>\n",
       "      <td>0.628557</td>\n",
       "      <td>1.008932</td>\n",
       "      <td>0.222512</td>\n",
       "      <td>0.212564</td>\n",
       "      <td>0.079795</td>\n",
       "      <td>-0.068103</td>\n",
       "      <td>-0.139793</td>\n",
       "      <td>-0.206865</td>\n",
       "      <td>0.666078</td>\n",
       "    </tr>\n",
       "    <tr>\n",
       "      <th>490</th>\n",
       "      <td>AFL</td>\n",
       "      <td>2011-06-30</td>\n",
       "      <td>2.0</td>\n",
       "      <td>10.0</td>\n",
       "      <td>444.0</td>\n",
       "      <td>0.185839</td>\n",
       "      <td>0.042638</td>\n",
       "      <td>0.771523</td>\n",
       "      <td>-0.445991</td>\n",
       "      <td>-0.376216</td>\n",
       "      <td>...</td>\n",
       "      <td>0.414589</td>\n",
       "      <td>0.791822</td>\n",
       "      <td>0.652430</td>\n",
       "      <td>0.275277</td>\n",
       "      <td>0.749954</td>\n",
       "      <td>-0.341811</td>\n",
       "      <td>-0.231431</td>\n",
       "      <td>-0.404139</td>\n",
       "      <td>0.103189</td>\n",
       "      <td>1.179630</td>\n",
       "    </tr>\n",
       "    <tr>\n",
       "      <th>1782</th>\n",
       "      <td>AON</td>\n",
       "      <td>2011-06-30</td>\n",
       "      <td>4.0</td>\n",
       "      <td>8.0</td>\n",
       "      <td>406.0</td>\n",
       "      <td>0.270472</td>\n",
       "      <td>0.141872</td>\n",
       "      <td>0.587656</td>\n",
       "      <td>-0.044927</td>\n",
       "      <td>-0.371451</td>\n",
       "      <td>...</td>\n",
       "      <td>0.351455</td>\n",
       "      <td>0.597015</td>\n",
       "      <td>0.459006</td>\n",
       "      <td>0.174953</td>\n",
       "      <td>0.796469</td>\n",
       "      <td>0.002994</td>\n",
       "      <td>-0.299642</td>\n",
       "      <td>-0.269401</td>\n",
       "      <td>-0.019401</td>\n",
       "      <td>0.684581</td>\n",
       "    </tr>\n",
       "    <tr>\n",
       "      <th>1686</th>\n",
       "      <td>AXP</td>\n",
       "      <td>2011-06-30</td>\n",
       "      <td>0.0</td>\n",
       "      <td>12.0</td>\n",
       "      <td>464.0</td>\n",
       "      <td>0.202702</td>\n",
       "      <td>0.007731</td>\n",
       "      <td>0.789567</td>\n",
       "      <td>-0.276930</td>\n",
       "      <td>-0.409391</td>\n",
       "      <td>...</td>\n",
       "      <td>0.000000</td>\n",
       "      <td>0.000000</td>\n",
       "      <td>0.000000</td>\n",
       "      <td>0.000000</td>\n",
       "      <td>0.000000</td>\n",
       "      <td>0.000000</td>\n",
       "      <td>0.000000</td>\n",
       "      <td>0.000000</td>\n",
       "      <td>0.000000</td>\n",
       "      <td>0.000000</td>\n",
       "    </tr>\n",
       "    <tr>\n",
       "      <th>...</th>\n",
       "      <td>...</td>\n",
       "      <td>...</td>\n",
       "      <td>...</td>\n",
       "      <td>...</td>\n",
       "      <td>...</td>\n",
       "      <td>...</td>\n",
       "      <td>...</td>\n",
       "      <td>...</td>\n",
       "      <td>...</td>\n",
       "      <td>...</td>\n",
       "      <td>...</td>\n",
       "      <td>...</td>\n",
       "      <td>...</td>\n",
       "      <td>...</td>\n",
       "      <td>...</td>\n",
       "      <td>...</td>\n",
       "      <td>...</td>\n",
       "      <td>...</td>\n",
       "      <td>...</td>\n",
       "      <td>...</td>\n",
       "      <td>...</td>\n",
       "    </tr>\n",
       "    <tr>\n",
       "      <th>34</th>\n",
       "      <td>TROW</td>\n",
       "      <td>2024-03-31</td>\n",
       "      <td>1.0</td>\n",
       "      <td>5.0</td>\n",
       "      <td>223.0</td>\n",
       "      <td>0.165471</td>\n",
       "      <td>0.032351</td>\n",
       "      <td>0.802178</td>\n",
       "      <td>-0.173672</td>\n",
       "      <td>-0.258428</td>\n",
       "      <td>...</td>\n",
       "      <td>0.554650</td>\n",
       "      <td>0.208854</td>\n",
       "      <td>0.025358</td>\n",
       "      <td>-0.128251</td>\n",
       "      <td>0.396882</td>\n",
       "      <td>0.363576</td>\n",
       "      <td>0.073009</td>\n",
       "      <td>-0.601066</td>\n",
       "      <td>-0.497182</td>\n",
       "      <td>0.161090</td>\n",
       "    </tr>\n",
       "    <tr>\n",
       "      <th>190</th>\n",
       "      <td>TRV</td>\n",
       "      <td>2024-03-31</td>\n",
       "      <td>7.0</td>\n",
       "      <td>9.0</td>\n",
       "      <td>630.0</td>\n",
       "      <td>0.183727</td>\n",
       "      <td>0.136209</td>\n",
       "      <td>0.680064</td>\n",
       "      <td>-0.120381</td>\n",
       "      <td>-0.499944</td>\n",
       "      <td>...</td>\n",
       "      <td>0.418682</td>\n",
       "      <td>0.656059</td>\n",
       "      <td>0.072387</td>\n",
       "      <td>0.074895</td>\n",
       "      <td>0.763338</td>\n",
       "      <td>0.024421</td>\n",
       "      <td>-0.134036</td>\n",
       "      <td>-0.454445</td>\n",
       "      <td>0.121910</td>\n",
       "      <td>0.733638</td>\n",
       "    </tr>\n",
       "    <tr>\n",
       "      <th>814</th>\n",
       "      <td>WFC</td>\n",
       "      <td>2024-03-31</td>\n",
       "      <td>0.0</td>\n",
       "      <td>0.0</td>\n",
       "      <td>0.0</td>\n",
       "      <td>0.000883</td>\n",
       "      <td>0.000037</td>\n",
       "      <td>0.999080</td>\n",
       "      <td>0.000000</td>\n",
       "      <td>0.000000</td>\n",
       "      <td>...</td>\n",
       "      <td>0.000000</td>\n",
       "      <td>0.000000</td>\n",
       "      <td>0.000000</td>\n",
       "      <td>0.000000</td>\n",
       "      <td>0.000000</td>\n",
       "      <td>0.000000</td>\n",
       "      <td>0.000000</td>\n",
       "      <td>0.000000</td>\n",
       "      <td>0.000000</td>\n",
       "      <td>0.000000</td>\n",
       "    </tr>\n",
       "    <tr>\n",
       "      <th>606</th>\n",
       "      <td>WRB</td>\n",
       "      <td>2024-03-31</td>\n",
       "      <td>0.0</td>\n",
       "      <td>2.0</td>\n",
       "      <td>84.0</td>\n",
       "      <td>0.085500</td>\n",
       "      <td>0.000328</td>\n",
       "      <td>0.914172</td>\n",
       "      <td>-0.170304</td>\n",
       "      <td>-0.138004</td>\n",
       "      <td>...</td>\n",
       "      <td>0.000000</td>\n",
       "      <td>0.000000</td>\n",
       "      <td>0.000000</td>\n",
       "      <td>0.000000</td>\n",
       "      <td>0.000000</td>\n",
       "      <td>0.000000</td>\n",
       "      <td>0.000000</td>\n",
       "      <td>0.000000</td>\n",
       "      <td>0.000000</td>\n",
       "      <td>0.000000</td>\n",
       "    </tr>\n",
       "    <tr>\n",
       "      <th>710</th>\n",
       "      <td>ZION</td>\n",
       "      <td>2024-03-31</td>\n",
       "      <td>2.0</td>\n",
       "      <td>2.0</td>\n",
       "      <td>140.0</td>\n",
       "      <td>0.025748</td>\n",
       "      <td>0.025385</td>\n",
       "      <td>0.948868</td>\n",
       "      <td>-0.122058</td>\n",
       "      <td>-0.568087</td>\n",
       "      <td>...</td>\n",
       "      <td>0.435209</td>\n",
       "      <td>0.459227</td>\n",
       "      <td>-0.075864</td>\n",
       "      <td>0.170787</td>\n",
       "      <td>1.243826</td>\n",
       "      <td>0.127134</td>\n",
       "      <td>-0.075757</td>\n",
       "      <td>-0.564921</td>\n",
       "      <td>-0.372992</td>\n",
       "      <td>0.530616</td>\n",
       "    </tr>\n",
       "  </tbody>\n",
       "</table>\n",
       "<p>1968 rows × 1544 columns</p>\n",
       "</div>"
      ],
      "text/plain": [
       "     Ticker Report Date  Num Of Negative  Num Of Positive  Found Words  \\\n",
       "125     DFS  2011-05-31              3.0              4.0        328.0   \n",
       "757    CBOE  2011-06-29              2.0              1.0         65.0   \n",
       "490     AFL  2011-06-30              2.0             10.0        444.0   \n",
       "1782    AON  2011-06-30              4.0              8.0        406.0   \n",
       "1686    AXP  2011-06-30              0.0             12.0        464.0   \n",
       "...     ...         ...              ...              ...          ...   \n",
       "34     TROW  2024-03-31              1.0              5.0        223.0   \n",
       "190     TRV  2024-03-31              7.0              9.0        630.0   \n",
       "814     WFC  2024-03-31              0.0              0.0          0.0   \n",
       "606     WRB  2024-03-31              0.0              2.0         84.0   \n",
       "710    ZION  2024-03-31              2.0              2.0        140.0   \n",
       "\n",
       "      Positive Prob  Negative Prob  Neutral Prob  embedding_1  embedding_2  \\\n",
       "125        0.098141       0.057145      0.844714    -0.269836    -0.667547   \n",
       "757        0.053857       0.078146      0.867997     0.035818    -0.497583   \n",
       "490        0.185839       0.042638      0.771523    -0.445991    -0.376216   \n",
       "1782       0.270472       0.141872      0.587656    -0.044927    -0.371451   \n",
       "1686       0.202702       0.007731      0.789567    -0.276930    -0.409391   \n",
       "...             ...            ...           ...          ...          ...   \n",
       "34         0.165471       0.032351      0.802178    -0.173672    -0.258428   \n",
       "190        0.183727       0.136209      0.680064    -0.120381    -0.499944   \n",
       "814        0.000883       0.000037      0.999080     0.000000     0.000000   \n",
       "606        0.085500       0.000328      0.914172    -0.170304    -0.138004   \n",
       "710        0.025748       0.025385      0.948868    -0.122058    -0.568087   \n",
       "\n",
       "      ...  embedding_1527  embedding_1528  embedding_1529  embedding_1530  \\\n",
       "125   ...        0.132339        0.391349       -0.101878        0.289486   \n",
       "757   ...       -0.112394        0.628557        1.008932        0.222512   \n",
       "490   ...        0.414589        0.791822        0.652430        0.275277   \n",
       "1782  ...        0.351455        0.597015        0.459006        0.174953   \n",
       "1686  ...        0.000000        0.000000        0.000000        0.000000   \n",
       "...   ...             ...             ...             ...             ...   \n",
       "34    ...        0.554650        0.208854        0.025358       -0.128251   \n",
       "190   ...        0.418682        0.656059        0.072387        0.074895   \n",
       "814   ...        0.000000        0.000000        0.000000        0.000000   \n",
       "606   ...        0.000000        0.000000        0.000000        0.000000   \n",
       "710   ...        0.435209        0.459227       -0.075864        0.170787   \n",
       "\n",
       "      embedding_1531  embedding_1532  embedding_1533  embedding_1534  \\\n",
       "125         0.667223        0.351935        0.012379       -0.790106   \n",
       "757         0.212564        0.079795       -0.068103       -0.139793   \n",
       "490         0.749954       -0.341811       -0.231431       -0.404139   \n",
       "1782        0.796469        0.002994       -0.299642       -0.269401   \n",
       "1686        0.000000        0.000000        0.000000        0.000000   \n",
       "...              ...             ...             ...             ...   \n",
       "34          0.396882        0.363576        0.073009       -0.601066   \n",
       "190         0.763338        0.024421       -0.134036       -0.454445   \n",
       "814         0.000000        0.000000        0.000000        0.000000   \n",
       "606         0.000000        0.000000        0.000000        0.000000   \n",
       "710         1.243826        0.127134       -0.075757       -0.564921   \n",
       "\n",
       "      embedding_1535  embedding_1536  \n",
       "125        -0.531331        0.280774  \n",
       "757        -0.206865        0.666078  \n",
       "490         0.103189        1.179630  \n",
       "1782       -0.019401        0.684581  \n",
       "1686        0.000000        0.000000  \n",
       "...              ...             ...  \n",
       "34         -0.497182        0.161090  \n",
       "190         0.121910        0.733638  \n",
       "814         0.000000        0.000000  \n",
       "606         0.000000        0.000000  \n",
       "710        -0.372992        0.530616  \n",
       "\n",
       "[1968 rows x 1544 columns]"
      ]
     },
     "execution_count": 23,
     "metadata": {},
     "output_type": "execute_result"
    }
   ],
   "source": [
    "embedding_df.sort_values(by=[\"Report Date\", \"Ticker\"])"
   ]
  },
  {
   "cell_type": "code",
   "execution_count": 24,
   "metadata": {},
   "outputs": [
    {
     "data": {
      "text/plain": [
       "38"
      ]
     },
     "execution_count": 24,
     "metadata": {},
     "output_type": "execute_result"
    }
   ],
   "source": [
    "len(embedding_df[\"Ticker\"].unique())"
   ]
  },
  {
   "cell_type": "code",
   "execution_count": 25,
   "metadata": {},
   "outputs": [
    {
     "data": {
      "text/plain": [
       "38"
      ]
     },
     "execution_count": 25,
     "metadata": {},
     "output_type": "execute_result"
    }
   ],
   "source": [
    "len(embedding_df[\"Ticker\"].unique())"
   ]
  },
  {
   "cell_type": "code",
   "execution_count": 26,
   "metadata": {},
   "outputs": [
    {
     "data": {
      "text/html": [
       "<div>\n",
       "<style scoped>\n",
       "    .dataframe tbody tr th:only-of-type {\n",
       "        vertical-align: middle;\n",
       "    }\n",
       "\n",
       "    .dataframe tbody tr th {\n",
       "        vertical-align: top;\n",
       "    }\n",
       "\n",
       "    .dataframe thead th {\n",
       "        text-align: right;\n",
       "    }\n",
       "</style>\n",
       "<table border=\"1\" class=\"dataframe\">\n",
       "  <thead>\n",
       "    <tr style=\"text-align: right;\">\n",
       "      <th></th>\n",
       "      <th>Ticker</th>\n",
       "      <th>Report Date</th>\n",
       "      <th>Num Of Negative</th>\n",
       "      <th>Num Of Positive</th>\n",
       "      <th>Found Words</th>\n",
       "      <th>Positive Prob</th>\n",
       "      <th>Negative Prob</th>\n",
       "      <th>Neutral Prob</th>\n",
       "      <th>embedding_1</th>\n",
       "      <th>embedding_2</th>\n",
       "      <th>...</th>\n",
       "      <th>embedding_1527</th>\n",
       "      <th>embedding_1528</th>\n",
       "      <th>embedding_1529</th>\n",
       "      <th>embedding_1530</th>\n",
       "      <th>embedding_1531</th>\n",
       "      <th>embedding_1532</th>\n",
       "      <th>embedding_1533</th>\n",
       "      <th>embedding_1534</th>\n",
       "      <th>embedding_1535</th>\n",
       "      <th>embedding_1536</th>\n",
       "    </tr>\n",
       "  </thead>\n",
       "  <tbody>\n",
       "    <tr>\n",
       "      <th>0</th>\n",
       "      <td>TROW</td>\n",
       "      <td>2012-03-31</td>\n",
       "      <td>0.0</td>\n",
       "      <td>3.0</td>\n",
       "      <td>96.0</td>\n",
       "      <td>0.433360</td>\n",
       "      <td>0.049688</td>\n",
       "      <td>0.516952</td>\n",
       "      <td>-0.220608</td>\n",
       "      <td>-0.126542</td>\n",
       "      <td>...</td>\n",
       "      <td>0.000000</td>\n",
       "      <td>0.000000</td>\n",
       "      <td>0.000000</td>\n",
       "      <td>0.000000</td>\n",
       "      <td>0.000000</td>\n",
       "      <td>0.000000</td>\n",
       "      <td>0.000000</td>\n",
       "      <td>0.000000</td>\n",
       "      <td>0.000000</td>\n",
       "      <td>0.000000</td>\n",
       "    </tr>\n",
       "    <tr>\n",
       "      <th>1</th>\n",
       "      <td>TROW</td>\n",
       "      <td>2017-06-30</td>\n",
       "      <td>0.0</td>\n",
       "      <td>3.0</td>\n",
       "      <td>118.0</td>\n",
       "      <td>0.129501</td>\n",
       "      <td>0.001244</td>\n",
       "      <td>0.869255</td>\n",
       "      <td>-0.518157</td>\n",
       "      <td>-0.086362</td>\n",
       "      <td>...</td>\n",
       "      <td>0.000000</td>\n",
       "      <td>0.000000</td>\n",
       "      <td>0.000000</td>\n",
       "      <td>0.000000</td>\n",
       "      <td>0.000000</td>\n",
       "      <td>0.000000</td>\n",
       "      <td>0.000000</td>\n",
       "      <td>0.000000</td>\n",
       "      <td>0.000000</td>\n",
       "      <td>0.000000</td>\n",
       "    </tr>\n",
       "    <tr>\n",
       "      <th>2</th>\n",
       "      <td>TROW</td>\n",
       "      <td>2018-06-30</td>\n",
       "      <td>1.0</td>\n",
       "      <td>4.0</td>\n",
       "      <td>164.0</td>\n",
       "      <td>0.111424</td>\n",
       "      <td>0.029975</td>\n",
       "      <td>0.858601</td>\n",
       "      <td>-0.349939</td>\n",
       "      <td>-0.147468</td>\n",
       "      <td>...</td>\n",
       "      <td>0.051092</td>\n",
       "      <td>0.533000</td>\n",
       "      <td>1.070406</td>\n",
       "      <td>0.323609</td>\n",
       "      <td>0.152008</td>\n",
       "      <td>0.558247</td>\n",
       "      <td>-0.725482</td>\n",
       "      <td>-0.463541</td>\n",
       "      <td>-0.755556</td>\n",
       "      <td>0.724856</td>\n",
       "    </tr>\n",
       "    <tr>\n",
       "      <th>3</th>\n",
       "      <td>TROW</td>\n",
       "      <td>2020-12-31</td>\n",
       "      <td>2.0</td>\n",
       "      <td>8.0</td>\n",
       "      <td>265.0</td>\n",
       "      <td>0.254435</td>\n",
       "      <td>0.053568</td>\n",
       "      <td>0.691996</td>\n",
       "      <td>-0.073542</td>\n",
       "      <td>-0.224136</td>\n",
       "      <td>...</td>\n",
       "      <td>0.145560</td>\n",
       "      <td>0.372795</td>\n",
       "      <td>0.258847</td>\n",
       "      <td>0.157887</td>\n",
       "      <td>-0.324517</td>\n",
       "      <td>-0.309704</td>\n",
       "      <td>0.183422</td>\n",
       "      <td>-0.203659</td>\n",
       "      <td>0.145782</td>\n",
       "      <td>0.195257</td>\n",
       "    </tr>\n",
       "    <tr>\n",
       "      <th>4</th>\n",
       "      <td>TROW</td>\n",
       "      <td>2015-09-30</td>\n",
       "      <td>2.0</td>\n",
       "      <td>1.0</td>\n",
       "      <td>105.0</td>\n",
       "      <td>0.099549</td>\n",
       "      <td>0.161237</td>\n",
       "      <td>0.739215</td>\n",
       "      <td>-0.388687</td>\n",
       "      <td>-0.327704</td>\n",
       "      <td>...</td>\n",
       "      <td>0.251360</td>\n",
       "      <td>0.669250</td>\n",
       "      <td>0.835729</td>\n",
       "      <td>0.199768</td>\n",
       "      <td>0.108205</td>\n",
       "      <td>0.292616</td>\n",
       "      <td>-0.445671</td>\n",
       "      <td>-0.225715</td>\n",
       "      <td>-0.427849</td>\n",
       "      <td>0.603479</td>\n",
       "    </tr>\n",
       "    <tr>\n",
       "      <th>...</th>\n",
       "      <td>...</td>\n",
       "      <td>...</td>\n",
       "      <td>...</td>\n",
       "      <td>...</td>\n",
       "      <td>...</td>\n",
       "      <td>...</td>\n",
       "      <td>...</td>\n",
       "      <td>...</td>\n",
       "      <td>...</td>\n",
       "      <td>...</td>\n",
       "      <td>...</td>\n",
       "      <td>...</td>\n",
       "      <td>...</td>\n",
       "      <td>...</td>\n",
       "      <td>...</td>\n",
       "      <td>...</td>\n",
       "      <td>...</td>\n",
       "      <td>...</td>\n",
       "      <td>...</td>\n",
       "      <td>...</td>\n",
       "      <td>...</td>\n",
       "    </tr>\n",
       "    <tr>\n",
       "      <th>1963</th>\n",
       "      <td>BK</td>\n",
       "      <td>2011-09-30</td>\n",
       "      <td>1.0</td>\n",
       "      <td>0.0</td>\n",
       "      <td>2.0</td>\n",
       "      <td>0.008405</td>\n",
       "      <td>0.983301</td>\n",
       "      <td>0.008294</td>\n",
       "      <td>0.000000</td>\n",
       "      <td>0.000000</td>\n",
       "      <td>...</td>\n",
       "      <td>0.459046</td>\n",
       "      <td>0.229575</td>\n",
       "      <td>0.993614</td>\n",
       "      <td>-0.849249</td>\n",
       "      <td>0.189553</td>\n",
       "      <td>0.800350</td>\n",
       "      <td>-0.806158</td>\n",
       "      <td>0.775358</td>\n",
       "      <td>-0.230105</td>\n",
       "      <td>0.429043</td>\n",
       "    </tr>\n",
       "    <tr>\n",
       "      <th>1964</th>\n",
       "      <td>BK</td>\n",
       "      <td>2018-03-31</td>\n",
       "      <td>1.0</td>\n",
       "      <td>0.0</td>\n",
       "      <td>2.0</td>\n",
       "      <td>0.008405</td>\n",
       "      <td>0.983301</td>\n",
       "      <td>0.008294</td>\n",
       "      <td>0.000000</td>\n",
       "      <td>0.000000</td>\n",
       "      <td>...</td>\n",
       "      <td>0.459046</td>\n",
       "      <td>0.229575</td>\n",
       "      <td>0.993614</td>\n",
       "      <td>-0.849249</td>\n",
       "      <td>0.189553</td>\n",
       "      <td>0.800350</td>\n",
       "      <td>-0.806158</td>\n",
       "      <td>0.775358</td>\n",
       "      <td>-0.230105</td>\n",
       "      <td>0.429043</td>\n",
       "    </tr>\n",
       "    <tr>\n",
       "      <th>1965</th>\n",
       "      <td>BK</td>\n",
       "      <td>2021-09-30</td>\n",
       "      <td>1.0</td>\n",
       "      <td>0.0</td>\n",
       "      <td>2.0</td>\n",
       "      <td>0.008405</td>\n",
       "      <td>0.983301</td>\n",
       "      <td>0.008294</td>\n",
       "      <td>0.000000</td>\n",
       "      <td>0.000000</td>\n",
       "      <td>...</td>\n",
       "      <td>0.459046</td>\n",
       "      <td>0.229575</td>\n",
       "      <td>0.993614</td>\n",
       "      <td>-0.849249</td>\n",
       "      <td>0.189553</td>\n",
       "      <td>0.800350</td>\n",
       "      <td>-0.806158</td>\n",
       "      <td>0.775358</td>\n",
       "      <td>-0.230105</td>\n",
       "      <td>0.429043</td>\n",
       "    </tr>\n",
       "    <tr>\n",
       "      <th>1966</th>\n",
       "      <td>BK</td>\n",
       "      <td>2017-09-30</td>\n",
       "      <td>1.0</td>\n",
       "      <td>0.0</td>\n",
       "      <td>2.0</td>\n",
       "      <td>0.008405</td>\n",
       "      <td>0.983301</td>\n",
       "      <td>0.008294</td>\n",
       "      <td>0.000000</td>\n",
       "      <td>0.000000</td>\n",
       "      <td>...</td>\n",
       "      <td>0.459046</td>\n",
       "      <td>0.229575</td>\n",
       "      <td>0.993614</td>\n",
       "      <td>-0.849249</td>\n",
       "      <td>0.189553</td>\n",
       "      <td>0.800350</td>\n",
       "      <td>-0.806158</td>\n",
       "      <td>0.775358</td>\n",
       "      <td>-0.230105</td>\n",
       "      <td>0.429043</td>\n",
       "    </tr>\n",
       "    <tr>\n",
       "      <th>1967</th>\n",
       "      <td>BK</td>\n",
       "      <td>2019-03-31</td>\n",
       "      <td>1.0</td>\n",
       "      <td>0.0</td>\n",
       "      <td>2.0</td>\n",
       "      <td>0.008405</td>\n",
       "      <td>0.983301</td>\n",
       "      <td>0.008294</td>\n",
       "      <td>0.000000</td>\n",
       "      <td>0.000000</td>\n",
       "      <td>...</td>\n",
       "      <td>0.459046</td>\n",
       "      <td>0.229575</td>\n",
       "      <td>0.993614</td>\n",
       "      <td>-0.849249</td>\n",
       "      <td>0.189553</td>\n",
       "      <td>0.800350</td>\n",
       "      <td>-0.806158</td>\n",
       "      <td>0.775358</td>\n",
       "      <td>-0.230105</td>\n",
       "      <td>0.429043</td>\n",
       "    </tr>\n",
       "  </tbody>\n",
       "</table>\n",
       "<p>1968 rows × 1544 columns</p>\n",
       "</div>"
      ],
      "text/plain": [
       "     Ticker Report Date  Num Of Negative  Num Of Positive  Found Words  \\\n",
       "0      TROW  2012-03-31              0.0              3.0         96.0   \n",
       "1      TROW  2017-06-30              0.0              3.0        118.0   \n",
       "2      TROW  2018-06-30              1.0              4.0        164.0   \n",
       "3      TROW  2020-12-31              2.0              8.0        265.0   \n",
       "4      TROW  2015-09-30              2.0              1.0        105.0   \n",
       "...     ...         ...              ...              ...          ...   \n",
       "1963     BK  2011-09-30              1.0              0.0          2.0   \n",
       "1964     BK  2018-03-31              1.0              0.0          2.0   \n",
       "1965     BK  2021-09-30              1.0              0.0          2.0   \n",
       "1966     BK  2017-09-30              1.0              0.0          2.0   \n",
       "1967     BK  2019-03-31              1.0              0.0          2.0   \n",
       "\n",
       "      Positive Prob  Negative Prob  Neutral Prob  embedding_1  embedding_2  \\\n",
       "0          0.433360       0.049688      0.516952    -0.220608    -0.126542   \n",
       "1          0.129501       0.001244      0.869255    -0.518157    -0.086362   \n",
       "2          0.111424       0.029975      0.858601    -0.349939    -0.147468   \n",
       "3          0.254435       0.053568      0.691996    -0.073542    -0.224136   \n",
       "4          0.099549       0.161237      0.739215    -0.388687    -0.327704   \n",
       "...             ...            ...           ...          ...          ...   \n",
       "1963       0.008405       0.983301      0.008294     0.000000     0.000000   \n",
       "1964       0.008405       0.983301      0.008294     0.000000     0.000000   \n",
       "1965       0.008405       0.983301      0.008294     0.000000     0.000000   \n",
       "1966       0.008405       0.983301      0.008294     0.000000     0.000000   \n",
       "1967       0.008405       0.983301      0.008294     0.000000     0.000000   \n",
       "\n",
       "      ...  embedding_1527  embedding_1528  embedding_1529  embedding_1530  \\\n",
       "0     ...        0.000000        0.000000        0.000000        0.000000   \n",
       "1     ...        0.000000        0.000000        0.000000        0.000000   \n",
       "2     ...        0.051092        0.533000        1.070406        0.323609   \n",
       "3     ...        0.145560        0.372795        0.258847        0.157887   \n",
       "4     ...        0.251360        0.669250        0.835729        0.199768   \n",
       "...   ...             ...             ...             ...             ...   \n",
       "1963  ...        0.459046        0.229575        0.993614       -0.849249   \n",
       "1964  ...        0.459046        0.229575        0.993614       -0.849249   \n",
       "1965  ...        0.459046        0.229575        0.993614       -0.849249   \n",
       "1966  ...        0.459046        0.229575        0.993614       -0.849249   \n",
       "1967  ...        0.459046        0.229575        0.993614       -0.849249   \n",
       "\n",
       "      embedding_1531  embedding_1532  embedding_1533  embedding_1534  \\\n",
       "0           0.000000        0.000000        0.000000        0.000000   \n",
       "1           0.000000        0.000000        0.000000        0.000000   \n",
       "2           0.152008        0.558247       -0.725482       -0.463541   \n",
       "3          -0.324517       -0.309704        0.183422       -0.203659   \n",
       "4           0.108205        0.292616       -0.445671       -0.225715   \n",
       "...              ...             ...             ...             ...   \n",
       "1963        0.189553        0.800350       -0.806158        0.775358   \n",
       "1964        0.189553        0.800350       -0.806158        0.775358   \n",
       "1965        0.189553        0.800350       -0.806158        0.775358   \n",
       "1966        0.189553        0.800350       -0.806158        0.775358   \n",
       "1967        0.189553        0.800350       -0.806158        0.775358   \n",
       "\n",
       "      embedding_1535  embedding_1536  \n",
       "0           0.000000        0.000000  \n",
       "1           0.000000        0.000000  \n",
       "2          -0.755556        0.724856  \n",
       "3           0.145782        0.195257  \n",
       "4          -0.427849        0.603479  \n",
       "...              ...             ...  \n",
       "1963       -0.230105        0.429043  \n",
       "1964       -0.230105        0.429043  \n",
       "1965       -0.230105        0.429043  \n",
       "1966       -0.230105        0.429043  \n",
       "1967       -0.230105        0.429043  \n",
       "\n",
       "[1968 rows x 1544 columns]"
      ]
     },
     "execution_count": 26,
     "metadata": {},
     "output_type": "execute_result"
    }
   ],
   "source": [
    "embedding_df"
   ]
  },
  {
   "cell_type": "code",
   "execution_count": 29,
   "metadata": {},
   "outputs": [],
   "source": [
    "embedding_df.to_csv(\"../Data/sentence_based_financeEmbeddings.csv\", index=False)"
   ]
  },
  {
   "cell_type": "code",
   "execution_count": 28,
   "metadata": {},
   "outputs": [
    {
     "data": {
      "text/html": [
       "<div>\n",
       "<style scoped>\n",
       "    .dataframe tbody tr th:only-of-type {\n",
       "        vertical-align: middle;\n",
       "    }\n",
       "\n",
       "    .dataframe tbody tr th {\n",
       "        vertical-align: top;\n",
       "    }\n",
       "\n",
       "    .dataframe thead th {\n",
       "        text-align: right;\n",
       "    }\n",
       "</style>\n",
       "<table border=\"1\" class=\"dataframe\">\n",
       "  <thead>\n",
       "    <tr style=\"text-align: right;\">\n",
       "      <th></th>\n",
       "      <th>Ticker</th>\n",
       "      <th>Report Date</th>\n",
       "      <th>Num Of Negative</th>\n",
       "      <th>Num Of Positive</th>\n",
       "      <th>Found Words</th>\n",
       "      <th>Positive Prob</th>\n",
       "      <th>Negative Prob</th>\n",
       "      <th>Neutral Prob</th>\n",
       "      <th>embedding_1</th>\n",
       "      <th>embedding_2</th>\n",
       "      <th>...</th>\n",
       "      <th>embedding_1527</th>\n",
       "      <th>embedding_1528</th>\n",
       "      <th>embedding_1529</th>\n",
       "      <th>embedding_1530</th>\n",
       "      <th>embedding_1531</th>\n",
       "      <th>embedding_1532</th>\n",
       "      <th>embedding_1533</th>\n",
       "      <th>embedding_1534</th>\n",
       "      <th>embedding_1535</th>\n",
       "      <th>embedding_1536</th>\n",
       "    </tr>\n",
       "  </thead>\n",
       "  <tbody>\n",
       "    <tr>\n",
       "      <th>0</th>\n",
       "      <td>TROW</td>\n",
       "      <td>2012-03-31</td>\n",
       "      <td>0.0</td>\n",
       "      <td>3.0</td>\n",
       "      <td>96.0</td>\n",
       "      <td>0.433360</td>\n",
       "      <td>0.049688</td>\n",
       "      <td>0.516952</td>\n",
       "      <td>-0.220608</td>\n",
       "      <td>-0.126542</td>\n",
       "      <td>...</td>\n",
       "      <td>0.000000</td>\n",
       "      <td>0.000000</td>\n",
       "      <td>0.000000</td>\n",
       "      <td>0.000000</td>\n",
       "      <td>0.000000</td>\n",
       "      <td>0.000000</td>\n",
       "      <td>0.000000</td>\n",
       "      <td>0.000000</td>\n",
       "      <td>0.000000</td>\n",
       "      <td>0.000000</td>\n",
       "    </tr>\n",
       "    <tr>\n",
       "      <th>1</th>\n",
       "      <td>TROW</td>\n",
       "      <td>2017-06-30</td>\n",
       "      <td>0.0</td>\n",
       "      <td>3.0</td>\n",
       "      <td>118.0</td>\n",
       "      <td>0.129501</td>\n",
       "      <td>0.001244</td>\n",
       "      <td>0.869255</td>\n",
       "      <td>-0.518157</td>\n",
       "      <td>-0.086362</td>\n",
       "      <td>...</td>\n",
       "      <td>0.000000</td>\n",
       "      <td>0.000000</td>\n",
       "      <td>0.000000</td>\n",
       "      <td>0.000000</td>\n",
       "      <td>0.000000</td>\n",
       "      <td>0.000000</td>\n",
       "      <td>0.000000</td>\n",
       "      <td>0.000000</td>\n",
       "      <td>0.000000</td>\n",
       "      <td>0.000000</td>\n",
       "    </tr>\n",
       "    <tr>\n",
       "      <th>2</th>\n",
       "      <td>TROW</td>\n",
       "      <td>2018-06-30</td>\n",
       "      <td>1.0</td>\n",
       "      <td>4.0</td>\n",
       "      <td>164.0</td>\n",
       "      <td>0.111424</td>\n",
       "      <td>0.029975</td>\n",
       "      <td>0.858601</td>\n",
       "      <td>-0.349939</td>\n",
       "      <td>-0.147468</td>\n",
       "      <td>...</td>\n",
       "      <td>0.051092</td>\n",
       "      <td>0.533000</td>\n",
       "      <td>1.070406</td>\n",
       "      <td>0.323609</td>\n",
       "      <td>0.152008</td>\n",
       "      <td>0.558247</td>\n",
       "      <td>-0.725482</td>\n",
       "      <td>-0.463541</td>\n",
       "      <td>-0.755556</td>\n",
       "      <td>0.724856</td>\n",
       "    </tr>\n",
       "    <tr>\n",
       "      <th>3</th>\n",
       "      <td>TROW</td>\n",
       "      <td>2020-12-31</td>\n",
       "      <td>2.0</td>\n",
       "      <td>8.0</td>\n",
       "      <td>265.0</td>\n",
       "      <td>0.254435</td>\n",
       "      <td>0.053568</td>\n",
       "      <td>0.691996</td>\n",
       "      <td>-0.073542</td>\n",
       "      <td>-0.224136</td>\n",
       "      <td>...</td>\n",
       "      <td>0.145560</td>\n",
       "      <td>0.372795</td>\n",
       "      <td>0.258847</td>\n",
       "      <td>0.157887</td>\n",
       "      <td>-0.324517</td>\n",
       "      <td>-0.309704</td>\n",
       "      <td>0.183422</td>\n",
       "      <td>-0.203659</td>\n",
       "      <td>0.145782</td>\n",
       "      <td>0.195257</td>\n",
       "    </tr>\n",
       "    <tr>\n",
       "      <th>4</th>\n",
       "      <td>TROW</td>\n",
       "      <td>2015-09-30</td>\n",
       "      <td>2.0</td>\n",
       "      <td>1.0</td>\n",
       "      <td>105.0</td>\n",
       "      <td>0.099549</td>\n",
       "      <td>0.161237</td>\n",
       "      <td>0.739215</td>\n",
       "      <td>-0.388687</td>\n",
       "      <td>-0.327704</td>\n",
       "      <td>...</td>\n",
       "      <td>0.251360</td>\n",
       "      <td>0.669250</td>\n",
       "      <td>0.835729</td>\n",
       "      <td>0.199768</td>\n",
       "      <td>0.108205</td>\n",
       "      <td>0.292616</td>\n",
       "      <td>-0.445671</td>\n",
       "      <td>-0.225715</td>\n",
       "      <td>-0.427849</td>\n",
       "      <td>0.603479</td>\n",
       "    </tr>\n",
       "    <tr>\n",
       "      <th>...</th>\n",
       "      <td>...</td>\n",
       "      <td>...</td>\n",
       "      <td>...</td>\n",
       "      <td>...</td>\n",
       "      <td>...</td>\n",
       "      <td>...</td>\n",
       "      <td>...</td>\n",
       "      <td>...</td>\n",
       "      <td>...</td>\n",
       "      <td>...</td>\n",
       "      <td>...</td>\n",
       "      <td>...</td>\n",
       "      <td>...</td>\n",
       "      <td>...</td>\n",
       "      <td>...</td>\n",
       "      <td>...</td>\n",
       "      <td>...</td>\n",
       "      <td>...</td>\n",
       "      <td>...</td>\n",
       "      <td>...</td>\n",
       "      <td>...</td>\n",
       "    </tr>\n",
       "    <tr>\n",
       "      <th>1963</th>\n",
       "      <td>BK</td>\n",
       "      <td>2011-09-30</td>\n",
       "      <td>1.0</td>\n",
       "      <td>0.0</td>\n",
       "      <td>2.0</td>\n",
       "      <td>0.008405</td>\n",
       "      <td>0.983301</td>\n",
       "      <td>0.008294</td>\n",
       "      <td>0.000000</td>\n",
       "      <td>0.000000</td>\n",
       "      <td>...</td>\n",
       "      <td>0.459046</td>\n",
       "      <td>0.229575</td>\n",
       "      <td>0.993614</td>\n",
       "      <td>-0.849249</td>\n",
       "      <td>0.189553</td>\n",
       "      <td>0.800350</td>\n",
       "      <td>-0.806158</td>\n",
       "      <td>0.775358</td>\n",
       "      <td>-0.230105</td>\n",
       "      <td>0.429043</td>\n",
       "    </tr>\n",
       "    <tr>\n",
       "      <th>1964</th>\n",
       "      <td>BK</td>\n",
       "      <td>2018-03-31</td>\n",
       "      <td>1.0</td>\n",
       "      <td>0.0</td>\n",
       "      <td>2.0</td>\n",
       "      <td>0.008405</td>\n",
       "      <td>0.983301</td>\n",
       "      <td>0.008294</td>\n",
       "      <td>0.000000</td>\n",
       "      <td>0.000000</td>\n",
       "      <td>...</td>\n",
       "      <td>0.459046</td>\n",
       "      <td>0.229575</td>\n",
       "      <td>0.993614</td>\n",
       "      <td>-0.849249</td>\n",
       "      <td>0.189553</td>\n",
       "      <td>0.800350</td>\n",
       "      <td>-0.806158</td>\n",
       "      <td>0.775358</td>\n",
       "      <td>-0.230105</td>\n",
       "      <td>0.429043</td>\n",
       "    </tr>\n",
       "    <tr>\n",
       "      <th>1965</th>\n",
       "      <td>BK</td>\n",
       "      <td>2021-09-30</td>\n",
       "      <td>1.0</td>\n",
       "      <td>0.0</td>\n",
       "      <td>2.0</td>\n",
       "      <td>0.008405</td>\n",
       "      <td>0.983301</td>\n",
       "      <td>0.008294</td>\n",
       "      <td>0.000000</td>\n",
       "      <td>0.000000</td>\n",
       "      <td>...</td>\n",
       "      <td>0.459046</td>\n",
       "      <td>0.229575</td>\n",
       "      <td>0.993614</td>\n",
       "      <td>-0.849249</td>\n",
       "      <td>0.189553</td>\n",
       "      <td>0.800350</td>\n",
       "      <td>-0.806158</td>\n",
       "      <td>0.775358</td>\n",
       "      <td>-0.230105</td>\n",
       "      <td>0.429043</td>\n",
       "    </tr>\n",
       "    <tr>\n",
       "      <th>1966</th>\n",
       "      <td>BK</td>\n",
       "      <td>2017-09-30</td>\n",
       "      <td>1.0</td>\n",
       "      <td>0.0</td>\n",
       "      <td>2.0</td>\n",
       "      <td>0.008405</td>\n",
       "      <td>0.983301</td>\n",
       "      <td>0.008294</td>\n",
       "      <td>0.000000</td>\n",
       "      <td>0.000000</td>\n",
       "      <td>...</td>\n",
       "      <td>0.459046</td>\n",
       "      <td>0.229575</td>\n",
       "      <td>0.993614</td>\n",
       "      <td>-0.849249</td>\n",
       "      <td>0.189553</td>\n",
       "      <td>0.800350</td>\n",
       "      <td>-0.806158</td>\n",
       "      <td>0.775358</td>\n",
       "      <td>-0.230105</td>\n",
       "      <td>0.429043</td>\n",
       "    </tr>\n",
       "    <tr>\n",
       "      <th>1967</th>\n",
       "      <td>BK</td>\n",
       "      <td>2019-03-31</td>\n",
       "      <td>1.0</td>\n",
       "      <td>0.0</td>\n",
       "      <td>2.0</td>\n",
       "      <td>0.008405</td>\n",
       "      <td>0.983301</td>\n",
       "      <td>0.008294</td>\n",
       "      <td>0.000000</td>\n",
       "      <td>0.000000</td>\n",
       "      <td>...</td>\n",
       "      <td>0.459046</td>\n",
       "      <td>0.229575</td>\n",
       "      <td>0.993614</td>\n",
       "      <td>-0.849249</td>\n",
       "      <td>0.189553</td>\n",
       "      <td>0.800350</td>\n",
       "      <td>-0.806158</td>\n",
       "      <td>0.775358</td>\n",
       "      <td>-0.230105</td>\n",
       "      <td>0.429043</td>\n",
       "    </tr>\n",
       "  </tbody>\n",
       "</table>\n",
       "<p>1968 rows × 1544 columns</p>\n",
       "</div>"
      ],
      "text/plain": [
       "     Ticker Report Date  Num Of Negative  Num Of Positive  Found Words  \\\n",
       "0      TROW  2012-03-31              0.0              3.0         96.0   \n",
       "1      TROW  2017-06-30              0.0              3.0        118.0   \n",
       "2      TROW  2018-06-30              1.0              4.0        164.0   \n",
       "3      TROW  2020-12-31              2.0              8.0        265.0   \n",
       "4      TROW  2015-09-30              2.0              1.0        105.0   \n",
       "...     ...         ...              ...              ...          ...   \n",
       "1963     BK  2011-09-30              1.0              0.0          2.0   \n",
       "1964     BK  2018-03-31              1.0              0.0          2.0   \n",
       "1965     BK  2021-09-30              1.0              0.0          2.0   \n",
       "1966     BK  2017-09-30              1.0              0.0          2.0   \n",
       "1967     BK  2019-03-31              1.0              0.0          2.0   \n",
       "\n",
       "      Positive Prob  Negative Prob  Neutral Prob  embedding_1  embedding_2  \\\n",
       "0          0.433360       0.049688      0.516952    -0.220608    -0.126542   \n",
       "1          0.129501       0.001244      0.869255    -0.518157    -0.086362   \n",
       "2          0.111424       0.029975      0.858601    -0.349939    -0.147468   \n",
       "3          0.254435       0.053568      0.691996    -0.073542    -0.224136   \n",
       "4          0.099549       0.161237      0.739215    -0.388687    -0.327704   \n",
       "...             ...            ...           ...          ...          ...   \n",
       "1963       0.008405       0.983301      0.008294     0.000000     0.000000   \n",
       "1964       0.008405       0.983301      0.008294     0.000000     0.000000   \n",
       "1965       0.008405       0.983301      0.008294     0.000000     0.000000   \n",
       "1966       0.008405       0.983301      0.008294     0.000000     0.000000   \n",
       "1967       0.008405       0.983301      0.008294     0.000000     0.000000   \n",
       "\n",
       "      ...  embedding_1527  embedding_1528  embedding_1529  embedding_1530  \\\n",
       "0     ...        0.000000        0.000000        0.000000        0.000000   \n",
       "1     ...        0.000000        0.000000        0.000000        0.000000   \n",
       "2     ...        0.051092        0.533000        1.070406        0.323609   \n",
       "3     ...        0.145560        0.372795        0.258847        0.157887   \n",
       "4     ...        0.251360        0.669250        0.835729        0.199768   \n",
       "...   ...             ...             ...             ...             ...   \n",
       "1963  ...        0.459046        0.229575        0.993614       -0.849249   \n",
       "1964  ...        0.459046        0.229575        0.993614       -0.849249   \n",
       "1965  ...        0.459046        0.229575        0.993614       -0.849249   \n",
       "1966  ...        0.459046        0.229575        0.993614       -0.849249   \n",
       "1967  ...        0.459046        0.229575        0.993614       -0.849249   \n",
       "\n",
       "      embedding_1531  embedding_1532  embedding_1533  embedding_1534  \\\n",
       "0           0.000000        0.000000        0.000000        0.000000   \n",
       "1           0.000000        0.000000        0.000000        0.000000   \n",
       "2           0.152008        0.558247       -0.725482       -0.463541   \n",
       "3          -0.324517       -0.309704        0.183422       -0.203659   \n",
       "4           0.108205        0.292616       -0.445671       -0.225715   \n",
       "...              ...             ...             ...             ...   \n",
       "1963        0.189553        0.800350       -0.806158        0.775358   \n",
       "1964        0.189553        0.800350       -0.806158        0.775358   \n",
       "1965        0.189553        0.800350       -0.806158        0.775358   \n",
       "1966        0.189553        0.800350       -0.806158        0.775358   \n",
       "1967        0.189553        0.800350       -0.806158        0.775358   \n",
       "\n",
       "      embedding_1535  embedding_1536  \n",
       "0           0.000000        0.000000  \n",
       "1           0.000000        0.000000  \n",
       "2          -0.755556        0.724856  \n",
       "3           0.145782        0.195257  \n",
       "4          -0.427849        0.603479  \n",
       "...              ...             ...  \n",
       "1963       -0.230105        0.429043  \n",
       "1964       -0.230105        0.429043  \n",
       "1965       -0.230105        0.429043  \n",
       "1966       -0.230105        0.429043  \n",
       "1967       -0.230105        0.429043  \n",
       "\n",
       "[1968 rows x 1544 columns]"
      ]
     },
     "execution_count": 28,
     "metadata": {},
     "output_type": "execute_result"
    }
   ],
   "source": [
    "embedding_df"
   ]
  }
 ],
 "metadata": {
  "kernelspec": {
   "display_name": "base",
   "language": "python",
   "name": "python3"
  },
  "language_info": {
   "codemirror_mode": {
    "name": "ipython",
    "version": 3
   },
   "file_extension": ".py",
   "mimetype": "text/x-python",
   "name": "python",
   "nbconvert_exporter": "python",
   "pygments_lexer": "ipython3",
   "version": "3.11.4"
  }
 },
 "nbformat": 4,
 "nbformat_minor": 2
}
