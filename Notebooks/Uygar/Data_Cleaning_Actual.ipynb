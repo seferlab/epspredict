{
 "cells": [
  {
   "cell_type": "code",
   "execution_count": 1,
   "id": "78146fea-c4af-4eb4-9ea8-81257a39b3b1",
   "metadata": {
    "ExecuteTime": {
     "end_time": "2023-10-22T15:23:30.269665Z",
     "start_time": "2023-10-22T15:23:29.870304Z"
    }
   },
   "outputs": [],
   "source": [
    "import pandas as pd\n",
    "import numpy as np\n",
    "import matplotlib.pyplot as plt"
   ]
  },
  {
   "cell_type": "code",
   "execution_count": 2,
   "id": "9c9a171e-d33c-4337-bb04-676679756f84",
   "metadata": {
    "ExecuteTime": {
     "end_time": "2023-10-22T15:23:52.292441Z",
     "start_time": "2023-10-22T15:23:51.956297Z"
    }
   },
   "outputs": [],
   "source": [
    "# Prepare the data\n",
    "data_actual=pd.read_csv('../../Data/Actuals.csv')\n",
    "data_actual = data_actual.drop(columns='TICKER')"
   ]
  },
  {
   "cell_type": "code",
   "execution_count": 3,
   "id": "7092851b-f06a-49be-8c5b-8fd235bd8b03",
   "metadata": {
    "ExecuteTime": {
     "end_time": "2023-10-22T15:23:57.576129Z",
     "start_time": "2023-10-22T15:23:57.428188Z"
    }
   },
   "outputs": [
    {
     "data": {
      "text/html": [
       "<div>\n",
       "<style scoped>\n",
       "    .dataframe tbody tr th:only-of-type {\n",
       "        vertical-align: middle;\n",
       "    }\n",
       "\n",
       "    .dataframe tbody tr th {\n",
       "        vertical-align: top;\n",
       "    }\n",
       "\n",
       "    .dataframe thead th {\n",
       "        text-align: right;\n",
       "    }\n",
       "</style>\n",
       "<table border=\"1\" class=\"dataframe\">\n",
       "  <thead>\n",
       "    <tr style=\"text-align: right;\">\n",
       "      <th></th>\n",
       "      <th>OFTIC</th>\n",
       "      <th>CNAME</th>\n",
       "      <th>PENDS</th>\n",
       "      <th>MEASURE</th>\n",
       "      <th>PDICITY</th>\n",
       "      <th>ANNDATS</th>\n",
       "      <th>VALUE</th>\n",
       "    </tr>\n",
       "  </thead>\n",
       "  <tbody>\n",
       "    <tr>\n",
       "      <th>0</th>\n",
       "      <td>PAYC</td>\n",
       "      <td>PAYCOM SOFTWARE</td>\n",
       "      <td>2014-06-30</td>\n",
       "      <td>EPS</td>\n",
       "      <td>QTR</td>\n",
       "      <td>2014-08-05</td>\n",
       "      <td>0.04</td>\n",
       "    </tr>\n",
       "    <tr>\n",
       "      <th>1</th>\n",
       "      <td>PAYC</td>\n",
       "      <td>PAYCOM SOFTWARE</td>\n",
       "      <td>2014-09-30</td>\n",
       "      <td>EPS</td>\n",
       "      <td>QTR</td>\n",
       "      <td>2014-11-04</td>\n",
       "      <td>0.05</td>\n",
       "    </tr>\n",
       "    <tr>\n",
       "      <th>2</th>\n",
       "      <td>PAYC</td>\n",
       "      <td>PAYCOM SOFTWARE</td>\n",
       "      <td>2014-12-31</td>\n",
       "      <td>EPS</td>\n",
       "      <td>QTR</td>\n",
       "      <td>2015-02-10</td>\n",
       "      <td>0.06</td>\n",
       "    </tr>\n",
       "    <tr>\n",
       "      <th>3</th>\n",
       "      <td>PAYC</td>\n",
       "      <td>PAYCOM SOFTWARE</td>\n",
       "      <td>2015-03-31</td>\n",
       "      <td>EPS</td>\n",
       "      <td>QTR</td>\n",
       "      <td>2015-05-06</td>\n",
       "      <td>0.12</td>\n",
       "    </tr>\n",
       "    <tr>\n",
       "      <th>4</th>\n",
       "      <td>PAYC</td>\n",
       "      <td>PAYCOM SOFTWARE</td>\n",
       "      <td>2015-06-30</td>\n",
       "      <td>EPS</td>\n",
       "      <td>QTR</td>\n",
       "      <td>2015-08-04</td>\n",
       "      <td>0.10</td>\n",
       "    </tr>\n",
       "    <tr>\n",
       "      <th>...</th>\n",
       "      <td>...</td>\n",
       "      <td>...</td>\n",
       "      <td>...</td>\n",
       "      <td>...</td>\n",
       "      <td>...</td>\n",
       "      <td>...</td>\n",
       "      <td>...</td>\n",
       "    </tr>\n",
       "    <tr>\n",
       "      <th>95</th>\n",
       "      <td>KEYS</td>\n",
       "      <td>KEYSIGHT TECH</td>\n",
       "      <td>2020-10-31</td>\n",
       "      <td>EPS</td>\n",
       "      <td>QTR</td>\n",
       "      <td>2020-11-18</td>\n",
       "      <td>1.62</td>\n",
       "    </tr>\n",
       "    <tr>\n",
       "      <th>96</th>\n",
       "      <td>KEYS</td>\n",
       "      <td>KEYSIGHT TECH</td>\n",
       "      <td>2021-01-31</td>\n",
       "      <td>EPS</td>\n",
       "      <td>QTR</td>\n",
       "      <td>2021-02-18</td>\n",
       "      <td>1.43</td>\n",
       "    </tr>\n",
       "    <tr>\n",
       "      <th>97</th>\n",
       "      <td>KEYS</td>\n",
       "      <td>KEYSIGHT TECH</td>\n",
       "      <td>2021-04-30</td>\n",
       "      <td>EPS</td>\n",
       "      <td>QTR</td>\n",
       "      <td>2021-05-19</td>\n",
       "      <td>1.44</td>\n",
       "    </tr>\n",
       "    <tr>\n",
       "      <th>98</th>\n",
       "      <td>KEYS</td>\n",
       "      <td>KEYSIGHT TECH</td>\n",
       "      <td>2021-07-31</td>\n",
       "      <td>EPS</td>\n",
       "      <td>QTR</td>\n",
       "      <td>2021-08-18</td>\n",
       "      <td>1.54</td>\n",
       "    </tr>\n",
       "    <tr>\n",
       "      <th>99</th>\n",
       "      <td>KEYS</td>\n",
       "      <td>KEYSIGHT TECH</td>\n",
       "      <td>2021-10-31</td>\n",
       "      <td>EPS</td>\n",
       "      <td>QTR</td>\n",
       "      <td>2021-11-22</td>\n",
       "      <td>1.82</td>\n",
       "    </tr>\n",
       "  </tbody>\n",
       "</table>\n",
       "<p>100 rows × 7 columns</p>\n",
       "</div>"
      ],
      "text/plain": [
       "   OFTIC            CNAME       PENDS MEASURE PDICITY     ANNDATS  VALUE\n",
       "0   PAYC  PAYCOM SOFTWARE  2014-06-30     EPS     QTR  2014-08-05   0.04\n",
       "1   PAYC  PAYCOM SOFTWARE  2014-09-30     EPS     QTR  2014-11-04   0.05\n",
       "2   PAYC  PAYCOM SOFTWARE  2014-12-31     EPS     QTR  2015-02-10   0.06\n",
       "3   PAYC  PAYCOM SOFTWARE  2015-03-31     EPS     QTR  2015-05-06   0.12\n",
       "4   PAYC  PAYCOM SOFTWARE  2015-06-30     EPS     QTR  2015-08-04   0.10\n",
       "..   ...              ...         ...     ...     ...         ...    ...\n",
       "95  KEYS    KEYSIGHT TECH  2020-10-31     EPS     QTR  2020-11-18   1.62\n",
       "96  KEYS    KEYSIGHT TECH  2021-01-31     EPS     QTR  2021-02-18   1.43\n",
       "97  KEYS    KEYSIGHT TECH  2021-04-30     EPS     QTR  2021-05-19   1.44\n",
       "98  KEYS    KEYSIGHT TECH  2021-07-31     EPS     QTR  2021-08-18   1.54\n",
       "99  KEYS    KEYSIGHT TECH  2021-10-31     EPS     QTR  2021-11-22   1.82\n",
       "\n",
       "[100 rows x 7 columns]"
      ]
     },
     "execution_count": 3,
     "metadata": {},
     "output_type": "execute_result"
    }
   ],
   "source": [
    "data_actual.head(100)"
   ]
  },
  {
   "cell_type": "code",
   "execution_count": 4,
   "id": "0cb809bf-656d-456b-b3d7-ac0549f11f22",
   "metadata": {
    "ExecuteTime": {
     "end_time": "2023-10-22T15:24:01.243147Z",
     "start_time": "2023-10-22T15:24:01.235781Z"
    }
   },
   "outputs": [
    {
     "name": "stdout",
     "output_type": "stream",
     "text": [
      "Column 'OFTIC' has 0 missing values.\n",
      "Column 'CNAME' has 0 missing values.\n",
      "Column 'PENDS' has 0 missing values.\n",
      "Column 'MEASURE' has 0 missing values.\n",
      "Column 'PDICITY' has 0 missing values.\n",
      "Column 'ANNDATS' has 0 missing values.\n",
      "Column 'VALUE' has 162651 missing values.\n"
     ]
    }
   ],
   "source": [
    "# For Actual\n",
    "\n",
    "missing_values_actual = data_actual.isnull()\n",
    "\n",
    "# Count missing values and display\n",
    "for column in data_actual.columns:\n",
    "    missing_count = missing_values_actual[column].sum()\n",
    "    print(f\"Column '{column}' has {missing_count} missing values.\")"
   ]
  },
  {
   "cell_type": "code",
   "execution_count": 5,
   "id": "66129ca8-cc3a-4b14-8ae7-286ee968c84a",
   "metadata": {
    "ExecuteTime": {
     "end_time": "2023-10-22T15:24:03.190656Z",
     "start_time": "2023-10-22T15:24:03.178326Z"
    }
   },
   "outputs": [
    {
     "data": {
      "text/plain": [
       "22"
      ]
     },
     "execution_count": 5,
     "metadata": {},
     "output_type": "execute_result"
    }
   ],
   "source": [
    "# Number of unique measure\n",
    "len(data_actual['MEASURE'].unique())"
   ]
  },
  {
   "cell_type": "code",
   "execution_count": 6,
   "id": "7b20cca3-85e8-4ed2-8ddc-e5dcf1fae488",
   "metadata": {
    "ExecuteTime": {
     "end_time": "2023-10-22T15:24:05.159719Z",
     "start_time": "2023-10-22T15:24:05.064594Z"
    }
   },
   "outputs": [
    {
     "data": {
      "text/html": [
       "<div>\n",
       "<style scoped>\n",
       "    .dataframe tbody tr th:only-of-type {\n",
       "        vertical-align: middle;\n",
       "    }\n",
       "\n",
       "    .dataframe tbody tr th {\n",
       "        vertical-align: top;\n",
       "    }\n",
       "\n",
       "    .dataframe thead th {\n",
       "        text-align: right;\n",
       "    }\n",
       "</style>\n",
       "<table border=\"1\" class=\"dataframe\">\n",
       "  <thead>\n",
       "    <tr style=\"text-align: right;\">\n",
       "      <th></th>\n",
       "      <th>OFTIC</th>\n",
       "      <th>MEASURE</th>\n",
       "      <th>PENDS</th>\n",
       "    </tr>\n",
       "  </thead>\n",
       "  <tbody>\n",
       "    <tr>\n",
       "      <th>4362</th>\n",
       "      <td>GEHC</td>\n",
       "      <td>SAL</td>\n",
       "      <td>2023-03-31</td>\n",
       "    </tr>\n",
       "    <tr>\n",
       "      <th>4352</th>\n",
       "      <td>GEHC</td>\n",
       "      <td>FFO</td>\n",
       "      <td>2023-03-31</td>\n",
       "    </tr>\n",
       "    <tr>\n",
       "      <th>4342</th>\n",
       "      <td>GEHC</td>\n",
       "      <td>BPS</td>\n",
       "      <td>2023-03-31</td>\n",
       "    </tr>\n",
       "    <tr>\n",
       "      <th>4343</th>\n",
       "      <td>GEHC</td>\n",
       "      <td>CPS</td>\n",
       "      <td>2023-03-31</td>\n",
       "    </tr>\n",
       "    <tr>\n",
       "      <th>4344</th>\n",
       "      <td>GEHC</td>\n",
       "      <td>CPX</td>\n",
       "      <td>2023-03-31</td>\n",
       "    </tr>\n",
       "    <tr>\n",
       "      <th>...</th>\n",
       "      <td>...</td>\n",
       "      <td>...</td>\n",
       "      <td>...</td>\n",
       "    </tr>\n",
       "    <tr>\n",
       "      <th>10645</th>\n",
       "      <td>WM</td>\n",
       "      <td>NET</td>\n",
       "      <td>2008-09-30</td>\n",
       "    </tr>\n",
       "    <tr>\n",
       "      <th>10646</th>\n",
       "      <td>WM</td>\n",
       "      <td>OPR</td>\n",
       "      <td>2008-09-30</td>\n",
       "    </tr>\n",
       "    <tr>\n",
       "      <th>10650</th>\n",
       "      <td>WM</td>\n",
       "      <td>SAL</td>\n",
       "      <td>2008-09-30</td>\n",
       "    </tr>\n",
       "    <tr>\n",
       "      <th>10649</th>\n",
       "      <td>WM</td>\n",
       "      <td>ROE</td>\n",
       "      <td>2008-09-30</td>\n",
       "    </tr>\n",
       "    <tr>\n",
       "      <th>10639</th>\n",
       "      <td>WM</td>\n",
       "      <td>EPS</td>\n",
       "      <td>2008-09-30</td>\n",
       "    </tr>\n",
       "  </tbody>\n",
       "</table>\n",
       "<p>11025 rows × 3 columns</p>\n",
       "</div>"
      ],
      "text/plain": [
       "      OFTIC MEASURE      PENDS\n",
       "4362   GEHC     SAL 2023-03-31\n",
       "4352   GEHC     FFO 2023-03-31\n",
       "4342   GEHC     BPS 2023-03-31\n",
       "4343   GEHC     CPS 2023-03-31\n",
       "4344   GEHC     CPX 2023-03-31\n",
       "...     ...     ...        ...\n",
       "10645    WM     NET 2008-09-30\n",
       "10646    WM     OPR 2008-09-30\n",
       "10650    WM     SAL 2008-09-30\n",
       "10649    WM     ROE 2008-09-30\n",
       "10639    WM     EPS 2008-09-30\n",
       "\n",
       "[11025 rows x 3 columns]"
      ]
     },
     "execution_count": 6,
     "metadata": {},
     "output_type": "execute_result"
    }
   ],
   "source": [
    "# For Actual check quarter and value\n",
    "\n",
    "data_actual['PENDS'] = pd.to_datetime(data_actual['PENDS'])\n",
    "\n",
    "min_date_actual = data_actual.groupby(['OFTIC', 'MEASURE'])['PENDS'].min().reset_index().sort_values(by='PENDS', ascending=False)\n",
    "\n",
    "#filtered_data = data_actual.groupby(['OFTIC', 'MEASURE'])['PENDS'].min().reset_index()\n",
    "\n",
    "\n",
    "#filtered_data\n",
    "min_date_actual"
   ]
  },
  {
   "cell_type": "code",
   "execution_count": 7,
   "id": "3a029e24-c52c-4317-b649-a22aa3f0e4ea",
   "metadata": {
    "ExecuteTime": {
     "end_time": "2023-10-22T15:24:06.463137Z",
     "start_time": "2023-10-22T15:24:06.453073Z"
    }
   },
   "outputs": [
    {
     "data": {
      "text/plain": [
       "1064"
      ]
     },
     "execution_count": 7,
     "metadata": {},
     "output_type": "execute_result"
    }
   ],
   "source": [
    "filtered_df = min_date_actual[min_date_actual['PENDS'] > '2015-01-01']\n",
    "len(filtered_df)"
   ]
  },
  {
   "cell_type": "code",
   "execution_count": 8,
   "id": "3a3e4ea3-e2e9-46aa-9cf3-2d3a1a06681b",
   "metadata": {
    "ExecuteTime": {
     "end_time": "2023-10-22T15:24:07.393611Z",
     "start_time": "2023-10-22T15:24:07.386362Z"
    }
   },
   "outputs": [],
   "source": [
    "# The function which is getting the date and giving the companies as a series\n",
    "def companies_by_pends(date, df):\n",
    "    min_pends = data_actual.groupby(['OFTIC', 'MEASURE'])['PENDS'].min().reset_index().sort_values(by='PENDS', ascending=False)\n",
    "    min_pends_by_date = min_pends[min_pends['PENDS'] <= date]\n",
    "    \n",
    "    companies_by_date = min_pends_by_date['OFTIC'].unique()\n",
    "    return pd.Series(companies_by_date)"
   ]
  },
  {
   "cell_type": "code",
   "execution_count": 9,
   "id": "7d3629ee-8f5b-49ec-8656-a835c2b2c0af",
   "metadata": {
    "ExecuteTime": {
     "end_time": "2023-10-22T15:24:09.199661Z",
     "start_time": "2023-10-22T15:24:09.144334Z"
    }
   },
   "outputs": [
    {
     "data": {
      "text/plain": [
       "0      INTC\n",
       "1       WST\n",
       "2       IBM\n",
       "3       ICE\n",
       "4       IEX\n",
       "       ... \n",
       "449     HST\n",
       "450     HON\n",
       "451     HES\n",
       "452      BA\n",
       "453     STZ\n",
       "Length: 454, dtype: object"
      ]
     },
     "execution_count": 9,
     "metadata": {},
     "output_type": "execute_result"
    }
   ],
   "source": [
    "companies_by_pends('2015-01-01', data_actual)"
   ]
  },
  {
   "cell_type": "code",
   "execution_count": 10,
   "id": "9d3db5f7-8c4e-48f3-8cf9-d50719ac8ba7",
   "metadata": {
    "ExecuteTime": {
     "end_time": "2023-10-22T15:24:11.962283Z",
     "start_time": "2023-10-22T15:24:11.926853Z"
    }
   },
   "outputs": [],
   "source": [
    "# Convert 'PENDS' to datetime\n",
    "data_actual['PENDS'] = pd.to_datetime(data_actual['PENDS'])\n",
    "\n",
    "# Filter rows where 'PENDS' is greater than or equal to '2015-01-01'\n",
    "data_actual = data_actual[data_actual['PENDS'] >= '2015-01-01']\n",
    "\n",
    "# Now, data_actual contains only rows with 'PENDS' on or after '2015-01-01'"
   ]
  },
  {
   "cell_type": "code",
   "execution_count": 11,
   "id": "9458bb65",
   "metadata": {
    "ExecuteTime": {
     "end_time": "2023-10-22T15:27:54.885141Z",
     "start_time": "2023-10-22T15:27:54.600311Z"
    },
    "collapsed": false,
    "jupyter": {
     "outputs_hidden": false
    }
   },
   "outputs": [],
   "source": [
    "# Check for missing values in the DataFrame\n",
    "missing_values_actual = data_actual.isnull()\n",
    "\n",
    "# Create a boolean mask that identifies rows with one or more missing values\n",
    "rows_with_missing_values = missing_values_actual.any(axis=1)\n",
    "\n",
    "# Filter the DataFrame to include only rows with missing values\n",
    "rows_with_missing_values_df = data_actual[rows_with_missing_values]\n",
    "\n",
    "# Save the filtered DataFrame to a new CSV file\n",
    "rows_with_missing_values_df.to_csv('missing_values.csv', index=False)"
   ]
  },
  {
   "cell_type": "code",
   "execution_count": 12,
   "id": "0adcec96",
   "metadata": {
    "ExecuteTime": {
     "end_time": "2023-10-22T15:45:42.622763Z",
     "start_time": "2023-10-22T15:45:42.171240Z"
    },
    "collapsed": false,
    "jupyter": {
     "outputs_hidden": false
    }
   },
   "outputs": [
    {
     "name": "stdout",
     "output_type": "stream",
     "text": [
      "Number of missing values for each measure:\n",
      "EPS: 22\n",
      "BPS: 1269\n",
      "CPS: 1903\n",
      "CPX: 2165\n",
      "CSH: 15710\n",
      "DPS: 1828\n",
      "EBG: 2010\n",
      "EBI: 560\n",
      "EBS: 7035\n",
      "EBT: 1766\n",
      "ENT: 14262\n",
      "EPX: 0\n",
      "FFO: 14907\n",
      "GPS: 54\n",
      "GRM: 4521\n",
      "NAV: 630\n",
      "NDT: 3172\n",
      "NET: 72\n",
      "OPR: 15220\n",
      "PRE: 734\n",
      "ROA: 10623\n",
      "ROE: 5152\n",
      "SAL: 35\n"
     ]
    }
   ],
   "source": [
    "# List of measure names\n",
    "measure_names = [\n",
    "    \"EPS\", \"BPS\", \"CPS\", \"CPX\", \"CSH\", \"DPS\", \"EBG\", \"EBI\", \"EBS\", \"EBT\",\n",
    "    \"ENT\", \"EPX\", \"FFO\", \"GPS\", \"GRM\", \"NAV\", \"NDT\", \"NET\", \"OPR\", \"PRE\",\n",
    "    \"ROA\", \"ROE\", \"SAL\"\n",
    "]\n",
    "\n",
    "# Check for missing values for each measure name\n",
    "missing_values_counts = {}\n",
    "\n",
    "for measure in measure_names:\n",
    "    missing_count = data_actual[data_actual['MEASURE'] == measure]['VALUE'].isnull().sum()\n",
    "    missing_values_counts[measure] = missing_count\n",
    "\n",
    "# Print the number of missing values for each measure\n",
    "print(\"Number of missing values for each measure:\")\n",
    "for measure, count in missing_values_counts.items():\n",
    "    print(f\"{measure}: {count}\")\n"
   ]
  },
  {
   "cell_type": "code",
   "execution_count": 13,
   "id": "1c9ef334",
   "metadata": {
    "collapsed": false,
    "jupyter": {
     "outputs_hidden": false
    }
   },
   "outputs": [],
   "source": [
    "# List of measures to be dropped\n",
    "measures_to_drop = ['CSH', 'ENT', 'FFO', 'OPR', 'ROA']\n",
    "\n",
    "# Filter out rows containing specific measures\n",
    "data_actual = data_actual[~data_actual['MEASURE'].isin(measures_to_drop)]\n",
    "\n",
    "# Display the updated DataFrame after dropping the specified measures"
   ]
  },
  {
   "cell_type": "code",
   "execution_count": 14,
   "id": "e5900af4",
   "metadata": {
    "collapsed": false,
    "jupyter": {
     "outputs_hidden": false
    }
   },
   "outputs": [
    {
     "name": "stdout",
     "output_type": "stream",
     "text": [
      "EPS: 22\n",
      "BPS: 1269\n",
      "CPS: 1903\n",
      "CPX: 2165\n",
      "CSH: 0\n",
      "DPS: 1828\n",
      "EBG: 2010\n",
      "EBI: 560\n",
      "EBS: 7035\n",
      "EBT: 1766\n",
      "ENT: 0\n",
      "EPX: 0\n",
      "FFO: 0\n",
      "GPS: 54\n",
      "GRM: 4521\n",
      "NAV: 630\n",
      "NDT: 3172\n",
      "NET: 72\n",
      "OPR: 0\n",
      "PRE: 734\n",
      "ROA: 0\n",
      "ROE: 5152\n",
      "SAL: 35\n"
     ]
    }
   ],
   "source": [
    "for measure in measure_names:\n",
    "    missing_count = data_actual[data_actual['MEASURE'] == measure]['VALUE'].isnull().sum()\n",
    "    missing_values_counts[measure] = missing_count\n",
    "\n",
    "for measure, count in missing_values_counts.items():\n",
    "    print(f\"{measure}: {count}\")"
   ]
  },
  {
   "cell_type": "code",
   "execution_count": 15,
   "id": "f3be1966",
   "metadata": {
    "ExecuteTime": {
     "end_time": "2023-10-22T15:45:52.630532Z",
     "start_time": "2023-10-22T15:45:52.607221Z"
    },
    "collapsed": false,
    "jupyter": {
     "outputs_hidden": false
    }
   },
   "outputs": [
    {
     "name": "stdout",
     "output_type": "stream",
     "text": [
      "Total count of missing measures for each company:\n",
      "       CNAME  PENDS  MEASURE  PDICITY  ANNDATS  VALUE\n",
      "OFTIC                                                \n",
      "A          0      0        0        0        0     18\n",
      "AAL        0      0        0        0        0     56\n",
      "AAP        0      0        0        0        0     13\n",
      "AAPL       0      0        0        0        0      8\n",
      "ABBV       0      0        0        0        0     93\n",
      "...      ...    ...      ...      ...      ...    ...\n",
      "YUM        0      0        0        0        0     13\n",
      "ZBH        0      0        0        0        0     33\n",
      "ZBRA       0      0        0        0        0    122\n",
      "ZION       0      0        0        0        0    168\n",
      "ZTS        0      0        0        0        0     98\n",
      "\n",
      "[502 rows x 6 columns]\n"
     ]
    }
   ],
   "source": [
    "# Count missing values (NaN) for each company ('OFTIC')\n",
    "missing_values = data_actual.drop('OFTIC', axis=1).isnull().groupby(data_actual['OFTIC']).sum()\n",
    "\n",
    "# Display total count of missing measures for each company ('OFTIC')\n",
    "print(\"Total count of missing measures for each company:\")\n",
    "print(missing_values)"
   ]
  },
  {
   "cell_type": "code",
   "execution_count": 16,
   "id": "853d6408",
   "metadata": {
    "collapsed": false,
    "jupyter": {
     "outputs_hidden": false
    }
   },
   "outputs": [
    {
     "name": "stdout",
     "output_type": "stream",
     "text": [
      "Companies with more than 500 missing values:\n",
      "Empty DataFrame\n",
      "Columns: [CNAME, PENDS, MEASURE, PDICITY, ANNDATS, VALUE]\n",
      "Index: []\n"
     ]
    }
   ],
   "source": [
    "# Filter and display companies with more than 500 missing values\n",
    "companies_with_over_500_missing = missing_values[missing_values.sum(axis=1) > 500]\n",
    "\n",
    "print(\"Companies with more than 500 missing values:\")\n",
    "print(companies_with_over_500_missing)"
   ]
  },
  {
   "cell_type": "code",
   "execution_count": 17,
   "id": "92d2b497",
   "metadata": {
    "collapsed": false,
    "jupyter": {
     "outputs_hidden": false
    }
   },
   "outputs": [
    {
     "name": "stdout",
     "output_type": "stream",
     "text": [
      "       OFTIC            CNAME      PENDS MEASURE PDICITY     ANNDATS  \\\n",
      "3       PAYC  PAYCOM SOFTWARE 2015-03-31     EPS     QTR  2015-05-06   \n",
      "4       PAYC  PAYCOM SOFTWARE 2015-06-30     EPS     QTR  2015-08-04   \n",
      "5       PAYC  PAYCOM SOFTWARE 2015-09-30     EPS     QTR  2015-11-03   \n",
      "6       PAYC  PAYCOM SOFTWARE 2015-12-31     EPS     QTR  2016-02-09   \n",
      "7       PAYC  PAYCOM SOFTWARE 2016-03-31     EPS     QTR  2016-05-03   \n",
      "...      ...              ...        ...     ...     ...         ...   \n",
      "519499   TJX              TJX 2022-04-30     SAL     QTR  2022-05-18   \n",
      "519500   TJX              TJX 2022-07-31     SAL     QTR  2022-08-17   \n",
      "519501   TJX              TJX 2022-10-31     SAL     QTR  2022-11-16   \n",
      "519502   TJX              TJX 2023-01-31     SAL     QTR  2023-02-22   \n",
      "519503   TJX              TJX 2023-04-30     SAL     QTR  2023-05-17   \n",
      "\n",
      "            VALUE Quarter  \n",
      "3           0.120      Q1  \n",
      "4           0.100      Q2  \n",
      "5           0.080      Q3  \n",
      "6           0.100      Q4  \n",
      "7           0.330      Q1  \n",
      "...           ...     ...  \n",
      "519499  11406.474      Q1  \n",
      "519500  11843.008      Q2  \n",
      "519501  12166.286      Q3  \n",
      "519502  14520.000      Q4  \n",
      "519503  11783.000      Q1  \n",
      "\n",
      "[254406 rows x 8 columns]\n"
     ]
    }
   ],
   "source": [
    "# Convert 'PENDS' column to datetime\n",
    "data_actual['PENDS'] = pd.to_datetime(data_actual['PENDS'])\n",
    "\n",
    "# Define a function to extract the month and map it to quarters\n",
    "def get_quarter(month):\n",
    "    if 2 <= month <= 4:\n",
    "        return 'Q1'\n",
    "    elif 5 <= month <= 7:\n",
    "        return 'Q2'\n",
    "    elif 8 <= month <= 10:\n",
    "        return 'Q3'\n",
    "    else:  # For months 11, 12 and 1\n",
    "        return 'Q4'\n",
    "\n",
    "# Create a new 'Quarter' column based on the month extracted from 'PENDS'\n",
    "data_actual['Quarter'] = data_actual['PENDS'].dt.month.apply(get_quarter)\n",
    "\n",
    "# Display the updated DataFrame with the 'Quarter' column\n",
    "print(data_actual)"
   ]
  },
  {
   "cell_type": "code",
   "execution_count": 18,
   "id": "ba7f8f41",
   "metadata": {
    "collapsed": false,
    "jupyter": {
     "outputs_hidden": false
    }
   },
   "outputs": [
    {
     "name": "stdout",
     "output_type": "stream",
     "text": [
      "Top 10 dates with the most missing values:\n",
      "Quarter: Q1 ||| Missing Values: 1675\n",
      "Quarter: Q1 ||| Missing Values: 1470\n",
      "Quarter: Q2 ||| Missing Values: 1394\n",
      "Quarter: Q3 ||| Missing Values: 1381\n",
      "Quarter: Q4 ||| Missing Values: 1358\n",
      "Quarter: Q1 ||| Missing Values: 1115\n",
      "Quarter: Q3 ||| Missing Values: 1077\n",
      "Quarter: Q1 ||| Missing Values: 983\n",
      "Quarter: Q2 ||| Missing Values: 964\n",
      "Quarter: Q4 ||| Missing Values: 947\n"
     ]
    }
   ],
   "source": [
    "# Group by 'Quarter' and 'PENDS', count missing values (NaN)\n",
    "missing_values_by_date = data_actual.drop(['OFTIC'], axis=1).isnull().groupby([data_actual['Quarter'].astype(str), data_actual['PENDS'].dt.to_period('Q').astype(str)]).sum()\n",
    "\n",
    "# Find the top 10 dates with the most missing values\n",
    "top_10_dates_missing = missing_values_by_date.sum(axis=1).nlargest(10)\n",
    "\n",
    "print(\"Top 10 dates with the most missing values:\")\n",
    "for date in top_10_dates_missing.index:\n",
    "    quarter, year = date\n",
    "    missing_values_count = missing_values_by_date.loc[date].sum()\n",
    "    print(f\"Quarter: {quarter} ||| Missing Values: {missing_values_count}\")\n"
   ]
  },
  {
   "cell_type": "code",
   "execution_count": 19,
   "id": "2ffb10ea",
   "metadata": {
    "collapsed": false,
    "jupyter": {
     "outputs_hidden": false
    }
   },
   "outputs": [
    {
     "name": "stdout",
     "output_type": "stream",
     "text": [
      "average missing value per quarter 968.4705882352941\n"
     ]
    }
   ],
   "source": [
    "total_quarters = data_actual['Quarter'].nunique()\n",
    "total_quarters\n",
    "print(\"average missing value per quarter\",32928/34)"
   ]
  },
  {
   "cell_type": "code",
   "execution_count": 20,
   "id": "b179cd0d",
   "metadata": {
    "collapsed": false,
    "jupyter": {
     "outputs_hidden": false
    }
   },
   "outputs": [
    {
     "name": "stdout",
     "output_type": "stream",
     "text": [
      "Total number of missing values in the DataFrame: 32928\n"
     ]
    }
   ],
   "source": [
    "# Count total missing values in the entire DataFrame\n",
    "total_missing_values = data_actual.isnull().sum().sum()\n",
    "\n",
    "print(f\"Total number of missing values in the DataFrame: {total_missing_values}\")"
   ]
  },
  {
   "cell_type": "code",
   "execution_count": 21,
   "id": "b4354ed0",
   "metadata": {
    "collapsed": false,
    "jupyter": {
     "outputs_hidden": false
    }
   },
   "outputs": [
    {
     "name": "stdout",
     "output_type": "stream",
     "text": [
      "Average number of missing values according to date:\n",
      "CNAME        0.000000\n",
      "PENDS        0.000000\n",
      "MEASURE      0.000000\n",
      "PDICITY      0.000000\n",
      "ANNDATS      0.000000\n",
      "VALUE      484.235294\n",
      "Quarter      0.000000\n",
      "dtype: float64\n"
     ]
    }
   ],
   "source": [
    "# Calculate average number of missing values per date\n",
    "average_missing_values_per_date = missing_values_by_date.mean()\n",
    "\n",
    "print(\"Average number of missing values according to date:\")\n",
    "print(average_missing_values_per_date)"
   ]
  },
  {
   "cell_type": "code",
   "execution_count": 22,
   "id": "024c575b",
   "metadata": {
    "collapsed": false,
    "jupyter": {
     "outputs_hidden": false
    }
   },
   "outputs": [
    {
     "data": {
      "image/png": "[encoded data removed]",
      "text/plain": [
       "<Figure size 720x360 with 1 Axes>"
      ]
     },
     "metadata": {
      "needs_background": "light"
     },
     "output_type": "display_data"
    }
   ],
   "source": [
    "# Plotting the missing values by date\n",
    "missing_values_by_date.plot(kind='bar', figsize=(10, 5))\n",
    "plt.title('Missing Values by Date')\n",
    "plt.xlabel('Date')\n",
    "plt.ylabel('Number of Missing Values')\n",
    "plt.show()"
   ]
  },
  {
   "cell_type": "code",
   "execution_count": 23,
   "id": "879407ea",
   "metadata": {
    "collapsed": false,
    "jupyter": {
     "outputs_hidden": false
    }
   },
   "outputs": [
    {
     "name": "stdout",
     "output_type": "stream",
     "text": [
      "       OFTIC    CNAME      PENDS MEASURE PDICITY     ANNDATS       VALUE  \\\n",
      "71213      A  AGILENT 2015-01-31     BPS     QTR  2015-02-17    12.61010   \n",
      "71214      A  AGILENT 2015-04-30     BPS     QTR  2015-05-18    12.48425   \n",
      "71215      A  AGILENT 2015-07-31     BPS     QTR  2015-08-17    12.35840   \n",
      "71216      A  AGILENT 2015-10-31     BPS     QTR  2015-11-16    12.51510   \n",
      "71217      A  AGILENT 2016-01-31     BPS     QTR  2016-02-16    12.33230   \n",
      "...      ...      ...        ...     ...     ...         ...         ...   \n",
      "518414   ZTS   ZOETIS 2022-03-31     SAL     QTR  2022-05-05  1986.00000   \n",
      "518415   ZTS   ZOETIS 2022-06-30     SAL     QTR  2022-08-04  2052.00000   \n",
      "518416   ZTS   ZOETIS 2022-09-30     SAL     QTR  2022-11-03  2002.00000   \n",
      "518417   ZTS   ZOETIS 2022-12-31     SAL     QTR  2023-02-14  2040.00000   \n",
      "518418   ZTS   ZOETIS 2023-03-31     SAL     QTR  2023-05-04  2000.00000   \n",
      "\n",
      "       Quarter  \n",
      "71213       Q4  \n",
      "71214       Q1  \n",
      "71215       Q2  \n",
      "71216       Q3  \n",
      "71217       Q4  \n",
      "...        ...  \n",
      "518414      Q1  \n",
      "518415      Q2  \n",
      "518416      Q3  \n",
      "518417      Q4  \n",
      "518418      Q1  \n",
      "\n",
      "[254406 rows x 8 columns]\n"
     ]
    }
   ],
   "source": [
    "# Sort the DataFrame by 'OFTIC', 'MEASURE', and 'PENDS'\n",
    "data_actual.sort_values(by=['OFTIC', 'MEASURE', 'PENDS'], inplace=True)\n",
    "\n",
    "# Apply linear interpolation to fill missing values in the 'Value' column\n",
    "data_actual['VALUE'].interpolate(method='linear', inplace=True)\n",
    "\n",
    "# Display the updated DataFrame with missing values filled using linear interpolation\n",
    "print(data_actual)\n"
   ]
  },
  {
   "cell_type": "code",
   "execution_count": 24,
   "id": "9186ee0c",
   "metadata": {
    "collapsed": false,
    "jupyter": {
     "outputs_hidden": false
    }
   },
   "outputs": [
    {
     "name": "stdout",
     "output_type": "stream",
     "text": [
      "Number of missing values for each measure:\n",
      "EPS: 0\n",
      "BPS: 0\n",
      "CPS: 0\n",
      "CPX: 0\n",
      "CSH: 0\n",
      "DPS: 0\n",
      "EBG: 0\n",
      "EBI: 0\n",
      "EBS: 0\n",
      "EBT: 0\n",
      "ENT: 0\n",
      "EPX: 0\n",
      "FFO: 0\n",
      "GPS: 0\n",
      "GRM: 0\n",
      "NAV: 0\n",
      "NDT: 0\n",
      "NET: 0\n",
      "OPR: 0\n",
      "PRE: 0\n",
      "ROA: 0\n",
      "ROE: 0\n",
      "SAL: 0\n"
     ]
    }
   ],
   "source": [
    "for measure in measure_names:\n",
    "    missing_count = data_actual[data_actual['MEASURE'] == measure]['VALUE'].isnull().sum()\n",
    "    missing_values_counts[measure] = missing_count\n",
    "\n",
    "# Print the number of missing values for each measure\n",
    "print(\"Number of missing values for each measure:\")\n",
    "for measure, count in missing_values_counts.items():\n",
    "    print(f\"{measure}: {count}\")"
   ]
  },
  {
   "cell_type": "code",
   "execution_count": 25,
   "id": "0898395d",
   "metadata": {
    "collapsed": false,
    "jupyter": {
     "outputs_hidden": false
    }
   },
   "outputs": [],
   "source": [
    "# Write the cleaned DataFrame to a new CSV file\n",
    "data_actual.to_csv('cleaned_data.csv', index=False)"
   ]
  },
  {
   "cell_type": "code",
   "execution_count": 26,
   "id": "493efa9d",
   "metadata": {
    "collapsed": false,
    "jupyter": {
     "outputs_hidden": false
    }
   },
   "outputs": [],
   "source": [
    "cleaned_data = pd.read_csv('cleaned_data.csv')\n",
    "analyst_forecast = pd.read_csv('../../Data/Analyst Forecast.csv')\n",
    "\n",
    "# Convert 'ANNDATS' column to datetime\n",
    "analyst_forecast['ANNDATS'] = pd.to_datetime(analyst_forecast['ANNDATS'])\n",
    "\n",
    "# Filter rows where 'ANNDATS' is greater than or equal to '2015-01-01'\n",
    "analyst_forecast = analyst_forecast[analyst_forecast['ANNDATS'] >= '2015-01-01']\n",
    "# Drop the 'TICKER' column from analyst_forecast\n",
    "analyst_forecast = analyst_forecast.drop(columns='TICKER', errors='ignore')\n",
    "# Drop the 'CNAME' column from analyst_forecast\n",
    "analyst_forecast = analyst_forecast.drop(columns='CNAME', errors='ignore')\n",
    "# Rename the 'VALUE' column to 'VALUE_ANALYST' in analyst_forecast\n",
    "analyst_forecast = analyst_forecast.rename(columns={'VALUE': 'VALUE_ANALYST'})"
   ]
  },
  {
   "cell_type": "code",
   "execution_count": 27,
   "id": "75d54dc6",
   "metadata": {
    "collapsed": false,
    "jupyter": {
     "outputs_hidden": false
    }
   },
   "outputs": [
    {
     "name": "stdout",
     "output_type": "stream",
     "text": [
      "       OFTIC               ALYSNAM  VALUE_ANALYST  AMASKCD    ANNDATS Quarter\n",
      "222        A  MEEHAN             J           44.0   180911 2015-01-06  2015Q1\n",
      "223        A  COUILLARD          B           47.0   138700 2015-01-09  2015Q1\n",
      "224        A  DE BRUIN           D           44.0    86687 2015-01-22  2015Q1\n",
      "225        A  RO                 I           39.0    99673 2015-02-17  2015Q1\n",
      "226        A  DE BRUIN           D           45.0    86687 2015-02-17  2015Q1\n",
      "...      ...                   ...            ...      ...        ...     ...\n",
      "404815   ZTS  CHESNEY            S          225.0   130921 2023-05-05  2023Q2\n",
      "404816   ZTS  RICH               N          204.0   157521 2023-05-07  2023Q2\n",
      "404817   ZTS  WESTENBERG         D          210.0   185530 2023-05-07  2023Q2\n",
      "404818   ZTS  MAJUMDAR           I          190.0   194536 2023-06-08  2023Q2\n",
      "404819   ZTS  HARDY              S          174.0   196139 2023-06-12  2023Q2\n",
      "\n",
      "[287125 rows x 6 columns]\n"
     ]
    }
   ],
   "source": [
    "# Define a function to generate the 'Quarter' column with year\n",
    "def get_quarter_with_year(date):\n",
    "    year = date.year\n",
    "    quarter = None\n",
    "\n",
    "    if 1 <= date.month <= 3:\n",
    "        quarter = 'Q1'\n",
    "    elif 4 <= date.month <= 6:\n",
    "        quarter = 'Q2'\n",
    "    elif 7 <= date.month <= 9:\n",
    "        quarter = 'Q3'\n",
    "    else:\n",
    "        quarter = 'Q4'\n",
    "\n",
    "    return f\"{year}{quarter}\"\n",
    "\n",
    "# Create a new 'Quarter' column including the year and quarter information\n",
    "analyst_forecast['Quarter'] = analyst_forecast['ANNDATS'].apply(get_quarter_with_year)\n",
    "\n",
    "# Display the updated DataFrame with the new 'Quarter' column\n",
    "print(analyst_forecast)"
   ]
  },
  {
   "cell_type": "code",
   "execution_count": null,
   "id": "1900225e",
   "metadata": {
    "collapsed": false,
    "jupyter": {
     "outputs_hidden": false
    }
   },
   "outputs": [],
   "source": []
  },
  {
   "cell_type": "code",
   "execution_count": 28,
   "id": "e91dca9f",
   "metadata": {
    "collapsed": false,
    "jupyter": {
     "outputs_hidden": false
    }
   },
   "outputs": [
    {
     "data": {
      "text/html": [
       "<div>\n",
       "<style scoped>\n",
       "    .dataframe tbody tr th:only-of-type {\n",
       "        vertical-align: middle;\n",
       "    }\n",
       "\n",
       "    .dataframe tbody tr th {\n",
       "        vertical-align: top;\n",
       "    }\n",
       "\n",
       "    .dataframe thead th {\n",
       "        text-align: right;\n",
       "    }\n",
       "</style>\n",
       "<table border=\"1\" class=\"dataframe\">\n",
       "  <thead>\n",
       "    <tr style=\"text-align: right;\">\n",
       "      <th></th>\n",
       "      <th>OFTIC</th>\n",
       "      <th>CNAME</th>\n",
       "      <th>PENDS</th>\n",
       "      <th>MEASURE</th>\n",
       "      <th>PDICITY</th>\n",
       "      <th>ANNDATS_x</th>\n",
       "      <th>VALUE</th>\n",
       "      <th>Quarter</th>\n",
       "      <th>ALYSNAM</th>\n",
       "      <th>VALUE_ANALYST</th>\n",
       "      <th>AMASKCD</th>\n",
       "      <th>ANNDATS_y</th>\n",
       "    </tr>\n",
       "  </thead>\n",
       "  <tbody>\n",
       "  </tbody>\n",
       "</table>\n",
       "</div>"
      ],
      "text/plain": [
       "Empty DataFrame\n",
       "Columns: [OFTIC, CNAME, PENDS, MEASURE, PDICITY, ANNDATS_x, VALUE, Quarter, ALYSNAM, VALUE_ANALYST, AMASKCD, ANNDATS_y]\n",
       "Index: []"
      ]
     },
     "execution_count": 28,
     "metadata": {},
     "output_type": "execute_result"
    }
   ],
   "source": [
    "# Merge the two DataFrames on 'OFTIC' and 'Quarter'\n",
    "merged_data = pd.merge(cleaned_data, analyst_forecast, on=['OFTIC', 'Quarter'], how='inner')\n",
    "\n",
    "# Display or manipulate the merged data as needed\n",
    "merged_data\n",
    "\n"
   ]
  },
  {
   "cell_type": "code",
   "execution_count": 29,
   "id": "0e0316ee",
   "metadata": {
    "collapsed": false,
    "jupyter": {
     "outputs_hidden": false
    }
   },
   "outputs": [
    {
     "data": {
      "text/html": [
       "<div>\n",
       "<style scoped>\n",
       "    .dataframe tbody tr th:only-of-type {\n",
       "        vertical-align: middle;\n",
       "    }\n",
       "\n",
       "    .dataframe tbody tr th {\n",
       "        vertical-align: top;\n",
       "    }\n",
       "\n",
       "    .dataframe thead th {\n",
       "        text-align: right;\n",
       "    }\n",
       "</style>\n",
       "<table border=\"1\" class=\"dataframe\">\n",
       "  <thead>\n",
       "    <tr style=\"text-align: right;\">\n",
       "      <th></th>\n",
       "      <th>OFTIC</th>\n",
       "      <th>ALYSNAM</th>\n",
       "      <th>VALUE_ANALYST</th>\n",
       "      <th>AMASKCD</th>\n",
       "      <th>ANNDATS</th>\n",
       "      <th>Quarter</th>\n",
       "    </tr>\n",
       "  </thead>\n",
       "  <tbody>\n",
       "    <tr>\n",
       "      <th>222</th>\n",
       "      <td>A</td>\n",
       "      <td>MEEHAN             J</td>\n",
       "      <td>44.0</td>\n",
       "      <td>180911</td>\n",
       "      <td>2015-01-06</td>\n",
       "      <td>2015Q1</td>\n",
       "    </tr>\n",
       "    <tr>\n",
       "      <th>223</th>\n",
       "      <td>A</td>\n",
       "      <td>COUILLARD          B</td>\n",
       "      <td>47.0</td>\n",
       "      <td>138700</td>\n",
       "      <td>2015-01-09</td>\n",
       "      <td>2015Q1</td>\n",
       "    </tr>\n",
       "    <tr>\n",
       "      <th>224</th>\n",
       "      <td>A</td>\n",
       "      <td>DE BRUIN           D</td>\n",
       "      <td>44.0</td>\n",
       "      <td>86687</td>\n",
       "      <td>2015-01-22</td>\n",
       "      <td>2015Q1</td>\n",
       "    </tr>\n",
       "    <tr>\n",
       "      <th>225</th>\n",
       "      <td>A</td>\n",
       "      <td>RO                 I</td>\n",
       "      <td>39.0</td>\n",
       "      <td>99673</td>\n",
       "      <td>2015-02-17</td>\n",
       "      <td>2015Q1</td>\n",
       "    </tr>\n",
       "    <tr>\n",
       "      <th>226</th>\n",
       "      <td>A</td>\n",
       "      <td>DE BRUIN           D</td>\n",
       "      <td>45.0</td>\n",
       "      <td>86687</td>\n",
       "      <td>2015-02-17</td>\n",
       "      <td>2015Q1</td>\n",
       "    </tr>\n",
       "    <tr>\n",
       "      <th>...</th>\n",
       "      <td>...</td>\n",
       "      <td>...</td>\n",
       "      <td>...</td>\n",
       "      <td>...</td>\n",
       "      <td>...</td>\n",
       "      <td>...</td>\n",
       "    </tr>\n",
       "    <tr>\n",
       "      <th>404815</th>\n",
       "      <td>ZTS</td>\n",
       "      <td>CHESNEY            S</td>\n",
       "      <td>225.0</td>\n",
       "      <td>130921</td>\n",
       "      <td>2023-05-05</td>\n",
       "      <td>2023Q2</td>\n",
       "    </tr>\n",
       "    <tr>\n",
       "      <th>404816</th>\n",
       "      <td>ZTS</td>\n",
       "      <td>RICH               N</td>\n",
       "      <td>204.0</td>\n",
       "      <td>157521</td>\n",
       "      <td>2023-05-07</td>\n",
       "      <td>2023Q2</td>\n",
       "    </tr>\n",
       "    <tr>\n",
       "      <th>404817</th>\n",
       "      <td>ZTS</td>\n",
       "      <td>WESTENBERG         D</td>\n",
       "      <td>210.0</td>\n",
       "      <td>185530</td>\n",
       "      <td>2023-05-07</td>\n",
       "      <td>2023Q2</td>\n",
       "    </tr>\n",
       "    <tr>\n",
       "      <th>404818</th>\n",
       "      <td>ZTS</td>\n",
       "      <td>MAJUMDAR           I</td>\n",
       "      <td>190.0</td>\n",
       "      <td>194536</td>\n",
       "      <td>2023-06-08</td>\n",
       "      <td>2023Q2</td>\n",
       "    </tr>\n",
       "    <tr>\n",
       "      <th>404819</th>\n",
       "      <td>ZTS</td>\n",
       "      <td>HARDY              S</td>\n",
       "      <td>174.0</td>\n",
       "      <td>196139</td>\n",
       "      <td>2023-06-12</td>\n",
       "      <td>2023Q2</td>\n",
       "    </tr>\n",
       "  </tbody>\n",
       "</table>\n",
       "<p>287125 rows × 6 columns</p>\n",
       "</div>"
      ],
      "text/plain": [
       "       OFTIC               ALYSNAM  VALUE_ANALYST  AMASKCD    ANNDATS Quarter\n",
       "222        A  MEEHAN             J           44.0   180911 2015-01-06  2015Q1\n",
       "223        A  COUILLARD          B           47.0   138700 2015-01-09  2015Q1\n",
       "224        A  DE BRUIN           D           44.0    86687 2015-01-22  2015Q1\n",
       "225        A  RO                 I           39.0    99673 2015-02-17  2015Q1\n",
       "226        A  DE BRUIN           D           45.0    86687 2015-02-17  2015Q1\n",
       "...      ...                   ...            ...      ...        ...     ...\n",
       "404815   ZTS  CHESNEY            S          225.0   130921 2023-05-05  2023Q2\n",
       "404816   ZTS  RICH               N          204.0   157521 2023-05-07  2023Q2\n",
       "404817   ZTS  WESTENBERG         D          210.0   185530 2023-05-07  2023Q2\n",
       "404818   ZTS  MAJUMDAR           I          190.0   194536 2023-06-08  2023Q2\n",
       "404819   ZTS  HARDY              S          174.0   196139 2023-06-12  2023Q2\n",
       "\n",
       "[287125 rows x 6 columns]"
      ]
     },
     "execution_count": 29,
     "metadata": {},
     "output_type": "execute_result"
    }
   ],
   "source": [
    "analyst_forecast"
   ]
  },
  {
   "cell_type": "code",
   "execution_count": 92,
   "id": "b8481fc9",
   "metadata": {
    "collapsed": false,
    "jupyter": {
     "outputs_hidden": false
    }
   },
   "outputs": [
    {
     "data": {
      "text/html": [
       "<div>\n",
       "<style scoped>\n",
       "    .dataframe tbody tr th:only-of-type {\n",
       "        vertical-align: middle;\n",
       "    }\n",
       "\n",
       "    .dataframe tbody tr th {\n",
       "        vertical-align: top;\n",
       "    }\n",
       "\n",
       "    .dataframe thead th {\n",
       "        text-align: right;\n",
       "    }\n",
       "</style>\n",
       "<table border=\"1\" class=\"dataframe\">\n",
       "  <thead>\n",
       "    <tr style=\"text-align: right;\">\n",
       "      <th></th>\n",
       "      <th>OFTIC</th>\n",
       "      <th>CNAME</th>\n",
       "      <th>PENDS</th>\n",
       "      <th>MEASURE</th>\n",
       "      <th>PDICITY</th>\n",
       "      <th>ANNDATS</th>\n",
       "      <th>VALUE</th>\n",
       "      <th>Quarter</th>\n",
       "      <th>Year</th>\n",
       "    </tr>\n",
       "  </thead>\n",
       "  <tbody>\n",
       "    <tr>\n",
       "      <th>0</th>\n",
       "      <td>A</td>\n",
       "      <td>AGILENT</td>\n",
       "      <td>2015-01-31</td>\n",
       "      <td>BPS</td>\n",
       "      <td>QTR</td>\n",
       "      <td>2015-02-17</td>\n",
       "      <td>12.61010</td>\n",
       "      <td>2015Q1</td>\n",
       "      <td>2015</td>\n",
       "    </tr>\n",
       "    <tr>\n",
       "      <th>1</th>\n",
       "      <td>A</td>\n",
       "      <td>AGILENT</td>\n",
       "      <td>2015-04-30</td>\n",
       "      <td>BPS</td>\n",
       "      <td>QTR</td>\n",
       "      <td>2015-05-18</td>\n",
       "      <td>12.48425</td>\n",
       "      <td>2015Q2</td>\n",
       "      <td>2015</td>\n",
       "    </tr>\n",
       "    <tr>\n",
       "      <th>2</th>\n",
       "      <td>A</td>\n",
       "      <td>AGILENT</td>\n",
       "      <td>2015-07-31</td>\n",
       "      <td>BPS</td>\n",
       "      <td>QTR</td>\n",
       "      <td>2015-08-17</td>\n",
       "      <td>12.35840</td>\n",
       "      <td>2015Q3</td>\n",
       "      <td>2015</td>\n",
       "    </tr>\n",
       "    <tr>\n",
       "      <th>3</th>\n",
       "      <td>A</td>\n",
       "      <td>AGILENT</td>\n",
       "      <td>2015-10-31</td>\n",
       "      <td>BPS</td>\n",
       "      <td>QTR</td>\n",
       "      <td>2015-11-16</td>\n",
       "      <td>12.51510</td>\n",
       "      <td>2015Q4</td>\n",
       "      <td>2015</td>\n",
       "    </tr>\n",
       "    <tr>\n",
       "      <th>4</th>\n",
       "      <td>A</td>\n",
       "      <td>AGILENT</td>\n",
       "      <td>2016-01-31</td>\n",
       "      <td>BPS</td>\n",
       "      <td>QTR</td>\n",
       "      <td>2016-02-16</td>\n",
       "      <td>12.33230</td>\n",
       "      <td>2016Q1</td>\n",
       "      <td>2016</td>\n",
       "    </tr>\n",
       "    <tr>\n",
       "      <th>...</th>\n",
       "      <td>...</td>\n",
       "      <td>...</td>\n",
       "      <td>...</td>\n",
       "      <td>...</td>\n",
       "      <td>...</td>\n",
       "      <td>...</td>\n",
       "      <td>...</td>\n",
       "      <td>...</td>\n",
       "      <td>...</td>\n",
       "    </tr>\n",
       "    <tr>\n",
       "      <th>254401</th>\n",
       "      <td>ZTS</td>\n",
       "      <td>ZOETIS</td>\n",
       "      <td>2022-03-31</td>\n",
       "      <td>SAL</td>\n",
       "      <td>QTR</td>\n",
       "      <td>2022-05-05</td>\n",
       "      <td>1986.00000</td>\n",
       "      <td>2022Q1</td>\n",
       "      <td>2022</td>\n",
       "    </tr>\n",
       "    <tr>\n",
       "      <th>254402</th>\n",
       "      <td>ZTS</td>\n",
       "      <td>ZOETIS</td>\n",
       "      <td>2022-06-30</td>\n",
       "      <td>SAL</td>\n",
       "      <td>QTR</td>\n",
       "      <td>2022-08-04</td>\n",
       "      <td>2052.00000</td>\n",
       "      <td>2022Q2</td>\n",
       "      <td>2022</td>\n",
       "    </tr>\n",
       "    <tr>\n",
       "      <th>254403</th>\n",
       "      <td>ZTS</td>\n",
       "      <td>ZOETIS</td>\n",
       "      <td>2022-09-30</td>\n",
       "      <td>SAL</td>\n",
       "      <td>QTR</td>\n",
       "      <td>2022-11-03</td>\n",
       "      <td>2002.00000</td>\n",
       "      <td>2022Q3</td>\n",
       "      <td>2022</td>\n",
       "    </tr>\n",
       "    <tr>\n",
       "      <th>254404</th>\n",
       "      <td>ZTS</td>\n",
       "      <td>ZOETIS</td>\n",
       "      <td>2022-12-31</td>\n",
       "      <td>SAL</td>\n",
       "      <td>QTR</td>\n",
       "      <td>2023-02-14</td>\n",
       "      <td>2040.00000</td>\n",
       "      <td>2022Q4</td>\n",
       "      <td>2022</td>\n",
       "    </tr>\n",
       "    <tr>\n",
       "      <th>254405</th>\n",
       "      <td>ZTS</td>\n",
       "      <td>ZOETIS</td>\n",
       "      <td>2023-03-31</td>\n",
       "      <td>SAL</td>\n",
       "      <td>QTR</td>\n",
       "      <td>2023-05-04</td>\n",
       "      <td>2000.00000</td>\n",
       "      <td>2023Q1</td>\n",
       "      <td>2023</td>\n",
       "    </tr>\n",
       "  </tbody>\n",
       "</table>\n",
       "<p>254406 rows × 9 columns</p>\n",
       "</div>"
      ],
      "text/plain": [
       "       OFTIC    CNAME       PENDS MEASURE PDICITY     ANNDATS       VALUE  \\\n",
       "0          A  AGILENT  2015-01-31     BPS     QTR  2015-02-17    12.61010   \n",
       "1          A  AGILENT  2015-04-30     BPS     QTR  2015-05-18    12.48425   \n",
       "2          A  AGILENT  2015-07-31     BPS     QTR  2015-08-17    12.35840   \n",
       "3          A  AGILENT  2015-10-31     BPS     QTR  2015-11-16    12.51510   \n",
       "4          A  AGILENT  2016-01-31     BPS     QTR  2016-02-16    12.33230   \n",
       "...      ...      ...         ...     ...     ...         ...         ...   \n",
       "254401   ZTS   ZOETIS  2022-03-31     SAL     QTR  2022-05-05  1986.00000   \n",
       "254402   ZTS   ZOETIS  2022-06-30     SAL     QTR  2022-08-04  2052.00000   \n",
       "254403   ZTS   ZOETIS  2022-09-30     SAL     QTR  2022-11-03  2002.00000   \n",
       "254404   ZTS   ZOETIS  2022-12-31     SAL     QTR  2023-02-14  2040.00000   \n",
       "254405   ZTS   ZOETIS  2023-03-31     SAL     QTR  2023-05-04  2000.00000   \n",
       "\n",
       "       Quarter  Year  \n",
       "0       2015Q1  2015  \n",
       "1       2015Q2  2015  \n",
       "2       2015Q3  2015  \n",
       "3       2015Q4  2015  \n",
       "4       2016Q1  2016  \n",
       "...        ...   ...  \n",
       "254401  2022Q1  2022  \n",
       "254402  2022Q2  2022  \n",
       "254403  2022Q3  2022  \n",
       "254404  2022Q4  2022  \n",
       "254405  2023Q1  2023  \n",
       "\n",
       "[254406 rows x 9 columns]"
      ]
     },
     "execution_count": 92,
     "metadata": {},
     "output_type": "execute_result"
    }
   ],
   "source": [
    "cleaned_data"
   ]
  },
  {
   "cell_type": "code",
   "execution_count": 93,
   "id": "63911320",
   "metadata": {
    "collapsed": false,
    "jupyter": {
     "outputs_hidden": false
    }
   },
   "outputs": [],
   "source": [
    "# Write the merged data to a new CSV file\n",
    "merged_data.to_csv('merged_data.csv', index=False)"
   ]
  },
  {
   "cell_type": "code",
   "execution_count": null,
   "id": "dacff655",
   "metadata": {
    "collapsed": false,
    "jupyter": {
     "outputs_hidden": false
    }
   },
   "outputs": [],
   "source": []
  }
 ],
 "metadata": {
  "kernelspec": {
   "display_name": "Python 3 (ipykernel)",
   "language": "python",
   "name": "python3"
  },
  "language_info": {
   "codemirror_mode": {
    "name": "ipython",
    "version": 3
   },
   "file_extension": ".py",
   "mimetype": "text/x-python",
   "name": "python",
   "nbconvert_exporter": "python",
   "pygments_lexer": "ipython3",
   "version": "3.9.12"
  }
 },
 "nbformat": 4,
 "nbformat_minor": 5
}
